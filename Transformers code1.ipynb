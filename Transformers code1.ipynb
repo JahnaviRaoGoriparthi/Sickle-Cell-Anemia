{
 "cells": [
  {
   "cell_type": "code",
   "execution_count": 2,
   "id": "a3e08a84-0b73-4ea1-9097-457553a3bc41",
   "metadata": {},
   "outputs": [
    {
     "name": "stdout",
     "output_type": "stream",
     "text": [
      "Class Proportions:\n",
      "Negatives: 1000 Positives: 1000\n"
     ]
    }
   ],
   "source": [
    "import os\n",
    "import cv2\n",
    "import numpy as np\n",
    "import imgaug.augmenters as iaa\n",
    "import matplotlib.pyplot as plt\n",
    "\n",
    "# Define constants\n",
    "data_path = \"/Users/yanthraa/Desktop/PROJECT/NEW DATASET/archive\"\n",
    "target_size = (224, 224)\n",
    "target_count = 1000  # Desired number of images per class\n",
    "output_path = \"/Users/yanthraa/Desktop/PROJECT/NEW DATASET/Augmented_Dataset\"  # Output directory\n",
    "\n",
    "# Ensure output directories exist\n",
    "os.makedirs(output_path, exist_ok=True)\n",
    "for class_name in ['Negatives', 'Positives']:\n",
    "    os.makedirs(os.path.join(output_path, class_name), exist_ok=True)\n",
    "\n",
    "# Define augmentation sequence\n",
    "augmenters = iaa.Sequential([\n",
    "    iaa.Fliplr(0.5),  # Horizontal flip\n",
    "    iaa.Affine(rotate=(-15, 15)),  # Rotate between -15 and 15 degrees\n",
    "    iaa.GaussianBlur(sigma=(0.0, 1.0)),  # Apply Gaussian blur\n",
    "    iaa.AdditiveGaussianNoise(scale=(0, 0.05*255)),  # Add noise\n",
    "    iaa.Multiply((0.8, 1.2))  # Brightness adjustments\n",
    "])\n",
    "\n",
    "# Load and preprocess data\n",
    "images = []\n",
    "labels = []\n",
    "\n",
    "for class_name in ['Negatives', 'Positives']:\n",
    "    class_path = os.path.join(data_path, class_name)\n",
    "    class_images = []\n",
    "    label = 0 if class_name == 'Negatives' else 1\n",
    "    \n",
    "    # Load original images\n",
    "    for image_name in os.listdir(class_path):\n",
    "        image_path = os.path.join(class_path, image_name)\n",
    "        img = cv2.imread(image_path, cv2.IMREAD_GRAYSCALE)\n",
    "        img = cv2.resize(img, target_size)\n",
    "        img = img.astype(np.float32) / 255.0\n",
    "        class_images.append(img)\n",
    "    \n",
    "    # Augment images until target count is reached\n",
    "    while len(class_images) < target_count:\n",
    "        augmented_images = augmenters(images=class_images[:min(len(class_images), target_count - len(class_images))])\n",
    "        class_images.extend(augmented_images)\n",
    "    \n",
    "    class_images = class_images[:target_count]  # Trim excess\n",
    "    images.extend(class_images)\n",
    "    labels.extend([label] * target_count)\n",
    "    \n",
    "    # Save augmented images\n",
    "    for idx, img in enumerate(class_images):\n",
    "        save_path = os.path.join(output_path, class_name, f\"aug_{idx}.png\")\n",
    "        cv2.imwrite(save_path, (img * 255).astype(np.uint8))\n",
    "\n",
    "# Convert to NumPy arrays\n",
    "images = np.array(images)\n",
    "labels = np.array(labels)\n",
    "\n",
    "# Print class proportions\n",
    "print(\"Class Proportions:\")\n",
    "print(\"Negatives:\", np.sum(labels == 0), \"Positives:\", np.sum(labels == 1))\n"
   ]
  },
  {
   "cell_type": "code",
   "execution_count": 3,
   "id": "e10a5879-c1b2-43a6-bc97-8b99c4642c6e",
   "metadata": {},
   "outputs": [
    {
     "name": "stdout",
     "output_type": "stream",
     "text": [
      "Balanced Images: (1000, 224, 224)\n",
      "Balanced labels: (1000,)\n",
      "Negatives_images: (500, 224, 224)\n",
      "Positives_images: (500, 224, 224)\n",
      "X_train shape: (720, 224, 224)\n",
      "X_test shape: (200, 224, 224)\n",
      "y_train shape: (720,)\n",
      "y_test shape: (200,)\n"
     ]
    }
   ],
   "source": [
    "from sklearn.model_selection import train_test_split\n",
    "\n",
    "# Separate data for Negatives and Positives classes\n",
    "Negatives_images = images[labels == 0][:500]\n",
    "Positives_images = images[labels == 1][:500]\n",
    "Negatives_labels = labels[labels == 0][:500]\n",
    "Positives_labels = labels[labels == 1][:500]\n",
    "\n",
    "# Concatenate the data back together\n",
    "balanced_images = np.concatenate([Negatives_images, Positives_images])\n",
    "balanced_labels = np.concatenate([Negatives_labels, Positives_labels])\n",
    "\n",
    "\n",
    "# Split the data into training and testing sets\n",
    "X_train_full, X_test, y_train_full, y_test = train_test_split(balanced_images, balanced_labels, test_size=0.2, random_state=42)\n",
    "\n",
    "# Split the training data into training and validation sets\n",
    "X_train, X_valid, y_train, y_valid = train_test_split(X_train_full, y_train_full, test_size=0.1, random_state=42)\n",
    "\n",
    "#print the balanced data\n",
    "print(\"Balanced Images:\",balanced_images.shape)\n",
    "print(\"Balanced labels:\",balanced_labels.shape)\n",
    "\n",
    "#print the data seperately of each class\n",
    "print(\"Negatives_images:\",Negatives_images.shape)\n",
    "print(\"Positives_images:\",Positives_images.shape)\n",
    "\n",
    "\n",
    "# Print the shapes of the training and testing sets\n",
    "print(\"X_train shape:\", X_train.shape)\n",
    "print(\"X_test shape:\", X_test.shape)\n",
    "print(\"y_train shape:\", y_train.shape)\n",
    "print(\"y_test shape:\", y_test.shape)\n"
   ]
  },
  {
   "cell_type": "code",
   "execution_count": 4,
   "id": "5b0ab6e3-e533-4e8a-8530-4da24bbbd631",
   "metadata": {},
   "outputs": [],
   "source": [
    "# Create a combined training dataset to use with KFold\n",
    "X_train_combined = np.concatenate([X_train, X_valid])\n",
    "y_train_combined = np.concatenate([y_train, y_valid])"
   ]
  },
  {
   "cell_type": "code",
   "execution_count": 5,
   "id": "22561f18-70be-4ae6-b41a-94d80411052e",
   "metadata": {},
   "outputs": [
    {
     "name": "stdout",
     "output_type": "stream",
     "text": [
      "Requirement already satisfied: transformers in /opt/anaconda3/lib/python3.12/site-packages (4.49.0)\n",
      "Requirement already satisfied: filelock in /opt/anaconda3/lib/python3.12/site-packages (from transformers) (3.13.1)\n",
      "Requirement already satisfied: huggingface-hub<1.0,>=0.26.0 in /opt/anaconda3/lib/python3.12/site-packages (from transformers) (0.29.1)\n",
      "Requirement already satisfied: numpy>=1.17 in /opt/anaconda3/lib/python3.12/site-packages (from transformers) (1.26.4)\n",
      "Requirement already satisfied: packaging>=20.0 in /opt/anaconda3/lib/python3.12/site-packages (from transformers) (24.1)\n",
      "Requirement already satisfied: pyyaml>=5.1 in /opt/anaconda3/lib/python3.12/site-packages (from transformers) (6.0.1)\n",
      "Requirement already satisfied: regex!=2019.12.17 in /opt/anaconda3/lib/python3.12/site-packages (from transformers) (2024.9.11)\n",
      "Requirement already satisfied: requests in /opt/anaconda3/lib/python3.12/site-packages (from transformers) (2.32.3)\n",
      "Requirement already satisfied: tokenizers<0.22,>=0.21 in /opt/anaconda3/lib/python3.12/site-packages (from transformers) (0.21.0)\n",
      "Requirement already satisfied: safetensors>=0.4.1 in /opt/anaconda3/lib/python3.12/site-packages (from transformers) (0.5.2)\n",
      "Requirement already satisfied: tqdm>=4.27 in /opt/anaconda3/lib/python3.12/site-packages (from transformers) (4.66.5)\n",
      "Requirement already satisfied: fsspec>=2023.5.0 in /opt/anaconda3/lib/python3.12/site-packages (from huggingface-hub<1.0,>=0.26.0->transformers) (2024.6.1)\n",
      "Requirement already satisfied: typing-extensions>=3.7.4.3 in /opt/anaconda3/lib/python3.12/site-packages (from huggingface-hub<1.0,>=0.26.0->transformers) (4.11.0)\n",
      "Requirement already satisfied: charset-normalizer<4,>=2 in /opt/anaconda3/lib/python3.12/site-packages (from requests->transformers) (3.3.2)\n",
      "Requirement already satisfied: idna<4,>=2.5 in /opt/anaconda3/lib/python3.12/site-packages (from requests->transformers) (3.7)\n",
      "Requirement already satisfied: urllib3<3,>=1.21.1 in /opt/anaconda3/lib/python3.12/site-packages (from requests->transformers) (2.2.3)\n",
      "Requirement already satisfied: certifi>=2017.4.17 in /opt/anaconda3/lib/python3.12/site-packages (from requests->transformers) (2025.1.31)\n",
      "Note: you may need to restart the kernel to use updated packages.\n"
     ]
    }
   ],
   "source": [
    "pip install transformers"
   ]
  },
  {
   "cell_type": "code",
   "execution_count": 6,
   "id": "8928d69d-d37e-4279-994a-2fc651510d87",
   "metadata": {},
   "outputs": [
    {
     "name": "stdout",
     "output_type": "stream",
     "text": [
      "Requirement already satisfied: tf-keras in /opt/anaconda3/lib/python3.12/site-packages (2.18.0)\n",
      "Requirement already satisfied: tensorflow<2.19,>=2.18 in /opt/anaconda3/lib/python3.12/site-packages (from tf-keras) (2.18.0)\n",
      "Requirement already satisfied: absl-py>=1.0.0 in /opt/anaconda3/lib/python3.12/site-packages (from tensorflow<2.19,>=2.18->tf-keras) (2.1.0)\n",
      "Requirement already satisfied: astunparse>=1.6.0 in /opt/anaconda3/lib/python3.12/site-packages (from tensorflow<2.19,>=2.18->tf-keras) (1.6.3)\n",
      "Requirement already satisfied: flatbuffers>=24.3.25 in /opt/anaconda3/lib/python3.12/site-packages (from tensorflow<2.19,>=2.18->tf-keras) (25.1.24)\n",
      "Requirement already satisfied: gast!=0.5.0,!=0.5.1,!=0.5.2,>=0.2.1 in /opt/anaconda3/lib/python3.12/site-packages (from tensorflow<2.19,>=2.18->tf-keras) (0.6.0)\n",
      "Requirement already satisfied: google-pasta>=0.1.1 in /opt/anaconda3/lib/python3.12/site-packages (from tensorflow<2.19,>=2.18->tf-keras) (0.2.0)\n",
      "Requirement already satisfied: libclang>=13.0.0 in /opt/anaconda3/lib/python3.12/site-packages (from tensorflow<2.19,>=2.18->tf-keras) (18.1.1)\n",
      "Requirement already satisfied: opt-einsum>=2.3.2 in /opt/anaconda3/lib/python3.12/site-packages (from tensorflow<2.19,>=2.18->tf-keras) (3.4.0)\n",
      "Requirement already satisfied: packaging in /opt/anaconda3/lib/python3.12/site-packages (from tensorflow<2.19,>=2.18->tf-keras) (24.1)\n",
      "Requirement already satisfied: protobuf!=4.21.0,!=4.21.1,!=4.21.2,!=4.21.3,!=4.21.4,!=4.21.5,<6.0.0dev,>=3.20.3 in /opt/anaconda3/lib/python3.12/site-packages (from tensorflow<2.19,>=2.18->tf-keras) (4.25.3)\n",
      "Requirement already satisfied: requests<3,>=2.21.0 in /opt/anaconda3/lib/python3.12/site-packages (from tensorflow<2.19,>=2.18->tf-keras) (2.32.3)\n",
      "Requirement already satisfied: setuptools in /opt/anaconda3/lib/python3.12/site-packages (from tensorflow<2.19,>=2.18->tf-keras) (75.1.0)\n",
      "Requirement already satisfied: six>=1.12.0 in /opt/anaconda3/lib/python3.12/site-packages (from tensorflow<2.19,>=2.18->tf-keras) (1.16.0)\n",
      "Requirement already satisfied: termcolor>=1.1.0 in /opt/anaconda3/lib/python3.12/site-packages (from tensorflow<2.19,>=2.18->tf-keras) (2.5.0)\n",
      "Requirement already satisfied: typing-extensions>=3.6.6 in /opt/anaconda3/lib/python3.12/site-packages (from tensorflow<2.19,>=2.18->tf-keras) (4.11.0)\n",
      "Requirement already satisfied: wrapt>=1.11.0 in /opt/anaconda3/lib/python3.12/site-packages (from tensorflow<2.19,>=2.18->tf-keras) (1.14.1)\n",
      "Requirement already satisfied: grpcio<2.0,>=1.24.3 in /opt/anaconda3/lib/python3.12/site-packages (from tensorflow<2.19,>=2.18->tf-keras) (1.70.0)\n",
      "Requirement already satisfied: tensorboard<2.19,>=2.18 in /opt/anaconda3/lib/python3.12/site-packages (from tensorflow<2.19,>=2.18->tf-keras) (2.18.0)\n",
      "Requirement already satisfied: keras>=3.5.0 in /opt/anaconda3/lib/python3.12/site-packages (from tensorflow<2.19,>=2.18->tf-keras) (3.8.0)\n",
      "Requirement already satisfied: numpy<2.1.0,>=1.26.0 in /opt/anaconda3/lib/python3.12/site-packages (from tensorflow<2.19,>=2.18->tf-keras) (1.26.4)\n",
      "Requirement already satisfied: h5py>=3.11.0 in /opt/anaconda3/lib/python3.12/site-packages (from tensorflow<2.19,>=2.18->tf-keras) (3.11.0)\n",
      "Requirement already satisfied: ml-dtypes<0.5.0,>=0.4.0 in /opt/anaconda3/lib/python3.12/site-packages (from tensorflow<2.19,>=2.18->tf-keras) (0.4.1)\n",
      "Requirement already satisfied: wheel<1.0,>=0.23.0 in /opt/anaconda3/lib/python3.12/site-packages (from astunparse>=1.6.0->tensorflow<2.19,>=2.18->tf-keras) (0.44.0)\n",
      "Requirement already satisfied: rich in /opt/anaconda3/lib/python3.12/site-packages (from keras>=3.5.0->tensorflow<2.19,>=2.18->tf-keras) (13.7.1)\n",
      "Requirement already satisfied: namex in /opt/anaconda3/lib/python3.12/site-packages (from keras>=3.5.0->tensorflow<2.19,>=2.18->tf-keras) (0.0.8)\n",
      "Requirement already satisfied: optree in /opt/anaconda3/lib/python3.12/site-packages (from keras>=3.5.0->tensorflow<2.19,>=2.18->tf-keras) (0.14.0)\n",
      "Requirement already satisfied: charset-normalizer<4,>=2 in /opt/anaconda3/lib/python3.12/site-packages (from requests<3,>=2.21.0->tensorflow<2.19,>=2.18->tf-keras) (3.3.2)\n",
      "Requirement already satisfied: idna<4,>=2.5 in /opt/anaconda3/lib/python3.12/site-packages (from requests<3,>=2.21.0->tensorflow<2.19,>=2.18->tf-keras) (3.7)\n",
      "Requirement already satisfied: urllib3<3,>=1.21.1 in /opt/anaconda3/lib/python3.12/site-packages (from requests<3,>=2.21.0->tensorflow<2.19,>=2.18->tf-keras) (2.2.3)\n",
      "Requirement already satisfied: certifi>=2017.4.17 in /opt/anaconda3/lib/python3.12/site-packages (from requests<3,>=2.21.0->tensorflow<2.19,>=2.18->tf-keras) (2025.1.31)\n",
      "Requirement already satisfied: markdown>=2.6.8 in /opt/anaconda3/lib/python3.12/site-packages (from tensorboard<2.19,>=2.18->tensorflow<2.19,>=2.18->tf-keras) (3.4.1)\n",
      "Requirement already satisfied: tensorboard-data-server<0.8.0,>=0.7.0 in /opt/anaconda3/lib/python3.12/site-packages (from tensorboard<2.19,>=2.18->tensorflow<2.19,>=2.18->tf-keras) (0.7.2)\n",
      "Requirement already satisfied: werkzeug>=1.0.1 in /opt/anaconda3/lib/python3.12/site-packages (from tensorboard<2.19,>=2.18->tensorflow<2.19,>=2.18->tf-keras) (3.0.3)\n",
      "Requirement already satisfied: MarkupSafe>=2.1.1 in /opt/anaconda3/lib/python3.12/site-packages (from werkzeug>=1.0.1->tensorboard<2.19,>=2.18->tensorflow<2.19,>=2.18->tf-keras) (2.1.3)\n",
      "Requirement already satisfied: markdown-it-py>=2.2.0 in /opt/anaconda3/lib/python3.12/site-packages (from rich->keras>=3.5.0->tensorflow<2.19,>=2.18->tf-keras) (2.2.0)\n",
      "Requirement already satisfied: pygments<3.0.0,>=2.13.0 in /opt/anaconda3/lib/python3.12/site-packages (from rich->keras>=3.5.0->tensorflow<2.19,>=2.18->tf-keras) (2.15.1)\n",
      "Requirement already satisfied: mdurl~=0.1 in /opt/anaconda3/lib/python3.12/site-packages (from markdown-it-py>=2.2.0->rich->keras>=3.5.0->tensorflow<2.19,>=2.18->tf-keras) (0.1.0)\n",
      "Note: you may need to restart the kernel to use updated packages.\n"
     ]
    }
   ],
   "source": [
    "pip install tf-keras"
   ]
  },
  {
   "cell_type": "code",
   "execution_count": 7,
   "id": "f067d5ea-38a7-4c01-a40c-97061ec8d1b6",
   "metadata": {},
   "outputs": [],
   "source": [
    "# New import statements to add\n",
    "from sklearn.metrics import matthews_corrcoef, cohen_kappa_score, balanced_accuracy_score\n",
    "from sklearn.metrics import log_loss\n",
    "import numpy as np\n",
    "import pandas as pd\n",
    "from sklearn.model_selection import KFold\n",
    "from sklearn.metrics import f1_score, confusion_matrix\n",
    "import time\n",
    "# Add these new imports\n",
    "from sklearn.metrics import matthews_corrcoef, cohen_kappa_score, balanced_accuracy_score, log_loss\n"
   ]
  },
  {
   "cell_type": "code",
   "execution_count": 21,
   "id": "409ca401-c2be-49db-a93f-2015afa8f3ac",
   "metadata": {},
   "outputs": [
    {
     "name": "stdout",
     "output_type": "stream",
     "text": [
      "Mixed precision training enabled\n",
      "XLA JIT compilation enabled\n",
      "Training data shape after adding channels: (800, 224, 224, 3)\n",
      "Test data shape after adding channels: (200, 224, 224, 3)\n",
      "INFO:tensorflow:Using MirroredStrategy with devices ('/job:localhost/replica:0/task:0/device:CPU:0',)\n"
     ]
    },
    {
     "name": "stderr",
     "output_type": "stream",
     "text": [
      "INFO:tensorflow:Using MirroredStrategy with devices ('/job:localhost/replica:0/task:0/device:CPU:0',)\n"
     ]
    },
    {
     "name": "stdout",
     "output_type": "stream",
     "text": [
      "Number of devices: 1\n",
      "\n",
      "=== Training with 5-fold Cross Validation ===\n",
      "Fold 1/5\n",
      "Training fold shape: (640, 224, 224, 3)\n",
      "Validation fold shape: (160, 224, 224, 3)\n",
      "Epoch 1/50\n",
      "\u001b[1m5/5\u001b[0m \u001b[32m━━━━━━━━━━━━━━━━━━━━\u001b[0m\u001b[37m\u001b[0m \u001b[1m0s\u001b[0m 2s/step - AUC: 0.4541 - Precision: 0.4280 - Recall: 0.4094 - accuracy: 0.4530 - loss: 0.9465\n",
      "Epoch 1: val_accuracy improved from -inf to 0.51875, saving model to outputresults/model_cv5_fold1.h5\n"
     ]
    },
    {
     "name": "stderr",
     "output_type": "stream",
     "text": [
      "WARNING:absl:You are saving your model as an HDF5 file via `model.save()` or `keras.saving.save_model(model)`. This file format is considered legacy. We recommend using instead the native Keras format, e.g. `model.save('my_model.keras')` or `keras.saving.save_model(model, 'my_model.keras')`. \n"
     ]
    },
    {
     "name": "stdout",
     "output_type": "stream",
     "text": [
      "\u001b[1m5/5\u001b[0m \u001b[32m━━━━━━━━━━━━━━━━━━━━\u001b[0m\u001b[37m\u001b[0m \u001b[1m18s\u001b[0m 2s/step - AUC: 0.4533 - Precision: 0.4286 - Recall: 0.4072 - accuracy: 0.4525 - loss: 0.9538 - val_AUC: 0.7592 - val_Precision: 0.5188 - val_Recall: 1.0000 - val_accuracy: 0.5188 - val_loss: 0.8387 - learning_rate: 5.0000e-04\n",
      "Epoch 2/50\n",
      "\u001b[1m5/5\u001b[0m \u001b[32m━━━━━━━━━━━━━━━━━━━━\u001b[0m\u001b[37m\u001b[0m \u001b[1m0s\u001b[0m 1s/step - AUC: 0.4941 - Precision: 0.4888 - Recall: 0.7014 - accuracy: 0.4979 - loss: 0.7693\n",
      "Epoch 2: val_accuracy did not improve from 0.51875\n",
      "\u001b[1m5/5\u001b[0m \u001b[32m━━━━━━━━━━━━━━━━━━━━\u001b[0m\u001b[37m\u001b[0m \u001b[1m7s\u001b[0m 1s/step - AUC: 0.4951 - Precision: 0.4869 - Recall: 0.6569 - accuracy: 0.4967 - loss: 0.7675 - val_AUC: 0.7798 - val_Precision: 0.0000e+00 - val_Recall: 0.0000e+00 - val_accuracy: 0.4812 - val_loss: 0.7258 - learning_rate: 5.0000e-04\n",
      "Epoch 3/50\n",
      "\u001b[1m5/5\u001b[0m \u001b[32m━━━━━━━━━━━━━━━━━━━━\u001b[0m\u001b[37m\u001b[0m \u001b[1m0s\u001b[0m 1s/step - AUC: 0.5982 - Precision: 0.6119 - Recall: 0.4100 - accuracy: 0.5679 - loss: 0.6956\n",
      "Epoch 3: val_accuracy improved from 0.51875 to 0.71875, saving model to outputresults/model_cv5_fold1.h5\n"
     ]
    },
    {
     "name": "stderr",
     "output_type": "stream",
     "text": [
      "WARNING:absl:You are saving your model as an HDF5 file via `model.save()` or `keras.saving.save_model(model)`. This file format is considered legacy. We recommend using instead the native Keras format, e.g. `model.save('my_model.keras')` or `keras.saving.save_model(model, 'my_model.keras')`. \n"
     ]
    },
    {
     "name": "stdout",
     "output_type": "stream",
     "text": [
      "\u001b[1m5/5\u001b[0m \u001b[32m━━━━━━━━━━━━━━━━━━━━\u001b[0m\u001b[37m\u001b[0m \u001b[1m7s\u001b[0m 1s/step - AUC: 0.6011 - Precision: 0.6055 - Recall: 0.4455 - accuracy: 0.5715 - loss: 0.6937 - val_AUC: 0.7523 - val_Precision: 0.6863 - val_Recall: 0.8434 - val_accuracy: 0.7188 - val_loss: 0.6072 - learning_rate: 5.0000e-04\n",
      "Epoch 4/50\n",
      "\u001b[1m5/5\u001b[0m \u001b[32m━━━━━━━━━━━━━━━━━━━━\u001b[0m\u001b[37m\u001b[0m \u001b[1m0s\u001b[0m 1s/step - AUC: 0.6740 - Precision: 0.6489 - Recall: 0.8425 - accuracy: 0.6912 - loss: 0.6399\n",
      "Epoch 4: val_accuracy improved from 0.71875 to 0.74375, saving model to outputresults/model_cv5_fold1.h5\n"
     ]
    },
    {
     "name": "stderr",
     "output_type": "stream",
     "text": [
      "WARNING:absl:You are saving your model as an HDF5 file via `model.save()` or `keras.saving.save_model(model)`. This file format is considered legacy. We recommend using instead the native Keras format, e.g. `model.save('my_model.keras')` or `keras.saving.save_model(model, 'my_model.keras')`. \n"
     ]
    },
    {
     "name": "stdout",
     "output_type": "stream",
     "text": [
      "\u001b[1m5/5\u001b[0m \u001b[32m━━━━━━━━━━━━━━━━━━━━\u001b[0m\u001b[37m\u001b[0m \u001b[1m7s\u001b[0m 1s/step - AUC: 0.6762 - Precision: 0.6493 - Recall: 0.8294 - accuracy: 0.6900 - loss: 0.6396 - val_AUC: 0.7729 - val_Precision: 0.7143 - val_Recall: 0.8434 - val_accuracy: 0.7437 - val_loss: 0.7119 - learning_rate: 5.0000e-04\n",
      "Epoch 5/50\n",
      "\u001b[1m5/5\u001b[0m \u001b[32m━━━━━━━━━━━━━━━━━━━━\u001b[0m\u001b[37m\u001b[0m \u001b[1m0s\u001b[0m 1s/step - AUC: 0.7302 - Precision: 0.6628 - Recall: 0.7150 - accuracy: 0.6842 - loss: 0.6213\n",
      "Epoch 5: val_accuracy did not improve from 0.74375\n",
      "\u001b[1m5/5\u001b[0m \u001b[32m━━━━━━━━━━━━━━━━━━━━\u001b[0m\u001b[37m\u001b[0m \u001b[1m6s\u001b[0m 1s/step - AUC: 0.7291 - Precision: 0.6612 - Recall: 0.7295 - accuracy: 0.6861 - loss: 0.6213 - val_AUC: 0.7218 - val_Precision: 0.7000 - val_Recall: 0.8434 - val_accuracy: 0.7312 - val_loss: 0.6450 - learning_rate: 5.0000e-04\n",
      "Restoring model weights from the end of the best epoch: 4.\n",
      "Epoch 5: early stopping\n",
      "WARNING:tensorflow:5 out of the last 15 calls to <function TensorFlowTrainer.make_predict_function.<locals>.one_step_on_data_distributed at 0x14ecf4860> triggered tf.function retracing. Tracing is expensive and the excessive number of tracings could be due to (1) creating @tf.function repeatedly in a loop, (2) passing tensors with different shapes, (3) passing Python objects instead of tensors. For (1), please define your @tf.function outside of the loop. For (2), @tf.function has reduce_retracing=True option that can avoid unnecessary retracing. For (3), please refer to https://www.tensorflow.org/guide/function#controlling_retracing and https://www.tensorflow.org/api_docs/python/tf/function for  more details.\n"
     ]
    },
    {
     "name": "stderr",
     "output_type": "stream",
     "text": [
      "WARNING:tensorflow:5 out of the last 15 calls to <function TensorFlowTrainer.make_predict_function.<locals>.one_step_on_data_distributed at 0x14ecf4860> triggered tf.function retracing. Tracing is expensive and the excessive number of tracings could be due to (1) creating @tf.function repeatedly in a loop, (2) passing tensors with different shapes, (3) passing Python objects instead of tensors. For (1), please define your @tf.function outside of the loop. For (2), @tf.function has reduce_retracing=True option that can avoid unnecessary retracing. For (3), please refer to https://www.tensorflow.org/guide/function#controlling_retracing and https://www.tensorflow.org/api_docs/python/tf/function for  more details.\n"
     ]
    },
    {
     "name": "stdout",
     "output_type": "stream",
     "text": [
      "\u001b[1m7/7\u001b[0m \u001b[32m━━━━━━━━━━━━━━━━━━━━\u001b[0m\u001b[37m\u001b[0m \u001b[1m1s\u001b[0m 130ms/step\n",
      "Fold 2/5\n",
      "Training fold shape: (640, 224, 224, 3)\n",
      "Validation fold shape: (160, 224, 224, 3)\n",
      "Epoch 1/50\n",
      "\u001b[1m5/5\u001b[0m \u001b[32m━━━━━━━━━━━━━━━━━━━━\u001b[0m\u001b[37m\u001b[0m \u001b[1m0s\u001b[0m 1s/step - AUC: 0.4785 - Precision: 0.5055 - Recall: 0.4528 - accuracy: 0.4921 - loss: 0.8799\n",
      "Epoch 1: val_accuracy improved from -inf to 0.48125, saving model to outputresults/model_cv5_fold2.h5\n"
     ]
    },
    {
     "name": "stderr",
     "output_type": "stream",
     "text": [
      "WARNING:absl:You are saving your model as an HDF5 file via `model.save()` or `keras.saving.save_model(model)`. This file format is considered legacy. We recommend using instead the native Keras format, e.g. `model.save('my_model.keras')` or `keras.saving.save_model(model, 'my_model.keras')`. \n"
     ]
    },
    {
     "name": "stdout",
     "output_type": "stream",
     "text": [
      "\u001b[1m5/5\u001b[0m \u001b[32m━━━━━━━━━━━━━━━━━━━━\u001b[0m\u001b[37m\u001b[0m \u001b[1m14s\u001b[0m 1s/step - AUC: 0.4774 - Precision: 0.4990 - Recall: 0.4505 - accuracy: 0.4885 - loss: 0.8887 - val_AUC: 0.7382 - val_Precision: 0.4812 - val_Recall: 1.0000 - val_accuracy: 0.4812 - val_loss: 0.8388 - learning_rate: 5.0000e-04\n",
      "Epoch 2/50\n",
      "\u001b[1m5/5\u001b[0m \u001b[32m━━━━━━━━━━━━━━━━━━━━\u001b[0m\u001b[37m\u001b[0m \u001b[1m0s\u001b[0m 1s/step - AUC: 0.5327 - Precision: 0.5201 - Recall: 0.6044 - accuracy: 0.5170 - loss: 0.7481\n",
      "Epoch 2: val_accuracy improved from 0.48125 to 0.68125, saving model to outputresults/model_cv5_fold2.h5\n"
     ]
    },
    {
     "name": "stderr",
     "output_type": "stream",
     "text": [
      "WARNING:absl:You are saving your model as an HDF5 file via `model.save()` or `keras.saving.save_model(model)`. This file format is considered legacy. We recommend using instead the native Keras format, e.g. `model.save('my_model.keras')` or `keras.saving.save_model(model, 'my_model.keras')`. \n"
     ]
    },
    {
     "name": "stdout",
     "output_type": "stream",
     "text": [
      "\u001b[1m5/5\u001b[0m \u001b[32m━━━━━━━━━━━━━━━━━━━━\u001b[0m\u001b[37m\u001b[0m \u001b[1m7s\u001b[0m 1s/step - AUC: 0.5302 - Precision: 0.5157 - Recall: 0.5669 - accuracy: 0.5136 - loss: 0.7483 - val_AUC: 0.7480 - val_Precision: 0.6161 - val_Recall: 0.8961 - val_accuracy: 0.6812 - val_loss: 0.6632 - learning_rate: 5.0000e-04\n",
      "Epoch 3/50\n",
      "\u001b[1m5/5\u001b[0m \u001b[32m━━━━━━━━━━━━━━━━━━━━\u001b[0m\u001b[37m\u001b[0m \u001b[1m0s\u001b[0m 1s/step - AUC: 0.6138 - Precision: 0.5604 - Recall: 0.7524 - accuracy: 0.5930 - loss: 0.6805\n",
      "Epoch 3: val_accuracy did not improve from 0.68125\n",
      "\u001b[1m5/5\u001b[0m \u001b[32m━━━━━━━━━━━━━━━━━━━━\u001b[0m\u001b[37m\u001b[0m \u001b[1m6s\u001b[0m 1s/step - AUC: 0.6183 - Precision: 0.5635 - Recall: 0.7608 - accuracy: 0.5960 - loss: 0.6792 - val_AUC: 0.7514 - val_Precision: 0.6087 - val_Recall: 0.9091 - val_accuracy: 0.6750 - val_loss: 0.6228 - learning_rate: 5.0000e-04\n",
      "Epoch 4/50\n",
      "\u001b[1m5/5\u001b[0m \u001b[32m━━━━━━━━━━━━━━━━━━━━\u001b[0m\u001b[37m\u001b[0m \u001b[1m0s\u001b[0m 1s/step - AUC: 0.6960 - Precision: 0.6552 - Recall: 0.7554 - accuracy: 0.6780 - loss: 0.6430\n",
      "Epoch 4: val_accuracy improved from 0.68125 to 0.69375, saving model to outputresults/model_cv5_fold2.h5\n"
     ]
    },
    {
     "name": "stderr",
     "output_type": "stream",
     "text": [
      "WARNING:absl:You are saving your model as an HDF5 file via `model.save()` or `keras.saving.save_model(model)`. This file format is considered legacy. We recommend using instead the native Keras format, e.g. `model.save('my_model.keras')` or `keras.saving.save_model(model, 'my_model.keras')`. \n"
     ]
    },
    {
     "name": "stdout",
     "output_type": "stream",
     "text": [
      "\u001b[1m5/5\u001b[0m \u001b[32m━━━━━━━━━━━━━━━━━━━━\u001b[0m\u001b[37m\u001b[0m \u001b[1m7s\u001b[0m 1s/step - AUC: 0.6992 - Precision: 0.6553 - Recall: 0.7581 - accuracy: 0.6791 - loss: 0.6406 - val_AUC: 0.7374 - val_Precision: 0.6250 - val_Recall: 0.9091 - val_accuracy: 0.6938 - val_loss: 0.6476 - learning_rate: 5.0000e-04\n",
      "Epoch 5/50\n",
      "\u001b[1m5/5\u001b[0m \u001b[32m━━━━━━━━━━━━━━━━━━━━\u001b[0m\u001b[37m\u001b[0m \u001b[1m0s\u001b[0m 1s/step - AUC: 0.7343 - Precision: 0.6612 - Recall: 0.8670 - accuracy: 0.7109 - loss: 0.6073\n",
      "Epoch 5: val_accuracy improved from 0.69375 to 0.70000, saving model to outputresults/model_cv5_fold2.h5\n"
     ]
    },
    {
     "name": "stderr",
     "output_type": "stream",
     "text": [
      "WARNING:absl:You are saving your model as an HDF5 file via `model.save()` or `keras.saving.save_model(model)`. This file format is considered legacy. We recommend using instead the native Keras format, e.g. `model.save('my_model.keras')` or `keras.saving.save_model(model, 'my_model.keras')`. \n"
     ]
    },
    {
     "name": "stdout",
     "output_type": "stream",
     "text": [
      "\u001b[1m5/5\u001b[0m \u001b[32m━━━━━━━━━━━━━━━━━━━━\u001b[0m\u001b[37m\u001b[0m \u001b[1m7s\u001b[0m 1s/step - AUC: 0.7322 - Precision: 0.6600 - Recall: 0.8657 - accuracy: 0.7096 - loss: 0.6091 - val_AUC: 0.7295 - val_Precision: 0.6306 - val_Recall: 0.9091 - val_accuracy: 0.7000 - val_loss: 0.6100 - learning_rate: 5.0000e-04\n",
      "Epoch 6/50\n",
      "\u001b[1m5/5\u001b[0m \u001b[32m━━━━━━━━━━━━━━━━━━━━\u001b[0m\u001b[37m\u001b[0m \u001b[1m0s\u001b[0m 1s/step - AUC: 0.7414 - Precision: 0.6716 - Recall: 0.8581 - accuracy: 0.7156 - loss: 0.6048\n",
      "Epoch 6: val_accuracy did not improve from 0.70000\n",
      "\u001b[1m5/5\u001b[0m \u001b[32m━━━━━━━━━━━━━━━━━━━━\u001b[0m\u001b[37m\u001b[0m \u001b[1m7s\u001b[0m 1s/step - AUC: 0.7401 - Precision: 0.6702 - Recall: 0.8562 - accuracy: 0.7145 - loss: 0.6054 - val_AUC: 0.7491 - val_Precision: 0.6250 - val_Recall: 0.9091 - val_accuracy: 0.6938 - val_loss: 0.6215 - learning_rate: 5.0000e-04\n",
      "Restoring model weights from the end of the best epoch: 5.\n",
      "Epoch 6: early stopping\n",
      "\u001b[1m7/7\u001b[0m \u001b[32m━━━━━━━━━━━━━━━━━━━━\u001b[0m\u001b[37m\u001b[0m \u001b[1m1s\u001b[0m 132ms/step\n",
      "Fold 3/5\n",
      "Training fold shape: (640, 224, 224, 3)\n",
      "Validation fold shape: (160, 224, 224, 3)\n",
      "Epoch 1/50\n",
      "\u001b[1m5/5\u001b[0m \u001b[32m━━━━━━━━━━━━━━━━━━━━\u001b[0m\u001b[37m\u001b[0m \u001b[1m0s\u001b[0m 1s/step - AUC: 0.4670 - Precision: 0.4709 - Recall: 0.4266 - accuracy: 0.4804 - loss: 0.8441\n",
      "Epoch 1: val_accuracy improved from -inf to 0.56250, saving model to outputresults/model_cv5_fold3.h5\n"
     ]
    },
    {
     "name": "stderr",
     "output_type": "stream",
     "text": [
      "WARNING:absl:You are saving your model as an HDF5 file via `model.save()` or `keras.saving.save_model(model)`. This file format is considered legacy. We recommend using instead the native Keras format, e.g. `model.save('my_model.keras')` or `keras.saving.save_model(model, 'my_model.keras')`. \n"
     ]
    },
    {
     "name": "stdout",
     "output_type": "stream",
     "text": [
      "\u001b[1m5/5\u001b[0m \u001b[32m━━━━━━━━━━━━━━━━━━━━\u001b[0m\u001b[37m\u001b[0m \u001b[1m16s\u001b[0m 2s/step - AUC: 0.4713 - Precision: 0.4757 - Recall: 0.4481 - accuracy: 0.4821 - loss: 0.8490 - val_AUC: 0.7701 - val_Precision: 0.0000e+00 - val_Recall: 0.0000e+00 - val_accuracy: 0.5625 - val_loss: 0.6726 - learning_rate: 5.0000e-04\n",
      "Epoch 2/50\n",
      "\u001b[1m5/5\u001b[0m \u001b[32m━━━━━━━━━━━━━━━━━━━━\u001b[0m\u001b[37m\u001b[0m \u001b[1m0s\u001b[0m 1s/step - AUC: 0.4710 - Precision: 0.4515 - Recall: 0.2614 - accuracy: 0.4408 - loss: 0.7585\n",
      "Epoch 2: val_accuracy did not improve from 0.56250\n",
      "\u001b[1m5/5\u001b[0m \u001b[32m━━━━━━━━━━━━━━━━━━━━\u001b[0m\u001b[37m\u001b[0m \u001b[1m6s\u001b[0m 1s/step - AUC: 0.4739 - Precision: 0.4569 - Recall: 0.2776 - accuracy: 0.4470 - loss: 0.7557 - val_AUC: 0.7671 - val_Precision: 0.4395 - val_Recall: 0.9857 - val_accuracy: 0.4437 - val_loss: 0.7182 - learning_rate: 5.0000e-04\n",
      "Epoch 3/50\n",
      "\u001b[1m5/5\u001b[0m \u001b[32m━━━━━━━━━━━━━━━━━━━━\u001b[0m\u001b[37m\u001b[0m \u001b[1m0s\u001b[0m 1s/step - AUC: 0.6097 - Precision: 0.5777 - Recall: 0.7974 - accuracy: 0.5958 - loss: 0.6794\n",
      "Epoch 3: val_accuracy did not improve from 0.56250\n",
      "\u001b[1m5/5\u001b[0m \u001b[32m━━━━━━━━━━━━━━━━━━━━\u001b[0m\u001b[37m\u001b[0m \u001b[1m6s\u001b[0m 1s/step - AUC: 0.6118 - Precision: 0.5804 - Recall: 0.7810 - accuracy: 0.5970 - loss: 0.6780 - val_AUC: 0.7914 - val_Precision: 0.0000e+00 - val_Recall: 0.0000e+00 - val_accuracy: 0.5625 - val_loss: 0.6521 - learning_rate: 5.0000e-04\n",
      "Epoch 4/50\n",
      "\u001b[1m5/5\u001b[0m \u001b[32m━━━━━━━━━━━━━━━━━━━━\u001b[0m\u001b[37m\u001b[0m \u001b[1m0s\u001b[0m 1s/step - AUC: 0.7289 - Precision: 0.6590 - Recall: 0.6855 - accuracy: 0.6572 - loss: 0.6223\n",
      "Epoch 4: val_accuracy improved from 0.56250 to 0.69375, saving model to outputresults/model_cv5_fold3.h5\n"
     ]
    },
    {
     "name": "stderr",
     "output_type": "stream",
     "text": [
      "WARNING:absl:You are saving your model as an HDF5 file via `model.save()` or `keras.saving.save_model(model)`. This file format is considered legacy. We recommend using instead the native Keras format, e.g. `model.save('my_model.keras')` or `keras.saving.save_model(model, 'my_model.keras')`. \n"
     ]
    },
    {
     "name": "stdout",
     "output_type": "stream",
     "text": [
      "\u001b[1m5/5\u001b[0m \u001b[32m━━━━━━━━━━━━━━━━━━━━\u001b[0m\u001b[37m\u001b[0m \u001b[1m6s\u001b[0m 1s/step - AUC: 0.7311 - Precision: 0.6597 - Recall: 0.7011 - accuracy: 0.6620 - loss: 0.6208 - val_AUC: 0.7699 - val_Precision: 0.6105 - val_Recall: 0.8286 - val_accuracy: 0.6938 - val_loss: 0.6961 - learning_rate: 5.0000e-04\n",
      "Epoch 5/50\n",
      "\u001b[1m5/5\u001b[0m \u001b[32m━━━━━━━━━━━━━━━━━━━━\u001b[0m\u001b[37m\u001b[0m \u001b[1m0s\u001b[0m 1s/step - AUC: 0.7327 - Precision: 0.6655 - Recall: 0.9099 - accuracy: 0.7191 - loss: 0.6103\n",
      "Epoch 5: val_accuracy improved from 0.69375 to 0.72500, saving model to outputresults/model_cv5_fold3.h5\n"
     ]
    },
    {
     "name": "stderr",
     "output_type": "stream",
     "text": [
      "WARNING:absl:You are saving your model as an HDF5 file via `model.save()` or `keras.saving.save_model(model)`. This file format is considered legacy. We recommend using instead the native Keras format, e.g. `model.save('my_model.keras')` or `keras.saving.save_model(model, 'my_model.keras')`. \n"
     ]
    },
    {
     "name": "stdout",
     "output_type": "stream",
     "text": [
      "\u001b[1m5/5\u001b[0m \u001b[32m━━━━━━━━━━━━━━━━━━━━\u001b[0m\u001b[37m\u001b[0m \u001b[1m7s\u001b[0m 1s/step - AUC: 0.7326 - Precision: 0.6651 - Recall: 0.9055 - accuracy: 0.7180 - loss: 0.6108 - val_AUC: 0.7590 - val_Precision: 0.6477 - val_Recall: 0.8143 - val_accuracy: 0.7250 - val_loss: 0.6396 - learning_rate: 5.0000e-04\n",
      "Epoch 6/50\n",
      "\u001b[1m5/5\u001b[0m \u001b[32m━━━━━━━━━━━━━━━━━━━━\u001b[0m\u001b[37m\u001b[0m \u001b[1m0s\u001b[0m 1s/step - AUC: 0.7582 - Precision: 0.6926 - Recall: 0.8135 - accuracy: 0.7150 - loss: 0.6002\n",
      "Epoch 6: val_accuracy did not improve from 0.72500\n",
      "\u001b[1m5/5\u001b[0m \u001b[32m━━━━━━━━━━━━━━━━━━━━\u001b[0m\u001b[37m\u001b[0m \u001b[1m6s\u001b[0m 1s/step - AUC: 0.7578 - Precision: 0.6914 - Recall: 0.8205 - accuracy: 0.7169 - loss: 0.5990 - val_AUC: 0.7646 - val_Precision: 0.6304 - val_Recall: 0.8286 - val_accuracy: 0.7125 - val_loss: 0.6291 - learning_rate: 5.0000e-04\n",
      "Restoring model weights from the end of the best epoch: 5.\n",
      "Epoch 6: early stopping\n",
      "\u001b[1m7/7\u001b[0m \u001b[32m━━━━━━━━━━━━━━━━━━━━\u001b[0m\u001b[37m\u001b[0m \u001b[1m1s\u001b[0m 132ms/step\n",
      "Fold 4/5\n",
      "Training fold shape: (640, 224, 224, 3)\n",
      "Validation fold shape: (160, 224, 224, 3)\n",
      "Epoch 1/50\n",
      "\u001b[1m5/5\u001b[0m \u001b[32m━━━━━━━━━━━━━━━━━━━━\u001b[0m\u001b[37m\u001b[0m \u001b[1m0s\u001b[0m 1s/step - AUC: 0.5190 - Precision: 0.4688 - Recall: 0.4557 - accuracy: 0.5039 - loss: 0.8384\n",
      "Epoch 1: val_accuracy improved from -inf to 0.50000, saving model to outputresults/model_cv5_fold4.h5\n"
     ]
    },
    {
     "name": "stderr",
     "output_type": "stream",
     "text": [
      "WARNING:absl:You are saving your model as an HDF5 file via `model.save()` or `keras.saving.save_model(model)`. This file format is considered legacy. We recommend using instead the native Keras format, e.g. `model.save('my_model.keras')` or `keras.saving.save_model(model, 'my_model.keras')`. \n"
     ]
    },
    {
     "name": "stdout",
     "output_type": "stream",
     "text": [
      "\u001b[1m5/5\u001b[0m \u001b[32m━━━━━━━━━━━━━━━━━━━━\u001b[0m\u001b[37m\u001b[0m \u001b[1m14s\u001b[0m 1s/step - AUC: 0.5204 - Precision: 0.4756 - Recall: 0.4516 - accuracy: 0.5064 - loss: 0.8456 - val_AUC: 0.7865 - val_Precision: 0.5096 - val_Recall: 0.9639 - val_accuracy: 0.5000 - val_loss: 0.6850 - learning_rate: 5.0000e-04\n",
      "Epoch 2/50\n",
      "\u001b[1m5/5\u001b[0m \u001b[32m━━━━━━━━━━━━━━━━━━━━\u001b[0m\u001b[37m\u001b[0m \u001b[1m0s\u001b[0m 1s/step - AUC: 0.5293 - Precision: 0.4981 - Recall: 0.6511 - accuracy: 0.5092 - loss: 0.7314\n",
      "Epoch 2: val_accuracy did not improve from 0.50000\n",
      "\u001b[1m5/5\u001b[0m \u001b[32m━━━━━━━━━━━━━━━━━━━━\u001b[0m\u001b[37m\u001b[0m \u001b[1m6s\u001b[0m 1s/step - AUC: 0.5321 - Precision: 0.5005 - Recall: 0.6544 - accuracy: 0.5121 - loss: 0.7296 - val_AUC: 0.8212 - val_Precision: 0.0000e+00 - val_Recall: 0.0000e+00 - val_accuracy: 0.4812 - val_loss: 0.6947 - learning_rate: 5.0000e-04\n",
      "Epoch 3/50\n",
      "\u001b[1m5/5\u001b[0m \u001b[32m━━━━━━━━━━━━━━━━━━━━\u001b[0m\u001b[37m\u001b[0m \u001b[1m0s\u001b[0m 1s/step - AUC: 0.6264 - Precision: 0.5533 - Recall: 0.3155 - accuracy: 0.5402 - loss: 0.7007\n",
      "Epoch 3: val_accuracy improved from 0.50000 to 0.75625, saving model to outputresults/model_cv5_fold4.h5\n"
     ]
    },
    {
     "name": "stderr",
     "output_type": "stream",
     "text": [
      "WARNING:absl:You are saving your model as an HDF5 file via `model.save()` or `keras.saving.save_model(model)`. This file format is considered legacy. We recommend using instead the native Keras format, e.g. `model.save('my_model.keras')` or `keras.saving.save_model(model, 'my_model.keras')`. \n"
     ]
    },
    {
     "name": "stdout",
     "output_type": "stream",
     "text": [
      "\u001b[1m5/5\u001b[0m \u001b[32m━━━━━━━━━━━━━━━━━━━━\u001b[0m\u001b[37m\u001b[0m \u001b[1m6s\u001b[0m 1s/step - AUC: 0.6255 - Precision: 0.5567 - Recall: 0.3439 - accuracy: 0.5454 - loss: 0.7008 - val_AUC: 0.7988 - val_Precision: 0.7000 - val_Recall: 0.9277 - val_accuracy: 0.7563 - val_loss: 0.5976 - learning_rate: 5.0000e-04\n",
      "Epoch 4/50\n",
      "\u001b[1m5/5\u001b[0m \u001b[32m━━━━━━━━━━━━━━━━━━━━\u001b[0m\u001b[37m\u001b[0m \u001b[1m0s\u001b[0m 1s/step - AUC: 0.6639 - Precision: 0.6018 - Recall: 0.7941 - accuracy: 0.6506 - loss: 0.6733\n",
      "Epoch 4: val_accuracy improved from 0.75625 to 0.77500, saving model to outputresults/model_cv5_fold4.h5\n"
     ]
    },
    {
     "name": "stderr",
     "output_type": "stream",
     "text": [
      "WARNING:absl:You are saving your model as an HDF5 file via `model.save()` or `keras.saving.save_model(model)`. This file format is considered legacy. We recommend using instead the native Keras format, e.g. `model.save('my_model.keras')` or `keras.saving.save_model(model, 'my_model.keras')`. \n"
     ]
    },
    {
     "name": "stdout",
     "output_type": "stream",
     "text": [
      "\u001b[1m5/5\u001b[0m \u001b[32m━━━━━━━━━━━━━━━━━━━━\u001b[0m\u001b[37m\u001b[0m \u001b[1m6s\u001b[0m 1s/step - AUC: 0.6673 - Precision: 0.6049 - Recall: 0.7976 - accuracy: 0.6531 - loss: 0.6701 - val_AUC: 0.7699 - val_Precision: 0.7238 - val_Recall: 0.9157 - val_accuracy: 0.7750 - val_loss: 0.5644 - learning_rate: 5.0000e-04\n",
      "Epoch 5/50\n",
      "\u001b[1m5/5\u001b[0m \u001b[32m━━━━━━━━━━━━━━━━━━━━\u001b[0m\u001b[37m\u001b[0m \u001b[1m0s\u001b[0m 1s/step - AUC: 0.7077 - Precision: 0.6195 - Recall: 0.6843 - accuracy: 0.6407 - loss: 0.6435\n",
      "Epoch 5: val_accuracy did not improve from 0.77500\n",
      "\u001b[1m5/5\u001b[0m \u001b[32m━━━━━━━━━━━━━━━━━━━━\u001b[0m\u001b[37m\u001b[0m \u001b[1m7s\u001b[0m 1s/step - AUC: 0.7086 - Precision: 0.6200 - Recall: 0.6880 - accuracy: 0.6417 - loss: 0.6410 - val_AUC: 0.7696 - val_Precision: 0.7238 - val_Recall: 0.9157 - val_accuracy: 0.7750 - val_loss: 0.5610 - learning_rate: 5.0000e-04\n",
      "Restoring model weights from the end of the best epoch: 4.\n",
      "Epoch 5: early stopping\n",
      "\u001b[1m7/7\u001b[0m \u001b[32m━━━━━━━━━━━━━━━━━━━━\u001b[0m\u001b[37m\u001b[0m \u001b[1m1s\u001b[0m 141ms/step\n",
      "Fold 5/5\n",
      "Training fold shape: (640, 224, 224, 3)\n",
      "Validation fold shape: (160, 224, 224, 3)\n",
      "Epoch 1/50\n",
      "\u001b[1m5/5\u001b[0m \u001b[32m━━━━━━━━━━━━━━━━━━━━\u001b[0m\u001b[37m\u001b[0m \u001b[1m0s\u001b[0m 1s/step - AUC: 0.5476 - Precision: 0.4685 - Recall: 0.3443 - accuracy: 0.5208 - loss: 0.8480\n",
      "Epoch 1: val_accuracy improved from -inf to 0.51875, saving model to outputresults/model_cv5_fold5.h5\n"
     ]
    },
    {
     "name": "stderr",
     "output_type": "stream",
     "text": [
      "WARNING:absl:You are saving your model as an HDF5 file via `model.save()` or `keras.saving.save_model(model)`. This file format is considered legacy. We recommend using instead the native Keras format, e.g. `model.save('my_model.keras')` or `keras.saving.save_model(model, 'my_model.keras')`. \n"
     ]
    },
    {
     "name": "stdout",
     "output_type": "stream",
     "text": [
      "\u001b[1m5/5\u001b[0m \u001b[32m━━━━━━━━━━━━━━━━━━━━\u001b[0m\u001b[37m\u001b[0m \u001b[1m15s\u001b[0m 1s/step - AUC: 0.5440 - Precision: 0.4735 - Recall: 0.3699 - accuracy: 0.5189 - loss: 0.8469 - val_AUC: 0.7245 - val_Precision: 0.5188 - val_Recall: 1.0000 - val_accuracy: 0.5188 - val_loss: 0.7109 - learning_rate: 5.0000e-04\n",
      "Epoch 2/50\n",
      "\u001b[1m5/5\u001b[0m \u001b[32m━━━━━━━━━━━━━━━━━━━━\u001b[0m\u001b[37m\u001b[0m \u001b[1m0s\u001b[0m 1s/step - AUC: 0.4817 - Precision: 0.4498 - Recall: 0.4752 - accuracy: 0.4742 - loss: 0.7748\n",
      "Epoch 2: val_accuracy improved from 0.51875 to 0.53125, saving model to outputresults/model_cv5_fold5.h5\n"
     ]
    },
    {
     "name": "stderr",
     "output_type": "stream",
     "text": [
      "WARNING:absl:You are saving your model as an HDF5 file via `model.save()` or `keras.saving.save_model(model)`. This file format is considered legacy. We recommend using instead the native Keras format, e.g. `model.save('my_model.keras')` or `keras.saving.save_model(model, 'my_model.keras')`. \n"
     ]
    },
    {
     "name": "stdout",
     "output_type": "stream",
     "text": [
      "\u001b[1m5/5\u001b[0m \u001b[32m━━━━━━━━━━━━━━━━━━━━\u001b[0m\u001b[37m\u001b[0m \u001b[1m7s\u001b[0m 1s/step - AUC: 0.4797 - Precision: 0.4514 - Recall: 0.4503 - accuracy: 0.4756 - loss: 0.7739 - val_AUC: 0.7781 - val_Precision: 0.5253 - val_Recall: 1.0000 - val_accuracy: 0.5312 - val_loss: 0.6908 - learning_rate: 5.0000e-04\n",
      "Epoch 3/50\n",
      "\u001b[1m5/5\u001b[0m \u001b[32m━━━━━━━━━━━━━━━━━━━━\u001b[0m\u001b[37m\u001b[0m \u001b[1m0s\u001b[0m 1s/step - AUC: 0.4982 - Precision: 0.5169 - Recall: 0.8544 - accuracy: 0.5135 - loss: 0.7455\n",
      "Epoch 3: val_accuracy did not improve from 0.53125\n",
      "\u001b[1m5/5\u001b[0m \u001b[32m━━━━━━━━━━━━━━━━━━━━\u001b[0m\u001b[37m\u001b[0m \u001b[1m6s\u001b[0m 1s/step - AUC: 0.5054 - Precision: 0.5160 - Recall: 0.8515 - accuracy: 0.5162 - loss: 0.7431 - val_AUC: 0.7850 - val_Precision: 0.0000e+00 - val_Recall: 0.0000e+00 - val_accuracy: 0.4812 - val_loss: 0.6353 - learning_rate: 5.0000e-04\n",
      "Epoch 4/50\n",
      "\u001b[1m5/5\u001b[0m \u001b[32m━━━━━━━━━━━━━━━━━━━━\u001b[0m\u001b[37m\u001b[0m \u001b[1m0s\u001b[0m 1s/step - AUC: 0.6916 - Precision: 0.6073 - Recall: 0.3144 - accuracy: 0.5687 - loss: 0.6615\n",
      "Epoch 4: val_accuracy improved from 0.53125 to 0.75625, saving model to outputresults/model_cv5_fold5.h5\n"
     ]
    },
    {
     "name": "stderr",
     "output_type": "stream",
     "text": [
      "WARNING:absl:You are saving your model as an HDF5 file via `model.save()` or `keras.saving.save_model(model)`. This file format is considered legacy. We recommend using instead the native Keras format, e.g. `model.save('my_model.keras')` or `keras.saving.save_model(model, 'my_model.keras')`. \n"
     ]
    },
    {
     "name": "stdout",
     "output_type": "stream",
     "text": [
      "\u001b[1m5/5\u001b[0m \u001b[32m━━━━━━━━━━━━━━━━━━━━\u001b[0m\u001b[37m\u001b[0m \u001b[1m6s\u001b[0m 1s/step - AUC: 0.6909 - Precision: 0.6102 - Recall: 0.3339 - accuracy: 0.5731 - loss: 0.6613 - val_AUC: 0.7842 - val_Precision: 0.7075 - val_Recall: 0.9036 - val_accuracy: 0.7563 - val_loss: 0.5867 - learning_rate: 5.0000e-04\n",
      "Epoch 5/50\n",
      "\u001b[1m5/5\u001b[0m \u001b[32m━━━━━━━━━━━━━━━━━━━━\u001b[0m\u001b[37m\u001b[0m \u001b[1m0s\u001b[0m 1s/step - AUC: 0.6856 - Precision: 0.6184 - Recall: 0.8379 - accuracy: 0.6676 - loss: 0.6475\n",
      "Epoch 5: val_accuracy improved from 0.75625 to 0.76250, saving model to outputresults/model_cv5_fold5.h5\n"
     ]
    },
    {
     "name": "stderr",
     "output_type": "stream",
     "text": [
      "WARNING:absl:You are saving your model as an HDF5 file via `model.save()` or `keras.saving.save_model(model)`. This file format is considered legacy. We recommend using instead the native Keras format, e.g. `model.save('my_model.keras')` or `keras.saving.save_model(model, 'my_model.keras')`. \n"
     ]
    },
    {
     "name": "stdout",
     "output_type": "stream",
     "text": [
      "\u001b[1m5/5\u001b[0m \u001b[32m━━━━━━━━━━━━━━━━━━━━\u001b[0m\u001b[37m\u001b[0m \u001b[1m6s\u001b[0m 1s/step - AUC: 0.6913 - Precision: 0.6218 - Recall: 0.8441 - accuracy: 0.6725 - loss: 0.6439 - val_AUC: 0.7664 - val_Precision: 0.7143 - val_Recall: 0.9036 - val_accuracy: 0.7625 - val_loss: 0.5698 - learning_rate: 5.0000e-04\n",
      "Epoch 6/50\n",
      "\u001b[1m5/5\u001b[0m \u001b[32m━━━━━━━━━━━━━━━━━━━━\u001b[0m\u001b[37m\u001b[0m \u001b[1m0s\u001b[0m 1s/step - AUC: 0.6926 - Precision: 0.6450 - Recall: 0.8631 - accuracy: 0.6971 - loss: 0.6301\n",
      "Epoch 6: val_accuracy improved from 0.76250 to 0.77500, saving model to outputresults/model_cv5_fold5.h5\n"
     ]
    },
    {
     "name": "stderr",
     "output_type": "stream",
     "text": [
      "WARNING:absl:You are saving your model as an HDF5 file via `model.save()` or `keras.saving.save_model(model)`. This file format is considered legacy. We recommend using instead the native Keras format, e.g. `model.save('my_model.keras')` or `keras.saving.save_model(model, 'my_model.keras')`. \n"
     ]
    },
    {
     "name": "stdout",
     "output_type": "stream",
     "text": [
      "\u001b[1m5/5\u001b[0m \u001b[32m━━━━━━━━━━━━━━━━━━━━\u001b[0m\u001b[37m\u001b[0m \u001b[1m6s\u001b[0m 1s/step - AUC: 0.6970 - Precision: 0.6474 - Recall: 0.8534 - accuracy: 0.6978 - loss: 0.6278 - val_AUC: 0.7326 - val_Precision: 0.7327 - val_Recall: 0.8916 - val_accuracy: 0.7750 - val_loss: 0.5938 - learning_rate: 5.0000e-04\n",
      "Epoch 7/50\n",
      "\u001b[1m5/5\u001b[0m \u001b[32m━━━━━━━━━━━━━━━━━━━━\u001b[0m\u001b[37m\u001b[0m \u001b[1m0s\u001b[0m 1s/step - AUC: 0.7341 - Precision: 0.6536 - Recall: 0.7669 - accuracy: 0.6920 - loss: 0.6038\n",
      "Epoch 7: val_accuracy did not improve from 0.77500\n",
      "\u001b[1m5/5\u001b[0m \u001b[32m━━━━━━━━━━━━━━━━━━━━\u001b[0m\u001b[37m\u001b[0m \u001b[1m6s\u001b[0m 1s/step - AUC: 0.7350 - Precision: 0.6546 - Recall: 0.7722 - accuracy: 0.6933 - loss: 0.6035 - val_AUC: 0.7458 - val_Precision: 0.7212 - val_Recall: 0.9036 - val_accuracy: 0.7688 - val_loss: 0.5618 - learning_rate: 5.0000e-04\n",
      "Restoring model weights from the end of the best epoch: 6.\n",
      "Epoch 7: early stopping\n",
      "\u001b[1m7/7\u001b[0m \u001b[32m━━━━━━━━━━━━━━━━━━━━\u001b[0m\u001b[37m\u001b[0m \u001b[1m1s\u001b[0m 130ms/step\n",
      "DeiT training completed for CV=5 and metrics saved to deit_metrics_cv5.csv\n",
      "\n",
      "Average metrics:\n",
      "CV: 5.0000\n",
      "Avg_Test_Accuracy: 0.7380\n",
      "Avg_Training_Loss: 0.6106\n",
      "Avg_Testing_Loss: 0.6122\n",
      "Avg_F1_Score: 0.7753\n",
      "Avg_Training_Time: 47.5068\n",
      "Avg_Epochs: 5.8000\n",
      "\n",
      "=== Training with 10-fold Cross Validation ===\n",
      "Fold 1/10\n",
      "Training fold shape: (720, 224, 224, 3)\n",
      "Validation fold shape: (80, 224, 224, 3)\n",
      "Epoch 1/50\n",
      "\u001b[1m6/6\u001b[0m \u001b[32m━━━━━━━━━━━━━━━━━━━━\u001b[0m\u001b[37m\u001b[0m \u001b[1m0s\u001b[0m 964ms/step - AUC: 0.4972 - Precision: 0.4759 - Recall: 0.4300 - accuracy: 0.4969 - loss: 0.9509\n",
      "Epoch 1: val_accuracy improved from -inf to 0.50000, saving model to outputresults/model_cv10_fold1.h5\n"
     ]
    },
    {
     "name": "stderr",
     "output_type": "stream",
     "text": [
      "WARNING:absl:You are saving your model as an HDF5 file via `model.save()` or `keras.saving.save_model(model)`. This file format is considered legacy. We recommend using instead the native Keras format, e.g. `model.save('my_model.keras')` or `keras.saving.save_model(model, 'my_model.keras')`. \n"
     ]
    },
    {
     "name": "stdout",
     "output_type": "stream",
     "text": [
      "\u001b[1m6/6\u001b[0m \u001b[32m━━━━━━━━━━━━━━━━━━━━\u001b[0m\u001b[37m\u001b[0m \u001b[1m17s\u001b[0m 1s/step - AUC: 0.4944 - Precision: 0.4758 - Recall: 0.4343 - accuracy: 0.4947 - loss: 0.9491 - val_AUC: 0.7572 - val_Precision: 0.5000 - val_Recall: 1.0000 - val_accuracy: 0.5000 - val_loss: 0.7324 - learning_rate: 5.0000e-04\n",
      "Epoch 2/50\n",
      "\u001b[1m6/6\u001b[0m \u001b[32m━━━━━━━━━━━━━━━━━━━━\u001b[0m\u001b[37m\u001b[0m \u001b[1m0s\u001b[0m 996ms/step - AUC: 0.5032 - Precision: 0.5075 - Recall: 0.5735 - accuracy: 0.5223 - loss: 0.7479\n",
      "Epoch 2: val_accuracy improved from 0.50000 to 0.68750, saving model to outputresults/model_cv10_fold1.h5\n"
     ]
    },
    {
     "name": "stderr",
     "output_type": "stream",
     "text": [
      "WARNING:absl:You are saving your model as an HDF5 file via `model.save()` or `keras.saving.save_model(model)`. This file format is considered legacy. We recommend using instead the native Keras format, e.g. `model.save('my_model.keras')` or `keras.saving.save_model(model, 'my_model.keras')`. \n"
     ]
    },
    {
     "name": "stdout",
     "output_type": "stream",
     "text": [
      "\u001b[1m6/6\u001b[0m \u001b[32m━━━━━━━━━━━━━━━━━━━━\u001b[0m\u001b[37m\u001b[0m \u001b[1m6s\u001b[0m 1s/step - AUC: 0.5048 - Precision: 0.5096 - Recall: 0.5449 - accuracy: 0.5221 - loss: 0.7477 - val_AUC: 0.7703 - val_Precision: 0.6471 - val_Recall: 0.8250 - val_accuracy: 0.6875 - val_loss: 0.6258 - learning_rate: 5.0000e-04\n",
      "Epoch 3/50\n",
      "\u001b[1m6/6\u001b[0m \u001b[32m━━━━━━━━━━━━━━━━━━━━\u001b[0m\u001b[37m\u001b[0m \u001b[1m0s\u001b[0m 958ms/step - AUC: 0.6878 - Precision: 0.6000 - Recall: 0.8488 - accuracy: 0.6426 - loss: 0.6622\n",
      "Epoch 3: val_accuracy improved from 0.68750 to 0.73750, saving model to outputresults/model_cv10_fold1.h5\n"
     ]
    },
    {
     "name": "stderr",
     "output_type": "stream",
     "text": [
      "WARNING:absl:You are saving your model as an HDF5 file via `model.save()` or `keras.saving.save_model(model)`. This file format is considered legacy. We recommend using instead the native Keras format, e.g. `model.save('my_model.keras')` or `keras.saving.save_model(model, 'my_model.keras')`. \n"
     ]
    },
    {
     "name": "stdout",
     "output_type": "stream",
     "text": [
      "\u001b[1m6/6\u001b[0m \u001b[32m━━━━━━━━━━━━━━━━━━━━\u001b[0m\u001b[37m\u001b[0m \u001b[1m6s\u001b[0m 1s/step - AUC: 0.6890 - Precision: 0.6021 - Recall: 0.8512 - accuracy: 0.6458 - loss: 0.6614 - val_AUC: 0.7466 - val_Precision: 0.7021 - val_Recall: 0.8250 - val_accuracy: 0.7375 - val_loss: 0.6703 - learning_rate: 5.0000e-04\n",
      "Epoch 4/50\n",
      "\u001b[1m6/6\u001b[0m \u001b[32m━━━━━━━━━━━━━━━━━━━━\u001b[0m\u001b[37m\u001b[0m \u001b[1m0s\u001b[0m 998ms/step - AUC: 0.7035 - Precision: 0.6309 - Recall: 0.6808 - accuracy: 0.6563 - loss: 0.6402\n",
      "Epoch 4: val_accuracy did not improve from 0.73750\n",
      "\u001b[1m6/6\u001b[0m \u001b[32m━━━━━━━━━━━━━━━━━━━━\u001b[0m\u001b[37m\u001b[0m \u001b[1m6s\u001b[0m 1s/step - AUC: 0.7055 - Precision: 0.6343 - Recall: 0.6819 - accuracy: 0.6578 - loss: 0.6398 - val_AUC: 0.7256 - val_Precision: 0.7021 - val_Recall: 0.8250 - val_accuracy: 0.7375 - val_loss: 0.6031 - learning_rate: 5.0000e-04\n",
      "Epoch 5/50\n",
      "\u001b[1m6/6\u001b[0m \u001b[32m━━━━━━━━━━━━━━━━━━━━\u001b[0m\u001b[37m\u001b[0m \u001b[1m0s\u001b[0m 974ms/step - AUC: 0.7672 - Precision: 0.6818 - Recall: 0.8735 - accuracy: 0.7305 - loss: 0.6078\n",
      "Epoch 5: val_accuracy did not improve from 0.73750\n",
      "\u001b[1m6/6\u001b[0m \u001b[32m━━━━━━━━━━━━━━━━━━━━\u001b[0m\u001b[37m\u001b[0m \u001b[1m6s\u001b[0m 1s/step - AUC: 0.7651 - Precision: 0.6785 - Recall: 0.8759 - accuracy: 0.7287 - loss: 0.6097 - val_AUC: 0.7244 - val_Precision: 0.7021 - val_Recall: 0.8250 - val_accuracy: 0.7375 - val_loss: 0.6699 - learning_rate: 5.0000e-04\n",
      "Restoring model weights from the end of the best epoch: 3.\n",
      "Epoch 5: early stopping\n",
      "\u001b[1m7/7\u001b[0m \u001b[32m━━━━━━━━━━━━━━━━━━━━\u001b[0m\u001b[37m\u001b[0m \u001b[1m1s\u001b[0m 126ms/step\n",
      "Fold 2/10\n",
      "Training fold shape: (720, 224, 224, 3)\n",
      "Validation fold shape: (80, 224, 224, 3)\n",
      "Epoch 1/50\n",
      "\u001b[1m6/6\u001b[0m \u001b[32m━━━━━━━━━━━━━━━━━━━━\u001b[0m\u001b[37m\u001b[0m \u001b[1m0s\u001b[0m 997ms/step - AUC: 0.5481 - Precision: 0.5336 - Recall: 0.6073 - accuracy: 0.5403 - loss: 0.7605\n",
      "Epoch 1: val_accuracy improved from -inf to 0.76250, saving model to outputresults/model_cv10_fold2.h5\n"
     ]
    },
    {
     "name": "stderr",
     "output_type": "stream",
     "text": [
      "WARNING:absl:You are saving your model as an HDF5 file via `model.save()` or `keras.saving.save_model(model)`. This file format is considered legacy. We recommend using instead the native Keras format, e.g. `model.save('my_model.keras')` or `keras.saving.save_model(model, 'my_model.keras')`. \n"
     ]
    },
    {
     "name": "stdout",
     "output_type": "stream",
     "text": [
      "\u001b[1m6/6\u001b[0m \u001b[32m━━━━━━━━━━━━━━━━━━━━\u001b[0m\u001b[37m\u001b[0m \u001b[1m15s\u001b[0m 1s/step - AUC: 0.5500 - Precision: 0.5325 - Recall: 0.6023 - accuracy: 0.5399 - loss: 0.7608 - val_AUC: 0.7725 - val_Precision: 0.7400 - val_Recall: 0.8605 - val_accuracy: 0.7625 - val_loss: 0.6436 - learning_rate: 5.0000e-04\n",
      "Epoch 2/50\n",
      "\u001b[1m6/6\u001b[0m \u001b[32m━━━━━━━━━━━━━━━━━━━━\u001b[0m\u001b[37m\u001b[0m \u001b[1m0s\u001b[0m 1s/step - AUC: 0.6090 - Precision: 0.5838 - Recall: 0.5107 - accuracy: 0.5723 - loss: 0.6890\n",
      "Epoch 2: val_accuracy did not improve from 0.76250\n",
      "\u001b[1m6/6\u001b[0m \u001b[32m━━━━━━━━━━━━━━━━━━━━\u001b[0m\u001b[37m\u001b[0m \u001b[1m6s\u001b[0m 1s/step - AUC: 0.6113 - Precision: 0.5831 - Recall: 0.5195 - accuracy: 0.5742 - loss: 0.6879 - val_AUC: 0.7970 - val_Precision: 0.7115 - val_Recall: 0.8605 - val_accuracy: 0.7375 - val_loss: 0.6019 - learning_rate: 5.0000e-04\n",
      "Epoch 3/50\n",
      "\u001b[1m6/6\u001b[0m \u001b[32m━━━━━━━━━━━━━━━━━━━━\u001b[0m\u001b[37m\u001b[0m \u001b[1m0s\u001b[0m 954ms/step - AUC: 0.7241 - Precision: 0.6459 - Recall: 0.7565 - accuracy: 0.6743 - loss: 0.6196\n",
      "Epoch 3: val_accuracy did not improve from 0.76250\n",
      "\u001b[1m6/6\u001b[0m \u001b[32m━━━━━━━━━━━━━━━━━━━━\u001b[0m\u001b[37m\u001b[0m \u001b[1m6s\u001b[0m 1s/step - AUC: 0.7203 - Precision: 0.6437 - Recall: 0.7597 - accuracy: 0.6734 - loss: 0.6239 - val_AUC: 0.7948 - val_Precision: 0.7200 - val_Recall: 0.8372 - val_accuracy: 0.7375 - val_loss: 0.6444 - learning_rate: 5.0000e-04\n",
      "Epoch 4/50\n",
      "\u001b[1m6/6\u001b[0m \u001b[32m━━━━━━━━━━━━━━━━━━━━\u001b[0m\u001b[37m\u001b[0m \u001b[1m0s\u001b[0m 939ms/step - AUC: 0.7263 - Precision: 0.6233 - Recall: 0.6258 - accuracy: 0.6366 - loss: 0.6124\n",
      "Epoch 4: ReduceLROnPlateau reducing learning rate to 0.00010000000474974513.\n",
      "\n",
      "Epoch 4: val_accuracy did not improve from 0.76250\n",
      "\u001b[1m6/6\u001b[0m \u001b[32m━━━━━━━━━━━━━━━━━━━━\u001b[0m\u001b[37m\u001b[0m \u001b[1m6s\u001b[0m 1000ms/step - AUC: 0.7248 - Precision: 0.6237 - Recall: 0.6347 - accuracy: 0.6379 - loss: 0.6144 - val_AUC: 0.7992 - val_Precision: 0.7115 - val_Recall: 0.8605 - val_accuracy: 0.7375 - val_loss: 0.6385 - learning_rate: 5.0000e-04\n",
      "Epoch 5/50\n",
      "\u001b[1m6/6\u001b[0m \u001b[32m━━━━━━━━━━━━━━━━━━━━\u001b[0m\u001b[37m\u001b[0m \u001b[1m0s\u001b[0m 1s/step - AUC: 0.7321 - Precision: 0.6727 - Recall: 0.9253 - accuracy: 0.7445 - loss: 0.5937\n",
      "Epoch 5: val_accuracy did not improve from 0.76250\n",
      "\u001b[1m6/6\u001b[0m \u001b[32m━━━━━━━━━━━━━━━━━━━━\u001b[0m\u001b[37m\u001b[0m \u001b[1m6s\u001b[0m 1s/step - AUC: 0.7317 - Precision: 0.6708 - Recall: 0.9202 - accuracy: 0.7411 - loss: 0.5952 - val_AUC: 0.7948 - val_Precision: 0.7115 - val_Recall: 0.8605 - val_accuracy: 0.7375 - val_loss: 0.6479 - learning_rate: 1.0000e-04\n",
      "Restoring model weights from the end of the best epoch: 1.\n",
      "Epoch 5: early stopping\n",
      "\u001b[1m7/7\u001b[0m \u001b[32m━━━━━━━━━━━━━━━━━━━━\u001b[0m\u001b[37m\u001b[0m \u001b[1m1s\u001b[0m 128ms/step\n",
      "Fold 3/10\n",
      "Training fold shape: (720, 224, 224, 3)\n",
      "Validation fold shape: (80, 224, 224, 3)\n",
      "Epoch 1/50\n",
      "\u001b[1m6/6\u001b[0m \u001b[32m━━━━━━━━━━━━━━━━━━━━\u001b[0m\u001b[37m\u001b[0m \u001b[1m0s\u001b[0m 973ms/step - AUC: 0.5323 - Precision: 0.4792 - Recall: 0.6396 - accuracy: 0.4816 - loss: 0.8774\n",
      "Epoch 1: val_accuracy improved from -inf to 0.46250, saving model to outputresults/model_cv10_fold3.h5\n"
     ]
    },
    {
     "name": "stderr",
     "output_type": "stream",
     "text": [
      "WARNING:absl:You are saving your model as an HDF5 file via `model.save()` or `keras.saving.save_model(model)`. This file format is considered legacy. We recommend using instead the native Keras format, e.g. `model.save('my_model.keras')` or `keras.saving.save_model(model, 'my_model.keras')`. \n"
     ]
    },
    {
     "name": "stdout",
     "output_type": "stream",
     "text": [
      "\u001b[1m6/6\u001b[0m \u001b[32m━━━━━━━━━━━━━━━━━━━━\u001b[0m\u001b[37m\u001b[0m \u001b[1m17s\u001b[0m 1s/step - AUC: 0.5327 - Precision: 0.4797 - Recall: 0.6231 - accuracy: 0.4830 - loss: 0.8769 - val_AUC: 0.7404 - val_Precision: 0.0000e+00 - val_Recall: 0.0000e+00 - val_accuracy: 0.4625 - val_loss: 0.8033 - learning_rate: 5.0000e-04\n",
      "Epoch 2/50\n",
      "\u001b[1m6/6\u001b[0m \u001b[32m━━━━━━━━━━━━━━━━━━━━\u001b[0m\u001b[37m\u001b[0m \u001b[1m0s\u001b[0m 1s/step - AUC: 0.5494 - Precision: 0.5121 - Recall: 0.4775 - accuracy: 0.4957 - loss: 0.7368\n",
      "Epoch 2: val_accuracy did not improve from 0.46250\n",
      "\u001b[1m6/6\u001b[0m \u001b[32m━━━━━━━━━━━━━━━━━━━━\u001b[0m\u001b[37m\u001b[0m \u001b[1m8s\u001b[0m 1s/step - AUC: 0.5473 - Precision: 0.5111 - Recall: 0.5072 - accuracy: 0.4987 - loss: 0.7361 - val_AUC: 0.7712 - val_Precision: 0.0000e+00 - val_Recall: 0.0000e+00 - val_accuracy: 0.4625 - val_loss: 0.6920 - learning_rate: 5.0000e-04\n",
      "Epoch 3/50\n",
      "\u001b[1m6/6\u001b[0m \u001b[32m━━━━━━━━━━━━━━━━━━━━\u001b[0m\u001b[37m\u001b[0m \u001b[1m0s\u001b[0m 1s/step - AUC: 0.6258 - Precision: 0.5607 - Recall: 0.2408 - accuracy: 0.5450 - loss: 0.6926\n",
      "Epoch 3: val_accuracy improved from 0.46250 to 0.67500, saving model to outputresults/model_cv10_fold3.h5\n"
     ]
    },
    {
     "name": "stderr",
     "output_type": "stream",
     "text": [
      "WARNING:absl:You are saving your model as an HDF5 file via `model.save()` or `keras.saving.save_model(model)`. This file format is considered legacy. We recommend using instead the native Keras format, e.g. `model.save('my_model.keras')` or `keras.saving.save_model(model, 'my_model.keras')`. \n"
     ]
    },
    {
     "name": "stdout",
     "output_type": "stream",
     "text": [
      "\u001b[1m6/6\u001b[0m \u001b[32m━━━━━━━━━━━━━━━━━━━━\u001b[0m\u001b[37m\u001b[0m \u001b[1m8s\u001b[0m 1s/step - AUC: 0.6270 - Precision: 0.5632 - Recall: 0.2347 - accuracy: 0.5437 - loss: 0.6935 - val_AUC: 0.7652 - val_Precision: 0.6441 - val_Recall: 0.8837 - val_accuracy: 0.6750 - val_loss: 0.6532 - learning_rate: 5.0000e-04\n",
      "Epoch 4/50\n",
      "\u001b[1m6/6\u001b[0m \u001b[32m━━━━━━━━━━━━━━━━━━━━\u001b[0m\u001b[37m\u001b[0m \u001b[1m0s\u001b[0m 1s/step - AUC: 0.7081 - Precision: 0.6013 - Recall: 0.8814 - accuracy: 0.6776 - loss: 0.6473\n",
      "Epoch 4: val_accuracy improved from 0.67500 to 0.68750, saving model to outputresults/model_cv10_fold3.h5\n"
     ]
    },
    {
     "name": "stderr",
     "output_type": "stream",
     "text": [
      "WARNING:absl:You are saving your model as an HDF5 file via `model.save()` or `keras.saving.save_model(model)`. This file format is considered legacy. We recommend using instead the native Keras format, e.g. `model.save('my_model.keras')` or `keras.saving.save_model(model, 'my_model.keras')`. \n"
     ]
    },
    {
     "name": "stdout",
     "output_type": "stream",
     "text": [
      "\u001b[1m6/6\u001b[0m \u001b[32m━━━━━━━━━━━━━━━━━━━━\u001b[0m\u001b[37m\u001b[0m \u001b[1m7s\u001b[0m 1s/step - AUC: 0.7087 - Precision: 0.6068 - Recall: 0.8822 - accuracy: 0.6808 - loss: 0.6465 - val_AUC: 0.7643 - val_Precision: 0.6552 - val_Recall: 0.8837 - val_accuracy: 0.6875 - val_loss: 0.6396 - learning_rate: 5.0000e-04\n",
      "Epoch 5/50\n",
      "\u001b[1m6/6\u001b[0m \u001b[32m━━━━━━━━━━━━━━━━━━━━\u001b[0m\u001b[37m\u001b[0m \u001b[1m0s\u001b[0m 974ms/step - AUC: 0.7621 - Precision: 0.6582 - Recall: 0.8954 - accuracy: 0.7306 - loss: 0.5938\n",
      "Epoch 5: val_accuracy improved from 0.68750 to 0.73750, saving model to outputresults/model_cv10_fold3.h5\n"
     ]
    },
    {
     "name": "stderr",
     "output_type": "stream",
     "text": [
      "WARNING:absl:You are saving your model as an HDF5 file via `model.save()` or `keras.saving.save_model(model)`. This file format is considered legacy. We recommend using instead the native Keras format, e.g. `model.save('my_model.keras')` or `keras.saving.save_model(model, 'my_model.keras')`. \n"
     ]
    },
    {
     "name": "stdout",
     "output_type": "stream",
     "text": [
      "\u001b[1m6/6\u001b[0m \u001b[32m━━━━━━━━━━━━━━━━━━━━\u001b[0m\u001b[37m\u001b[0m \u001b[1m6s\u001b[0m 1s/step - AUC: 0.7565 - Precision: 0.6572 - Recall: 0.8861 - accuracy: 0.7260 - loss: 0.5979 - val_AUC: 0.7527 - val_Precision: 0.7037 - val_Recall: 0.8837 - val_accuracy: 0.7375 - val_loss: 0.6300 - learning_rate: 5.0000e-04\n",
      "Epoch 6/50\n",
      "\u001b[1m6/6\u001b[0m \u001b[32m━━━━━━━━━━━━━━━━━━━━\u001b[0m\u001b[37m\u001b[0m \u001b[1m0s\u001b[0m 1s/step - AUC: 0.7320 - Precision: 0.6540 - Recall: 0.8223 - accuracy: 0.6942 - loss: 0.6066\n",
      "Epoch 6: val_accuracy did not improve from 0.73750\n",
      "\u001b[1m6/6\u001b[0m \u001b[32m━━━━━━━━━━━━━━━━━━━━\u001b[0m\u001b[37m\u001b[0m \u001b[1m7s\u001b[0m 1s/step - AUC: 0.7329 - Precision: 0.6548 - Recall: 0.8262 - accuracy: 0.6966 - loss: 0.6058 - val_AUC: 0.7445 - val_Precision: 0.6909 - val_Recall: 0.8837 - val_accuracy: 0.7250 - val_loss: 0.6120 - learning_rate: 5.0000e-04\n",
      "Restoring model weights from the end of the best epoch: 5.\n",
      "Epoch 6: early stopping\n",
      "\u001b[1m7/7\u001b[0m \u001b[32m━━━━━━━━━━━━━━━━━━━━\u001b[0m\u001b[37m\u001b[0m \u001b[1m1s\u001b[0m 133ms/step\n",
      "Fold 4/10\n",
      "Training fold shape: (720, 224, 224, 3)\n",
      "Validation fold shape: (80, 224, 224, 3)\n",
      "Epoch 1/50\n",
      "\u001b[1m6/6\u001b[0m \u001b[32m━━━━━━━━━━━━━━━━━━━━\u001b[0m\u001b[37m\u001b[0m \u001b[1m0s\u001b[0m 1s/step - AUC: 0.5078 - Precision: 0.5000 - Recall: 0.5261 - accuracy: 0.5096 - loss: 0.7653\n",
      "Epoch 1: val_accuracy improved from -inf to 0.70000, saving model to outputresults/model_cv10_fold4.h5\n"
     ]
    },
    {
     "name": "stderr",
     "output_type": "stream",
     "text": [
      "WARNING:absl:You are saving your model as an HDF5 file via `model.save()` or `keras.saving.save_model(model)`. This file format is considered legacy. We recommend using instead the native Keras format, e.g. `model.save('my_model.keras')` or `keras.saving.save_model(model, 'my_model.keras')`. \n"
     ]
    },
    {
     "name": "stdout",
     "output_type": "stream",
     "text": [
      "\u001b[1m6/6\u001b[0m \u001b[32m━━━━━━━━━━━━━━━━━━━━\u001b[0m\u001b[37m\u001b[0m \u001b[1m15s\u001b[0m 1s/step - AUC: 0.5121 - Precision: 0.5049 - Recall: 0.5275 - accuracy: 0.5128 - loss: 0.7637 - val_AUC: 0.7014 - val_Precision: 0.6087 - val_Recall: 0.8235 - val_accuracy: 0.7000 - val_loss: 0.6369 - learning_rate: 5.0000e-04\n",
      "Epoch 2/50\n",
      "\u001b[1m6/6\u001b[0m \u001b[32m━━━━━━━━━━━━━━━━━━━━\u001b[0m\u001b[37m\u001b[0m \u001b[1m0s\u001b[0m 969ms/step - AUC: 0.6352 - Precision: 0.6053 - Recall: 0.6097 - accuracy: 0.6212 - loss: 0.6916\n",
      "Epoch 2: val_accuracy did not improve from 0.70000\n",
      "\u001b[1m6/6\u001b[0m \u001b[32m━━━━━━━━━━━━━━━━━━━━\u001b[0m\u001b[37m\u001b[0m \u001b[1m6s\u001b[0m 1s/step - AUC: 0.6376 - Precision: 0.6080 - Recall: 0.6137 - accuracy: 0.6218 - loss: 0.6910 - val_AUC: 0.7567 - val_Precision: 0.5818 - val_Recall: 0.9412 - val_accuracy: 0.6875 - val_loss: 0.6372 - learning_rate: 5.0000e-04\n",
      "Epoch 3/50\n",
      "\u001b[1m6/6\u001b[0m \u001b[32m━━━━━━━━━━━━━━━━━━━━\u001b[0m\u001b[37m\u001b[0m \u001b[1m0s\u001b[0m 956ms/step - AUC: 0.6970 - Precision: 0.6358 - Recall: 0.8212 - accuracy: 0.6708 - loss: 0.6563\n",
      "Epoch 3: val_accuracy did not improve from 0.70000\n",
      "\u001b[1m6/6\u001b[0m \u001b[32m━━━━━━━━━━━━━━━━━━━━\u001b[0m\u001b[37m\u001b[0m \u001b[1m6s\u001b[0m 1s/step - AUC: 0.6990 - Precision: 0.6380 - Recall: 0.8223 - accuracy: 0.6736 - loss: 0.6550 - val_AUC: 0.7075 - val_Precision: 0.5741 - val_Recall: 0.9118 - val_accuracy: 0.6750 - val_loss: 0.6093 - learning_rate: 5.0000e-04\n",
      "Epoch 4/50\n",
      "\u001b[1m6/6\u001b[0m \u001b[32m━━━━━━━━━━━━━━━━━━━━\u001b[0m\u001b[37m\u001b[0m \u001b[1m0s\u001b[0m 1s/step - AUC: 0.7320 - Precision: 0.6633 - Recall: 0.7172 - accuracy: 0.6799 - loss: 0.6257\n",
      "Epoch 4: ReduceLROnPlateau reducing learning rate to 0.00010000000474974513.\n",
      "\n",
      "Epoch 4: val_accuracy did not improve from 0.70000\n",
      "\u001b[1m6/6\u001b[0m \u001b[32m━━━━━━━━━━━━━━━━━━━━\u001b[0m\u001b[37m\u001b[0m \u001b[1m6s\u001b[0m 1s/step - AUC: 0.7314 - Precision: 0.6630 - Recall: 0.7296 - accuracy: 0.6820 - loss: 0.6255 - val_AUC: 0.7241 - val_Precision: 0.5741 - val_Recall: 0.9118 - val_accuracy: 0.6750 - val_loss: 0.6309 - learning_rate: 5.0000e-04\n",
      "Epoch 5/50\n",
      "\u001b[1m6/6\u001b[0m \u001b[32m━━━━━━━━━━━━━━━━━━━━\u001b[0m\u001b[37m\u001b[0m \u001b[1m0s\u001b[0m 972ms/step - AUC: 0.7155 - Precision: 0.6412 - Recall: 0.7912 - accuracy: 0.6814 - loss: 0.6234\n",
      "Epoch 5: val_accuracy did not improve from 0.70000\n",
      "\u001b[1m6/6\u001b[0m \u001b[32m━━━━━━━━━━━━━━━━━━━━\u001b[0m\u001b[37m\u001b[0m \u001b[1m6s\u001b[0m 1s/step - AUC: 0.7172 - Precision: 0.6447 - Recall: 0.7922 - accuracy: 0.6837 - loss: 0.6213 - val_AUC: 0.7164 - val_Precision: 0.5741 - val_Recall: 0.9118 - val_accuracy: 0.6750 - val_loss: 0.6142 - learning_rate: 1.0000e-04\n",
      "Restoring model weights from the end of the best epoch: 1.\n",
      "Epoch 5: early stopping\n",
      "\u001b[1m7/7\u001b[0m \u001b[32m━━━━━━━━━━━━━━━━━━━━\u001b[0m\u001b[37m\u001b[0m \u001b[1m1s\u001b[0m 137ms/step\n",
      "Fold 5/10\n",
      "Training fold shape: (720, 224, 224, 3)\n",
      "Validation fold shape: (80, 224, 224, 3)\n",
      "Epoch 1/50\n",
      "\u001b[1m6/6\u001b[0m \u001b[32m━━━━━━━━━━━━━━━━━━━━\u001b[0m\u001b[37m\u001b[0m \u001b[1m0s\u001b[0m 1s/step - AUC: 0.5531 - Precision: 0.5547 - Recall: 0.6108 - accuracy: 0.5469 - loss: 0.7495\n",
      "Epoch 1: val_accuracy improved from -inf to 0.66250, saving model to outputresults/model_cv10_fold5.h5\n"
     ]
    },
    {
     "name": "stderr",
     "output_type": "stream",
     "text": [
      "WARNING:absl:You are saving your model as an HDF5 file via `model.save()` or `keras.saving.save_model(model)`. This file format is considered legacy. We recommend using instead the native Keras format, e.g. `model.save('my_model.keras')` or `keras.saving.save_model(model, 'my_model.keras')`. \n"
     ]
    },
    {
     "name": "stdout",
     "output_type": "stream",
     "text": [
      "\u001b[1m6/6\u001b[0m \u001b[32m━━━━━━━━━━━━━━━━━━━━\u001b[0m\u001b[37m\u001b[0m \u001b[1m16s\u001b[0m 1s/step - AUC: 0.5518 - Precision: 0.5508 - Recall: 0.5955 - accuracy: 0.5434 - loss: 0.7512 - val_AUC: 0.7008 - val_Precision: 0.5652 - val_Recall: 0.7879 - val_accuracy: 0.6625 - val_loss: 0.6703 - learning_rate: 5.0000e-04\n",
      "Epoch 2/50\n",
      "\u001b[1m6/6\u001b[0m \u001b[32m━━━━━━━━━━━━━━━━━━━━\u001b[0m\u001b[37m\u001b[0m \u001b[1m0s\u001b[0m 1s/step - AUC: 0.5851 - Precision: 0.5392 - Recall: 0.7001 - accuracy: 0.5486 - loss: 0.7077\n",
      "Epoch 2: val_accuracy improved from 0.66250 to 0.71250, saving model to outputresults/model_cv10_fold5.h5\n"
     ]
    },
    {
     "name": "stderr",
     "output_type": "stream",
     "text": [
      "WARNING:absl:You are saving your model as an HDF5 file via `model.save()` or `keras.saving.save_model(model)`. This file format is considered legacy. We recommend using instead the native Keras format, e.g. `model.save('my_model.keras')` or `keras.saving.save_model(model, 'my_model.keras')`. \n"
     ]
    },
    {
     "name": "stdout",
     "output_type": "stream",
     "text": [
      "\u001b[1m6/6\u001b[0m \u001b[32m━━━━━━━━━━━━━━━━━━━━\u001b[0m\u001b[37m\u001b[0m \u001b[1m7s\u001b[0m 1s/step - AUC: 0.5837 - Precision: 0.5403 - Recall: 0.6895 - accuracy: 0.5488 - loss: 0.7082 - val_AUC: 0.7337 - val_Precision: 0.6190 - val_Recall: 0.7879 - val_accuracy: 0.7125 - val_loss: 0.6667 - learning_rate: 5.0000e-04\n",
      "Epoch 3/50\n",
      "\u001b[1m6/6\u001b[0m \u001b[32m━━━━━━━━━━━━━━━━━━━━\u001b[0m\u001b[37m\u001b[0m \u001b[1m0s\u001b[0m 1s/step - AUC: 0.6988 - Precision: 0.6429 - Recall: 0.7762 - accuracy: 0.6650 - loss: 0.6352\n",
      "Epoch 3: val_accuracy did not improve from 0.71250\n",
      "\u001b[1m6/6\u001b[0m \u001b[32m━━━━━━━━━━━━━━━━━━━━\u001b[0m\u001b[37m\u001b[0m \u001b[1m7s\u001b[0m 1s/step - AUC: 0.7030 - Precision: 0.6435 - Recall: 0.7830 - accuracy: 0.6678 - loss: 0.6338 - val_AUC: 0.7331 - val_Precision: 0.0000e+00 - val_Recall: 0.0000e+00 - val_accuracy: 0.5875 - val_loss: 0.7334 - learning_rate: 5.0000e-04\n",
      "Epoch 4/50\n",
      "\u001b[1m6/6\u001b[0m \u001b[32m━━━━━━━━━━━━━━━━━━━━\u001b[0m\u001b[37m\u001b[0m \u001b[1m0s\u001b[0m 1s/step - AUC: 0.7067 - Precision: 0.6406 - Recall: 0.6555 - accuracy: 0.6451 - loss: 0.6401\n",
      "Epoch 4: val_accuracy did not improve from 0.71250\n",
      "\u001b[1m6/6\u001b[0m \u001b[32m━━━━━━━━━━━━━━━━━━━━\u001b[0m\u001b[37m\u001b[0m \u001b[1m9s\u001b[0m 2s/step - AUC: 0.7088 - Precision: 0.6430 - Recall: 0.6729 - accuracy: 0.6506 - loss: 0.6391 - val_AUC: 0.7234 - val_Precision: 0.5854 - val_Recall: 0.7273 - val_accuracy: 0.6750 - val_loss: 0.6958 - learning_rate: 5.0000e-04\n",
      "Epoch 5/50\n",
      "\u001b[1m6/6\u001b[0m \u001b[32m━━━━━━━━━━━━━━━━━━━━\u001b[0m\u001b[37m\u001b[0m \u001b[1m0s\u001b[0m 1s/step - AUC: 0.7407 - Precision: 0.7043 - Recall: 0.8354 - accuracy: 0.7284 - loss: 0.5869\n",
      "Epoch 5: ReduceLROnPlateau reducing learning rate to 0.00010000000474974513.\n",
      "\n",
      "Epoch 5: val_accuracy did not improve from 0.71250\n",
      "\u001b[1m6/6\u001b[0m \u001b[32m━━━━━━━━━━━━━━━━━━━━\u001b[0m\u001b[37m\u001b[0m \u001b[1m8s\u001b[0m 1s/step - AUC: 0.7408 - Precision: 0.7012 - Recall: 0.8330 - accuracy: 0.7267 - loss: 0.5882 - val_AUC: 0.7134 - val_Precision: 0.5714 - val_Recall: 0.7273 - val_accuracy: 0.6625 - val_loss: 0.6592 - learning_rate: 5.0000e-04\n",
      "Restoring model weights from the end of the best epoch: 2.\n",
      "Epoch 5: early stopping\n",
      "\u001b[1m7/7\u001b[0m \u001b[32m━━━━━━━━━━━━━━━━━━━━\u001b[0m\u001b[37m\u001b[0m \u001b[1m2s\u001b[0m 186ms/step\n",
      "Fold 6/10\n",
      "Training fold shape: (720, 224, 224, 3)\n",
      "Validation fold shape: (80, 224, 224, 3)\n",
      "Epoch 1/50\n",
      "\u001b[1m6/6\u001b[0m \u001b[32m━━━━━━━━━━━━━━━━━━━━\u001b[0m\u001b[37m\u001b[0m \u001b[1m0s\u001b[0m 1s/step - AUC: 0.4928 - Precision: 0.5051 - Recall: 0.5435 - accuracy: 0.5086 - loss: 0.8983\n",
      "Epoch 1: val_accuracy improved from -inf to 0.53750, saving model to outputresults/model_cv10_fold6.h5\n"
     ]
    },
    {
     "name": "stderr",
     "output_type": "stream",
     "text": [
      "WARNING:absl:You are saving your model as an HDF5 file via `model.save()` or `keras.saving.save_model(model)`. This file format is considered legacy. We recommend using instead the native Keras format, e.g. `model.save('my_model.keras')` or `keras.saving.save_model(model, 'my_model.keras')`. \n"
     ]
    },
    {
     "name": "stdout",
     "output_type": "stream",
     "text": [
      "\u001b[1m6/6\u001b[0m \u001b[32m━━━━━━━━━━━━━━━━━━━━\u001b[0m\u001b[37m\u001b[0m \u001b[1m16s\u001b[0m 1s/step - AUC: 0.4934 - Precision: 0.5050 - Recall: 0.5510 - accuracy: 0.5083 - loss: 0.9002 - val_AUC: 0.7451 - val_Precision: 0.0000e+00 - val_Recall: 0.0000e+00 - val_accuracy: 0.5375 - val_loss: 0.6748 - learning_rate: 5.0000e-04\n",
      "Epoch 2/50\n",
      "\u001b[1m6/6\u001b[0m \u001b[32m━━━━━━━━━━━━━━━━━━━━\u001b[0m\u001b[37m\u001b[0m \u001b[1m0s\u001b[0m 1s/step - AUC: 0.4619 - Precision: 0.4774 - Recall: 0.3503 - accuracy: 0.4946 - loss: 0.7664\n",
      "Epoch 2: val_accuracy improved from 0.53750 to 0.67500, saving model to outputresults/model_cv10_fold6.h5\n"
     ]
    },
    {
     "name": "stderr",
     "output_type": "stream",
     "text": [
      "WARNING:absl:You are saving your model as an HDF5 file via `model.save()` or `keras.saving.save_model(model)`. This file format is considered legacy. We recommend using instead the native Keras format, e.g. `model.save('my_model.keras')` or `keras.saving.save_model(model, 'my_model.keras')`. \n"
     ]
    },
    {
     "name": "stdout",
     "output_type": "stream",
     "text": [
      "\u001b[1m6/6\u001b[0m \u001b[32m━━━━━━━━━━━━━━━━━━━━\u001b[0m\u001b[37m\u001b[0m \u001b[1m8s\u001b[0m 1s/step - AUC: 0.4633 - Precision: 0.4788 - Recall: 0.3623 - accuracy: 0.4940 - loss: 0.7664 - val_AUC: 0.8300 - val_Precision: 0.5965 - val_Recall: 0.9189 - val_accuracy: 0.6750 - val_loss: 0.6288 - learning_rate: 5.0000e-04\n",
      "Epoch 3/50\n",
      "\u001b[1m6/6\u001b[0m \u001b[32m━━━━━━━━━━━━━━━━━━━━\u001b[0m\u001b[37m\u001b[0m \u001b[1m0s\u001b[0m 1s/step - AUC: 0.6928 - Precision: 0.6433 - Recall: 0.7555 - accuracy: 0.6565 - loss: 0.6412\n",
      "Epoch 3: val_accuracy improved from 0.67500 to 0.73750, saving model to outputresults/model_cv10_fold6.h5\n"
     ]
    },
    {
     "name": "stderr",
     "output_type": "stream",
     "text": [
      "WARNING:absl:You are saving your model as an HDF5 file via `model.save()` or `keras.saving.save_model(model)`. This file format is considered legacy. We recommend using instead the native Keras format, e.g. `model.save('my_model.keras')` or `keras.saving.save_model(model, 'my_model.keras')`. \n"
     ]
    },
    {
     "name": "stdout",
     "output_type": "stream",
     "text": [
      "\u001b[1m6/6\u001b[0m \u001b[32m━━━━━━━━━━━━━━━━━━━━\u001b[0m\u001b[37m\u001b[0m \u001b[1m8s\u001b[0m 1s/step - AUC: 0.6893 - Precision: 0.6378 - Recall: 0.7451 - accuracy: 0.6512 - loss: 0.6426 - val_AUC: 0.8190 - val_Precision: 0.6667 - val_Recall: 0.8649 - val_accuracy: 0.7375 - val_loss: 0.6545 - learning_rate: 5.0000e-04\n",
      "Epoch 4/50\n",
      "\u001b[1m6/6\u001b[0m \u001b[32m━━━━━━━━━━━━━━━━━━━━\u001b[0m\u001b[37m\u001b[0m \u001b[1m0s\u001b[0m 1s/step - AUC: 0.6835 - Precision: 0.6306 - Recall: 0.7248 - accuracy: 0.6489 - loss: 0.6386\n",
      "Epoch 4: val_accuracy did not improve from 0.73750\n",
      "\u001b[1m6/6\u001b[0m \u001b[32m━━━━━━━━━━━━━━━━━━━━\u001b[0m\u001b[37m\u001b[0m \u001b[1m7s\u001b[0m 1s/step - AUC: 0.6879 - Precision: 0.6330 - Recall: 0.7351 - accuracy: 0.6536 - loss: 0.6368 - val_AUC: 0.8061 - val_Precision: 0.6531 - val_Recall: 0.8649 - val_accuracy: 0.7250 - val_loss: 0.6079 - learning_rate: 5.0000e-04\n",
      "Epoch 5/50\n",
      "\u001b[1m6/6\u001b[0m \u001b[32m━━━━━━━━━━━━━━━━━━━━\u001b[0m\u001b[37m\u001b[0m \u001b[1m0s\u001b[0m 1s/step - AUC: 0.6942 - Precision: 0.6335 - Recall: 0.8450 - accuracy: 0.6846 - loss: 0.6369\n",
      "Epoch 5: val_accuracy did not improve from 0.73750\n",
      "\u001b[1m6/6\u001b[0m \u001b[32m━━━━━━━━━━━━━━━━━━━━\u001b[0m\u001b[37m\u001b[0m \u001b[1m7s\u001b[0m 1s/step - AUC: 0.6955 - Precision: 0.6347 - Recall: 0.8393 - accuracy: 0.6838 - loss: 0.6353 - val_AUC: 0.8341 - val_Precision: 0.6667 - val_Recall: 0.8649 - val_accuracy: 0.7375 - val_loss: 0.6035 - learning_rate: 5.0000e-04\n",
      "Restoring model weights from the end of the best epoch: 3.\n",
      "Epoch 5: early stopping\n",
      "\u001b[1m7/7\u001b[0m \u001b[32m━━━━━━━━━━━━━━━━━━━━\u001b[0m\u001b[37m\u001b[0m \u001b[1m1s\u001b[0m 137ms/step\n",
      "Fold 7/10\n",
      "Training fold shape: (720, 224, 224, 3)\n",
      "Validation fold shape: (80, 224, 224, 3)\n",
      "Epoch 1/50\n",
      "\u001b[1m6/6\u001b[0m \u001b[32m━━━━━━━━━━━━━━━━━━━━\u001b[0m\u001b[37m\u001b[0m \u001b[1m0s\u001b[0m 1s/step - AUC: 0.5428 - Precision: 0.4911 - Recall: 0.5225 - accuracy: 0.5106 - loss: 0.8527\n",
      "Epoch 1: val_accuracy improved from -inf to 0.48750, saving model to outputresults/model_cv10_fold7.h5\n"
     ]
    },
    {
     "name": "stderr",
     "output_type": "stream",
     "text": [
      "WARNING:absl:You are saving your model as an HDF5 file via `model.save()` or `keras.saving.save_model(model)`. This file format is considered legacy. We recommend using instead the native Keras format, e.g. `model.save('my_model.keras')` or `keras.saving.save_model(model, 'my_model.keras')`. \n"
     ]
    },
    {
     "name": "stdout",
     "output_type": "stream",
     "text": [
      "\u001b[1m6/6\u001b[0m \u001b[32m━━━━━━━━━━━━━━━━━━━━\u001b[0m\u001b[37m\u001b[0m \u001b[1m15s\u001b[0m 1s/step - AUC: 0.5399 - Precision: 0.4913 - Recall: 0.5134 - accuracy: 0.5091 - loss: 0.8617 - val_AUC: 0.5360 - val_Precision: 0.0000e+00 - val_Recall: 0.0000e+00 - val_accuracy: 0.4875 - val_loss: 0.7112 - learning_rate: 5.0000e-04\n",
      "Epoch 2/50\n",
      "\u001b[1m6/6\u001b[0m \u001b[32m━━━━━━━━━━━━━━━━━━━━\u001b[0m\u001b[37m\u001b[0m \u001b[1m0s\u001b[0m 997ms/step - AUC: 0.5057 - Precision: 0.4939 - Recall: 0.6053 - accuracy: 0.5010 - loss: 0.7580\n",
      "Epoch 2: val_accuracy did not improve from 0.48750\n",
      "\u001b[1m6/6\u001b[0m \u001b[32m━━━━━━━━━━━━━━━━━━━━\u001b[0m\u001b[37m\u001b[0m \u001b[1m6s\u001b[0m 1s/step - AUC: 0.5085 - Precision: 0.4951 - Recall: 0.6223 - accuracy: 0.5023 - loss: 0.7575 - val_AUC: 0.7598 - val_Precision: 0.0000e+00 - val_Recall: 0.0000e+00 - val_accuracy: 0.4875 - val_loss: 0.7258 - learning_rate: 5.0000e-04\n",
      "Epoch 3/50\n",
      "\u001b[1m6/6\u001b[0m \u001b[32m━━━━━━━━━━━━━━━━━━━━\u001b[0m\u001b[37m\u001b[0m \u001b[1m0s\u001b[0m 1s/step - AUC: 0.5616 - Precision: 0.5438 - Recall: 0.1894 - accuracy: 0.5073 - loss: 0.7483\n",
      "Epoch 3: val_accuracy improved from 0.48750 to 0.72500, saving model to outputresults/model_cv10_fold7.h5\n"
     ]
    },
    {
     "name": "stderr",
     "output_type": "stream",
     "text": [
      "WARNING:absl:You are saving your model as an HDF5 file via `model.save()` or `keras.saving.save_model(model)`. This file format is considered legacy. We recommend using instead the native Keras format, e.g. `model.save('my_model.keras')` or `keras.saving.save_model(model, 'my_model.keras')`. \n"
     ]
    },
    {
     "name": "stdout",
     "output_type": "stream",
     "text": [
      "\u001b[1m6/6\u001b[0m \u001b[32m━━━━━━━━━━━━━━━━━━━━\u001b[0m\u001b[37m\u001b[0m \u001b[1m7s\u001b[0m 1s/step - AUC: 0.5660 - Precision: 0.5486 - Recall: 0.2058 - accuracy: 0.5130 - loss: 0.7438 - val_AUC: 0.7583 - val_Precision: 0.6667 - val_Recall: 0.9268 - val_accuracy: 0.7250 - val_loss: 0.5840 - learning_rate: 5.0000e-04\n",
      "Epoch 4/50\n",
      "\u001b[1m6/6\u001b[0m \u001b[32m━━━━━━━━━━━━━━━━━━━━\u001b[0m\u001b[37m\u001b[0m \u001b[1m0s\u001b[0m 1s/step - AUC: 0.7460 - Precision: 0.6793 - Recall: 0.8736 - accuracy: 0.7351 - loss: 0.6116\n",
      "Epoch 4: val_accuracy improved from 0.72500 to 0.75000, saving model to outputresults/model_cv10_fold7.h5\n"
     ]
    },
    {
     "name": "stderr",
     "output_type": "stream",
     "text": [
      "WARNING:absl:You are saving your model as an HDF5 file via `model.save()` or `keras.saving.save_model(model)`. This file format is considered legacy. We recommend using instead the native Keras format, e.g. `model.save('my_model.keras')` or `keras.saving.save_model(model, 'my_model.keras')`. \n"
     ]
    },
    {
     "name": "stdout",
     "output_type": "stream",
     "text": [
      "\u001b[1m6/6\u001b[0m \u001b[32m━━━━━━━━━━━━━━━━━━━━\u001b[0m\u001b[37m\u001b[0m \u001b[1m7s\u001b[0m 1s/step - AUC: 0.7431 - Precision: 0.6767 - Recall: 0.8735 - accuracy: 0.7324 - loss: 0.6140 - val_AUC: 0.7336 - val_Precision: 0.7059 - val_Recall: 0.8780 - val_accuracy: 0.7500 - val_loss: 0.5901 - learning_rate: 5.0000e-04\n",
      "Epoch 5/50\n",
      "\u001b[1m6/6\u001b[0m \u001b[32m━━━━━━━━━━━━━━━━━━━━\u001b[0m\u001b[37m\u001b[0m \u001b[1m0s\u001b[0m 1s/step - AUC: 0.7122 - Precision: 0.6451 - Recall: 0.7882 - accuracy: 0.6964 - loss: 0.6220\n",
      "Epoch 5: val_accuracy did not improve from 0.75000\n",
      "\u001b[1m6/6\u001b[0m \u001b[32m━━━━━━━━━━━━━━━━━━━━\u001b[0m\u001b[37m\u001b[0m \u001b[1m7s\u001b[0m 1s/step - AUC: 0.7141 - Precision: 0.6490 - Recall: 0.7855 - accuracy: 0.6971 - loss: 0.6211 - val_AUC: 0.7111 - val_Precision: 0.7059 - val_Recall: 0.8780 - val_accuracy: 0.7500 - val_loss: 0.5819 - learning_rate: 5.0000e-04\n",
      "Restoring model weights from the end of the best epoch: 4.\n",
      "Epoch 5: early stopping\n",
      "\u001b[1m7/7\u001b[0m \u001b[32m━━━━━━━━━━━━━━━━━━━━\u001b[0m\u001b[37m\u001b[0m \u001b[1m2s\u001b[0m 157ms/step\n",
      "Fold 8/10\n",
      "Training fold shape: (720, 224, 224, 3)\n",
      "Validation fold shape: (80, 224, 224, 3)\n",
      "Epoch 1/50\n",
      "\u001b[1m6/6\u001b[0m \u001b[32m━━━━━━━━━━━━━━━━━━━━\u001b[0m\u001b[37m\u001b[0m \u001b[1m0s\u001b[0m 1s/step - AUC: 0.5407 - Precision: 0.5059 - Recall: 0.5362 - accuracy: 0.5327 - loss: 0.8505\n",
      "Epoch 1: val_accuracy improved from -inf to 0.52500, saving model to outputresults/model_cv10_fold8.h5\n"
     ]
    },
    {
     "name": "stderr",
     "output_type": "stream",
     "text": [
      "WARNING:absl:You are saving your model as an HDF5 file via `model.save()` or `keras.saving.save_model(model)`. This file format is considered legacy. We recommend using instead the native Keras format, e.g. `model.save('my_model.keras')` or `keras.saving.save_model(model, 'my_model.keras')`. \n"
     ]
    },
    {
     "name": "stdout",
     "output_type": "stream",
     "text": [
      "\u001b[1m6/6\u001b[0m \u001b[32m━━━━━━━━━━━━━━━━━━━━\u001b[0m\u001b[37m\u001b[0m \u001b[1m18s\u001b[0m 1s/step - AUC: 0.5431 - Precision: 0.5096 - Recall: 0.5443 - accuracy: 0.5342 - loss: 0.8514 - val_AUC: 0.7657 - val_Precision: 0.5250 - val_Recall: 1.0000 - val_accuracy: 0.5250 - val_loss: 0.7081 - learning_rate: 5.0000e-04\n",
      "Epoch 2/50\n",
      "\u001b[1m6/6\u001b[0m \u001b[32m━━━━━━━━━━━━━━━━━━━━\u001b[0m\u001b[37m\u001b[0m \u001b[1m0s\u001b[0m 2s/step - AUC: 0.5130 - Precision: 0.5167 - Recall: 0.4641 - accuracy: 0.5154 - loss: 0.7393\n",
      "Epoch 2: val_accuracy improved from 0.52500 to 0.75000, saving model to outputresults/model_cv10_fold8.h5\n"
     ]
    },
    {
     "name": "stderr",
     "output_type": "stream",
     "text": [
      "WARNING:absl:You are saving your model as an HDF5 file via `model.save()` or `keras.saving.save_model(model)`. This file format is considered legacy. We recommend using instead the native Keras format, e.g. `model.save('my_model.keras')` or `keras.saving.save_model(model, 'my_model.keras')`. \n"
     ]
    },
    {
     "name": "stdout",
     "output_type": "stream",
     "text": [
      "\u001b[1m6/6\u001b[0m \u001b[32m━━━━━━━━━━━━━━━━━━━━\u001b[0m\u001b[37m\u001b[0m \u001b[1m11s\u001b[0m 2s/step - AUC: 0.5168 - Precision: 0.5196 - Recall: 0.4591 - accuracy: 0.5185 - loss: 0.7369 - val_AUC: 0.8330 - val_Precision: 0.6964 - val_Recall: 0.9286 - val_accuracy: 0.7500 - val_loss: 0.5874 - learning_rate: 5.0000e-04\n",
      "Epoch 3/50\n",
      "\u001b[1m6/6\u001b[0m \u001b[32m━━━━━━━━━━━━━━━━━━━━\u001b[0m\u001b[37m\u001b[0m \u001b[1m0s\u001b[0m 1s/step - AUC: 0.6623 - Precision: 0.6342 - Recall: 0.8079 - accuracy: 0.6568 - loss: 0.6580\n",
      "Epoch 3: val_accuracy improved from 0.75000 to 0.78750, saving model to outputresults/model_cv10_fold8.h5\n"
     ]
    },
    {
     "name": "stderr",
     "output_type": "stream",
     "text": [
      "WARNING:absl:You are saving your model as an HDF5 file via `model.save()` or `keras.saving.save_model(model)`. This file format is considered legacy. We recommend using instead the native Keras format, e.g. `model.save('my_model.keras')` or `keras.saving.save_model(model, 'my_model.keras')`. \n"
     ]
    },
    {
     "name": "stdout",
     "output_type": "stream",
     "text": [
      "\u001b[1m6/6\u001b[0m \u001b[32m━━━━━━━━━━━━━━━━━━━━\u001b[0m\u001b[37m\u001b[0m \u001b[1m8s\u001b[0m 1s/step - AUC: 0.6660 - Precision: 0.6328 - Recall: 0.8043 - accuracy: 0.6574 - loss: 0.6569 - val_AUC: 0.7782 - val_Precision: 0.7660 - val_Recall: 0.8571 - val_accuracy: 0.7875 - val_loss: 0.6087 - learning_rate: 5.0000e-04\n",
      "Epoch 4/50\n",
      "\u001b[1m6/6\u001b[0m \u001b[32m━━━━━━━━━━━━━━━━━━━━\u001b[0m\u001b[37m\u001b[0m \u001b[1m0s\u001b[0m 1s/step - AUC: 0.7193 - Precision: 0.6527 - Recall: 0.6903 - accuracy: 0.6596 - loss: 0.6287\n",
      "Epoch 4: val_accuracy improved from 0.78750 to 0.80000, saving model to outputresults/model_cv10_fold8.h5\n"
     ]
    },
    {
     "name": "stderr",
     "output_type": "stream",
     "text": [
      "WARNING:absl:You are saving your model as an HDF5 file via `model.save()` or `keras.saving.save_model(model)`. This file format is considered legacy. We recommend using instead the native Keras format, e.g. `model.save('my_model.keras')` or `keras.saving.save_model(model, 'my_model.keras')`. \n"
     ]
    },
    {
     "name": "stdout",
     "output_type": "stream",
     "text": [
      "\u001b[1m6/6\u001b[0m \u001b[32m━━━━━━━━━━━━━━━━━━━━\u001b[0m\u001b[37m\u001b[0m \u001b[1m8s\u001b[0m 1s/step - AUC: 0.7166 - Precision: 0.6505 - Recall: 0.7015 - accuracy: 0.6612 - loss: 0.6300 - val_AUC: 0.7970 - val_Precision: 0.7500 - val_Recall: 0.9286 - val_accuracy: 0.8000 - val_loss: 0.5382 - learning_rate: 5.0000e-04\n",
      "Epoch 5/50\n",
      "\u001b[1m6/6\u001b[0m \u001b[32m━━━━━━━━━━━━━━━━━━━━\u001b[0m\u001b[37m\u001b[0m \u001b[1m0s\u001b[0m 989ms/step - AUC: 0.7160 - Precision: 0.6603 - Recall: 0.8000 - accuracy: 0.6983 - loss: 0.6212\n",
      "Epoch 5: val_accuracy did not improve from 0.80000\n",
      "\u001b[1m6/6\u001b[0m \u001b[32m━━━━━━━━━━━━━━━━━━━━\u001b[0m\u001b[37m\u001b[0m \u001b[1m6s\u001b[0m 1s/step - AUC: 0.7169 - Precision: 0.6596 - Recall: 0.7955 - accuracy: 0.6967 - loss: 0.6208 - val_AUC: 0.7964 - val_Precision: 0.7500 - val_Recall: 0.9286 - val_accuracy: 0.8000 - val_loss: 0.5525 - learning_rate: 5.0000e-04\n",
      "Restoring model weights from the end of the best epoch: 4.\n",
      "Epoch 5: early stopping\n",
      "\u001b[1m7/7\u001b[0m \u001b[32m━━━━━━━━━━━━━━━━━━━━\u001b[0m\u001b[37m\u001b[0m \u001b[1m1s\u001b[0m 134ms/step\n",
      "Fold 9/10\n",
      "Training fold shape: (720, 224, 224, 3)\n",
      "Validation fold shape: (80, 224, 224, 3)\n",
      "Epoch 1/50\n",
      "\u001b[1m6/6\u001b[0m \u001b[32m━━━━━━━━━━━━━━━━━━━━\u001b[0m\u001b[37m\u001b[0m \u001b[1m0s\u001b[0m 997ms/step - AUC: 0.5102 - Precision: 0.5139 - Recall: 0.5109 - accuracy: 0.5121 - loss: 0.8506\n",
      "Epoch 1: val_accuracy improved from -inf to 0.50000, saving model to outputresults/model_cv10_fold9.h5\n"
     ]
    },
    {
     "name": "stderr",
     "output_type": "stream",
     "text": [
      "WARNING:absl:You are saving your model as an HDF5 file via `model.save()` or `keras.saving.save_model(model)`. This file format is considered legacy. We recommend using instead the native Keras format, e.g. `model.save('my_model.keras')` or `keras.saving.save_model(model, 'my_model.keras')`. \n"
     ]
    },
    {
     "name": "stdout",
     "output_type": "stream",
     "text": [
      "\u001b[1m6/6\u001b[0m \u001b[32m━━━━━━━━━━━━━━━━━━━━\u001b[0m\u001b[37m\u001b[0m \u001b[1m15s\u001b[0m 1s/step - AUC: 0.5117 - Precision: 0.5134 - Recall: 0.5174 - accuracy: 0.5127 - loss: 0.8474 - val_AUC: 0.7716 - val_Precision: 0.0000e+00 - val_Recall: 0.0000e+00 - val_accuracy: 0.5000 - val_loss: 0.6842 - learning_rate: 5.0000e-04\n",
      "Epoch 2/50\n",
      "\u001b[1m6/6\u001b[0m \u001b[32m━━━━━━━━━━━━━━━━━━━━\u001b[0m\u001b[37m\u001b[0m \u001b[1m0s\u001b[0m 1s/step - AUC: 0.4950 - Precision: 0.5076 - Recall: 0.3413 - accuracy: 0.5182 - loss: 0.7419\n",
      "Epoch 2: val_accuracy improved from 0.50000 to 0.70000, saving model to outputresults/model_cv10_fold9.h5\n"
     ]
    },
    {
     "name": "stderr",
     "output_type": "stream",
     "text": [
      "WARNING:absl:You are saving your model as an HDF5 file via `model.save()` or `keras.saving.save_model(model)`. This file format is considered legacy. We recommend using instead the native Keras format, e.g. `model.save('my_model.keras')` or `keras.saving.save_model(model, 'my_model.keras')`. \n"
     ]
    },
    {
     "name": "stdout",
     "output_type": "stream",
     "text": [
      "\u001b[1m6/6\u001b[0m \u001b[32m━━━━━━━━━━━━━━━━━━━━\u001b[0m\u001b[37m\u001b[0m \u001b[1m7s\u001b[0m 1s/step - AUC: 0.4996 - Precision: 0.5129 - Recall: 0.3511 - accuracy: 0.5212 - loss: 0.7395 - val_AUC: 0.8416 - val_Precision: 0.6379 - val_Recall: 0.9250 - val_accuracy: 0.7000 - val_loss: 0.6093 - learning_rate: 5.0000e-04\n",
      "Epoch 3/50\n",
      "\u001b[1m6/6\u001b[0m \u001b[32m━━━━━━━━━━━━━━━━━━━━\u001b[0m\u001b[37m\u001b[0m \u001b[1m0s\u001b[0m 1s/step - AUC: 0.7033 - Precision: 0.6306 - Recall: 0.8320 - accuracy: 0.6750 - loss: 0.6407\n",
      "Epoch 3: val_accuracy improved from 0.70000 to 0.73750, saving model to outputresults/model_cv10_fold9.h5\n"
     ]
    },
    {
     "name": "stderr",
     "output_type": "stream",
     "text": [
      "WARNING:absl:You are saving your model as an HDF5 file via `model.save()` or `keras.saving.save_model(model)`. This file format is considered legacy. We recommend using instead the native Keras format, e.g. `model.save('my_model.keras')` or `keras.saving.save_model(model, 'my_model.keras')`. \n"
     ]
    },
    {
     "name": "stdout",
     "output_type": "stream",
     "text": [
      "\u001b[1m6/6\u001b[0m \u001b[32m━━━━━━━━━━━━━━━━━━━━\u001b[0m\u001b[37m\u001b[0m \u001b[1m7s\u001b[0m 1s/step - AUC: 0.7028 - Precision: 0.6330 - Recall: 0.8259 - accuracy: 0.6762 - loss: 0.6403 - val_AUC: 0.8194 - val_Precision: 0.6792 - val_Recall: 0.9000 - val_accuracy: 0.7375 - val_loss: 0.5848 - learning_rate: 5.0000e-04\n",
      "Epoch 4/50\n",
      "\u001b[1m6/6\u001b[0m \u001b[32m━━━━━━━━━━━━━━━━━━━━\u001b[0m\u001b[37m\u001b[0m \u001b[1m0s\u001b[0m 1s/step - AUC: 0.7235 - Precision: 0.6199 - Recall: 0.8095 - accuracy: 0.6708 - loss: 0.6322\n",
      "Epoch 4: val_accuracy did not improve from 0.73750\n",
      "\u001b[1m6/6\u001b[0m \u001b[32m━━━━━━━━━━━━━━━━━━━━\u001b[0m\u001b[37m\u001b[0m \u001b[1m7s\u001b[0m 1s/step - AUC: 0.7249 - Precision: 0.6246 - Recall: 0.8155 - accuracy: 0.6754 - loss: 0.6300 - val_AUC: 0.8072 - val_Precision: 0.6792 - val_Recall: 0.9000 - val_accuracy: 0.7375 - val_loss: 0.5736 - learning_rate: 5.0000e-04\n",
      "Epoch 5/50\n",
      "\u001b[1m6/6\u001b[0m \u001b[32m━━━━━━━━━━━━━━━━━━━━\u001b[0m\u001b[37m\u001b[0m \u001b[1m0s\u001b[0m 972ms/step - AUC: 0.7465 - Precision: 0.6684 - Recall: 0.8715 - accuracy: 0.7185 - loss: 0.5973\n",
      "Epoch 5: val_accuracy improved from 0.73750 to 0.75000, saving model to outputresults/model_cv10_fold9.h5\n"
     ]
    },
    {
     "name": "stderr",
     "output_type": "stream",
     "text": [
      "WARNING:absl:You are saving your model as an HDF5 file via `model.save()` or `keras.saving.save_model(model)`. This file format is considered legacy. We recommend using instead the native Keras format, e.g. `model.save('my_model.keras')` or `keras.saving.save_model(model, 'my_model.keras')`. \n"
     ]
    },
    {
     "name": "stdout",
     "output_type": "stream",
     "text": [
      "\u001b[1m6/6\u001b[0m \u001b[32m━━━━━━━━━━━━━━━━━━━━\u001b[0m\u001b[37m\u001b[0m \u001b[1m6s\u001b[0m 1s/step - AUC: 0.7464 - Precision: 0.6675 - Recall: 0.8650 - accuracy: 0.7166 - loss: 0.5978 - val_AUC: 0.7966 - val_Precision: 0.6923 - val_Recall: 0.9000 - val_accuracy: 0.7500 - val_loss: 0.5888 - learning_rate: 5.0000e-04\n",
      "Epoch 6/50\n",
      "\u001b[1m6/6\u001b[0m \u001b[32m━━━━━━━━━━━━━━━━━━━━\u001b[0m\u001b[37m\u001b[0m \u001b[1m0s\u001b[0m 1s/step - AUC: 0.7127 - Precision: 0.6582 - Recall: 0.8774 - accuracy: 0.7234 - loss: 0.6116\n",
      "Epoch 6: val_accuracy did not improve from 0.75000\n",
      "\u001b[1m6/6\u001b[0m \u001b[32m━━━━━━━━━━━━━━━━━━━━\u001b[0m\u001b[37m\u001b[0m \u001b[1m7s\u001b[0m 1s/step - AUC: 0.7157 - Precision: 0.6603 - Recall: 0.8785 - accuracy: 0.7244 - loss: 0.6096 - val_AUC: 0.7978 - val_Precision: 0.6923 - val_Recall: 0.9000 - val_accuracy: 0.7500 - val_loss: 0.5844 - learning_rate: 5.0000e-04\n",
      "Restoring model weights from the end of the best epoch: 5.\n",
      "Epoch 6: early stopping\n",
      "\u001b[1m7/7\u001b[0m \u001b[32m━━━━━━━━━━━━━━━━━━━━\u001b[0m\u001b[37m\u001b[0m \u001b[1m1s\u001b[0m 144ms/step\n",
      "Fold 10/10\n",
      "Training fold shape: (720, 224, 224, 3)\n",
      "Validation fold shape: (80, 224, 224, 3)\n",
      "Epoch 1/50\n",
      "\u001b[1m6/6\u001b[0m \u001b[32m━━━━━━━━━━━━━━━━━━━━\u001b[0m\u001b[37m\u001b[0m \u001b[1m0s\u001b[0m 1s/step - AUC: 0.5037 - Precision: 0.4843 - Recall: 0.4345 - accuracy: 0.4923 - loss: 0.9017\n",
      "Epoch 1: val_accuracy improved from -inf to 0.53750, saving model to outputresults/model_cv10_fold10.h5\n"
     ]
    },
    {
     "name": "stderr",
     "output_type": "stream",
     "text": [
      "WARNING:absl:You are saving your model as an HDF5 file via `model.save()` or `keras.saving.save_model(model)`. This file format is considered legacy. We recommend using instead the native Keras format, e.g. `model.save('my_model.keras')` or `keras.saving.save_model(model, 'my_model.keras')`. \n"
     ]
    },
    {
     "name": "stdout",
     "output_type": "stream",
     "text": [
      "\u001b[1m6/6\u001b[0m \u001b[32m━━━━━━━━━━━━━━━━━━━━\u001b[0m\u001b[37m\u001b[0m \u001b[1m17s\u001b[0m 1s/step - AUC: 0.5050 - Precision: 0.4861 - Recall: 0.4356 - accuracy: 0.4944 - loss: 0.9004 - val_AUC: 0.7326 - val_Precision: 0.5375 - val_Recall: 1.0000 - val_accuracy: 0.5375 - val_loss: 0.8156 - learning_rate: 5.0000e-04\n",
      "Epoch 2/50\n",
      "\u001b[1m6/6\u001b[0m \u001b[32m━━━━━━━━━━━━━━━━━━━━\u001b[0m\u001b[37m\u001b[0m \u001b[1m0s\u001b[0m 987ms/step - AUC: 0.5017 - Precision: 0.4700 - Recall: 0.5948 - accuracy: 0.4822 - loss: 0.7684\n",
      "Epoch 2: val_accuracy improved from 0.53750 to 0.57500, saving model to outputresults/model_cv10_fold10.h5\n"
     ]
    },
    {
     "name": "stderr",
     "output_type": "stream",
     "text": [
      "WARNING:absl:You are saving your model as an HDF5 file via `model.save()` or `keras.saving.save_model(model)`. This file format is considered legacy. We recommend using instead the native Keras format, e.g. `model.save('my_model.keras')` or `keras.saving.save_model(model, 'my_model.keras')`. \n"
     ]
    },
    {
     "name": "stdout",
     "output_type": "stream",
     "text": [
      "\u001b[1m6/6\u001b[0m \u001b[32m━━━━━━━━━━━━━━━━━━━━\u001b[0m\u001b[37m\u001b[0m \u001b[1m6s\u001b[0m 1s/step - AUC: 0.5012 - Precision: 0.4720 - Recall: 0.5649 - accuracy: 0.4843 - loss: 0.7665 - val_AUC: 0.7841 - val_Precision: 0.5584 - val_Recall: 1.0000 - val_accuracy: 0.5750 - val_loss: 0.6678 - learning_rate: 5.0000e-04\n",
      "Epoch 3/50\n",
      "\u001b[1m6/6\u001b[0m \u001b[32m━━━━━━━━━━━━━━━━━━━━\u001b[0m\u001b[37m\u001b[0m \u001b[1m0s\u001b[0m 1s/step - AUC: 0.5945 - Precision: 0.5296 - Recall: 0.7708 - accuracy: 0.5582 - loss: 0.6924\n",
      "Epoch 3: val_accuracy improved from 0.57500 to 0.78750, saving model to outputresults/model_cv10_fold10.h5\n"
     ]
    },
    {
     "name": "stderr",
     "output_type": "stream",
     "text": [
      "WARNING:absl:You are saving your model as an HDF5 file via `model.save()` or `keras.saving.save_model(model)`. This file format is considered legacy. We recommend using instead the native Keras format, e.g. `model.save('my_model.keras')` or `keras.saving.save_model(model, 'my_model.keras')`. \n"
     ]
    },
    {
     "name": "stdout",
     "output_type": "stream",
     "text": [
      "\u001b[1m6/6\u001b[0m \u001b[32m━━━━━━━━━━━━━━━━━━━━\u001b[0m\u001b[37m\u001b[0m \u001b[1m7s\u001b[0m 1s/step - AUC: 0.6012 - Precision: 0.5346 - Recall: 0.7768 - accuracy: 0.5643 - loss: 0.6896 - val_AUC: 0.7913 - val_Precision: 0.7600 - val_Recall: 0.8837 - val_accuracy: 0.7875 - val_loss: 0.5924 - learning_rate: 5.0000e-04\n",
      "Epoch 4/50\n",
      "\u001b[1m6/6\u001b[0m \u001b[32m━━━━━━━━━━━━━━━━━━━━\u001b[0m\u001b[37m\u001b[0m \u001b[1m0s\u001b[0m 994ms/step - AUC: 0.6985 - Precision: 0.6611 - Recall: 0.6973 - accuracy: 0.6656 - loss: 0.6446\n",
      "Epoch 4: val_accuracy did not improve from 0.78750\n",
      "\u001b[1m6/6\u001b[0m \u001b[32m━━━━━━━━━━━━━━━━━━━━\u001b[0m\u001b[37m\u001b[0m \u001b[1m7s\u001b[0m 1s/step - AUC: 0.6980 - Precision: 0.6579 - Recall: 0.7049 - accuracy: 0.6661 - loss: 0.6440 - val_AUC: 0.8045 - val_Precision: 0.7551 - val_Recall: 0.8605 - val_accuracy: 0.7750 - val_loss: 0.5633 - learning_rate: 5.0000e-04\n",
      "Epoch 5/50\n",
      "\u001b[1m6/6\u001b[0m \u001b[32m━━━━━━━━━━━━━━━━━━━━\u001b[0m\u001b[37m\u001b[0m \u001b[1m0s\u001b[0m 982ms/step - AUC: 0.7144 - Precision: 0.6570 - Recall: 0.8191 - accuracy: 0.7007 - loss: 0.6271\n",
      "Epoch 5: val_accuracy did not improve from 0.78750\n",
      "\u001b[1m6/6\u001b[0m \u001b[32m━━━━━━━━━━━━━━━━━━━━\u001b[0m\u001b[37m\u001b[0m \u001b[1m6s\u001b[0m 1s/step - AUC: 0.7156 - Precision: 0.6571 - Recall: 0.8178 - accuracy: 0.7006 - loss: 0.6258 - val_AUC: 0.7844 - val_Precision: 0.7551 - val_Recall: 0.8605 - val_accuracy: 0.7750 - val_loss: 0.5797 - learning_rate: 5.0000e-04\n",
      "Restoring model weights from the end of the best epoch: 3.\n",
      "Epoch 5: early stopping\n",
      "\u001b[1m7/7\u001b[0m \u001b[32m━━━━━━━━━━━━━━━━━━━━\u001b[0m\u001b[37m\u001b[0m \u001b[1m1s\u001b[0m 134ms/step\n",
      "DeiT training completed for CV=10 and metrics saved to deit_metrics_cv10.csv\n",
      "\n",
      "Average metrics:\n",
      "CV: 10.0000\n",
      "Avg_Test_Accuracy: 0.7415\n",
      "Avg_Training_Loss: 0.6105\n",
      "Avg_Testing_Loss: 0.6101\n",
      "Avg_F1_Score: 0.7777\n",
      "Avg_Training_Time: 46.9800\n",
      "Avg_Epochs: 5.2000\n",
      "\n",
      "=== Training with 15-fold Cross Validation ===\n",
      "Fold 1/15\n",
      "Training fold shape: (746, 224, 224, 3)\n",
      "Validation fold shape: (54, 224, 224, 3)\n",
      "Epoch 1/50\n",
      "\u001b[1m6/6\u001b[0m \u001b[32m━━━━━━━━━━━━━━━━━━━━\u001b[0m\u001b[37m\u001b[0m \u001b[1m0s\u001b[0m 1s/step - AUC: 0.4528 - Precision: 0.4349 - Recall: 0.4050 - accuracy: 0.4621 - loss: 0.9023\n",
      "Epoch 1: val_accuracy improved from -inf to 0.53704, saving model to outputresults/model_cv15_fold1.h5\n"
     ]
    },
    {
     "name": "stderr",
     "output_type": "stream",
     "text": [
      "WARNING:absl:You are saving your model as an HDF5 file via `model.save()` or `keras.saving.save_model(model)`. This file format is considered legacy. We recommend using instead the native Keras format, e.g. `model.save('my_model.keras')` or `keras.saving.save_model(model, 'my_model.keras')`. \n"
     ]
    },
    {
     "name": "stdout",
     "output_type": "stream",
     "text": [
      "\u001b[1m6/6\u001b[0m \u001b[32m━━━━━━━━━━━━━━━━━━━━\u001b[0m\u001b[37m\u001b[0m \u001b[1m16s\u001b[0m 1s/step - AUC: 0.4568 - Precision: 0.4406 - Recall: 0.4164 - accuracy: 0.4650 - loss: 0.8968 - val_AUC: 0.7441 - val_Precision: 0.5370 - val_Recall: 1.0000 - val_accuracy: 0.5370 - val_loss: 0.7043 - learning_rate: 5.0000e-04\n",
      "Epoch 2/50\n",
      "\u001b[1m6/6\u001b[0m \u001b[32m━━━━━━━━━━━━━━━━━━━━\u001b[0m\u001b[37m\u001b[0m \u001b[1m0s\u001b[0m 1s/step - AUC: 0.5446 - Precision: 0.5493 - Recall: 0.6761 - accuracy: 0.5547 - loss: 0.7224\n",
      "Epoch 2: val_accuracy did not improve from 0.53704\n",
      "\u001b[1m6/6\u001b[0m \u001b[32m━━━━━━━━━━━━━━━━━━━━\u001b[0m\u001b[37m\u001b[0m \u001b[1m6s\u001b[0m 1s/step - AUC: 0.5446 - Precision: 0.5476 - Recall: 0.6414 - accuracy: 0.5523 - loss: 0.7218 - val_AUC: 0.7552 - val_Precision: 0.0000e+00 - val_Recall: 0.0000e+00 - val_accuracy: 0.4630 - val_loss: 0.6524 - learning_rate: 5.0000e-04\n",
      "Epoch 3/50\n",
      "\u001b[1m6/6\u001b[0m \u001b[32m━━━━━━━━━━━━━━━━━━━━\u001b[0m\u001b[37m\u001b[0m \u001b[1m0s\u001b[0m 1s/step - AUC: 0.6688 - Precision: 0.6280 - Recall: 0.6957 - accuracy: 0.6307 - loss: 0.6543\n",
      "Epoch 3: val_accuracy improved from 0.53704 to 0.74074, saving model to outputresults/model_cv15_fold1.h5\n"
     ]
    },
    {
     "name": "stderr",
     "output_type": "stream",
     "text": [
      "WARNING:absl:You are saving your model as an HDF5 file via `model.save()` or `keras.saving.save_model(model)`. This file format is considered legacy. We recommend using instead the native Keras format, e.g. `model.save('my_model.keras')` or `keras.saving.save_model(model, 'my_model.keras')`. \n"
     ]
    },
    {
     "name": "stdout",
     "output_type": "stream",
     "text": [
      "\u001b[1m6/6\u001b[0m \u001b[32m━━━━━━━━━━━━━━━━━━━━\u001b[0m\u001b[37m\u001b[0m \u001b[1m7s\u001b[0m 1s/step - AUC: 0.6699 - Precision: 0.6254 - Recall: 0.7088 - accuracy: 0.6331 - loss: 0.6548 - val_AUC: 0.7566 - val_Precision: 0.7419 - val_Recall: 0.7931 - val_accuracy: 0.7407 - val_loss: 0.7077 - learning_rate: 5.0000e-04\n",
      "Epoch 4/50\n",
      "\u001b[1m6/6\u001b[0m \u001b[32m━━━━━━━━━━━━━━━━━━━━\u001b[0m\u001b[37m\u001b[0m \u001b[1m0s\u001b[0m 1s/step - AUC: 0.7465 - Precision: 0.6644 - Recall: 0.5520 - accuracy: 0.6610 - loss: 0.6239\n",
      "Epoch 4: val_accuracy improved from 0.74074 to 0.75926, saving model to outputresults/model_cv15_fold1.h5\n"
     ]
    },
    {
     "name": "stderr",
     "output_type": "stream",
     "text": [
      "WARNING:absl:You are saving your model as an HDF5 file via `model.save()` or `keras.saving.save_model(model)`. This file format is considered legacy. We recommend using instead the native Keras format, e.g. `model.save('my_model.keras')` or `keras.saving.save_model(model, 'my_model.keras')`. \n"
     ]
    },
    {
     "name": "stdout",
     "output_type": "stream",
     "text": [
      "\u001b[1m6/6\u001b[0m \u001b[32m━━━━━━━━━━━━━━━━━━━━\u001b[0m\u001b[37m\u001b[0m \u001b[1m7s\u001b[0m 1s/step - AUC: 0.7452 - Precision: 0.6669 - Recall: 0.5600 - accuracy: 0.6620 - loss: 0.6248 - val_AUC: 0.7414 - val_Precision: 0.7500 - val_Recall: 0.8276 - val_accuracy: 0.7593 - val_loss: 0.5856 - learning_rate: 5.0000e-04\n",
      "Epoch 5/50\n",
      "\u001b[1m6/6\u001b[0m \u001b[32m━━━━━━━━━━━━━━━━━━━━\u001b[0m\u001b[37m\u001b[0m \u001b[1m0s\u001b[0m 1s/step - AUC: 0.7329 - Precision: 0.6276 - Recall: 0.8935 - accuracy: 0.6964 - loss: 0.6411\n",
      "Epoch 5: val_accuracy did not improve from 0.75926\n",
      "\u001b[1m6/6\u001b[0m \u001b[32m━━━━━━━━━━━━━━━━━━━━\u001b[0m\u001b[37m\u001b[0m \u001b[1m7s\u001b[0m 1s/step - AUC: 0.7332 - Precision: 0.6309 - Recall: 0.8920 - accuracy: 0.6982 - loss: 0.6387 - val_AUC: 0.7669 - val_Precision: 0.7500 - val_Recall: 0.8276 - val_accuracy: 0.7593 - val_loss: 0.6278 - learning_rate: 5.0000e-04\n",
      "Restoring model weights from the end of the best epoch: 4.\n",
      "Epoch 5: early stopping\n",
      "\u001b[1m7/7\u001b[0m \u001b[32m━━━━━━━━━━━━━━━━━━━━\u001b[0m\u001b[37m\u001b[0m \u001b[1m1s\u001b[0m 136ms/step\n",
      "Fold 2/15\n",
      "Training fold shape: (746, 224, 224, 3)\n",
      "Validation fold shape: (54, 224, 224, 3)\n",
      "Epoch 1/50\n",
      "\u001b[1m6/6\u001b[0m \u001b[32m━━━━━━━━━━━━━━━━━━━━\u001b[0m\u001b[37m\u001b[0m \u001b[1m0s\u001b[0m 1s/step - AUC: 0.5303 - Precision: 0.5116 - Recall: 0.4886 - accuracy: 0.5338 - loss: 0.8287\n",
      "Epoch 1: val_accuracy improved from -inf to 0.44444, saving model to outputresults/model_cv15_fold2.h5\n"
     ]
    },
    {
     "name": "stderr",
     "output_type": "stream",
     "text": [
      "WARNING:absl:You are saving your model as an HDF5 file via `model.save()` or `keras.saving.save_model(model)`. This file format is considered legacy. We recommend using instead the native Keras format, e.g. `model.save('my_model.keras')` or `keras.saving.save_model(model, 'my_model.keras')`. \n"
     ]
    },
    {
     "name": "stdout",
     "output_type": "stream",
     "text": [
      "\u001b[1m6/6\u001b[0m \u001b[32m━━━━━━━━━━━━━━━━━━━━\u001b[0m\u001b[37m\u001b[0m \u001b[1m17s\u001b[0m 1s/step - AUC: 0.5302 - Precision: 0.5132 - Recall: 0.5006 - accuracy: 0.5328 - loss: 0.8322 - val_AUC: 0.7333 - val_Precision: 0.4444 - val_Recall: 1.0000 - val_accuracy: 0.4444 - val_loss: 0.7275 - learning_rate: 5.0000e-04\n",
      "Epoch 2/50\n",
      "\u001b[1m6/6\u001b[0m \u001b[32m━━━━━━━━━━━━━━━━━━━━\u001b[0m\u001b[37m\u001b[0m \u001b[1m0s\u001b[0m 1s/step - AUC: 0.4944 - Precision: 0.4666 - Recall: 0.4232 - accuracy: 0.4822 - loss: 0.7497\n",
      "Epoch 2: val_accuracy improved from 0.44444 to 0.50000, saving model to outputresults/model_cv15_fold2.h5\n"
     ]
    },
    {
     "name": "stderr",
     "output_type": "stream",
     "text": [
      "WARNING:absl:You are saving your model as an HDF5 file via `model.save()` or `keras.saving.save_model(model)`. This file format is considered legacy. We recommend using instead the native Keras format, e.g. `model.save('my_model.keras')` or `keras.saving.save_model(model, 'my_model.keras')`. \n"
     ]
    },
    {
     "name": "stdout",
     "output_type": "stream",
     "text": [
      "\u001b[1m6/6\u001b[0m \u001b[32m━━━━━━━━━━━━━━━━━━━━\u001b[0m\u001b[37m\u001b[0m \u001b[1m7s\u001b[0m 1s/step - AUC: 0.4945 - Precision: 0.4709 - Recall: 0.4142 - accuracy: 0.4846 - loss: 0.7489 - val_AUC: 0.7292 - val_Precision: 0.4681 - val_Recall: 0.9167 - val_accuracy: 0.5000 - val_loss: 0.7225 - learning_rate: 5.0000e-04\n",
      "Epoch 3/50\n",
      "\u001b[1m6/6\u001b[0m \u001b[32m━━━━━━━━━━━━━━━━━━━━\u001b[0m\u001b[37m\u001b[0m \u001b[1m0s\u001b[0m 1s/step - AUC: 0.6558 - Precision: 0.5696 - Recall: 0.8431 - accuracy: 0.6159 - loss: 0.6745\n",
      "Epoch 3: val_accuracy improved from 0.50000 to 0.68519, saving model to outputresults/model_cv15_fold2.h5\n"
     ]
    },
    {
     "name": "stderr",
     "output_type": "stream",
     "text": [
      "WARNING:absl:You are saving your model as an HDF5 file via `model.save()` or `keras.saving.save_model(model)`. This file format is considered legacy. We recommend using instead the native Keras format, e.g. `model.save('my_model.keras')` or `keras.saving.save_model(model, 'my_model.keras')`. \n"
     ]
    },
    {
     "name": "stdout",
     "output_type": "stream",
     "text": [
      "\u001b[1m6/6\u001b[0m \u001b[32m━━━━━━━━━━━━━━━━━━━━\u001b[0m\u001b[37m\u001b[0m \u001b[1m7s\u001b[0m 1s/step - AUC: 0.6539 - Precision: 0.5740 - Recall: 0.8271 - accuracy: 0.6169 - loss: 0.6733 - val_AUC: 0.7257 - val_Precision: 0.6000 - val_Recall: 0.8750 - val_accuracy: 0.6852 - val_loss: 0.6345 - learning_rate: 5.0000e-04\n",
      "Epoch 4/50\n",
      "\u001b[1m6/6\u001b[0m \u001b[32m━━━━━━━━━━━━━━━━━━━━\u001b[0m\u001b[37m\u001b[0m \u001b[1m0s\u001b[0m 1s/step - AUC: 0.7240 - Precision: 0.6408 - Recall: 0.7816 - accuracy: 0.6928 - loss: 0.6083\n",
      "Epoch 4: val_accuracy did not improve from 0.68519\n",
      "\u001b[1m6/6\u001b[0m \u001b[32m━━━━━━━━━━━━━━━━━━━━\u001b[0m\u001b[37m\u001b[0m \u001b[1m7s\u001b[0m 1s/step - AUC: 0.7257 - Precision: 0.6449 - Recall: 0.7890 - accuracy: 0.6955 - loss: 0.6089 - val_AUC: 0.7736 - val_Precision: 0.6000 - val_Recall: 0.8750 - val_accuracy: 0.6852 - val_loss: 0.6308 - learning_rate: 5.0000e-04\n",
      "Epoch 5/50\n",
      "\u001b[1m6/6\u001b[0m \u001b[32m━━━━━━━━━━━━━━━━━━━━\u001b[0m\u001b[37m\u001b[0m \u001b[1m0s\u001b[0m 1s/step - AUC: 0.7596 - Precision: 0.6940 - Recall: 0.8959 - accuracy: 0.7455 - loss: 0.5883\n",
      "Epoch 5: val_accuracy did not improve from 0.68519\n",
      "\u001b[1m6/6\u001b[0m \u001b[32m━━━━━━━━━━━━━━━━━━━━\u001b[0m\u001b[37m\u001b[0m \u001b[1m7s\u001b[0m 1s/step - AUC: 0.7590 - Precision: 0.6919 - Recall: 0.8915 - accuracy: 0.7431 - loss: 0.5894 - val_AUC: 0.6743 - val_Precision: 0.6000 - val_Recall: 0.8750 - val_accuracy: 0.6852 - val_loss: 0.6314 - learning_rate: 5.0000e-04\n",
      "Restoring model weights from the end of the best epoch: 3.\n",
      "Epoch 5: early stopping\n",
      "\u001b[1m7/7\u001b[0m \u001b[32m━━━━━━━━━━━━━━━━━━━━\u001b[0m\u001b[37m\u001b[0m \u001b[1m1s\u001b[0m 135ms/step\n",
      "Fold 3/15\n",
      "Training fold shape: (746, 224, 224, 3)\n",
      "Validation fold shape: (54, 224, 224, 3)\n",
      "Epoch 1/50\n",
      "\u001b[1m6/6\u001b[0m \u001b[32m━━━━━━━━━━━━━━━━━━━━\u001b[0m\u001b[37m\u001b[0m \u001b[1m0s\u001b[0m 1s/step - AUC: 0.5125 - Precision: 0.4990 - Recall: 0.4956 - accuracy: 0.5200 - loss: 0.9399\n",
      "Epoch 1: val_accuracy improved from -inf to 0.57407, saving model to outputresults/model_cv15_fold3.h5\n"
     ]
    },
    {
     "name": "stderr",
     "output_type": "stream",
     "text": [
      "WARNING:absl:You are saving your model as an HDF5 file via `model.save()` or `keras.saving.save_model(model)`. This file format is considered legacy. We recommend using instead the native Keras format, e.g. `model.save('my_model.keras')` or `keras.saving.save_model(model, 'my_model.keras')`. \n"
     ]
    },
    {
     "name": "stdout",
     "output_type": "stream",
     "text": [
      "\u001b[1m6/6\u001b[0m \u001b[32m━━━━━━━━━━━━━━━━━━━━\u001b[0m\u001b[37m\u001b[0m \u001b[1m18s\u001b[0m 1s/step - AUC: 0.5131 - Precision: 0.5031 - Recall: 0.4995 - accuracy: 0.5225 - loss: 0.9409 - val_AUC: 0.7532 - val_Precision: 0.5741 - val_Recall: 1.0000 - val_accuracy: 0.5741 - val_loss: 0.7922 - learning_rate: 5.0000e-04\n",
      "Epoch 2/50\n",
      "\u001b[1m6/6\u001b[0m \u001b[32m━━━━━━━━━━━━━━━━━━━━\u001b[0m\u001b[37m\u001b[0m \u001b[1m0s\u001b[0m 1s/step - AUC: 0.5047 - Precision: 0.4905 - Recall: 0.6760 - accuracy: 0.4922 - loss: 0.7663\n",
      "Epoch 2: val_accuracy did not improve from 0.57407\n",
      "\u001b[1m6/6\u001b[0m \u001b[32m━━━━━━━━━━━━━━━━━━━━\u001b[0m\u001b[37m\u001b[0m \u001b[1m6s\u001b[0m 1s/step - AUC: 0.5033 - Precision: 0.4886 - Recall: 0.6377 - accuracy: 0.4922 - loss: 0.7650 - val_AUC: 0.7574 - val_Precision: 0.0000e+00 - val_Recall: 0.0000e+00 - val_accuracy: 0.4259 - val_loss: 0.7368 - learning_rate: 5.0000e-04\n",
      "Epoch 3/50\n",
      "\u001b[1m6/6\u001b[0m \u001b[32m━━━━━━━━━━━━━━━━━━━━\u001b[0m\u001b[37m\u001b[0m \u001b[1m0s\u001b[0m 1s/step - AUC: 0.5920 - Precision: 0.5894 - Recall: 0.4423 - accuracy: 0.5502 - loss: 0.6974\n",
      "Epoch 3: val_accuracy improved from 0.57407 to 0.75926, saving model to outputresults/model_cv15_fold3.h5\n"
     ]
    },
    {
     "name": "stderr",
     "output_type": "stream",
     "text": [
      "WARNING:absl:You are saving your model as an HDF5 file via `model.save()` or `keras.saving.save_model(model)`. This file format is considered legacy. We recommend using instead the native Keras format, e.g. `model.save('my_model.keras')` or `keras.saving.save_model(model, 'my_model.keras')`. \n"
     ]
    },
    {
     "name": "stdout",
     "output_type": "stream",
     "text": [
      "\u001b[1m6/6\u001b[0m \u001b[32m━━━━━━━━━━━━━━━━━━━━\u001b[0m\u001b[37m\u001b[0m \u001b[1m7s\u001b[0m 1s/step - AUC: 0.5963 - Precision: 0.5867 - Recall: 0.4691 - accuracy: 0.5554 - loss: 0.6945 - val_AUC: 0.8036 - val_Precision: 0.7647 - val_Recall: 0.8387 - val_accuracy: 0.7593 - val_loss: 0.6154 - learning_rate: 5.0000e-04\n",
      "Epoch 4/50\n",
      "\u001b[1m6/6\u001b[0m \u001b[32m━━━━━━━━━━━━━━━━━━━━\u001b[0m\u001b[37m\u001b[0m \u001b[1m0s\u001b[0m 1s/step - AUC: 0.7015 - Precision: 0.6319 - Recall: 0.7554 - accuracy: 0.6712 - loss: 0.6336\n",
      "Epoch 4: val_accuracy did not improve from 0.75926\n",
      "\u001b[1m6/6\u001b[0m \u001b[32m━━━━━━━━━━━━━━━━━━━━\u001b[0m\u001b[37m\u001b[0m \u001b[1m7s\u001b[0m 1s/step - AUC: 0.7037 - Precision: 0.6358 - Recall: 0.7438 - accuracy: 0.6711 - loss: 0.6337 - val_AUC: 0.7742 - val_Precision: 0.7647 - val_Recall: 0.8387 - val_accuracy: 0.7593 - val_loss: 0.6897 - learning_rate: 5.0000e-04\n",
      "Epoch 5/50\n",
      "\u001b[1m6/6\u001b[0m \u001b[32m━━━━━━━━━━━━━━━━━━━━\u001b[0m\u001b[37m\u001b[0m \u001b[1m0s\u001b[0m 1s/step - AUC: 0.7204 - Precision: 0.6203 - Recall: 0.8226 - accuracy: 0.6750 - loss: 0.6288\n",
      "Epoch 5: val_accuracy did not improve from 0.75926\n",
      "\u001b[1m6/6\u001b[0m \u001b[32m━━━━━━━━━━━━━━━━━━━━\u001b[0m\u001b[37m\u001b[0m \u001b[1m7s\u001b[0m 1s/step - AUC: 0.7224 - Precision: 0.6241 - Recall: 0.8284 - accuracy: 0.6789 - loss: 0.6276 - val_AUC: 0.7546 - val_Precision: 0.7647 - val_Recall: 0.8387 - val_accuracy: 0.7593 - val_loss: 0.5875 - learning_rate: 5.0000e-04\n",
      "Restoring model weights from the end of the best epoch: 3.\n",
      "Epoch 5: early stopping\n",
      "\u001b[1m7/7\u001b[0m \u001b[32m━━━━━━━━━━━━━━━━━━━━\u001b[0m\u001b[37m\u001b[0m \u001b[1m1s\u001b[0m 159ms/step\n",
      "Fold 4/15\n",
      "Training fold shape: (746, 224, 224, 3)\n",
      "Validation fold shape: (54, 224, 224, 3)\n",
      "Epoch 1/50\n",
      "\u001b[1m6/6\u001b[0m \u001b[32m━━━━━━━━━━━━━━━━━━━━\u001b[0m\u001b[37m\u001b[0m \u001b[1m0s\u001b[0m 1s/step - AUC: 0.4620 - Precision: 0.4663 - Recall: 0.3706 - accuracy: 0.4651 - loss: 0.9474\n",
      "Epoch 1: val_accuracy improved from -inf to 0.53704, saving model to outputresults/model_cv15_fold4.h5\n"
     ]
    },
    {
     "name": "stderr",
     "output_type": "stream",
     "text": [
      "WARNING:absl:You are saving your model as an HDF5 file via `model.save()` or `keras.saving.save_model(model)`. This file format is considered legacy. We recommend using instead the native Keras format, e.g. `model.save('my_model.keras')` or `keras.saving.save_model(model, 'my_model.keras')`. \n"
     ]
    },
    {
     "name": "stdout",
     "output_type": "stream",
     "text": [
      "\u001b[1m6/6\u001b[0m \u001b[32m━━━━━━━━━━━━━━━━━━━━\u001b[0m\u001b[37m\u001b[0m \u001b[1m16s\u001b[0m 1s/step - AUC: 0.4633 - Precision: 0.4654 - Recall: 0.3796 - accuracy: 0.4658 - loss: 0.9384 - val_AUC: 0.7159 - val_Precision: 0.5370 - val_Recall: 1.0000 - val_accuracy: 0.5370 - val_loss: 0.7138 - learning_rate: 5.0000e-04\n",
      "Epoch 2/50\n",
      "\u001b[1m6/6\u001b[0m \u001b[32m━━━━━━━━━━━━━━━━━━━━\u001b[0m\u001b[37m\u001b[0m \u001b[1m0s\u001b[0m 1s/step - AUC: 0.5261 - Precision: 0.5178 - Recall: 0.5329 - accuracy: 0.5199 - loss: 0.7124\n",
      "Epoch 2: val_accuracy improved from 0.53704 to 0.57407, saving model to outputresults/model_cv15_fold4.h5\n"
     ]
    },
    {
     "name": "stderr",
     "output_type": "stream",
     "text": [
      "WARNING:absl:You are saving your model as an HDF5 file via `model.save()` or `keras.saving.save_model(model)`. This file format is considered legacy. We recommend using instead the native Keras format, e.g. `model.save('my_model.keras')` or `keras.saving.save_model(model, 'my_model.keras')`. \n"
     ]
    },
    {
     "name": "stdout",
     "output_type": "stream",
     "text": [
      "\u001b[1m6/6\u001b[0m \u001b[32m━━━━━━━━━━━━━━━━━━━━\u001b[0m\u001b[37m\u001b[0m \u001b[1m7s\u001b[0m 1s/step - AUC: 0.5281 - Precision: 0.5201 - Recall: 0.5148 - accuracy: 0.5218 - loss: 0.7120 - val_AUC: 0.7910 - val_Precision: 0.5625 - val_Recall: 0.9310 - val_accuracy: 0.5741 - val_loss: 0.6739 - learning_rate: 5.0000e-04\n",
      "Epoch 3/50\n",
      "\u001b[1m6/6\u001b[0m \u001b[32m━━━━━━━━━━━━━━━━━━━━\u001b[0m\u001b[37m\u001b[0m \u001b[1m0s\u001b[0m 1s/step - AUC: 0.6385 - Precision: 0.5580 - Recall: 0.6827 - accuracy: 0.6006 - loss: 0.6692\n",
      "Epoch 3: val_accuracy improved from 0.57407 to 0.68519, saving model to outputresults/model_cv15_fold4.h5\n"
     ]
    },
    {
     "name": "stderr",
     "output_type": "stream",
     "text": [
      "WARNING:absl:You are saving your model as an HDF5 file via `model.save()` or `keras.saving.save_model(model)`. This file format is considered legacy. We recommend using instead the native Keras format, e.g. `model.save('my_model.keras')` or `keras.saving.save_model(model, 'my_model.keras')`. \n"
     ]
    },
    {
     "name": "stdout",
     "output_type": "stream",
     "text": [
      "\u001b[1m6/6\u001b[0m \u001b[32m━━━━━━━━━━━━━━━━━━━━\u001b[0m\u001b[37m\u001b[0m \u001b[1m7s\u001b[0m 1s/step - AUC: 0.6450 - Precision: 0.5656 - Recall: 0.6887 - accuracy: 0.6059 - loss: 0.6665 - val_AUC: 0.8248 - val_Precision: 0.6500 - val_Recall: 0.8966 - val_accuracy: 0.6852 - val_loss: 0.6603 - learning_rate: 5.0000e-04\n",
      "Epoch 4/50\n",
      "\u001b[1m6/6\u001b[0m \u001b[32m━━━━━━━━━━━━━━━━━━━━\u001b[0m\u001b[37m\u001b[0m \u001b[1m0s\u001b[0m 1s/step - AUC: 0.6767 - Precision: 0.6493 - Recall: 0.8707 - accuracy: 0.6968 - loss: 0.6421\n",
      "Epoch 4: val_accuracy did not improve from 0.68519\n",
      "\u001b[1m6/6\u001b[0m \u001b[32m━━━━━━━━━━━━━━━━━━━━\u001b[0m\u001b[37m\u001b[0m \u001b[1m7s\u001b[0m 1s/step - AUC: 0.6806 - Precision: 0.6491 - Recall: 0.8709 - accuracy: 0.6978 - loss: 0.6403 - val_AUC: 0.8041 - val_Precision: 0.6500 - val_Recall: 0.8966 - val_accuracy: 0.6852 - val_loss: 0.6388 - learning_rate: 5.0000e-04\n",
      "Epoch 5/50\n",
      "\u001b[1m6/6\u001b[0m \u001b[32m━━━━━━━━━━━━━━━━━━━━\u001b[0m\u001b[37m\u001b[0m \u001b[1m0s\u001b[0m 1s/step - AUC: 0.7462 - Precision: 0.6686 - Recall: 0.8117 - accuracy: 0.7121 - loss: 0.6098\n",
      "Epoch 5: val_accuracy did not improve from 0.68519\n",
      "\u001b[1m6/6\u001b[0m \u001b[32m━━━━━━━━━━━━━━━━━━━━\u001b[0m\u001b[37m\u001b[0m \u001b[1m7s\u001b[0m 1s/step - AUC: 0.7438 - Precision: 0.6671 - Recall: 0.8110 - accuracy: 0.7101 - loss: 0.6108 - val_AUC: 0.8048 - val_Precision: 0.6500 - val_Recall: 0.8966 - val_accuracy: 0.6852 - val_loss: 0.6441 - learning_rate: 5.0000e-04\n",
      "Restoring model weights from the end of the best epoch: 3.\n",
      "Epoch 5: early stopping\n",
      "\u001b[1m7/7\u001b[0m \u001b[32m━━━━━━━━━━━━━━━━━━━━\u001b[0m\u001b[37m\u001b[0m \u001b[1m1s\u001b[0m 129ms/step\n",
      "Fold 5/15\n",
      "Training fold shape: (746, 224, 224, 3)\n",
      "Validation fold shape: (54, 224, 224, 3)\n",
      "Epoch 1/50\n",
      "\u001b[1m6/6\u001b[0m \u001b[32m━━━━━━━━━━━━━━━━━━━━\u001b[0m\u001b[37m\u001b[0m \u001b[1m0s\u001b[0m 1s/step - AUC: 0.5488 - Precision: 0.5499 - Recall: 0.6170 - accuracy: 0.5584 - loss: 0.8309\n",
      "Epoch 1: val_accuracy improved from -inf to 0.51852, saving model to outputresults/model_cv15_fold5.h5\n"
     ]
    },
    {
     "name": "stderr",
     "output_type": "stream",
     "text": [
      "WARNING:absl:You are saving your model as an HDF5 file via `model.save()` or `keras.saving.save_model(model)`. This file format is considered legacy. We recommend using instead the native Keras format, e.g. `model.save('my_model.keras')` or `keras.saving.save_model(model, 'my_model.keras')`. \n"
     ]
    },
    {
     "name": "stdout",
     "output_type": "stream",
     "text": [
      "\u001b[1m6/6\u001b[0m \u001b[32m━━━━━━━━━━━━━━━━━━━━\u001b[0m\u001b[37m\u001b[0m \u001b[1m17s\u001b[0m 1s/step - AUC: 0.5471 - Precision: 0.5469 - Recall: 0.5992 - accuracy: 0.5544 - loss: 0.8351 - val_AUC: 0.7328 - val_Precision: 0.0000e+00 - val_Recall: 0.0000e+00 - val_accuracy: 0.5185 - val_loss: 0.6869 - learning_rate: 5.0000e-04\n",
      "Epoch 2/50\n",
      "\u001b[1m6/6\u001b[0m \u001b[32m━━━━━━━━━━━━━━━━━━━━\u001b[0m\u001b[37m\u001b[0m \u001b[1m0s\u001b[0m 1s/step - AUC: 0.5441 - Precision: 0.5418 - Recall: 0.5684 - accuracy: 0.5562 - loss: 0.7175\n",
      "Epoch 2: val_accuracy did not improve from 0.51852\n",
      "\u001b[1m6/6\u001b[0m \u001b[32m━━━━━━━━━━━━━━━━━━━━\u001b[0m\u001b[37m\u001b[0m \u001b[1m7s\u001b[0m 1s/step - AUC: 0.5462 - Precision: 0.5416 - Recall: 0.5837 - accuracy: 0.5558 - loss: 0.7168 - val_AUC: 0.7321 - val_Precision: 0.0000e+00 - val_Recall: 0.0000e+00 - val_accuracy: 0.5185 - val_loss: 0.6781 - learning_rate: 5.0000e-04\n",
      "Epoch 3/50\n",
      "\u001b[1m6/6\u001b[0m \u001b[32m━━━━━━━━━━━━━━━━━━━━\u001b[0m\u001b[37m\u001b[0m \u001b[1m0s\u001b[0m 1s/step - AUC: 0.6415 - Precision: 0.5798 - Recall: 0.4203 - accuracy: 0.5653 - loss: 0.6823\n",
      "Epoch 3: val_accuracy improved from 0.51852 to 0.64815, saving model to outputresults/model_cv15_fold5.h5\n"
     ]
    },
    {
     "name": "stderr",
     "output_type": "stream",
     "text": [
      "WARNING:absl:You are saving your model as an HDF5 file via `model.save()` or `keras.saving.save_model(model)`. This file format is considered legacy. We recommend using instead the native Keras format, e.g. `model.save('my_model.keras')` or `keras.saving.save_model(model, 'my_model.keras')`. \n"
     ]
    },
    {
     "name": "stdout",
     "output_type": "stream",
     "text": [
      "\u001b[1m6/6\u001b[0m \u001b[32m━━━━━━━━━━━━━━━━━━━━\u001b[0m\u001b[37m\u001b[0m \u001b[1m7s\u001b[0m 1s/step - AUC: 0.6461 - Precision: 0.5853 - Recall: 0.4452 - accuracy: 0.5726 - loss: 0.6799 - val_AUC: 0.7438 - val_Precision: 0.5946 - val_Recall: 0.8462 - val_accuracy: 0.6481 - val_loss: 0.6925 - learning_rate: 5.0000e-04\n",
      "Epoch 4/50\n",
      "\u001b[1m6/6\u001b[0m \u001b[32m━━━━━━━━━━━━━━━━━━━━\u001b[0m\u001b[37m\u001b[0m \u001b[1m0s\u001b[0m 1s/step - AUC: 0.7161 - Precision: 0.6562 - Recall: 0.8826 - accuracy: 0.7114 - loss: 0.6338\n",
      "Epoch 4: val_accuracy improved from 0.64815 to 0.72222, saving model to outputresults/model_cv15_fold5.h5\n"
     ]
    },
    {
     "name": "stderr",
     "output_type": "stream",
     "text": [
      "WARNING:absl:You are saving your model as an HDF5 file via `model.save()` or `keras.saving.save_model(model)`. This file format is considered legacy. We recommend using instead the native Keras format, e.g. `model.save('my_model.keras')` or `keras.saving.save_model(model, 'my_model.keras')`. \n"
     ]
    },
    {
     "name": "stdout",
     "output_type": "stream",
     "text": [
      "\u001b[1m6/6\u001b[0m \u001b[32m━━━━━━━━━━━━━━━━━━━━\u001b[0m\u001b[37m\u001b[0m \u001b[1m7s\u001b[0m 1s/step - AUC: 0.7149 - Precision: 0.6555 - Recall: 0.8797 - accuracy: 0.7101 - loss: 0.6335 - val_AUC: 0.7500 - val_Precision: 0.6667 - val_Recall: 0.8462 - val_accuracy: 0.7222 - val_loss: 0.6634 - learning_rate: 5.0000e-04\n",
      "Epoch 5/50\n",
      "\u001b[1m6/6\u001b[0m \u001b[32m━━━━━━━━━━━━━━━━━━━━\u001b[0m\u001b[37m\u001b[0m \u001b[1m0s\u001b[0m 1s/step - AUC: 0.7546 - Precision: 0.6883 - Recall: 0.7918 - accuracy: 0.7117 - loss: 0.5994\n",
      "Epoch 5: val_accuracy did not improve from 0.72222\n",
      "\u001b[1m6/6\u001b[0m \u001b[32m━━━━━━━━━━━━━━━━━━━━\u001b[0m\u001b[37m\u001b[0m \u001b[1m7s\u001b[0m 1s/step - AUC: 0.7539 - Precision: 0.6855 - Recall: 0.7996 - accuracy: 0.7123 - loss: 0.5992 - val_AUC: 0.7225 - val_Precision: 0.6286 - val_Recall: 0.8462 - val_accuracy: 0.6852 - val_loss: 0.6803 - learning_rate: 5.0000e-04\n",
      "Restoring model weights from the end of the best epoch: 4.\n",
      "Epoch 5: early stopping\n",
      "\u001b[1m7/7\u001b[0m \u001b[32m━━━━━━━━━━━━━━━━━━━━\u001b[0m\u001b[37m\u001b[0m \u001b[1m1s\u001b[0m 146ms/step\n",
      "Fold 6/15\n",
      "Training fold shape: (747, 224, 224, 3)\n",
      "Validation fold shape: (53, 224, 224, 3)\n",
      "Epoch 1/50\n",
      "\u001b[1m6/6\u001b[0m \u001b[32m━━━━━━━━━━━━━━━━━━━━\u001b[0m\u001b[37m\u001b[0m \u001b[1m0s\u001b[0m 1s/step - AUC: 0.5020 - Precision: 0.5018 - Recall: 0.6170 - accuracy: 0.5025 - loss: 0.8577\n",
      "Epoch 1: val_accuracy improved from -inf to 0.58491, saving model to outputresults/model_cv15_fold6.h5\n"
     ]
    },
    {
     "name": "stderr",
     "output_type": "stream",
     "text": [
      "WARNING:absl:You are saving your model as an HDF5 file via `model.save()` or `keras.saving.save_model(model)`. This file format is considered legacy. We recommend using instead the native Keras format, e.g. `model.save('my_model.keras')` or `keras.saving.save_model(model, 'my_model.keras')`. \n"
     ]
    },
    {
     "name": "stdout",
     "output_type": "stream",
     "text": [
      "\u001b[1m6/6\u001b[0m \u001b[32m━━━━━━━━━━━━━━━━━━━━\u001b[0m\u001b[37m\u001b[0m \u001b[1m16s\u001b[0m 1s/step - AUC: 0.5018 - Precision: 0.5020 - Recall: 0.5984 - accuracy: 0.5024 - loss: 0.8601 - val_AUC: 0.7801 - val_Precision: 0.0000e+00 - val_Recall: 0.0000e+00 - val_accuracy: 0.5849 - val_loss: 0.6513 - learning_rate: 5.0000e-04\n",
      "Epoch 2/50\n",
      "\u001b[1m6/6\u001b[0m \u001b[32m━━━━━━━━━━━━━━━━━━━━\u001b[0m\u001b[37m\u001b[0m \u001b[1m0s\u001b[0m 1s/step - AUC: 0.5376 - Precision: 0.5141 - Recall: 0.6363 - accuracy: 0.5171 - loss: 0.7242\n",
      "Epoch 2: val_accuracy did not improve from 0.58491\n",
      "\u001b[1m6/6\u001b[0m \u001b[32m━━━━━━━━━━━━━━━━━━━━\u001b[0m\u001b[37m\u001b[0m \u001b[1m7s\u001b[0m 1s/step - AUC: 0.5388 - Precision: 0.5144 - Recall: 0.6393 - accuracy: 0.5175 - loss: 0.7239 - val_AUC: 0.7962 - val_Precision: 0.0000e+00 - val_Recall: 0.0000e+00 - val_accuracy: 0.5849 - val_loss: 0.6251 - learning_rate: 5.0000e-04\n",
      "Epoch 3/50\n",
      "\u001b[1m6/6\u001b[0m \u001b[32m━━━━━━━━━━━━━━━━━━━━\u001b[0m\u001b[37m\u001b[0m \u001b[1m0s\u001b[0m 1s/step - AUC: 0.6919 - Precision: 0.6217 - Recall: 0.2817 - accuracy: 0.5828 - loss: 0.6658\n",
      "Epoch 3: val_accuracy improved from 0.58491 to 0.67925, saving model to outputresults/model_cv15_fold6.h5\n"
     ]
    },
    {
     "name": "stderr",
     "output_type": "stream",
     "text": [
      "WARNING:absl:You are saving your model as an HDF5 file via `model.save()` or `keras.saving.save_model(model)`. This file format is considered legacy. We recommend using instead the native Keras format, e.g. `model.save('my_model.keras')` or `keras.saving.save_model(model, 'my_model.keras')`. \n"
     ]
    },
    {
     "name": "stdout",
     "output_type": "stream",
     "text": [
      "\u001b[1m6/6\u001b[0m \u001b[32m━━━━━━━━━━━━━━━━━━━━\u001b[0m\u001b[37m\u001b[0m \u001b[1m7s\u001b[0m 1s/step - AUC: 0.6925 - Precision: 0.6237 - Recall: 0.3087 - accuracy: 0.5852 - loss: 0.6655 - val_AUC: 0.7705 - val_Precision: 0.5641 - val_Recall: 1.0000 - val_accuracy: 0.6792 - val_loss: 0.6593 - learning_rate: 5.0000e-04\n",
      "Epoch 4/50\n",
      "\u001b[1m6/6\u001b[0m \u001b[32m━━━━━━━━━━━━━━━━━━━━\u001b[0m\u001b[37m\u001b[0m \u001b[1m0s\u001b[0m 1s/step - AUC: 0.7119 - Precision: 0.6502 - Recall: 0.8798 - accuracy: 0.6958 - loss: 0.6568\n",
      "Epoch 4: val_accuracy improved from 0.67925 to 0.69811, saving model to outputresults/model_cv15_fold6.h5\n"
     ]
    },
    {
     "name": "stderr",
     "output_type": "stream",
     "text": [
      "WARNING:absl:You are saving your model as an HDF5 file via `model.save()` or `keras.saving.save_model(model)`. This file format is considered legacy. We recommend using instead the native Keras format, e.g. `model.save('my_model.keras')` or `keras.saving.save_model(model, 'my_model.keras')`. \n"
     ]
    },
    {
     "name": "stdout",
     "output_type": "stream",
     "text": [
      "\u001b[1m6/6\u001b[0m \u001b[32m━━━━━━━━━━━━━━━━━━━━\u001b[0m\u001b[37m\u001b[0m \u001b[1m7s\u001b[0m 1s/step - AUC: 0.7125 - Precision: 0.6485 - Recall: 0.8775 - accuracy: 0.6945 - loss: 0.6552 - val_AUC: 0.7669 - val_Precision: 0.5938 - val_Recall: 0.8636 - val_accuracy: 0.6981 - val_loss: 0.5444 - learning_rate: 5.0000e-04\n",
      "Epoch 5/50\n",
      "\u001b[1m6/6\u001b[0m \u001b[32m━━━━━━━━━━━━━━━━━━━━\u001b[0m\u001b[37m\u001b[0m \u001b[1m0s\u001b[0m 1s/step - AUC: 0.6898 - Precision: 0.6038 - Recall: 0.4762 - accuracy: 0.5960 - loss: 0.6544\n",
      "Epoch 5: val_accuracy improved from 0.69811 to 0.71698, saving model to outputresults/model_cv15_fold6.h5\n"
     ]
    },
    {
     "name": "stderr",
     "output_type": "stream",
     "text": [
      "WARNING:absl:You are saving your model as an HDF5 file via `model.save()` or `keras.saving.save_model(model)`. This file format is considered legacy. We recommend using instead the native Keras format, e.g. `model.save('my_model.keras')` or `keras.saving.save_model(model, 'my_model.keras')`. \n"
     ]
    },
    {
     "name": "stdout",
     "output_type": "stream",
     "text": [
      "\u001b[1m6/6\u001b[0m \u001b[32m━━━━━━━━━━━━━━━━━━━━\u001b[0m\u001b[37m\u001b[0m \u001b[1m7s\u001b[0m 1s/step - AUC: 0.6941 - Precision: 0.6118 - Recall: 0.4926 - accuracy: 0.6026 - loss: 0.6516 - val_AUC: 0.7588 - val_Precision: 0.5946 - val_Recall: 1.0000 - val_accuracy: 0.7170 - val_loss: 0.6116 - learning_rate: 5.0000e-04\n",
      "Epoch 6/50\n",
      "\u001b[1m6/6\u001b[0m \u001b[32m━━━━━━━━━━━━━━━━━━━━\u001b[0m\u001b[37m\u001b[0m \u001b[1m0s\u001b[0m 1s/step - AUC: 0.7065 - Precision: 0.6568 - Recall: 0.9083 - accuracy: 0.7182 - loss: 0.6267\n",
      "Epoch 6: val_accuracy did not improve from 0.71698\n",
      "\u001b[1m6/6\u001b[0m \u001b[32m━━━━━━━━━━━━━━━━━━━━\u001b[0m\u001b[37m\u001b[0m \u001b[1m7s\u001b[0m 1s/step - AUC: 0.7096 - Precision: 0.6590 - Recall: 0.9077 - accuracy: 0.7200 - loss: 0.6243 - val_AUC: 0.7478 - val_Precision: 0.5946 - val_Recall: 1.0000 - val_accuracy: 0.7170 - val_loss: 0.5526 - learning_rate: 5.0000e-04\n",
      "Restoring model weights from the end of the best epoch: 5.\n",
      "Epoch 6: early stopping\n",
      "\u001b[1m7/7\u001b[0m \u001b[32m━━━━━━━━━━━━━━━━━━━━\u001b[0m\u001b[37m\u001b[0m \u001b[1m1s\u001b[0m 132ms/step\n",
      "Fold 7/15\n",
      "Training fold shape: (747, 224, 224, 3)\n",
      "Validation fold shape: (53, 224, 224, 3)\n",
      "Epoch 1/50\n",
      "\u001b[1m6/6\u001b[0m \u001b[32m━━━━━━━━━━━━━━━━━━━━\u001b[0m\u001b[37m\u001b[0m \u001b[1m0s\u001b[0m 1s/step - AUC: 0.4999 - Precision: 0.5202 - Recall: 0.3701 - accuracy: 0.4971 - loss: 0.9827\n",
      "Epoch 1: val_accuracy improved from -inf to 0.41509, saving model to outputresults/model_cv15_fold7.h5\n"
     ]
    },
    {
     "name": "stderr",
     "output_type": "stream",
     "text": [
      "WARNING:absl:You are saving your model as an HDF5 file via `model.save()` or `keras.saving.save_model(model)`. This file format is considered legacy. We recommend using instead the native Keras format, e.g. `model.save('my_model.keras')` or `keras.saving.save_model(model, 'my_model.keras')`. \n"
     ]
    },
    {
     "name": "stdout",
     "output_type": "stream",
     "text": [
      "\u001b[1m6/6\u001b[0m \u001b[32m━━━━━━━━━━━━━━━━━━━━\u001b[0m\u001b[37m\u001b[0m \u001b[1m16s\u001b[0m 1s/step - AUC: 0.4990 - Precision: 0.5181 - Recall: 0.3875 - accuracy: 0.4982 - loss: 0.9754 - val_AUC: 0.5704 - val_Precision: 0.4151 - val_Recall: 1.0000 - val_accuracy: 0.4151 - val_loss: 0.7061 - learning_rate: 5.0000e-04\n",
      "Epoch 2/50\n",
      "\u001b[1m6/6\u001b[0m \u001b[32m━━━━━━━━━━━━━━━━━━━━\u001b[0m\u001b[37m\u001b[0m \u001b[1m0s\u001b[0m 1s/step - AUC: 0.5312 - Precision: 0.5006 - Recall: 0.4125 - accuracy: 0.5045 - loss: 0.7165\n",
      "Epoch 2: val_accuracy did not improve from 0.41509\n",
      "\u001b[1m6/6\u001b[0m \u001b[32m━━━━━━━━━━━━━━━━━━━━\u001b[0m\u001b[37m\u001b[0m \u001b[1m8s\u001b[0m 1s/step - AUC: 0.5277 - Precision: 0.5015 - Recall: 0.4112 - accuracy: 0.5046 - loss: 0.7181 - val_AUC: 0.6884 - val_Precision: 0.4151 - val_Recall: 1.0000 - val_accuracy: 0.4151 - val_loss: 0.7410 - learning_rate: 5.0000e-04\n",
      "Epoch 3/50\n",
      "\u001b[1m6/6\u001b[0m \u001b[32m━━━━━━━━━━━━━━━━━━━━\u001b[0m\u001b[37m\u001b[0m \u001b[1m0s\u001b[0m 1s/step - AUC: 0.5402 - Precision: 0.5174 - Recall: 0.7004 - accuracy: 0.5413 - loss: 0.7185\n",
      "Epoch 3: val_accuracy improved from 0.41509 to 0.62264, saving model to outputresults/model_cv15_fold7.h5\n"
     ]
    },
    {
     "name": "stderr",
     "output_type": "stream",
     "text": [
      "WARNING:absl:You are saving your model as an HDF5 file via `model.save()` or `keras.saving.save_model(model)`. This file format is considered legacy. We recommend using instead the native Keras format, e.g. `model.save('my_model.keras')` or `keras.saving.save_model(model, 'my_model.keras')`. \n"
     ]
    },
    {
     "name": "stdout",
     "output_type": "stream",
     "text": [
      "\u001b[1m6/6\u001b[0m \u001b[32m━━━━━━━━━━━━━━━━━━━━\u001b[0m\u001b[37m\u001b[0m \u001b[1m8s\u001b[0m 1s/step - AUC: 0.5420 - Precision: 0.5215 - Recall: 0.6779 - accuracy: 0.5418 - loss: 0.7165 - val_AUC: 0.6716 - val_Precision: 0.5357 - val_Recall: 0.6818 - val_accuracy: 0.6226 - val_loss: 0.6539 - learning_rate: 5.0000e-04\n",
      "Epoch 4/50\n",
      "\u001b[1m6/6\u001b[0m \u001b[32m━━━━━━━━━━━━━━━━━━━━\u001b[0m\u001b[37m\u001b[0m \u001b[1m0s\u001b[0m 2s/step - AUC: 0.7323 - Precision: 0.6761 - Recall: 0.7601 - accuracy: 0.7014 - loss: 0.6247\n",
      "Epoch 4: val_accuracy did not improve from 0.62264\n",
      "\u001b[1m6/6\u001b[0m \u001b[32m━━━━━━━━━━━━━━━━━━━━\u001b[0m\u001b[37m\u001b[0m \u001b[1m10s\u001b[0m 2s/step - AUC: 0.7310 - Precision: 0.6752 - Recall: 0.7684 - accuracy: 0.7022 - loss: 0.6250 - val_AUC: 0.5997 - val_Precision: 0.5312 - val_Recall: 0.7727 - val_accuracy: 0.6226 - val_loss: 0.7622 - learning_rate: 5.0000e-04\n",
      "Epoch 5/50\n",
      "\u001b[1m6/6\u001b[0m \u001b[32m━━━━━━━━━━━━━━━━━━━━\u001b[0m\u001b[37m\u001b[0m \u001b[1m0s\u001b[0m 1s/step - AUC: 0.7161 - Precision: 0.6605 - Recall: 0.8839 - accuracy: 0.7109 - loss: 0.6229\n",
      "Epoch 5: val_accuracy improved from 0.62264 to 0.64151, saving model to outputresults/model_cv15_fold7.h5\n"
     ]
    },
    {
     "name": "stderr",
     "output_type": "stream",
     "text": [
      "WARNING:absl:You are saving your model as an HDF5 file via `model.save()` or `keras.saving.save_model(model)`. This file format is considered legacy. We recommend using instead the native Keras format, e.g. `model.save('my_model.keras')` or `keras.saving.save_model(model, 'my_model.keras')`. \n"
     ]
    },
    {
     "name": "stdout",
     "output_type": "stream",
     "text": [
      "\u001b[1m6/6\u001b[0m \u001b[32m━━━━━━━━━━━━━━━━━━━━\u001b[0m\u001b[37m\u001b[0m \u001b[1m8s\u001b[0m 1s/step - AUC: 0.7164 - Precision: 0.6595 - Recall: 0.8795 - accuracy: 0.7093 - loss: 0.6236 - val_AUC: 0.5968 - val_Precision: 0.5517 - val_Recall: 0.7273 - val_accuracy: 0.6415 - val_loss: 0.6789 - learning_rate: 5.0000e-04\n",
      "Epoch 6/50\n",
      "\u001b[1m6/6\u001b[0m \u001b[32m━━━━━━━━━━━━━━━━━━━━\u001b[0m\u001b[37m\u001b[0m \u001b[1m0s\u001b[0m 1s/step - AUC: 0.7560 - Precision: 0.7036 - Recall: 0.8208 - accuracy: 0.7277 - loss: 0.6014\n",
      "Epoch 6: val_accuracy did not improve from 0.64151\n",
      "\u001b[1m6/6\u001b[0m \u001b[32m━━━━━━━━━━━━━━━━━━━━\u001b[0m\u001b[37m\u001b[0m \u001b[1m8s\u001b[0m 1s/step - AUC: 0.7538 - Precision: 0.6994 - Recall: 0.8242 - accuracy: 0.7262 - loss: 0.6025 - val_AUC: 0.6400 - val_Precision: 0.5517 - val_Recall: 0.7273 - val_accuracy: 0.6415 - val_loss: 0.6553 - learning_rate: 5.0000e-04\n",
      "Restoring model weights from the end of the best epoch: 5.\n",
      "Epoch 6: early stopping\n",
      "\u001b[1m7/7\u001b[0m \u001b[32m━━━━━━━━━━━━━━━━━━━━\u001b[0m\u001b[37m\u001b[0m \u001b[1m2s\u001b[0m 182ms/step\n",
      "Fold 8/15\n",
      "Training fold shape: (747, 224, 224, 3)\n",
      "Validation fold shape: (53, 224, 224, 3)\n",
      "Epoch 1/50\n",
      "\u001b[1m6/6\u001b[0m \u001b[32m━━━━━━━━━━━━━━━━━━━━\u001b[0m\u001b[37m\u001b[0m \u001b[1m0s\u001b[0m 1s/step - AUC: 0.5035 - Precision: 0.5113 - Recall: 0.4930 - accuracy: 0.5051 - loss: 0.8928\n",
      "Epoch 1: val_accuracy improved from -inf to 0.49057, saving model to outputresults/model_cv15_fold8.h5\n"
     ]
    },
    {
     "name": "stderr",
     "output_type": "stream",
     "text": [
      "WARNING:absl:You are saving your model as an HDF5 file via `model.save()` or `keras.saving.save_model(model)`. This file format is considered legacy. We recommend using instead the native Keras format, e.g. `model.save('my_model.keras')` or `keras.saving.save_model(model, 'my_model.keras')`. \n"
     ]
    },
    {
     "name": "stdout",
     "output_type": "stream",
     "text": [
      "\u001b[1m6/6\u001b[0m \u001b[32m━━━━━━━━━━━━━━━━━━━━\u001b[0m\u001b[37m\u001b[0m \u001b[1m16s\u001b[0m 1s/step - AUC: 0.5083 - Precision: 0.5133 - Recall: 0.5021 - accuracy: 0.5089 - loss: 0.8867 - val_AUC: 0.8269 - val_Precision: 0.4906 - val_Recall: 1.0000 - val_accuracy: 0.4906 - val_loss: 0.7505 - learning_rate: 5.0000e-04\n",
      "Epoch 2/50\n",
      "\u001b[1m6/6\u001b[0m \u001b[32m━━━━━━━━━━━━━━━━━━━━\u001b[0m\u001b[37m\u001b[0m \u001b[1m0s\u001b[0m 1s/step - AUC: 0.4921 - Precision: 0.4821 - Recall: 0.5081 - accuracy: 0.4848 - loss: 0.7564\n",
      "Epoch 2: val_accuracy improved from 0.49057 to 0.75472, saving model to outputresults/model_cv15_fold8.h5\n"
     ]
    },
    {
     "name": "stderr",
     "output_type": "stream",
     "text": [
      "WARNING:absl:You are saving your model as an HDF5 file via `model.save()` or `keras.saving.save_model(model)`. This file format is considered legacy. We recommend using instead the native Keras format, e.g. `model.save('my_model.keras')` or `keras.saving.save_model(model, 'my_model.keras')`. \n"
     ]
    },
    {
     "name": "stdout",
     "output_type": "stream",
     "text": [
      "\u001b[1m6/6\u001b[0m \u001b[32m━━━━━━━━━━━━━━━━━━━━\u001b[0m\u001b[37m\u001b[0m \u001b[1m7s\u001b[0m 1s/step - AUC: 0.4931 - Precision: 0.4847 - Recall: 0.4977 - accuracy: 0.4876 - loss: 0.7550 - val_AUC: 0.8590 - val_Precision: 0.6857 - val_Recall: 0.9231 - val_accuracy: 0.7547 - val_loss: 0.5923 - learning_rate: 5.0000e-04\n",
      "Epoch 3/50\n",
      "\u001b[1m6/6\u001b[0m \u001b[32m━━━━━━━━━━━━━━━━━━━━\u001b[0m\u001b[37m\u001b[0m \u001b[1m0s\u001b[0m 1s/step - AUC: 0.6822 - Precision: 0.6247 - Recall: 0.7896 - accuracy: 0.6452 - loss: 0.6506\n",
      "Epoch 3: val_accuracy improved from 0.75472 to 0.81132, saving model to outputresults/model_cv15_fold8.h5\n"
     ]
    },
    {
     "name": "stderr",
     "output_type": "stream",
     "text": [
      "WARNING:absl:You are saving your model as an HDF5 file via `model.save()` or `keras.saving.save_model(model)`. This file format is considered legacy. We recommend using instead the native Keras format, e.g. `model.save('my_model.keras')` or `keras.saving.save_model(model, 'my_model.keras')`. \n"
     ]
    },
    {
     "name": "stdout",
     "output_type": "stream",
     "text": [
      "\u001b[1m6/6\u001b[0m \u001b[32m━━━━━━━━━━━━━━━━━━━━\u001b[0m\u001b[37m\u001b[0m \u001b[1m7s\u001b[0m 1s/step - AUC: 0.6829 - Precision: 0.6236 - Recall: 0.7772 - accuracy: 0.6440 - loss: 0.6507 - val_AUC: 0.8490 - val_Precision: 0.7500 - val_Recall: 0.9231 - val_accuracy: 0.8113 - val_loss: 0.5617 - learning_rate: 5.0000e-04\n",
      "Epoch 4/50\n",
      "\u001b[1m6/6\u001b[0m \u001b[32m━━━━━━━━━━━━━━━━━━━━\u001b[0m\u001b[37m\u001b[0m \u001b[1m0s\u001b[0m 1s/step - AUC: 0.7018 - Precision: 0.6306 - Recall: 0.7770 - accuracy: 0.6615 - loss: 0.6363\n",
      "Epoch 4: val_accuracy improved from 0.81132 to 0.83019, saving model to outputresults/model_cv15_fold8.h5\n"
     ]
    },
    {
     "name": "stderr",
     "output_type": "stream",
     "text": [
      "WARNING:absl:You are saving your model as an HDF5 file via `model.save()` or `keras.saving.save_model(model)`. This file format is considered legacy. We recommend using instead the native Keras format, e.g. `model.save('my_model.keras')` or `keras.saving.save_model(model, 'my_model.keras')`. \n"
     ]
    },
    {
     "name": "stdout",
     "output_type": "stream",
     "text": [
      "\u001b[1m6/6\u001b[0m \u001b[32m━━━━━━━━━━━━━━━━━━━━\u001b[0m\u001b[37m\u001b[0m \u001b[1m7s\u001b[0m 1s/step - AUC: 0.7051 - Precision: 0.6328 - Recall: 0.7841 - accuracy: 0.6654 - loss: 0.6343 - val_AUC: 0.8048 - val_Precision: 0.7742 - val_Recall: 0.9231 - val_accuracy: 0.8302 - val_loss: 0.5522 - learning_rate: 5.0000e-04\n",
      "Epoch 5/50\n",
      "\u001b[1m6/6\u001b[0m \u001b[32m━━━━━━━━━━━━━━━━━━━━\u001b[0m\u001b[37m\u001b[0m \u001b[1m0s\u001b[0m 1s/step - AUC: 0.7092 - Precision: 0.6372 - Recall: 0.6793 - accuracy: 0.6624 - loss: 0.6312\n",
      "Epoch 5: val_accuracy did not improve from 0.83019\n",
      "\u001b[1m6/6\u001b[0m \u001b[32m━━━━━━━━━━━━━━━━━━━━\u001b[0m\u001b[37m\u001b[0m \u001b[1m7s\u001b[0m 1s/step - AUC: 0.7104 - Precision: 0.6407 - Recall: 0.6857 - accuracy: 0.6649 - loss: 0.6308 - val_AUC: 0.8027 - val_Precision: 0.7500 - val_Recall: 0.9231 - val_accuracy: 0.8113 - val_loss: 0.5156 - learning_rate: 5.0000e-04\n",
      "Restoring model weights from the end of the best epoch: 4.\n",
      "Epoch 5: early stopping\n",
      "\u001b[1m7/7\u001b[0m \u001b[32m━━━━━━━━━━━━━━━━━━━━\u001b[0m\u001b[37m\u001b[0m \u001b[1m1s\u001b[0m 129ms/step\n",
      "Fold 9/15\n",
      "Training fold shape: (747, 224, 224, 3)\n",
      "Validation fold shape: (53, 224, 224, 3)\n",
      "Epoch 1/50\n",
      "\u001b[1m6/6\u001b[0m \u001b[32m━━━━━━━━━━━━━━━━━━━━\u001b[0m\u001b[37m\u001b[0m \u001b[1m0s\u001b[0m 1s/step - AUC: 0.5295 - Precision: 0.5219 - Recall: 0.5579 - accuracy: 0.5080 - loss: 0.8590\n",
      "Epoch 1: val_accuracy improved from -inf to 0.56604, saving model to outputresults/model_cv15_fold9.h5\n"
     ]
    },
    {
     "name": "stderr",
     "output_type": "stream",
     "text": [
      "WARNING:absl:You are saving your model as an HDF5 file via `model.save()` or `keras.saving.save_model(model)`. This file format is considered legacy. We recommend using instead the native Keras format, e.g. `model.save('my_model.keras')` or `keras.saving.save_model(model, 'my_model.keras')`. \n"
     ]
    },
    {
     "name": "stdout",
     "output_type": "stream",
     "text": [
      "\u001b[1m6/6\u001b[0m \u001b[32m━━━━━━━━━━━━━━━━━━━━\u001b[0m\u001b[37m\u001b[0m \u001b[1m16s\u001b[0m 1s/step - AUC: 0.5307 - Precision: 0.5211 - Recall: 0.5452 - accuracy: 0.5091 - loss: 0.8612 - val_AUC: 0.3630 - val_Precision: 0.0000e+00 - val_Recall: 0.0000e+00 - val_accuracy: 0.5660 - val_loss: 0.7524 - learning_rate: 5.0000e-04\n",
      "Epoch 2/50\n",
      "\u001b[1m6/6\u001b[0m \u001b[32m━━━━━━━━━━━━━━━━━━━━\u001b[0m\u001b[37m\u001b[0m \u001b[1m0s\u001b[0m 1s/step - AUC: 0.4828 - Precision: 0.5288 - Recall: 0.4513 - accuracy: 0.5123 - loss: 0.7599\n",
      "Epoch 2: val_accuracy did not improve from 0.56604\n",
      "\u001b[1m6/6\u001b[0m \u001b[32m━━━━━━━━━━━━━━━━━━━━\u001b[0m\u001b[37m\u001b[0m \u001b[1m7s\u001b[0m 1s/step - AUC: 0.4841 - Precision: 0.5262 - Recall: 0.4719 - accuracy: 0.5124 - loss: 0.7580 - val_AUC: 0.7833 - val_Precision: 0.0000e+00 - val_Recall: 0.0000e+00 - val_accuracy: 0.5660 - val_loss: 0.6562 - learning_rate: 5.0000e-04\n",
      "Epoch 3/50\n",
      "\u001b[1m6/6\u001b[0m \u001b[32m━━━━━━━━━━━━━━━━━━━━\u001b[0m\u001b[37m\u001b[0m \u001b[1m0s\u001b[0m 1s/step - AUC: 0.6041 - Precision: 0.6070 - Recall: 0.3472 - accuracy: 0.5666 - loss: 0.6860\n",
      "Epoch 3: val_accuracy improved from 0.56604 to 0.66038, saving model to outputresults/model_cv15_fold9.h5\n"
     ]
    },
    {
     "name": "stderr",
     "output_type": "stream",
     "text": [
      "WARNING:absl:You are saving your model as an HDF5 file via `model.save()` or `keras.saving.save_model(model)`. This file format is considered legacy. We recommend using instead the native Keras format, e.g. `model.save('my_model.keras')` or `keras.saving.save_model(model, 'my_model.keras')`. \n"
     ]
    },
    {
     "name": "stdout",
     "output_type": "stream",
     "text": [
      "\u001b[1m6/6\u001b[0m \u001b[32m━━━━━━━━━━━━━━━━━━━━\u001b[0m\u001b[37m\u001b[0m \u001b[1m7s\u001b[0m 1s/step - AUC: 0.6140 - Precision: 0.6137 - Recall: 0.3692 - accuracy: 0.5740 - loss: 0.6818 - val_AUC: 0.8109 - val_Precision: 0.5806 - val_Recall: 0.7826 - val_accuracy: 0.6604 - val_loss: 0.7240 - learning_rate: 5.0000e-04\n",
      "Epoch 4/50\n",
      "\u001b[1m6/6\u001b[0m \u001b[32m━━━━━━━━━━━━━━━━━━━━\u001b[0m\u001b[37m\u001b[0m \u001b[1m0s\u001b[0m 1s/step - AUC: 0.7395 - Precision: 0.6529 - Recall: 0.8907 - accuracy: 0.7080 - loss: 0.6165\n",
      "Epoch 4: val_accuracy improved from 0.66038 to 0.67925, saving model to outputresults/model_cv15_fold9.h5\n"
     ]
    },
    {
     "name": "stderr",
     "output_type": "stream",
     "text": [
      "WARNING:absl:You are saving your model as an HDF5 file via `model.save()` or `keras.saving.save_model(model)`. This file format is considered legacy. We recommend using instead the native Keras format, e.g. `model.save('my_model.keras')` or `keras.saving.save_model(model, 'my_model.keras')`. \n"
     ]
    },
    {
     "name": "stdout",
     "output_type": "stream",
     "text": [
      "\u001b[1m6/6\u001b[0m \u001b[32m━━━━━━━━━━━━━━━━━━━━\u001b[0m\u001b[37m\u001b[0m \u001b[1m7s\u001b[0m 1s/step - AUC: 0.7381 - Precision: 0.6536 - Recall: 0.8871 - accuracy: 0.7080 - loss: 0.6172 - val_AUC: 0.7572 - val_Precision: 0.6000 - val_Recall: 0.7826 - val_accuracy: 0.6792 - val_loss: 0.6782 - learning_rate: 5.0000e-04\n",
      "Epoch 5/50\n",
      "\u001b[1m6/6\u001b[0m \u001b[32m━━━━━━━━━━━━━━━━━━━━\u001b[0m\u001b[37m\u001b[0m \u001b[1m0s\u001b[0m 1s/step - AUC: 0.7461 - Precision: 0.6845 - Recall: 0.8295 - accuracy: 0.7158 - loss: 0.5995\n",
      "Epoch 5: val_accuracy did not improve from 0.67925\n",
      "\u001b[1m6/6\u001b[0m \u001b[32m━━━━━━━━━━━━━━━━━━━━\u001b[0m\u001b[37m\u001b[0m \u001b[1m7s\u001b[0m 1s/step - AUC: 0.7477 - Precision: 0.6833 - Recall: 0.8366 - accuracy: 0.7178 - loss: 0.5980 - val_AUC: 0.7667 - val_Precision: 0.6000 - val_Recall: 0.7826 - val_accuracy: 0.6792 - val_loss: 0.7129 - learning_rate: 5.0000e-04\n",
      "Restoring model weights from the end of the best epoch: 4.\n",
      "Epoch 5: early stopping\n",
      "\u001b[1m7/7\u001b[0m \u001b[32m━━━━━━━━━━━━━━━━━━━━\u001b[0m\u001b[37m\u001b[0m \u001b[1m1s\u001b[0m 130ms/step\n",
      "Fold 10/15\n",
      "Training fold shape: (747, 224, 224, 3)\n",
      "Validation fold shape: (53, 224, 224, 3)\n",
      "Epoch 1/50\n",
      "\u001b[1m6/6\u001b[0m \u001b[32m━━━━━━━━━━━━━━━━━━━━\u001b[0m\u001b[37m\u001b[0m \u001b[1m0s\u001b[0m 1s/step - AUC: 0.4983 - Precision: 0.4947 - Recall: 0.4288 - accuracy: 0.4844 - loss: 0.7944\n",
      "Epoch 1: val_accuracy improved from -inf to 0.56604, saving model to outputresults/model_cv15_fold10.h5\n"
     ]
    },
    {
     "name": "stderr",
     "output_type": "stream",
     "text": [
      "WARNING:absl:You are saving your model as an HDF5 file via `model.save()` or `keras.saving.save_model(model)`. This file format is considered legacy. We recommend using instead the native Keras format, e.g. `model.save('my_model.keras')` or `keras.saving.save_model(model, 'my_model.keras')`. \n"
     ]
    },
    {
     "name": "stdout",
     "output_type": "stream",
     "text": [
      "\u001b[1m6/6\u001b[0m \u001b[32m━━━━━━━━━━━━━━━━━━━━\u001b[0m\u001b[37m\u001b[0m \u001b[1m17s\u001b[0m 1s/step - AUC: 0.4956 - Precision: 0.4924 - Recall: 0.4372 - accuracy: 0.4837 - loss: 0.7955 - val_AUC: 0.7493 - val_Precision: 0.0000e+00 - val_Recall: 0.0000e+00 - val_accuracy: 0.5660 - val_loss: 0.6815 - learning_rate: 5.0000e-04\n",
      "Epoch 2/50\n",
      "\u001b[1m6/6\u001b[0m \u001b[32m━━━━━━━━━━━━━━━━━━━━\u001b[0m\u001b[37m\u001b[0m \u001b[1m0s\u001b[0m 1s/step - AUC: 0.4903 - Precision: 0.4744 - Recall: 0.3986 - accuracy: 0.4911 - loss: 0.7605\n",
      "Epoch 2: val_accuracy did not improve from 0.56604\n",
      "\u001b[1m6/6\u001b[0m \u001b[32m━━━━━━━━━━━━━━━━━━━━\u001b[0m\u001b[37m\u001b[0m \u001b[1m6s\u001b[0m 1s/step - AUC: 0.4934 - Precision: 0.4784 - Recall: 0.4228 - accuracy: 0.4929 - loss: 0.7573 - val_AUC: 0.7522 - val_Precision: 0.0000e+00 - val_Recall: 0.0000e+00 - val_accuracy: 0.5660 - val_loss: 0.6379 - learning_rate: 5.0000e-04\n",
      "Epoch 3/50\n",
      "\u001b[1m6/6\u001b[0m \u001b[32m━━━━━━━━━━━━━━━━━━━━\u001b[0m\u001b[37m\u001b[0m \u001b[1m0s\u001b[0m 1s/step - AUC: 0.6292 - Precision: 0.6174 - Recall: 0.4043 - accuracy: 0.5722 - loss: 0.6889\n",
      "Epoch 3: val_accuracy improved from 0.56604 to 0.67925, saving model to outputresults/model_cv15_fold10.h5\n"
     ]
    },
    {
     "name": "stderr",
     "output_type": "stream",
     "text": [
      "WARNING:absl:You are saving your model as an HDF5 file via `model.save()` or `keras.saving.save_model(model)`. This file format is considered legacy. We recommend using instead the native Keras format, e.g. `model.save('my_model.keras')` or `keras.saving.save_model(model, 'my_model.keras')`. \n"
     ]
    },
    {
     "name": "stdout",
     "output_type": "stream",
     "text": [
      "\u001b[1m6/6\u001b[0m \u001b[32m━━━━━━━━━━━━━━━━━━━━\u001b[0m\u001b[37m\u001b[0m \u001b[1m7s\u001b[0m 1s/step - AUC: 0.6345 - Precision: 0.6194 - Recall: 0.4258 - accuracy: 0.5784 - loss: 0.6854 - val_AUC: 0.7232 - val_Precision: 0.5833 - val_Recall: 0.9130 - val_accuracy: 0.6792 - val_loss: 0.6048 - learning_rate: 5.0000e-04\n",
      "Epoch 4/50\n",
      "\u001b[1m6/6\u001b[0m \u001b[32m━━━━━━━━━━━━━━━━━━━━\u001b[0m\u001b[37m\u001b[0m \u001b[1m0s\u001b[0m 1s/step - AUC: 0.7385 - Precision: 0.6642 - Recall: 0.8420 - accuracy: 0.7096 - loss: 0.6126\n",
      "Epoch 4: val_accuracy did not improve from 0.67925\n",
      "\u001b[1m6/6\u001b[0m \u001b[32m━━━━━━━━━━━━━━━━━━━━\u001b[0m\u001b[37m\u001b[0m \u001b[1m6s\u001b[0m 1s/step - AUC: 0.7354 - Precision: 0.6620 - Recall: 0.8362 - accuracy: 0.7060 - loss: 0.6156 - val_AUC: 0.6855 - val_Precision: 0.5882 - val_Recall: 0.8696 - val_accuracy: 0.6792 - val_loss: 0.6023 - learning_rate: 5.0000e-04\n",
      "Epoch 5/50\n",
      "\u001b[1m6/6\u001b[0m \u001b[32m━━━━━━━━━━━━━━━━━━━━\u001b[0m\u001b[37m\u001b[0m \u001b[1m0s\u001b[0m 1s/step - AUC: 0.7389 - Precision: 0.6358 - Recall: 0.8321 - accuracy: 0.6898 - loss: 0.6244\n",
      "Epoch 5: val_accuracy improved from 0.67925 to 0.69811, saving model to outputresults/model_cv15_fold10.h5\n"
     ]
    },
    {
     "name": "stderr",
     "output_type": "stream",
     "text": [
      "WARNING:absl:You are saving your model as an HDF5 file via `model.save()` or `keras.saving.save_model(model)`. This file format is considered legacy. We recommend using instead the native Keras format, e.g. `model.save('my_model.keras')` or `keras.saving.save_model(model, 'my_model.keras')`. \n"
     ]
    },
    {
     "name": "stdout",
     "output_type": "stream",
     "text": [
      "\u001b[1m6/6\u001b[0m \u001b[32m━━━━━━━━━━━━━━━━━━━━\u001b[0m\u001b[37m\u001b[0m \u001b[1m7s\u001b[0m 1s/step - AUC: 0.7383 - Precision: 0.6400 - Recall: 0.8281 - accuracy: 0.6913 - loss: 0.6234 - val_AUC: 0.7761 - val_Precision: 0.6000 - val_Recall: 0.9130 - val_accuracy: 0.6981 - val_loss: 0.5942 - learning_rate: 5.0000e-04\n",
      "Epoch 6/50\n",
      "\u001b[1m6/6\u001b[0m \u001b[32m━━━━━━━━━━━━━━━━━━━━\u001b[0m\u001b[37m\u001b[0m \u001b[1m0s\u001b[0m 1s/step - AUC: 0.7553 - Precision: 0.6763 - Recall: 0.8922 - accuracy: 0.7309 - loss: 0.5933\n",
      "Epoch 6: val_accuracy improved from 0.69811 to 0.71698, saving model to outputresults/model_cv15_fold10.h5\n"
     ]
    },
    {
     "name": "stderr",
     "output_type": "stream",
     "text": [
      "WARNING:absl:You are saving your model as an HDF5 file via `model.save()` or `keras.saving.save_model(model)`. This file format is considered legacy. We recommend using instead the native Keras format, e.g. `model.save('my_model.keras')` or `keras.saving.save_model(model, 'my_model.keras')`. \n"
     ]
    },
    {
     "name": "stdout",
     "output_type": "stream",
     "text": [
      "\u001b[1m6/6\u001b[0m \u001b[32m━━━━━━━━━━━━━━━━━━━━\u001b[0m\u001b[37m\u001b[0m \u001b[1m7s\u001b[0m 1s/step - AUC: 0.7526 - Precision: 0.6746 - Recall: 0.8915 - accuracy: 0.7293 - loss: 0.5957 - val_AUC: 0.7529 - val_Precision: 0.6176 - val_Recall: 0.9130 - val_accuracy: 0.7170 - val_loss: 0.5794 - learning_rate: 5.0000e-04\n",
      "Epoch 7/50\n",
      "\u001b[1m6/6\u001b[0m \u001b[32m━━━━━━━━━━━━━━━━━━━━\u001b[0m\u001b[37m\u001b[0m \u001b[1m0s\u001b[0m 1s/step - AUC: 0.7163 - Precision: 0.6607 - Recall: 0.7935 - accuracy: 0.6868 - loss: 0.6189\n",
      "Epoch 7: val_accuracy did not improve from 0.71698\n",
      "\u001b[1m6/6\u001b[0m \u001b[32m━━━━━━━━━━━━━━━━━━━━\u001b[0m\u001b[37m\u001b[0m \u001b[1m7s\u001b[0m 1s/step - AUC: 0.7188 - Precision: 0.6619 - Recall: 0.7977 - accuracy: 0.6899 - loss: 0.6175 - val_AUC: 0.7739 - val_Precision: 0.6176 - val_Recall: 0.9130 - val_accuracy: 0.7170 - val_loss: 0.5859 - learning_rate: 5.0000e-04\n",
      "Restoring model weights from the end of the best epoch: 6.\n",
      "Epoch 7: early stopping\n",
      "\u001b[1m7/7\u001b[0m \u001b[32m━━━━━━━━━━━━━━━━━━━━\u001b[0m\u001b[37m\u001b[0m \u001b[1m1s\u001b[0m 128ms/step\n",
      "Fold 11/15\n",
      "Training fold shape: (747, 224, 224, 3)\n",
      "Validation fold shape: (53, 224, 224, 3)\n",
      "Epoch 1/50\n",
      "\u001b[1m6/6\u001b[0m \u001b[32m━━━━━━━━━━━━━━━━━━━━\u001b[0m\u001b[37m\u001b[0m \u001b[1m0s\u001b[0m 1s/step - AUC: 0.5266 - Precision: 0.5299 - Recall: 0.5913 - accuracy: 0.5311 - loss: 0.8490\n",
      "Epoch 1: val_accuracy improved from -inf to 0.58491, saving model to outputresults/model_cv15_fold11.h5\n"
     ]
    },
    {
     "name": "stderr",
     "output_type": "stream",
     "text": [
      "WARNING:absl:You are saving your model as an HDF5 file via `model.save()` or `keras.saving.save_model(model)`. This file format is considered legacy. We recommend using instead the native Keras format, e.g. `model.save('my_model.keras')` or `keras.saving.save_model(model, 'my_model.keras')`. \n"
     ]
    },
    {
     "name": "stdout",
     "output_type": "stream",
     "text": [
      "\u001b[1m6/6\u001b[0m \u001b[32m━━━━━━━━━━━━━━━━━━━━\u001b[0m\u001b[37m\u001b[0m \u001b[1m16s\u001b[0m 1s/step - AUC: 0.5258 - Precision: 0.5264 - Recall: 0.5922 - accuracy: 0.5293 - loss: 0.8511 - val_AUC: 0.5968 - val_Precision: 0.5849 - val_Recall: 1.0000 - val_accuracy: 0.5849 - val_loss: 0.6803 - learning_rate: 5.0000e-04\n",
      "Epoch 2/50\n",
      "\u001b[1m6/6\u001b[0m \u001b[32m━━━━━━━━━━━━━━━━━━━━\u001b[0m\u001b[37m\u001b[0m \u001b[1m0s\u001b[0m 1s/step - AUC: 0.5119 - Precision: 0.5553 - Recall: 0.4715 - accuracy: 0.5419 - loss: 0.7300\n",
      "Epoch 2: val_accuracy improved from 0.58491 to 0.71698, saving model to outputresults/model_cv15_fold11.h5\n"
     ]
    },
    {
     "name": "stderr",
     "output_type": "stream",
     "text": [
      "WARNING:absl:You are saving your model as an HDF5 file via `model.save()` or `keras.saving.save_model(model)`. This file format is considered legacy. We recommend using instead the native Keras format, e.g. `model.save('my_model.keras')` or `keras.saving.save_model(model, 'my_model.keras')`. \n"
     ]
    },
    {
     "name": "stdout",
     "output_type": "stream",
     "text": [
      "\u001b[1m6/6\u001b[0m \u001b[32m━━━━━━━━━━━━━━━━━━━━\u001b[0m\u001b[37m\u001b[0m \u001b[1m6s\u001b[0m 1s/step - AUC: 0.5121 - Precision: 0.5518 - Recall: 0.4609 - accuracy: 0.5408 - loss: 0.7299 - val_AUC: 0.7295 - val_Precision: 0.7000 - val_Recall: 0.9032 - val_accuracy: 0.7170 - val_loss: 0.6575 - learning_rate: 5.0000e-04\n",
      "Epoch 3/50\n",
      "\u001b[1m6/6\u001b[0m \u001b[32m━━━━━━━━━━━━━━━━━━━━\u001b[0m\u001b[37m\u001b[0m \u001b[1m0s\u001b[0m 1s/step - AUC: 0.6389 - Precision: 0.5808 - Recall: 0.7307 - accuracy: 0.6095 - loss: 0.6692\n",
      "Epoch 3: val_accuracy improved from 0.71698 to 0.77358, saving model to outputresults/model_cv15_fold11.h5\n"
     ]
    },
    {
     "name": "stderr",
     "output_type": "stream",
     "text": [
      "WARNING:absl:You are saving your model as an HDF5 file via `model.save()` or `keras.saving.save_model(model)`. This file format is considered legacy. We recommend using instead the native Keras format, e.g. `model.save('my_model.keras')` or `keras.saving.save_model(model, 'my_model.keras')`. \n"
     ]
    },
    {
     "name": "stdout",
     "output_type": "stream",
     "text": [
      "\u001b[1m6/6\u001b[0m \u001b[32m━━━━━━━━━━━━━━━━━━━━\u001b[0m\u001b[37m\u001b[0m \u001b[1m7s\u001b[0m 1s/step - AUC: 0.6396 - Precision: 0.5805 - Recall: 0.7230 - accuracy: 0.6083 - loss: 0.6683 - val_AUC: 0.7441 - val_Precision: 0.7568 - val_Recall: 0.9032 - val_accuracy: 0.7736 - val_loss: 0.6425 - learning_rate: 5.0000e-04\n",
      "Epoch 4/50\n",
      "\u001b[1m6/6\u001b[0m \u001b[32m━━━━━━━━━━━━━━━━━━━━\u001b[0m\u001b[37m\u001b[0m \u001b[1m0s\u001b[0m 1s/step - AUC: 0.7270 - Precision: 0.6331 - Recall: 0.7969 - accuracy: 0.6734 - loss: 0.6237\n",
      "Epoch 4: val_accuracy did not improve from 0.77358\n",
      "\u001b[1m6/6\u001b[0m \u001b[32m━━━━━━━━━━━━━━━━━━━━\u001b[0m\u001b[37m\u001b[0m \u001b[1m6s\u001b[0m 1s/step - AUC: 0.7254 - Precision: 0.6339 - Recall: 0.8012 - accuracy: 0.6753 - loss: 0.6245 - val_AUC: 0.7485 - val_Precision: 0.7500 - val_Recall: 0.8710 - val_accuracy: 0.7547 - val_loss: 0.6727 - learning_rate: 5.0000e-04\n",
      "Epoch 5/50\n",
      "\u001b[1m6/6\u001b[0m \u001b[32m━━━━━━━━━━━━━━━━━━━━\u001b[0m\u001b[37m\u001b[0m \u001b[1m0s\u001b[0m 1s/step - AUC: 0.7359 - Precision: 0.6706 - Recall: 0.8314 - accuracy: 0.7069 - loss: 0.6018\n",
      "Epoch 5: val_accuracy did not improve from 0.77358\n",
      "\u001b[1m6/6\u001b[0m \u001b[32m━━━━━━━━━━━━━━━━━━━━\u001b[0m\u001b[37m\u001b[0m \u001b[1m7s\u001b[0m 1s/step - AUC: 0.7357 - Precision: 0.6694 - Recall: 0.8351 - accuracy: 0.7083 - loss: 0.6024 - val_AUC: 0.7515 - val_Precision: 0.7568 - val_Recall: 0.9032 - val_accuracy: 0.7736 - val_loss: 0.6252 - learning_rate: 5.0000e-04\n",
      "Restoring model weights from the end of the best epoch: 3.\n",
      "Epoch 5: early stopping\n",
      "\u001b[1m7/7\u001b[0m \u001b[32m━━━━━━━━━━━━━━━━━━━━\u001b[0m\u001b[37m\u001b[0m \u001b[1m1s\u001b[0m 129ms/step\n",
      "Fold 12/15\n",
      "Training fold shape: (747, 224, 224, 3)\n",
      "Validation fold shape: (53, 224, 224, 3)\n",
      "Epoch 1/50\n",
      "\u001b[1m6/6\u001b[0m \u001b[32m━━━━━━━━━━━━━━━━━━━━\u001b[0m\u001b[37m\u001b[0m \u001b[1m0s\u001b[0m 1s/step - AUC: 0.4450 - Precision: 0.4625 - Recall: 0.4927 - accuracy: 0.4500 - loss: 0.9122\n",
      "Epoch 1: val_accuracy improved from -inf to 0.50943, saving model to outputresults/model_cv15_fold12.h5\n"
     ]
    },
    {
     "name": "stderr",
     "output_type": "stream",
     "text": [
      "WARNING:absl:You are saving your model as an HDF5 file via `model.save()` or `keras.saving.save_model(model)`. This file format is considered legacy. We recommend using instead the native Keras format, e.g. `model.save('my_model.keras')` or `keras.saving.save_model(model, 'my_model.keras')`. \n"
     ]
    },
    {
     "name": "stdout",
     "output_type": "stream",
     "text": [
      "\u001b[1m6/6\u001b[0m \u001b[32m━━━━━━━━━━━━━━━━━━━━\u001b[0m\u001b[37m\u001b[0m \u001b[1m17s\u001b[0m 1s/step - AUC: 0.4478 - Precision: 0.4628 - Recall: 0.5001 - accuracy: 0.4520 - loss: 0.9113 - val_AUC: 0.8583 - val_Precision: 0.5102 - val_Recall: 0.9259 - val_accuracy: 0.5094 - val_loss: 0.6825 - learning_rate: 5.0000e-04\n",
      "Epoch 2/50\n",
      "\u001b[1m6/6\u001b[0m \u001b[32m━━━━━━━━━━━━━━━━━━━━\u001b[0m\u001b[37m\u001b[0m \u001b[1m0s\u001b[0m 1s/step - AUC: 0.5296 - Precision: 0.5242 - Recall: 0.3879 - accuracy: 0.5294 - loss: 0.7313\n",
      "Epoch 2: val_accuracy improved from 0.50943 to 0.71698, saving model to outputresults/model_cv15_fold12.h5\n"
     ]
    },
    {
     "name": "stderr",
     "output_type": "stream",
     "text": [
      "WARNING:absl:You are saving your model as an HDF5 file via `model.save()` or `keras.saving.save_model(model)`. This file format is considered legacy. We recommend using instead the native Keras format, e.g. `model.save('my_model.keras')` or `keras.saving.save_model(model, 'my_model.keras')`. \n"
     ]
    },
    {
     "name": "stdout",
     "output_type": "stream",
     "text": [
      "\u001b[1m6/6\u001b[0m \u001b[32m━━━━━━━━━━━━━━━━━━━━\u001b[0m\u001b[37m\u001b[0m \u001b[1m6s\u001b[0m 1s/step - AUC: 0.5289 - Precision: 0.5238 - Recall: 0.3746 - accuracy: 0.5277 - loss: 0.7315 - val_AUC: 0.8860 - val_Precision: 0.6579 - val_Recall: 0.9259 - val_accuracy: 0.7170 - val_loss: 0.6133 - learning_rate: 5.0000e-04\n",
      "Epoch 3/50\n",
      "\u001b[1m6/6\u001b[0m \u001b[32m━━━━━━━━━━━━━━━━━━━━\u001b[0m\u001b[37m\u001b[0m \u001b[1m0s\u001b[0m 1s/step - AUC: 0.6538 - Precision: 0.5742 - Recall: 0.8280 - accuracy: 0.6129 - loss: 0.6720\n",
      "Epoch 3: val_accuracy did not improve from 0.71698\n",
      "\u001b[1m6/6\u001b[0m \u001b[32m━━━━━━━━━━━━━━━━━━━━\u001b[0m\u001b[37m\u001b[0m \u001b[1m7s\u001b[0m 1s/step - AUC: 0.6553 - Precision: 0.5761 - Recall: 0.8274 - accuracy: 0.6151 - loss: 0.6719 - val_AUC: 0.7771 - val_Precision: 0.0000e+00 - val_Recall: 0.0000e+00 - val_accuracy: 0.4906 - val_loss: 0.6496 - learning_rate: 5.0000e-04\n",
      "Epoch 4/50\n",
      "\u001b[1m6/6\u001b[0m \u001b[32m━━━━━━━━━━━━━━━━━━━━\u001b[0m\u001b[37m\u001b[0m \u001b[1m0s\u001b[0m 1s/step - AUC: 0.7124 - Precision: 0.6377 - Recall: 0.5937 - accuracy: 0.6371 - loss: 0.6305\n",
      "Epoch 4: val_accuracy improved from 0.71698 to 0.81132, saving model to outputresults/model_cv15_fold12.h5\n"
     ]
    },
    {
     "name": "stderr",
     "output_type": "stream",
     "text": [
      "WARNING:absl:You are saving your model as an HDF5 file via `model.save()` or `keras.saving.save_model(model)`. This file format is considered legacy. We recommend using instead the native Keras format, e.g. `model.save('my_model.keras')` or `keras.saving.save_model(model, 'my_model.keras')`. \n"
     ]
    },
    {
     "name": "stdout",
     "output_type": "stream",
     "text": [
      "\u001b[1m6/6\u001b[0m \u001b[32m━━━━━━━━━━━━━━━━━━━━\u001b[0m\u001b[37m\u001b[0m \u001b[1m7s\u001b[0m 1s/step - AUC: 0.7137 - Precision: 0.6393 - Recall: 0.6084 - accuracy: 0.6410 - loss: 0.6295 - val_AUC: 0.8241 - val_Precision: 0.7576 - val_Recall: 0.9259 - val_accuracy: 0.8113 - val_loss: 0.5112 - learning_rate: 5.0000e-04\n",
      "Epoch 5/50\n",
      "\u001b[1m6/6\u001b[0m \u001b[32m━━━━━━━━━━━━━━━━━━━━\u001b[0m\u001b[37m\u001b[0m \u001b[1m0s\u001b[0m 1s/step - AUC: 0.7252 - Precision: 0.6834 - Recall: 0.9012 - accuracy: 0.7327 - loss: 0.6098\n",
      "Epoch 5: val_accuracy improved from 0.81132 to 0.84906, saving model to outputresults/model_cv15_fold12.h5\n"
     ]
    },
    {
     "name": "stderr",
     "output_type": "stream",
     "text": [
      "WARNING:absl:You are saving your model as an HDF5 file via `model.save()` or `keras.saving.save_model(model)`. This file format is considered legacy. We recommend using instead the native Keras format, e.g. `model.save('my_model.keras')` or `keras.saving.save_model(model, 'my_model.keras')`. \n"
     ]
    },
    {
     "name": "stdout",
     "output_type": "stream",
     "text": [
      "\u001b[1m6/6\u001b[0m \u001b[32m━━━━━━━━━━━━━━━━━━━━\u001b[0m\u001b[37m\u001b[0m \u001b[1m6s\u001b[0m 1s/step - AUC: 0.7237 - Precision: 0.6794 - Recall: 0.8999 - accuracy: 0.7302 - loss: 0.6113 - val_AUC: 0.8020 - val_Precision: 0.8065 - val_Recall: 0.9259 - val_accuracy: 0.8491 - val_loss: 0.5650 - learning_rate: 5.0000e-04\n",
      "Epoch 6/50\n",
      "\u001b[1m6/6\u001b[0m \u001b[32m━━━━━━━━━━━━━━━━━━━━\u001b[0m\u001b[37m\u001b[0m \u001b[1m0s\u001b[0m 1s/step - AUC: 0.7533 - Precision: 0.6634 - Recall: 0.6380 - accuracy: 0.6667 - loss: 0.5994\n",
      "Epoch 6: val_accuracy did not improve from 0.84906\n",
      "\u001b[1m6/6\u001b[0m \u001b[32m━━━━━━━━━━━━━━━━━━━━\u001b[0m\u001b[37m\u001b[0m \u001b[1m7s\u001b[0m 1s/step - AUC: 0.7509 - Precision: 0.6636 - Recall: 0.6460 - accuracy: 0.6680 - loss: 0.6013 - val_AUC: 0.8768 - val_Precision: 0.7812 - val_Recall: 0.9259 - val_accuracy: 0.8302 - val_loss: 0.5099 - learning_rate: 5.0000e-04\n",
      "Restoring model weights from the end of the best epoch: 5.\n",
      "Epoch 6: early stopping\n",
      "\u001b[1m7/7\u001b[0m \u001b[32m━━━━━━━━━━━━━━━━━━━━\u001b[0m\u001b[37m\u001b[0m \u001b[1m1s\u001b[0m 126ms/step\n",
      "Fold 13/15\n",
      "Training fold shape: (747, 224, 224, 3)\n",
      "Validation fold shape: (53, 224, 224, 3)\n",
      "Epoch 1/50\n",
      "\u001b[1m6/6\u001b[0m \u001b[32m━━━━━━━━━━━━━━━━━━━━\u001b[0m\u001b[37m\u001b[0m \u001b[1m0s\u001b[0m 1s/step - AUC: 0.5223 - Precision: 0.5267 - Recall: 0.6848 - accuracy: 0.5268 - loss: 0.8863\n",
      "Epoch 1: val_accuracy improved from -inf to 0.50943, saving model to outputresults/model_cv15_fold13.h5\n"
     ]
    },
    {
     "name": "stderr",
     "output_type": "stream",
     "text": [
      "WARNING:absl:You are saving your model as an HDF5 file via `model.save()` or `keras.saving.save_model(model)`. This file format is considered legacy. We recommend using instead the native Keras format, e.g. `model.save('my_model.keras')` or `keras.saving.save_model(model, 'my_model.keras')`. \n"
     ]
    },
    {
     "name": "stdout",
     "output_type": "stream",
     "text": [
      "\u001b[1m6/6\u001b[0m \u001b[32m━━━━━━━━━━━━━━━━━━━━\u001b[0m\u001b[37m\u001b[0m \u001b[1m15s\u001b[0m 1s/step - AUC: 0.5233 - Precision: 0.5258 - Recall: 0.6642 - accuracy: 0.5267 - loss: 0.8801 - val_AUC: 0.7151 - val_Precision: 0.0000e+00 - val_Recall: 0.0000e+00 - val_accuracy: 0.5094 - val_loss: 0.6830 - learning_rate: 5.0000e-04\n",
      "Epoch 2/50\n",
      "\u001b[1m6/6\u001b[0m \u001b[32m━━━━━━━━━━━━━━━━━━━━\u001b[0m\u001b[37m\u001b[0m \u001b[1m0s\u001b[0m 1s/step - AUC: 0.5149 - Precision: 0.5176 - Recall: 0.6068 - accuracy: 0.5045 - loss: 0.7386\n",
      "Epoch 2: val_accuracy did not improve from 0.50943\n",
      "\u001b[1m6/6\u001b[0m \u001b[32m━━━━━━━━━━━━━━━━━━━━\u001b[0m\u001b[37m\u001b[0m \u001b[1m7s\u001b[0m 1s/step - AUC: 0.5173 - Precision: 0.5167 - Recall: 0.6077 - accuracy: 0.5065 - loss: 0.7370 - val_AUC: 0.7728 - val_Precision: 0.0000e+00 - val_Recall: 0.0000e+00 - val_accuracy: 0.5094 - val_loss: 0.6943 - learning_rate: 5.0000e-04\n",
      "Epoch 3/50\n",
      "\u001b[1m6/6\u001b[0m \u001b[32m━━━━━━━━━━━━━━━━━━━━\u001b[0m\u001b[37m\u001b[0m \u001b[1m0s\u001b[0m 1s/step - AUC: 0.6585 - Precision: 0.6679 - Recall: 0.3093 - accuracy: 0.5662 - loss: 0.6832\n",
      "Epoch 3: val_accuracy improved from 0.50943 to 0.71698, saving model to outputresults/model_cv15_fold13.h5\n"
     ]
    },
    {
     "name": "stderr",
     "output_type": "stream",
     "text": [
      "WARNING:absl:You are saving your model as an HDF5 file via `model.save()` or `keras.saving.save_model(model)`. This file format is considered legacy. We recommend using instead the native Keras format, e.g. `model.save('my_model.keras')` or `keras.saving.save_model(model, 'my_model.keras')`. \n"
     ]
    },
    {
     "name": "stdout",
     "output_type": "stream",
     "text": [
      "\u001b[1m6/6\u001b[0m \u001b[32m━━━━━━━━━━━━━━━━━━━━\u001b[0m\u001b[37m\u001b[0m \u001b[1m7s\u001b[0m 1s/step - AUC: 0.6634 - Precision: 0.6648 - Recall: 0.3420 - accuracy: 0.5747 - loss: 0.6793 - val_AUC: 0.7913 - val_Precision: 0.6571 - val_Recall: 0.8846 - val_accuracy: 0.7170 - val_loss: 0.6341 - learning_rate: 5.0000e-04\n",
      "Epoch 4/50\n",
      "\u001b[1m6/6\u001b[0m \u001b[32m━━━━━━━━━━━━━━━━━━━━\u001b[0m\u001b[37m\u001b[0m \u001b[1m0s\u001b[0m 1s/step - AUC: 0.7076 - Precision: 0.6799 - Recall: 0.8978 - accuracy: 0.7348 - loss: 0.6238\n",
      "Epoch 4: val_accuracy improved from 0.71698 to 0.73585, saving model to outputresults/model_cv15_fold13.h5\n"
     ]
    },
    {
     "name": "stderr",
     "output_type": "stream",
     "text": [
      "WARNING:absl:You are saving your model as an HDF5 file via `model.save()` or `keras.saving.save_model(model)`. This file format is considered legacy. We recommend using instead the native Keras format, e.g. `model.save('my_model.keras')` or `keras.saving.save_model(model, 'my_model.keras')`. \n"
     ]
    },
    {
     "name": "stdout",
     "output_type": "stream",
     "text": [
      "\u001b[1m6/6\u001b[0m \u001b[32m━━━━━━━━━━━━━━━━━━━━\u001b[0m\u001b[37m\u001b[0m \u001b[1m7s\u001b[0m 1s/step - AUC: 0.7096 - Precision: 0.6772 - Recall: 0.8931 - accuracy: 0.7318 - loss: 0.6239 - val_AUC: 0.7151 - val_Precision: 0.6765 - val_Recall: 0.8846 - val_accuracy: 0.7358 - val_loss: 0.6129 - learning_rate: 5.0000e-04\n",
      "Epoch 5/50\n",
      "\u001b[1m6/6\u001b[0m \u001b[32m━━━━━━━━━━━━━━━━━━━━\u001b[0m\u001b[37m\u001b[0m \u001b[1m0s\u001b[0m 1s/step - AUC: 0.7470 - Precision: 0.6639 - Recall: 0.7619 - accuracy: 0.6936 - loss: 0.5951\n",
      "Epoch 5: val_accuracy did not improve from 0.73585\n",
      "\u001b[1m6/6\u001b[0m \u001b[32m━━━━━━━━━━━━━━━━━━━━\u001b[0m\u001b[37m\u001b[0m \u001b[1m7s\u001b[0m 1s/step - AUC: 0.7462 - Precision: 0.6639 - Recall: 0.7704 - accuracy: 0.6953 - loss: 0.5955 - val_AUC: 0.7906 - val_Precision: 0.6765 - val_Recall: 0.8846 - val_accuracy: 0.7358 - val_loss: 0.6089 - learning_rate: 5.0000e-04\n",
      "Restoring model weights from the end of the best epoch: 4.\n",
      "Epoch 5: early stopping\n",
      "\u001b[1m7/7\u001b[0m \u001b[32m━━━━━━━━━━━━━━━━━━━━\u001b[0m\u001b[37m\u001b[0m \u001b[1m1s\u001b[0m 130ms/step\n",
      "Fold 14/15\n",
      "Training fold shape: (747, 224, 224, 3)\n",
      "Validation fold shape: (53, 224, 224, 3)\n",
      "Epoch 1/50\n",
      "\u001b[1m6/6\u001b[0m \u001b[32m━━━━━━━━━━━━━━━━━━━━\u001b[0m\u001b[37m\u001b[0m \u001b[1m0s\u001b[0m 1s/step - AUC: 0.5339 - Precision: 0.5176 - Recall: 0.4073 - accuracy: 0.5530 - loss: 0.7920\n",
      "Epoch 1: val_accuracy improved from -inf to 0.45283, saving model to outputresults/model_cv15_fold14.h5\n"
     ]
    },
    {
     "name": "stderr",
     "output_type": "stream",
     "text": [
      "WARNING:absl:You are saving your model as an HDF5 file via `model.save()` or `keras.saving.save_model(model)`. This file format is considered legacy. We recommend using instead the native Keras format, e.g. `model.save('my_model.keras')` or `keras.saving.save_model(model, 'my_model.keras')`. \n"
     ]
    },
    {
     "name": "stdout",
     "output_type": "stream",
     "text": [
      "\u001b[1m6/6\u001b[0m \u001b[32m━━━━━━━━━━━━━━━━━━━━\u001b[0m\u001b[37m\u001b[0m \u001b[1m15s\u001b[0m 1s/step - AUC: 0.5331 - Precision: 0.5173 - Recall: 0.4273 - accuracy: 0.5490 - loss: 0.8006 - val_AUC: 0.8836 - val_Precision: 0.0000e+00 - val_Recall: 0.0000e+00 - val_accuracy: 0.4528 - val_loss: 0.6789 - learning_rate: 5.0000e-04\n",
      "Epoch 2/50\n",
      "\u001b[1m6/6\u001b[0m \u001b[32m━━━━━━━━━━━━━━━━━━━━\u001b[0m\u001b[37m\u001b[0m \u001b[1m0s\u001b[0m 1s/step - AUC: 0.5612 - Precision: 0.5333 - Recall: 0.2757 - accuracy: 0.5536 - loss: 0.7476\n",
      "Epoch 2: val_accuracy improved from 0.45283 to 0.67925, saving model to outputresults/model_cv15_fold14.h5\n"
     ]
    },
    {
     "name": "stderr",
     "output_type": "stream",
     "text": [
      "WARNING:absl:You are saving your model as an HDF5 file via `model.save()` or `keras.saving.save_model(model)`. This file format is considered legacy. We recommend using instead the native Keras format, e.g. `model.save('my_model.keras')` or `keras.saving.save_model(model, 'my_model.keras')`. \n"
     ]
    },
    {
     "name": "stdout",
     "output_type": "stream",
     "text": [
      "\u001b[1m6/6\u001b[0m \u001b[32m━━━━━━━━━━━━━━━━━━━━\u001b[0m\u001b[37m\u001b[0m \u001b[1m7s\u001b[0m 1s/step - AUC: 0.5622 - Precision: 0.5383 - Recall: 0.2830 - accuracy: 0.5528 - loss: 0.7476 - val_AUC: 0.8139 - val_Precision: 0.6364 - val_Recall: 0.9655 - val_accuracy: 0.6792 - val_loss: 0.6660 - learning_rate: 5.0000e-04\n",
      "Epoch 3/50\n",
      "\u001b[1m6/6\u001b[0m \u001b[32m━━━━━━━━━━━━━━━━━━━━\u001b[0m\u001b[37m\u001b[0m \u001b[1m0s\u001b[0m 1s/step - AUC: 0.6602 - Precision: 0.5648 - Recall: 0.8599 - accuracy: 0.6092 - loss: 0.7045\n",
      "Epoch 3: val_accuracy improved from 0.67925 to 0.73585, saving model to outputresults/model_cv15_fold14.h5\n"
     ]
    },
    {
     "name": "stderr",
     "output_type": "stream",
     "text": [
      "WARNING:absl:You are saving your model as an HDF5 file via `model.save()` or `keras.saving.save_model(model)`. This file format is considered legacy. We recommend using instead the native Keras format, e.g. `model.save('my_model.keras')` or `keras.saving.save_model(model, 'my_model.keras')`. \n"
     ]
    },
    {
     "name": "stdout",
     "output_type": "stream",
     "text": [
      "\u001b[1m6/6\u001b[0m \u001b[32m━━━━━━━━━━━━━━━━━━━━\u001b[0m\u001b[37m\u001b[0m \u001b[1m7s\u001b[0m 1s/step - AUC: 0.6592 - Precision: 0.5679 - Recall: 0.8410 - accuracy: 0.6100 - loss: 0.7020 - val_AUC: 0.7981 - val_Precision: 0.7778 - val_Recall: 0.7241 - val_accuracy: 0.7358 - val_loss: 0.5960 - learning_rate: 5.0000e-04\n",
      "Epoch 4/50\n",
      "\u001b[1m6/6\u001b[0m \u001b[32m━━━━━━━━━━━━━━━━━━━━\u001b[0m\u001b[37m\u001b[0m \u001b[1m0s\u001b[0m 1s/step - AUC: 0.6904 - Precision: 0.6339 - Recall: 0.6961 - accuracy: 0.6558 - loss: 0.6513\n",
      "Epoch 4: val_accuracy improved from 0.73585 to 0.83019, saving model to outputresults/model_cv15_fold14.h5\n"
     ]
    },
    {
     "name": "stderr",
     "output_type": "stream",
     "text": [
      "WARNING:absl:You are saving your model as an HDF5 file via `model.save()` or `keras.saving.save_model(model)`. This file format is considered legacy. We recommend using instead the native Keras format, e.g. `model.save('my_model.keras')` or `keras.saving.save_model(model, 'my_model.keras')`. \n"
     ]
    },
    {
     "name": "stdout",
     "output_type": "stream",
     "text": [
      "\u001b[1m6/6\u001b[0m \u001b[32m━━━━━━━━━━━━━━━━━━━━\u001b[0m\u001b[37m\u001b[0m \u001b[1m7s\u001b[0m 1s/step - AUC: 0.6914 - Precision: 0.6343 - Recall: 0.7111 - accuracy: 0.6588 - loss: 0.6501 - val_AUC: 0.8089 - val_Precision: 0.7941 - val_Recall: 0.9310 - val_accuracy: 0.8302 - val_loss: 0.5103 - learning_rate: 5.0000e-04\n",
      "Epoch 5/50\n",
      "\u001b[1m6/6\u001b[0m \u001b[32m━━━━━━━━━━━━━━━━━━━━\u001b[0m\u001b[37m\u001b[0m \u001b[1m0s\u001b[0m 1s/step - AUC: 0.7529 - Precision: 0.6666 - Recall: 0.8310 - accuracy: 0.7153 - loss: 0.5992\n",
      "Epoch 5: val_accuracy did not improve from 0.83019\n",
      "\u001b[1m6/6\u001b[0m \u001b[32m━━━━━━━━━━━━━━━━━━━━\u001b[0m\u001b[37m\u001b[0m \u001b[1m8s\u001b[0m 1s/step - AUC: 0.7508 - Precision: 0.6656 - Recall: 0.8271 - accuracy: 0.7131 - loss: 0.6011 - val_AUC: 0.7967 - val_Precision: 0.7941 - val_Recall: 0.9310 - val_accuracy: 0.8302 - val_loss: 0.5373 - learning_rate: 5.0000e-04\n",
      "Restoring model weights from the end of the best epoch: 4.\n",
      "Epoch 5: early stopping\n",
      "\u001b[1m7/7\u001b[0m \u001b[32m━━━━━━━━━━━━━━━━━━━━\u001b[0m\u001b[37m\u001b[0m \u001b[1m1s\u001b[0m 128ms/step\n",
      "Fold 15/15\n",
      "Training fold shape: (747, 224, 224, 3)\n",
      "Validation fold shape: (53, 224, 224, 3)\n",
      "Epoch 1/50\n",
      "\u001b[1m6/6\u001b[0m \u001b[32m━━━━━━━━━━━━━━━━━━━━\u001b[0m\u001b[37m\u001b[0m \u001b[1m0s\u001b[0m 1s/step - AUC: 0.5081 - Precision: 0.4583 - Recall: 0.3824 - accuracy: 0.4908 - loss: 0.9115\n",
      "Epoch 1: val_accuracy improved from -inf to 0.52830, saving model to outputresults/model_cv15_fold15.h5\n"
     ]
    },
    {
     "name": "stderr",
     "output_type": "stream",
     "text": [
      "WARNING:absl:You are saving your model as an HDF5 file via `model.save()` or `keras.saving.save_model(model)`. This file format is considered legacy. We recommend using instead the native Keras format, e.g. `model.save('my_model.keras')` or `keras.saving.save_model(model, 'my_model.keras')`. \n"
     ]
    },
    {
     "name": "stdout",
     "output_type": "stream",
     "text": [
      "\u001b[1m6/6\u001b[0m \u001b[32m━━━━━━━━━━━━━━━━━━━━\u001b[0m\u001b[37m\u001b[0m \u001b[1m17s\u001b[0m 1s/step - AUC: 0.5100 - Precision: 0.4630 - Recall: 0.3953 - accuracy: 0.4920 - loss: 0.9093 - val_AUC: 0.7586 - val_Precision: 0.5283 - val_Recall: 1.0000 - val_accuracy: 0.5283 - val_loss: 0.8636 - learning_rate: 5.0000e-04\n",
      "Epoch 2/50\n",
      "\u001b[1m6/6\u001b[0m \u001b[32m━━━━━━━━━━━━━━━━━━━━\u001b[0m\u001b[37m\u001b[0m \u001b[1m0s\u001b[0m 1s/step - AUC: 0.5102 - Precision: 0.5116 - Recall: 0.7007 - accuracy: 0.5168 - loss: 0.7683\n",
      "Epoch 2: val_accuracy did not improve from 0.52830\n",
      "\u001b[1m6/6\u001b[0m \u001b[32m━━━━━━━━━━━━━━━━━━━━\u001b[0m\u001b[37m\u001b[0m \u001b[1m6s\u001b[0m 1s/step - AUC: 0.5113 - Precision: 0.5111 - Recall: 0.6616 - accuracy: 0.5164 - loss: 0.7661 - val_AUC: 0.7571 - val_Precision: 0.0000e+00 - val_Recall: 0.0000e+00 - val_accuracy: 0.4717 - val_loss: 0.6702 - learning_rate: 5.0000e-04\n",
      "Epoch 3/50\n",
      "\u001b[1m6/6\u001b[0m \u001b[32m━━━━━━━━━━━━━━━━━━━━\u001b[0m\u001b[37m\u001b[0m \u001b[1m0s\u001b[0m 996ms/step - AUC: 0.5541 - Precision: 0.5486 - Recall: 0.5923 - accuracy: 0.5391 - loss: 0.7091\n",
      "Epoch 3: val_accuracy improved from 0.52830 to 0.73585, saving model to outputresults/model_cv15_fold15.h5\n"
     ]
    },
    {
     "name": "stderr",
     "output_type": "stream",
     "text": [
      "WARNING:absl:You are saving your model as an HDF5 file via `model.save()` or `keras.saving.save_model(model)`. This file format is considered legacy. We recommend using instead the native Keras format, e.g. `model.save('my_model.keras')` or `keras.saving.save_model(model, 'my_model.keras')`. \n"
     ]
    },
    {
     "name": "stdout",
     "output_type": "stream",
     "text": [
      "\u001b[1m6/6\u001b[0m \u001b[32m━━━━━━━━━━━━━━━━━━━━\u001b[0m\u001b[37m\u001b[0m \u001b[1m6s\u001b[0m 1s/step - AUC: 0.5547 - Precision: 0.5456 - Recall: 0.6082 - accuracy: 0.5397 - loss: 0.7088 - val_AUC: 0.7743 - val_Precision: 0.6944 - val_Recall: 0.8929 - val_accuracy: 0.7358 - val_loss: 0.6149 - learning_rate: 5.0000e-04\n",
      "Epoch 4/50\n",
      "\u001b[1m6/6\u001b[0m \u001b[32m━━━━━━━━━━━━━━━━━━━━\u001b[0m\u001b[37m\u001b[0m \u001b[1m0s\u001b[0m 998ms/step - AUC: 0.6953 - Precision: 0.6581 - Recall: 0.6064 - accuracy: 0.6453 - loss: 0.6500\n",
      "Epoch 4: val_accuracy did not improve from 0.73585\n",
      "\u001b[1m6/6\u001b[0m \u001b[32m━━━━━━━━━━━━━━━━━━━━\u001b[0m\u001b[37m\u001b[0m \u001b[1m6s\u001b[0m 1s/step - AUC: 0.6944 - Precision: 0.6573 - Recall: 0.6087 - accuracy: 0.6460 - loss: 0.6501 - val_AUC: 0.7614 - val_Precision: 0.6944 - val_Recall: 0.8929 - val_accuracy: 0.7358 - val_loss: 0.5821 - learning_rate: 5.0000e-04\n",
      "Epoch 5/50\n",
      "\u001b[1m6/6\u001b[0m \u001b[32m━━━━━━━━━━━━━━━━━━━━\u001b[0m\u001b[37m\u001b[0m \u001b[1m0s\u001b[0m 1s/step - AUC: 0.6985 - Precision: 0.6505 - Recall: 0.8683 - accuracy: 0.6975 - loss: 0.6297\n",
      "Epoch 5: val_accuracy did not improve from 0.73585\n",
      "\u001b[1m6/6\u001b[0m \u001b[32m━━━━━━━━━━━━━━━━━━━━\u001b[0m\u001b[37m\u001b[0m \u001b[1m7s\u001b[0m 1s/step - AUC: 0.6981 - Precision: 0.6484 - Recall: 0.8685 - accuracy: 0.6966 - loss: 0.6305 - val_AUC: 0.7329 - val_Precision: 0.6944 - val_Recall: 0.8929 - val_accuracy: 0.7358 - val_loss: 0.5816 - learning_rate: 5.0000e-04\n",
      "Restoring model weights from the end of the best epoch: 3.\n",
      "Epoch 5: early stopping\n",
      "\u001b[1m7/7\u001b[0m \u001b[32m━━━━━━━━━━━━━━━━━━━━\u001b[0m\u001b[37m\u001b[0m \u001b[1m1s\u001b[0m 129ms/step\n",
      "DeiT training completed for CV=15 and metrics saved to deit_metrics_cv15.csv\n",
      "\n",
      "Average metrics:\n",
      "CV: 15.0000\n",
      "Avg_Test_Accuracy: 0.7410\n",
      "Avg_Training_Loss: 0.6109\n",
      "Avg_Testing_Loss: 0.6021\n",
      "Avg_F1_Score: 0.7790\n",
      "Avg_Training_Time: 47.5728\n",
      "Avg_Epochs: 5.3333\n",
      "\n",
      "=== Training with 20-fold Cross Validation ===\n",
      "Fold 1/20\n",
      "Training fold shape: (760, 224, 224, 3)\n",
      "Validation fold shape: (40, 224, 224, 3)\n",
      "Epoch 1/50\n",
      "\u001b[1m6/6\u001b[0m \u001b[32m━━━━━━━━━━━━━━━━━━━━\u001b[0m\u001b[37m\u001b[0m \u001b[1m0s\u001b[0m 1s/step - AUC: 0.5039 - Precision: 0.4872 - Recall: 0.6764 - accuracy: 0.4967 - loss: 0.9588\n",
      "Epoch 1: val_accuracy improved from -inf to 0.47500, saving model to outputresults/model_cv20_fold1.h5\n"
     ]
    },
    {
     "name": "stderr",
     "output_type": "stream",
     "text": [
      "WARNING:absl:You are saving your model as an HDF5 file via `model.save()` or `keras.saving.save_model(model)`. This file format is considered legacy. We recommend using instead the native Keras format, e.g. `model.save('my_model.keras')` or `keras.saving.save_model(model, 'my_model.keras')`. \n"
     ]
    },
    {
     "name": "stdout",
     "output_type": "stream",
     "text": [
      "\u001b[1m6/6\u001b[0m \u001b[32m━━━━━━━━━━━━━━━━━━━━\u001b[0m\u001b[37m\u001b[0m \u001b[1m17s\u001b[0m 1s/step - AUC: 0.5062 - Precision: 0.4887 - Recall: 0.6563 - accuracy: 0.4978 - loss: 0.9491 - val_AUC: 0.7519 - val_Precision: 0.0000e+00 - val_Recall: 0.0000e+00 - val_accuracy: 0.4750 - val_loss: 0.7418 - learning_rate: 5.0000e-04\n",
      "Epoch 2/50\n",
      "\u001b[1m6/6\u001b[0m \u001b[32m━━━━━━━━━━━━━━━━━━━━\u001b[0m\u001b[37m\u001b[0m \u001b[1m0s\u001b[0m 1s/step - AUC: 0.6025 - Precision: 0.5605 - Recall: 0.5193 - accuracy: 0.5665 - loss: 0.7042\n",
      "Epoch 2: val_accuracy did not improve from 0.47500\n",
      "\u001b[1m6/6\u001b[0m \u001b[32m━━━━━━━━━━━━━━━━━━━━\u001b[0m\u001b[37m\u001b[0m \u001b[1m7s\u001b[0m 1s/step - AUC: 0.6016 - Precision: 0.5580 - Recall: 0.5453 - accuracy: 0.5658 - loss: 0.7044 - val_AUC: 0.7519 - val_Precision: 0.0000e+00 - val_Recall: 0.0000e+00 - val_accuracy: 0.4750 - val_loss: 0.6278 - learning_rate: 5.0000e-04\n",
      "Epoch 3/50\n",
      "\u001b[1m6/6\u001b[0m \u001b[32m━━━━━━━━━━━━━━━━━━━━\u001b[0m\u001b[37m\u001b[0m \u001b[1m0s\u001b[0m 1s/step - AUC: 0.6609 - Precision: 0.5846 - Recall: 0.2983 - accuracy: 0.5620 - loss: 0.6771\n",
      "Epoch 3: val_accuracy improved from 0.47500 to 0.75000, saving model to outputresults/model_cv20_fold1.h5\n"
     ]
    },
    {
     "name": "stderr",
     "output_type": "stream",
     "text": [
      "WARNING:absl:You are saving your model as an HDF5 file via `model.save()` or `keras.saving.save_model(model)`. This file format is considered legacy. We recommend using instead the native Keras format, e.g. `model.save('my_model.keras')` or `keras.saving.save_model(model, 'my_model.keras')`. \n"
     ]
    },
    {
     "name": "stdout",
     "output_type": "stream",
     "text": [
      "\u001b[1m6/6\u001b[0m \u001b[32m━━━━━━━━━━━━━━━━━━━━\u001b[0m\u001b[37m\u001b[0m \u001b[1m7s\u001b[0m 1s/step - AUC: 0.6642 - Precision: 0.5906 - Recall: 0.3075 - accuracy: 0.5644 - loss: 0.6761 - val_AUC: 0.7318 - val_Precision: 0.7391 - val_Recall: 0.8095 - val_accuracy: 0.7500 - val_loss: 0.6338 - learning_rate: 5.0000e-04\n",
      "Epoch 4/50\n",
      "\u001b[1m6/6\u001b[0m \u001b[32m━━━━━━━━━━━━━━━━━━━━\u001b[0m\u001b[37m\u001b[0m \u001b[1m0s\u001b[0m 1s/step - AUC: 0.7652 - Precision: 0.6425 - Recall: 0.8966 - accuracy: 0.7105 - loss: 0.6068\n",
      "Epoch 4: val_accuracy did not improve from 0.75000\n",
      "\u001b[1m6/6\u001b[0m \u001b[32m━━━━━━━━━━━━━━━━━━━━\u001b[0m\u001b[37m\u001b[0m \u001b[1m6s\u001b[0m 1s/step - AUC: 0.7636 - Precision: 0.6439 - Recall: 0.8965 - accuracy: 0.7108 - loss: 0.6079 - val_AUC: 0.7030 - val_Precision: 0.7391 - val_Recall: 0.8095 - val_accuracy: 0.7500 - val_loss: 0.6399 - learning_rate: 5.0000e-04\n",
      "Epoch 5/50\n",
      "\u001b[1m6/6\u001b[0m \u001b[32m━━━━━━━━━━━━━━━━━━━━\u001b[0m\u001b[37m\u001b[0m \u001b[1m0s\u001b[0m 1s/step - AUC: 0.7238 - Precision: 0.6684 - Recall: 0.8099 - accuracy: 0.6984 - loss: 0.6101\n",
      "Epoch 5: val_accuracy did not improve from 0.75000\n",
      "\u001b[1m6/6\u001b[0m \u001b[32m━━━━━━━━━━━━━━━━━━━━\u001b[0m\u001b[37m\u001b[0m \u001b[1m7s\u001b[0m 1s/step - AUC: 0.7246 - Precision: 0.6679 - Recall: 0.8039 - accuracy: 0.6979 - loss: 0.6104 - val_AUC: 0.7093 - val_Precision: 0.7391 - val_Recall: 0.8095 - val_accuracy: 0.7500 - val_loss: 0.6018 - learning_rate: 5.0000e-04\n",
      "Restoring model weights from the end of the best epoch: 3.\n",
      "Epoch 5: early stopping\n",
      "\u001b[1m7/7\u001b[0m \u001b[32m━━━━━━━━━━━━━━━━━━━━\u001b[0m\u001b[37m\u001b[0m \u001b[1m1s\u001b[0m 130ms/step\n",
      "Fold 2/20\n",
      "Training fold shape: (760, 224, 224, 3)\n",
      "Validation fold shape: (40, 224, 224, 3)\n",
      "Epoch 1/50\n",
      "\u001b[1m6/6\u001b[0m \u001b[32m━━━━━━━━━━━━━━━━━━━━\u001b[0m\u001b[37m\u001b[0m \u001b[1m0s\u001b[0m 1s/step - AUC: 0.4729 - Precision: 0.4400 - Recall: 0.4517 - accuracy: 0.4747 - loss: 0.8616\n",
      "Epoch 1: val_accuracy improved from -inf to 0.47500, saving model to outputresults/model_cv20_fold2.h5\n"
     ]
    },
    {
     "name": "stderr",
     "output_type": "stream",
     "text": [
      "WARNING:absl:You are saving your model as an HDF5 file via `model.save()` or `keras.saving.save_model(model)`. This file format is considered legacy. We recommend using instead the native Keras format, e.g. `model.save('my_model.keras')` or `keras.saving.save_model(model, 'my_model.keras')`. \n"
     ]
    },
    {
     "name": "stdout",
     "output_type": "stream",
     "text": [
      "\u001b[1m6/6\u001b[0m \u001b[32m━━━━━━━━━━━━━━━━━━━━\u001b[0m\u001b[37m\u001b[0m \u001b[1m17s\u001b[0m 1s/step - AUC: 0.4714 - Precision: 0.4427 - Recall: 0.4395 - accuracy: 0.4742 - loss: 0.8643 - val_AUC: 0.7506 - val_Precision: 0.4750 - val_Recall: 1.0000 - val_accuracy: 0.4750 - val_loss: 0.7029 - learning_rate: 5.0000e-04\n",
      "Epoch 2/50\n",
      "\u001b[1m6/6\u001b[0m \u001b[32m━━━━━━━━━━━━━━━━━━━━\u001b[0m\u001b[37m\u001b[0m \u001b[1m0s\u001b[0m 1s/step - AUC: 0.5486 - Precision: 0.4990 - Recall: 0.7544 - accuracy: 0.5013 - loss: 0.7287\n",
      "Epoch 2: val_accuracy improved from 0.47500 to 0.52500, saving model to outputresults/model_cv20_fold2.h5\n"
     ]
    },
    {
     "name": "stderr",
     "output_type": "stream",
     "text": [
      "WARNING:absl:You are saving your model as an HDF5 file via `model.save()` or `keras.saving.save_model(model)`. This file format is considered legacy. We recommend using instead the native Keras format, e.g. `model.save('my_model.keras')` or `keras.saving.save_model(model, 'my_model.keras')`. \n"
     ]
    },
    {
     "name": "stdout",
     "output_type": "stream",
     "text": [
      "\u001b[1m6/6\u001b[0m \u001b[32m━━━━━━━━━━━━━━━━━━━━\u001b[0m\u001b[37m\u001b[0m \u001b[1m7s\u001b[0m 1s/step - AUC: 0.5465 - Precision: 0.5002 - Recall: 0.7475 - accuracy: 0.5031 - loss: 0.7285 - val_AUC: 0.7820 - val_Precision: 0.0000e+00 - val_Recall: 0.0000e+00 - val_accuracy: 0.5250 - val_loss: 0.6748 - learning_rate: 5.0000e-04\n",
      "Epoch 3/50\n",
      "\u001b[1m6/6\u001b[0m \u001b[32m━━━━━━━━━━━━━━━━━━━━\u001b[0m\u001b[37m\u001b[0m \u001b[1m0s\u001b[0m 1s/step - AUC: 0.6118 - Precision: 0.5630 - Recall: 0.2624 - accuracy: 0.5373 - loss: 0.6922\n",
      "Epoch 3: val_accuracy improved from 0.52500 to 0.67500, saving model to outputresults/model_cv20_fold2.h5\n"
     ]
    },
    {
     "name": "stderr",
     "output_type": "stream",
     "text": [
      "WARNING:absl:You are saving your model as an HDF5 file via `model.save()` or `keras.saving.save_model(model)`. This file format is considered legacy. We recommend using instead the native Keras format, e.g. `model.save('my_model.keras')` or `keras.saving.save_model(model, 'my_model.keras')`. \n"
     ]
    },
    {
     "name": "stdout",
     "output_type": "stream",
     "text": [
      "\u001b[1m6/6\u001b[0m \u001b[32m━━━━━━━━━━━━━━━━━━━━\u001b[0m\u001b[37m\u001b[0m \u001b[1m7s\u001b[0m 1s/step - AUC: 0.6139 - Precision: 0.5670 - Recall: 0.2886 - accuracy: 0.5423 - loss: 0.6901 - val_AUC: 0.7469 - val_Precision: 0.6154 - val_Recall: 0.8421 - val_accuracy: 0.6750 - val_loss: 0.6415 - learning_rate: 5.0000e-04\n",
      "Epoch 4/50\n",
      "\u001b[1m6/6\u001b[0m \u001b[32m━━━━━━━━━━━━━━━━━━━━\u001b[0m\u001b[37m\u001b[0m \u001b[1m0s\u001b[0m 1s/step - AUC: 0.7093 - Precision: 0.6275 - Recall: 0.8306 - accuracy: 0.6746 - loss: 0.6385\n",
      "Epoch 4: val_accuracy improved from 0.67500 to 0.72500, saving model to outputresults/model_cv20_fold2.h5\n"
     ]
    },
    {
     "name": "stderr",
     "output_type": "stream",
     "text": [
      "WARNING:absl:You are saving your model as an HDF5 file via `model.save()` or `keras.saving.save_model(model)`. This file format is considered legacy. We recommend using instead the native Keras format, e.g. `model.save('my_model.keras')` or `keras.saving.save_model(model, 'my_model.keras')`. \n"
     ]
    },
    {
     "name": "stdout",
     "output_type": "stream",
     "text": [
      "\u001b[1m6/6\u001b[0m \u001b[32m━━━━━━━━━━━━━━━━━━━━\u001b[0m\u001b[37m\u001b[0m \u001b[1m7s\u001b[0m 1s/step - AUC: 0.7069 - Precision: 0.6273 - Recall: 0.8219 - accuracy: 0.6722 - loss: 0.6394 - val_AUC: 0.6604 - val_Precision: 0.6667 - val_Recall: 0.8421 - val_accuracy: 0.7250 - val_loss: 0.6301 - learning_rate: 5.0000e-04\n",
      "Epoch 5/50\n",
      "\u001b[1m6/6\u001b[0m \u001b[32m━━━━━━━━━━━━━━━━━━━━\u001b[0m\u001b[37m\u001b[0m \u001b[1m0s\u001b[0m 1s/step - AUC: 0.7128 - Precision: 0.6260 - Recall: 0.7719 - accuracy: 0.6751 - loss: 0.6220\n",
      "Epoch 5: val_accuracy did not improve from 0.72500\n",
      "\u001b[1m6/6\u001b[0m \u001b[32m━━━━━━━━━━━━━━━━━━━━\u001b[0m\u001b[37m\u001b[0m \u001b[1m7s\u001b[0m 1s/step - AUC: 0.7134 - Precision: 0.6290 - Recall: 0.7791 - accuracy: 0.6771 - loss: 0.6224 - val_AUC: 0.7607 - val_Precision: 0.6667 - val_Recall: 0.8421 - val_accuracy: 0.7250 - val_loss: 0.6094 - learning_rate: 5.0000e-04\n",
      "Restoring model weights from the end of the best epoch: 4.\n",
      "Epoch 5: early stopping\n",
      "\u001b[1m7/7\u001b[0m \u001b[32m━━━━━━━━━━━━━━━━━━━━\u001b[0m\u001b[37m\u001b[0m \u001b[1m1s\u001b[0m 128ms/step\n",
      "Fold 3/20\n",
      "Training fold shape: (760, 224, 224, 3)\n",
      "Validation fold shape: (40, 224, 224, 3)\n",
      "Epoch 1/50\n",
      "\u001b[1m6/6\u001b[0m \u001b[32m━━━━━━━━━━━━━━━━━━━━\u001b[0m\u001b[37m\u001b[0m \u001b[1m0s\u001b[0m 1s/step - AUC: 0.5098 - Precision: 0.4674 - Recall: 0.5622 - accuracy: 0.4967 - loss: 0.8849\n",
      "Epoch 1: val_accuracy improved from -inf to 0.50000, saving model to outputresults/model_cv20_fold3.h5\n"
     ]
    },
    {
     "name": "stderr",
     "output_type": "stream",
     "text": [
      "WARNING:absl:You are saving your model as an HDF5 file via `model.save()` or `keras.saving.save_model(model)`. This file format is considered legacy. We recommend using instead the native Keras format, e.g. `model.save('my_model.keras')` or `keras.saving.save_model(model, 'my_model.keras')`. \n"
     ]
    },
    {
     "name": "stdout",
     "output_type": "stream",
     "text": [
      "\u001b[1m6/6\u001b[0m \u001b[32m━━━━━━━━━━━━━━━━━━━━\u001b[0m\u001b[37m\u001b[0m \u001b[1m16s\u001b[0m 1s/step - AUC: 0.5099 - Precision: 0.4717 - Recall: 0.5609 - accuracy: 0.4976 - loss: 0.8804 - val_AUC: 0.7488 - val_Precision: 0.0000e+00 - val_Recall: 0.0000e+00 - val_accuracy: 0.5000 - val_loss: 0.7633 - learning_rate: 5.0000e-04\n",
      "Epoch 2/50\n",
      "\u001b[1m6/6\u001b[0m \u001b[32m━━━━━━━━━━━━━━━━━━━━\u001b[0m\u001b[37m\u001b[0m \u001b[1m0s\u001b[0m 1s/step - AUC: 0.5165 - Precision: 0.4918 - Recall: 0.3189 - accuracy: 0.5128 - loss: 0.7351\n",
      "Epoch 2: val_accuracy did not improve from 0.50000\n",
      "\u001b[1m6/6\u001b[0m \u001b[32m━━━━━━━━━━━━━━━━━━━━\u001b[0m\u001b[37m\u001b[0m \u001b[1m7s\u001b[0m 1s/step - AUC: 0.5160 - Precision: 0.4941 - Recall: 0.3509 - accuracy: 0.5129 - loss: 0.7339 - val_AUC: 0.7425 - val_Precision: 0.5000 - val_Recall: 1.0000 - val_accuracy: 0.5000 - val_loss: 0.6901 - learning_rate: 5.0000e-04\n",
      "Epoch 3/50\n",
      "\u001b[1m6/6\u001b[0m \u001b[32m━━━━━━━━━━━━━━━━━━━━\u001b[0m\u001b[37m\u001b[0m \u001b[1m0s\u001b[0m 1s/step - AUC: 0.5892 - Precision: 0.5434 - Recall: 0.5422 - accuracy: 0.5571 - loss: 0.6935\n",
      "Epoch 3: val_accuracy improved from 0.50000 to 0.67500, saving model to outputresults/model_cv20_fold3.h5\n"
     ]
    },
    {
     "name": "stderr",
     "output_type": "stream",
     "text": [
      "WARNING:absl:You are saving your model as an HDF5 file via `model.save()` or `keras.saving.save_model(model)`. This file format is considered legacy. We recommend using instead the native Keras format, e.g. `model.save('my_model.keras')` or `keras.saving.save_model(model, 'my_model.keras')`. \n"
     ]
    },
    {
     "name": "stdout",
     "output_type": "stream",
     "text": [
      "\u001b[1m6/6\u001b[0m \u001b[32m━━━━━━━━━━━━━━━━━━━━\u001b[0m\u001b[37m\u001b[0m \u001b[1m7s\u001b[0m 1s/step - AUC: 0.5933 - Precision: 0.5502 - Recall: 0.5312 - accuracy: 0.5599 - loss: 0.6917 - val_AUC: 0.8100 - val_Precision: 0.6207 - val_Recall: 0.9000 - val_accuracy: 0.6750 - val_loss: 0.6082 - learning_rate: 5.0000e-04\n",
      "Epoch 4/50\n",
      "\u001b[1m6/6\u001b[0m \u001b[32m━━━━━━━━━━━━━━━━━━━━\u001b[0m\u001b[37m\u001b[0m \u001b[1m0s\u001b[0m 1s/step - AUC: 0.7223 - Precision: 0.6507 - Recall: 0.8566 - accuracy: 0.7013 - loss: 0.6135\n",
      "Epoch 4: val_accuracy improved from 0.67500 to 0.70000, saving model to outputresults/model_cv20_fold3.h5\n"
     ]
    },
    {
     "name": "stderr",
     "output_type": "stream",
     "text": [
      "WARNING:absl:You are saving your model as an HDF5 file via `model.save()` or `keras.saving.save_model(model)`. This file format is considered legacy. We recommend using instead the native Keras format, e.g. `model.save('my_model.keras')` or `keras.saving.save_model(model, 'my_model.keras')`. \n"
     ]
    },
    {
     "name": "stdout",
     "output_type": "stream",
     "text": [
      "\u001b[1m6/6\u001b[0m \u001b[32m━━━━━━━━━━━━━━━━━━━━\u001b[0m\u001b[37m\u001b[0m \u001b[1m7s\u001b[0m 1s/step - AUC: 0.7210 - Precision: 0.6495 - Recall: 0.8558 - accuracy: 0.7000 - loss: 0.6150 - val_AUC: 0.7925 - val_Precision: 0.6429 - val_Recall: 0.9000 - val_accuracy: 0.7000 - val_loss: 0.6381 - learning_rate: 5.0000e-04\n",
      "Epoch 5/50\n",
      "\u001b[1m6/6\u001b[0m \u001b[32m━━━━━━━━━━━━━━━━━━━━\u001b[0m\u001b[37m\u001b[0m \u001b[1m0s\u001b[0m 1s/step - AUC: 0.6824 - Precision: 0.6340 - Recall: 0.7422 - accuracy: 0.6640 - loss: 0.6539\n",
      "Epoch 5: val_accuracy did not improve from 0.70000\n",
      "\u001b[1m6/6\u001b[0m \u001b[32m━━━━━━━━━━━━━━━━━━━━\u001b[0m\u001b[37m\u001b[0m \u001b[1m7s\u001b[0m 1s/step - AUC: 0.6844 - Precision: 0.6377 - Recall: 0.7452 - accuracy: 0.6675 - loss: 0.6516 - val_AUC: 0.7738 - val_Precision: 0.6207 - val_Recall: 0.9000 - val_accuracy: 0.6750 - val_loss: 0.6475 - learning_rate: 5.0000e-04\n",
      "Restoring model weights from the end of the best epoch: 4.\n",
      "Epoch 5: early stopping\n",
      "\u001b[1m7/7\u001b[0m \u001b[32m━━━━━━━━━━━━━━━━━━━━\u001b[0m\u001b[37m\u001b[0m \u001b[1m1s\u001b[0m 134ms/step\n",
      "Fold 4/20\n",
      "Training fold shape: (760, 224, 224, 3)\n",
      "Validation fold shape: (40, 224, 224, 3)\n",
      "Epoch 1/50\n",
      "\u001b[1m6/6\u001b[0m \u001b[32m━━━━━━━━━━━━━━━━━━━━\u001b[0m\u001b[37m\u001b[0m \u001b[1m0s\u001b[0m 1s/step - AUC: 0.5302 - Precision: 0.4988 - Recall: 0.4584 - accuracy: 0.5096 - loss: 0.8415\n",
      "Epoch 1: val_accuracy improved from -inf to 0.42500, saving model to outputresults/model_cv20_fold4.h5\n"
     ]
    },
    {
     "name": "stderr",
     "output_type": "stream",
     "text": [
      "WARNING:absl:You are saving your model as an HDF5 file via `model.save()` or `keras.saving.save_model(model)`. This file format is considered legacy. We recommend using instead the native Keras format, e.g. `model.save('my_model.keras')` or `keras.saving.save_model(model, 'my_model.keras')`. \n"
     ]
    },
    {
     "name": "stdout",
     "output_type": "stream",
     "text": [
      "\u001b[1m6/6\u001b[0m \u001b[32m━━━━━━━━━━━━━━━━━━━━\u001b[0m\u001b[37m\u001b[0m \u001b[1m15s\u001b[0m 1s/step - AUC: 0.5279 - Precision: 0.4985 - Recall: 0.4699 - accuracy: 0.5089 - loss: 0.8443 - val_AUC: 0.8184 - val_Precision: 0.0000e+00 - val_Recall: 0.0000e+00 - val_accuracy: 0.4250 - val_loss: 0.6953 - learning_rate: 5.0000e-04\n",
      "Epoch 2/50\n",
      "\u001b[1m6/6\u001b[0m \u001b[32m━━━━━━━━━━━━━━━━━━━━\u001b[0m\u001b[37m\u001b[0m \u001b[1m0s\u001b[0m 2s/step - AUC: 0.5430 - Precision: 0.5505 - Recall: 0.3311 - accuracy: 0.5469 - loss: 0.7169\n",
      "Epoch 2: val_accuracy improved from 0.42500 to 0.57500, saving model to outputresults/model_cv20_fold4.h5\n"
     ]
    },
    {
     "name": "stderr",
     "output_type": "stream",
     "text": [
      "WARNING:absl:You are saving your model as an HDF5 file via `model.save()` or `keras.saving.save_model(model)`. This file format is considered legacy. We recommend using instead the native Keras format, e.g. `model.save('my_model.keras')` or `keras.saving.save_model(model, 'my_model.keras')`. \n"
     ]
    },
    {
     "name": "stdout",
     "output_type": "stream",
     "text": [
      "\u001b[1m6/6\u001b[0m \u001b[32m━━━━━━━━━━━━━━━━━━━━\u001b[0m\u001b[37m\u001b[0m \u001b[1m11s\u001b[0m 2s/step - AUC: 0.5425 - Precision: 0.5504 - Recall: 0.3328 - accuracy: 0.5458 - loss: 0.7174 - val_AUC: 0.8555 - val_Precision: 0.5750 - val_Recall: 1.0000 - val_accuracy: 0.5750 - val_loss: 0.6696 - learning_rate: 5.0000e-04\n",
      "Epoch 3/50\n",
      "\u001b[1m6/6\u001b[0m \u001b[32m━━━━━━━━━━━━━━━━━━━━\u001b[0m\u001b[37m\u001b[0m \u001b[1m0s\u001b[0m 2s/step - AUC: 0.5232 - Precision: 0.5167 - Recall: 0.8272 - accuracy: 0.5348 - loss: 0.7337\n",
      "Epoch 3: val_accuracy did not improve from 0.57500\n",
      "\u001b[1m6/6\u001b[0m \u001b[32m━━━━━━━━━━━━━━━━━━━━\u001b[0m\u001b[37m\u001b[0m \u001b[1m12s\u001b[0m 2s/step - AUC: 0.5267 - Precision: 0.5192 - Recall: 0.8052 - accuracy: 0.5372 - loss: 0.7302 - val_AUC: 0.8235 - val_Precision: 0.0000e+00 - val_Recall: 0.0000e+00 - val_accuracy: 0.4250 - val_loss: 0.7055 - learning_rate: 5.0000e-04\n",
      "Epoch 4/50\n",
      "\u001b[1m6/6\u001b[0m \u001b[32m━━━━━━━━━━━━━━━━━━━━\u001b[0m\u001b[37m\u001b[0m \u001b[1m0s\u001b[0m 1s/step - AUC: 0.6843 - Precision: 0.6188 - Recall: 0.6109 - accuracy: 0.6292 - loss: 0.6476\n",
      "Epoch 4: val_accuracy improved from 0.57500 to 0.77500, saving model to outputresults/model_cv20_fold4.h5\n"
     ]
    },
    {
     "name": "stderr",
     "output_type": "stream",
     "text": [
      "WARNING:absl:You are saving your model as an HDF5 file via `model.save()` or `keras.saving.save_model(model)`. This file format is considered legacy. We recommend using instead the native Keras format, e.g. `model.save('my_model.keras')` or `keras.saving.save_model(model, 'my_model.keras')`. \n"
     ]
    },
    {
     "name": "stdout",
     "output_type": "stream",
     "text": [
      "\u001b[1m6/6\u001b[0m \u001b[32m━━━━━━━━━━━━━━━━━━━━\u001b[0m\u001b[37m\u001b[0m \u001b[1m9s\u001b[0m 1s/step - AUC: 0.6860 - Precision: 0.6194 - Recall: 0.6278 - accuracy: 0.6322 - loss: 0.6467 - val_AUC: 0.7749 - val_Precision: 0.7917 - val_Recall: 0.8261 - val_accuracy: 0.7750 - val_loss: 0.6409 - learning_rate: 5.0000e-04\n",
      "Epoch 5/50\n",
      "\u001b[1m6/6\u001b[0m \u001b[32m━━━━━━━━━━━━━━━━━━━━\u001b[0m\u001b[37m\u001b[0m \u001b[1m0s\u001b[0m 1s/step - AUC: 0.7108 - Precision: 0.6104 - Recall: 0.8320 - accuracy: 0.6756 - loss: 0.6237\n",
      "Epoch 5: val_accuracy did not improve from 0.77500\n",
      "\u001b[1m6/6\u001b[0m \u001b[32m━━━━━━━━━━━━━━━━━━━━\u001b[0m\u001b[37m\u001b[0m \u001b[1m8s\u001b[0m 1s/step - AUC: 0.7098 - Precision: 0.6141 - Recall: 0.8242 - accuracy: 0.6751 - loss: 0.6240 - val_AUC: 0.7852 - val_Precision: 0.7917 - val_Recall: 0.8261 - val_accuracy: 0.7750 - val_loss: 0.5833 - learning_rate: 5.0000e-04\n",
      "Restoring model weights from the end of the best epoch: 4.\n",
      "Epoch 5: early stopping\n",
      "\u001b[1m7/7\u001b[0m \u001b[32m━━━━━━━━━━━━━━━━━━━━\u001b[0m\u001b[37m\u001b[0m \u001b[1m2s\u001b[0m 183ms/step\n",
      "Fold 5/20\n",
      "Training fold shape: (760, 224, 224, 3)\n",
      "Validation fold shape: (40, 224, 224, 3)\n",
      "Epoch 1/50\n",
      "\u001b[1m6/6\u001b[0m \u001b[32m━━━━━━━━━━━━━━━━━━━━\u001b[0m\u001b[37m\u001b[0m \u001b[1m0s\u001b[0m 1s/step - AUC: 0.5350 - Precision: 0.5192 - Recall: 0.5082 - accuracy: 0.5220 - loss: 0.8189\n",
      "Epoch 1: val_accuracy improved from -inf to 0.55000, saving model to outputresults/model_cv20_fold5.h5\n"
     ]
    },
    {
     "name": "stderr",
     "output_type": "stream",
     "text": [
      "WARNING:absl:You are saving your model as an HDF5 file via `model.save()` or `keras.saving.save_model(model)`. This file format is considered legacy. We recommend using instead the native Keras format, e.g. `model.save('my_model.keras')` or `keras.saving.save_model(model, 'my_model.keras')`. \n"
     ]
    },
    {
     "name": "stdout",
     "output_type": "stream",
     "text": [
      "\u001b[1m6/6\u001b[0m \u001b[32m━━━━━━━━━━━━━━━━━━━━\u001b[0m\u001b[37m\u001b[0m \u001b[1m18s\u001b[0m 2s/step - AUC: 0.5316 - Precision: 0.5163 - Recall: 0.5043 - accuracy: 0.5198 - loss: 0.8253 - val_AUC: 0.6818 - val_Precision: 0.5500 - val_Recall: 1.0000 - val_accuracy: 0.5500 - val_loss: 0.8063 - learning_rate: 5.0000e-04\n",
      "Epoch 2/50\n",
      "\u001b[1m6/6\u001b[0m \u001b[32m━━━━━━━━━━━━━━━━━━━━\u001b[0m\u001b[37m\u001b[0m \u001b[1m0s\u001b[0m 1s/step - AUC: 0.5015 - Precision: 0.4774 - Recall: 0.5801 - accuracy: 0.4848 - loss: 0.7892\n",
      "Epoch 2: val_accuracy improved from 0.55000 to 0.60000, saving model to outputresults/model_cv20_fold5.h5\n"
     ]
    },
    {
     "name": "stderr",
     "output_type": "stream",
     "text": [
      "WARNING:absl:You are saving your model as an HDF5 file via `model.save()` or `keras.saving.save_model(model)`. This file format is considered legacy. We recommend using instead the native Keras format, e.g. `model.save('my_model.keras')` or `keras.saving.save_model(model, 'my_model.keras')`. \n"
     ]
    },
    {
     "name": "stdout",
     "output_type": "stream",
     "text": [
      "\u001b[1m6/6\u001b[0m \u001b[32m━━━━━━━━━━━━━━━━━━━━\u001b[0m\u001b[37m\u001b[0m \u001b[1m9s\u001b[0m 1s/step - AUC: 0.5028 - Precision: 0.4781 - Recall: 0.5526 - accuracy: 0.4860 - loss: 0.7858 - val_AUC: 0.7525 - val_Precision: 0.5882 - val_Recall: 0.9091 - val_accuracy: 0.6000 - val_loss: 0.7053 - learning_rate: 5.0000e-04\n",
      "Epoch 3/50\n",
      "\u001b[1m6/6\u001b[0m \u001b[32m━━━━━━━━━━━━━━━━━━━━\u001b[0m\u001b[37m\u001b[0m \u001b[1m0s\u001b[0m 2s/step - AUC: 0.6578 - Precision: 0.5903 - Recall: 0.8180 - accuracy: 0.6386 - loss: 0.6743\n",
      "Epoch 3: val_accuracy improved from 0.60000 to 0.62500, saving model to outputresults/model_cv20_fold5.h5\n"
     ]
    },
    {
     "name": "stderr",
     "output_type": "stream",
     "text": [
      "WARNING:absl:You are saving your model as an HDF5 file via `model.save()` or `keras.saving.save_model(model)`. This file format is considered legacy. We recommend using instead the native Keras format, e.g. `model.save('my_model.keras')` or `keras.saving.save_model(model, 'my_model.keras')`. \n"
     ]
    },
    {
     "name": "stdout",
     "output_type": "stream",
     "text": [
      "\u001b[1m6/6\u001b[0m \u001b[32m━━━━━━━━━━━━━━━━━━━━\u001b[0m\u001b[37m\u001b[0m \u001b[1m10s\u001b[0m 2s/step - AUC: 0.6567 - Precision: 0.5921 - Recall: 0.8158 - accuracy: 0.6391 - loss: 0.6749 - val_AUC: 0.7487 - val_Precision: 0.6129 - val_Recall: 0.8636 - val_accuracy: 0.6250 - val_loss: 0.7406 - learning_rate: 5.0000e-04\n",
      "Epoch 4/50\n",
      "\u001b[1m6/6\u001b[0m \u001b[32m━━━━━━━━━━━━━━━━━━━━\u001b[0m\u001b[37m\u001b[0m \u001b[1m0s\u001b[0m 1s/step - AUC: 0.6940 - Precision: 0.6182 - Recall: 0.6160 - accuracy: 0.6377 - loss: 0.6500\n",
      "Epoch 4: val_accuracy did not improve from 0.62500\n",
      "\u001b[1m6/6\u001b[0m \u001b[32m━━━━━━━━━━━━━━━━━━━━\u001b[0m\u001b[37m\u001b[0m \u001b[1m7s\u001b[0m 1s/step - AUC: 0.6949 - Precision: 0.6192 - Recall: 0.6285 - accuracy: 0.6389 - loss: 0.6487 - val_AUC: 0.7525 - val_Precision: 0.6129 - val_Recall: 0.8636 - val_accuracy: 0.6250 - val_loss: 0.7257 - learning_rate: 5.0000e-04\n",
      "Epoch 5/50\n",
      "\u001b[1m6/6\u001b[0m \u001b[32m━━━━━━━━━━━━━━━━━━━━\u001b[0m\u001b[37m\u001b[0m \u001b[1m0s\u001b[0m 2s/step - AUC: 0.7505 - Precision: 0.6839 - Recall: 0.8360 - accuracy: 0.7241 - loss: 0.5984\n",
      "Epoch 5: val_accuracy did not improve from 0.62500\n",
      "\u001b[1m6/6\u001b[0m \u001b[32m━━━━━━━━━━━━━━━━━━━━\u001b[0m\u001b[37m\u001b[0m \u001b[1m11s\u001b[0m 2s/step - AUC: 0.7494 - Precision: 0.6820 - Recall: 0.8331 - accuracy: 0.7223 - loss: 0.5998 - val_AUC: 0.5682 - val_Precision: 0.6129 - val_Recall: 0.8636 - val_accuracy: 0.6250 - val_loss: 0.7616 - learning_rate: 5.0000e-04\n",
      "Restoring model weights from the end of the best epoch: 3.\n",
      "Epoch 5: early stopping\n",
      "\u001b[1m7/7\u001b[0m \u001b[32m━━━━━━━━━━━━━━━━━━━━\u001b[0m\u001b[37m\u001b[0m \u001b[1m2s\u001b[0m 168ms/step\n",
      "Fold 6/20\n",
      "Training fold shape: (760, 224, 224, 3)\n",
      "Validation fold shape: (40, 224, 224, 3)\n",
      "Epoch 1/50\n",
      "\u001b[1m6/6\u001b[0m \u001b[32m━━━━━━━━━━━━━━━━━━━━\u001b[0m\u001b[37m\u001b[0m \u001b[1m0s\u001b[0m 1s/step - AUC: 0.5199 - Precision: 0.4698 - Recall: 0.5861 - accuracy: 0.4796 - loss: 0.8625\n",
      "Epoch 1: val_accuracy improved from -inf to 0.47500, saving model to outputresults/model_cv20_fold6.h5\n"
     ]
    },
    {
     "name": "stderr",
     "output_type": "stream",
     "text": [
      "WARNING:absl:You are saving your model as an HDF5 file via `model.save()` or `keras.saving.save_model(model)`. This file format is considered legacy. We recommend using instead the native Keras format, e.g. `model.save('my_model.keras')` or `keras.saving.save_model(model, 'my_model.keras')`. \n"
     ]
    },
    {
     "name": "stdout",
     "output_type": "stream",
     "text": [
      "\u001b[1m6/6\u001b[0m \u001b[32m━━━━━━━━━━━━━━━━━━━━\u001b[0m\u001b[37m\u001b[0m \u001b[1m20s\u001b[0m 2s/step - AUC: 0.5186 - Precision: 0.4734 - Recall: 0.5759 - accuracy: 0.4827 - loss: 0.8600 - val_AUC: 0.8045 - val_Precision: 0.0000e+00 - val_Recall: 0.0000e+00 - val_accuracy: 0.4750 - val_loss: 0.7199 - learning_rate: 5.0000e-04\n",
      "Epoch 2/50\n",
      "\u001b[1m6/6\u001b[0m \u001b[32m━━━━━━━━━━━━━━━━━━━━\u001b[0m\u001b[37m\u001b[0m \u001b[1m0s\u001b[0m 1s/step - AUC: 0.5152 - Precision: 0.5114 - Recall: 0.4790 - accuracy: 0.5214 - loss: 0.7285\n",
      "Epoch 2: val_accuracy improved from 0.47500 to 0.82500, saving model to outputresults/model_cv20_fold6.h5\n"
     ]
    },
    {
     "name": "stderr",
     "output_type": "stream",
     "text": [
      "WARNING:absl:You are saving your model as an HDF5 file via `model.save()` or `keras.saving.save_model(model)`. This file format is considered legacy. We recommend using instead the native Keras format, e.g. `model.save('my_model.keras')` or `keras.saving.save_model(model, 'my_model.keras')`. \n"
     ]
    },
    {
     "name": "stdout",
     "output_type": "stream",
     "text": [
      "\u001b[1m6/6\u001b[0m \u001b[32m━━━━━━━━━━━━━━━━━━━━\u001b[0m\u001b[37m\u001b[0m \u001b[1m10s\u001b[0m 2s/step - AUC: 0.5198 - Precision: 0.5126 - Recall: 0.5001 - accuracy: 0.5226 - loss: 0.7261 - val_AUC: 0.8195 - val_Precision: 0.7917 - val_Recall: 0.9048 - val_accuracy: 0.8250 - val_loss: 0.6210 - learning_rate: 5.0000e-04\n",
      "Epoch 3/50\n",
      "\u001b[1m6/6\u001b[0m \u001b[32m━━━━━━━━━━━━━━━━━━━━\u001b[0m\u001b[37m\u001b[0m \u001b[1m0s\u001b[0m 1s/step - AUC: 0.6841 - Precision: 0.6441 - Recall: 0.5224 - accuracy: 0.6113 - loss: 0.6524\n",
      "Epoch 3: val_accuracy did not improve from 0.82500\n",
      "\u001b[1m6/6\u001b[0m \u001b[32m━━━━━━━━━━━━━━━━━━━━\u001b[0m\u001b[37m\u001b[0m \u001b[1m8s\u001b[0m 1s/step - AUC: 0.6849 - Precision: 0.6430 - Recall: 0.5365 - accuracy: 0.6151 - loss: 0.6517 - val_AUC: 0.8033 - val_Precision: 0.7308 - val_Recall: 0.9048 - val_accuracy: 0.7750 - val_loss: 0.5621 - learning_rate: 5.0000e-04\n",
      "Epoch 4/50\n",
      "\u001b[1m6/6\u001b[0m \u001b[32m━━━━━━━━━━━━━━━━━━━━\u001b[0m\u001b[37m\u001b[0m \u001b[1m0s\u001b[0m 1s/step - AUC: 0.7531 - Precision: 0.6834 - Recall: 0.8711 - accuracy: 0.7339 - loss: 0.5907\n",
      "Epoch 4: val_accuracy did not improve from 0.82500\n",
      "\u001b[1m6/6\u001b[0m \u001b[32m━━━━━━━━━━━━━━━━━━━━\u001b[0m\u001b[37m\u001b[0m \u001b[1m8s\u001b[0m 1s/step - AUC: 0.7471 - Precision: 0.6785 - Recall: 0.8609 - accuracy: 0.7273 - loss: 0.5963 - val_AUC: 0.7932 - val_Precision: 0.7826 - val_Recall: 0.8571 - val_accuracy: 0.8000 - val_loss: 0.6077 - learning_rate: 5.0000e-04\n",
      "Epoch 5/50\n",
      "\u001b[1m6/6\u001b[0m \u001b[32m━━━━━━━━━━━━━━━━━━━━\u001b[0m\u001b[37m\u001b[0m \u001b[1m0s\u001b[0m 2s/step - AUC: 0.7448 - Precision: 0.6738 - Recall: 0.8149 - accuracy: 0.7211 - loss: 0.5982\n",
      "Epoch 5: ReduceLROnPlateau reducing learning rate to 0.00010000000474974513.\n",
      "\n",
      "Epoch 5: val_accuracy did not improve from 0.82500\n",
      "\u001b[1m6/6\u001b[0m \u001b[32m━━━━━━━━━━━━━━━━━━━━\u001b[0m\u001b[37m\u001b[0m \u001b[1m10s\u001b[0m 2s/step - AUC: 0.7415 - Precision: 0.6724 - Recall: 0.8197 - accuracy: 0.7199 - loss: 0.6006 - val_AUC: 0.7945 - val_Precision: 0.7917 - val_Recall: 0.9048 - val_accuracy: 0.8250 - val_loss: 0.5569 - learning_rate: 5.0000e-04\n",
      "Restoring model weights from the end of the best epoch: 2.\n",
      "Epoch 5: early stopping\n",
      "\u001b[1m7/7\u001b[0m \u001b[32m━━━━━━━━━━━━━━━━━━━━\u001b[0m\u001b[37m\u001b[0m \u001b[1m1s\u001b[0m 129ms/step\n",
      "Fold 7/20\n",
      "Training fold shape: (760, 224, 224, 3)\n",
      "Validation fold shape: (40, 224, 224, 3)\n",
      "Epoch 1/50\n",
      "\u001b[1m6/6\u001b[0m \u001b[32m━━━━━━━━━━━━━━━━━━━━\u001b[0m\u001b[37m\u001b[0m \u001b[1m0s\u001b[0m 2s/step - AUC: 0.5236 - Precision: 0.5312 - Recall: 0.5618 - accuracy: 0.5424 - loss: 0.8404\n",
      "Epoch 1: val_accuracy improved from -inf to 0.45000, saving model to outputresults/model_cv20_fold7.h5\n"
     ]
    },
    {
     "name": "stderr",
     "output_type": "stream",
     "text": [
      "WARNING:absl:You are saving your model as an HDF5 file via `model.save()` or `keras.saving.save_model(model)`. This file format is considered legacy. We recommend using instead the native Keras format, e.g. `model.save('my_model.keras')` or `keras.saving.save_model(model, 'my_model.keras')`. \n"
     ]
    },
    {
     "name": "stdout",
     "output_type": "stream",
     "text": [
      "\u001b[1m6/6\u001b[0m \u001b[32m━━━━━━━━━━━━━━━━━━━━\u001b[0m\u001b[37m\u001b[0m \u001b[1m23s\u001b[0m 2s/step - AUC: 0.5235 - Precision: 0.5299 - Recall: 0.5696 - accuracy: 0.5405 - loss: 0.8412 - val_AUC: 0.7361 - val_Precision: 0.4500 - val_Recall: 1.0000 - val_accuracy: 0.4500 - val_loss: 0.7320 - learning_rate: 5.0000e-04\n",
      "Epoch 2/50\n",
      "\u001b[1m6/6\u001b[0m \u001b[32m━━━━━━━━━━━━━━━━━━━━\u001b[0m\u001b[37m\u001b[0m \u001b[1m0s\u001b[0m 1s/step - AUC: 0.5091 - Precision: 0.4885 - Recall: 0.4447 - accuracy: 0.5057 - loss: 0.7438\n",
      "Epoch 2: val_accuracy improved from 0.45000 to 0.60000, saving model to outputresults/model_cv20_fold7.h5\n"
     ]
    },
    {
     "name": "stderr",
     "output_type": "stream",
     "text": [
      "WARNING:absl:You are saving your model as an HDF5 file via `model.save()` or `keras.saving.save_model(model)`. This file format is considered legacy. We recommend using instead the native Keras format, e.g. `model.save('my_model.keras')` or `keras.saving.save_model(model, 'my_model.keras')`. \n"
     ]
    },
    {
     "name": "stdout",
     "output_type": "stream",
     "text": [
      "\u001b[1m6/6\u001b[0m \u001b[32m━━━━━━━━━━━━━━━━━━━━\u001b[0m\u001b[37m\u001b[0m \u001b[1m9s\u001b[0m 1s/step - AUC: 0.5161 - Precision: 0.4997 - Recall: 0.4311 - accuracy: 0.5111 - loss: 0.7406 - val_AUC: 0.7563 - val_Precision: 0.5333 - val_Recall: 0.8889 - val_accuracy: 0.6000 - val_loss: 0.6767 - learning_rate: 5.0000e-04\n",
      "Epoch 3/50\n",
      "\u001b[1m6/6\u001b[0m \u001b[32m━━━━━━━━━━━━━━━━━━━━\u001b[0m\u001b[37m\u001b[0m \u001b[1m0s\u001b[0m 1s/step - AUC: 0.6862 - Precision: 0.6039 - Recall: 0.8799 - accuracy: 0.6595 - loss: 0.6561\n",
      "Epoch 3: val_accuracy did not improve from 0.60000\n",
      "\u001b[1m6/6\u001b[0m \u001b[32m━━━━━━━━━━━━━━━━━━━━\u001b[0m\u001b[37m\u001b[0m \u001b[1m8s\u001b[0m 1s/step - AUC: 0.6886 - Precision: 0.6074 - Recall: 0.8808 - accuracy: 0.6629 - loss: 0.6540 - val_AUC: 0.6780 - val_Precision: 0.0000e+00 - val_Recall: 0.0000e+00 - val_accuracy: 0.5250 - val_loss: 0.7090 - learning_rate: 5.0000e-04\n",
      "Epoch 4/50\n",
      "\u001b[1m6/6\u001b[0m \u001b[32m━━━━━━━━━━━━━━━━━━━━\u001b[0m\u001b[37m\u001b[0m \u001b[1m0s\u001b[0m 1s/step - AUC: 0.7102 - Precision: 0.6715 - Recall: 0.7046 - accuracy: 0.6677 - loss: 0.6524\n",
      "Epoch 4: val_accuracy improved from 0.60000 to 0.70000, saving model to outputresults/model_cv20_fold7.h5\n"
     ]
    },
    {
     "name": "stderr",
     "output_type": "stream",
     "text": [
      "WARNING:absl:You are saving your model as an HDF5 file via `model.save()` or `keras.saving.save_model(model)`. This file format is considered legacy. We recommend using instead the native Keras format, e.g. `model.save('my_model.keras')` or `keras.saving.save_model(model, 'my_model.keras')`. \n"
     ]
    },
    {
     "name": "stdout",
     "output_type": "stream",
     "text": [
      "\u001b[1m6/6\u001b[0m \u001b[32m━━━━━━━━━━━━━━━━━━━━\u001b[0m\u001b[37m\u001b[0m \u001b[1m9s\u001b[0m 1s/step - AUC: 0.7087 - Precision: 0.6683 - Recall: 0.7158 - accuracy: 0.6697 - loss: 0.6513 - val_AUC: 0.7146 - val_Precision: 0.6154 - val_Recall: 0.8889 - val_accuracy: 0.7000 - val_loss: 0.6453 - learning_rate: 5.0000e-04\n",
      "Epoch 5/50\n",
      "\u001b[1m6/6\u001b[0m \u001b[32m━━━━━━━━━━━━━━━━━━━━\u001b[0m\u001b[37m\u001b[0m \u001b[1m0s\u001b[0m 1s/step - AUC: 0.7230 - Precision: 0.6760 - Recall: 0.8538 - accuracy: 0.7163 - loss: 0.6114\n",
      "Epoch 5: val_accuracy did not improve from 0.70000\n",
      "\u001b[1m6/6\u001b[0m \u001b[32m━━━━━━━━━━━━━━━━━━━━\u001b[0m\u001b[37m\u001b[0m \u001b[1m8s\u001b[0m 1s/step - AUC: 0.7255 - Precision: 0.6760 - Recall: 0.8539 - accuracy: 0.7174 - loss: 0.6095 - val_AUC: 0.7235 - val_Precision: 0.6154 - val_Recall: 0.8889 - val_accuracy: 0.7000 - val_loss: 0.6432 - learning_rate: 5.0000e-04\n",
      "Restoring model weights from the end of the best epoch: 4.\n",
      "Epoch 5: early stopping\n",
      "\u001b[1m7/7\u001b[0m \u001b[32m━━━━━━━━━━━━━━━━━━━━\u001b[0m\u001b[37m\u001b[0m \u001b[1m2s\u001b[0m 229ms/step\n",
      "Fold 8/20\n",
      "Training fold shape: (760, 224, 224, 3)\n",
      "Validation fold shape: (40, 224, 224, 3)\n",
      "Epoch 1/50\n",
      "\u001b[1m6/6\u001b[0m \u001b[32m━━━━━━━━━━━━━━━━━━━━\u001b[0m\u001b[37m\u001b[0m \u001b[1m0s\u001b[0m 2s/step - AUC: 0.5095 - Precision: 0.4855 - Recall: 0.5076 - accuracy: 0.4955 - loss: 0.7836\n",
      "Epoch 1: val_accuracy improved from -inf to 0.60000, saving model to outputresults/model_cv20_fold8.h5\n"
     ]
    },
    {
     "name": "stderr",
     "output_type": "stream",
     "text": [
      "WARNING:absl:You are saving your model as an HDF5 file via `model.save()` or `keras.saving.save_model(model)`. This file format is considered legacy. We recommend using instead the native Keras format, e.g. `model.save('my_model.keras')` or `keras.saving.save_model(model, 'my_model.keras')`. \n"
     ]
    },
    {
     "name": "stdout",
     "output_type": "stream",
     "text": [
      "\u001b[1m6/6\u001b[0m \u001b[32m━━━━━━━━━━━━━━━━━━━━\u001b[0m\u001b[37m\u001b[0m \u001b[1m22s\u001b[0m 2s/step - AUC: 0.5139 - Precision: 0.4892 - Recall: 0.5106 - accuracy: 0.4978 - loss: 0.7843 - val_AUC: 0.7109 - val_Precision: 0.0000e+00 - val_Recall: 0.0000e+00 - val_accuracy: 0.6000 - val_loss: 0.6586 - learning_rate: 5.0000e-04\n",
      "Epoch 2/50\n",
      "\u001b[1m6/6\u001b[0m \u001b[32m━━━━━━━━━━━━━━━━━━━━\u001b[0m\u001b[37m\u001b[0m \u001b[1m0s\u001b[0m 1s/step - AUC: 0.5491 - Precision: 0.5316 - Recall: 0.4423 - accuracy: 0.5328 - loss: 0.7468\n",
      "Epoch 2: val_accuracy improved from 0.60000 to 0.65000, saving model to outputresults/model_cv20_fold8.h5\n"
     ]
    },
    {
     "name": "stderr",
     "output_type": "stream",
     "text": [
      "WARNING:absl:You are saving your model as an HDF5 file via `model.save()` or `keras.saving.save_model(model)`. This file format is considered legacy. We recommend using instead the native Keras format, e.g. `model.save('my_model.keras')` or `keras.saving.save_model(model, 'my_model.keras')`. \n"
     ]
    },
    {
     "name": "stdout",
     "output_type": "stream",
     "text": [
      "\u001b[1m6/6\u001b[0m \u001b[32m━━━━━━━━━━━━━━━━━━━━\u001b[0m\u001b[37m\u001b[0m \u001b[1m10s\u001b[0m 1s/step - AUC: 0.5589 - Precision: 0.5380 - Recall: 0.4742 - accuracy: 0.5407 - loss: 0.7400 - val_AUC: 0.7930 - val_Precision: 0.5333 - val_Recall: 1.0000 - val_accuracy: 0.6500 - val_loss: 0.5786 - learning_rate: 5.0000e-04\n",
      "Epoch 3/50\n",
      "\u001b[1m6/6\u001b[0m \u001b[32m━━━━━━━━━━━━━━━━━━━━\u001b[0m\u001b[37m\u001b[0m \u001b[1m0s\u001b[0m 1s/step - AUC: 0.7018 - Precision: 0.6493 - Recall: 0.6505 - accuracy: 0.6542 - loss: 0.6371\n",
      "Epoch 3: val_accuracy improved from 0.65000 to 0.67500, saving model to outputresults/model_cv20_fold8.h5\n"
     ]
    },
    {
     "name": "stderr",
     "output_type": "stream",
     "text": [
      "WARNING:absl:You are saving your model as an HDF5 file via `model.save()` or `keras.saving.save_model(model)`. This file format is considered legacy. We recommend using instead the native Keras format, e.g. `model.save('my_model.keras')` or `keras.saving.save_model(model, 'my_model.keras')`. \n"
     ]
    },
    {
     "name": "stdout",
     "output_type": "stream",
     "text": [
      "\u001b[1m6/6\u001b[0m \u001b[32m━━━━━━━━━━━━━━━━━━━━\u001b[0m\u001b[37m\u001b[0m \u001b[1m8s\u001b[0m 1s/step - AUC: 0.7045 - Precision: 0.6512 - Recall: 0.6594 - accuracy: 0.6571 - loss: 0.6355 - val_AUC: 0.7005 - val_Precision: 0.5517 - val_Recall: 1.0000 - val_accuracy: 0.6750 - val_loss: 0.6406 - learning_rate: 5.0000e-04\n",
      "Epoch 4/50\n",
      "\u001b[1m6/6\u001b[0m \u001b[32m━━━━━━━━━━━━━━━━━━━━\u001b[0m\u001b[37m\u001b[0m \u001b[1m0s\u001b[0m 1s/step - AUC: 0.7396 - Precision: 0.6865 - Recall: 0.9099 - accuracy: 0.7444 - loss: 0.5943\n",
      "Epoch 4: val_accuracy did not improve from 0.67500\n",
      "\u001b[1m6/6\u001b[0m \u001b[32m━━━━━━━━━━━━━━━━━━━━\u001b[0m\u001b[37m\u001b[0m \u001b[1m8s\u001b[0m 1s/step - AUC: 0.7385 - Precision: 0.6852 - Recall: 0.9047 - accuracy: 0.7422 - loss: 0.5963 - val_AUC: 0.6901 - val_Precision: 0.5517 - val_Recall: 1.0000 - val_accuracy: 0.6750 - val_loss: 0.5848 - learning_rate: 5.0000e-04\n",
      "Epoch 5/50\n",
      "\u001b[1m6/6\u001b[0m \u001b[32m━━━━━━━━━━━━━━━━━━━━\u001b[0m\u001b[37m\u001b[0m \u001b[1m0s\u001b[0m 1s/step - AUC: 0.7509 - Precision: 0.6457 - Recall: 0.8250 - accuracy: 0.7121 - loss: 0.5935\n",
      "Epoch 5: val_accuracy did not improve from 0.67500\n",
      "\u001b[1m6/6\u001b[0m \u001b[32m━━━━━━━━━━━━━━━━━━━━\u001b[0m\u001b[37m\u001b[0m \u001b[1m9s\u001b[0m 1s/step - AUC: 0.7512 - Precision: 0.6513 - Recall: 0.8248 - accuracy: 0.7136 - loss: 0.5934 - val_AUC: 0.7122 - val_Precision: 0.5517 - val_Recall: 1.0000 - val_accuracy: 0.6750 - val_loss: 0.6436 - learning_rate: 5.0000e-04\n",
      "Restoring model weights from the end of the best epoch: 3.\n",
      "Epoch 5: early stopping\n",
      "\u001b[1m7/7\u001b[0m \u001b[32m━━━━━━━━━━━━━━━━━━━━\u001b[0m\u001b[37m\u001b[0m \u001b[1m2s\u001b[0m 221ms/step\n",
      "Fold 9/20\n",
      "Training fold shape: (760, 224, 224, 3)\n",
      "Validation fold shape: (40, 224, 224, 3)\n",
      "Epoch 1/50\n",
      "\u001b[1m6/6\u001b[0m \u001b[32m━━━━━━━━━━━━━━━━━━━━\u001b[0m\u001b[37m\u001b[0m \u001b[1m0s\u001b[0m 2s/step - AUC: 0.5563 - Precision: 0.5667 - Recall: 0.6898 - accuracy: 0.5623 - loss: 0.7665\n",
      "Epoch 1: val_accuracy improved from -inf to 0.55000, saving model to outputresults/model_cv20_fold9.h5\n"
     ]
    },
    {
     "name": "stderr",
     "output_type": "stream",
     "text": [
      "WARNING:absl:You are saving your model as an HDF5 file via `model.save()` or `keras.saving.save_model(model)`. This file format is considered legacy. We recommend using instead the native Keras format, e.g. `model.save('my_model.keras')` or `keras.saving.save_model(model, 'my_model.keras')`. \n"
     ]
    },
    {
     "name": "stdout",
     "output_type": "stream",
     "text": [
      "\u001b[1m6/6\u001b[0m \u001b[32m━━━━━━━━━━━━━━━━━━━━\u001b[0m\u001b[37m\u001b[0m \u001b[1m24s\u001b[0m 2s/step - AUC: 0.5551 - Precision: 0.5612 - Recall: 0.6831 - accuracy: 0.5587 - loss: 0.7669 - val_AUC: 0.6629 - val_Precision: 0.0000e+00 - val_Recall: 0.0000e+00 - val_accuracy: 0.5500 - val_loss: 0.6923 - learning_rate: 5.0000e-04\n",
      "Epoch 2/50\n",
      "\u001b[1m6/6\u001b[0m \u001b[32m━━━━━━━━━━━━━━━━━━━━\u001b[0m\u001b[37m\u001b[0m \u001b[1m0s\u001b[0m 1s/step - AUC: 0.5749 - Precision: 0.6070 - Recall: 0.3039 - accuracy: 0.5503 - loss: 0.7089\n",
      "Epoch 2: val_accuracy improved from 0.55000 to 0.65000, saving model to outputresults/model_cv20_fold9.h5\n"
     ]
    },
    {
     "name": "stderr",
     "output_type": "stream",
     "text": [
      "WARNING:absl:You are saving your model as an HDF5 file via `model.save()` or `keras.saving.save_model(model)`. This file format is considered legacy. We recommend using instead the native Keras format, e.g. `model.save('my_model.keras')` or `keras.saving.save_model(model, 'my_model.keras')`. \n"
     ]
    },
    {
     "name": "stdout",
     "output_type": "stream",
     "text": [
      "\u001b[1m6/6\u001b[0m \u001b[32m━━━━━━━━━━━━━━━━━━━━\u001b[0m\u001b[37m\u001b[0m \u001b[1m9s\u001b[0m 1s/step - AUC: 0.5804 - Precision: 0.6057 - Recall: 0.3334 - accuracy: 0.5554 - loss: 0.7062 - val_AUC: 0.6982 - val_Precision: 0.5833 - val_Recall: 0.7778 - val_accuracy: 0.6500 - val_loss: 0.7014 - learning_rate: 5.0000e-04\n",
      "Epoch 3/50\n",
      "\u001b[1m6/6\u001b[0m \u001b[32m━━━━━━━━━━━━━━━━━━━━\u001b[0m\u001b[37m\u001b[0m \u001b[1m0s\u001b[0m 1s/step - AUC: 0.7364 - Precision: 0.6669 - Recall: 0.8149 - accuracy: 0.7065 - loss: 0.6038\n",
      "Epoch 3: val_accuracy did not improve from 0.65000\n",
      "\u001b[1m6/6\u001b[0m \u001b[32m━━━━━━━━━━━━━━━━━━━━\u001b[0m\u001b[37m\u001b[0m \u001b[1m8s\u001b[0m 1s/step - AUC: 0.7354 - Precision: 0.6667 - Recall: 0.8157 - accuracy: 0.7063 - loss: 0.6044 - val_AUC: 0.6970 - val_Precision: 0.5909 - val_Recall: 0.7222 - val_accuracy: 0.6500 - val_loss: 0.7213 - learning_rate: 5.0000e-04\n",
      "Epoch 4/50\n",
      "\u001b[1m6/6\u001b[0m \u001b[32m━━━━━━━━━━━━━━━━━━━━\u001b[0m\u001b[37m\u001b[0m \u001b[1m0s\u001b[0m 1s/step - AUC: 0.7445 - Precision: 0.6955 - Recall: 0.8600 - accuracy: 0.7428 - loss: 0.5957\n",
      "Epoch 4: val_accuracy did not improve from 0.65000\n",
      "\u001b[1m6/6\u001b[0m \u001b[32m━━━━━━━━━━━━━━━━━━━━\u001b[0m\u001b[37m\u001b[0m \u001b[1m9s\u001b[0m 2s/step - AUC: 0.7440 - Precision: 0.6939 - Recall: 0.8630 - accuracy: 0.7421 - loss: 0.5958 - val_AUC: 0.6566 - val_Precision: 0.5714 - val_Recall: 0.6667 - val_accuracy: 0.6250 - val_loss: 0.6877 - learning_rate: 5.0000e-04\n",
      "Epoch 5/50\n",
      "\u001b[1m6/6\u001b[0m \u001b[32m━━━━━━━━━━━━━━━━━━━━\u001b[0m\u001b[37m\u001b[0m \u001b[1m0s\u001b[0m 1s/step - AUC: 0.7585 - Precision: 0.6859 - Recall: 0.8404 - accuracy: 0.7193 - loss: 0.5824\n",
      "Epoch 5: val_accuracy improved from 0.65000 to 0.67500, saving model to outputresults/model_cv20_fold9.h5\n"
     ]
    },
    {
     "name": "stderr",
     "output_type": "stream",
     "text": [
      "WARNING:absl:You are saving your model as an HDF5 file via `model.save()` or `keras.saving.save_model(model)`. This file format is considered legacy. We recommend using instead the native Keras format, e.g. `model.save('my_model.keras')` or `keras.saving.save_model(model, 'my_model.keras')`. \n"
     ]
    },
    {
     "name": "stdout",
     "output_type": "stream",
     "text": [
      "\u001b[1m6/6\u001b[0m \u001b[32m━━━━━━━━━━━━━━━━━━━━\u001b[0m\u001b[37m\u001b[0m \u001b[1m7s\u001b[0m 1s/step - AUC: 0.7586 - Precision: 0.6833 - Recall: 0.8394 - accuracy: 0.7180 - loss: 0.5822 - val_AUC: 0.6199 - val_Precision: 0.6190 - val_Recall: 0.7222 - val_accuracy: 0.6750 - val_loss: 0.7057 - learning_rate: 5.0000e-04\n",
      "Epoch 6/50\n",
      "\u001b[1m6/6\u001b[0m \u001b[32m━━━━━━━━━━━━━━━━━━━━\u001b[0m\u001b[37m\u001b[0m \u001b[1m0s\u001b[0m 1s/step - AUC: 0.7871 - Precision: 0.7020 - Recall: 0.9150 - accuracy: 0.7595 - loss: 0.5516\n",
      "Epoch 6: val_accuracy improved from 0.67500 to 0.70000, saving model to outputresults/model_cv20_fold9.h5\n"
     ]
    },
    {
     "name": "stderr",
     "output_type": "stream",
     "text": [
      "WARNING:absl:You are saving your model as an HDF5 file via `model.save()` or `keras.saving.save_model(model)`. This file format is considered legacy. We recommend using instead the native Keras format, e.g. `model.save('my_model.keras')` or `keras.saving.save_model(model, 'my_model.keras')`. \n"
     ]
    },
    {
     "name": "stdout",
     "output_type": "stream",
     "text": [
      "\u001b[1m6/6\u001b[0m \u001b[32m━━━━━━━━━━━━━━━━━━━━\u001b[0m\u001b[37m\u001b[0m \u001b[1m7s\u001b[0m 1s/step - AUC: 0.7846 - Precision: 0.7006 - Recall: 0.9154 - accuracy: 0.7590 - loss: 0.5527 - val_AUC: 0.6528 - val_Precision: 0.6364 - val_Recall: 0.7778 - val_accuracy: 0.7000 - val_loss: 0.6830 - learning_rate: 5.0000e-04\n",
      "Epoch 7/50\n",
      "\u001b[1m6/6\u001b[0m \u001b[32m━━━━━━━━━━━━━━━━━━━━\u001b[0m\u001b[37m\u001b[0m \u001b[1m0s\u001b[0m 1s/step - AUC: 0.7958 - Precision: 0.6977 - Recall: 0.8961 - accuracy: 0.7593 - loss: 0.5369\n",
      "Epoch 7: val_accuracy did not improve from 0.70000\n",
      "\u001b[1m6/6\u001b[0m \u001b[32m━━━━━━━━━━━━━━━━━━━━\u001b[0m\u001b[37m\u001b[0m \u001b[1m7s\u001b[0m 1s/step - AUC: 0.7941 - Precision: 0.6985 - Recall: 0.8981 - accuracy: 0.7600 - loss: 0.5370 - val_AUC: 0.5783 - val_Precision: 0.5556 - val_Recall: 0.8333 - val_accuracy: 0.6250 - val_loss: 0.7526 - learning_rate: 5.0000e-04\n",
      "Restoring model weights from the end of the best epoch: 6.\n",
      "Epoch 7: early stopping\n",
      "\u001b[1m7/7\u001b[0m \u001b[32m━━━━━━━━━━━━━━━━━━━━\u001b[0m\u001b[37m\u001b[0m \u001b[1m1s\u001b[0m 135ms/step\n",
      "Fold 10/20\n",
      "Training fold shape: (760, 224, 224, 3)\n",
      "Validation fold shape: (40, 224, 224, 3)\n",
      "Epoch 1/50\n",
      "\u001b[1m6/6\u001b[0m \u001b[32m━━━━━━━━━━━━━━━━━━━━\u001b[0m\u001b[37m\u001b[0m \u001b[1m0s\u001b[0m 1s/step - AUC: 0.5356 - Precision: 0.4750 - Recall: 0.5777 - accuracy: 0.4813 - loss: 0.8725\n",
      "Epoch 1: val_accuracy improved from -inf to 0.75000, saving model to outputresults/model_cv20_fold10.h5\n"
     ]
    },
    {
     "name": "stderr",
     "output_type": "stream",
     "text": [
      "WARNING:absl:You are saving your model as an HDF5 file via `model.save()` or `keras.saving.save_model(model)`. This file format is considered legacy. We recommend using instead the native Keras format, e.g. `model.save('my_model.keras')` or `keras.saving.save_model(model, 'my_model.keras')`. \n"
     ]
    },
    {
     "name": "stdout",
     "output_type": "stream",
     "text": [
      "\u001b[1m6/6\u001b[0m \u001b[32m━━━━━━━━━━━━━━━━━━━━\u001b[0m\u001b[37m\u001b[0m \u001b[1m16s\u001b[0m 1s/step - AUC: 0.5331 - Precision: 0.4785 - Recall: 0.5661 - accuracy: 0.4838 - loss: 0.8669 - val_AUC: 0.7693 - val_Precision: 0.6923 - val_Recall: 0.6000 - val_accuracy: 0.7500 - val_loss: 0.6763 - learning_rate: 5.0000e-04\n",
      "Epoch 2/50\n",
      "\u001b[1m6/6\u001b[0m \u001b[32m━━━━━━━━━━━━━━━━━━━━\u001b[0m\u001b[37m\u001b[0m \u001b[1m0s\u001b[0m 1s/step - AUC: 0.5163 - Precision: 0.5188 - Recall: 0.6246 - accuracy: 0.5157 - loss: 0.7172\n",
      "Epoch 2: val_accuracy did not improve from 0.75000\n",
      "\u001b[1m6/6\u001b[0m \u001b[32m━━━━━━━━━━━━━━━━━━━━\u001b[0m\u001b[37m\u001b[0m \u001b[1m6s\u001b[0m 1s/step - AUC: 0.5194 - Precision: 0.5194 - Recall: 0.6295 - accuracy: 0.5174 - loss: 0.7162 - val_AUC: 0.7707 - val_Precision: 0.0000e+00 - val_Recall: 0.0000e+00 - val_accuracy: 0.6250 - val_loss: 0.6333 - learning_rate: 5.0000e-04\n",
      "Epoch 3/50\n",
      "\u001b[1m6/6\u001b[0m \u001b[32m━━━━━━━━━━━━━━━━━━━━\u001b[0m\u001b[37m\u001b[0m \u001b[1m0s\u001b[0m 1s/step - AUC: 0.5879 - Precision: 0.5746 - Recall: 0.3713 - accuracy: 0.5314 - loss: 0.6998\n",
      "Epoch 3: val_accuracy did not improve from 0.75000\n",
      "\u001b[1m6/6\u001b[0m \u001b[32m━━━━━━━━━━━━━━━━━━━━\u001b[0m\u001b[37m\u001b[0m \u001b[1m6s\u001b[0m 1s/step - AUC: 0.5934 - Precision: 0.5764 - Recall: 0.3914 - accuracy: 0.5376 - loss: 0.6968 - val_AUC: 0.7800 - val_Precision: 0.6000 - val_Recall: 0.8000 - val_accuracy: 0.7250 - val_loss: 0.5843 - learning_rate: 5.0000e-04\n",
      "Epoch 4/50\n",
      "\u001b[1m6/6\u001b[0m \u001b[32m━━━━━━━━━━━━━━━━━━━━\u001b[0m\u001b[37m\u001b[0m \u001b[1m0s\u001b[0m 1s/step - AUC: 0.7036 - Precision: 0.6684 - Recall: 0.8337 - accuracy: 0.7027 - loss: 0.6384\n",
      "Epoch 4: ReduceLROnPlateau reducing learning rate to 0.00010000000474974513.\n",
      "\n",
      "Epoch 4: val_accuracy did not improve from 0.75000\n",
      "\u001b[1m6/6\u001b[0m \u001b[32m━━━━━━━━━━━━━━━━━━━━\u001b[0m\u001b[37m\u001b[0m \u001b[1m7s\u001b[0m 1s/step - AUC: 0.7047 - Precision: 0.6665 - Recall: 0.8376 - accuracy: 0.7026 - loss: 0.6365 - val_AUC: 0.7267 - val_Precision: 0.6316 - val_Recall: 0.8000 - val_accuracy: 0.7500 - val_loss: 0.5939 - learning_rate: 5.0000e-04\n",
      "Epoch 5/50\n",
      "\u001b[1m6/6\u001b[0m \u001b[32m━━━━━━━━━━━━━━━━━━━━\u001b[0m\u001b[37m\u001b[0m \u001b[1m0s\u001b[0m 1s/step - AUC: 0.6977 - Precision: 0.6586 - Recall: 0.8070 - accuracy: 0.6826 - loss: 0.6335\n",
      "Epoch 5: val_accuracy did not improve from 0.75000\n",
      "\u001b[1m6/6\u001b[0m \u001b[32m━━━━━━━━━━━━━━━━━━━━\u001b[0m\u001b[37m\u001b[0m \u001b[1m6s\u001b[0m 1s/step - AUC: 0.7015 - Precision: 0.6587 - Recall: 0.8076 - accuracy: 0.6844 - loss: 0.6310 - val_AUC: 0.7413 - val_Precision: 0.6000 - val_Recall: 0.8000 - val_accuracy: 0.7250 - val_loss: 0.5909 - learning_rate: 1.0000e-04\n",
      "Restoring model weights from the end of the best epoch: 1.\n",
      "Epoch 5: early stopping\n",
      "\u001b[1m7/7\u001b[0m \u001b[32m━━━━━━━━━━━━━━━━━━━━\u001b[0m\u001b[37m\u001b[0m \u001b[1m1s\u001b[0m 139ms/step\n",
      "Fold 11/20\n",
      "Training fold shape: (760, 224, 224, 3)\n",
      "Validation fold shape: (40, 224, 224, 3)\n",
      "Epoch 1/50\n",
      "\u001b[1m6/6\u001b[0m \u001b[32m━━━━━━━━━━━━━━━━━━━━\u001b[0m\u001b[37m\u001b[0m \u001b[1m0s\u001b[0m 1s/step - AUC: 0.5082 - Precision: 0.4988 - Recall: 0.5309 - accuracy: 0.5326 - loss: 0.8518\n",
      "Epoch 1: val_accuracy improved from -inf to 0.60000, saving model to outputresults/model_cv20_fold11.h5\n"
     ]
    },
    {
     "name": "stderr",
     "output_type": "stream",
     "text": [
      "WARNING:absl:You are saving your model as an HDF5 file via `model.save()` or `keras.saving.save_model(model)`. This file format is considered legacy. We recommend using instead the native Keras format, e.g. `model.save('my_model.keras')` or `keras.saving.save_model(model, 'my_model.keras')`. \n"
     ]
    },
    {
     "name": "stdout",
     "output_type": "stream",
     "text": [
      "\u001b[1m6/6\u001b[0m \u001b[32m━━━━━━━━━━━━━━━━━━━━\u001b[0m\u001b[37m\u001b[0m \u001b[1m16s\u001b[0m 1s/step - AUC: 0.5122 - Precision: 0.5048 - Recall: 0.5461 - accuracy: 0.5357 - loss: 0.8512 - val_AUC: 0.8471 - val_Precision: 0.5676 - val_Recall: 1.0000 - val_accuracy: 0.6000 - val_loss: 0.6673 - learning_rate: 5.0000e-04\n",
      "Epoch 2/50\n",
      "\u001b[1m6/6\u001b[0m \u001b[32m━━━━━━━━━━━━━━━━━━━━\u001b[0m\u001b[37m\u001b[0m \u001b[1m0s\u001b[0m 1s/step - AUC: 0.5525 - Precision: 0.4987 - Recall: 0.3659 - accuracy: 0.5268 - loss: 0.7269\n",
      "Epoch 2: val_accuracy improved from 0.60000 to 0.72500, saving model to outputresults/model_cv20_fold11.h5\n"
     ]
    },
    {
     "name": "stderr",
     "output_type": "stream",
     "text": [
      "WARNING:absl:You are saving your model as an HDF5 file via `model.save()` or `keras.saving.save_model(model)`. This file format is considered legacy. We recommend using instead the native Keras format, e.g. `model.save('my_model.keras')` or `keras.saving.save_model(model, 'my_model.keras')`. \n"
     ]
    },
    {
     "name": "stdout",
     "output_type": "stream",
     "text": [
      "\u001b[1m6/6\u001b[0m \u001b[32m━━━━━━━━━━━━━━━━━━━━\u001b[0m\u001b[37m\u001b[0m \u001b[1m7s\u001b[0m 1s/step - AUC: 0.5551 - Precision: 0.5051 - Recall: 0.3689 - accuracy: 0.5282 - loss: 0.7268 - val_AUC: 0.8860 - val_Precision: 0.6562 - val_Recall: 1.0000 - val_accuracy: 0.7250 - val_loss: 0.5994 - learning_rate: 5.0000e-04\n",
      "Epoch 3/50\n",
      "\u001b[1m6/6\u001b[0m \u001b[32m━━━━━━━━━━━━━━━━━━━━\u001b[0m\u001b[37m\u001b[0m \u001b[1m0s\u001b[0m 1s/step - AUC: 0.6986 - Precision: 0.6095 - Recall: 0.8615 - accuracy: 0.6443 - loss: 0.6625\n",
      "Epoch 3: val_accuracy did not improve from 0.72500\n",
      "\u001b[1m6/6\u001b[0m \u001b[32m━━━━━━━━━━━━━━━━━━━━\u001b[0m\u001b[37m\u001b[0m \u001b[1m7s\u001b[0m 1s/step - AUC: 0.7020 - Precision: 0.6116 - Recall: 0.8542 - accuracy: 0.6474 - loss: 0.6588 - val_AUC: 0.8484 - val_Precision: 0.0000e+00 - val_Recall: 0.0000e+00 - val_accuracy: 0.4750 - val_loss: 0.6357 - learning_rate: 5.0000e-04\n",
      "Epoch 4/50\n",
      "\u001b[1m6/6\u001b[0m \u001b[32m━━━━━━━━━━━━━━━━━━━━\u001b[0m\u001b[37m\u001b[0m \u001b[1m0s\u001b[0m 1s/step - AUC: 0.7073 - Precision: 0.6422 - Recall: 0.5137 - accuracy: 0.6292 - loss: 0.6637\n",
      "Epoch 4: val_accuracy improved from 0.72500 to 0.80000, saving model to outputresults/model_cv20_fold11.h5\n"
     ]
    },
    {
     "name": "stderr",
     "output_type": "stream",
     "text": [
      "WARNING:absl:You are saving your model as an HDF5 file via `model.save()` or `keras.saving.save_model(model)`. This file format is considered legacy. We recommend using instead the native Keras format, e.g. `model.save('my_model.keras')` or `keras.saving.save_model(model, 'my_model.keras')`. \n"
     ]
    },
    {
     "name": "stdout",
     "output_type": "stream",
     "text": [
      "\u001b[1m6/6\u001b[0m \u001b[32m━━━━━━━━━━━━━━━━━━━━\u001b[0m\u001b[37m\u001b[0m \u001b[1m7s\u001b[0m 1s/step - AUC: 0.7106 - Precision: 0.6452 - Recall: 0.5355 - accuracy: 0.6348 - loss: 0.6598 - val_AUC: 0.8559 - val_Precision: 0.7407 - val_Recall: 0.9524 - val_accuracy: 0.8000 - val_loss: 0.5324 - learning_rate: 5.0000e-04\n",
      "Epoch 5/50\n",
      "\u001b[1m6/6\u001b[0m \u001b[32m━━━━━━━━━━━━━━━━━━━━\u001b[0m\u001b[37m\u001b[0m \u001b[1m0s\u001b[0m 1s/step - AUC: 0.7449 - Precision: 0.6774 - Recall: 0.8893 - accuracy: 0.7265 - loss: 0.6063\n",
      "Epoch 5: val_accuracy did not improve from 0.80000\n",
      "\u001b[1m6/6\u001b[0m \u001b[32m━━━━━━━━━━━━━━━━━━━━\u001b[0m\u001b[37m\u001b[0m \u001b[1m7s\u001b[0m 1s/step - AUC: 0.7434 - Precision: 0.6747 - Recall: 0.8857 - accuracy: 0.7244 - loss: 0.6076 - val_AUC: 0.8333 - val_Precision: 0.7407 - val_Recall: 0.9524 - val_accuracy: 0.8000 - val_loss: 0.5628 - learning_rate: 5.0000e-04\n",
      "Restoring model weights from the end of the best epoch: 4.\n",
      "Epoch 5: early stopping\n",
      "\u001b[1m7/7\u001b[0m \u001b[32m━━━━━━━━━━━━━━━━━━━━\u001b[0m\u001b[37m\u001b[0m \u001b[1m2s\u001b[0m 180ms/step\n",
      "Fold 12/20\n",
      "Training fold shape: (760, 224, 224, 3)\n",
      "Validation fold shape: (40, 224, 224, 3)\n",
      "Epoch 1/50\n",
      "\u001b[1m6/6\u001b[0m \u001b[32m━━━━━━━━━━━━━━━━━━━━\u001b[0m\u001b[37m\u001b[0m \u001b[1m0s\u001b[0m 1s/step - AUC: 0.4760 - Precision: 0.4808 - Recall: 0.4814 - accuracy: 0.4893 - loss: 0.9314\n",
      "Epoch 1: val_accuracy improved from -inf to 0.40000, saving model to outputresults/model_cv20_fold12.h5\n"
     ]
    },
    {
     "name": "stderr",
     "output_type": "stream",
     "text": [
      "WARNING:absl:You are saving your model as an HDF5 file via `model.save()` or `keras.saving.save_model(model)`. This file format is considered legacy. We recommend using instead the native Keras format, e.g. `model.save('my_model.keras')` or `keras.saving.save_model(model, 'my_model.keras')`. \n"
     ]
    },
    {
     "name": "stdout",
     "output_type": "stream",
     "text": [
      "\u001b[1m6/6\u001b[0m \u001b[32m━━━━━━━━━━━━━━━━━━━━\u001b[0m\u001b[37m\u001b[0m \u001b[1m18s\u001b[0m 1s/step - AUC: 0.4787 - Precision: 0.4840 - Recall: 0.4927 - accuracy: 0.4914 - loss: 0.9232 - val_AUC: 0.6849 - val_Precision: 0.4000 - val_Recall: 1.0000 - val_accuracy: 0.4000 - val_loss: 0.7292 - learning_rate: 5.0000e-04\n",
      "Epoch 2/50\n",
      "\u001b[1m6/6\u001b[0m \u001b[32m━━━━━━━━━━━━━━━━━━━━\u001b[0m\u001b[37m\u001b[0m \u001b[1m0s\u001b[0m 1s/step - AUC: 0.5717 - Precision: 0.5474 - Recall: 0.5374 - accuracy: 0.5440 - loss: 0.7041\n",
      "Epoch 2: val_accuracy improved from 0.40000 to 0.62500, saving model to outputresults/model_cv20_fold12.h5\n"
     ]
    },
    {
     "name": "stderr",
     "output_type": "stream",
     "text": [
      "WARNING:absl:You are saving your model as an HDF5 file via `model.save()` or `keras.saving.save_model(model)`. This file format is considered legacy. We recommend using instead the native Keras format, e.g. `model.save('my_model.keras')` or `keras.saving.save_model(model, 'my_model.keras')`. \n"
     ]
    },
    {
     "name": "stdout",
     "output_type": "stream",
     "text": [
      "\u001b[1m6/6\u001b[0m \u001b[32m━━━━━━━━━━━━━━━━━━━━\u001b[0m\u001b[37m\u001b[0m \u001b[1m7s\u001b[0m 1s/step - AUC: 0.5753 - Precision: 0.5508 - Recall: 0.5362 - accuracy: 0.5471 - loss: 0.7026 - val_AUC: 0.7500 - val_Precision: 0.5217 - val_Recall: 0.7500 - val_accuracy: 0.6250 - val_loss: 0.6688 - learning_rate: 5.0000e-04\n",
      "Epoch 3/50\n",
      "\u001b[1m6/6\u001b[0m \u001b[32m━━━━━━━━━━━━━━━━━━━━\u001b[0m\u001b[37m\u001b[0m \u001b[1m0s\u001b[0m 1s/step - AUC: 0.6728 - Precision: 0.6290 - Recall: 0.8351 - accuracy: 0.6592 - loss: 0.6682\n",
      "Epoch 3: val_accuracy did not improve from 0.62500\n",
      "\u001b[1m6/6\u001b[0m \u001b[32m━━━━━━━━━━━━━━━━━━━━\u001b[0m\u001b[37m\u001b[0m \u001b[1m7s\u001b[0m 1s/step - AUC: 0.6727 - Precision: 0.6267 - Recall: 0.8244 - accuracy: 0.6564 - loss: 0.6686 - val_AUC: 0.7474 - val_Precision: 0.0000e+00 - val_Recall: 0.0000e+00 - val_accuracy: 0.6000 - val_loss: 0.7679 - learning_rate: 5.0000e-04\n",
      "Epoch 4/50\n",
      "\u001b[1m6/6\u001b[0m \u001b[32m━━━━━━━━━━━━━━━━━━━━\u001b[0m\u001b[37m\u001b[0m \u001b[1m0s\u001b[0m 1s/step - AUC: 0.7088 - Precision: 0.6622 - Recall: 0.7673 - accuracy: 0.6820 - loss: 0.6402\n",
      "Epoch 4: val_accuracy improved from 0.62500 to 0.67500, saving model to outputresults/model_cv20_fold12.h5\n"
     ]
    },
    {
     "name": "stderr",
     "output_type": "stream",
     "text": [
      "WARNING:absl:You are saving your model as an HDF5 file via `model.save()` or `keras.saving.save_model(model)`. This file format is considered legacy. We recommend using instead the native Keras format, e.g. `model.save('my_model.keras')` or `keras.saving.save_model(model, 'my_model.keras')`. \n"
     ]
    },
    {
     "name": "stdout",
     "output_type": "stream",
     "text": [
      "\u001b[1m6/6\u001b[0m \u001b[32m━━━━━━━━━━━━━━━━━━━━\u001b[0m\u001b[37m\u001b[0m \u001b[1m7s\u001b[0m 1s/step - AUC: 0.7040 - Precision: 0.6584 - Recall: 0.7739 - accuracy: 0.6808 - loss: 0.6428 - val_AUC: 0.7500 - val_Precision: 0.5714 - val_Recall: 0.7500 - val_accuracy: 0.6750 - val_loss: 0.6358 - learning_rate: 5.0000e-04\n",
      "Epoch 5/50\n",
      "\u001b[1m6/6\u001b[0m \u001b[32m━━━━━━━━━━━━━━━━━━━━\u001b[0m\u001b[37m\u001b[0m \u001b[1m0s\u001b[0m 1s/step - AUC: 0.7270 - Precision: 0.6697 - Recall: 0.7828 - accuracy: 0.6911 - loss: 0.6224\n",
      "Epoch 5: val_accuracy did not improve from 0.67500\n",
      "\u001b[1m6/6\u001b[0m \u001b[32m━━━━━━━━━━━━━━━━━━━━\u001b[0m\u001b[37m\u001b[0m \u001b[1m6s\u001b[0m 1s/step - AUC: 0.7252 - Precision: 0.6672 - Recall: 0.7856 - accuracy: 0.6905 - loss: 0.6230 - val_AUC: 0.7852 - val_Precision: 0.5714 - val_Recall: 0.7500 - val_accuracy: 0.6750 - val_loss: 0.7151 - learning_rate: 5.0000e-04\n",
      "Restoring model weights from the end of the best epoch: 4.\n",
      "Epoch 5: early stopping\n",
      "\u001b[1m7/7\u001b[0m \u001b[32m━━━━━━━━━━━━━━━━━━━━\u001b[0m\u001b[37m\u001b[0m \u001b[1m1s\u001b[0m 126ms/step\n",
      "Fold 13/20\n",
      "Training fold shape: (760, 224, 224, 3)\n",
      "Validation fold shape: (40, 224, 224, 3)\n",
      "Epoch 1/50\n",
      "\u001b[1m6/6\u001b[0m \u001b[32m━━━━━━━━━━━━━━━━━━━━\u001b[0m\u001b[37m\u001b[0m \u001b[1m0s\u001b[0m 1s/step - AUC: 0.5253 - Precision: 0.5439 - Recall: 0.5738 - accuracy: 0.5241 - loss: 0.8769\n",
      "Epoch 1: val_accuracy improved from -inf to 0.42500, saving model to outputresults/model_cv20_fold13.h5\n"
     ]
    },
    {
     "name": "stderr",
     "output_type": "stream",
     "text": [
      "WARNING:absl:You are saving your model as an HDF5 file via `model.save()` or `keras.saving.save_model(model)`. This file format is considered legacy. We recommend using instead the native Keras format, e.g. `model.save('my_model.keras')` or `keras.saving.save_model(model, 'my_model.keras')`. \n"
     ]
    },
    {
     "name": "stdout",
     "output_type": "stream",
     "text": [
      "\u001b[1m6/6\u001b[0m \u001b[32m━━━━━━━━━━━━━━━━━━━━\u001b[0m\u001b[37m\u001b[0m \u001b[1m16s\u001b[0m 1s/step - AUC: 0.5249 - Precision: 0.5383 - Recall: 0.5772 - accuracy: 0.5214 - loss: 0.8804 - val_AUC: 0.7721 - val_Precision: 0.4103 - val_Recall: 1.0000 - val_accuracy: 0.4250 - val_loss: 0.7056 - learning_rate: 5.0000e-04\n",
      "Epoch 2/50\n",
      "\u001b[1m6/6\u001b[0m \u001b[32m━━━━━━━━━━━━━━━━━━━━\u001b[0m\u001b[37m\u001b[0m \u001b[1m0s\u001b[0m 1s/step - AUC: 0.4998 - Precision: 0.5411 - Recall: 0.4278 - accuracy: 0.5109 - loss: 0.7465\n",
      "Epoch 2: val_accuracy improved from 0.42500 to 0.52500, saving model to outputresults/model_cv20_fold13.h5\n"
     ]
    },
    {
     "name": "stderr",
     "output_type": "stream",
     "text": [
      "WARNING:absl:You are saving your model as an HDF5 file via `model.save()` or `keras.saving.save_model(model)`. This file format is considered legacy. We recommend using instead the native Keras format, e.g. `model.save('my_model.keras')` or `keras.saving.save_model(model, 'my_model.keras')`. \n"
     ]
    },
    {
     "name": "stdout",
     "output_type": "stream",
     "text": [
      "\u001b[1m6/6\u001b[0m \u001b[32m━━━━━━━━━━━━━━━━━━━━\u001b[0m\u001b[37m\u001b[0m \u001b[1m7s\u001b[0m 1s/step - AUC: 0.4980 - Precision: 0.5360 - Recall: 0.4216 - accuracy: 0.5099 - loss: 0.7469 - val_AUC: 0.7839 - val_Precision: 0.4571 - val_Recall: 1.0000 - val_accuracy: 0.5250 - val_loss: 0.7068 - learning_rate: 5.0000e-04\n",
      "Epoch 3/50\n",
      "\u001b[1m6/6\u001b[0m \u001b[32m━━━━━━━━━━━━━━━━━━━━\u001b[0m\u001b[37m\u001b[0m \u001b[1m0s\u001b[0m 1s/step - AUC: 0.6535 - Precision: 0.5937 - Recall: 0.7767 - accuracy: 0.6257 - loss: 0.6703\n",
      "Epoch 3: val_accuracy improved from 0.52500 to 0.70000, saving model to outputresults/model_cv20_fold13.h5\n"
     ]
    },
    {
     "name": "stderr",
     "output_type": "stream",
     "text": [
      "WARNING:absl:You are saving your model as an HDF5 file via `model.save()` or `keras.saving.save_model(model)`. This file format is considered legacy. We recommend using instead the native Keras format, e.g. `model.save('my_model.keras')` or `keras.saving.save_model(model, 'my_model.keras')`. \n"
     ]
    },
    {
     "name": "stdout",
     "output_type": "stream",
     "text": [
      "\u001b[1m6/6\u001b[0m \u001b[32m━━━━━━━━━━━━━━━━━━━━\u001b[0m\u001b[37m\u001b[0m \u001b[1m7s\u001b[0m 1s/step - AUC: 0.6548 - Precision: 0.5970 - Recall: 0.7669 - accuracy: 0.6269 - loss: 0.6688 - val_AUC: 0.7591 - val_Precision: 0.5769 - val_Recall: 0.9375 - val_accuracy: 0.7000 - val_loss: 0.5847 - learning_rate: 5.0000e-04\n",
      "Epoch 4/50\n",
      "\u001b[1m6/6\u001b[0m \u001b[32m━━━━━━━━━━━━━━━━━━━━\u001b[0m\u001b[37m\u001b[0m \u001b[1m0s\u001b[0m 1s/step - AUC: 0.7376 - Precision: 0.6563 - Recall: 0.8354 - accuracy: 0.7016 - loss: 0.6122\n",
      "Epoch 4: val_accuracy did not improve from 0.70000\n",
      "\u001b[1m6/6\u001b[0m \u001b[32m━━━━━━━━━━━━━━━━━━━━\u001b[0m\u001b[37m\u001b[0m \u001b[1m7s\u001b[0m 1s/step - AUC: 0.7364 - Precision: 0.6565 - Recall: 0.8386 - accuracy: 0.7022 - loss: 0.6137 - val_AUC: 0.7617 - val_Precision: 0.5769 - val_Recall: 0.9375 - val_accuracy: 0.7000 - val_loss: 0.6192 - learning_rate: 5.0000e-04\n",
      "Epoch 5/50\n",
      "\u001b[1m6/6\u001b[0m \u001b[32m━━━━━━━━━━━━━━━━━━━━\u001b[0m\u001b[37m\u001b[0m \u001b[1m0s\u001b[0m 1s/step - AUC: 0.7153 - Precision: 0.6560 - Recall: 0.8309 - accuracy: 0.7065 - loss: 0.6227\n",
      "Epoch 5: val_accuracy did not improve from 0.70000\n",
      "\u001b[1m6/6\u001b[0m \u001b[32m━━━━━━━━━━━━━━━━━━━━\u001b[0m\u001b[37m\u001b[0m \u001b[1m7s\u001b[0m 1s/step - AUC: 0.7161 - Precision: 0.6583 - Recall: 0.8246 - accuracy: 0.7058 - loss: 0.6224 - val_AUC: 0.7188 - val_Precision: 0.5833 - val_Recall: 0.8750 - val_accuracy: 0.7000 - val_loss: 0.5950 - learning_rate: 5.0000e-04\n",
      "Restoring model weights from the end of the best epoch: 3.\n",
      "Epoch 5: early stopping\n",
      "\u001b[1m7/7\u001b[0m \u001b[32m━━━━━━━━━━━━━━━━━━━━\u001b[0m\u001b[37m\u001b[0m \u001b[1m1s\u001b[0m 169ms/step\n",
      "Fold 14/20\n",
      "Training fold shape: (760, 224, 224, 3)\n",
      "Validation fold shape: (40, 224, 224, 3)\n",
      "Epoch 1/50\n",
      "\u001b[1m6/6\u001b[0m \u001b[32m━━━━━━━━━━━━━━━━━━━━\u001b[0m\u001b[37m\u001b[0m \u001b[1m0s\u001b[0m 1s/step - AUC: 0.4938 - Precision: 0.4705 - Recall: 0.5004 - accuracy: 0.4854 - loss: 0.8224\n",
      "Epoch 1: val_accuracy improved from -inf to 0.37500, saving model to outputresults/model_cv20_fold14.h5\n"
     ]
    },
    {
     "name": "stderr",
     "output_type": "stream",
     "text": [
      "WARNING:absl:You are saving your model as an HDF5 file via `model.save()` or `keras.saving.save_model(model)`. This file format is considered legacy. We recommend using instead the native Keras format, e.g. `model.save('my_model.keras')` or `keras.saving.save_model(model, 'my_model.keras')`. \n"
     ]
    },
    {
     "name": "stdout",
     "output_type": "stream",
     "text": [
      "\u001b[1m6/6\u001b[0m \u001b[32m━━━━━━━━━━━━━━━━━━━━\u001b[0m\u001b[37m\u001b[0m \u001b[1m18s\u001b[0m 1s/step - AUC: 0.4938 - Precision: 0.4724 - Recall: 0.5082 - accuracy: 0.4865 - loss: 0.8226 - val_AUC: 0.8307 - val_Precision: 0.0000e+00 - val_Recall: 0.0000e+00 - val_accuracy: 0.3750 - val_loss: 0.7614 - learning_rate: 5.0000e-04\n",
      "Epoch 2/50\n",
      "\u001b[1m6/6\u001b[0m \u001b[32m━━━━━━━━━━━━━━━━━━━━\u001b[0m\u001b[37m\u001b[0m \u001b[1m0s\u001b[0m 1s/step - AUC: 0.5673 - Precision: 0.5428 - Recall: 0.3714 - accuracy: 0.5409 - loss: 0.7069\n",
      "Epoch 2: val_accuracy improved from 0.37500 to 0.80000, saving model to outputresults/model_cv20_fold14.h5\n"
     ]
    },
    {
     "name": "stderr",
     "output_type": "stream",
     "text": [
      "WARNING:absl:You are saving your model as an HDF5 file via `model.save()` or `keras.saving.save_model(model)`. This file format is considered legacy. We recommend using instead the native Keras format, e.g. `model.save('my_model.keras')` or `keras.saving.save_model(model, 'my_model.keras')`. \n"
     ]
    },
    {
     "name": "stdout",
     "output_type": "stream",
     "text": [
      "\u001b[1m6/6\u001b[0m \u001b[32m━━━━━━━━━━━━━━━━━━━━\u001b[0m\u001b[37m\u001b[0m \u001b[1m7s\u001b[0m 1s/step - AUC: 0.5684 - Precision: 0.5430 - Recall: 0.3942 - accuracy: 0.5428 - loss: 0.7064 - val_AUC: 0.7587 - val_Precision: 0.8148 - val_Recall: 0.8800 - val_accuracy: 0.8000 - val_loss: 0.6126 - learning_rate: 5.0000e-04\n",
      "Epoch 3/50\n",
      "\u001b[1m6/6\u001b[0m \u001b[32m━━━━━━━━━━━━━━━━━━━━\u001b[0m\u001b[37m\u001b[0m \u001b[1m0s\u001b[0m 1s/step - AUC: 0.7028 - Precision: 0.6312 - Recall: 0.6216 - accuracy: 0.6409 - loss: 0.6532\n",
      "Epoch 3: val_accuracy did not improve from 0.80000\n",
      "\u001b[1m6/6\u001b[0m \u001b[32m━━━━━━━━━━━━━━━━━━━━\u001b[0m\u001b[37m\u001b[0m \u001b[1m7s\u001b[0m 1s/step - AUC: 0.7040 - Precision: 0.6325 - Recall: 0.6321 - accuracy: 0.6437 - loss: 0.6516 - val_AUC: 0.7427 - val_Precision: 0.7857 - val_Recall: 0.8800 - val_accuracy: 0.7750 - val_loss: 0.5601 - learning_rate: 5.0000e-04\n",
      "Epoch 4/50\n",
      "\u001b[1m6/6\u001b[0m \u001b[32m━━━━━━━━━━━━━━━━━━━━\u001b[0m\u001b[37m\u001b[0m \u001b[1m0s\u001b[0m 1s/step - AUC: 0.7160 - Precision: 0.6364 - Recall: 0.8444 - accuracy: 0.6965 - loss: 0.6358\n",
      "Epoch 4: val_accuracy did not improve from 0.80000\n",
      "\u001b[1m6/6\u001b[0m \u001b[32m━━━━━━━━━━━━━━━━━━━━\u001b[0m\u001b[37m\u001b[0m \u001b[1m7s\u001b[0m 1s/step - AUC: 0.7148 - Precision: 0.6368 - Recall: 0.8370 - accuracy: 0.6942 - loss: 0.6349 - val_AUC: 0.7493 - val_Precision: 0.8148 - val_Recall: 0.8800 - val_accuracy: 0.8000 - val_loss: 0.6030 - learning_rate: 5.0000e-04\n",
      "Epoch 5/50\n",
      "\u001b[1m6/6\u001b[0m \u001b[32m━━━━━━━━━━━━━━━━━━━━\u001b[0m\u001b[37m\u001b[0m \u001b[1m0s\u001b[0m 1s/step - AUC: 0.7321 - Precision: 0.6480 - Recall: 0.8667 - accuracy: 0.7086 - loss: 0.5997\n",
      "Epoch 5: ReduceLROnPlateau reducing learning rate to 0.00010000000474974513.\n",
      "\n",
      "Epoch 5: val_accuracy did not improve from 0.80000\n",
      "\u001b[1m6/6\u001b[0m \u001b[32m━━━━━━━━━━━━━━━━━━━━\u001b[0m\u001b[37m\u001b[0m \u001b[1m7s\u001b[0m 1s/step - AUC: 0.7332 - Precision: 0.6492 - Recall: 0.8665 - accuracy: 0.7092 - loss: 0.5995 - val_AUC: 0.7667 - val_Precision: 0.8148 - val_Recall: 0.8800 - val_accuracy: 0.8000 - val_loss: 0.6003 - learning_rate: 5.0000e-04\n",
      "Restoring model weights from the end of the best epoch: 2.\n",
      "Epoch 5: early stopping\n",
      "\u001b[1m7/7\u001b[0m \u001b[32m━━━━━━━━━━━━━━━━━━━━\u001b[0m\u001b[37m\u001b[0m \u001b[1m1s\u001b[0m 143ms/step\n",
      "Fold 15/20\n",
      "Training fold shape: (760, 224, 224, 3)\n",
      "Validation fold shape: (40, 224, 224, 3)\n",
      "Epoch 1/50\n",
      "\u001b[1m6/6\u001b[0m \u001b[32m━━━━━━━━━━━━━━━━━━━━\u001b[0m\u001b[37m\u001b[0m \u001b[1m0s\u001b[0m 1s/step - AUC: 0.4670 - Precision: 0.4047 - Recall: 0.3923 - accuracy: 0.4606 - loss: 0.9048\n",
      "Epoch 1: val_accuracy improved from -inf to 0.52500, saving model to outputresults/model_cv20_fold15.h5\n"
     ]
    },
    {
     "name": "stderr",
     "output_type": "stream",
     "text": [
      "WARNING:absl:You are saving your model as an HDF5 file via `model.save()` or `keras.saving.save_model(model)`. This file format is considered legacy. We recommend using instead the native Keras format, e.g. `model.save('my_model.keras')` or `keras.saving.save_model(model, 'my_model.keras')`. \n"
     ]
    },
    {
     "name": "stdout",
     "output_type": "stream",
     "text": [
      "\u001b[1m6/6\u001b[0m \u001b[32m━━━━━━━━━━━━━━━━━━━━\u001b[0m\u001b[37m\u001b[0m \u001b[1m17s\u001b[0m 2s/step - AUC: 0.4696 - Precision: 0.4147 - Recall: 0.4117 - accuracy: 0.4632 - loss: 0.9005 - val_AUC: 0.6516 - val_Precision: 0.5250 - val_Recall: 1.0000 - val_accuracy: 0.5250 - val_loss: 0.7444 - learning_rate: 5.0000e-04\n",
      "Epoch 2/50\n",
      "\u001b[1m6/6\u001b[0m \u001b[32m━━━━━━━━━━━━━━━━━━━━\u001b[0m\u001b[37m\u001b[0m \u001b[1m0s\u001b[0m 1s/step - AUC: 0.5150 - Precision: 0.5150 - Recall: 0.5406 - accuracy: 0.5136 - loss: 0.7238\n",
      "Epoch 2: val_accuracy did not improve from 0.52500\n",
      "\u001b[1m6/6\u001b[0m \u001b[32m━━━━━━━━━━━━━━━━━━━━\u001b[0m\u001b[37m\u001b[0m \u001b[1m7s\u001b[0m 1s/step - AUC: 0.5164 - Precision: 0.5155 - Recall: 0.5121 - accuracy: 0.5142 - loss: 0.7231 - val_AUC: 0.8195 - val_Precision: 0.0000e+00 - val_Recall: 0.0000e+00 - val_accuracy: 0.4750 - val_loss: 0.6756 - learning_rate: 5.0000e-04\n",
      "Epoch 3/50\n",
      "\u001b[1m6/6\u001b[0m \u001b[32m━━━━━━━━━━━━━━━━━━━━\u001b[0m\u001b[37m\u001b[0m \u001b[1m0s\u001b[0m 1s/step - AUC: 0.6009 - Precision: 0.5567 - Recall: 0.6478 - accuracy: 0.5822 - loss: 0.6816\n",
      "Epoch 3: val_accuracy improved from 0.52500 to 0.75000, saving model to outputresults/model_cv20_fold15.h5\n"
     ]
    },
    {
     "name": "stderr",
     "output_type": "stream",
     "text": [
      "WARNING:absl:You are saving your model as an HDF5 file via `model.save()` or `keras.saving.save_model(model)`. This file format is considered legacy. We recommend using instead the native Keras format, e.g. `model.save('my_model.keras')` or `keras.saving.save_model(model, 'my_model.keras')`. \n"
     ]
    },
    {
     "name": "stdout",
     "output_type": "stream",
     "text": [
      "\u001b[1m6/6\u001b[0m \u001b[32m━━━━━━━━━━━━━━━━━━━━\u001b[0m\u001b[37m\u001b[0m \u001b[1m7s\u001b[0m 1s/step - AUC: 0.6096 - Precision: 0.5619 - Recall: 0.6585 - accuracy: 0.5874 - loss: 0.6789 - val_AUC: 0.7632 - val_Precision: 0.6897 - val_Recall: 0.9524 - val_accuracy: 0.7500 - val_loss: 0.5896 - learning_rate: 5.0000e-04\n",
      "Epoch 4/50\n",
      "\u001b[1m6/6\u001b[0m \u001b[32m━━━━━━━━━━━━━━━━━━━━\u001b[0m\u001b[37m\u001b[0m \u001b[1m0s\u001b[0m 1s/step - AUC: 0.7166 - Precision: 0.6240 - Recall: 0.8067 - accuracy: 0.6584 - loss: 0.6330\n",
      "Epoch 4: val_accuracy improved from 0.75000 to 0.77500, saving model to outputresults/model_cv20_fold15.h5\n"
     ]
    },
    {
     "name": "stderr",
     "output_type": "stream",
     "text": [
      "WARNING:absl:You are saving your model as an HDF5 file via `model.save()` or `keras.saving.save_model(model)`. This file format is considered legacy. We recommend using instead the native Keras format, e.g. `model.save('my_model.keras')` or `keras.saving.save_model(model, 'my_model.keras')`. \n"
     ]
    },
    {
     "name": "stdout",
     "output_type": "stream",
     "text": [
      "\u001b[1m6/6\u001b[0m \u001b[32m━━━━━━━━━━━━━━━━━━━━\u001b[0m\u001b[37m\u001b[0m \u001b[1m7s\u001b[0m 1s/step - AUC: 0.7202 - Precision: 0.6256 - Recall: 0.8115 - accuracy: 0.6619 - loss: 0.6302 - val_AUC: 0.7870 - val_Precision: 0.7143 - val_Recall: 0.9524 - val_accuracy: 0.7750 - val_loss: 0.5816 - learning_rate: 5.0000e-04\n",
      "Epoch 5/50\n",
      "\u001b[1m6/6\u001b[0m \u001b[32m━━━━━━━━━━━━━━━━━━━━\u001b[0m\u001b[37m\u001b[0m \u001b[1m0s\u001b[0m 1s/step - AUC: 0.7312 - Precision: 0.6795 - Recall: 0.8692 - accuracy: 0.7272 - loss: 0.6105\n",
      "Epoch 5: val_accuracy did not improve from 0.77500\n",
      "\u001b[1m6/6\u001b[0m \u001b[32m━━━━━━━━━━━━━━━━━━━━\u001b[0m\u001b[37m\u001b[0m \u001b[1m7s\u001b[0m 1s/step - AUC: 0.7306 - Precision: 0.6776 - Recall: 0.8673 - accuracy: 0.7258 - loss: 0.6113 - val_AUC: 0.7995 - val_Precision: 0.7143 - val_Recall: 0.9524 - val_accuracy: 0.7750 - val_loss: 0.5659 - learning_rate: 5.0000e-04\n",
      "Restoring model weights from the end of the best epoch: 4.\n",
      "Epoch 5: early stopping\n",
      "\u001b[1m7/7\u001b[0m \u001b[32m━━━━━━━━━━━━━━━━━━━━\u001b[0m\u001b[37m\u001b[0m \u001b[1m1s\u001b[0m 135ms/step\n",
      "Fold 16/20\n",
      "Training fold shape: (760, 224, 224, 3)\n",
      "Validation fold shape: (40, 224, 224, 3)\n",
      "Epoch 1/50\n",
      "\u001b[1m6/6\u001b[0m \u001b[32m━━━━━━━━━━━━━━━━━━━━\u001b[0m\u001b[37m\u001b[0m \u001b[1m0s\u001b[0m 1s/step - AUC: 0.4709 - Precision: 0.4503 - Recall: 0.3685 - accuracy: 0.5033 - loss: 0.9059\n",
      "Epoch 1: val_accuracy improved from -inf to 0.52500, saving model to outputresults/model_cv20_fold16.h5\n"
     ]
    },
    {
     "name": "stderr",
     "output_type": "stream",
     "text": [
      "WARNING:absl:You are saving your model as an HDF5 file via `model.save()` or `keras.saving.save_model(model)`. This file format is considered legacy. We recommend using instead the native Keras format, e.g. `model.save('my_model.keras')` or `keras.saving.save_model(model, 'my_model.keras')`. \n"
     ]
    },
    {
     "name": "stdout",
     "output_type": "stream",
     "text": [
      "\u001b[1m6/6\u001b[0m \u001b[32m━━━━━━━━━━━━━━━━━━━━\u001b[0m\u001b[37m\u001b[0m \u001b[1m16s\u001b[0m 1s/step - AUC: 0.4739 - Precision: 0.4567 - Recall: 0.3882 - accuracy: 0.5031 - loss: 0.8979 - val_AUC: 0.7982 - val_Precision: 0.5250 - val_Recall: 1.0000 - val_accuracy: 0.5250 - val_loss: 0.6885 - learning_rate: 5.0000e-04\n",
      "Epoch 2/50\n",
      "\u001b[1m6/6\u001b[0m \u001b[32m━━━━━━━━━━━━━━━━━━━━\u001b[0m\u001b[37m\u001b[0m \u001b[1m0s\u001b[0m 1s/step - AUC: 0.5341 - Precision: 0.4978 - Recall: 0.3221 - accuracy: 0.5203 - loss: 0.7265\n",
      "Epoch 2: val_accuracy improved from 0.52500 to 0.77500, saving model to outputresults/model_cv20_fold16.h5\n"
     ]
    },
    {
     "name": "stderr",
     "output_type": "stream",
     "text": [
      "WARNING:absl:You are saving your model as an HDF5 file via `model.save()` or `keras.saving.save_model(model)`. This file format is considered legacy. We recommend using instead the native Keras format, e.g. `model.save('my_model.keras')` or `keras.saving.save_model(model, 'my_model.keras')`. \n"
     ]
    },
    {
     "name": "stdout",
     "output_type": "stream",
     "text": [
      "\u001b[1m6/6\u001b[0m \u001b[32m━━━━━━━━━━━━━━━━━━━━\u001b[0m\u001b[37m\u001b[0m \u001b[1m7s\u001b[0m 1s/step - AUC: 0.5353 - Precision: 0.5028 - Recall: 0.3378 - accuracy: 0.5221 - loss: 0.7264 - val_AUC: 0.8409 - val_Precision: 0.7308 - val_Recall: 0.9048 - val_accuracy: 0.7750 - val_loss: 0.6033 - learning_rate: 5.0000e-04\n",
      "Epoch 3/50\n",
      "\u001b[1m6/6\u001b[0m \u001b[32m━━━━━━━━━━━━━━━━━━━━\u001b[0m\u001b[37m\u001b[0m \u001b[1m0s\u001b[0m 1s/step - AUC: 0.6575 - Precision: 0.5800 - Recall: 0.6952 - accuracy: 0.6150 - loss: 0.6654\n",
      "Epoch 3: val_accuracy improved from 0.77500 to 0.82500, saving model to outputresults/model_cv20_fold16.h5\n"
     ]
    },
    {
     "name": "stderr",
     "output_type": "stream",
     "text": [
      "WARNING:absl:You are saving your model as an HDF5 file via `model.save()` or `keras.saving.save_model(model)`. This file format is considered legacy. We recommend using instead the native Keras format, e.g. `model.save('my_model.keras')` or `keras.saving.save_model(model, 'my_model.keras')`. \n"
     ]
    },
    {
     "name": "stdout",
     "output_type": "stream",
     "text": [
      "\u001b[1m6/6\u001b[0m \u001b[32m━━━━━━━━━━━━━━━━━━━━\u001b[0m\u001b[37m\u001b[0m \u001b[1m7s\u001b[0m 1s/step - AUC: 0.6589 - Precision: 0.5845 - Recall: 0.6908 - accuracy: 0.6166 - loss: 0.6653 - val_AUC: 0.7694 - val_Precision: 0.7917 - val_Recall: 0.9048 - val_accuracy: 0.8250 - val_loss: 0.5274 - learning_rate: 5.0000e-04\n",
      "Epoch 4/50\n",
      "\u001b[1m6/6\u001b[0m \u001b[32m━━━━━━━━━━━━━━━━━━━━\u001b[0m\u001b[37m\u001b[0m \u001b[1m0s\u001b[0m 1s/step - AUC: 0.7186 - Precision: 0.6658 - Recall: 0.8632 - accuracy: 0.7126 - loss: 0.6309\n",
      "Epoch 4: val_accuracy improved from 0.82500 to 0.85000, saving model to outputresults/model_cv20_fold16.h5\n"
     ]
    },
    {
     "name": "stderr",
     "output_type": "stream",
     "text": [
      "WARNING:absl:You are saving your model as an HDF5 file via `model.save()` or `keras.saving.save_model(model)`. This file format is considered legacy. We recommend using instead the native Keras format, e.g. `model.save('my_model.keras')` or `keras.saving.save_model(model, 'my_model.keras')`. \n"
     ]
    },
    {
     "name": "stdout",
     "output_type": "stream",
     "text": [
      "\u001b[1m6/6\u001b[0m \u001b[32m━━━━━━━━━━━━━━━━━━━━\u001b[0m\u001b[37m\u001b[0m \u001b[1m8s\u001b[0m 1s/step - AUC: 0.7188 - Precision: 0.6633 - Recall: 0.8580 - accuracy: 0.7099 - loss: 0.6312 - val_AUC: 0.8258 - val_Precision: 0.8261 - val_Recall: 0.9048 - val_accuracy: 0.8500 - val_loss: 0.5840 - learning_rate: 5.0000e-04\n",
      "Epoch 5/50\n",
      "\u001b[1m6/6\u001b[0m \u001b[32m━━━━━━━━━━━━━━━━━━━━\u001b[0m\u001b[37m\u001b[0m \u001b[1m0s\u001b[0m 1s/step - AUC: 0.7362 - Precision: 0.6600 - Recall: 0.6760 - accuracy: 0.6741 - loss: 0.6151\n",
      "Epoch 5: val_accuracy did not improve from 0.85000\n",
      "\u001b[1m6/6\u001b[0m \u001b[32m━━━━━━━━━━━━━━━━━━━━\u001b[0m\u001b[37m\u001b[0m \u001b[1m8s\u001b[0m 1s/step - AUC: 0.7363 - Precision: 0.6603 - Recall: 0.6883 - accuracy: 0.6765 - loss: 0.6146 - val_AUC: 0.8283 - val_Precision: 0.7917 - val_Recall: 0.9048 - val_accuracy: 0.8250 - val_loss: 0.4986 - learning_rate: 5.0000e-04\n",
      "Restoring model weights from the end of the best epoch: 4.\n",
      "Epoch 5: early stopping\n",
      "\u001b[1m7/7\u001b[0m \u001b[32m━━━━━━━━━━━━━━━━━━━━\u001b[0m\u001b[37m\u001b[0m \u001b[1m1s\u001b[0m 137ms/step\n",
      "Fold 17/20\n",
      "Training fold shape: (760, 224, 224, 3)\n",
      "Validation fold shape: (40, 224, 224, 3)\n",
      "Epoch 1/50\n",
      "\u001b[1m6/6\u001b[0m \u001b[32m━━━━━━━━━━━━━━━━━━━━\u001b[0m\u001b[37m\u001b[0m \u001b[1m0s\u001b[0m 1s/step - AUC: 0.5013 - Precision: 0.5180 - Recall: 0.6381 - accuracy: 0.5164 - loss: 0.8438\n",
      "Epoch 1: val_accuracy improved from -inf to 0.55000, saving model to outputresults/model_cv20_fold17.h5\n"
     ]
    },
    {
     "name": "stderr",
     "output_type": "stream",
     "text": [
      "WARNING:absl:You are saving your model as an HDF5 file via `model.save()` or `keras.saving.save_model(model)`. This file format is considered legacy. We recommend using instead the native Keras format, e.g. `model.save('my_model.keras')` or `keras.saving.save_model(model, 'my_model.keras')`. \n"
     ]
    },
    {
     "name": "stdout",
     "output_type": "stream",
     "text": [
      "\u001b[1m6/6\u001b[0m \u001b[32m━━━━━━━━━━━━━━━━━━━━\u001b[0m\u001b[37m\u001b[0m \u001b[1m16s\u001b[0m 1s/step - AUC: 0.5023 - Precision: 0.5173 - Recall: 0.6406 - accuracy: 0.5169 - loss: 0.8449 - val_AUC: 0.6919 - val_Precision: 0.0000e+00 - val_Recall: 0.0000e+00 - val_accuracy: 0.5500 - val_loss: 0.6809 - learning_rate: 5.0000e-04\n",
      "Epoch 2/50\n",
      "\u001b[1m6/6\u001b[0m \u001b[32m━━━━━━━━━━━━━━━━━━━━\u001b[0m\u001b[37m\u001b[0m \u001b[1m0s\u001b[0m 1s/step - AUC: 0.4944 - Precision: 0.5157 - Recall: 0.3196 - accuracy: 0.5200 - loss: 0.7375\n",
      "Epoch 2: val_accuracy did not improve from 0.55000\n",
      "\u001b[1m6/6\u001b[0m \u001b[32m━━━━━━━━━━━━━━━━━━━━\u001b[0m\u001b[37m\u001b[0m \u001b[1m8s\u001b[0m 1s/step - AUC: 0.4955 - Precision: 0.5145 - Recall: 0.3273 - accuracy: 0.5183 - loss: 0.7368 - val_AUC: 0.7816 - val_Precision: 0.5000 - val_Recall: 0.9444 - val_accuracy: 0.5500 - val_loss: 0.7084 - learning_rate: 5.0000e-04\n",
      "Epoch 3/50\n",
      "\u001b[1m6/6\u001b[0m \u001b[32m━━━━━━━━━━━━━━━━━━━━\u001b[0m\u001b[37m\u001b[0m \u001b[1m0s\u001b[0m 1s/step - AUC: 0.6460 - Precision: 0.5477 - Recall: 0.7350 - accuracy: 0.5868 - loss: 0.6817\n",
      "Epoch 3: val_accuracy improved from 0.55000 to 0.65000, saving model to outputresults/model_cv20_fold17.h5\n"
     ]
    },
    {
     "name": "stderr",
     "output_type": "stream",
     "text": [
      "WARNING:absl:You are saving your model as an HDF5 file via `model.save()` or `keras.saving.save_model(model)`. This file format is considered legacy. We recommend using instead the native Keras format, e.g. `model.save('my_model.keras')` or `keras.saving.save_model(model, 'my_model.keras')`. \n"
     ]
    },
    {
     "name": "stdout",
     "output_type": "stream",
     "text": [
      "\u001b[1m6/6\u001b[0m \u001b[32m━━━━━━━━━━━━━━━━━━━━\u001b[0m\u001b[37m\u001b[0m \u001b[1m8s\u001b[0m 1s/step - AUC: 0.6453 - Precision: 0.5533 - Recall: 0.7192 - accuracy: 0.5879 - loss: 0.6797 - val_AUC: 0.7500 - val_Precision: 0.5769 - val_Recall: 0.8333 - val_accuracy: 0.6500 - val_loss: 0.6338 - learning_rate: 5.0000e-04\n",
      "Epoch 4/50\n",
      "\u001b[1m6/6\u001b[0m \u001b[32m━━━━━━━━━━━━━━━━━━━━\u001b[0m\u001b[37m\u001b[0m \u001b[1m0s\u001b[0m 1s/step - AUC: 0.7375 - Precision: 0.6671 - Recall: 0.8560 - accuracy: 0.7124 - loss: 0.6101\n",
      "Epoch 4: val_accuracy improved from 0.65000 to 0.67500, saving model to outputresults/model_cv20_fold17.h5\n"
     ]
    },
    {
     "name": "stderr",
     "output_type": "stream",
     "text": [
      "WARNING:absl:You are saving your model as an HDF5 file via `model.save()` or `keras.saving.save_model(model)`. This file format is considered legacy. We recommend using instead the native Keras format, e.g. `model.save('my_model.keras')` or `keras.saving.save_model(model, 'my_model.keras')`. \n"
     ]
    },
    {
     "name": "stdout",
     "output_type": "stream",
     "text": [
      "\u001b[1m6/6\u001b[0m \u001b[32m━━━━━━━━━━━━━━━━━━━━\u001b[0m\u001b[37m\u001b[0m \u001b[1m8s\u001b[0m 1s/step - AUC: 0.7353 - Precision: 0.6649 - Recall: 0.8577 - accuracy: 0.7112 - loss: 0.6117 - val_AUC: 0.7449 - val_Precision: 0.6000 - val_Recall: 0.8333 - val_accuracy: 0.6750 - val_loss: 0.6488 - learning_rate: 5.0000e-04\n",
      "Epoch 5/50\n",
      "\u001b[1m6/6\u001b[0m \u001b[32m━━━━━━━━━━━━━━━━━━━━\u001b[0m\u001b[37m\u001b[0m \u001b[1m0s\u001b[0m 1s/step - AUC: 0.7320 - Precision: 0.6448 - Recall: 0.6882 - accuracy: 0.6742 - loss: 0.6279\n",
      "Epoch 5: val_accuracy did not improve from 0.67500\n",
      "\u001b[1m6/6\u001b[0m \u001b[32m━━━━━━━━━━━━━━━━━━━━\u001b[0m\u001b[37m\u001b[0m \u001b[1m8s\u001b[0m 1s/step - AUC: 0.7310 - Precision: 0.6477 - Recall: 0.6934 - accuracy: 0.6752 - loss: 0.6272 - val_AUC: 0.7588 - val_Precision: 0.5769 - val_Recall: 0.8333 - val_accuracy: 0.6500 - val_loss: 0.6489 - learning_rate: 5.0000e-04\n",
      "Restoring model weights from the end of the best epoch: 4.\n",
      "Epoch 5: early stopping\n",
      "\u001b[1m7/7\u001b[0m \u001b[32m━━━━━━━━━━━━━━━━━━━━\u001b[0m\u001b[37m\u001b[0m \u001b[1m2s\u001b[0m 177ms/step\n",
      "Fold 18/20\n",
      "Training fold shape: (760, 224, 224, 3)\n",
      "Validation fold shape: (40, 224, 224, 3)\n",
      "Epoch 1/50\n",
      "\u001b[1m6/6\u001b[0m \u001b[32m━━━━━━━━━━━━━━━━━━━━\u001b[0m\u001b[37m\u001b[0m \u001b[1m0s\u001b[0m 2s/step - AUC: 0.5170 - Precision: 0.5077 - Recall: 0.6172 - accuracy: 0.5068 - loss: 0.9029\n",
      "Epoch 1: val_accuracy improved from -inf to 0.45000, saving model to outputresults/model_cv20_fold18.h5\n"
     ]
    },
    {
     "name": "stderr",
     "output_type": "stream",
     "text": [
      "WARNING:absl:You are saving your model as an HDF5 file via `model.save()` or `keras.saving.save_model(model)`. This file format is considered legacy. We recommend using instead the native Keras format, e.g. `model.save('my_model.keras')` or `keras.saving.save_model(model, 'my_model.keras')`. \n"
     ]
    },
    {
     "name": "stdout",
     "output_type": "stream",
     "text": [
      "\u001b[1m6/6\u001b[0m \u001b[32m━━━━━━━━━━━━━━━━━━━━\u001b[0m\u001b[37m\u001b[0m \u001b[1m20s\u001b[0m 2s/step - AUC: 0.5161 - Precision: 0.5068 - Recall: 0.5970 - accuracy: 0.5071 - loss: 0.9008 - val_AUC: 0.8384 - val_Precision: 0.0000e+00 - val_Recall: 0.0000e+00 - val_accuracy: 0.4500 - val_loss: 0.7312 - learning_rate: 5.0000e-04\n",
      "Epoch 2/50\n",
      "\u001b[1m6/6\u001b[0m \u001b[32m━━━━━━━━━━━━━━━━━━━━\u001b[0m\u001b[37m\u001b[0m \u001b[1m0s\u001b[0m 1s/step - AUC: 0.5490 - Precision: 0.5194 - Recall: 0.5618 - accuracy: 0.5368 - loss: 0.7107\n",
      "Epoch 2: val_accuracy did not improve from 0.45000\n",
      "\u001b[1m6/6\u001b[0m \u001b[32m━━━━━━━━━━━━━━━━━━━━\u001b[0m\u001b[37m\u001b[0m \u001b[1m8s\u001b[0m 1s/step - AUC: 0.5515 - Precision: 0.5214 - Recall: 0.5763 - accuracy: 0.5385 - loss: 0.7098 - val_AUC: 0.8826 - val_Precision: 0.0000e+00 - val_Recall: 0.0000e+00 - val_accuracy: 0.4500 - val_loss: 0.6346 - learning_rate: 5.0000e-04\n",
      "Epoch 3/50\n",
      "\u001b[1m6/6\u001b[0m \u001b[32m━━━━━━━━━━━━━━━━━━━━\u001b[0m\u001b[37m\u001b[0m \u001b[1m0s\u001b[0m 1s/step - AUC: 0.7028 - Precision: 0.6631 - Recall: 0.4477 - accuracy: 0.6168 - loss: 0.6480\n",
      "Epoch 3: val_accuracy improved from 0.45000 to 0.85000, saving model to outputresults/model_cv20_fold18.h5\n"
     ]
    },
    {
     "name": "stderr",
     "output_type": "stream",
     "text": [
      "WARNING:absl:You are saving your model as an HDF5 file via `model.save()` or `keras.saving.save_model(model)`. This file format is considered legacy. We recommend using instead the native Keras format, e.g. `model.save('my_model.keras')` or `keras.saving.save_model(model, 'my_model.keras')`. \n"
     ]
    },
    {
     "name": "stdout",
     "output_type": "stream",
     "text": [
      "\u001b[1m6/6\u001b[0m \u001b[32m━━━━━━━━━━━━━━━━━━━━\u001b[0m\u001b[37m\u001b[0m \u001b[1m8s\u001b[0m 1s/step - AUC: 0.7030 - Precision: 0.6622 - Recall: 0.4662 - accuracy: 0.6206 - loss: 0.6475 - val_AUC: 0.8472 - val_Precision: 0.7857 - val_Recall: 1.0000 - val_accuracy: 0.8500 - val_loss: 0.4766 - learning_rate: 5.0000e-04\n",
      "Epoch 4/50\n",
      "\u001b[1m6/6\u001b[0m \u001b[32m━━━━━━━━━━━━━━━━━━━━\u001b[0m\u001b[37m\u001b[0m \u001b[1m0s\u001b[0m 1s/step - AUC: 0.7333 - Precision: 0.6856 - Recall: 0.9038 - accuracy: 0.7465 - loss: 0.6128\n",
      "Epoch 4: val_accuracy did not improve from 0.85000\n",
      "\u001b[1m6/6\u001b[0m \u001b[32m━━━━━━━━━━━━━━━━━━━━\u001b[0m\u001b[37m\u001b[0m \u001b[1m8s\u001b[0m 1s/step - AUC: 0.7318 - Precision: 0.6816 - Recall: 0.8958 - accuracy: 0.7410 - loss: 0.6151 - val_AUC: 0.8371 - val_Precision: 0.7778 - val_Recall: 0.9545 - val_accuracy: 0.8250 - val_loss: 0.5393 - learning_rate: 5.0000e-04\n",
      "Epoch 5/50\n",
      "\u001b[1m6/6\u001b[0m \u001b[32m━━━━━━━━━━━━━━━━━━━━\u001b[0m\u001b[37m\u001b[0m \u001b[1m0s\u001b[0m 1s/step - AUC: 0.7602 - Precision: 0.6785 - Recall: 0.7149 - accuracy: 0.6867 - loss: 0.6001\n",
      "Epoch 5: val_accuracy did not improve from 0.85000\n",
      "\u001b[1m6/6\u001b[0m \u001b[32m━━━━━━━━━━━━━━━━━━━━\u001b[0m\u001b[37m\u001b[0m \u001b[1m8s\u001b[0m 1s/step - AUC: 0.7573 - Precision: 0.6759 - Recall: 0.7277 - accuracy: 0.6886 - loss: 0.6007 - val_AUC: 0.8346 - val_Precision: 0.7778 - val_Recall: 0.9545 - val_accuracy: 0.8250 - val_loss: 0.4756 - learning_rate: 5.0000e-04\n",
      "Restoring model weights from the end of the best epoch: 3.\n",
      "Epoch 5: early stopping\n",
      "\u001b[1m7/7\u001b[0m \u001b[32m━━━━━━━━━━━━━━━━━━━━\u001b[0m\u001b[37m\u001b[0m \u001b[1m1s\u001b[0m 166ms/step\n",
      "Fold 19/20\n",
      "Training fold shape: (760, 224, 224, 3)\n",
      "Validation fold shape: (40, 224, 224, 3)\n",
      "Epoch 1/50\n",
      "\u001b[1m6/6\u001b[0m \u001b[32m━━━━━━━━━━━━━━━━━━━━\u001b[0m\u001b[37m\u001b[0m \u001b[1m0s\u001b[0m 1s/step - AUC: 0.4881 - Precision: 0.4461 - Recall: 0.3428 - accuracy: 0.4766 - loss: 0.9669\n",
      "Epoch 1: val_accuracy improved from -inf to 0.60000, saving model to outputresults/model_cv20_fold19.h5\n"
     ]
    },
    {
     "name": "stderr",
     "output_type": "stream",
     "text": [
      "WARNING:absl:You are saving your model as an HDF5 file via `model.save()` or `keras.saving.save_model(model)`. This file format is considered legacy. We recommend using instead the native Keras format, e.g. `model.save('my_model.keras')` or `keras.saving.save_model(model, 'my_model.keras')`. \n"
     ]
    },
    {
     "name": "stdout",
     "output_type": "stream",
     "text": [
      "\u001b[1m6/6\u001b[0m \u001b[32m━━━━━━━━━━━━━━━━━━━━\u001b[0m\u001b[37m\u001b[0m \u001b[1m17s\u001b[0m 1s/step - AUC: 0.4874 - Precision: 0.4484 - Recall: 0.3591 - accuracy: 0.4762 - loss: 0.9600 - val_AUC: 0.7344 - val_Precision: 0.6000 - val_Recall: 1.0000 - val_accuracy: 0.6000 - val_loss: 0.6754 - learning_rate: 5.0000e-04\n",
      "Epoch 2/50\n",
      "\u001b[1m6/6\u001b[0m \u001b[32m━━━━━━━━━━━━━━━━━━━━\u001b[0m\u001b[37m\u001b[0m \u001b[1m0s\u001b[0m 1s/step - AUC: 0.4828 - Precision: 0.4697 - Recall: 0.4111 - accuracy: 0.4976 - loss: 0.7445\n",
      "Epoch 2: val_accuracy did not improve from 0.60000\n",
      "\u001b[1m6/6\u001b[0m \u001b[32m━━━━━━━━━━━━━━━━━━━━\u001b[0m\u001b[37m\u001b[0m \u001b[1m6s\u001b[0m 1s/step - AUC: 0.4845 - Precision: 0.4711 - Recall: 0.3985 - accuracy: 0.4976 - loss: 0.7429 - val_AUC: 0.7904 - val_Precision: 0.6000 - val_Recall: 1.0000 - val_accuracy: 0.6000 - val_loss: 0.6685 - learning_rate: 5.0000e-04\n",
      "Epoch 3/50\n",
      "\u001b[1m6/6\u001b[0m \u001b[32m━━━━━━━━━━━━━━━━━━━━\u001b[0m\u001b[37m\u001b[0m \u001b[1m0s\u001b[0m 1s/step - AUC: 0.5594 - Precision: 0.5223 - Recall: 0.7362 - accuracy: 0.5296 - loss: 0.7035\n",
      "Epoch 3: val_accuracy did not improve from 0.60000\n",
      "\u001b[1m6/6\u001b[0m \u001b[32m━━━━━━━━━━━━━━━━━━━━\u001b[0m\u001b[37m\u001b[0m \u001b[1m7s\u001b[0m 1s/step - AUC: 0.5603 - Precision: 0.5224 - Recall: 0.7228 - accuracy: 0.5308 - loss: 0.7030 - val_AUC: 0.7734 - val_Precision: 0.0000e+00 - val_Recall: 0.0000e+00 - val_accuracy: 0.4000 - val_loss: 0.7200 - learning_rate: 5.0000e-04\n",
      "Epoch 4/50\n",
      "\u001b[1m6/6\u001b[0m \u001b[32m━━━━━━━━━━━━━━━━━━━━\u001b[0m\u001b[37m\u001b[0m \u001b[1m0s\u001b[0m 1s/step - AUC: 0.6512 - Precision: 0.6119 - Recall: 0.3682 - accuracy: 0.5861 - loss: 0.6712\n",
      "Epoch 4: val_accuracy improved from 0.60000 to 0.70000, saving model to outputresults/model_cv20_fold19.h5\n"
     ]
    },
    {
     "name": "stderr",
     "output_type": "stream",
     "text": [
      "WARNING:absl:You are saving your model as an HDF5 file via `model.save()` or `keras.saving.save_model(model)`. This file format is considered legacy. We recommend using instead the native Keras format, e.g. `model.save('my_model.keras')` or `keras.saving.save_model(model, 'my_model.keras')`. \n"
     ]
    },
    {
     "name": "stdout",
     "output_type": "stream",
     "text": [
      "\u001b[1m6/6\u001b[0m \u001b[32m━━━━━━━━━━━━━━━━━━━━\u001b[0m\u001b[37m\u001b[0m \u001b[1m7s\u001b[0m 1s/step - AUC: 0.6559 - Precision: 0.6152 - Recall: 0.3905 - accuracy: 0.5909 - loss: 0.6683 - val_AUC: 0.7747 - val_Precision: 0.7000 - val_Recall: 0.8750 - val_accuracy: 0.7000 - val_loss: 0.5881 - learning_rate: 5.0000e-04\n",
      "Epoch 5/50\n",
      "\u001b[1m6/6\u001b[0m \u001b[32m━━━━━━━━━━━━━━━━━━━━\u001b[0m\u001b[37m\u001b[0m \u001b[1m0s\u001b[0m 1s/step - AUC: 0.6856 - Precision: 0.6361 - Recall: 0.8630 - accuracy: 0.6813 - loss: 0.6545\n",
      "Epoch 5: val_accuracy improved from 0.70000 to 0.77500, saving model to outputresults/model_cv20_fold19.h5\n"
     ]
    },
    {
     "name": "stderr",
     "output_type": "stream",
     "text": [
      "WARNING:absl:You are saving your model as an HDF5 file via `model.save()` or `keras.saving.save_model(model)`. This file format is considered legacy. We recommend using instead the native Keras format, e.g. `model.save('my_model.keras')` or `keras.saving.save_model(model, 'my_model.keras')`. \n"
     ]
    },
    {
     "name": "stdout",
     "output_type": "stream",
     "text": [
      "\u001b[1m6/6\u001b[0m \u001b[32m━━━━━━━━━━━━━━━━━━━━\u001b[0m\u001b[37m\u001b[0m \u001b[1m8s\u001b[0m 1s/step - AUC: 0.6874 - Precision: 0.6348 - Recall: 0.8588 - accuracy: 0.6806 - loss: 0.6531 - val_AUC: 0.7786 - val_Precision: 0.8000 - val_Recall: 0.8333 - val_accuracy: 0.7750 - val_loss: 0.6781 - learning_rate: 5.0000e-04\n",
      "Epoch 6/50\n",
      "\u001b[1m6/6\u001b[0m \u001b[32m━━━━━━━━━━━━━━━━━━━━\u001b[0m\u001b[37m\u001b[0m \u001b[1m0s\u001b[0m 1s/step - AUC: 0.7516 - Precision: 0.6919 - Recall: 0.7427 - accuracy: 0.7048 - loss: 0.6141\n",
      "Epoch 6: val_accuracy improved from 0.77500 to 0.80000, saving model to outputresults/model_cv20_fold19.h5\n"
     ]
    },
    {
     "name": "stderr",
     "output_type": "stream",
     "text": [
      "WARNING:absl:You are saving your model as an HDF5 file via `model.save()` or `keras.saving.save_model(model)`. This file format is considered legacy. We recommend using instead the native Keras format, e.g. `model.save('my_model.keras')` or `keras.saving.save_model(model, 'my_model.keras')`. \n"
     ]
    },
    {
     "name": "stdout",
     "output_type": "stream",
     "text": [
      "\u001b[1m6/6\u001b[0m \u001b[32m━━━━━━━━━━━━━━━━━━━━\u001b[0m\u001b[37m\u001b[0m \u001b[1m8s\u001b[0m 1s/step - AUC: 0.7477 - Precision: 0.6871 - Recall: 0.7491 - accuracy: 0.7035 - loss: 0.6155 - val_AUC: 0.7799 - val_Precision: 0.8077 - val_Recall: 0.8750 - val_accuracy: 0.8000 - val_loss: 0.5768 - learning_rate: 5.0000e-04\n",
      "Epoch 7/50\n",
      "\u001b[1m6/6\u001b[0m \u001b[32m━━━━━━━━━━━━━━━━━━━━\u001b[0m\u001b[37m\u001b[0m \u001b[1m0s\u001b[0m 1s/step - AUC: 0.7002 - Precision: 0.6661 - Recall: 0.8723 - accuracy: 0.7172 - loss: 0.6220\n",
      "Epoch 7: val_accuracy did not improve from 0.80000\n",
      "\u001b[1m6/6\u001b[0m \u001b[32m━━━━━━━━━━━━━━━━━━━━\u001b[0m\u001b[37m\u001b[0m \u001b[1m9s\u001b[0m 1s/step - AUC: 0.7032 - Precision: 0.6665 - Recall: 0.8694 - accuracy: 0.7178 - loss: 0.6201 - val_AUC: 0.7812 - val_Precision: 0.8000 - val_Recall: 0.8333 - val_accuracy: 0.7750 - val_loss: 0.6224 - learning_rate: 5.0000e-04\n",
      "Restoring model weights from the end of the best epoch: 6.\n",
      "Epoch 7: early stopping\n",
      "\u001b[1m7/7\u001b[0m \u001b[32m━━━━━━━━━━━━━━━━━━━━\u001b[0m\u001b[37m\u001b[0m \u001b[1m1s\u001b[0m 133ms/step\n",
      "Fold 20/20\n",
      "Training fold shape: (760, 224, 224, 3)\n",
      "Validation fold shape: (40, 224, 224, 3)\n",
      "Epoch 1/50\n",
      "\u001b[1m6/6\u001b[0m \u001b[32m━━━━━━━━━━━━━━━━━━━━\u001b[0m\u001b[37m\u001b[0m \u001b[1m0s\u001b[0m 1s/step - AUC: 0.4997 - Precision: 0.4681 - Recall: 0.5997 - accuracy: 0.4808 - loss: 0.8952\n",
      "Epoch 1: val_accuracy improved from -inf to 0.52500, saving model to outputresults/model_cv20_fold20.h5\n"
     ]
    },
    {
     "name": "stderr",
     "output_type": "stream",
     "text": [
      "WARNING:absl:You are saving your model as an HDF5 file via `model.save()` or `keras.saving.save_model(model)`. This file format is considered legacy. We recommend using instead the native Keras format, e.g. `model.save('my_model.keras')` or `keras.saving.save_model(model, 'my_model.keras')`. \n"
     ]
    },
    {
     "name": "stdout",
     "output_type": "stream",
     "text": [
      "\u001b[1m6/6\u001b[0m \u001b[32m━━━━━━━━━━━━━━━━━━━━\u001b[0m\u001b[37m\u001b[0m \u001b[1m18s\u001b[0m 2s/step - AUC: 0.4996 - Precision: 0.4706 - Recall: 0.5860 - accuracy: 0.4821 - loss: 0.8896 - val_AUC: 0.7945 - val_Precision: 0.0000e+00 - val_Recall: 0.0000e+00 - val_accuracy: 0.5250 - val_loss: 0.7077 - learning_rate: 5.0000e-04\n",
      "Epoch 2/50\n",
      "\u001b[1m6/6\u001b[0m \u001b[32m━━━━━━━━━━━━━━━━━━━━\u001b[0m\u001b[37m\u001b[0m \u001b[1m0s\u001b[0m 1s/step - AUC: 0.5238 - Precision: 0.5482 - Recall: 0.4872 - accuracy: 0.5357 - loss: 0.7267\n",
      "Epoch 2: val_accuracy did not improve from 0.52500\n",
      "\u001b[1m6/6\u001b[0m \u001b[32m━━━━━━━━━━━━━━━━━━━━\u001b[0m\u001b[37m\u001b[0m \u001b[1m8s\u001b[0m 1s/step - AUC: 0.5248 - Precision: 0.5452 - Recall: 0.5059 - accuracy: 0.5357 - loss: 0.7265 - val_AUC: 0.8396 - val_Precision: 0.0000e+00 - val_Recall: 0.0000e+00 - val_accuracy: 0.5250 - val_loss: 0.6358 - learning_rate: 5.0000e-04\n",
      "Epoch 3/50\n",
      "\u001b[1m6/6\u001b[0m \u001b[32m━━━━━━━━━━━━━━━━━━━━\u001b[0m\u001b[37m\u001b[0m \u001b[1m0s\u001b[0m 1s/step - AUC: 0.5636 - Precision: 0.5262 - Recall: 0.3570 - accuracy: 0.5246 - loss: 0.7151\n",
      "Epoch 3: val_accuracy improved from 0.52500 to 0.75000, saving model to outputresults/model_cv20_fold20.h5\n"
     ]
    },
    {
     "name": "stderr",
     "output_type": "stream",
     "text": [
      "WARNING:absl:You are saving your model as an HDF5 file via `model.save()` or `keras.saving.save_model(model)`. This file format is considered legacy. We recommend using instead the native Keras format, e.g. `model.save('my_model.keras')` or `keras.saving.save_model(model, 'my_model.keras')`. \n"
     ]
    },
    {
     "name": "stdout",
     "output_type": "stream",
     "text": [
      "\u001b[1m6/6\u001b[0m \u001b[32m━━━━━━━━━━━━━━━━━━━━\u001b[0m\u001b[37m\u001b[0m \u001b[1m7s\u001b[0m 1s/step - AUC: 0.5711 - Precision: 0.5345 - Recall: 0.3780 - accuracy: 0.5320 - loss: 0.7112 - val_AUC: 0.8434 - val_Precision: 0.6667 - val_Recall: 0.9474 - val_accuracy: 0.7500 - val_loss: 0.5582 - learning_rate: 5.0000e-04\n",
      "Epoch 4/50\n",
      "\u001b[1m6/6\u001b[0m \u001b[32m━━━━━━━━━━━━━━━━━━━━\u001b[0m\u001b[37m\u001b[0m \u001b[1m0s\u001b[0m 1s/step - AUC: 0.7183 - Precision: 0.6348 - Recall: 0.8029 - accuracy: 0.6765 - loss: 0.6363\n",
      "Epoch 4: val_accuracy did not improve from 0.75000\n",
      "\u001b[1m6/6\u001b[0m \u001b[32m━━━━━━━━━━━━━━━━━━━━\u001b[0m\u001b[37m\u001b[0m \u001b[1m7s\u001b[0m 1s/step - AUC: 0.7195 - Precision: 0.6375 - Recall: 0.8011 - accuracy: 0.6782 - loss: 0.6354 - val_AUC: 0.8496 - val_Precision: 0.6957 - val_Recall: 0.8421 - val_accuracy: 0.7500 - val_loss: 0.5479 - learning_rate: 5.0000e-04\n",
      "Epoch 5/50\n",
      "\u001b[1m6/6\u001b[0m \u001b[32m━━━━━━━━━━━━━━━━━━━━\u001b[0m\u001b[37m\u001b[0m \u001b[1m0s\u001b[0m 1s/step - AUC: 0.7050 - Precision: 0.6370 - Recall: 0.8238 - accuracy: 0.6723 - loss: 0.6392\n",
      "Epoch 5: val_accuracy did not improve from 0.75000\n",
      "\u001b[1m6/6\u001b[0m \u001b[32m━━━━━━━━━━━━━━━━━━━━\u001b[0m\u001b[37m\u001b[0m \u001b[1m7s\u001b[0m 1s/step - AUC: 0.7069 - Precision: 0.6389 - Recall: 0.8190 - accuracy: 0.6742 - loss: 0.6372 - val_AUC: 0.8459 - val_Precision: 0.6957 - val_Recall: 0.8421 - val_accuracy: 0.7500 - val_loss: 0.5468 - learning_rate: 5.0000e-04\n",
      "Restoring model weights from the end of the best epoch: 3.\n",
      "Epoch 5: early stopping\n",
      "\u001b[1m7/7\u001b[0m \u001b[32m━━━━━━━━━━━━━━━━━━━━\u001b[0m\u001b[37m\u001b[0m \u001b[1m1s\u001b[0m 132ms/step\n",
      "DeiT training completed for CV=20 and metrics saved to deit_metrics_cv20.csv\n",
      "\n",
      "Average metrics:\n",
      "CV: 20.0000\n",
      "Avg_Test_Accuracy: 0.7433\n",
      "Avg_Training_Loss: 0.6109\n",
      "Avg_Testing_Loss: 0.6054\n",
      "Avg_F1_Score: 0.7781\n",
      "Avg_Training_Time: 51.8244\n",
      "Avg_Epochs: 5.2000\n",
      "\n",
      "CV summary saved to deit_cv_summary.csv\n",
      "Ready to run with your data. Set optimize_for_speed=True for much faster training.\n"
     ]
    }
   ],
   "source": [
    "import tensorflow as tf\n",
    "from tensorflow import keras\n",
    "from tensorflow.keras import layers\n",
    "import numpy as np\n",
    "import pandas as pd\n",
    "from sklearn.model_selection import KFold\n",
    "from sklearn.metrics import f1_score, confusion_matrix, matthews_corrcoef, balanced_accuracy_score, cohen_kappa_score\n",
    "import time\n",
    "import os\n",
    "from tensorflow.keras.callbacks import EarlyStopping, ReduceLROnPlateau, ModelCheckpoint\n",
    "\n",
    "# Enable mixed precision training for faster computation\n",
    "try:\n",
    "    tf.keras.mixed_precision.set_global_policy('mixed_float16')\n",
    "    print(\"Mixed precision training enabled\")\n",
    "except:\n",
    "    print(\"Could not enable mixed precision training\")\n",
    "    \n",
    "# Set TensorFlow to use the fastest possible algorithms\n",
    "tf.config.optimizer.set_jit(True)  # Enable XLA compilation\n",
    "print(\"XLA JIT compilation enabled\")\n",
    "\n",
    "# Set memory growth to avoid OOM errors\n",
    "physical_devices = tf.config.list_physical_devices('GPU')\n",
    "if physical_devices:\n",
    "    for device in physical_devices:\n",
    "        tf.config.experimental.set_memory_growth(device, True)\n",
    "\n",
    "class ClassTokenLayer(layers.Layer):\n",
    "    def __init__(self, embed_dim, **kwargs):\n",
    "        super().__init__(**kwargs)\n",
    "        self.embed_dim = embed_dim\n",
    "        \n",
    "    def build(self, input_shape):\n",
    "        self.class_token = self.add_weight(\n",
    "            shape=(1, 1, self.embed_dim),\n",
    "            initializer=\"random_normal\",\n",
    "            trainable=True,\n",
    "            name=\"class_token\"\n",
    "        )\n",
    "    \n",
    "    def call(self, inputs):\n",
    "        batch_size = tf.shape(inputs)[0]\n",
    "        class_tokens = tf.repeat(self.class_token, batch_size, axis=0)\n",
    "        return tf.concat([class_tokens, inputs], axis=1)\n",
    "    \n",
    "    def compute_output_shape(self, input_shape):\n",
    "        return (input_shape[0], input_shape[1] + 1, input_shape[2])\n",
    "\n",
    "class PositionEmbedding(layers.Layer):\n",
    "    def __init__(self, num_patches, embed_dim, **kwargs):\n",
    "        super().__init__(**kwargs)\n",
    "        self.num_patches = num_patches\n",
    "        self.embed_dim = embed_dim\n",
    "        self.position_embedding = layers.Embedding(\n",
    "            input_dim=num_patches + 1,\n",
    "            output_dim=embed_dim\n",
    "        )\n",
    "        \n",
    "    def call(self, inputs):\n",
    "        positions = tf.range(start=0, limit=tf.shape(inputs)[1], delta=1)\n",
    "        embedded_positions = self.position_embedding(positions)\n",
    "        return inputs + embedded_positions\n",
    "    \n",
    "    def compute_output_shape(self, input_shape):\n",
    "        return input_shape\n",
    "\n",
    "# Use the built-in MultiHeadAttention for better performance\n",
    "class MultiHeadSelfAttention(layers.Layer):\n",
    "    def __init__(self, num_heads, embed_dim, dropout=0., **kwargs):\n",
    "        super().__init__(**kwargs)\n",
    "        self.num_heads = num_heads\n",
    "        self.embed_dim = embed_dim\n",
    "        \n",
    "        # Use built-in MultiHeadAttention for much better performance\n",
    "        self.mha = layers.MultiHeadAttention(\n",
    "            num_heads=num_heads,\n",
    "            key_dim=embed_dim // num_heads,\n",
    "            dropout=dropout\n",
    "        )\n",
    "        \n",
    "    def call(self, inputs, training=None):\n",
    "        # Much faster implementation using built-in layer\n",
    "        return self.mha(inputs, inputs, training=training)\n",
    "\n",
    "class TransformerBlock(layers.Layer):\n",
    "    def __init__(self, embed_dim, num_heads, mlp_dim, dropout=0.1, **kwargs):\n",
    "        super().__init__(**kwargs)\n",
    "        self.embed_dim = embed_dim\n",
    "        self.num_heads = num_heads\n",
    "        self.mlp_dim = mlp_dim\n",
    "        \n",
    "        # Pre-norm architecture for better performance\n",
    "        self.layernorm1 = layers.LayerNormalization(epsilon=1e-6)\n",
    "        self.attention = MultiHeadSelfAttention(num_heads, embed_dim, dropout)\n",
    "        self.layernorm2 = layers.LayerNormalization(epsilon=1e-6)\n",
    "        \n",
    "        # GELU activation for better accuracy\n",
    "        self.mlp = keras.Sequential([\n",
    "            layers.Dense(mlp_dim, activation=tf.nn.gelu),\n",
    "            layers.Dropout(dropout),\n",
    "            layers.Dense(embed_dim),\n",
    "            layers.Dropout(dropout)\n",
    "        ])\n",
    "        \n",
    "    def call(self, inputs, training=None):\n",
    "        # Pre-norm architecture (more stable training)\n",
    "        attn_output = self.attention(self.layernorm1(inputs), training=training)\n",
    "        x = inputs + attn_output\n",
    "        \n",
    "        mlp_output = self.mlp(self.layernorm2(x), training=training)\n",
    "        return x + mlp_output\n",
    "\n",
    "def create_lightweight_deit_model(input_shape=(224, 224, 3), patch_size=32, embed_dim=192, \n",
    "                     num_heads=3, mlp_dim=None, num_layers=4, dropout_rate=0.1):\n",
    "    \"\"\"\n",
    "    Create a lightweight DeiT model that's much faster while maintaining accuracy.\n",
    "    Uses larger patch size, smaller embedding dimension, and fewer transformer layers.\n",
    "    \"\"\"\n",
    "    if mlp_dim is None:\n",
    "        mlp_dim = embed_dim * 2  # Reduced MLP size for faster computation\n",
    "    \n",
    "    num_patches = (input_shape[0] // patch_size) * (input_shape[1] // patch_size)\n",
    "    \n",
    "    inputs = layers.Input(shape=input_shape)\n",
    "    \n",
    "    # Use efficient patch embedding with larger patches for faster processing\n",
    "    x = layers.Conv2D(embed_dim, kernel_size=patch_size, strides=patch_size)(inputs)\n",
    "    x = layers.Reshape((-1, embed_dim))(x)\n",
    "    \n",
    "    # Add class token\n",
    "    x = ClassTokenLayer(embed_dim)(x)\n",
    "    \n",
    "    # Add position embedding\n",
    "    x = PositionEmbedding(num_patches, embed_dim)(x)\n",
    "    x = layers.Dropout(dropout_rate)(x)\n",
    "    \n",
    "    # Fewer transformer blocks for speed\n",
    "    for _ in range(num_layers):\n",
    "        x = TransformerBlock(embed_dim, num_heads, mlp_dim, dropout_rate)(x)\n",
    "    \n",
    "    # Efficient classification head\n",
    "    x = layers.LayerNormalization(epsilon=1e-6)(x)\n",
    "    x = layers.Lambda(lambda x: x[:, 0])(x)  # Take class token\n",
    "    \n",
    "    # Simplified classifier head - smaller but effective\n",
    "    x = layers.Dense(256, activation='relu')(x)  # Using ReLU for better speed\n",
    "    x = layers.Dropout(dropout_rate)(x)\n",
    "    outputs = layers.Dense(1, activation='sigmoid')(x)\n",
    "    \n",
    "    return keras.Model(inputs=inputs, outputs=outputs)\n",
    "\n",
    "def train_with_cv(X_train_combined, y_train_combined, X_test, y_test, cv_values=[5, 10, 15, 20], \n",
    "              optimize_for_speed=True, use_tpu=False):\n",
    "    \"\"\"\n",
    "    Train the model with different cross-validation settings\n",
    "    \"\"\"\n",
    "    # Prepare output directory\n",
    "    os.makedirs('outputresults', exist_ok=True)\n",
    "    \n",
    "    # Make sure data has the right shape and channels\n",
    "    # Check if input is already multi-channel\n",
    "    if len(X_train_combined.shape) < 4 or X_train_combined.shape[-1] != 3:\n",
    "        # If not, expand to 3 channels\n",
    "        if len(X_train_combined.shape) < 4:\n",
    "            X_train_combined = np.expand_dims(X_train_combined, axis=-1)\n",
    "        if X_train_combined.shape[-1] == 1:\n",
    "            X_train_combined = np.repeat(X_train_combined, 3, axis=-1)\n",
    "    \n",
    "    # Check if test data is already multi-channel\n",
    "    if len(X_test.shape) < 4 or X_test.shape[-1] != 3:\n",
    "        # If not, expand to 3 channels\n",
    "        if len(X_test.shape) < 4:\n",
    "            X_test = np.expand_dims(X_test, axis=-1)\n",
    "        if X_test.shape[-1] == 1:\n",
    "            X_test = np.repeat(X_test, 3, axis=-1)\n",
    "    \n",
    "    # Fix extra dimensions if present (issue in the error message)\n",
    "    if len(X_test.shape) > 4:\n",
    "        X_test = X_test.reshape(X_test.shape[0], X_test.shape[1], X_test.shape[2], 3)\n",
    "    \n",
    "    print(\"Training data shape after adding channels:\", X_train_combined.shape)\n",
    "    print(\"Test data shape after adding channels:\", X_test.shape)\n",
    "    \n",
    "    # If using TPU\n",
    "    if use_tpu:\n",
    "        try:\n",
    "            resolver = tf.distribute.cluster_resolver.TPUClusterResolver()\n",
    "            tf.config.experimental_connect_to_cluster(resolver)\n",
    "            tf.tpu.experimental.initialize_tpu_system(resolver)\n",
    "            strategy = tf.distribute.TPUStrategy(resolver)\n",
    "            print(\"TPU detected and initialized!\")\n",
    "        except:\n",
    "            strategy = tf.distribute.MirroredStrategy()\n",
    "            print(\"No TPU detected, using MirroredStrategy\")\n",
    "    else:\n",
    "        # For multi-GPU training if available\n",
    "        strategy = tf.distribute.MirroredStrategy()\n",
    "        print(f\"Number of devices: {strategy.num_replicas_in_sync}\")\n",
    "    \n",
    "    # Aggressive training settings for faster convergence\n",
    "    callbacks = [\n",
    "        EarlyStopping(\n",
    "            monitor='val_accuracy' if optimize_for_speed else 'val_loss',\n",
    "            patience=5,  # More aggressive early stopping\n",
    "            restore_best_weights=True,\n",
    "            verbose=1\n",
    "        ),\n",
    "        ReduceLROnPlateau(\n",
    "            monitor='val_accuracy' if optimize_for_speed else 'val_loss',\n",
    "            factor=0.2,  # More aggressive LR reduction\n",
    "            patience=3,  # Reduce patience for faster adaptation\n",
    "            min_lr=1e-6,\n",
    "            verbose=1\n",
    "        )\n",
    "    ]\n",
    "    \n",
    "    all_metrics = []\n",
    "    \n",
    "    # Train with different CV settings\n",
    "    for k in cv_values:\n",
    "        print(f\"\\n=== Training with {k}-fold Cross Validation ===\")\n",
    "        kf = KFold(n_splits=k, shuffle=True, random_state=42)\n",
    "        \n",
    "        metrics_list = []\n",
    "        \n",
    "        for fold, (train_idx, val_idx) in enumerate(kf.split(X_train_combined)):\n",
    "            print(f'Fold {fold + 1}/{k}')\n",
    "            \n",
    "            # Split data\n",
    "            X_train_fold = X_train_combined[train_idx]\n",
    "            y_train_fold = y_train_combined[train_idx]\n",
    "            X_val_fold = X_train_combined[val_idx]\n",
    "            y_val_fold = y_train_combined[val_idx]\n",
    "            \n",
    "            print(f\"Training fold shape: {X_train_fold.shape}\")\n",
    "            print(f\"Validation fold shape: {X_val_fold.shape}\")\n",
    "            \n",
    "            # Data augmentation for better generalization\n",
    "            data_augmentation = keras.Sequential([\n",
    "                layers.RandomFlip(\"horizontal\"),\n",
    "                layers.RandomRotation(0.1),\n",
    "                layers.RandomZoom(0.1),\n",
    "            ])\n",
    "            \n",
    "            # Create much faster lightweight model\n",
    "            model = create_lightweight_deit_model(\n",
    "                patch_size=32,    # Larger patches = fewer tokens = much faster training\n",
    "                embed_dim=192,    # Smaller embedding dimension for efficiency\n",
    "                num_heads=3,      # Fewer attention heads\n",
    "                num_layers=4,     # Greatly reduced number of layers for speed\n",
    "                dropout_rate=0.2  # Keep good regularization\n",
    "            )\n",
    "            \n",
    "            # Simple but effective optimizer\n",
    "            optimizer = keras.optimizers.Adam(\n",
    "                learning_rate=5e-4  # Moderate learning rate for stability\n",
    "            )\n",
    "            \n",
    "            # Use label smoothing for better accuracy\n",
    "            model.compile(\n",
    "                optimizer=optimizer,\n",
    "                loss=keras.losses.BinaryCrossentropy(label_smoothing=0.1),  # Label smoothing helps accuracy\n",
    "                metrics=['accuracy', 'Precision', 'Recall', 'AUC']\n",
    "            )\n",
    "            \n",
    "            # Add model checkpoint for this fold\n",
    "            fold_checkpoint = ModelCheckpoint(\n",
    "                f'outputresults/model_cv{k}_fold{fold+1}.h5',\n",
    "                monitor='val_accuracy',  # Focus on accuracy, not just loss\n",
    "                save_best_only=True,\n",
    "                verbose=1\n",
    "            )\n",
    "            \n",
    "            # Create a custom callback to speed up training if accuracy is already good\n",
    "            early_accuracy = EarlyStopping(\n",
    "                monitor='val_accuracy',\n",
    "                min_delta=0.005,\n",
    "                patience=5,\n",
    "                baseline=0.85,  # Stop if we reach good accuracy\n",
    "                verbose=1\n",
    "            )\n",
    "            \n",
    "            fold_callbacks = callbacks + [fold_checkpoint, early_accuracy]\n",
    "            \n",
    "            # Train model with much faster settings\n",
    "            start_time = time.time()\n",
    "            history = model.fit(\n",
    "                data_augmentation(X_train_fold), \n",
    "                y_train_fold,\n",
    "                validation_data=(X_val_fold, y_val_fold),\n",
    "                epochs=50,        # Fewer maximum epochs\n",
    "                batch_size=128,   # Much larger batch size for speed\n",
    "                callbacks=fold_callbacks,\n",
    "                verbose=1\n",
    "            )\n",
    "            training_time = time.time() - start_time\n",
    "            \n",
    "            # Load best model weights for evaluation\n",
    "            model.load_weights(f'outputresults/model_cv{k}_fold{fold+1}.h5')\n",
    "            \n",
    "            # Evaluate model\n",
    "            test_results = model.evaluate(X_test, y_test, verbose=0)\n",
    "            y_pred = model.predict(X_test)\n",
    "            y_pred_binary = (y_pred > 0.5).astype(int)\n",
    "            \n",
    "            # Calculate confusion matrix metrics\n",
    "            try:\n",
    "                tn, fp, fn, tp = confusion_matrix(y_test, y_pred_binary).ravel()\n",
    "                \n",
    "                # Calculate additional metrics\n",
    "                specificity = tn / (tn + fp) if (tn + fp) > 0 else 0\n",
    "                mcc = matthews_corrcoef(y_test, y_pred_binary)\n",
    "                # Calculate log loss (cross-entropy)\n",
    "                log_loss = -np.mean(y_test * np.log(np.clip(y_pred, 1e-15, 1.0)) + \n",
    "                                   (1 - y_test) * np.log(np.clip(1 - y_pred, 1e-15, 1.0)))\n",
    "                # Calculate geometric mean score\n",
    "                sensitivity = tp / (tp + fn) if (tp + fn) > 0 else 0  # same as recall\n",
    "                g_mean = np.sqrt(sensitivity * specificity) if (sensitivity * specificity) > 0 else 0\n",
    "                # Calculate Youden's J statistic (J = sensitivity + specificity - 1)\n",
    "                youdens_j = sensitivity + specificity - 1\n",
    "                balanced_acc = balanced_accuracy_score(y_test, y_pred_binary)\n",
    "                kappa = cohen_kappa_score(y_test, y_pred_binary)\n",
    "                \n",
    "                # Store metrics\n",
    "                fold_metrics = {\n",
    "                    'CV': k,\n",
    "                    'Fold': fold + 1,\n",
    "                    'Test_Accuracy': test_results[1],\n",
    "                    'Train_Accuracy': history.history['accuracy'][-1],\n",
    "                    'Val_Accuracy': history.history['val_accuracy'][-1],\n",
    "                    'Precision': test_results[2],\n",
    "                    'Recall': test_results[3],\n",
    "                    'AUC_ROC': test_results[4],\n",
    "                    'F1_Score': f1_score(y_test, y_pred_binary),\n",
    "                    'Training_Loss': history.history['loss'][-1],\n",
    "                    'Val_Loss': history.history['val_loss'][-1],\n",
    "                    'Testing_Loss': test_results[0],\n",
    "                    'Time_Taken': training_time,\n",
    "                    'TP': tp,\n",
    "                    'TN': tn,\n",
    "                    'FP': fp,\n",
    "                    'FN': fn,\n",
    "                    'Specificity': specificity,\n",
    "                    'MCC': mcc,\n",
    "                    'Log_Loss': log_loss,\n",
    "                    'G_Mean': g_mean,\n",
    "                    'Youdens_J': youdens_j,\n",
    "                    'Balanced_Accuracy': balanced_acc,\n",
    "                    'Cohens_Kappa': kappa,\n",
    "                    'Epochs_Trained': len(history.history['loss']),\n",
    "                    'Final_Learning_Rate': float(tf.keras.backend.get_value(model.optimizer.learning_rate))\n",
    "                }\n",
    "                metrics_list.append(fold_metrics)\n",
    "            except Exception as e:\n",
    "                print(f\"Error calculating metrics: {e}\")\n",
    "        \n",
    "        # Save metrics to CSV for this CV setting\n",
    "        if metrics_list:\n",
    "            metrics_df = pd.DataFrame(metrics_list)\n",
    "            metrics_df.to_csv(f'outputresults/deit_metrics_cv{k}.csv', index=False)\n",
    "            print(f\"DeiT training completed for CV={k} and metrics saved to deit_metrics_cv{k}.csv\")\n",
    "            \n",
    "            # Compute and print average metrics\n",
    "            avg_metrics = {\n",
    "                'CV': k,\n",
    "                'Avg_Test_Accuracy': metrics_df['Test_Accuracy'].mean(),\n",
    "                'Avg_Training_Loss': metrics_df['Training_Loss'].mean(),\n",
    "                'Avg_Testing_Loss': metrics_df['Testing_Loss'].mean(),\n",
    "                'Avg_F1_Score': metrics_df['F1_Score'].mean(),\n",
    "                'Avg_Training_Time': metrics_df['Time_Taken'].mean(),\n",
    "                'Avg_Epochs': metrics_df['Epochs_Trained'].mean()\n",
    "            }\n",
    "            print(\"\\nAverage metrics:\")\n",
    "            for key, value in avg_metrics.items():\n",
    "                print(f\"{key}: {value:.4f}\")\n",
    "                \n",
    "            all_metrics.append(avg_metrics)\n",
    "    \n",
    "    # Save summary of all CV settings\n",
    "    if all_metrics:\n",
    "        summary_df = pd.DataFrame(all_metrics)\n",
    "        summary_df.to_csv('outputresults/deit_cv_summary.csv', index=False)\n",
    "        print(\"\\nCV summary saved to deit_cv_summary.csv\")\n",
    "        \n",
    "    return all_metrics\n",
    "\n",
    "# Example usage:\n",
    "if __name__ == \"__main__\":\n",
    "    # Example of how to use the function with the optimization flags\n",
    "    train_with_cv(\n",
    "        X_train_combined, \n",
    "        y_train_combined, \n",
    "        X_test, \n",
    "        y_test, \n",
    "        cv_values=[5, 10, 15, 20],\n",
    "        optimize_for_speed=True,  # Set to True for fastest training\n",
    "        use_tpu=False             # Set to True if TPU is available\n",
    "    )\n",
    "    print(\"Ready to run with your data. Set optimize_for_speed=True for much faster training.\")"
   ]
  },
  {
   "cell_type": "code",
   "execution_count": 43,
   "id": "4bbd122b-c6cb-4692-add4-96098c811fa9",
   "metadata": {},
   "outputs": [
    {
     "name": "stdout",
     "output_type": "stream",
     "text": [
      "Successfully appended: outputresults/deit_metrics_cv5.csv\n",
      "Successfully appended: outputresults/deit_metrics_cv10.csv\n",
      "Successfully appended: outputresults/deit_metrics_cv15.csv\n",
      "Successfully appended: outputresults/deit_metrics_cv20.csv\n",
      "Combined data saved to outputresults/deit_metrics111.csv\n",
      "Total number of rows in outputresults/deit_metrics111.csv: 50\n"
     ]
    }
   ],
   "source": [
    "import pandas as pd\n",
    "# List of files in the desired order\n",
    "files = [\n",
    "    'outputresults/deit_metrics_cv5.csv',\n",
    "    'outputresults/deit_metrics_cv10.csv',  # Added comma here\n",
    "    'outputresults/deit_metrics_cv15.csv',\n",
    "    'outputresults/deit_metrics_cv20.csv'   # Added comma here\n",
    "]\n",
    "# Function to append CSV files\n",
    "def append_csv_files(file_list, output_file='outputresults/deit_metrics111.csv'):\n",
    "    # Initialize an empty DataFrame to store the combined data\n",
    "    combined_df = pd.DataFrame()\n",
    "    \n",
    "    # Read and append each file\n",
    "    for file in file_list:\n",
    "        try:\n",
    "            df = pd.read_csv(file)\n",
    "            combined_df = pd.concat([combined_df, df], ignore_index=True)\n",
    "            print(f\"Successfully appended: {file}\")\n",
    "        except Exception as e:\n",
    "            print(f\"Error appending {file}: {e}\")\n",
    "    # Save the combined DataFrame to a new CSV file\n",
    "    combined_df.to_csv(output_file, index=False)\n",
    "    row_count = len(combined_df)\n",
    "    print(f\"Combined data saved to {output_file}\")\n",
    "    print(f\"Total number of rows in {output_file}: {row_count}\")\n",
    "# Execute the function\n",
    "append_csv_files(files)"
   ]
  },
  {
   "cell_type": "code",
   "execution_count": 7,
   "id": "06358822-6d07-482e-821e-e4fc92dee1c2",
   "metadata": {},
   "outputs": [
    {
     "name": "stdout",
     "output_type": "stream",
     "text": [
      "Training data shape after adding channels: (800, 224, 224, 3)\n",
      "Test data shape after adding channels: (200, 224, 224, 3)\n",
      "Fold 1/5\n",
      "Training fold shape: (640, 224, 224, 3)\n",
      "Validation fold shape: (160, 224, 224, 3)\n",
      "Epoch 1/50\n",
      "\u001b[1m20/20\u001b[0m \u001b[32m━━━━━━━━━━━━━━━━━━━━\u001b[0m\u001b[37m\u001b[0m \u001b[1m245s\u001b[0m 12s/step - AUC: 0.5457 - Precision: 0.5053 - Recall: 0.4217 - accuracy: 0.5504 - loss: 1.3106 - val_AUC: 0.7741 - val_Precision: 0.7500 - val_Recall: 0.7952 - val_accuracy: 0.7563 - val_loss: 0.5897\n",
      "Epoch 2/50\n",
      "\u001b[1m20/20\u001b[0m \u001b[32m━━━━━━━━━━━━━━━━━━━━\u001b[0m\u001b[37m\u001b[0m \u001b[1m232s\u001b[0m 12s/step - AUC: 0.7771 - Precision: 0.7096 - Recall: 0.8464 - accuracy: 0.7563 - loss: 0.5427 - val_AUC: 0.7813 - val_Precision: 0.7500 - val_Recall: 0.7952 - val_accuracy: 0.7563 - val_loss: 0.5581\n",
      "Epoch 3/50\n",
      "\u001b[1m20/20\u001b[0m \u001b[32m━━━━━━━━━━━━━━━━━━━━\u001b[0m\u001b[37m\u001b[0m \u001b[1m232s\u001b[0m 12s/step - AUC: 0.7959 - Precision: 0.7241 - Recall: 0.8794 - accuracy: 0.7848 - loss: 0.5435 - val_AUC: 0.7876 - val_Precision: 0.7444 - val_Recall: 0.8072 - val_accuracy: 0.7563 - val_loss: 0.5691\n",
      "Epoch 4/50\n",
      "\u001b[1m20/20\u001b[0m \u001b[32m━━━━━━━━━━━━━━━━━━━━\u001b[0m\u001b[37m\u001b[0m \u001b[1m231s\u001b[0m 12s/step - AUC: 0.8105 - Precision: 0.7333 - Recall: 0.8290 - accuracy: 0.7740 - loss: 0.5495 - val_AUC: 0.7735 - val_Precision: 0.7586 - val_Recall: 0.7952 - val_accuracy: 0.7625 - val_loss: 0.6663\n",
      "Epoch 5/50\n",
      "\u001b[1m20/20\u001b[0m \u001b[32m━━━━━━━━━━━━━━━━━━━━\u001b[0m\u001b[37m\u001b[0m \u001b[1m233s\u001b[0m 12s/step - AUC: 0.8189 - Precision: 0.7355 - Recall: 0.8888 - accuracy: 0.7860 - loss: 0.4740 - val_AUC: 0.7778 - val_Precision: 0.7444 - val_Recall: 0.8072 - val_accuracy: 0.7563 - val_loss: 0.5886\n",
      "Epoch 6/50\n",
      "\u001b[1m20/20\u001b[0m \u001b[32m━━━━━━━━━━━━━━━━━━━━\u001b[0m\u001b[37m\u001b[0m \u001b[1m236s\u001b[0m 12s/step - AUC: 0.8340 - Precision: 0.7381 - Recall: 0.9085 - accuracy: 0.8079 - loss: 0.4658 - val_AUC: 0.7525 - val_Precision: 0.7391 - val_Recall: 0.8193 - val_accuracy: 0.7563 - val_loss: 0.6554\n",
      "Epoch 7/50\n",
      "\u001b[1m20/20\u001b[0m \u001b[32m━━━━━━━━━━━━━━━━━━━━\u001b[0m\u001b[37m\u001b[0m \u001b[1m231s\u001b[0m 12s/step - AUC: 0.8126 - Precision: 0.7602 - Recall: 0.9396 - accuracy: 0.8122 - loss: 0.4691 - val_AUC: 0.7655 - val_Precision: 0.7333 - val_Recall: 0.7952 - val_accuracy: 0.7437 - val_loss: 0.6937\n",
      "Epoch 8/50\n",
      "\u001b[1m20/20\u001b[0m \u001b[32m━━━━━━━━━━━━━━━━━━━━\u001b[0m\u001b[37m\u001b[0m \u001b[1m232s\u001b[0m 12s/step - AUC: 0.8189 - Precision: 0.7466 - Recall: 0.9509 - accuracy: 0.8067 - loss: 0.4654 - val_AUC: 0.7561 - val_Precision: 0.6869 - val_Recall: 0.8193 - val_accuracy: 0.7125 - val_loss: 0.8112\n",
      "Epoch 9/50\n",
      "\u001b[1m20/20\u001b[0m \u001b[32m━━━━━━━━━━━━━━━━━━━━\u001b[0m\u001b[37m\u001b[0m \u001b[1m232s\u001b[0m 12s/step - AUC: 0.8172 - Precision: 0.7173 - Recall: 0.9667 - accuracy: 0.8017 - loss: 0.4306 - val_AUC: 0.7547 - val_Precision: 0.7263 - val_Recall: 0.8313 - val_accuracy: 0.7500 - val_loss: 0.7052\n",
      "Epoch 10/50\n",
      "\u001b[1m20/20\u001b[0m \u001b[32m━━━━━━━━━━━━━━━━━━━━\u001b[0m\u001b[37m\u001b[0m \u001b[1m232s\u001b[0m 12s/step - AUC: 0.7982 - Precision: 0.7061 - Recall: 0.9421 - accuracy: 0.7857 - loss: 0.4672 - val_AUC: 0.7572 - val_Precision: 0.7312 - val_Recall: 0.8193 - val_accuracy: 0.7500 - val_loss: 0.6160\n",
      "Epoch 11/50\n",
      "\u001b[1m20/20\u001b[0m \u001b[32m━━━━━━━━━━━━━━━━━━━━\u001b[0m\u001b[37m\u001b[0m \u001b[1m232s\u001b[0m 12s/step - AUC: 0.8121 - Precision: 0.7194 - Recall: 0.9286 - accuracy: 0.7925 - loss: 0.4667 - val_AUC: 0.7297 - val_Precision: 0.7416 - val_Recall: 0.7952 - val_accuracy: 0.7500 - val_loss: 1.2014\n",
      "Epoch 12/50\n",
      "\u001b[1m20/20\u001b[0m \u001b[32m━━━━━━━━━━━━━━━━━━━━\u001b[0m\u001b[37m\u001b[0m \u001b[1m232s\u001b[0m 12s/step - AUC: 0.8029 - Precision: 0.7341 - Recall: 0.8889 - accuracy: 0.7818 - loss: 0.4752 - val_AUC: 0.7512 - val_Precision: 0.7010 - val_Recall: 0.8193 - val_accuracy: 0.7250 - val_loss: 0.8542\n",
      "Epoch 13/50\n",
      "\u001b[1m20/20\u001b[0m \u001b[32m━━━━━━━━━━━━━━━━━━━━\u001b[0m\u001b[37m\u001b[0m \u001b[1m232s\u001b[0m 12s/step - AUC: 0.8072 - Precision: 0.6950 - Recall: 0.9607 - accuracy: 0.7825 - loss: 0.5026 - val_AUC: 0.7769 - val_Precision: 0.7444 - val_Recall: 0.8072 - val_accuracy: 0.7563 - val_loss: 0.6524\n",
      "Epoch 14/50\n",
      "\u001b[1m20/20\u001b[0m \u001b[32m━━━━━━━━━━━━━━━━━━━━\u001b[0m\u001b[37m\u001b[0m \u001b[1m230s\u001b[0m 12s/step - AUC: 0.8068 - Precision: 0.7282 - Recall: 0.9181 - accuracy: 0.8029 - loss: 0.4678 - val_AUC: 0.7787 - val_Precision: 0.7416 - val_Recall: 0.7952 - val_accuracy: 0.7500 - val_loss: 0.6670\n",
      "Epoch 15/50\n",
      "\u001b[1m20/20\u001b[0m \u001b[32m━━━━━━━━━━━━━━━━━━━━\u001b[0m\u001b[37m\u001b[0m \u001b[1m232s\u001b[0m 12s/step - AUC: 0.7930 - Precision: 0.7226 - Recall: 0.9328 - accuracy: 0.7873 - loss: 0.4539 - val_AUC: 0.7281 - val_Precision: 0.7053 - val_Recall: 0.8072 - val_accuracy: 0.7250 - val_loss: 0.8821\n",
      "Epoch 16/50\n",
      "\u001b[1m20/20\u001b[0m \u001b[32m━━━━━━━━━━━━━━━━━━━━\u001b[0m\u001b[37m\u001b[0m \u001b[1m233s\u001b[0m 12s/step - AUC: 0.8120 - Precision: 0.7367 - Recall: 0.9719 - accuracy: 0.8167 - loss: 0.4467 - val_AUC: 0.7714 - val_Precision: 0.6667 - val_Recall: 0.8434 - val_accuracy: 0.7000 - val_loss: 0.6670\n",
      "Epoch 17/50\n",
      "\u001b[1m20/20\u001b[0m \u001b[32m━━━━━━━━━━━━━━━━━━━━\u001b[0m\u001b[37m\u001b[0m \u001b[1m231s\u001b[0m 12s/step - AUC: 0.8107 - Precision: 0.7199 - Recall: 0.9624 - accuracy: 0.8037 - loss: 0.4533 - val_AUC: 0.7538 - val_Precision: 0.7419 - val_Recall: 0.8313 - val_accuracy: 0.7625 - val_loss: 0.7483\n",
      "Epoch 18/50\n",
      "\u001b[1m20/20\u001b[0m \u001b[32m━━━━━━━━━━━━━━━━━━━━\u001b[0m\u001b[37m\u001b[0m \u001b[1m232s\u001b[0m 12s/step - AUC: 0.8480 - Precision: 0.7500 - Recall: 0.9791 - accuracy: 0.8242 - loss: 0.3994 - val_AUC: 0.7415 - val_Precision: 0.6931 - val_Recall: 0.8434 - val_accuracy: 0.7250 - val_loss: 0.7792\n",
      "Epoch 19/50\n",
      "\u001b[1m20/20\u001b[0m \u001b[32m━━━━━━━━━━━━━━━━━━━━\u001b[0m\u001b[37m\u001b[0m \u001b[1m231s\u001b[0m 12s/step - AUC: 0.8427 - Precision: 0.7422 - Recall: 0.9848 - accuracy: 0.8326 - loss: 0.3839 - val_AUC: 0.7412 - val_Precision: 0.7263 - val_Recall: 0.8313 - val_accuracy: 0.7500 - val_loss: 0.9699\n",
      "Epoch 20/50\n",
      "\u001b[1m20/20\u001b[0m \u001b[32m━━━━━━━━━━━━━━━━━━━━\u001b[0m\u001b[37m\u001b[0m \u001b[1m237s\u001b[0m 12s/step - AUC: 0.8428 - Precision: 0.7236 - Recall: 0.9780 - accuracy: 0.8153 - loss: 0.4109 - val_AUC: 0.7468 - val_Precision: 0.7416 - val_Recall: 0.7952 - val_accuracy: 0.7500 - val_loss: 0.8071\n",
      "Epoch 21/50\n",
      "\u001b[1m20/20\u001b[0m \u001b[32m━━━━━━━━━━━━━━━━━━━━\u001b[0m\u001b[37m\u001b[0m \u001b[1m231s\u001b[0m 12s/step - AUC: 0.8154 - Precision: 0.7275 - Recall: 0.9765 - accuracy: 0.8126 - loss: 0.4209 - val_AUC: 0.7000 - val_Precision: 0.6863 - val_Recall: 0.8434 - val_accuracy: 0.7188 - val_loss: 0.9243\n",
      "Epoch 22/50\n",
      "\u001b[1m20/20\u001b[0m \u001b[32m━━━━━━━━━━━━━━━━━━━━\u001b[0m\u001b[37m\u001b[0m \u001b[1m231s\u001b[0m 12s/step - AUC: 0.8355 - Precision: 0.7206 - Recall: 0.9916 - accuracy: 0.8202 - loss: 0.3979 - val_AUC: 0.7515 - val_Precision: 0.7444 - val_Recall: 0.8072 - val_accuracy: 0.7563 - val_loss: 1.1340\n",
      "Epoch 23/50\n",
      "\u001b[1m20/20\u001b[0m \u001b[32m━━━━━━━━━━━━━━━━━━━━\u001b[0m\u001b[37m\u001b[0m \u001b[1m232s\u001b[0m 12s/step - AUC: 0.8440 - Precision: 0.7329 - Recall: 0.9523 - accuracy: 0.8087 - loss: 0.4356 - val_AUC: 0.7566 - val_Precision: 0.7586 - val_Recall: 0.7952 - val_accuracy: 0.7625 - val_loss: 0.7219\n",
      "Epoch 24/50\n",
      "\u001b[1m20/20\u001b[0m \u001b[32m━━━━━━━━━━━━━━━━━━━━\u001b[0m\u001b[37m\u001b[0m \u001b[1m230s\u001b[0m 12s/step - AUC: 0.8147 - Precision: 0.7404 - Recall: 0.9449 - accuracy: 0.8094 - loss: 0.4434 - val_AUC: 0.7462 - val_Precision: 0.7071 - val_Recall: 0.8434 - val_accuracy: 0.7375 - val_loss: 0.7526\n",
      "Epoch 25/50\n",
      "\u001b[1m20/20\u001b[0m \u001b[32m━━━━━━━━━━━━━━━━━━━━\u001b[0m\u001b[37m\u001b[0m \u001b[1m231s\u001b[0m 12s/step - AUC: 0.8089 - Precision: 0.7215 - Recall: 0.9746 - accuracy: 0.8082 - loss: 0.4398 - val_AUC: 0.7561 - val_Precision: 0.7128 - val_Recall: 0.8072 - val_accuracy: 0.7312 - val_loss: 0.8124\n",
      "Epoch 26/50\n",
      "\u001b[1m20/20\u001b[0m \u001b[32m━━━━━━━━━━━━━━━━━━━━\u001b[0m\u001b[37m\u001b[0m \u001b[1m232s\u001b[0m 12s/step - AUC: 0.8377 - Precision: 0.7358 - Recall: 0.9621 - accuracy: 0.8198 - loss: 0.4035 - val_AUC: 0.7213 - val_Precision: 0.7041 - val_Recall: 0.8313 - val_accuracy: 0.7312 - val_loss: 0.7559\n",
      "Epoch 27/50\n",
      "\u001b[1m20/20\u001b[0m \u001b[32m━━━━━━━━━━━━━━━━━━━━\u001b[0m\u001b[37m\u001b[0m \u001b[1m231s\u001b[0m 12s/step - AUC: 0.8452 - Precision: 0.7547 - Recall: 0.9834 - accuracy: 0.8319 - loss: 0.3912 - val_AUC: 0.7390 - val_Precision: 0.7113 - val_Recall: 0.8313 - val_accuracy: 0.7375 - val_loss: 0.8481\n",
      "Epoch 28/50\n",
      "\u001b[1m20/20\u001b[0m \u001b[32m━━━━━━━━━━━━━━━━━━━━\u001b[0m\u001b[37m\u001b[0m \u001b[1m232s\u001b[0m 12s/step - AUC: 0.8248 - Precision: 0.7335 - Recall: 0.9896 - accuracy: 0.8115 - loss: 0.4126 - val_AUC: 0.7346 - val_Precision: 0.7172 - val_Recall: 0.8554 - val_accuracy: 0.7500 - val_loss: 0.9421\n",
      "Epoch 29/50\n",
      "\u001b[1m20/20\u001b[0m \u001b[32m━━━━━━━━━━━━━━━━━━━━\u001b[0m\u001b[37m\u001b[0m \u001b[1m232s\u001b[0m 12s/step - AUC: 0.8525 - Precision: 0.7464 - Recall: 0.9865 - accuracy: 0.8257 - loss: 0.3928 - val_AUC: 0.7116 - val_Precision: 0.7245 - val_Recall: 0.8554 - val_accuracy: 0.7563 - val_loss: 0.7910\n",
      "Epoch 30/50\n",
      "\u001b[1m20/20\u001b[0m \u001b[32m━━━━━━━━━━━━━━━━━━━━\u001b[0m\u001b[37m\u001b[0m \u001b[1m230s\u001b[0m 12s/step - AUC: 0.8109 - Precision: 0.7019 - Recall: 0.9803 - accuracy: 0.7916 - loss: 0.4381 - val_AUC: 0.7304 - val_Precision: 0.7158 - val_Recall: 0.8193 - val_accuracy: 0.7375 - val_loss: 0.8497\n",
      "Epoch 31/50\n",
      "\u001b[1m20/20\u001b[0m \u001b[32m━━━━━━━━━━━━━━━━━━━━\u001b[0m\u001b[37m\u001b[0m \u001b[1m231s\u001b[0m 12s/step - AUC: 0.8406 - Precision: 0.7535 - Recall: 0.9951 - accuracy: 0.8330 - loss: 0.3870 - val_AUC: 0.7402 - val_Precision: 0.7333 - val_Recall: 0.7952 - val_accuracy: 0.7437 - val_loss: 0.9989\n",
      "Epoch 32/50\n",
      "\u001b[1m20/20\u001b[0m \u001b[32m━━━━━━━━━━━━━━━━━━━━\u001b[0m\u001b[37m\u001b[0m \u001b[1m230s\u001b[0m 12s/step - AUC: 0.8265 - Precision: 0.7267 - Recall: 0.9761 - accuracy: 0.8136 - loss: 0.4224 - val_AUC: 0.7087 - val_Precision: 0.6699 - val_Recall: 0.8313 - val_accuracy: 0.7000 - val_loss: 0.7507\n",
      "Epoch 33/50\n",
      "\u001b[1m20/20\u001b[0m \u001b[32m━━━━━━━━━━━━━━━━━━━━\u001b[0m\u001b[37m\u001b[0m \u001b[1m231s\u001b[0m 12s/step - AUC: 0.8318 - Precision: 0.6805 - Recall: 0.9817 - accuracy: 0.7898 - loss: 0.4470 - val_AUC: 0.7457 - val_Precision: 0.6869 - val_Recall: 0.8193 - val_accuracy: 0.7125 - val_loss: 0.8376\n",
      "Epoch 34/50\n",
      "\u001b[1m20/20\u001b[0m \u001b[32m━━━━━━━━━━━━━━━━━━━━\u001b[0m\u001b[37m\u001b[0m \u001b[1m230s\u001b[0m 12s/step - AUC: 0.8503 - Precision: 0.7263 - Recall: 0.9922 - accuracy: 0.8192 - loss: 0.3944 - val_AUC: 0.7023 - val_Precision: 0.6422 - val_Recall: 0.8434 - val_accuracy: 0.6750 - val_loss: 0.8530\n",
      "Epoch 35/50\n",
      "\u001b[1m20/20\u001b[0m \u001b[32m━━━━━━━━━━━━━━━━━━━━\u001b[0m\u001b[37m\u001b[0m \u001b[1m231s\u001b[0m 12s/step - AUC: 0.8386 - Precision: 0.7276 - Recall: 0.9995 - accuracy: 0.8237 - loss: 0.3877 - val_AUC: 0.7198 - val_Precision: 0.7263 - val_Recall: 0.8313 - val_accuracy: 0.7500 - val_loss: 0.9239\n",
      "Epoch 36/50\n",
      "\u001b[1m20/20\u001b[0m \u001b[32m━━━━━━━━━━━━━━━━━━━━\u001b[0m\u001b[37m\u001b[0m \u001b[1m232s\u001b[0m 12s/step - AUC: 0.8368 - Precision: 0.7799 - Recall: 0.9932 - accuracy: 0.8524 - loss: 0.3686 - val_AUC: 0.6136 - val_Precision: 0.6574 - val_Recall: 0.8554 - val_accuracy: 0.6938 - val_loss: 0.7324\n",
      "Epoch 37/50\n",
      "\u001b[1m20/20\u001b[0m \u001b[32m━━━━━━━━━━━━━━━━━━━━\u001b[0m\u001b[37m\u001b[0m \u001b[1m232s\u001b[0m 12s/step - AUC: 0.8408 - Precision: 0.7313 - Recall: 0.9771 - accuracy: 0.8155 - loss: 0.4168 - val_AUC: 0.7547 - val_Precision: 0.7204 - val_Recall: 0.8072 - val_accuracy: 0.7375 - val_loss: 0.8398\n",
      "Epoch 38/50\n",
      "\u001b[1m20/20\u001b[0m \u001b[32m━━━━━━━━━━━━━━━━━━━━\u001b[0m\u001b[37m\u001b[0m \u001b[1m231s\u001b[0m 12s/step - AUC: 0.8039 - Precision: 0.7278 - Recall: 0.9321 - accuracy: 0.8042 - loss: 0.4567 - val_AUC: 0.7273 - val_Precision: 0.7053 - val_Recall: 0.8072 - val_accuracy: 0.7250 - val_loss: 0.8798\n",
      "Epoch 39/50\n",
      "\u001b[1m20/20\u001b[0m \u001b[32m━━━━━━━━━━━━━━━━━━━━\u001b[0m\u001b[37m\u001b[0m \u001b[1m230s\u001b[0m 12s/step - AUC: 0.8568 - Precision: 0.7575 - Recall: 0.9646 - accuracy: 0.8254 - loss: 0.3897 - val_AUC: 0.6523 - val_Precision: 0.6636 - val_Recall: 0.8554 - val_accuracy: 0.7000 - val_loss: 0.7993\n",
      "Epoch 40/50\n",
      "\u001b[1m20/20\u001b[0m \u001b[32m━━━━━━━━━━━━━━━━━━━━\u001b[0m\u001b[37m\u001b[0m \u001b[1m231s\u001b[0m 12s/step - AUC: 0.8487 - Precision: 0.7711 - Recall: 0.9817 - accuracy: 0.8424 - loss: 0.3906 - val_AUC: 0.7588 - val_Precision: 0.6762 - val_Recall: 0.8554 - val_accuracy: 0.7125 - val_loss: 0.6344\n",
      "Epoch 41/50\n",
      "\u001b[1m20/20\u001b[0m \u001b[32m━━━━━━━━━━━━━━━━━━━━\u001b[0m\u001b[37m\u001b[0m \u001b[1m231s\u001b[0m 12s/step - AUC: 0.8254 - Precision: 0.7637 - Recall: 0.9509 - accuracy: 0.8253 - loss: 0.4278 - val_AUC: 0.7760 - val_Precision: 0.6822 - val_Recall: 0.8795 - val_accuracy: 0.7250 - val_loss: 0.6762\n",
      "Epoch 42/50\n",
      "\u001b[1m20/20\u001b[0m \u001b[32m━━━━━━━━━━━━━━━━━━━━\u001b[0m\u001b[37m\u001b[0m \u001b[1m230s\u001b[0m 12s/step - AUC: 0.8561 - Precision: 0.7391 - Recall: 0.9788 - accuracy: 0.8263 - loss: 0.4013 - val_AUC: 0.7765 - val_Precision: 0.7340 - val_Recall: 0.8313 - val_accuracy: 0.7563 - val_loss: 0.8331\n",
      "Epoch 43/50\n",
      "\u001b[1m20/20\u001b[0m \u001b[32m━━━━━━━━━━━━━━━━━━━━\u001b[0m\u001b[37m\u001b[0m \u001b[1m231s\u001b[0m 12s/step - AUC: 0.8345 - Precision: 0.7382 - Recall: 0.9803 - accuracy: 0.8224 - loss: 0.4099 - val_AUC: 0.7559 - val_Precision: 0.6970 - val_Recall: 0.8313 - val_accuracy: 0.7250 - val_loss: 0.7376\n",
      "Epoch 44/50\n",
      "\u001b[1m20/20\u001b[0m \u001b[32m━━━━━━━━━━━━━━━━━━━━\u001b[0m\u001b[37m\u001b[0m \u001b[1m232s\u001b[0m 12s/step - AUC: 0.8429 - Precision: 0.7334 - Recall: 0.9733 - accuracy: 0.8140 - loss: 0.4337 - val_AUC: 0.7633 - val_Precision: 0.7071 - val_Recall: 0.8434 - val_accuracy: 0.7375 - val_loss: 0.6172\n",
      "Epoch 45/50\n",
      "\u001b[1m20/20\u001b[0m \u001b[32m━━━━━━━━━━━━━━━━━━━━\u001b[0m\u001b[37m\u001b[0m \u001b[1m229s\u001b[0m 11s/step - AUC: 0.8406 - Precision: 0.7430 - Recall: 0.9820 - accuracy: 0.8243 - loss: 0.4146 - val_AUC: 0.7795 - val_Precision: 0.7474 - val_Recall: 0.8554 - val_accuracy: 0.7750 - val_loss: 0.8162\n",
      "Epoch 46/50\n",
      "\u001b[1m20/20\u001b[0m \u001b[32m━━━━━━━━━━━━━━━━━━━━\u001b[0m\u001b[37m\u001b[0m \u001b[1m229s\u001b[0m 11s/step - AUC: 0.8485 - Precision: 0.7402 - Recall: 0.9742 - accuracy: 0.8210 - loss: 0.3945 - val_AUC: 0.7745 - val_Precision: 0.7528 - val_Recall: 0.8072 - val_accuracy: 0.7625 - val_loss: 0.8391\n",
      "Epoch 47/50\n",
      "\u001b[1m20/20\u001b[0m \u001b[32m━━━━━━━━━━━━━━━━━━━━\u001b[0m\u001b[37m\u001b[0m \u001b[1m230s\u001b[0m 12s/step - AUC: 0.8099 - Precision: 0.7360 - Recall: 0.9372 - accuracy: 0.7915 - loss: 0.4827 - val_AUC: 0.7919 - val_Precision: 0.7586 - val_Recall: 0.7952 - val_accuracy: 0.7625 - val_loss: 0.7123\n",
      "Epoch 48/50\n",
      "\u001b[1m20/20\u001b[0m \u001b[32m━━━━━━━━━━━━━━━━━━━━\u001b[0m\u001b[37m\u001b[0m \u001b[1m229s\u001b[0m 11s/step - AUC: 0.8348 - Precision: 0.7372 - Recall: 0.9374 - accuracy: 0.8039 - loss: 0.4583 - val_AUC: 0.7936 - val_Precision: 0.7473 - val_Recall: 0.8193 - val_accuracy: 0.7625 - val_loss: 0.6627\n",
      "Epoch 49/50\n",
      "\u001b[1m20/20\u001b[0m \u001b[32m━━━━━━━━━━━━━━━━━━━━\u001b[0m\u001b[37m\u001b[0m \u001b[1m228s\u001b[0m 11s/step - AUC: 0.8395 - Precision: 0.7579 - Recall: 0.9395 - accuracy: 0.8222 - loss: 0.4024 - val_AUC: 0.7515 - val_Precision: 0.6796 - val_Recall: 0.8434 - val_accuracy: 0.7125 - val_loss: 0.7159\n",
      "Epoch 50/50\n",
      "\u001b[1m20/20\u001b[0m \u001b[32m━━━━━━━━━━━━━━━━━━━━\u001b[0m\u001b[37m\u001b[0m \u001b[1m227s\u001b[0m 11s/step - AUC: 0.8092 - Precision: 0.6990 - Recall: 0.9715 - accuracy: 0.7874 - loss: 0.4570 - val_AUC: 0.7583 - val_Precision: 0.7528 - val_Recall: 0.8072 - val_accuracy: 0.7625 - val_loss: 0.8659\n",
      "\u001b[1m7/7\u001b[0m \u001b[32m━━━━━━━━━━━━━━━━━━━━\u001b[0m\u001b[37m\u001b[0m \u001b[1m19s\u001b[0m 3s/step - AUC: 0.7622 - Precision: 0.7418 - Recall: 0.8332 - accuracy: 0.7533 - loss: 0.7870\n",
      "\u001b[1m7/7\u001b[0m \u001b[32m━━━━━━━━━━━━━━━━━━━━\u001b[0m\u001b[37m\u001b[0m \u001b[1m19s\u001b[0m 3s/step\n",
      "Fold 2/5\n",
      "Training fold shape: (640, 224, 224, 3)\n",
      "Validation fold shape: (160, 224, 224, 3)\n",
      "Epoch 1/50\n",
      "\u001b[1m20/20\u001b[0m \u001b[32m━━━━━━━━━━━━━━━━━━━━\u001b[0m\u001b[37m\u001b[0m \u001b[1m16002s\u001b[0m 841s/step - AUC: 0.5436 - Precision: 0.5084 - Recall: 0.5534 - accuracy: 0.5410 - loss: 1.2793 - val_AUC: 0.7738 - val_Precision: 0.6800 - val_Recall: 0.8831 - val_accuracy: 0.7437 - val_loss: 0.5776\n",
      "Epoch 2/50\n",
      "\u001b[1m20/20\u001b[0m \u001b[32m━━━━━━━━━━━━━━━━━━━━\u001b[0m\u001b[37m\u001b[0m \u001b[1m249s\u001b[0m 12s/step - AUC: 0.8031 - Precision: 0.7598 - Recall: 0.8475 - accuracy: 0.7948 - loss: 0.5144 - val_AUC: 0.7504 - val_Precision: 0.6800 - val_Recall: 0.8831 - val_accuracy: 0.7437 - val_loss: 0.6338\n",
      "Epoch 3/50\n",
      "\u001b[1m20/20\u001b[0m \u001b[32m━━━━━━━━━━━━━━━━━━━━\u001b[0m\u001b[37m\u001b[0m \u001b[1m241s\u001b[0m 12s/step - AUC: 0.7910 - Precision: 0.7653 - Recall: 0.8348 - accuracy: 0.7804 - loss: 0.5516 - val_AUC: 0.7551 - val_Precision: 0.6800 - val_Recall: 0.8831 - val_accuracy: 0.7437 - val_loss: 0.6660\n",
      "Epoch 4/50\n",
      "\u001b[1m20/20\u001b[0m \u001b[32m━━━━━━━━━━━━━━━━━━━━\u001b[0m\u001b[37m\u001b[0m \u001b[1m234s\u001b[0m 12s/step - AUC: 0.7998 - Precision: 0.7686 - Recall: 0.8612 - accuracy: 0.7972 - loss: 0.5556 - val_AUC: 0.7601 - val_Precision: 0.6800 - val_Recall: 0.8831 - val_accuracy: 0.7437 - val_loss: 0.6329\n",
      "Epoch 5/50\n",
      "\u001b[1m20/20\u001b[0m \u001b[32m━━━━━━━━━━━━━━━━━━━━\u001b[0m\u001b[37m\u001b[0m \u001b[1m238s\u001b[0m 12s/step - AUC: 0.7702 - Precision: 0.6715 - Recall: 0.8710 - accuracy: 0.7290 - loss: 0.5947 - val_AUC: 0.7885 - val_Precision: 0.6800 - val_Recall: 0.8831 - val_accuracy: 0.7437 - val_loss: 0.5726\n",
      "Epoch 6/50\n",
      "\u001b[1m20/20\u001b[0m \u001b[32m━━━━━━━━━━━━━━━━━━━━\u001b[0m\u001b[37m\u001b[0m \u001b[1m233s\u001b[0m 12s/step - AUC: 0.8198 - Precision: 0.8014 - Recall: 0.8606 - accuracy: 0.8189 - loss: 0.5069 - val_AUC: 0.7578 - val_Precision: 0.6800 - val_Recall: 0.8831 - val_accuracy: 0.7437 - val_loss: 0.5513\n",
      "Epoch 7/50\n",
      "\u001b[1m20/20\u001b[0m \u001b[32m━━━━━━━━━━━━━━━━━━━━\u001b[0m\u001b[37m\u001b[0m \u001b[1m233s\u001b[0m 12s/step - AUC: 0.8162 - Precision: 0.7626 - Recall: 0.8268 - accuracy: 0.7844 - loss: 0.5060 - val_AUC: 0.7519 - val_Precision: 0.6733 - val_Recall: 0.8831 - val_accuracy: 0.7375 - val_loss: 0.5687\n",
      "Epoch 8/50\n",
      "\u001b[1m20/20\u001b[0m \u001b[32m━━━━━━━━━━━━━━━━━━━━\u001b[0m\u001b[37m\u001b[0m \u001b[1m235s\u001b[0m 12s/step - AUC: 0.7865 - Precision: 0.7441 - Recall: 0.8795 - accuracy: 0.7894 - loss: 0.5138 - val_AUC: 0.7497 - val_Precision: 0.6796 - val_Recall: 0.9091 - val_accuracy: 0.7500 - val_loss: 0.5882\n",
      "Epoch 9/50\n",
      "\u001b[1m20/20\u001b[0m \u001b[32m━━━━━━━━━━━━━━━━━━━━\u001b[0m\u001b[37m\u001b[0m \u001b[1m234s\u001b[0m 12s/step - AUC: 0.8001 - Precision: 0.7073 - Recall: 0.8640 - accuracy: 0.7793 - loss: 0.5123 - val_AUC: 0.7598 - val_Precision: 0.6733 - val_Recall: 0.8831 - val_accuracy: 0.7375 - val_loss: 0.5675\n",
      "Epoch 10/50\n",
      "\u001b[1m20/20\u001b[0m \u001b[32m━━━━━━━━━━━━━━━━━━━━\u001b[0m\u001b[37m\u001b[0m \u001b[1m234s\u001b[0m 12s/step - AUC: 0.8341 - Precision: 0.7345 - Recall: 0.9437 - accuracy: 0.8053 - loss: 0.4554 - val_AUC: 0.7703 - val_Precision: 0.6800 - val_Recall: 0.8831 - val_accuracy: 0.7437 - val_loss: 0.5778\n",
      "Epoch 11/50\n",
      "\u001b[1m20/20\u001b[0m \u001b[32m━━━━━━━━━━━━━━━━━━━━\u001b[0m\u001b[37m\u001b[0m \u001b[1m234s\u001b[0m 12s/step - AUC: 0.8245 - Precision: 0.7320 - Recall: 0.8873 - accuracy: 0.7915 - loss: 0.4790 - val_AUC: 0.7849 - val_Precision: 0.6602 - val_Recall: 0.8831 - val_accuracy: 0.7250 - val_loss: 0.5833\n",
      "Epoch 12/50\n",
      "\u001b[1m20/20\u001b[0m \u001b[32m━━━━━━━━━━━━━━━━━━━━\u001b[0m\u001b[37m\u001b[0m \u001b[1m251s\u001b[0m 13s/step - AUC: 0.8692 - Precision: 0.7917 - Recall: 0.9315 - accuracy: 0.8460 - loss: 0.3939 - val_AUC: 0.7585 - val_Precision: 0.6373 - val_Recall: 0.8442 - val_accuracy: 0.6938 - val_loss: 0.6196\n",
      "Epoch 13/50\n",
      "\u001b[1m20/20\u001b[0m \u001b[32m━━━━━━━━━━━━━━━━━━━━\u001b[0m\u001b[37m\u001b[0m \u001b[1m250s\u001b[0m 13s/step - AUC: 0.8215 - Precision: 0.7544 - Recall: 0.9215 - accuracy: 0.8135 - loss: 0.4713 - val_AUC: 0.7618 - val_Precision: 0.6667 - val_Recall: 0.8831 - val_accuracy: 0.7312 - val_loss: 0.6608\n",
      "Epoch 14/50\n",
      "\u001b[1m20/20\u001b[0m \u001b[32m━━━━━━━━━━━━━━━━━━━━\u001b[0m\u001b[37m\u001b[0m \u001b[1m237s\u001b[0m 12s/step - AUC: 0.8204 - Precision: 0.7796 - Recall: 0.9404 - accuracy: 0.8305 - loss: 0.4396 - val_AUC: 0.7190 - val_Precision: 0.6667 - val_Recall: 0.8831 - val_accuracy: 0.7312 - val_loss: 0.7081\n",
      "Epoch 15/50\n",
      "\u001b[1m20/20\u001b[0m \u001b[32m━━━━━━━━━━━━━━━━━━━━\u001b[0m\u001b[37m\u001b[0m \u001b[1m243s\u001b[0m 12s/step - AUC: 0.8570 - Precision: 0.7595 - Recall: 0.9548 - accuracy: 0.8303 - loss: 0.3995 - val_AUC: 0.7425 - val_Precision: 0.6538 - val_Recall: 0.8831 - val_accuracy: 0.7188 - val_loss: 0.6824\n",
      "Epoch 16/50\n",
      "\u001b[1m20/20\u001b[0m \u001b[32m━━━━━━━━━━━━━━━━━━━━\u001b[0m\u001b[37m\u001b[0m \u001b[1m240s\u001b[0m 12s/step - AUC: 0.8295 - Precision: 0.7381 - Recall: 0.9292 - accuracy: 0.8041 - loss: 0.4754 - val_AUC: 0.7502 - val_Precision: 0.6800 - val_Recall: 0.8831 - val_accuracy: 0.7437 - val_loss: 0.6384\n",
      "Epoch 17/50\n",
      "\u001b[1m20/20\u001b[0m \u001b[32m━━━━━━━━━━━━━━━━━━━━\u001b[0m\u001b[37m\u001b[0m \u001b[1m249s\u001b[0m 12s/step - AUC: 0.7995 - Precision: 0.7433 - Recall: 0.8724 - accuracy: 0.7860 - loss: 0.5313 - val_AUC: 0.7620 - val_Precision: 0.6733 - val_Recall: 0.8831 - val_accuracy: 0.7375 - val_loss: 0.5691\n",
      "Epoch 18/50\n",
      "\u001b[1m20/20\u001b[0m \u001b[32m━━━━━━━━━━━━━━━━━━━━\u001b[0m\u001b[37m\u001b[0m \u001b[1m234s\u001b[0m 12s/step - AUC: 0.7946 - Precision: 0.7398 - Recall: 0.8457 - accuracy: 0.7714 - loss: 0.5340 - val_AUC: 0.7579 - val_Precision: 0.6481 - val_Recall: 0.9091 - val_accuracy: 0.7188 - val_loss: 0.6978\n",
      "Epoch 19/50\n",
      "\u001b[1m20/20\u001b[0m \u001b[32m━━━━━━━━━━━━━━━━━━━━\u001b[0m\u001b[37m\u001b[0m \u001b[1m243s\u001b[0m 12s/step - AUC: 0.8232 - Precision: 0.7550 - Recall: 0.8783 - accuracy: 0.7958 - loss: 0.4871 - val_AUC: 0.7394 - val_Precision: 0.6733 - val_Recall: 0.8831 - val_accuracy: 0.7375 - val_loss: 0.6065\n",
      "Epoch 20/50\n",
      "\u001b[1m20/20\u001b[0m \u001b[32m━━━━━━━━━━━━━━━━━━━━\u001b[0m\u001b[37m\u001b[0m \u001b[1m247s\u001b[0m 12s/step - AUC: 0.8269 - Precision: 0.7348 - Recall: 0.9126 - accuracy: 0.8001 - loss: 0.4524 - val_AUC: 0.7504 - val_Precision: 0.6476 - val_Recall: 0.8831 - val_accuracy: 0.7125 - val_loss: 0.6634\n",
      "Epoch 21/50\n",
      "\u001b[1m20/20\u001b[0m \u001b[32m━━━━━━━━━━━━━━━━━━━━\u001b[0m\u001b[37m\u001b[0m \u001b[1m248s\u001b[0m 12s/step - AUC: 0.8331 - Precision: 0.7509 - Recall: 0.9241 - accuracy: 0.8114 - loss: 0.4486 - val_AUC: 0.7285 - val_Precision: 0.6571 - val_Recall: 0.8961 - val_accuracy: 0.7250 - val_loss: 0.6028\n",
      "Epoch 22/50\n",
      "\u001b[1m20/20\u001b[0m \u001b[32m━━━━━━━━━━━━━━━━━━━━\u001b[0m\u001b[37m\u001b[0m \u001b[1m250s\u001b[0m 12s/step - AUC: 0.7878 - Precision: 0.7052 - Recall: 0.9086 - accuracy: 0.7720 - loss: 0.5191 - val_AUC: 0.7345 - val_Precision: 0.5820 - val_Recall: 0.9221 - val_accuracy: 0.6438 - val_loss: 0.7295\n",
      "Epoch 23/50\n",
      "\u001b[1m20/20\u001b[0m \u001b[32m━━━━━━━━━━━━━━━━━━━━\u001b[0m\u001b[37m\u001b[0m \u001b[1m248s\u001b[0m 12s/step - AUC: 0.7802 - Precision: 0.7107 - Recall: 0.9066 - accuracy: 0.7642 - loss: 0.5433 - val_AUC: 0.7450 - val_Precision: 0.6538 - val_Recall: 0.8831 - val_accuracy: 0.7188 - val_loss: 0.6160\n",
      "Epoch 24/50\n",
      "\u001b[1m20/20\u001b[0m \u001b[32m━━━━━━━━━━━━━━━━━━━━\u001b[0m\u001b[37m\u001b[0m \u001b[1m248s\u001b[0m 12s/step - AUC: 0.8079 - Precision: 0.7330 - Recall: 0.8860 - accuracy: 0.7825 - loss: 0.4987 - val_AUC: 0.7532 - val_Precision: 0.6372 - val_Recall: 0.9351 - val_accuracy: 0.7125 - val_loss: 0.6400\n",
      "Epoch 25/50\n",
      "\u001b[1m20/20\u001b[0m \u001b[32m━━━━━━━━━━━━━━━━━━━━\u001b[0m\u001b[37m\u001b[0m \u001b[1m247s\u001b[0m 12s/step - AUC: 0.8128 - Precision: 0.7684 - Recall: 0.9089 - accuracy: 0.8153 - loss: 0.4834 - val_AUC: 0.7673 - val_Precision: 0.6800 - val_Recall: 0.8831 - val_accuracy: 0.7437 - val_loss: 0.5644\n",
      "Epoch 26/50\n",
      "\u001b[1m20/20\u001b[0m \u001b[32m━━━━━━━━━━━━━━━━━━━━\u001b[0m\u001b[37m\u001b[0m \u001b[1m263s\u001b[0m 13s/step - AUC: 0.8177 - Precision: 0.7585 - Recall: 0.8729 - accuracy: 0.7959 - loss: 0.4950 - val_AUC: 0.7409 - val_Precision: 0.6733 - val_Recall: 0.8831 - val_accuracy: 0.7375 - val_loss: 0.5668\n",
      "Epoch 27/50\n",
      "\u001b[1m20/20\u001b[0m \u001b[32m━━━━━━━━━━━━━━━━━━━━\u001b[0m\u001b[37m\u001b[0m \u001b[1m244s\u001b[0m 12s/step - AUC: 0.8353 - Precision: 0.7608 - Recall: 0.8794 - accuracy: 0.8001 - loss: 0.4749 - val_AUC: 0.7500 - val_Precision: 0.6800 - val_Recall: 0.8831 - val_accuracy: 0.7437 - val_loss: 0.5571\n",
      "Epoch 28/50\n",
      "\u001b[1m20/20\u001b[0m \u001b[32m━━━━━━━━━━━━━━━━━━━━\u001b[0m\u001b[37m\u001b[0m \u001b[1m252s\u001b[0m 13s/step - AUC: 0.8171 - Precision: 0.7458 - Recall: 0.8737 - accuracy: 0.7826 - loss: 0.4854 - val_AUC: 0.7403 - val_Precision: 0.6800 - val_Recall: 0.8831 - val_accuracy: 0.7437 - val_loss: 0.5820\n",
      "Epoch 29/50\n",
      "\u001b[1m20/20\u001b[0m \u001b[32m━━━━━━━━━━━━━━━━━━━━\u001b[0m\u001b[37m\u001b[0m \u001b[1m275s\u001b[0m 14s/step - AUC: 0.8186 - Precision: 0.7706 - Recall: 0.9241 - accuracy: 0.8133 - loss: 0.4615 - val_AUC: 0.7475 - val_Precision: 0.6571 - val_Recall: 0.8961 - val_accuracy: 0.7250 - val_loss: 0.6174\n",
      "Epoch 30/50\n",
      "\u001b[1m20/20\u001b[0m \u001b[32m━━━━━━━━━━━━━━━━━━━━\u001b[0m\u001b[37m\u001b[0m \u001b[1m253s\u001b[0m 13s/step - AUC: 0.8083 - Precision: 0.7689 - Recall: 0.9599 - accuracy: 0.8258 - loss: 0.4220 - val_AUC: 0.7446 - val_Precision: 0.5932 - val_Recall: 0.9091 - val_accuracy: 0.6562 - val_loss: 0.6553\n",
      "Epoch 31/50\n",
      "\u001b[1m20/20\u001b[0m \u001b[32m━━━━━━━━━━━━━━━━━━━━\u001b[0m\u001b[37m\u001b[0m \u001b[1m261s\u001b[0m 13s/step - AUC: 0.8452 - Precision: 0.7426 - Recall: 0.9529 - accuracy: 0.8187 - loss: 0.4316 - val_AUC: 0.7509 - val_Precision: 0.6800 - val_Recall: 0.8831 - val_accuracy: 0.7437 - val_loss: 0.6717\n",
      "Epoch 32/50\n",
      "\u001b[1m20/20\u001b[0m \u001b[32m━━━━━━━━━━━━━━━━━━━━\u001b[0m\u001b[37m\u001b[0m \u001b[1m259s\u001b[0m 13s/step - AUC: 0.8040 - Precision: 0.7559 - Recall: 0.8625 - accuracy: 0.7910 - loss: 0.5330 - val_AUC: 0.7586 - val_Precision: 0.6050 - val_Recall: 0.9351 - val_accuracy: 0.6750 - val_loss: 0.6044\n",
      "Epoch 33/50\n",
      "\u001b[1m20/20\u001b[0m \u001b[32m━━━━━━━━━━━━━━━━━━━━\u001b[0m\u001b[37m\u001b[0m \u001b[1m253s\u001b[0m 13s/step - AUC: 0.8060 - Precision: 0.7462 - Recall: 0.9481 - accuracy: 0.8141 - loss: 0.4674 - val_AUC: 0.7400 - val_Precision: 0.6667 - val_Recall: 0.8831 - val_accuracy: 0.7312 - val_loss: 0.7024\n",
      "Epoch 34/50\n",
      "\u001b[1m20/20\u001b[0m \u001b[32m━━━━━━━━━━━━━━━━━━━━\u001b[0m\u001b[37m\u001b[0m \u001b[1m254s\u001b[0m 13s/step - AUC: 0.8151 - Precision: 0.7224 - Recall: 0.8732 - accuracy: 0.7754 - loss: 0.5477 - val_AUC: 0.7535 - val_Precision: 0.6364 - val_Recall: 0.9091 - val_accuracy: 0.7063 - val_loss: 0.6160\n",
      "Epoch 35/50\n",
      "\u001b[1m20/20\u001b[0m \u001b[32m━━━━━━━━━━━━━━━━━━━━\u001b[0m\u001b[37m\u001b[0m \u001b[1m268s\u001b[0m 13s/step - AUC: 0.8228 - Precision: 0.7348 - Recall: 0.9380 - accuracy: 0.8077 - loss: 0.4261 - val_AUC: 0.7439 - val_Precision: 0.6034 - val_Recall: 0.9091 - val_accuracy: 0.6687 - val_loss: 0.6796\n",
      "Epoch 36/50\n",
      "\u001b[1m20/20\u001b[0m \u001b[32m━━━━━━━━━━━━━━━━━━━━\u001b[0m\u001b[37m\u001b[0m \u001b[1m257s\u001b[0m 13s/step - AUC: 0.8371 - Precision: 0.7684 - Recall: 0.9755 - accuracy: 0.8439 - loss: 0.3844 - val_AUC: 0.7494 - val_Precision: 0.6250 - val_Recall: 0.9091 - val_accuracy: 0.6938 - val_loss: 0.6518\n",
      "Epoch 37/50\n",
      "\u001b[1m20/20\u001b[0m \u001b[32m━━━━━━━━━━━━━━━━━━━━\u001b[0m\u001b[37m\u001b[0m \u001b[1m233s\u001b[0m 12s/step - AUC: 0.8261 - Precision: 0.7198 - Recall: 0.9311 - accuracy: 0.7973 - loss: 0.4259 - val_AUC: 0.7473 - val_Precision: 0.6604 - val_Recall: 0.9091 - val_accuracy: 0.7312 - val_loss: 0.6641\n",
      "Epoch 38/50\n",
      "\u001b[1m20/20\u001b[0m \u001b[32m━━━━━━━━━━━━━━━━━━━━\u001b[0m\u001b[37m\u001b[0m \u001b[1m237s\u001b[0m 12s/step - AUC: 0.8194 - Precision: 0.7300 - Recall: 0.9672 - accuracy: 0.8169 - loss: 0.4413 - val_AUC: 0.7422 - val_Precision: 0.6422 - val_Recall: 0.9091 - val_accuracy: 0.7125 - val_loss: 0.6237\n",
      "Epoch 39/50\n",
      "\u001b[1m20/20\u001b[0m \u001b[32m━━━━━━━━━━━━━━━━━━━━\u001b[0m\u001b[37m\u001b[0m \u001b[1m233s\u001b[0m 12s/step - AUC: 0.8497 - Precision: 0.7726 - Recall: 0.9215 - accuracy: 0.8286 - loss: 0.4257 - val_AUC: 0.7740 - val_Precision: 0.6571 - val_Recall: 0.8961 - val_accuracy: 0.7250 - val_loss: 0.5579\n",
      "Epoch 40/50\n",
      "\u001b[1m20/20\u001b[0m \u001b[32m━━━━━━━━━━━━━━━━━━━━\u001b[0m\u001b[37m\u001b[0m \u001b[1m236s\u001b[0m 12s/step - AUC: 0.7994 - Precision: 0.7416 - Recall: 0.8769 - accuracy: 0.7803 - loss: 0.5155 - val_AUC: 0.7432 - val_Precision: 0.6800 - val_Recall: 0.8831 - val_accuracy: 0.7437 - val_loss: 0.5566\n",
      "Epoch 41/50\n",
      "\u001b[1m20/20\u001b[0m \u001b[32m━━━━━━━━━━━━━━━━━━━━\u001b[0m\u001b[37m\u001b[0m \u001b[1m286s\u001b[0m 14s/step - AUC: 0.7836 - Precision: 0.7309 - Recall: 0.8668 - accuracy: 0.7789 - loss: 0.5391 - val_AUC: 0.7381 - val_Precision: 0.6800 - val_Recall: 0.8831 - val_accuracy: 0.7437 - val_loss: 0.5674\n",
      "Epoch 42/50\n",
      "\u001b[1m20/20\u001b[0m \u001b[32m━━━━━━━━━━━━━━━━━━━━\u001b[0m\u001b[37m\u001b[0m \u001b[1m313s\u001b[0m 15s/step - AUC: 0.8119 - Precision: 0.7515 - Recall: 0.8781 - accuracy: 0.8034 - loss: 0.4810 - val_AUC: 0.7598 - val_Precision: 0.6667 - val_Recall: 0.8831 - val_accuracy: 0.7312 - val_loss: 0.5754\n",
      "Epoch 43/50\n",
      "\u001b[1m20/20\u001b[0m \u001b[32m━━━━━━━━━━━━━━━━━━━━\u001b[0m\u001b[37m\u001b[0m \u001b[1m235s\u001b[0m 12s/step - AUC: 0.7780 - Precision: 0.7262 - Recall: 0.8486 - accuracy: 0.7687 - loss: 0.5362 - val_AUC: 0.7512 - val_Precision: 0.6733 - val_Recall: 0.8831 - val_accuracy: 0.7375 - val_loss: 0.6068\n",
      "Epoch 44/50\n",
      "\u001b[1m20/20\u001b[0m \u001b[32m━━━━━━━━━━━━━━━━━━━━\u001b[0m\u001b[37m\u001b[0m \u001b[1m231s\u001b[0m 12s/step - AUC: 0.7895 - Precision: 0.7418 - Recall: 0.8466 - accuracy: 0.7625 - loss: 0.5370 - val_AUC: 0.7488 - val_Precision: 0.6804 - val_Recall: 0.8571 - val_accuracy: 0.7375 - val_loss: 0.6001\n",
      "Epoch 45/50\n",
      "\u001b[1m20/20\u001b[0m \u001b[32m━━━━━━━━━━━━━━━━━━━━\u001b[0m\u001b[37m\u001b[0m \u001b[1m231s\u001b[0m 12s/step - AUC: 0.8049 - Precision: 0.7540 - Recall: 0.8285 - accuracy: 0.7739 - loss: 0.5234 - val_AUC: 0.7337 - val_Precision: 0.6700 - val_Recall: 0.8701 - val_accuracy: 0.7312 - val_loss: 0.5926\n",
      "Epoch 46/50\n",
      "\u001b[1m20/20\u001b[0m \u001b[32m━━━━━━━━━━━━━━━━━━━━\u001b[0m\u001b[37m\u001b[0m \u001b[1m236s\u001b[0m 12s/step - AUC: 0.7970 - Precision: 0.7381 - Recall: 0.8380 - accuracy: 0.7719 - loss: 0.5208 - val_AUC: 0.7464 - val_Precision: 0.6593 - val_Recall: 0.7792 - val_accuracy: 0.7000 - val_loss: 0.6217\n",
      "Epoch 47/50\n",
      "\u001b[1m20/20\u001b[0m \u001b[32m━━━━━━━━━━━━━━━━━━━━\u001b[0m\u001b[37m\u001b[0m \u001b[1m241s\u001b[0m 12s/step - AUC: 0.7805 - Precision: 0.7464 - Recall: 0.8310 - accuracy: 0.7645 - loss: 0.5357 - val_AUC: 0.7481 - val_Precision: 0.6818 - val_Recall: 0.7792 - val_accuracy: 0.7188 - val_loss: 0.6099\n",
      "Epoch 48/50\n",
      "\u001b[1m20/20\u001b[0m \u001b[32m━━━━━━━━━━━━━━━━━━━━\u001b[0m\u001b[37m\u001b[0m \u001b[1m290s\u001b[0m 15s/step - AUC: 0.7967 - Precision: 0.7626 - Recall: 0.7989 - accuracy: 0.7705 - loss: 0.5281 - val_AUC: 0.7427 - val_Precision: 0.6771 - val_Recall: 0.8442 - val_accuracy: 0.7312 - val_loss: 0.5717\n",
      "Epoch 49/50\n",
      "\u001b[1m20/20\u001b[0m \u001b[32m━━━━━━━━━━━━━━━━━━━━\u001b[0m\u001b[37m\u001b[0m \u001b[1m256s\u001b[0m 13s/step - AUC: 0.8151 - Precision: 0.7657 - Recall: 0.8282 - accuracy: 0.7844 - loss: 0.5144 - val_AUC: 0.7427 - val_Precision: 0.6701 - val_Recall: 0.8442 - val_accuracy: 0.7250 - val_loss: 0.5820\n",
      "Epoch 50/50\n",
      "\u001b[1m20/20\u001b[0m \u001b[32m━━━━━━━━━━━━━━━━━━━━\u001b[0m\u001b[37m\u001b[0m \u001b[1m326s\u001b[0m 16s/step - AUC: 0.8009 - Precision: 0.7406 - Recall: 0.8437 - accuracy: 0.7807 - loss: 0.5131 - val_AUC: 0.7504 - val_Precision: 0.6768 - val_Recall: 0.8701 - val_accuracy: 0.7375 - val_loss: 0.5674\n",
      "\u001b[1m7/7\u001b[0m \u001b[32m━━━━━━━━━━━━━━━━━━━━\u001b[0m\u001b[37m\u001b[0m \u001b[1m48s\u001b[0m 7s/step - AUC: 0.7350 - Precision: 0.7205 - Recall: 0.8139 - accuracy: 0.7286 - loss: 0.6013\n",
      "\u001b[1m7/7\u001b[0m \u001b[32m━━━━━━━━━━━━━━━━━━━━\u001b[0m\u001b[37m\u001b[0m \u001b[1m47s\u001b[0m 6s/step\n",
      "Fold 3/5\n",
      "Training fold shape: (640, 224, 224, 3)\n",
      "Validation fold shape: (160, 224, 224, 3)\n",
      "Epoch 1/50\n",
      "\u001b[1m20/20\u001b[0m \u001b[32m━━━━━━━━━━━━━━━━━━━━\u001b[0m\u001b[37m\u001b[0m \u001b[1m513s\u001b[0m 24s/step - AUC: 0.4700 - Precision: 0.4339 - Recall: 0.4386 - accuracy: 0.4898 - loss: 1.4693 - val_AUC: 0.7520 - val_Precision: 0.6628 - val_Recall: 0.8143 - val_accuracy: 0.7375 - val_loss: 0.6325\n",
      "Epoch 2/50\n",
      "\u001b[1m20/20\u001b[0m \u001b[32m━━━━━━━━━━━━━━━━━━━━\u001b[0m\u001b[37m\u001b[0m \u001b[1m504s\u001b[0m 25s/step - AUC: 0.7463 - Precision: 0.6826 - Recall: 0.7960 - accuracy: 0.6933 - loss: 0.6066 - val_AUC: 0.8019 - val_Precision: 0.6628 - val_Recall: 0.8143 - val_accuracy: 0.7375 - val_loss: 0.5714\n",
      "Epoch 3/50\n",
      "\u001b[1m20/20\u001b[0m \u001b[32m━━━━━━━━━━━━━━━━━━━━\u001b[0m\u001b[37m\u001b[0m \u001b[1m491s\u001b[0m 25s/step - AUC: 0.7754 - Precision: 0.7641 - Recall: 0.8298 - accuracy: 0.7753 - loss: 0.5618 - val_AUC: 0.7703 - val_Precision: 0.6588 - val_Recall: 0.8000 - val_accuracy: 0.7312 - val_loss: 0.5990\n",
      "Epoch 4/50\n",
      "\u001b[1m20/20\u001b[0m \u001b[32m━━━━━━━━━━━━━━━━━━━━\u001b[0m\u001b[37m\u001b[0m \u001b[1m566s\u001b[0m 29s/step - AUC: 0.8144 - Precision: 0.7912 - Recall: 0.8742 - accuracy: 0.8120 - loss: 0.5186 - val_AUC: 0.7624 - val_Precision: 0.6628 - val_Recall: 0.8143 - val_accuracy: 0.7375 - val_loss: 0.5557\n",
      "Epoch 5/50\n",
      "\u001b[1m20/20\u001b[0m \u001b[32m━━━━━━━━━━━━━━━━━━━━\u001b[0m\u001b[37m\u001b[0m \u001b[1m447s\u001b[0m 22s/step - AUC: 0.8265 - Precision: 0.7648 - Recall: 0.8683 - accuracy: 0.7942 - loss: 0.4851 - val_AUC: 0.7572 - val_Precision: 0.6667 - val_Recall: 0.8286 - val_accuracy: 0.7437 - val_loss: 0.6324\n",
      "Epoch 6/50\n",
      "\u001b[1m20/20\u001b[0m \u001b[32m━━━━━━━━━━━━━━━━━━━━\u001b[0m\u001b[37m\u001b[0m \u001b[1m473s\u001b[0m 24s/step - AUC: 0.8127 - Precision: 0.7461 - Recall: 0.9119 - accuracy: 0.8033 - loss: 0.4507 - val_AUC: 0.7631 - val_Precision: 0.6517 - val_Recall: 0.8286 - val_accuracy: 0.7312 - val_loss: 0.7308\n",
      "Epoch 7/50\n",
      "\u001b[1m20/20\u001b[0m \u001b[32m━━━━━━━━━━━━━━━━━━━━\u001b[0m\u001b[37m\u001b[0m \u001b[1m323s\u001b[0m 16s/step - AUC: 0.8420 - Precision: 0.7648 - Recall: 0.8941 - accuracy: 0.8142 - loss: 0.4775 - val_AUC: 0.7513 - val_Precision: 0.5203 - val_Recall: 0.9143 - val_accuracy: 0.5938 - val_loss: 0.8278\n",
      "Epoch 8/50\n",
      "\u001b[1m20/20\u001b[0m \u001b[32m━━━━━━━━━━━━━━━━━━━━\u001b[0m\u001b[37m\u001b[0m \u001b[1m254s\u001b[0m 13s/step - AUC: 0.8311 - Precision: 0.7691 - Recall: 0.9602 - accuracy: 0.8268 - loss: 0.4657 - val_AUC: 0.7534 - val_Precision: 0.6588 - val_Recall: 0.8000 - val_accuracy: 0.7312 - val_loss: 0.6488\n",
      "Epoch 9/50\n",
      "\u001b[1m20/20\u001b[0m \u001b[32m━━━━━━━━━━━━━━━━━━━━\u001b[0m\u001b[37m\u001b[0m \u001b[1m253s\u001b[0m 13s/step - AUC: 0.8463 - Precision: 0.7812 - Recall: 0.9427 - accuracy: 0.8382 - loss: 0.3987 - val_AUC: 0.7627 - val_Precision: 0.5962 - val_Recall: 0.8857 - val_accuracy: 0.6875 - val_loss: 0.7335\n",
      "Epoch 10/50\n",
      "\u001b[1m20/20\u001b[0m \u001b[32m━━━━━━━━━━━━━━━━━━━━\u001b[0m\u001b[37m\u001b[0m \u001b[1m251s\u001b[0m 13s/step - AUC: 0.8208 - Precision: 0.7458 - Recall: 0.9499 - accuracy: 0.8056 - loss: 0.4511 - val_AUC: 0.7698 - val_Precision: 0.6404 - val_Recall: 0.8143 - val_accuracy: 0.7188 - val_loss: 0.7816\n",
      "Epoch 11/50\n",
      "\u001b[1m20/20\u001b[0m \u001b[32m━━━━━━━━━━━━━━━━━━━━\u001b[0m\u001b[37m\u001b[0m \u001b[1m251s\u001b[0m 13s/step - AUC: 0.7973 - Precision: 0.7375 - Recall: 0.9582 - accuracy: 0.8073 - loss: 0.4710 - val_AUC: 0.7460 - val_Precision: 0.6211 - val_Recall: 0.8429 - val_accuracy: 0.7063 - val_loss: 0.6749\n",
      "Epoch 12/50\n",
      "\u001b[1m20/20\u001b[0m \u001b[32m━━━━━━━━━━━━━━━━━━━━\u001b[0m\u001b[37m\u001b[0m \u001b[1m250s\u001b[0m 13s/step - AUC: 0.7942 - Precision: 0.7389 - Recall: 0.9595 - accuracy: 0.8099 - loss: 0.4718 - val_AUC: 0.7234 - val_Precision: 0.6628 - val_Recall: 0.8143 - val_accuracy: 0.7375 - val_loss: 0.6624\n",
      "Epoch 13/50\n",
      "\u001b[1m20/20\u001b[0m \u001b[32m━━━━━━━━━━━━━━━━━━━━\u001b[0m\u001b[37m\u001b[0m \u001b[1m252s\u001b[0m 13s/step - AUC: 0.7889 - Precision: 0.6999 - Recall: 0.6555 - accuracy: 0.6867 - loss: 0.5347 - val_AUC: 0.7413 - val_Precision: 0.0000e+00 - val_Recall: 0.0000e+00 - val_accuracy: 0.5625 - val_loss: 0.6756\n",
      "Epoch 14/50\n",
      "\u001b[1m20/20\u001b[0m \u001b[32m━━━━━━━━━━━━━━━━━━━━\u001b[0m\u001b[37m\u001b[0m \u001b[1m250s\u001b[0m 12s/step - AUC: 0.8159 - Precision: 0.7066 - Recall: 0.6685 - accuracy: 0.7148 - loss: 0.5179 - val_AUC: 0.7507 - val_Precision: 0.6444 - val_Recall: 0.8286 - val_accuracy: 0.7250 - val_loss: 0.6052\n",
      "Epoch 15/50\n",
      "\u001b[1m20/20\u001b[0m \u001b[32m━━━━━━━━━━━━━━━━━━━━\u001b[0m\u001b[37m\u001b[0m \u001b[1m255s\u001b[0m 13s/step - AUC: 0.8351 - Precision: 0.7563 - Recall: 0.8854 - accuracy: 0.8108 - loss: 0.4877 - val_AUC: 0.7327 - val_Precision: 0.6588 - val_Recall: 0.8000 - val_accuracy: 0.7312 - val_loss: 0.6462\n",
      "Epoch 16/50\n",
      "\u001b[1m20/20\u001b[0m \u001b[32m━━━━━━━━━━━━━━━━━━━━\u001b[0m\u001b[37m\u001b[0m \u001b[1m252s\u001b[0m 13s/step - AUC: 0.8149 - Precision: 0.7578 - Recall: 0.9094 - accuracy: 0.7937 - loss: 0.4969 - val_AUC: 0.7389 - val_Precision: 0.6082 - val_Recall: 0.8429 - val_accuracy: 0.6938 - val_loss: 0.7193\n",
      "Epoch 17/50\n",
      "\u001b[1m20/20\u001b[0m \u001b[32m━━━━━━━━━━━━━━━━━━━━\u001b[0m\u001b[37m\u001b[0m \u001b[1m250s\u001b[0m 13s/step - AUC: 0.7876 - Precision: 0.7216 - Recall: 0.9522 - accuracy: 0.8005 - loss: 0.4547 - val_AUC: 0.7030 - val_Precision: 0.6477 - val_Recall: 0.8143 - val_accuracy: 0.7250 - val_loss: 0.8693\n",
      "Epoch 18/50\n",
      "\u001b[1m20/20\u001b[0m \u001b[32m━━━━━━━━━━━━━━━━━━━━\u001b[0m\u001b[37m\u001b[0m \u001b[1m250s\u001b[0m 13s/step - AUC: 0.8307 - Precision: 0.7821 - Recall: 0.9593 - accuracy: 0.8382 - loss: 0.3845 - val_AUC: 0.7371 - val_Precision: 0.6264 - val_Recall: 0.8143 - val_accuracy: 0.7063 - val_loss: 0.9299\n",
      "Epoch 19/50\n",
      "\u001b[1m20/20\u001b[0m \u001b[32m━━━━━━━━━━━━━━━━━━━━\u001b[0m\u001b[37m\u001b[0m \u001b[1m251s\u001b[0m 13s/step - AUC: 0.8342 - Precision: 0.7650 - Recall: 0.9768 - accuracy: 0.8372 - loss: 0.4009 - val_AUC: 0.6973 - val_Precision: 0.6264 - val_Recall: 0.8143 - val_accuracy: 0.7063 - val_loss: 0.7328\n",
      "Epoch 20/50\n",
      "\u001b[1m20/20\u001b[0m \u001b[32m━━━━━━━━━━━━━━━━━━━━\u001b[0m\u001b[37m\u001b[0m \u001b[1m250s\u001b[0m 13s/step - AUC: 0.8085 - Precision: 0.7076 - Recall: 0.9333 - accuracy: 0.7710 - loss: 0.5063 - val_AUC: 0.7098 - val_Precision: 0.5957 - val_Recall: 0.8000 - val_accuracy: 0.6750 - val_loss: 0.7647\n",
      "Epoch 21/50\n",
      "\u001b[1m20/20\u001b[0m \u001b[32m━━━━━━━━━━━━━━━━━━━━\u001b[0m\u001b[37m\u001b[0m \u001b[1m250s\u001b[0m 13s/step - AUC: 0.7961 - Precision: 0.7541 - Recall: 0.9674 - accuracy: 0.8215 - loss: 0.4585 - val_AUC: 0.6913 - val_Precision: 0.5588 - val_Recall: 0.8143 - val_accuracy: 0.6375 - val_loss: 0.8109\n",
      "Epoch 22/50\n",
      "\u001b[1m20/20\u001b[0m \u001b[32m━━━━━━━━━━━━━━━━━━━━\u001b[0m\u001b[37m\u001b[0m \u001b[1m253s\u001b[0m 13s/step - AUC: 0.8275 - Precision: 0.7816 - Recall: 0.9783 - accuracy: 0.8509 - loss: 0.3757 - val_AUC: 0.6727 - val_Precision: 0.6087 - val_Recall: 0.8000 - val_accuracy: 0.6875 - val_loss: 0.8669\n",
      "Epoch 23/50\n",
      "\u001b[1m20/20\u001b[0m \u001b[32m━━━━━━━━━━━━━━━━━━━━\u001b[0m\u001b[37m\u001b[0m \u001b[1m247s\u001b[0m 12s/step - AUC: 0.8249 - Precision: 0.7640 - Recall: 0.9854 - accuracy: 0.8370 - loss: 0.3945 - val_AUC: 0.6437 - val_Precision: 0.5700 - val_Recall: 0.8143 - val_accuracy: 0.6500 - val_loss: 0.9190\n",
      "Epoch 24/50\n",
      "\u001b[1m20/20\u001b[0m \u001b[32m━━━━━━━━━━━━━━━━━━━━\u001b[0m\u001b[37m\u001b[0m \u001b[1m250s\u001b[0m 13s/step - AUC: 0.8403 - Precision: 0.7711 - Recall: 0.9949 - accuracy: 0.8404 - loss: 0.3816 - val_AUC: 0.7077 - val_Precision: 0.6292 - val_Recall: 0.8000 - val_accuracy: 0.7063 - val_loss: 0.9086\n",
      "Epoch 25/50\n",
      "\u001b[1m20/20\u001b[0m \u001b[32m━━━━━━━━━━━━━━━━━━━━\u001b[0m\u001b[37m\u001b[0m \u001b[1m252s\u001b[0m 13s/step - AUC: 0.8127 - Precision: 0.7294 - Recall: 0.9769 - accuracy: 0.8115 - loss: 0.4346 - val_AUC: 0.6290 - val_Precision: 0.5526 - val_Recall: 0.9000 - val_accuracy: 0.6375 - val_loss: 0.8594\n",
      "Epoch 26/50\n",
      "\u001b[1m20/20\u001b[0m \u001b[32m━━━━━━━━━━━━━━━━━━━━\u001b[0m\u001b[37m\u001b[0m \u001b[1m251s\u001b[0m 13s/step - AUC: 0.8147 - Precision: 0.7499 - Recall: 0.9640 - accuracy: 0.8131 - loss: 0.4300 - val_AUC: 0.7367 - val_Precision: 0.6552 - val_Recall: 0.8143 - val_accuracy: 0.7312 - val_loss: 0.6582\n",
      "Epoch 27/50\n",
      "\u001b[1m20/20\u001b[0m \u001b[32m━━━━━━━━━━━━━━━━━━━━\u001b[0m\u001b[37m\u001b[0m \u001b[1m250s\u001b[0m 12s/step - AUC: 0.8175 - Precision: 0.7550 - Recall: 0.8876 - accuracy: 0.7918 - loss: 0.4799 - val_AUC: 0.7250 - val_Precision: 0.6170 - val_Recall: 0.8286 - val_accuracy: 0.7000 - val_loss: 0.6511\n",
      "Epoch 28/50\n",
      "\u001b[1m20/20\u001b[0m \u001b[32m━━━━━━━━━━━━━━━━━━━━\u001b[0m\u001b[37m\u001b[0m \u001b[1m250s\u001b[0m 13s/step - AUC: 0.7881 - Precision: 0.7051 - Recall: 0.8840 - accuracy: 0.7583 - loss: 0.5221 - val_AUC: 0.6783 - val_Precision: 0.6277 - val_Recall: 0.8429 - val_accuracy: 0.7125 - val_loss: 0.7184\n",
      "Epoch 29/50\n",
      "\u001b[1m20/20\u001b[0m \u001b[32m━━━━━━━━━━━━━━━━━━━━\u001b[0m\u001b[37m\u001b[0m \u001b[1m250s\u001b[0m 13s/step - AUC: 0.7901 - Precision: 0.7478 - Recall: 0.9000 - accuracy: 0.7924 - loss: 0.5002 - val_AUC: 0.6896 - val_Precision: 0.6517 - val_Recall: 0.8286 - val_accuracy: 0.7312 - val_loss: 0.7192\n",
      "Epoch 30/50\n",
      "\u001b[1m20/20\u001b[0m \u001b[32m━━━━━━━━━━━━━━━━━━━━\u001b[0m\u001b[37m\u001b[0m \u001b[1m250s\u001b[0m 13s/step - AUC: 0.8010 - Precision: 0.7393 - Recall: 0.9300 - accuracy: 0.7912 - loss: 0.4676 - val_AUC: 0.6951 - val_Precision: 0.5686 - val_Recall: 0.8286 - val_accuracy: 0.6500 - val_loss: 0.7047\n",
      "Epoch 31/50\n",
      "\u001b[1m20/20\u001b[0m \u001b[32m━━━━━━━━━━━━━━━━━━━━\u001b[0m\u001b[37m\u001b[0m \u001b[1m250s\u001b[0m 13s/step - AUC: 0.7793 - Precision: 0.7323 - Recall: 0.9279 - accuracy: 0.7820 - loss: 0.4789 - val_AUC: 0.7675 - val_Precision: 0.6667 - val_Recall: 0.8000 - val_accuracy: 0.7375 - val_loss: 0.6240\n",
      "Epoch 32/50\n",
      "\u001b[1m20/20\u001b[0m \u001b[32m━━━━━━━━━━━━━━━━━━━━\u001b[0m\u001b[37m\u001b[0m \u001b[1m248s\u001b[0m 12s/step - AUC: 0.7962 - Precision: 0.7540 - Recall: 0.8729 - accuracy: 0.7825 - loss: 0.5073 - val_AUC: 0.7491 - val_Precision: 0.6588 - val_Recall: 0.8000 - val_accuracy: 0.7312 - val_loss: 0.6214\n",
      "Epoch 33/50\n",
      "\u001b[1m20/20\u001b[0m \u001b[32m━━━━━━━━━━━━━━━━━━━━\u001b[0m\u001b[37m\u001b[0m \u001b[1m263s\u001b[0m 13s/step - AUC: 0.8264 - Precision: 0.7494 - Recall: 0.9122 - accuracy: 0.8032 - loss: 0.4428 - val_AUC: 0.7383 - val_Precision: 0.6170 - val_Recall: 0.8286 - val_accuracy: 0.7000 - val_loss: 0.6805\n",
      "Epoch 34/50\n",
      "\u001b[1m20/20\u001b[0m \u001b[32m━━━━━━━━━━━━━━━━━━━━\u001b[0m\u001b[37m\u001b[0m \u001b[1m261s\u001b[0m 13s/step - AUC: 0.8252 - Precision: 0.7385 - Recall: 0.9199 - accuracy: 0.7908 - loss: 0.4715 - val_AUC: 0.7340 - val_Precision: 0.6064 - val_Recall: 0.8143 - val_accuracy: 0.6875 - val_loss: 0.6410\n",
      "Epoch 35/50\n",
      "\u001b[1m20/20\u001b[0m \u001b[32m━━━━━━━━━━━━━━━━━━━━\u001b[0m\u001b[37m\u001b[0m \u001b[1m244s\u001b[0m 12s/step - AUC: 0.8324 - Precision: 0.7617 - Recall: 0.8920 - accuracy: 0.8068 - loss: 0.4669 - val_AUC: 0.7244 - val_Precision: 0.6064 - val_Recall: 0.8143 - val_accuracy: 0.6875 - val_loss: 0.6513\n",
      "Epoch 36/50\n",
      "\u001b[1m20/20\u001b[0m \u001b[32m━━━━━━━━━━━━━━━━━━━━\u001b[0m\u001b[37m\u001b[0m \u001b[1m237s\u001b[0m 12s/step - AUC: 0.8138 - Precision: 0.7582 - Recall: 0.9270 - accuracy: 0.8005 - loss: 0.4635 - val_AUC: 0.7016 - val_Precision: 0.5631 - val_Recall: 0.8286 - val_accuracy: 0.6438 - val_loss: 0.7382\n",
      "Epoch 37/50\n",
      "\u001b[1m20/20\u001b[0m \u001b[32m━━━━━━━━━━━━━━━━━━━━\u001b[0m\u001b[37m\u001b[0m \u001b[1m253s\u001b[0m 13s/step - AUC: 0.8204 - Precision: 0.7172 - Recall: 0.9413 - accuracy: 0.7862 - loss: 0.4688 - val_AUC: 0.7318 - val_Precision: 0.6588 - val_Recall: 0.8000 - val_accuracy: 0.7312 - val_loss: 0.6628\n",
      "Epoch 38/50\n",
      "\u001b[1m20/20\u001b[0m \u001b[32m━━━━━━━━━━━━━━━━━━━━\u001b[0m\u001b[37m\u001b[0m \u001b[1m322s\u001b[0m 16s/step - AUC: 0.8072 - Precision: 0.7482 - Recall: 0.9098 - accuracy: 0.7943 - loss: 0.4823 - val_AUC: 0.7482 - val_Precision: 0.6020 - val_Recall: 0.8429 - val_accuracy: 0.6875 - val_loss: 0.6174\n",
      "Epoch 39/50\n",
      "\u001b[1m20/20\u001b[0m \u001b[32m━━━━━━━━━━━━━━━━━━━━\u001b[0m\u001b[37m\u001b[0m \u001b[1m262s\u001b[0m 13s/step - AUC: 0.8334 - Precision: 0.7813 - Recall: 0.9429 - accuracy: 0.8285 - loss: 0.4387 - val_AUC: 0.7248 - val_Precision: 0.6277 - val_Recall: 0.8429 - val_accuracy: 0.7125 - val_loss: 0.5839\n",
      "Epoch 40/50\n",
      "\u001b[1m20/20\u001b[0m \u001b[32m━━━━━━━━━━━━━━━━━━━━\u001b[0m\u001b[37m\u001b[0m \u001b[1m299s\u001b[0m 15s/step - AUC: 0.8223 - Precision: 0.7616 - Recall: 0.9262 - accuracy: 0.8158 - loss: 0.4468 - val_AUC: 0.6928 - val_Precision: 0.6364 - val_Recall: 0.8000 - val_accuracy: 0.7125 - val_loss: 0.7339\n",
      "Epoch 41/50\n",
      "\u001b[1m20/20\u001b[0m \u001b[32m━━━━━━━━━━━━━━━━━━━━\u001b[0m\u001b[37m\u001b[0m \u001b[1m302s\u001b[0m 15s/step - AUC: 0.8081 - Precision: 0.7328 - Recall: 0.9023 - accuracy: 0.7814 - loss: 0.5028 - val_AUC: 0.7298 - val_Precision: 0.6289 - val_Recall: 0.8714 - val_accuracy: 0.7188 - val_loss: 0.5709\n",
      "Epoch 42/50\n",
      "\u001b[1m20/20\u001b[0m \u001b[32m━━━━━━━━━━━━━━━━━━━━\u001b[0m\u001b[37m\u001b[0m \u001b[1m273s\u001b[0m 14s/step - AUC: 0.7839 - Precision: 0.7096 - Recall: 0.9208 - accuracy: 0.7791 - loss: 0.4931 - val_AUC: 0.7623 - val_Precision: 0.6344 - val_Recall: 0.8429 - val_accuracy: 0.7188 - val_loss: 0.5958\n",
      "Epoch 43/50\n",
      "\u001b[1m20/20\u001b[0m \u001b[32m━━━━━━━━━━━━━━━━━━━━\u001b[0m\u001b[37m\u001b[0m \u001b[1m265s\u001b[0m 13s/step - AUC: 0.8148 - Precision: 0.7622 - Recall: 0.9194 - accuracy: 0.8089 - loss: 0.4631 - val_AUC: 0.7845 - val_Precision: 0.6667 - val_Recall: 0.8000 - val_accuracy: 0.7375 - val_loss: 0.6660\n",
      "Epoch 44/50\n",
      "\u001b[1m20/20\u001b[0m \u001b[32m━━━━━━━━━━━━━━━━━━━━\u001b[0m\u001b[37m\u001b[0m \u001b[1m271s\u001b[0m 14s/step - AUC: 0.8051 - Precision: 0.7286 - Recall: 0.9340 - accuracy: 0.7975 - loss: 0.4589 - val_AUC: 0.7227 - val_Precision: 0.6512 - val_Recall: 0.8000 - val_accuracy: 0.7250 - val_loss: 0.6451\n",
      "Epoch 45/50\n",
      "\u001b[1m20/20\u001b[0m \u001b[32m━━━━━━━━━━━━━━━━━━━━\u001b[0m\u001b[37m\u001b[0m \u001b[1m251s\u001b[0m 12s/step - AUC: 0.8120 - Precision: 0.7316 - Recall: 0.9328 - accuracy: 0.7998 - loss: 0.4496 - val_AUC: 0.7067 - val_Precision: 0.5495 - val_Recall: 0.8714 - val_accuracy: 0.6313 - val_loss: 0.7166\n",
      "Epoch 46/50\n",
      "\u001b[1m20/20\u001b[0m \u001b[32m━━━━━━━━━━━━━━━━━━━━\u001b[0m\u001b[37m\u001b[0m \u001b[1m277s\u001b[0m 14s/step - AUC: 0.7977 - Precision: 0.6959 - Recall: 0.9557 - accuracy: 0.7762 - loss: 0.4782 - val_AUC: 0.6858 - val_Precision: 0.5900 - val_Recall: 0.8429 - val_accuracy: 0.6750 - val_loss: 0.6871\n",
      "Epoch 47/50\n",
      "\u001b[1m20/20\u001b[0m \u001b[32m━━━━━━━━━━━━━━━━━━━━\u001b[0m\u001b[37m\u001b[0m \u001b[1m268s\u001b[0m 13s/step - AUC: 0.8155 - Precision: 0.7260 - Recall: 0.9187 - accuracy: 0.7863 - loss: 0.4719 - val_AUC: 0.7265 - val_Precision: 0.6170 - val_Recall: 0.8286 - val_accuracy: 0.7000 - val_loss: 0.6156\n",
      "Epoch 48/50\n",
      "\u001b[1m20/20\u001b[0m \u001b[32m━━━━━━━━━━━━━━━━━━━━\u001b[0m\u001b[37m\u001b[0m \u001b[1m267s\u001b[0m 13s/step - AUC: 0.8044 - Precision: 0.7336 - Recall: 0.8964 - accuracy: 0.7856 - loss: 0.5006 - val_AUC: 0.7401 - val_Precision: 0.6667 - val_Recall: 0.8000 - val_accuracy: 0.7375 - val_loss: 0.6321\n",
      "Epoch 49/50\n",
      "\u001b[1m20/20\u001b[0m \u001b[32m━━━━━━━━━━━━━━━━━━━━\u001b[0m\u001b[37m\u001b[0m \u001b[1m282s\u001b[0m 14s/step - AUC: 0.8066 - Precision: 0.7535 - Recall: 0.8751 - accuracy: 0.7913 - loss: 0.5013 - val_AUC: 0.7602 - val_Precision: 0.6628 - val_Recall: 0.8143 - val_accuracy: 0.7375 - val_loss: 0.5727\n",
      "Epoch 50/50\n",
      "\u001b[1m20/20\u001b[0m \u001b[32m━━━━━━━━━━━━━━━━━━━━\u001b[0m\u001b[37m\u001b[0m \u001b[1m264s\u001b[0m 13s/step - AUC: 0.7645 - Precision: 0.7190 - Recall: 0.8514 - accuracy: 0.7573 - loss: 0.5459 - val_AUC: 0.7548 - val_Precision: 0.6484 - val_Recall: 0.8429 - val_accuracy: 0.7312 - val_loss: 0.5925\n",
      "\u001b[1m7/7\u001b[0m \u001b[32m━━━━━━━━━━━━━━━━━━━━\u001b[0m\u001b[37m\u001b[0m \u001b[1m22s\u001b[0m 3s/step - AUC: 0.7554 - Precision: 0.7208 - Recall: 0.8657 - accuracy: 0.7464 - loss: 0.5747\n",
      "WARNING:tensorflow:5 out of the last 15 calls to <function TensorFlowTrainer.make_predict_function.<locals>.one_step_on_data_distributed at 0x382af84a0> triggered tf.function retracing. Tracing is expensive and the excessive number of tracings could be due to (1) creating @tf.function repeatedly in a loop, (2) passing tensors with different shapes, (3) passing Python objects instead of tensors. For (1), please define your @tf.function outside of the loop. For (2), @tf.function has reduce_retracing=True option that can avoid unnecessary retracing. For (3), please refer to https://www.tensorflow.org/guide/function#controlling_retracing and https://www.tensorflow.org/api_docs/python/tf/function for  more details.\n",
      "\u001b[1m7/7\u001b[0m \u001b[32m━━━━━━━━━━━━━━━━━━━━\u001b[0m\u001b[37m\u001b[0m \u001b[1m26s\u001b[0m 4s/step\n",
      "Fold 4/5\n",
      "Training fold shape: (640, 224, 224, 3)\n",
      "Validation fold shape: (160, 224, 224, 3)\n",
      "Epoch 1/50\n",
      "\u001b[1m20/20\u001b[0m \u001b[32m━━━━━━━━━━━━━━━━━━━━\u001b[0m\u001b[37m\u001b[0m \u001b[1m292s\u001b[0m 14s/step - AUC: 0.5941 - Precision: 0.5572 - Recall: 0.5360 - accuracy: 0.5767 - loss: 1.3279 - val_AUC: 0.8204 - val_Precision: 0.7938 - val_Recall: 0.9277 - val_accuracy: 0.8375 - val_loss: 0.5243\n",
      "Epoch 2/50\n",
      "\u001b[1m20/20\u001b[0m \u001b[32m━━━━━━━━━━━━━━━━━━━━\u001b[0m\u001b[37m\u001b[0m \u001b[1m254s\u001b[0m 13s/step - AUC: 0.7642 - Precision: 0.7229 - Recall: 0.7902 - accuracy: 0.7498 - loss: 0.5846 - val_AUC: 0.8364 - val_Precision: 0.7857 - val_Recall: 0.9277 - val_accuracy: 0.8313 - val_loss: 0.4840\n",
      "Epoch 3/50\n",
      "\u001b[1m20/20\u001b[0m \u001b[32m━━━━━━━━━━━━━━━━━━━━\u001b[0m\u001b[37m\u001b[0m \u001b[1m259s\u001b[0m 13s/step - AUC: 0.7603 - Precision: 0.7054 - Recall: 0.8299 - accuracy: 0.7473 - loss: 0.5599 - val_AUC: 0.8345 - val_Precision: 0.7857 - val_Recall: 0.9277 - val_accuracy: 0.8313 - val_loss: 0.4443\n",
      "Epoch 4/50\n",
      "\u001b[1m20/20\u001b[0m \u001b[32m━━━━━━━━━━━━━━━━━━━━\u001b[0m\u001b[37m\u001b[0m \u001b[1m276s\u001b[0m 14s/step - AUC: 0.7936 - Precision: 0.7284 - Recall: 0.8575 - accuracy: 0.7675 - loss: 0.5238 - val_AUC: 0.8374 - val_Precision: 0.7264 - val_Recall: 0.9277 - val_accuracy: 0.7812 - val_loss: 0.5467\n",
      "Epoch 5/50\n",
      "\u001b[1m20/20\u001b[0m \u001b[32m━━━━━━━━━━━━━━━━━━━━\u001b[0m\u001b[37m\u001b[0m \u001b[1m286s\u001b[0m 14s/step - AUC: 0.7730 - Precision: 0.7181 - Recall: 0.8713 - accuracy: 0.7619 - loss: 0.5656 - val_AUC: 0.8373 - val_Precision: 0.7857 - val_Recall: 0.9277 - val_accuracy: 0.8313 - val_loss: 0.4769\n",
      "Epoch 6/50\n",
      "\u001b[1m20/20\u001b[0m \u001b[32m━━━━━━━━━━━━━━━━━━━━\u001b[0m\u001b[37m\u001b[0m \u001b[1m261s\u001b[0m 13s/step - AUC: 0.7847 - Precision: 0.7202 - Recall: 0.8792 - accuracy: 0.7805 - loss: 0.5264 - val_AUC: 0.8320 - val_Precision: 0.7857 - val_Recall: 0.9277 - val_accuracy: 0.8313 - val_loss: 0.5152\n",
      "Epoch 7/50\n",
      "\u001b[1m20/20\u001b[0m \u001b[32m━━━━━━━━━━━━━━━━━━━━\u001b[0m\u001b[37m\u001b[0m \u001b[1m273s\u001b[0m 14s/step - AUC: 0.7832 - Precision: 0.6952 - Recall: 0.8455 - accuracy: 0.7479 - loss: 0.5166 - val_AUC: 0.8338 - val_Precision: 0.7700 - val_Recall: 0.9277 - val_accuracy: 0.8188 - val_loss: 0.4674\n",
      "Epoch 8/50\n",
      "\u001b[1m20/20\u001b[0m \u001b[32m━━━━━━━━━━━━━━━━━━━━\u001b[0m\u001b[37m\u001b[0m \u001b[1m255s\u001b[0m 13s/step - AUC: 0.8243 - Precision: 0.7369 - Recall: 0.9350 - accuracy: 0.8022 - loss: 0.4507 - val_AUC: 0.8391 - val_Precision: 0.7879 - val_Recall: 0.9398 - val_accuracy: 0.8375 - val_loss: 0.4796\n",
      "Epoch 9/50\n",
      "\u001b[1m20/20\u001b[0m \u001b[32m━━━━━━━━━━━━━━━━━━━━\u001b[0m\u001b[37m\u001b[0m \u001b[1m254s\u001b[0m 13s/step - AUC: 0.8053 - Precision: 0.7315 - Recall: 0.9360 - accuracy: 0.7963 - loss: 0.4770 - val_AUC: 0.8467 - val_Precision: 0.7700 - val_Recall: 0.9277 - val_accuracy: 0.8188 - val_loss: 0.4606\n",
      "Epoch 10/50\n",
      "\u001b[1m20/20\u001b[0m \u001b[32m━━━━━━━━━━━━━━━━━━━━\u001b[0m\u001b[37m\u001b[0m \u001b[1m276s\u001b[0m 14s/step - AUC: 0.8142 - Precision: 0.7543 - Recall: 0.8493 - accuracy: 0.7831 - loss: 0.5056 - val_AUC: 0.8411 - val_Precision: 0.7500 - val_Recall: 0.9398 - val_accuracy: 0.8062 - val_loss: 0.5106\n",
      "Epoch 11/50\n",
      "\u001b[1m20/20\u001b[0m \u001b[32m━━━━━━━━━━━━━━━━━━━━\u001b[0m\u001b[37m\u001b[0m \u001b[1m245s\u001b[0m 12s/step - AUC: 0.8056 - Precision: 0.7344 - Recall: 0.8870 - accuracy: 0.7848 - loss: 0.4939 - val_AUC: 0.8046 - val_Precision: 0.7404 - val_Recall: 0.9277 - val_accuracy: 0.7937 - val_loss: 0.5010\n",
      "Epoch 12/50\n",
      "\u001b[1m20/20\u001b[0m \u001b[32m━━━━━━━━━━━━━━━━━━━━\u001b[0m\u001b[37m\u001b[0m \u001b[1m240s\u001b[0m 12s/step - AUC: 0.7999 - Precision: 0.7271 - Recall: 0.9102 - accuracy: 0.7842 - loss: 0.4893 - val_AUC: 0.8243 - val_Precision: 0.7755 - val_Recall: 0.9157 - val_accuracy: 0.8188 - val_loss: 0.5747\n",
      "Epoch 13/50\n",
      "\u001b[1m20/20\u001b[0m \u001b[32m━━━━━━━━━━━━━━━━━━━━\u001b[0m\u001b[37m\u001b[0m \u001b[1m241s\u001b[0m 12s/step - AUC: 0.8135 - Precision: 0.7190 - Recall: 0.9068 - accuracy: 0.7857 - loss: 0.4754 - val_AUC: 0.8244 - val_Precision: 0.7156 - val_Recall: 0.9398 - val_accuracy: 0.7750 - val_loss: 0.5275\n",
      "Epoch 14/50\n",
      "\u001b[1m20/20\u001b[0m \u001b[32m━━━━━━━━━━━━━━━━━━━━\u001b[0m\u001b[37m\u001b[0m \u001b[1m239s\u001b[0m 12s/step - AUC: 0.8345 - Precision: 0.7364 - Recall: 0.9397 - accuracy: 0.8032 - loss: 0.4433 - val_AUC: 0.8263 - val_Precision: 0.7778 - val_Recall: 0.9277 - val_accuracy: 0.8250 - val_loss: 0.5659\n",
      "Epoch 15/50\n",
      "\u001b[1m20/20\u001b[0m \u001b[32m━━━━━━━━━━━━━━━━━━━━\u001b[0m\u001b[37m\u001b[0m \u001b[1m245s\u001b[0m 12s/step - AUC: 0.7805 - Precision: 0.7202 - Recall: 0.8293 - accuracy: 0.7397 - loss: 0.5375 - val_AUC: 0.8215 - val_Precision: 0.7476 - val_Recall: 0.9277 - val_accuracy: 0.8000 - val_loss: 0.5193\n",
      "Epoch 16/50\n",
      "\u001b[1m20/20\u001b[0m \u001b[32m━━━━━━━━━━━━━━━━━━━━\u001b[0m\u001b[37m\u001b[0m \u001b[1m255s\u001b[0m 13s/step - AUC: 0.8221 - Precision: 0.7297 - Recall: 0.8953 - accuracy: 0.7853 - loss: 0.4402 - val_AUC: 0.8415 - val_Precision: 0.7333 - val_Recall: 0.9277 - val_accuracy: 0.7875 - val_loss: 0.5753\n",
      "Epoch 17/50\n",
      "\u001b[1m20/20\u001b[0m \u001b[32m━━━━━━━━━━━━━━━━━━━━\u001b[0m\u001b[37m\u001b[0m \u001b[1m255s\u001b[0m 13s/step - AUC: 0.8158 - Precision: 0.7311 - Recall: 0.9437 - accuracy: 0.8027 - loss: 0.4647 - val_AUC: 0.7845 - val_Precision: 0.7755 - val_Recall: 0.9157 - val_accuracy: 0.8188 - val_loss: 0.5177\n",
      "Epoch 18/50\n",
      "\u001b[1m20/20\u001b[0m \u001b[32m━━━━━━━━━━━━━━━━━━━━\u001b[0m\u001b[37m\u001b[0m \u001b[1m258s\u001b[0m 13s/step - AUC: 0.7990 - Precision: 0.7247 - Recall: 0.8421 - accuracy: 0.7659 - loss: 0.5151 - val_AUC: 0.8183 - val_Precision: 0.7379 - val_Recall: 0.9157 - val_accuracy: 0.7875 - val_loss: 0.5198\n",
      "Epoch 19/50\n",
      "\u001b[1m20/20\u001b[0m \u001b[32m━━━━━━━━━━━━━━━━━━━━\u001b[0m\u001b[37m\u001b[0m \u001b[1m256s\u001b[0m 13s/step - AUC: 0.8331 - Precision: 0.7471 - Recall: 0.9155 - accuracy: 0.8102 - loss: 0.4293 - val_AUC: 0.8140 - val_Precision: 0.7264 - val_Recall: 0.9277 - val_accuracy: 0.7812 - val_loss: 0.5468\n",
      "Epoch 20/50\n",
      "\u001b[1m20/20\u001b[0m \u001b[32m━━━━━━━━━━━━━━━━━━━━\u001b[0m\u001b[37m\u001b[0m \u001b[1m254s\u001b[0m 13s/step - AUC: 0.8302 - Precision: 0.7598 - Recall: 0.9526 - accuracy: 0.8195 - loss: 0.4569 - val_AUC: 0.7778 - val_Precision: 0.7308 - val_Recall: 0.9157 - val_accuracy: 0.7812 - val_loss: 0.5995\n",
      "Epoch 21/50\n",
      "\u001b[1m20/20\u001b[0m \u001b[32m━━━━━━━━━━━━━━━━━━━━\u001b[0m\u001b[37m\u001b[0m \u001b[1m256s\u001b[0m 13s/step - AUC: 0.8148 - Precision: 0.7457 - Recall: 0.9270 - accuracy: 0.8083 - loss: 0.4604 - val_AUC: 0.8117 - val_Precision: 0.7812 - val_Recall: 0.9036 - val_accuracy: 0.8188 - val_loss: 0.5736\n",
      "Epoch 22/50\n",
      "\u001b[1m20/20\u001b[0m \u001b[32m━━━━━━━━━━━━━━━━━━━━\u001b[0m\u001b[37m\u001b[0m \u001b[1m256s\u001b[0m 13s/step - AUC: 0.8214 - Precision: 0.6903 - Recall: 0.7929 - accuracy: 0.7481 - loss: 0.4805 - val_AUC: 0.8215 - val_Precision: 0.7103 - val_Recall: 0.9157 - val_accuracy: 0.7625 - val_loss: 0.5572\n",
      "Epoch 23/50\n",
      "\u001b[1m20/20\u001b[0m \u001b[32m━━━━━━━━━━━━━━━━━━━━\u001b[0m\u001b[37m\u001b[0m \u001b[1m255s\u001b[0m 13s/step - AUC: 0.7897 - Precision: 0.6859 - Recall: 0.8769 - accuracy: 0.7594 - loss: 0.5041 - val_AUC: 0.8311 - val_Precision: 0.7835 - val_Recall: 0.9157 - val_accuracy: 0.8250 - val_loss: 0.5103\n",
      "Epoch 24/50\n",
      "\u001b[1m20/20\u001b[0m \u001b[32m━━━━━━━━━━━━━━━━━━━━\u001b[0m\u001b[37m\u001b[0m \u001b[1m254s\u001b[0m 13s/step - AUC: 0.8278 - Precision: 0.7454 - Recall: 0.9243 - accuracy: 0.8071 - loss: 0.4397 - val_AUC: 0.8065 - val_Precision: 0.6475 - val_Recall: 0.9518 - val_accuracy: 0.7063 - val_loss: 0.5676\n",
      "Epoch 25/50\n",
      "\u001b[1m20/20\u001b[0m \u001b[32m━━━━━━━━━━━━━━━━━━━━\u001b[0m\u001b[37m\u001b[0m \u001b[1m254s\u001b[0m 13s/step - AUC: 0.8211 - Precision: 0.7225 - Recall: 0.9457 - accuracy: 0.8034 - loss: 0.4480 - val_AUC: 0.8113 - val_Precision: 0.7196 - val_Recall: 0.9277 - val_accuracy: 0.7750 - val_loss: 0.4882\n",
      "Epoch 26/50\n",
      "\u001b[1m20/20\u001b[0m \u001b[32m━━━━━━━━━━━━━━━━━━━━\u001b[0m\u001b[37m\u001b[0m \u001b[1m254s\u001b[0m 13s/step - AUC: 0.7979 - Precision: 0.7278 - Recall: 0.9448 - accuracy: 0.7956 - loss: 0.4620 - val_AUC: 0.7770 - val_Precision: 0.7103 - val_Recall: 0.9157 - val_accuracy: 0.7625 - val_loss: 0.5445\n",
      "Epoch 27/50\n",
      "\u001b[1m20/20\u001b[0m \u001b[32m━━━━━━━━━━━━━━━━━━━━\u001b[0m\u001b[37m\u001b[0m \u001b[1m252s\u001b[0m 13s/step - AUC: 0.8201 - Precision: 0.7327 - Recall: 0.9445 - accuracy: 0.8039 - loss: 0.4507 - val_AUC: 0.7815 - val_Precision: 0.7677 - val_Recall: 0.9157 - val_accuracy: 0.8125 - val_loss: 0.5347\n",
      "Epoch 28/50\n",
      "\u001b[1m20/20\u001b[0m \u001b[32m━━━━━━━━━━━━━━━━━━━━\u001b[0m\u001b[37m\u001b[0m \u001b[1m252s\u001b[0m 13s/step - AUC: 0.7822 - Precision: 0.7073 - Recall: 0.8885 - accuracy: 0.7663 - loss: 0.5209 - val_AUC: 0.8187 - val_Precision: 0.7835 - val_Recall: 0.9157 - val_accuracy: 0.8250 - val_loss: 0.5067\n",
      "Epoch 29/50\n",
      "\u001b[1m20/20\u001b[0m \u001b[32m━━━━━━━━━━━━━━━━━━━━\u001b[0m\u001b[37m\u001b[0m \u001b[1m256s\u001b[0m 13s/step - AUC: 0.8071 - Precision: 0.7398 - Recall: 0.9161 - accuracy: 0.8008 - loss: 0.4599 - val_AUC: 0.8157 - val_Precision: 0.7895 - val_Recall: 0.9036 - val_accuracy: 0.8250 - val_loss: 0.5826\n",
      "Epoch 30/50\n",
      "\u001b[1m20/20\u001b[0m \u001b[32m━━━━━━━━━━━━━━━━━━━━\u001b[0m\u001b[37m\u001b[0m \u001b[1m243s\u001b[0m 12s/step - AUC: 0.8055 - Precision: 0.7431 - Recall: 0.9035 - accuracy: 0.8033 - loss: 0.4848 - val_AUC: 0.8097 - val_Precision: 0.6842 - val_Recall: 0.9398 - val_accuracy: 0.7437 - val_loss: 0.5582\n",
      "Epoch 31/50\n",
      "\u001b[1m20/20\u001b[0m \u001b[32m━━━━━━━━━━━━━━━━━━━━\u001b[0m\u001b[37m\u001b[0m \u001b[1m251s\u001b[0m 13s/step - AUC: 0.8253 - Precision: 0.7275 - Recall: 0.9617 - accuracy: 0.8023 - loss: 0.4380 - val_AUC: 0.6870 - val_Precision: 0.6290 - val_Recall: 0.9398 - val_accuracy: 0.6812 - val_loss: 0.6604\n",
      "Epoch 32/50\n",
      "\u001b[1m20/20\u001b[0m \u001b[32m━━━━━━━━━━━━━━━━━━━━\u001b[0m\u001b[37m\u001b[0m \u001b[1m251s\u001b[0m 13s/step - AUC: 0.8010 - Precision: 0.6747 - Recall: 0.9653 - accuracy: 0.7584 - loss: 0.4996 - val_AUC: 0.7914 - val_Precision: 0.6903 - val_Recall: 0.9398 - val_accuracy: 0.7500 - val_loss: 0.6088\n",
      "Epoch 33/50\n",
      "\u001b[1m20/20\u001b[0m \u001b[32m━━━━━━━━━━━━━━━━━━━━\u001b[0m\u001b[37m\u001b[0m \u001b[1m253s\u001b[0m 13s/step - AUC: 0.8250 - Precision: 0.7221 - Recall: 0.9554 - accuracy: 0.7992 - loss: 0.4435 - val_AUC: 0.8253 - val_Precision: 0.7700 - val_Recall: 0.9277 - val_accuracy: 0.8188 - val_loss: 0.5360\n",
      "Epoch 34/50\n",
      "\u001b[1m20/20\u001b[0m \u001b[32m━━━━━━━━━━━━━━━━━━━━\u001b[0m\u001b[37m\u001b[0m \u001b[1m251s\u001b[0m 13s/step - AUC: 0.8407 - Precision: 0.7403 - Recall: 0.9733 - accuracy: 0.8141 - loss: 0.4117 - val_AUC: 0.8429 - val_Precision: 0.6136 - val_Recall: 0.9759 - val_accuracy: 0.6687 - val_loss: 0.5850\n",
      "Epoch 35/50\n",
      "\u001b[1m20/20\u001b[0m \u001b[32m━━━━━━━━━━━━━━━━━━━━\u001b[0m\u001b[37m\u001b[0m \u001b[1m251s\u001b[0m 13s/step - AUC: 0.8031 - Precision: 0.7149 - Recall: 0.9448 - accuracy: 0.7905 - loss: 0.4708 - val_AUC: 0.8147 - val_Precision: 0.7600 - val_Recall: 0.9157 - val_accuracy: 0.8062 - val_loss: 0.5641\n",
      "Epoch 36/50\n",
      "\u001b[1m20/20\u001b[0m \u001b[32m━━━━━━━━━━━━━━━━━━━━\u001b[0m\u001b[37m\u001b[0m \u001b[1m252s\u001b[0m 13s/step - AUC: 0.8007 - Precision: 0.7120 - Recall: 0.9000 - accuracy: 0.7699 - loss: 0.5082 - val_AUC: 0.8158 - val_Precision: 0.7238 - val_Recall: 0.9157 - val_accuracy: 0.7750 - val_loss: 0.5114\n",
      "Epoch 37/50\n",
      "\u001b[1m20/20\u001b[0m \u001b[32m━━━━━━━━━━━━━━━━━━━━\u001b[0m\u001b[37m\u001b[0m \u001b[1m254s\u001b[0m 13s/step - AUC: 0.8101 - Precision: 0.7361 - Recall: 0.9175 - accuracy: 0.7880 - loss: 0.4646 - val_AUC: 0.7360 - val_Precision: 0.6937 - val_Recall: 0.9277 - val_accuracy: 0.7500 - val_loss: 0.5970\n",
      "Epoch 38/50\n",
      "\u001b[1m20/20\u001b[0m \u001b[32m━━━━━━━━━━━━━━━━━━━━\u001b[0m\u001b[37m\u001b[0m \u001b[1m241s\u001b[0m 12s/step - AUC: 0.8214 - Precision: 0.7510 - Recall: 0.9331 - accuracy: 0.8034 - loss: 0.4451 - val_AUC: 0.7575 - val_Precision: 0.7308 - val_Recall: 0.9157 - val_accuracy: 0.7812 - val_loss: 0.6531\n",
      "Epoch 39/50\n",
      "\u001b[1m20/20\u001b[0m \u001b[32m━━━━━━━━━━━━━━━━━━━━\u001b[0m\u001b[37m\u001b[0m \u001b[1m245s\u001b[0m 12s/step - AUC: 0.8070 - Precision: 0.7323 - Recall: 0.8899 - accuracy: 0.7892 - loss: 0.5537 - val_AUC: 0.8210 - val_Precision: 0.7677 - val_Recall: 0.9157 - val_accuracy: 0.8125 - val_loss: 0.4872\n",
      "Epoch 40/50\n",
      "\u001b[1m20/20\u001b[0m \u001b[32m━━━━━━━━━━━━━━━━━━━━\u001b[0m\u001b[37m\u001b[0m \u001b[1m250s\u001b[0m 12s/step - AUC: 0.7902 - Precision: 0.7225 - Recall: 0.8953 - accuracy: 0.7782 - loss: 0.4724 - val_AUC: 0.7899 - val_Precision: 0.7264 - val_Recall: 0.9277 - val_accuracy: 0.7812 - val_loss: 0.5418\n",
      "Epoch 41/50\n",
      "\u001b[1m20/20\u001b[0m \u001b[32m━━━━━━━━━━━━━━━━━━━━\u001b[0m\u001b[37m\u001b[0m \u001b[1m253s\u001b[0m 13s/step - AUC: 0.7987 - Precision: 0.7267 - Recall: 0.9323 - accuracy: 0.7848 - loss: 0.4719 - val_AUC: 0.8275 - val_Precision: 0.7653 - val_Recall: 0.9036 - val_accuracy: 0.8062 - val_loss: 0.5269\n",
      "Epoch 42/50\n",
      "\u001b[1m20/20\u001b[0m \u001b[32m━━━━━━━━━━━━━━━━━━━━\u001b[0m\u001b[37m\u001b[0m \u001b[1m252s\u001b[0m 13s/step - AUC: 0.8033 - Precision: 0.7277 - Recall: 0.8930 - accuracy: 0.7793 - loss: 0.4744 - val_AUC: 0.8365 - val_Precision: 0.7404 - val_Recall: 0.9277 - val_accuracy: 0.7937 - val_loss: 0.5030\n",
      "Epoch 43/50\n",
      "\u001b[1m20/20\u001b[0m \u001b[32m━━━━━━━━━━━━━━━━━━━━\u001b[0m\u001b[37m\u001b[0m \u001b[1m252s\u001b[0m 13s/step - AUC: 0.8080 - Precision: 0.7300 - Recall: 0.9542 - accuracy: 0.8068 - loss: 0.4417 - val_AUC: 0.8319 - val_Precision: 0.7624 - val_Recall: 0.9277 - val_accuracy: 0.8125 - val_loss: 0.5121\n",
      "Epoch 44/50\n",
      "\u001b[1m20/20\u001b[0m \u001b[32m━━━━━━━━━━━━━━━━━━━━\u001b[0m\u001b[37m\u001b[0m \u001b[1m252s\u001b[0m 13s/step - AUC: 0.8042 - Precision: 0.7043 - Recall: 0.9565 - accuracy: 0.7857 - loss: 0.4662 - val_AUC: 0.8230 - val_Precision: 0.7525 - val_Recall: 0.9157 - val_accuracy: 0.8000 - val_loss: 0.5242\n",
      "Epoch 45/50\n",
      "\u001b[1m20/20\u001b[0m \u001b[32m━━━━━━━━━━━━━━━━━━━━\u001b[0m\u001b[37m\u001b[0m \u001b[1m251s\u001b[0m 13s/step - AUC: 0.7770 - Precision: 0.7175 - Recall: 0.9296 - accuracy: 0.7909 - loss: 0.4901 - val_AUC: 0.7924 - val_Precision: 0.6724 - val_Recall: 0.9398 - val_accuracy: 0.7312 - val_loss: 0.5485\n",
      "Epoch 46/50\n",
      "\u001b[1m20/20\u001b[0m \u001b[32m━━━━━━━━━━━━━━━━━━━━\u001b[0m\u001b[37m\u001b[0m \u001b[1m251s\u001b[0m 13s/step - AUC: 0.8221 - Precision: 0.7281 - Recall: 0.9262 - accuracy: 0.7975 - loss: 0.4585 - val_AUC: 0.8142 - val_Precision: 0.7835 - val_Recall: 0.9157 - val_accuracy: 0.8250 - val_loss: 0.5274\n",
      "Epoch 47/50\n",
      "\u001b[1m20/20\u001b[0m \u001b[32m━━━━━━━━━━━━━━━━━━━━\u001b[0m\u001b[37m\u001b[0m \u001b[1m251s\u001b[0m 13s/step - AUC: 0.7135 - Precision: 0.6429 - Recall: 0.8932 - accuracy: 0.6986 - loss: 0.6102 - val_AUC: 0.7821 - val_Precision: 0.7156 - val_Recall: 0.9398 - val_accuracy: 0.7750 - val_loss: 0.5266\n",
      "Epoch 48/50\n",
      "\u001b[1m20/20\u001b[0m \u001b[32m━━━━━━━━━━━━━━━━━━━━\u001b[0m\u001b[37m\u001b[0m \u001b[1m251s\u001b[0m 13s/step - AUC: 0.7952 - Precision: 0.7073 - Recall: 0.9400 - accuracy: 0.7817 - loss: 0.5029 - val_AUC: 0.8227 - val_Precision: 0.7404 - val_Recall: 0.9277 - val_accuracy: 0.7937 - val_loss: 0.5035\n",
      "Epoch 49/50\n",
      "\u001b[1m20/20\u001b[0m \u001b[32m━━━━━━━━━━━━━━━━━━━━\u001b[0m\u001b[37m\u001b[0m \u001b[1m250s\u001b[0m 13s/step - AUC: 0.7950 - Precision: 0.7283 - Recall: 0.8847 - accuracy: 0.7744 - loss: 0.4851 - val_AUC: 0.8475 - val_Precision: 0.7315 - val_Recall: 0.9518 - val_accuracy: 0.7937 - val_loss: 0.5021\n",
      "Epoch 50/50\n",
      "\u001b[1m20/20\u001b[0m \u001b[32m━━━━━━━━━━━━━━━━━━━━\u001b[0m\u001b[37m\u001b[0m \u001b[1m251s\u001b[0m 13s/step - AUC: 0.7820 - Precision: 0.7073 - Recall: 0.9388 - accuracy: 0.7796 - loss: 0.4634 - val_AUC: 0.7770 - val_Precision: 0.7156 - val_Recall: 0.9398 - val_accuracy: 0.7750 - val_loss: 0.5405\n",
      "\u001b[1m7/7\u001b[0m \u001b[32m━━━━━━━━━━━━━━━━━━━━\u001b[0m\u001b[37m\u001b[0m \u001b[1m21s\u001b[0m 3s/step - AUC: 0.6756 - Precision: 0.6470 - Recall: 0.8958 - accuracy: 0.6789 - loss: 0.7260\n",
      "WARNING:tensorflow:5 out of the last 15 calls to <function TensorFlowTrainer.make_predict_function.<locals>.one_step_on_data_distributed at 0x38119d4e0> triggered tf.function retracing. Tracing is expensive and the excessive number of tracings could be due to (1) creating @tf.function repeatedly in a loop, (2) passing tensors with different shapes, (3) passing Python objects instead of tensors. For (1), please define your @tf.function outside of the loop. For (2), @tf.function has reduce_retracing=True option that can avoid unnecessary retracing. For (3), please refer to https://www.tensorflow.org/guide/function#controlling_retracing and https://www.tensorflow.org/api_docs/python/tf/function for  more details.\n",
      "\u001b[1m7/7\u001b[0m \u001b[32m━━━━━━━━━━━━━━━━━━━━\u001b[0m\u001b[37m\u001b[0m \u001b[1m20s\u001b[0m 3s/step\n",
      "Fold 5/5\n",
      "Training fold shape: (640, 224, 224, 3)\n",
      "Validation fold shape: (160, 224, 224, 3)\n",
      "Epoch 1/50\n",
      "\u001b[1m20/20\u001b[0m \u001b[32m━━━━━━━━━━━━━━━━━━━━\u001b[0m\u001b[37m\u001b[0m \u001b[1m272s\u001b[0m 13s/step - AUC: 0.5240 - Precision: 0.4980 - Recall: 0.5115 - accuracy: 0.5291 - loss: 1.4351 - val_AUC: 0.7960 - val_Precision: 0.0000e+00 - val_Recall: 0.0000e+00 - val_accuracy: 0.4812 - val_loss: 0.6448\n",
      "Epoch 2/50\n",
      "\u001b[1m20/20\u001b[0m \u001b[32m━━━━━━━━━━━━━━━━━━━━\u001b[0m\u001b[37m\u001b[0m \u001b[1m265s\u001b[0m 13s/step - AUC: 0.7871 - Precision: 0.7665 - Recall: 0.7705 - accuracy: 0.7596 - loss: 0.5657 - val_AUC: 0.8033 - val_Precision: 0.7660 - val_Recall: 0.8675 - val_accuracy: 0.7937 - val_loss: 0.5259\n",
      "Epoch 3/50\n",
      "\u001b[1m20/20\u001b[0m \u001b[32m━━━━━━━━━━━━━━━━━━━━\u001b[0m\u001b[37m\u001b[0m \u001b[1m274s\u001b[0m 14s/step - AUC: 0.7823 - Precision: 0.7305 - Recall: 0.8303 - accuracy: 0.7593 - loss: 0.5416 - val_AUC: 0.8122 - val_Precision: 0.7660 - val_Recall: 0.8675 - val_accuracy: 0.7937 - val_loss: 0.5378\n",
      "Epoch 4/50\n",
      "\u001b[1m20/20\u001b[0m \u001b[32m━━━━━━━━━━━━━━━━━━━━\u001b[0m\u001b[37m\u001b[0m \u001b[1m244s\u001b[0m 12s/step - AUC: 0.7757 - Precision: 0.7232 - Recall: 0.8372 - accuracy: 0.7652 - loss: 0.5477 - val_AUC: 0.8123 - val_Precision: 0.7660 - val_Recall: 0.8675 - val_accuracy: 0.7937 - val_loss: 0.5233\n",
      "Epoch 5/50\n",
      "\u001b[1m20/20\u001b[0m \u001b[32m━━━━━━━━━━━━━━━━━━━━\u001b[0m\u001b[37m\u001b[0m \u001b[1m247s\u001b[0m 12s/step - AUC: 0.7737 - Precision: 0.7412 - Recall: 0.8487 - accuracy: 0.7763 - loss: 0.5416 - val_AUC: 0.7870 - val_Precision: 0.7660 - val_Recall: 0.8675 - val_accuracy: 0.7937 - val_loss: 0.5682\n",
      "Epoch 6/50\n",
      "\u001b[1m20/20\u001b[0m \u001b[32m━━━━━━━━━━━━━━━━━━━━\u001b[0m\u001b[37m\u001b[0m \u001b[1m258s\u001b[0m 13s/step - AUC: 0.8134 - Precision: 0.7494 - Recall: 0.8206 - accuracy: 0.7806 - loss: 0.5067 - val_AUC: 0.7777 - val_Precision: 0.6822 - val_Recall: 0.8795 - val_accuracy: 0.7250 - val_loss: 0.5779\n",
      "Epoch 7/50\n",
      "\u001b[1m20/20\u001b[0m \u001b[32m━━━━━━━━━━━━━━━━━━━━\u001b[0m\u001b[37m\u001b[0m \u001b[1m260s\u001b[0m 13s/step - AUC: 0.7919 - Precision: 0.6963 - Recall: 0.7697 - accuracy: 0.7282 - loss: 0.5476 - val_AUC: 0.7910 - val_Precision: 0.7500 - val_Recall: 0.8675 - val_accuracy: 0.7812 - val_loss: 0.5163\n",
      "Epoch 8/50\n",
      "\u001b[1m20/20\u001b[0m \u001b[32m━━━━━━━━━━━━━━━━━━━━\u001b[0m\u001b[37m\u001b[0m \u001b[1m239s\u001b[0m 12s/step - AUC: 0.7928 - Precision: 0.7603 - Recall: 0.8563 - accuracy: 0.7928 - loss: 0.5276 - val_AUC: 0.7970 - val_Precision: 0.7609 - val_Recall: 0.8434 - val_accuracy: 0.7812 - val_loss: 0.6544\n",
      "Epoch 9/50\n",
      "\u001b[1m20/20\u001b[0m \u001b[32m━━━━━━━━━━━━━━━━━━━━\u001b[0m\u001b[37m\u001b[0m \u001b[1m234s\u001b[0m 12s/step - AUC: 0.7801 - Precision: 0.7184 - Recall: 0.7613 - accuracy: 0.7484 - loss: 0.5582 - val_AUC: 0.8061 - val_Precision: 0.7273 - val_Recall: 0.8675 - val_accuracy: 0.7625 - val_loss: 0.5632\n",
      "Epoch 10/50\n",
      "\u001b[1m20/20\u001b[0m \u001b[32m━━━━━━━━━━━━━━━━━━━━\u001b[0m\u001b[37m\u001b[0m \u001b[1m233s\u001b[0m 12s/step - AUC: 0.8289 - Precision: 0.7403 - Recall: 0.9073 - accuracy: 0.7944 - loss: 0.4930 - val_AUC: 0.7660 - val_Precision: 0.7660 - val_Recall: 0.8675 - val_accuracy: 0.7937 - val_loss: 0.5293\n",
      "Epoch 11/50\n",
      "\u001b[1m20/20\u001b[0m \u001b[32m━━━━━━━━━━━━━━━━━━━━\u001b[0m\u001b[37m\u001b[0m \u001b[1m232s\u001b[0m 12s/step - AUC: 0.7637 - Precision: 0.7129 - Recall: 0.8969 - accuracy: 0.7759 - loss: 0.5257 - val_AUC: 0.7779 - val_Precision: 0.7129 - val_Recall: 0.8675 - val_accuracy: 0.7500 - val_loss: 0.5591\n",
      "Epoch 12/50\n",
      "\u001b[1m20/20\u001b[0m \u001b[32m━━━━━━━━━━━━━━━━━━━━\u001b[0m\u001b[37m\u001b[0m \u001b[1m232s\u001b[0m 12s/step - AUC: 0.7691 - Precision: 0.6942 - Recall: 0.9008 - accuracy: 0.7505 - loss: 0.5461 - val_AUC: 0.7827 - val_Precision: 0.7579 - val_Recall: 0.8675 - val_accuracy: 0.7875 - val_loss: 0.5664\n",
      "Epoch 13/50\n",
      "\u001b[1m20/20\u001b[0m \u001b[32m━━━━━━━━━━━━━━━━━━━━\u001b[0m\u001b[37m\u001b[0m \u001b[1m232s\u001b[0m 12s/step - AUC: 0.7946 - Precision: 0.6895 - Recall: 0.8814 - accuracy: 0.7633 - loss: 0.5071 - val_AUC: 0.8217 - val_Precision: 0.7660 - val_Recall: 0.8675 - val_accuracy: 0.7937 - val_loss: 0.5293\n",
      "Epoch 14/50\n",
      "\u001b[1m20/20\u001b[0m \u001b[32m━━━━━━━━━━━━━━━━━━━━\u001b[0m\u001b[37m\u001b[0m \u001b[1m232s\u001b[0m 12s/step - AUC: 0.8178 - Precision: 0.7529 - Recall: 0.9139 - accuracy: 0.8111 - loss: 0.4518 - val_AUC: 0.8033 - val_Precision: 0.7526 - val_Recall: 0.8795 - val_accuracy: 0.7875 - val_loss: 0.5775\n",
      "Epoch 15/50\n",
      "\u001b[1m20/20\u001b[0m \u001b[32m━━━━━━━━━━━━━━━━━━━━\u001b[0m\u001b[37m\u001b[0m \u001b[1m235s\u001b[0m 12s/step - AUC: 0.8215 - Precision: 0.7401 - Recall: 0.9727 - accuracy: 0.8131 - loss: 0.4261 - val_AUC: 0.7935 - val_Precision: 0.7423 - val_Recall: 0.8675 - val_accuracy: 0.7750 - val_loss: 0.5782\n",
      "Epoch 16/50\n",
      "\u001b[1m20/20\u001b[0m \u001b[32m━━━━━━━━━━━━━━━━━━━━\u001b[0m\u001b[37m\u001b[0m \u001b[1m231s\u001b[0m 12s/step - AUC: 0.8235 - Precision: 0.7525 - Recall: 0.8852 - accuracy: 0.7986 - loss: 0.4765 - val_AUC: 0.7987 - val_Precision: 0.7115 - val_Recall: 0.8916 - val_accuracy: 0.7563 - val_loss: 0.5603\n",
      "Epoch 17/50\n",
      "\u001b[1m20/20\u001b[0m \u001b[32m━━━━━━━━━━━━━━━━━━━━\u001b[0m\u001b[37m\u001b[0m \u001b[1m239s\u001b[0m 12s/step - AUC: 0.8192 - Precision: 0.7272 - Recall: 0.8684 - accuracy: 0.7811 - loss: 0.4785 - val_AUC: 0.7939 - val_Precision: 0.7553 - val_Recall: 0.8554 - val_accuracy: 0.7812 - val_loss: 0.5280\n",
      "Epoch 18/50\n",
      "\u001b[1m20/20\u001b[0m \u001b[32m━━━━━━━━━━━━━━━━━━━━\u001b[0m\u001b[37m\u001b[0m \u001b[1m237s\u001b[0m 12s/step - AUC: 0.8031 - Precision: 0.7087 - Recall: 0.8972 - accuracy: 0.7734 - loss: 0.4735 - val_AUC: 0.7885 - val_Precision: 0.7500 - val_Recall: 0.8675 - val_accuracy: 0.7812 - val_loss: 0.5898\n",
      "Epoch 19/50\n",
      "\u001b[1m20/20\u001b[0m \u001b[32m━━━━━━━━━━━━━━━━━━━━\u001b[0m\u001b[37m\u001b[0m \u001b[1m232s\u001b[0m 12s/step - AUC: 0.8195 - Precision: 0.7500 - Recall: 0.9430 - accuracy: 0.8106 - loss: 0.4296 - val_AUC: 0.7939 - val_Precision: 0.7300 - val_Recall: 0.8795 - val_accuracy: 0.7688 - val_loss: 0.5800\n",
      "Epoch 20/50\n",
      "\u001b[1m20/20\u001b[0m \u001b[32m━━━━━━━━━━━━━━━━━━━━\u001b[0m\u001b[37m\u001b[0m \u001b[1m235s\u001b[0m 12s/step - AUC: 0.8016 - Precision: 0.7263 - Recall: 0.9312 - accuracy: 0.7913 - loss: 0.4636 - val_AUC: 0.8090 - val_Precision: 0.7300 - val_Recall: 0.8795 - val_accuracy: 0.7688 - val_loss: 0.5644\n",
      "Epoch 21/50\n",
      "\u001b[1m20/20\u001b[0m \u001b[32m━━━━━━━━━━━━━━━━━━━━\u001b[0m\u001b[37m\u001b[0m \u001b[1m231s\u001b[0m 12s/step - AUC: 0.7882 - Precision: 0.6709 - Recall: 0.9302 - accuracy: 0.7587 - loss: 0.4947 - val_AUC: 0.7745 - val_Precision: 0.6887 - val_Recall: 0.8795 - val_accuracy: 0.7312 - val_loss: 0.6349\n",
      "Epoch 22/50\n",
      "\u001b[1m20/20\u001b[0m \u001b[32m━━━━━━━━━━━━━━━━━━━━\u001b[0m\u001b[37m\u001b[0m \u001b[1m230s\u001b[0m 12s/step - AUC: 0.7865 - Precision: 0.7103 - Recall: 0.8493 - accuracy: 0.7593 - loss: 0.5483 - val_AUC: 0.8026 - val_Precision: 0.7200 - val_Recall: 0.8675 - val_accuracy: 0.7563 - val_loss: 0.5582\n",
      "Epoch 23/50\n",
      "\u001b[1m20/20\u001b[0m \u001b[32m━━━━━━━━━━━━━━━━━━━━\u001b[0m\u001b[37m\u001b[0m \u001b[1m232s\u001b[0m 12s/step - AUC: 0.8201 - Precision: 0.7478 - Recall: 0.8724 - accuracy: 0.7880 - loss: 0.5073 - val_AUC: 0.7854 - val_Precision: 0.7423 - val_Recall: 0.8675 - val_accuracy: 0.7750 - val_loss: 0.5474\n",
      "Epoch 24/50\n",
      "\u001b[1m20/20\u001b[0m \u001b[32m━━━━━━━━━━━━━━━━━━━━\u001b[0m\u001b[37m\u001b[0m \u001b[1m230s\u001b[0m 12s/step - AUC: 0.7506 - Precision: 0.6921 - Recall: 0.8769 - accuracy: 0.7500 - loss: 0.5504 - val_AUC: 0.7920 - val_Precision: 0.7300 - val_Recall: 0.8795 - val_accuracy: 0.7688 - val_loss: 0.5498\n",
      "Epoch 25/50\n",
      "\u001b[1m20/20\u001b[0m \u001b[32m━━━━━━━━━━━━━━━━━━━━\u001b[0m\u001b[37m\u001b[0m \u001b[1m230s\u001b[0m 12s/step - AUC: 0.8138 - Precision: 0.7159 - Recall: 0.8177 - accuracy: 0.7556 - loss: 0.5227 - val_AUC: 0.7723 - val_Precision: 0.6379 - val_Recall: 0.8916 - val_accuracy: 0.6812 - val_loss: 0.6494\n",
      "Epoch 26/50\n",
      "\u001b[1m20/20\u001b[0m \u001b[32m━━━━━━━━━━━━━━━━━━━━\u001b[0m\u001b[37m\u001b[0m \u001b[1m230s\u001b[0m 12s/step - AUC: 0.7596 - Precision: 0.6467 - Recall: 0.7662 - accuracy: 0.6883 - loss: 0.5947 - val_AUC: 0.7736 - val_Precision: 0.7347 - val_Recall: 0.8675 - val_accuracy: 0.7688 - val_loss: 0.6061\n",
      "Epoch 27/50\n",
      "\u001b[1m20/20\u001b[0m \u001b[32m━━━━━━━━━━━━━━━━━━━━\u001b[0m\u001b[37m\u001b[0m \u001b[1m229s\u001b[0m 12s/step - AUC: 0.7915 - Precision: 0.7284 - Recall: 0.8691 - accuracy: 0.7757 - loss: 0.5082 - val_AUC: 0.8050 - val_Precision: 0.7347 - val_Recall: 0.8675 - val_accuracy: 0.7688 - val_loss: 0.5511\n",
      "Epoch 28/50\n",
      "\u001b[1m20/20\u001b[0m \u001b[32m━━━━━━━━━━━━━━━━━━━━\u001b[0m\u001b[37m\u001b[0m \u001b[1m229s\u001b[0m 11s/step - AUC: 0.8001 - Precision: 0.6774 - Recall: 0.8597 - accuracy: 0.7540 - loss: 0.5175 - val_AUC: 0.7991 - val_Precision: 0.7579 - val_Recall: 0.8675 - val_accuracy: 0.7875 - val_loss: 0.5709\n",
      "Epoch 29/50\n",
      "\u001b[1m20/20\u001b[0m \u001b[32m━━━━━━━━━━━━━━━━━━━━\u001b[0m\u001b[37m\u001b[0m \u001b[1m229s\u001b[0m 11s/step - AUC: 0.7998 - Precision: 0.7438 - Recall: 0.8891 - accuracy: 0.7883 - loss: 0.5263 - val_AUC: 0.7827 - val_Precision: 0.7579 - val_Recall: 0.8675 - val_accuracy: 0.7875 - val_loss: 0.5336\n",
      "Epoch 30/50\n",
      "\u001b[1m20/20\u001b[0m \u001b[32m━━━━━━━━━━━━━━━━━━━━\u001b[0m\u001b[37m\u001b[0m \u001b[1m229s\u001b[0m 12s/step - AUC: 0.7754 - Precision: 0.7052 - Recall: 0.8358 - accuracy: 0.7559 - loss: 0.5407 - val_AUC: 0.7901 - val_Precision: 0.7579 - val_Recall: 0.8675 - val_accuracy: 0.7875 - val_loss: 0.5235\n",
      "Epoch 31/50\n",
      "\u001b[1m20/20\u001b[0m \u001b[32m━━━━━━━━━━━━━━━━━━━━\u001b[0m\u001b[37m\u001b[0m \u001b[1m233s\u001b[0m 12s/step - AUC: 0.7790 - Precision: 0.7100 - Recall: 0.8679 - accuracy: 0.7704 - loss: 0.5346 - val_AUC: 0.7895 - val_Precision: 0.7347 - val_Recall: 0.8675 - val_accuracy: 0.7688 - val_loss: 0.5394\n",
      "Epoch 32/50\n",
      "\u001b[1m20/20\u001b[0m \u001b[32m━━━━━━━━━━━━━━━━━━━━\u001b[0m\u001b[37m\u001b[0m \u001b[1m229s\u001b[0m 12s/step - AUC: 0.7781 - Precision: 0.6788 - Recall: 0.8803 - accuracy: 0.7421 - loss: 0.5505 - val_AUC: 0.7947 - val_Precision: 0.7500 - val_Recall: 0.8675 - val_accuracy: 0.7812 - val_loss: 0.5260\n",
      "Epoch 33/50\n",
      "\u001b[1m20/20\u001b[0m \u001b[32m━━━━━━━━━━━━━━━━━━━━\u001b[0m\u001b[37m\u001b[0m \u001b[1m230s\u001b[0m 12s/step - AUC: 0.8139 - Precision: 0.7334 - Recall: 0.8890 - accuracy: 0.7881 - loss: 0.4900 - val_AUC: 0.8235 - val_Precision: 0.7423 - val_Recall: 0.8675 - val_accuracy: 0.7750 - val_loss: 0.5297\n",
      "Epoch 34/50\n",
      "\u001b[1m20/20\u001b[0m \u001b[32m━━━━━━━━━━━━━━━━━━━━\u001b[0m\u001b[37m\u001b[0m \u001b[1m230s\u001b[0m 12s/step - AUC: 0.7748 - Precision: 0.7107 - Recall: 0.8499 - accuracy: 0.7567 - loss: 0.5454 - val_AUC: 0.8063 - val_Precision: 0.7553 - val_Recall: 0.8554 - val_accuracy: 0.7812 - val_loss: 0.5312\n",
      "Epoch 35/50\n",
      "\u001b[1m20/20\u001b[0m \u001b[32m━━━━━━━━━━━━━━━━━━━━\u001b[0m\u001b[37m\u001b[0m \u001b[1m231s\u001b[0m 12s/step - AUC: 0.8184 - Precision: 0.7798 - Recall: 0.8625 - accuracy: 0.7948 - loss: 0.4886 - val_AUC: 0.8054 - val_Precision: 0.7553 - val_Recall: 0.8554 - val_accuracy: 0.7812 - val_loss: 0.5352\n",
      "Epoch 36/50\n",
      "\u001b[1m20/20\u001b[0m \u001b[32m━━━━━━━━━━━━━━━━━━━━\u001b[0m\u001b[37m\u001b[0m \u001b[1m232s\u001b[0m 12s/step - AUC: 0.8324 - Precision: 0.7360 - Recall: 0.8644 - accuracy: 0.7804 - loss: 0.5037 - val_AUC: 0.7975 - val_Precision: 0.7553 - val_Recall: 0.8554 - val_accuracy: 0.7812 - val_loss: 0.6135\n",
      "Epoch 37/50\n",
      "\u001b[1m20/20\u001b[0m \u001b[32m━━━━━━━━━━━━━━━━━━━━\u001b[0m\u001b[37m\u001b[0m \u001b[1m228s\u001b[0m 11s/step - AUC: 0.7958 - Precision: 0.7377 - Recall: 0.8679 - accuracy: 0.7734 - loss: 0.5456 - val_AUC: 0.8179 - val_Precision: 0.7396 - val_Recall: 0.8554 - val_accuracy: 0.7688 - val_loss: 0.5199\n",
      "Epoch 38/50\n",
      "\u001b[1m20/20\u001b[0m \u001b[32m━━━━━━━━━━━━━━━━━━━━\u001b[0m\u001b[37m\u001b[0m \u001b[1m229s\u001b[0m 11s/step - AUC: 0.8151 - Precision: 0.6876 - Recall: 0.8567 - accuracy: 0.7593 - loss: 0.5027 - val_AUC: 0.7834 - val_Precision: 0.7320 - val_Recall: 0.8554 - val_accuracy: 0.7625 - val_loss: 0.5648\n",
      "Epoch 39/50\n",
      "\u001b[1m20/20\u001b[0m \u001b[32m━━━━━━━━━━━━━━━━━━━━\u001b[0m\u001b[37m\u001b[0m \u001b[1m230s\u001b[0m 12s/step - AUC: 0.7879 - Precision: 0.7340 - Recall: 0.8741 - accuracy: 0.7822 - loss: 0.5228 - val_AUC: 0.7788 - val_Precision: 0.7172 - val_Recall: 0.8554 - val_accuracy: 0.7500 - val_loss: 0.5682\n",
      "Epoch 40/50\n",
      "\u001b[1m20/20\u001b[0m \u001b[32m━━━━━━━━━━━━━━━━━━━━\u001b[0m\u001b[37m\u001b[0m \u001b[1m232s\u001b[0m 12s/step - AUC: 0.7649 - Precision: 0.6791 - Recall: 0.8595 - accuracy: 0.7626 - loss: 0.5525 - val_AUC: 0.7751 - val_Precision: 0.7396 - val_Recall: 0.8554 - val_accuracy: 0.7688 - val_loss: 0.5512\n",
      "Epoch 41/50\n",
      "\u001b[1m20/20\u001b[0m \u001b[32m━━━━━━━━━━━━━━━━━━━━\u001b[0m\u001b[37m\u001b[0m \u001b[1m229s\u001b[0m 11s/step - AUC: 0.7900 - Precision: 0.7264 - Recall: 0.8655 - accuracy: 0.7705 - loss: 0.5196 - val_AUC: 0.7901 - val_Precision: 0.7634 - val_Recall: 0.8554 - val_accuracy: 0.7875 - val_loss: 0.5552\n",
      "Epoch 42/50\n",
      "\u001b[1m20/20\u001b[0m \u001b[32m━━━━━━━━━━━━━━━━━━━━\u001b[0m\u001b[37m\u001b[0m \u001b[1m230s\u001b[0m 12s/step - AUC: 0.8033 - Precision: 0.7028 - Recall: 0.8876 - accuracy: 0.7658 - loss: 0.5020 - val_AUC: 0.7987 - val_Precision: 0.7553 - val_Recall: 0.8554 - val_accuracy: 0.7812 - val_loss: 0.5896\n",
      "Epoch 43/50\n",
      "\u001b[1m20/20\u001b[0m \u001b[32m━━━━━━━━━━━━━━━━━━━━\u001b[0m\u001b[37m\u001b[0m \u001b[1m229s\u001b[0m 11s/step - AUC: 0.8308 - Precision: 0.7595 - Recall: 0.9176 - accuracy: 0.8037 - loss: 0.4595 - val_AUC: 0.8031 - val_Precision: 0.7579 - val_Recall: 0.8675 - val_accuracy: 0.7875 - val_loss: 0.5817\n",
      "Epoch 44/50\n",
      "\u001b[1m20/20\u001b[0m \u001b[32m━━━━━━━━━━━━━━━━━━━━\u001b[0m\u001b[37m\u001b[0m \u001b[1m230s\u001b[0m 12s/step - AUC: 0.7922 - Precision: 0.7394 - Recall: 0.8753 - accuracy: 0.7749 - loss: 0.5427 - val_AUC: 0.8089 - val_Precision: 0.7660 - val_Recall: 0.8675 - val_accuracy: 0.7937 - val_loss: 0.5147\n",
      "Epoch 45/50\n",
      "\u001b[1m20/20\u001b[0m \u001b[32m━━━━━━━━━━━━━━━━━━━━\u001b[0m\u001b[37m\u001b[0m \u001b[1m229s\u001b[0m 11s/step - AUC: 0.8107 - Precision: 0.7172 - Recall: 0.8605 - accuracy: 0.7594 - loss: 0.5253 - val_AUC: 0.8081 - val_Precision: 0.7423 - val_Recall: 0.8675 - val_accuracy: 0.7750 - val_loss: 0.5312\n",
      "Epoch 46/50\n",
      "\u001b[1m20/20\u001b[0m \u001b[32m━━━━━━━━━━━━━━━━━━━━\u001b[0m\u001b[37m\u001b[0m \u001b[1m231s\u001b[0m 12s/step - AUC: 0.7826 - Precision: 0.7264 - Recall: 0.8741 - accuracy: 0.7739 - loss: 0.5104 - val_AUC: 0.7960 - val_Precision: 0.7228 - val_Recall: 0.8795 - val_accuracy: 0.7625 - val_loss: 0.5576\n",
      "Epoch 47/50\n",
      "\u001b[1m20/20\u001b[0m \u001b[32m━━━━━━━━━━━━━━━━━━━━\u001b[0m\u001b[37m\u001b[0m \u001b[1m230s\u001b[0m 12s/step - AUC: 0.8156 - Precision: 0.7113 - Recall: 0.8871 - accuracy: 0.7764 - loss: 0.5003 - val_AUC: 0.8091 - val_Precision: 0.7526 - val_Recall: 0.8795 - val_accuracy: 0.7875 - val_loss: 0.5194\n",
      "Epoch 48/50\n",
      "\u001b[1m20/20\u001b[0m \u001b[32m━━━━━━━━━━━━━━━━━━━━\u001b[0m\u001b[37m\u001b[0m \u001b[1m231s\u001b[0m 12s/step - AUC: 0.7767 - Precision: 0.6512 - Recall: 0.8808 - accuracy: 0.7342 - loss: 0.5197 - val_AUC: 0.7793 - val_Precision: 0.6697 - val_Recall: 0.8795 - val_accuracy: 0.7125 - val_loss: 0.6601\n",
      "Epoch 49/50\n",
      "\u001b[1m20/20\u001b[0m \u001b[32m━━━━━━━━━━━━━━━━━━━━\u001b[0m\u001b[37m\u001b[0m \u001b[1m230s\u001b[0m 12s/step - AUC: 0.7889 - Precision: 0.7113 - Recall: 0.8768 - accuracy: 0.7663 - loss: 0.5226 - val_AUC: 0.7724 - val_Precision: 0.7423 - val_Recall: 0.8675 - val_accuracy: 0.7750 - val_loss: 0.5788\n",
      "Epoch 50/50\n",
      "\u001b[1m20/20\u001b[0m \u001b[32m━━━━━━━━━━━━━━━━━━━━\u001b[0m\u001b[37m\u001b[0m \u001b[1m230s\u001b[0m 12s/step - AUC: 0.7884 - Precision: 0.7335 - Recall: 0.9056 - accuracy: 0.7824 - loss: 0.4884 - val_AUC: 0.8143 - val_Precision: 0.7660 - val_Recall: 0.8675 - val_accuracy: 0.7937 - val_loss: 0.6591\n",
      "\u001b[1m7/7\u001b[0m \u001b[32m━━━━━━━━━━━━━━━━━━━━\u001b[0m\u001b[37m\u001b[0m \u001b[1m19s\u001b[0m 3s/step - AUC: 0.7504 - Precision: 0.7382 - Recall: 0.8332 - accuracy: 0.7502 - loss: 0.7065\n",
      "\u001b[1m7/7\u001b[0m \u001b[32m━━━━━━━━━━━━━━━━━━━━\u001b[0m\u001b[37m\u001b[0m \u001b[1m19s\u001b[0m 3s/step\n",
      "DeiT training completed and metrics saved to deit_metrics.csv\n"
     ]
    }
   ],
   "source": [
    "# import tensorflow as tf\n",
    "# from tensorflow import keras\n",
    "# from tensorflow.keras import layers\n",
    "# import numpy as np\n",
    "# import pandas as pd\n",
    "# from sklearn.model_selection import KFold\n",
    "# from sklearn.metrics import f1_score, confusion_matrix\n",
    "# import time\n",
    "\n",
    "# class ClassTokenLayer(layers.Layer):\n",
    "#     def __init__(self, embed_dim, **kwargs):\n",
    "#         super().__init__(**kwargs)\n",
    "#         self.embed_dim = embed_dim\n",
    "        \n",
    "#     def build(self, input_shape):\n",
    "#         self.class_token = self.add_weight(\n",
    "#             shape=(1, 1, self.embed_dim),\n",
    "#             initializer=\"random_normal\",\n",
    "#             trainable=True,\n",
    "#             name=\"class_token\"\n",
    "#         )\n",
    "    \n",
    "#     def call(self, inputs):\n",
    "#         batch_size = tf.shape(inputs)[0]\n",
    "#         class_tokens = tf.repeat(self.class_token, batch_size, axis=0)\n",
    "#         return tf.concat([class_tokens, inputs], axis=1)\n",
    "    \n",
    "#     def compute_output_shape(self, input_shape):\n",
    "#         return (input_shape[0], input_shape[1] + 1, input_shape[2])\n",
    "\n",
    "# class PositionEmbedding(layers.Layer):\n",
    "#     def __init__(self, num_patches, embed_dim, **kwargs):\n",
    "#         super().__init__(**kwargs)\n",
    "#         self.num_patches = num_patches\n",
    "#         self.embed_dim = embed_dim\n",
    "#         self.position_embedding = layers.Embedding(\n",
    "#             input_dim=num_patches + 1,\n",
    "#             output_dim=embed_dim\n",
    "#         )\n",
    "        \n",
    "#     def call(self, inputs):\n",
    "#         positions = tf.range(start=0, limit=tf.shape(inputs)[1], delta=1)\n",
    "#         embedded_positions = self.position_embedding(positions)\n",
    "#         return inputs + embedded_positions\n",
    "    \n",
    "#     def compute_output_shape(self, input_shape):\n",
    "#         return input_shape\n",
    "\n",
    "# class MultiHeadSelfAttention(layers.Layer):\n",
    "#     def __init__(self, num_heads, embed_dim, dropout=0., **kwargs):\n",
    "#         super().__init__(**kwargs)\n",
    "#         self.num_heads = num_heads\n",
    "#         self.embed_dim = embed_dim\n",
    "#         self.head_dim = embed_dim // num_heads\n",
    "#         self.scale = self.head_dim ** -0.5\n",
    "        \n",
    "#         self.qkv_dense = layers.Dense(3 * embed_dim)\n",
    "#         self.out_dense = layers.Dense(embed_dim)\n",
    "#         self.dropout = layers.Dropout(dropout)\n",
    "        \n",
    "#     def build(self, input_shape):\n",
    "#         super().build(input_shape)\n",
    "    \n",
    "#     def call(self, inputs, training=None):\n",
    "#         batch_size = tf.shape(inputs)[0]\n",
    "#         seq_len = tf.shape(inputs)[1]\n",
    "        \n",
    "#         qkv = self.qkv_dense(inputs)\n",
    "#         qkv = tf.reshape(qkv, (batch_size, seq_len, 3, self.num_heads, self.head_dim))\n",
    "#         qkv = tf.transpose(qkv, perm=[2, 0, 3, 1, 4])\n",
    "#         q, k, v = tf.unstack(qkv, axis=0)\n",
    "        \n",
    "#         attention = tf.matmul(q, k, transpose_b=True) * self.scale\n",
    "#         attention = tf.nn.softmax(attention, axis=-1)\n",
    "#         attention = self.dropout(attention, training=training)\n",
    "        \n",
    "#         x = tf.matmul(attention, v)\n",
    "#         x = tf.transpose(x, perm=[0, 2, 1, 3])\n",
    "#         x = tf.reshape(x, (batch_size, seq_len, self.embed_dim))\n",
    "#         x = self.out_dense(x)\n",
    "#         return x\n",
    "\n",
    "# class TransformerBlock(layers.Layer):\n",
    "#     def __init__(self, embed_dim, num_heads, mlp_dim, dropout=0.1, **kwargs):\n",
    "#         super().__init__(**kwargs)\n",
    "#         self.embed_dim = embed_dim\n",
    "#         self.num_heads = num_heads\n",
    "#         self.mlp_dim = mlp_dim\n",
    "        \n",
    "#         self.attention = MultiHeadSelfAttention(num_heads, embed_dim, dropout)\n",
    "#         self.mlp = keras.Sequential([\n",
    "#             layers.Dense(mlp_dim, activation=tf.nn.gelu),\n",
    "#             layers.Dropout(dropout),\n",
    "#             layers.Dense(embed_dim),\n",
    "#             layers.Dropout(dropout)\n",
    "#         ])\n",
    "#         self.layernorm1 = layers.LayerNormalization(epsilon=1e-6)\n",
    "#         self.layernorm2 = layers.LayerNormalization(epsilon=1e-6)\n",
    "#         self.dropout = layers.Dropout(dropout)\n",
    "        \n",
    "#     def build(self, input_shape):\n",
    "#         super().build(input_shape)\n",
    "    \n",
    "#     def call(self, inputs, training=None):\n",
    "#         x1 = self.layernorm1(inputs)\n",
    "#         attention_output = self.attention(x1, training=training)\n",
    "#         attention_output = self.dropout(attention_output, training=training)\n",
    "#         x2 = inputs + attention_output\n",
    "        \n",
    "#         x3 = self.layernorm2(x2)\n",
    "#         x3 = self.mlp(x3, training=training)\n",
    "#         return x2 + x3\n",
    "\n",
    "# def create_deit_model(input_shape=(224, 224, 3), patch_size=16):\n",
    "#     embed_dim = 384\n",
    "#     num_heads = 6\n",
    "#     mlp_dim = embed_dim * 4\n",
    "#     num_layers = 12\n",
    "#     dropout_rate = 0.1\n",
    "    \n",
    "#     num_patches = (input_shape[0] // patch_size) * (input_shape[1] // patch_size)\n",
    "    \n",
    "#     inputs = layers.Input(shape=input_shape)\n",
    "    \n",
    "#     # Patch embedding\n",
    "#     x = layers.Conv2D(embed_dim, patch_size, patch_size)(inputs)\n",
    "#     x = layers.Reshape((-1, embed_dim))(x)\n",
    "    \n",
    "#     # Add class token\n",
    "#     x = ClassTokenLayer(embed_dim)(x)\n",
    "    \n",
    "#     # Add position embedding\n",
    "#     x = PositionEmbedding(num_patches, embed_dim)(x)\n",
    "    \n",
    "#     # Transformer blocks\n",
    "#     for _ in range(num_layers):\n",
    "#         x = TransformerBlock(embed_dim, num_heads, mlp_dim, dropout_rate)(x)\n",
    "    \n",
    "#     # Layer norm and head\n",
    "#     x = layers.LayerNormalization(epsilon=1e-6)(x)\n",
    "#     x = layers.Lambda(lambda x: x[:, 0])(x)  # Take class token\n",
    "#     x = layers.Dense(512, activation='relu')(x)\n",
    "#     x = layers.Dropout(dropout_rate)(x)\n",
    "#     outputs = layers.Dense(1, activation='sigmoid')(x)\n",
    "    \n",
    "#     return keras.Model(inputs=inputs, outputs=outputs)\n",
    "\n",
    "# metrics_list = []\n",
    "# k = 5  # number of folds\n",
    "# kf = KFold(n_splits=k, shuffle=True, random_state=42)\n",
    "\n",
    "# # Add channel dimension to the data\n",
    "# X_train_combined = np.expand_dims(X_train_combined, axis=-1)\n",
    "# X_test = np.expand_dims(X_test, axis=-1)\n",
    "\n",
    "# # Repeat the single channel to make it 3 channels (since model expects RGB)\n",
    "# X_train_combined = np.repeat(X_train_combined, 3, axis=-1)\n",
    "# X_test = np.repeat(X_test, 3, axis=-1)\n",
    "\n",
    "# print(\"Training data shape after adding channels:\", X_train_combined.shape)\n",
    "# print(\"Test data shape after adding channels:\", X_test.shape)\n",
    "\n",
    "# for fold, (train_idx, val_idx) in enumerate(kf.split(X_train_combined)):\n",
    "#     print(f'Fold {fold + 1}/{k}')\n",
    "    \n",
    "#     # Split data\n",
    "#     X_train_fold = X_train_combined[train_idx]\n",
    "#     y_train_fold = y_train_combined[train_idx]\n",
    "#     X_val_fold = X_train_combined[val_idx]\n",
    "#     y_val_fold = y_train_combined[val_idx]\n",
    "    \n",
    "#     print(f\"Training fold shape: {X_train_fold.shape}\")\n",
    "#     print(f\"Validation fold shape: {X_val_fold.shape}\")\n",
    "    \n",
    "#     # Create and compile model\n",
    "#     model = create_deit_model()\n",
    "#     model.compile(\n",
    "#         optimizer=keras.optimizers.Adam(learning_rate=0.001),\n",
    "#         loss='binary_crossentropy',\n",
    "#         metrics=['accuracy', 'Precision', 'Recall', 'AUC']\n",
    "#     )\n",
    "    \n",
    "#     # Train model\n",
    "#     start_time = time.time()\n",
    "#     history = model.fit(\n",
    "#         X_train_fold, \n",
    "#         y_train_fold,\n",
    "#         validation_data=(X_val_fold, y_val_fold),\n",
    "#         epochs=50,\n",
    "#         batch_size=32,\n",
    "#         verbose=1\n",
    "#     )\n",
    "#     training_time = time.time() - start_time\n",
    "    \n",
    "#     # Evaluate model\n",
    "#     test_results = model.evaluate(X_test, y_test)\n",
    "#     y_pred = model.predict(X_test)\n",
    "#     y_pred_binary = (y_pred > 0.5).astype(int)\n",
    "\n",
    "#     # Modify the metrics calculation section in your fold loop as follows:\n",
    "#     # Calculate confusion matrix metrics\n",
    "#     tn, fp, fn, tp = confusion_matrix(y_test, y_pred_binary).ravel()\n",
    "    \n",
    "#     # Calculate additional metrics\n",
    "#     specificity = tn / (tn + fp) if (tn + fp) > 0 else 0\n",
    "#     mcc = matthews_corrcoef(y_test, y_pred_binary)\n",
    "#     # Calculate log loss (cross-entropy)\n",
    "#     log_loss = -np.mean(y_test * np.log(np.clip(y_pred, 1e-15, 1.0)) + \n",
    "#                         (1 - y_test) * np.log(np.clip(1 - y_pred, 1e-15, 1.0)))\n",
    "#     # Calculate geometric mean score\n",
    "#     sensitivity = tp / (tp + fn) if (tp + fn) > 0 else 0  # same as recall\n",
    "#     g_mean = np.sqrt(sensitivity * specificity) if (sensitivity * specificity) > 0 else 0\n",
    "#     # Calculate Youden's J statistic (J = sensitivity + specificity - 1)\n",
    "#     youdens_j = sensitivity + specificity - 1\n",
    "#     balanced_acc = balanced_accuracy_score(y_test, y_pred_binary)\n",
    "#     kappa = cohen_kappa_score(y_test, y_pred_binary)\n",
    "    \n",
    "#     # Store metrics (existing and new)\n",
    "#     fold_metrics = {\n",
    "#         'Fold': fold + 1,\n",
    "#         'K': k,\n",
    "#         'Test_Accuracy': test_results[1],\n",
    "#         'Train_Accuracy': history.history['accuracy'][-1],\n",
    "#         'Precision': test_results[2],\n",
    "#         'Recall': test_results[3],\n",
    "#         'AUC_ROC': test_results[4],\n",
    "#         'F1_Score': f1_score(y_test, y_pred_binary),\n",
    "#         'Training_Loss': history.history['loss'][-1],\n",
    "#         'Testing_Loss': test_results[0],\n",
    "#         'Time_Taken': training_time,\n",
    "#         'TP': tp,\n",
    "#         'TN': tn,\n",
    "#         'FP': fp,\n",
    "#         'FN': fn,\n",
    "#         # New metrics\n",
    "#         'Specificity': specificity,\n",
    "#         'MCC': mcc,\n",
    "#         'Log_Loss': log_loss,\n",
    "#         'G_Mean': g_mean,\n",
    "#         'Youdens_J': youdens_j,\n",
    "#         'Balanced_Accuracy': balanced_acc,\n",
    "#         'Cohens_Kappa': kappa\n",
    "#     }\n",
    "#     metrics_list.append(fold_metrics)\n",
    "\n",
    "# # Save metrics to CSV (unchanged)\n",
    "# metrics_df = pd.DataFrame(metrics_list)\n",
    "# metrics_df.to_csv('outputresults/deit_metrics111.csv', index=False)\n",
    "# print(\"DeiT training completed and metrics saved to deit_metrics.csv\")\n"
   ]
  },
  {
   "cell_type": "raw",
   "id": "1cad21e7-4b3f-47c4-90ea-c5d0b1b3449e",
   "metadata": {},
   "source": [
    "\n",
    "1. **Log Loss (Cross-Entropy)** - Measures how far each prediction is from the actual label. Unlike accuracy metrics, it penalizes confident wrong predictions more severely, making it useful for evaluating probabilistic outputs.\n",
    "\n",
    "2. **G-Mean (Geometric Mean)** - Calculated as the square root of (sensitivity × specificity). This metric is particularly useful for imbalanced datasets as it maintains good performance on both the majority and minority classes.\n",
    "\n",
    "3. **Youden's J Statistic** - Calculated as (sensitivity + specificity - 1). This statistic combines sensitivity and specificity into a single measure, with values ranging from -1 to 1. A value of 1 indicates a perfect test, while 0 represents a test with no discriminative value.\n",
    "\n",
    "These metrics will contribute to your evaluation in the following ways:\n",
    "\n",
    "- **Log Loss**: Provides insight into the quality of the probability predictions, not just the binary outcome. Lower values indicate better calibrated probability estimates. This is especially useful if you're using the predicted probabilities for decision-making with varying thresholds.\n",
    "\n",
    "- **G-Mean**: Particularly valuable for imbalanced datasets. If your classes are imbalanced, a high G-Mean indicates the model performs well on both classes, not just the majority class.\n",
    "\n",
    "- **Youden's J Statistic**: Helps in finding the optimal threshold for your model by maximizing both sensitivity and specificity. It's especially useful when you need to balance between false positives and false negatives.\n",
    "\n",
    "Together with the other metrics (Specificity, MCC, Balanced Accuracy, and Cohen's Kappa), these additional metrics provide a comprehensive evaluation of your binary image classification model, especially in scenarios with class imbalance or when the costs of different types of errors vary.\n",
    "\n",
    "\n",
    "Specificity: Will help you understand how well your model identifies negative cases. This is particularly valuable if the cost of false positives is high in your application (e.g., incorrectly classifying a normal image as abnormal).\n",
    "Matthews Correlation Coefficient (MCC): This metric is particularly useful when your dataset is imbalanced. It provides a more balanced measure of quality than accuracy, as it considers all four confusion matrix categories (TP, TN, FP, FN).\n",
    "\n",
    "Balanced Accuracy: Provides a better metric than standard accuracy when your classes are imbalanced, as it's the average of recall and specificity.\n",
    "Cohen's Kappa: Measures how much better your model is performing compared to random chance. It's particularly useful for imbalanced datasets where high accuracy might be misleading.\n",
    "\n"
   ]
  },
  {
   "cell_type": "code",
   "execution_count": 14,
   "id": "cee58050-7532-4235-ae2d-bce357eb3384",
   "metadata": {},
   "outputs": [
    {
     "name": "stdout",
     "output_type": "stream",
     "text": [
      "Training data shape: (800, 224, 224, 3)\n",
      "Test data shape: (200, 224, 224, 3)\n",
      "\n",
      "=== Starting 5-fold cross-validation ===\n",
      "Fold 1/5\n",
      "Training fold shape: (640, 224, 224, 3)\n",
      "Validation fold shape: (160, 224, 224, 3)\n",
      "Epoch 1/50\n",
      "\u001b[1m10/10\u001b[0m \u001b[32m━━━━━━━━━━━━━━━━━━━━\u001b[0m\u001b[37m\u001b[0m \u001b[1m92s\u001b[0m 8s/step - AUC: 0.6144 - Precision: 0.6417 - Recall: 0.6388 - accuracy: 0.6286 - loss: 0.9631 - val_AUC: 0.7678 - val_Precision: 0.0000e+00 - val_Recall: 0.0000e+00 - val_accuracy: 0.5188 - val_loss: 0.6449 - learning_rate: 0.0010\n",
      "Epoch 2/50\n",
      "\u001b[1m10/10\u001b[0m \u001b[32m━━━━━━━━━━━━━━━━━━━━\u001b[0m\u001b[37m\u001b[0m \u001b[1m89s\u001b[0m 9s/step - AUC: 0.7173 - Precision: 0.6777 - Recall: 0.6814 - accuracy: 0.6697 - loss: 0.6582 - val_AUC: 0.7335 - val_Precision: 0.6018 - val_Recall: 0.8831 - val_accuracy: 0.6625 - val_loss: 0.6121 - learning_rate: 0.0010\n",
      "Epoch 3/50\n",
      "\u001b[1m10/10\u001b[0m \u001b[32m━━━━━━━━━━━━━━━━━━━━\u001b[0m\u001b[37m\u001b[0m \u001b[1m86s\u001b[0m 9s/step - AUC: 0.7646 - Precision: 0.6909 - Recall: 0.8140 - accuracy: 0.7297 - loss: 0.5680 - val_AUC: 0.7360 - val_Precision: 0.5530 - val_Recall: 0.9481 - val_accuracy: 0.6062 - val_loss: 0.6865 - learning_rate: 0.0010\n",
      "Epoch 4/50\n",
      "\u001b[1m10/10\u001b[0m \u001b[32m━━━━━━━━━━━━━━━━━━━━\u001b[0m\u001b[37m\u001b[0m \u001b[1m84s\u001b[0m 8s/step - AUC: 0.7468 - Precision: 0.6756 - Recall: 0.6926 - accuracy: 0.6870 - loss: 0.6107 - val_AUC: 0.5515 - val_Precision: 0.3000 - val_Recall: 0.0390 - val_accuracy: 0.4938 - val_loss: 0.7117 - learning_rate: 0.0010\n",
      "Epoch 5/50\n",
      "\u001b[1m10/10\u001b[0m \u001b[32m━━━━━━━━━━━━━━━━━━━━\u001b[0m\u001b[37m\u001b[0m \u001b[1m84s\u001b[0m 8s/step - AUC: 0.7556 - Precision: 0.7113 - Recall: 0.7091 - accuracy: 0.7187 - loss: 0.5932 - val_AUC: 0.7471 - val_Precision: 0.4812 - val_Recall: 1.0000 - val_accuracy: 0.4812 - val_loss: 0.9916 - learning_rate: 0.0010\n",
      "Epoch 6/50\n",
      "\u001b[1m10/10\u001b[0m \u001b[32m━━━━━━━━━━━━━━━━━━━━\u001b[0m\u001b[37m\u001b[0m \u001b[1m91s\u001b[0m 9s/step - AUC: 0.8053 - Precision: 0.7289 - Recall: 0.8188 - accuracy: 0.7533 - loss: 0.5485 - val_AUC: 0.7615 - val_Precision: 0.4812 - val_Recall: 1.0000 - val_accuracy: 0.4812 - val_loss: 0.9617 - learning_rate: 5.0000e-04\n",
      "Epoch 7/50\n",
      "\u001b[1m10/10\u001b[0m \u001b[32m━━━━━━━━━━━━━━━━━━━━\u001b[0m\u001b[37m\u001b[0m \u001b[1m85s\u001b[0m 9s/step - AUC: 0.7649 - Precision: 0.7085 - Recall: 0.8172 - accuracy: 0.7399 - loss: 0.5736 - val_AUC: 0.7568 - val_Precision: 0.4812 - val_Recall: 1.0000 - val_accuracy: 0.4812 - val_loss: 0.7510 - learning_rate: 5.0000e-04\n",
      "Fold 2/5\n",
      "Training fold shape: (640, 224, 224, 3)\n",
      "Validation fold shape: (160, 224, 224, 3)\n",
      "Epoch 1/50\n",
      "\u001b[1m10/10\u001b[0m \u001b[32m━━━━━━━━━━━━━━━━━━━━\u001b[0m\u001b[37m\u001b[0m \u001b[1m99s\u001b[0m 9s/step - AUC: 0.6624 - Precision: 0.6171 - Recall: 0.6253 - accuracy: 0.6071 - loss: 0.7947 - val_AUC: 0.4221 - val_Precision: 0.1923 - val_Recall: 0.0633 - val_accuracy: 0.4062 - val_loss: 0.7853 - learning_rate: 0.0010\n",
      "Epoch 2/50\n",
      "\u001b[1m10/10\u001b[0m \u001b[32m━━━━━━━━━━━━━━━━━━━━\u001b[0m\u001b[37m\u001b[0m \u001b[1m88s\u001b[0m 9s/step - AUC: 0.7421 - Precision: 0.6958 - Recall: 0.7387 - accuracy: 0.7018 - loss: 0.6212 - val_AUC: 0.7568 - val_Precision: 0.6800 - val_Recall: 0.8608 - val_accuracy: 0.7312 - val_loss: 0.6571 - learning_rate: 0.0010\n",
      "Epoch 3/50\n",
      "\u001b[1m10/10\u001b[0m \u001b[32m━━━━━━━━━━━━━━━━━━━━\u001b[0m\u001b[37m\u001b[0m \u001b[1m85s\u001b[0m 9s/step - AUC: 0.7385 - Precision: 0.6940 - Recall: 0.6812 - accuracy: 0.6811 - loss: 0.6287 - val_AUC: 0.7550 - val_Precision: 0.4938 - val_Recall: 1.0000 - val_accuracy: 0.4938 - val_loss: 0.8699 - learning_rate: 0.0010\n",
      "Epoch 4/50\n",
      "\u001b[1m10/10\u001b[0m \u001b[32m━━━━━━━━━━━━━━━━━━━━\u001b[0m\u001b[37m\u001b[0m \u001b[1m90s\u001b[0m 9s/step - AUC: 0.7578 - Precision: 0.7128 - Recall: 0.7821 - accuracy: 0.7346 - loss: 0.5896 - val_AUC: 0.7744 - val_Precision: 0.5097 - val_Recall: 1.0000 - val_accuracy: 0.5250 - val_loss: 0.6772 - learning_rate: 0.0010\n",
      "Epoch 5/50\n",
      "\u001b[1m10/10\u001b[0m \u001b[32m━━━━━━━━━━━━━━━━━━━━\u001b[0m\u001b[37m\u001b[0m \u001b[1m87s\u001b[0m 9s/step - AUC: 0.7898 - Precision: 0.7129 - Recall: 0.8022 - accuracy: 0.7402 - loss: 0.5573 - val_AUC: 0.7412 - val_Precision: 0.4938 - val_Recall: 1.0000 - val_accuracy: 0.4938 - val_loss: 0.8755 - learning_rate: 0.0010\n",
      "Epoch 6/50\n",
      "\u001b[1m10/10\u001b[0m \u001b[32m━━━━━━━━━━━━━━━━━━━━\u001b[0m\u001b[37m\u001b[0m \u001b[1m87s\u001b[0m 9s/step - AUC: 0.7852 - Precision: 0.7523 - Recall: 0.8481 - accuracy: 0.7777 - loss: 0.5395 - val_AUC: 0.7545 - val_Precision: 0.4938 - val_Recall: 1.0000 - val_accuracy: 0.4938 - val_loss: 0.7013 - learning_rate: 5.0000e-04\n",
      "Epoch 7/50\n",
      "\u001b[1m10/10\u001b[0m \u001b[32m━━━━━━━━━━━━━━━━━━━━\u001b[0m\u001b[37m\u001b[0m \u001b[1m86s\u001b[0m 9s/step - AUC: 0.8002 - Precision: 0.7477 - Recall: 0.8224 - accuracy: 0.7791 - loss: 0.5286 - val_AUC: 0.7577 - val_Precision: 0.4938 - val_Recall: 1.0000 - val_accuracy: 0.4938 - val_loss: 0.7766 - learning_rate: 5.0000e-04\n",
      "Fold 3/5\n",
      "Training fold shape: (640, 224, 224, 3)\n",
      "Validation fold shape: (160, 224, 224, 3)\n",
      "Epoch 1/50\n",
      "\u001b[1m10/10\u001b[0m \u001b[32m━━━━━━━━━━━━━━━━━━━━\u001b[0m\u001b[37m\u001b[0m \u001b[1m98s\u001b[0m 9s/step - AUC: 0.7040 - Precision: 0.6008 - Recall: 0.6678 - accuracy: 0.6382 - loss: 0.7458 - val_AUC: 0.7576 - val_Precision: 0.5063 - val_Recall: 1.0000 - val_accuracy: 0.5125 - val_loss: 0.7242 - learning_rate: 0.0010\n",
      "Epoch 2/50\n",
      "\u001b[1m10/10\u001b[0m \u001b[32m━━━━━━━━━━━━━━━━━━━━\u001b[0m\u001b[37m\u001b[0m \u001b[1m86s\u001b[0m 9s/step - AUC: 0.7626 - Precision: 0.6835 - Recall: 0.7602 - accuracy: 0.7101 - loss: 0.6254 - val_AUC: 0.4405 - val_Precision: 0.3043 - val_Recall: 0.1750 - val_accuracy: 0.3875 - val_loss: 0.8417 - learning_rate: 0.0010\n",
      "Epoch 3/50\n",
      "\u001b[1m10/10\u001b[0m \u001b[32m━━━━━━━━━━━━━━━━━━━━\u001b[0m\u001b[37m\u001b[0m \u001b[1m86s\u001b[0m 9s/step - AUC: 0.7424 - Precision: 0.6557 - Recall: 0.7795 - accuracy: 0.7126 - loss: 0.6127 - val_AUC: 0.5999 - val_Precision: 0.0000e+00 - val_Recall: 0.0000e+00 - val_accuracy: 0.5000 - val_loss: 0.6888 - learning_rate: 0.0010\n",
      "Epoch 4/50\n",
      "\u001b[1m10/10\u001b[0m \u001b[32m━━━━━━━━━━━━━━━━━━━━\u001b[0m\u001b[37m\u001b[0m \u001b[1m87s\u001b[0m 9s/step - AUC: 0.7322 - Precision: 0.6825 - Recall: 0.7721 - accuracy: 0.7189 - loss: 0.6119 - val_AUC: 0.7084 - val_Precision: 0.6875 - val_Recall: 0.1375 - val_accuracy: 0.5375 - val_loss: 0.6527 - learning_rate: 0.0010\n",
      "Epoch 5/50\n",
      "\u001b[1m10/10\u001b[0m \u001b[32m━━━━━━━━━━━━━━━━━━━━\u001b[0m\u001b[37m\u001b[0m \u001b[1m88s\u001b[0m 9s/step - AUC: 0.7685 - Precision: 0.7346 - Recall: 0.8810 - accuracy: 0.7759 - loss: 0.5611 - val_AUC: 0.5055 - val_Precision: 0.0000e+00 - val_Recall: 0.0000e+00 - val_accuracy: 0.5000 - val_loss: 0.8455 - learning_rate: 0.0010\n",
      "Epoch 6/50\n",
      "\u001b[1m10/10\u001b[0m \u001b[32m━━━━━━━━━━━━━━━━━━━━\u001b[0m\u001b[37m\u001b[0m \u001b[1m86s\u001b[0m 9s/step - AUC: 0.7906 - Precision: 0.7369 - Recall: 0.8258 - accuracy: 0.7659 - loss: 0.5550 - val_AUC: 0.7440 - val_Precision: 0.6400 - val_Recall: 0.8000 - val_accuracy: 0.6750 - val_loss: 0.6554 - learning_rate: 0.0010\n",
      "Epoch 7/50\n",
      "\u001b[1m10/10\u001b[0m \u001b[32m━━━━━━━━━━━━━━━━━━━━\u001b[0m\u001b[37m\u001b[0m \u001b[1m86s\u001b[0m 9s/step - AUC: 0.7866 - Precision: 0.6968 - Recall: 0.8367 - accuracy: 0.7494 - loss: 0.5323 - val_AUC: 0.7359 - val_Precision: 0.6038 - val_Recall: 0.8000 - val_accuracy: 0.6375 - val_loss: 0.6544 - learning_rate: 0.0010\n",
      "Epoch 8/50\n",
      "\u001b[1m10/10\u001b[0m \u001b[32m━━━━━━━━━━━━━━━━━━━━\u001b[0m\u001b[37m\u001b[0m \u001b[1m89s\u001b[0m 9s/step - AUC: 0.7286 - Precision: 0.6823 - Recall: 0.8151 - accuracy: 0.7289 - loss: 0.5766 - val_AUC: 0.7487 - val_Precision: 0.6737 - val_Recall: 0.8000 - val_accuracy: 0.7063 - val_loss: 0.6359 - learning_rate: 5.0000e-04\n",
      "Epoch 9/50\n",
      "\u001b[1m10/10\u001b[0m \u001b[32m━━━━━━━━━━━━━━━━━━━━\u001b[0m\u001b[37m\u001b[0m \u001b[1m85s\u001b[0m 9s/step - AUC: 0.7702 - Precision: 0.7089 - Recall: 0.8693 - accuracy: 0.7569 - loss: 0.5426 - val_AUC: 0.7597 - val_Precision: 0.0000e+00 - val_Recall: 0.0000e+00 - val_accuracy: 0.5000 - val_loss: 0.7035 - learning_rate: 5.0000e-04\n",
      "Epoch 10/50\n",
      "\u001b[1m10/10\u001b[0m \u001b[32m━━━━━━━━━━━━━━━━━━━━\u001b[0m\u001b[37m\u001b[0m \u001b[1m85s\u001b[0m 9s/step - AUC: 0.7646 - Precision: 0.7188 - Recall: 0.8745 - accuracy: 0.7611 - loss: 0.5502 - val_AUC: 0.7312 - val_Precision: 0.0000e+00 - val_Recall: 0.0000e+00 - val_accuracy: 0.5000 - val_loss: 0.7428 - learning_rate: 5.0000e-04\n",
      "Epoch 11/50\n",
      "\u001b[1m10/10\u001b[0m \u001b[32m━━━━━━━━━━━━━━━━━━━━\u001b[0m\u001b[37m\u001b[0m \u001b[1m85s\u001b[0m 9s/step - AUC: 0.7691 - Precision: 0.7228 - Recall: 0.8433 - accuracy: 0.7630 - loss: 0.5449 - val_AUC: 0.7562 - val_Precision: 0.7045 - val_Recall: 0.7750 - val_accuracy: 0.7250 - val_loss: 0.6166 - learning_rate: 5.0000e-04\n",
      "Epoch 12/50\n",
      "\u001b[1m10/10\u001b[0m \u001b[32m━━━━━━━━━━━━━━━━━━━━\u001b[0m\u001b[37m\u001b[0m \u001b[1m87s\u001b[0m 9s/step - AUC: 0.7608 - Precision: 0.7212 - Recall: 0.8818 - accuracy: 0.7680 - loss: 0.5440 - val_AUC: 0.7525 - val_Precision: 0.6966 - val_Recall: 0.7750 - val_accuracy: 0.7188 - val_loss: 0.6185 - learning_rate: 5.0000e-04\n",
      "Epoch 13/50\n",
      "\u001b[1m10/10\u001b[0m \u001b[32m━━━━━━━━━━━━━━━━━━━━\u001b[0m\u001b[37m\u001b[0m \u001b[1m85s\u001b[0m 8s/step - AUC: 0.7869 - Precision: 0.7155 - Recall: 0.8754 - accuracy: 0.7629 - loss: 0.5327 - val_AUC: 0.7637 - val_Precision: 0.0000e+00 - val_Recall: 0.0000e+00 - val_accuracy: 0.5000 - val_loss: 0.6447 - learning_rate: 5.0000e-04\n",
      "Epoch 14/50\n",
      "\u001b[1m10/10\u001b[0m \u001b[32m━━━━━━━━━━━━━━━━━━━━\u001b[0m\u001b[37m\u001b[0m \u001b[1m83s\u001b[0m 8s/step - AUC: 0.7664 - Precision: 0.6970 - Recall: 0.8443 - accuracy: 0.7421 - loss: 0.5582 - val_AUC: 0.7501 - val_Precision: 0.6966 - val_Recall: 0.7750 - val_accuracy: 0.7188 - val_loss: 0.5963 - learning_rate: 5.0000e-04\n",
      "Epoch 15/50\n",
      "\u001b[1m10/10\u001b[0m \u001b[32m━━━━━━━━━━━━━━━━━━━━\u001b[0m\u001b[37m\u001b[0m \u001b[1m83s\u001b[0m 8s/step - AUC: 0.8023 - Precision: 0.7167 - Recall: 0.8683 - accuracy: 0.7612 - loss: 0.5355 - val_AUC: 0.7472 - val_Precision: 0.7000 - val_Recall: 0.7875 - val_accuracy: 0.7250 - val_loss: 0.6098 - learning_rate: 5.0000e-04\n",
      "Epoch 16/50\n",
      "\u001b[1m10/10\u001b[0m \u001b[32m━━━━━━━━━━━━━━━━━━━━\u001b[0m\u001b[37m\u001b[0m \u001b[1m83s\u001b[0m 8s/step - AUC: 0.7920 - Precision: 0.7027 - Recall: 0.8761 - accuracy: 0.7614 - loss: 0.5257 - val_AUC: 0.7480 - val_Precision: 0.0000e+00 - val_Recall: 0.0000e+00 - val_accuracy: 0.5000 - val_loss: 0.6709 - learning_rate: 5.0000e-04\n",
      "Epoch 17/50\n",
      "\u001b[1m10/10\u001b[0m \u001b[32m━━━━━━━━━━━━━━━━━━━━\u001b[0m\u001b[37m\u001b[0m \u001b[1m83s\u001b[0m 8s/step - AUC: 0.8033 - Precision: 0.7122 - Recall: 0.8392 - accuracy: 0.7579 - loss: 0.5197 - val_AUC: 0.7700 - val_Precision: 0.0000e+00 - val_Recall: 0.0000e+00 - val_accuracy: 0.5000 - val_loss: 0.6850 - learning_rate: 5.0000e-04\n",
      "Epoch 18/50\n",
      "\u001b[1m10/10\u001b[0m \u001b[32m━━━━━━━━━━━━━━━━━━━━\u001b[0m\u001b[37m\u001b[0m \u001b[1m85s\u001b[0m 8s/step - AUC: 0.7864 - Precision: 0.7164 - Recall: 0.8821 - accuracy: 0.7751 - loss: 0.5113 - val_AUC: 0.7645 - val_Precision: 1.0000 - val_Recall: 0.0250 - val_accuracy: 0.5125 - val_loss: 0.6330 - learning_rate: 2.5000e-04\n",
      "Epoch 19/50\n",
      "\u001b[1m10/10\u001b[0m \u001b[32m━━━━━━━━━━━━━━━━━━━━\u001b[0m\u001b[37m\u001b[0m \u001b[1m88s\u001b[0m 9s/step - AUC: 0.8204 - Precision: 0.7229 - Recall: 0.8762 - accuracy: 0.7809 - loss: 0.4995 - val_AUC: 0.7727 - val_Precision: 1.0000 - val_Recall: 0.0250 - val_accuracy: 0.5125 - val_loss: 0.6468 - learning_rate: 2.5000e-04\n",
      "WARNING:tensorflow:5 out of the last 15 calls to <function TensorFlowTrainer.make_predict_function.<locals>.one_step_on_data_distributed at 0x394c1eca0> triggered tf.function retracing. Tracing is expensive and the excessive number of tracings could be due to (1) creating @tf.function repeatedly in a loop, (2) passing tensors with different shapes, (3) passing Python objects instead of tensors. For (1), please define your @tf.function outside of the loop. For (2), @tf.function has reduce_retracing=True option that can avoid unnecessary retracing. For (3), please refer to https://www.tensorflow.org/guide/function#controlling_retracing and https://www.tensorflow.org/api_docs/python/tf/function for  more details.\n",
      "Fold 4/5\n",
      "Training fold shape: (640, 224, 224, 3)\n",
      "Validation fold shape: (160, 224, 224, 3)\n",
      "Epoch 1/50\n",
      "\u001b[1m10/10\u001b[0m \u001b[32m━━━━━━━━━━━━━━━━━━━━\u001b[0m\u001b[37m\u001b[0m \u001b[1m94s\u001b[0m 8s/step - AUC: 0.5970 - Precision: 0.5903 - Recall: 0.6287 - accuracy: 0.5827 - loss: 0.8081 - val_AUC: 0.8034 - val_Precision: 0.0000e+00 - val_Recall: 0.0000e+00 - val_accuracy: 0.5375 - val_loss: 0.6080 - learning_rate: 0.0010\n",
      "Epoch 2/50\n",
      "\u001b[1m10/10\u001b[0m \u001b[32m━━━━━━━━━━━━━━━━━━━━\u001b[0m\u001b[37m\u001b[0m \u001b[1m84s\u001b[0m 8s/step - AUC: 0.7092 - Precision: 0.6670 - Recall: 0.7165 - accuracy: 0.6822 - loss: 0.6480 - val_AUC: 0.7979 - val_Precision: 0.5426 - val_Recall: 0.9459 - val_accuracy: 0.6062 - val_loss: 0.6799 - learning_rate: 0.0010\n",
      "Epoch 3/50\n",
      "\u001b[1m10/10\u001b[0m \u001b[32m━━━━━━━━━━━━━━━━━━━━\u001b[0m\u001b[37m\u001b[0m \u001b[1m87s\u001b[0m 9s/step - AUC: 0.7310 - Precision: 0.6520 - Recall: 0.7786 - accuracy: 0.6828 - loss: 0.6519 - val_AUC: 0.8045 - val_Precision: 0.6364 - val_Recall: 0.9459 - val_accuracy: 0.7250 - val_loss: 0.6145 - learning_rate: 0.0010\n",
      "Epoch 4/50\n",
      "\u001b[1m10/10\u001b[0m \u001b[32m━━━━━━━━━━━━━━━━━━━━\u001b[0m\u001b[37m\u001b[0m \u001b[1m88s\u001b[0m 9s/step - AUC: 0.7464 - Precision: 0.6985 - Recall: 0.7648 - accuracy: 0.7158 - loss: 0.6105 - val_AUC: 0.8091 - val_Precision: 0.5600 - val_Recall: 0.9459 - val_accuracy: 0.6313 - val_loss: 0.7919 - learning_rate: 0.0010\n",
      "Epoch 5/50\n",
      "\u001b[1m10/10\u001b[0m \u001b[32m━━━━━━━━━━━━━━━━━━━━\u001b[0m\u001b[37m\u001b[0m \u001b[1m85s\u001b[0m 8s/step - AUC: 0.7540 - Precision: 0.6982 - Recall: 0.7336 - accuracy: 0.7111 - loss: 0.6197 - val_AUC: 0.6151 - val_Precision: 0.5106 - val_Recall: 0.9730 - val_accuracy: 0.5562 - val_loss: 0.8847 - learning_rate: 5.0000e-04\n",
      "Epoch 6/50\n",
      "\u001b[1m10/10\u001b[0m \u001b[32m━━━━━━━━━━━━━━━━━━━━\u001b[0m\u001b[37m\u001b[0m \u001b[1m86s\u001b[0m 9s/step - AUC: 0.6944 - Precision: 0.6806 - Recall: 0.6981 - accuracy: 0.6755 - loss: 0.7000 - val_AUC: 0.7582 - val_Precision: 0.5303 - val_Recall: 0.9459 - val_accuracy: 0.5875 - val_loss: 0.7583 - learning_rate: 5.0000e-04\n",
      "WARNING:tensorflow:5 out of the last 15 calls to <function TensorFlowTrainer.make_predict_function.<locals>.one_step_on_data_distributed at 0x367a5fba0> triggered tf.function retracing. Tracing is expensive and the excessive number of tracings could be due to (1) creating @tf.function repeatedly in a loop, (2) passing tensors with different shapes, (3) passing Python objects instead of tensors. For (1), please define your @tf.function outside of the loop. For (2), @tf.function has reduce_retracing=True option that can avoid unnecessary retracing. For (3), please refer to https://www.tensorflow.org/guide/function#controlling_retracing and https://www.tensorflow.org/api_docs/python/tf/function for  more details.\n",
      "Fold 5/5\n",
      "Training fold shape: (640, 224, 224, 3)\n",
      "Validation fold shape: (160, 224, 224, 3)\n",
      "Epoch 1/50\n",
      "\u001b[1m10/10\u001b[0m \u001b[32m━━━━━━━━━━━━━━━━━━━━\u001b[0m\u001b[37m\u001b[0m \u001b[1m96s\u001b[0m 9s/step - AUC: 0.6207 - Precision: 0.5885 - Recall: 0.4588 - accuracy: 0.5884 - loss: 0.7959 - val_AUC: 0.7538 - val_Precision: 0.0000e+00 - val_Recall: 0.0000e+00 - val_accuracy: 0.4625 - val_loss: 0.6561 - learning_rate: 0.0010\n",
      "Epoch 2/50\n",
      "\u001b[1m10/10\u001b[0m \u001b[32m━━━━━━━━━━━━━━━━━━━━\u001b[0m\u001b[37m\u001b[0m \u001b[1m84s\u001b[0m 8s/step - AUC: 0.7099 - Precision: 0.6719 - Recall: 0.7454 - accuracy: 0.6890 - loss: 0.6511 - val_AUC: 0.7340 - val_Precision: 0.6303 - val_Recall: 0.8721 - val_accuracy: 0.6562 - val_loss: 0.6376 - learning_rate: 0.0010\n",
      "Epoch 3/50\n",
      "\u001b[1m10/10\u001b[0m \u001b[32m━━━━━━━━━━━━━━━━━━━━\u001b[0m\u001b[37m\u001b[0m \u001b[1m85s\u001b[0m 9s/step - AUC: 0.7553 - Precision: 0.6639 - Recall: 0.7960 - accuracy: 0.7147 - loss: 0.6040 - val_AUC: 0.3593 - val_Precision: 0.2162 - val_Recall: 0.0930 - val_accuracy: 0.3313 - val_loss: 0.7259 - learning_rate: 0.0010\n",
      "Epoch 4/50\n",
      "\u001b[1m10/10\u001b[0m \u001b[32m━━━━━━━━━━━━━━━━━━━━\u001b[0m\u001b[37m\u001b[0m \u001b[1m86s\u001b[0m 9s/step - AUC: 0.7417 - Precision: 0.7152 - Recall: 0.5814 - accuracy: 0.6705 - loss: 0.6257 - val_AUC: 0.7697 - val_Precision: 0.5375 - val_Recall: 1.0000 - val_accuracy: 0.5375 - val_loss: 0.7326 - learning_rate: 0.0010\n",
      "Epoch 5/50\n",
      "\u001b[1m10/10\u001b[0m \u001b[32m━━━━━━━━━━━━━━━━━━━━\u001b[0m\u001b[37m\u001b[0m \u001b[1m86s\u001b[0m 9s/step - AUC: 0.7491 - Precision: 0.6990 - Recall: 0.7298 - accuracy: 0.7152 - loss: 0.6334 - val_AUC: 0.6244 - val_Precision: 0.0000e+00 - val_Recall: 0.0000e+00 - val_accuracy: 0.4625 - val_loss: 0.7501 - learning_rate: 0.0010\n",
      "Epoch 6/50\n",
      "\u001b[1m10/10\u001b[0m \u001b[32m━━━━━━━━━━━━━━━━━━━━\u001b[0m\u001b[37m\u001b[0m \u001b[1m85s\u001b[0m 8s/step - AUC: 0.7852 - Precision: 0.7450 - Recall: 0.6474 - accuracy: 0.7037 - loss: 0.6013 - val_AUC: 0.7231 - val_Precision: 0.6074 - val_Recall: 0.9535 - val_accuracy: 0.6438 - val_loss: 0.6524 - learning_rate: 5.0000e-04\n",
      "Epoch 7/50\n",
      "\u001b[1m10/10\u001b[0m \u001b[32m━━━━━━━━━━━━━━━━━━━━\u001b[0m\u001b[37m\u001b[0m \u001b[1m88s\u001b[0m 9s/step - AUC: 0.7787 - Precision: 0.7328 - Recall: 0.6809 - accuracy: 0.7177 - loss: 0.5848 - val_AUC: 0.7305 - val_Precision: 0.0000e+00 - val_Recall: 0.0000e+00 - val_accuracy: 0.4625 - val_loss: 0.6685 - learning_rate: 5.0000e-04\n",
      "\n",
      "=== Starting 10-fold cross-validation ===\n",
      "Fold 1/10\n",
      "Training fold shape: (720, 224, 224, 3)\n",
      "Validation fold shape: (80, 224, 224, 3)\n",
      "Epoch 1/50\n",
      "\u001b[1m12/12\u001b[0m \u001b[32m━━━━━━━━━━━━━━━━━━━━\u001b[0m\u001b[37m\u001b[0m \u001b[1m106s\u001b[0m 8s/step - AUC: 0.6101 - Precision: 0.5646 - Recall: 0.6369 - accuracy: 0.6034 - loss: 0.9100 - val_AUC: 0.7642 - val_Precision: 0.7083 - val_Recall: 0.8718 - val_accuracy: 0.7625 - val_loss: 0.6065 - learning_rate: 0.0010\n",
      "Epoch 2/50\n",
      "\u001b[1m12/12\u001b[0m \u001b[32m━━━━━━━━━━━━━━━━━━━━\u001b[0m\u001b[37m\u001b[0m \u001b[1m91s\u001b[0m 8s/step - AUC: 0.7142 - Precision: 0.6522 - Recall: 0.6692 - accuracy: 0.6607 - loss: 0.6680 - val_AUC: 0.7808 - val_Precision: 0.5211 - val_Recall: 0.9487 - val_accuracy: 0.5500 - val_loss: 0.6716 - learning_rate: 0.0010\n",
      "Epoch 3/50\n",
      "\u001b[1m12/12\u001b[0m \u001b[32m━━━━━━━━━━━━━━━━━━━━\u001b[0m\u001b[37m\u001b[0m \u001b[1m91s\u001b[0m 8s/step - AUC: 0.7604 - Precision: 0.7006 - Recall: 0.6890 - accuracy: 0.7060 - loss: 0.5902 - val_AUC: 0.7883 - val_Precision: 0.6182 - val_Recall: 0.8718 - val_accuracy: 0.6750 - val_loss: 0.5907 - learning_rate: 0.0010\n",
      "Epoch 4/50\n",
      "\u001b[1m12/12\u001b[0m \u001b[32m━━━━━━━━━━━━━━━━━━━━\u001b[0m\u001b[37m\u001b[0m \u001b[1m92s\u001b[0m 8s/step - AUC: 0.7764 - Precision: 0.7458 - Recall: 0.8249 - accuracy: 0.7646 - loss: 0.5562 - val_AUC: 0.7608 - val_Precision: 0.5781 - val_Recall: 0.9487 - val_accuracy: 0.6375 - val_loss: 0.6382 - learning_rate: 0.0010\n",
      "Epoch 5/50\n",
      "\u001b[1m12/12\u001b[0m \u001b[32m━━━━━━━━━━━━━━━━━━━━\u001b[0m\u001b[37m\u001b[0m \u001b[1m93s\u001b[0m 8s/step - AUC: 0.7923 - Precision: 0.7362 - Recall: 0.7805 - accuracy: 0.7515 - loss: 0.5489 - val_AUC: 0.7714 - val_Precision: 0.5362 - val_Recall: 0.9487 - val_accuracy: 0.5750 - val_loss: 0.7817 - learning_rate: 0.0010\n",
      "Epoch 6/50\n",
      "\u001b[1m12/12\u001b[0m \u001b[32m━━━━━━━━━━━━━━━━━━━━\u001b[0m\u001b[37m\u001b[0m \u001b[1m93s\u001b[0m 8s/step - AUC: 0.7431 - Precision: 0.6996 - Recall: 0.7496 - accuracy: 0.7032 - loss: 0.6167 - val_AUC: 0.7186 - val_Precision: 0.5362 - val_Recall: 0.9487 - val_accuracy: 0.5750 - val_loss: 0.9349 - learning_rate: 0.0010\n",
      "Epoch 7/50\n",
      "\u001b[1m12/12\u001b[0m \u001b[32m━━━━━━━━━━━━━━━━━━━━\u001b[0m\u001b[37m\u001b[0m \u001b[1m91s\u001b[0m 8s/step - AUC: 0.7647 - Precision: 0.7166 - Recall: 0.7856 - accuracy: 0.7390 - loss: 0.5967 - val_AUC: 0.7708 - val_Precision: 0.5606 - val_Recall: 0.9487 - val_accuracy: 0.6125 - val_loss: 0.6676 - learning_rate: 5.0000e-04\n",
      "Epoch 8/50\n",
      "\u001b[1m12/12\u001b[0m \u001b[32m━━━━━━━━━━━━━━━━━━━━\u001b[0m\u001b[37m\u001b[0m \u001b[1m94s\u001b[0m 8s/step - AUC: 0.7761 - Precision: 0.7021 - Recall: 0.7760 - accuracy: 0.7430 - loss: 0.5575 - val_AUC: 0.7711 - val_Precision: 0.5362 - val_Recall: 0.9487 - val_accuracy: 0.5750 - val_loss: 0.7655 - learning_rate: 5.0000e-04\n",
      "Fold 2/10\n",
      "Training fold shape: (720, 224, 224, 3)\n",
      "Validation fold shape: (80, 224, 224, 3)\n",
      "Epoch 1/50\n",
      "\u001b[1m12/12\u001b[0m \u001b[32m━━━━━━━━━━━━━━━━━━━━\u001b[0m\u001b[37m\u001b[0m \u001b[1m102s\u001b[0m 8s/step - AUC: 0.5927 - Precision: 0.5659 - Recall: 0.6271 - accuracy: 0.5814 - loss: 0.8353 - val_AUC: 0.7077 - val_Precision: 0.6538 - val_Recall: 0.8947 - val_accuracy: 0.7250 - val_loss: 0.6442 - learning_rate: 0.0010\n",
      "Epoch 2/50\n",
      "\u001b[1m12/12\u001b[0m \u001b[32m━━━━━━━━━━━━━━━━━━━━\u001b[0m\u001b[37m\u001b[0m \u001b[1m91s\u001b[0m 8s/step - AUC: 0.7211 - Precision: 0.6541 - Recall: 0.7153 - accuracy: 0.6692 - loss: 0.6388 - val_AUC: 0.7375 - val_Precision: 0.4750 - val_Recall: 1.0000 - val_accuracy: 0.4750 - val_loss: 0.7469 - learning_rate: 0.0010\n",
      "Epoch 3/50\n",
      "\u001b[1m12/12\u001b[0m \u001b[32m━━━━━━━━━━━━━━━━━━━━\u001b[0m\u001b[37m\u001b[0m \u001b[1m94s\u001b[0m 8s/step - AUC: 0.7408 - Precision: 0.6784 - Recall: 0.8307 - accuracy: 0.7227 - loss: 0.6018 - val_AUC: 0.7343 - val_Precision: 0.4750 - val_Recall: 1.0000 - val_accuracy: 0.4750 - val_loss: 1.0505 - learning_rate: 0.0010\n",
      "Epoch 4/50\n",
      "\u001b[1m12/12\u001b[0m \u001b[32m━━━━━━━━━━━━━━━━━━━━\u001b[0m\u001b[37m\u001b[0m \u001b[1m94s\u001b[0m 8s/step - AUC: 0.7611 - Precision: 0.7348 - Recall: 0.8280 - accuracy: 0.7549 - loss: 0.5746 - val_AUC: 0.5899 - val_Precision: 0.4750 - val_Recall: 1.0000 - val_accuracy: 0.4750 - val_loss: 0.7566 - learning_rate: 0.0010\n",
      "Epoch 5/50\n",
      "\u001b[1m12/12\u001b[0m \u001b[32m━━━━━━━━━━━━━━━━━━━━\u001b[0m\u001b[37m\u001b[0m \u001b[1m92s\u001b[0m 8s/step - AUC: 0.7965 - Precision: 0.7014 - Recall: 0.7433 - accuracy: 0.7315 - loss: 0.5464 - val_AUC: 0.7234 - val_Precision: 0.4750 - val_Recall: 1.0000 - val_accuracy: 0.4750 - val_loss: 0.8828 - learning_rate: 5.0000e-04\n",
      "Epoch 6/50\n",
      "\u001b[1m12/12\u001b[0m \u001b[32m━━━━━━━━━━━━━━━━━━━━\u001b[0m\u001b[37m\u001b[0m \u001b[1m93s\u001b[0m 8s/step - AUC: 0.7857 - Precision: 0.7548 - Recall: 0.8221 - accuracy: 0.7668 - loss: 0.5449 - val_AUC: 0.7343 - val_Precision: 0.4750 - val_Recall: 1.0000 - val_accuracy: 0.4750 - val_loss: 0.8499 - learning_rate: 5.0000e-04\n",
      "Fold 3/10\n",
      "Training fold shape: (720, 224, 224, 3)\n",
      "Validation fold shape: (80, 224, 224, 3)\n",
      "Epoch 1/50\n",
      "\u001b[1m12/12\u001b[0m \u001b[32m━━━━━━━━━━━━━━━━━━━━\u001b[0m\u001b[37m\u001b[0m \u001b[1m105s\u001b[0m 8s/step - AUC: 0.6326 - Precision: 0.6063 - Recall: 0.5201 - accuracy: 0.5974 - loss: 0.7786 - val_AUC: 0.7944 - val_Precision: 0.0000e+00 - val_Recall: 0.0000e+00 - val_accuracy: 0.5750 - val_loss: 1.1649 - learning_rate: 0.0010\n",
      "Epoch 2/50\n",
      "\u001b[1m12/12\u001b[0m \u001b[32m━━━━━━━━━━━━━━━━━━━━\u001b[0m\u001b[37m\u001b[0m \u001b[1m93s\u001b[0m 8s/step - AUC: 0.6941 - Precision: 0.6485 - Recall: 0.7189 - accuracy: 0.6622 - loss: 0.8186 - val_AUC: 0.3673 - val_Precision: 0.0000e+00 - val_Recall: 0.0000e+00 - val_accuracy: 0.5750 - val_loss: 0.9555 - learning_rate: 0.0010\n",
      "Epoch 3/50\n",
      "\u001b[1m12/12\u001b[0m \u001b[32m━━━━━━━━━━━━━━━━━━━━\u001b[0m\u001b[37m\u001b[0m \u001b[1m93s\u001b[0m 8s/step - AUC: 0.7595 - Precision: 0.6716 - Recall: 0.7005 - accuracy: 0.6796 - loss: 0.6013 - val_AUC: 0.7970 - val_Precision: 0.5818 - val_Recall: 0.9412 - val_accuracy: 0.6875 - val_loss: 0.6063 - learning_rate: 0.0010\n",
      "Epoch 4/50\n",
      "\u001b[1m12/12\u001b[0m \u001b[32m━━━━━━━━━━━━━━━━━━━━\u001b[0m\u001b[37m\u001b[0m \u001b[1m95s\u001b[0m 8s/step - AUC: 0.7104 - Precision: 0.6663 - Recall: 0.7518 - accuracy: 0.6840 - loss: 0.6670 - val_AUC: 0.6173 - val_Precision: 0.0000e+00 - val_Recall: 0.0000e+00 - val_accuracy: 0.5750 - val_loss: 0.8217 - learning_rate: 0.0010\n",
      "Epoch 5/50\n",
      "\u001b[1m12/12\u001b[0m \u001b[32m━━━━━━━━━━━━━━━━━━━━\u001b[0m\u001b[37m\u001b[0m \u001b[1m93s\u001b[0m 8s/step - AUC: 0.7559 - Precision: 0.7377 - Recall: 0.7778 - accuracy: 0.7450 - loss: 0.5922 - val_AUC: 0.6205 - val_Precision: 0.1667 - val_Recall: 0.0294 - val_accuracy: 0.5250 - val_loss: 0.6892 - learning_rate: 0.0010\n",
      "Epoch 6/50\n",
      "\u001b[1m12/12\u001b[0m \u001b[32m━━━━━━━━━━━━━━━━━━━━\u001b[0m\u001b[37m\u001b[0m \u001b[1m92s\u001b[0m 8s/step - AUC: 0.7635 - Precision: 0.7093 - Recall: 0.7515 - accuracy: 0.7265 - loss: 0.5921 - val_AUC: 0.8101 - val_Precision: 0.6522 - val_Recall: 0.8824 - val_accuracy: 0.7500 - val_loss: 0.5647 - learning_rate: 0.0010\n",
      "Epoch 7/50\n",
      "\u001b[1m12/12\u001b[0m \u001b[32m━━━━━━━━━━━━━━━━━━━━\u001b[0m\u001b[37m\u001b[0m \u001b[1m92s\u001b[0m 8s/step - AUC: 0.7613 - Precision: 0.7179 - Recall: 0.7904 - accuracy: 0.7283 - loss: 0.5808 - val_AUC: 0.7976 - val_Precision: 0.0000e+00 - val_Recall: 0.0000e+00 - val_accuracy: 0.5750 - val_loss: 0.7734 - learning_rate: 0.0010\n",
      "Epoch 8/50\n",
      "\u001b[1m12/12\u001b[0m \u001b[32m━━━━━━━━━━━━━━━━━━━━\u001b[0m\u001b[37m\u001b[0m \u001b[1m95s\u001b[0m 8s/step - AUC: 0.7743 - Precision: 0.6896 - Recall: 0.7249 - accuracy: 0.7109 - loss: 0.5818 - val_AUC: 0.6001 - val_Precision: 0.0000e+00 - val_Recall: 0.0000e+00 - val_accuracy: 0.5750 - val_loss: 0.7744 - learning_rate: 0.0010\n",
      "Epoch 9/50\n",
      "\u001b[1m12/12\u001b[0m \u001b[32m━━━━━━━━━━━━━━━━━━━━\u001b[0m\u001b[37m\u001b[0m \u001b[1m93s\u001b[0m 8s/step - AUC: 0.7631 - Precision: 0.7168 - Recall: 0.6820 - accuracy: 0.7025 - loss: 0.5897 - val_AUC: 0.8149 - val_Precision: 0.6038 - val_Recall: 0.9412 - val_accuracy: 0.7125 - val_loss: 0.6301 - learning_rate: 0.0010\n",
      "Epoch 10/50\n",
      "\u001b[1m12/12\u001b[0m \u001b[32m━━━━━━━━━━━━━━━━━━━━\u001b[0m\u001b[37m\u001b[0m \u001b[1m93s\u001b[0m 8s/step - AUC: 0.7596 - Precision: 0.7067 - Recall: 0.8270 - accuracy: 0.7476 - loss: 0.5669 - val_AUC: 0.8095 - val_Precision: 0.5789 - val_Recall: 0.9706 - val_accuracy: 0.6875 - val_loss: 0.6739 - learning_rate: 5.0000e-04\n",
      "Epoch 11/50\n",
      "\u001b[1m12/12\u001b[0m \u001b[32m━━━━━━━━━━━━━━━━━━━━\u001b[0m\u001b[37m\u001b[0m \u001b[1m94s\u001b[0m 8s/step - AUC: 0.7763 - Precision: 0.7062 - Recall: 0.8142 - accuracy: 0.7404 - loss: 0.5558 - val_AUC: 0.8053 - val_Precision: 0.6038 - val_Recall: 0.9412 - val_accuracy: 0.7125 - val_loss: 0.6212 - learning_rate: 5.0000e-04\n",
      "Fold 4/10\n",
      "Training fold shape: (720, 224, 224, 3)\n",
      "Validation fold shape: (80, 224, 224, 3)\n",
      "Epoch 1/50\n",
      "\u001b[1m12/12\u001b[0m \u001b[32m━━━━━━━━━━━━━━━━━━━━\u001b[0m\u001b[37m\u001b[0m \u001b[1m106s\u001b[0m 8s/step - AUC: 0.5915 - Precision: 0.5353 - Recall: 0.4773 - accuracy: 0.5778 - loss: 0.8756 - val_AUC: 0.6987 - val_Precision: 0.7037 - val_Recall: 0.8444 - val_accuracy: 0.7125 - val_loss: 0.6515 - learning_rate: 0.0010\n",
      "Epoch 2/50\n",
      "\u001b[1m12/12\u001b[0m \u001b[32m━━━━━━━━━━━━━━━━━━━━\u001b[0m\u001b[37m\u001b[0m \u001b[1m93s\u001b[0m 8s/step - AUC: 0.7409 - Precision: 0.6508 - Recall: 0.7621 - accuracy: 0.6849 - loss: 0.6147 - val_AUC: 0.7076 - val_Precision: 0.6909 - val_Recall: 0.8444 - val_accuracy: 0.7000 - val_loss: 0.6616 - learning_rate: 0.0010\n",
      "Epoch 3/50\n",
      "\u001b[1m12/12\u001b[0m \u001b[32m━━━━━━━━━━━━━━━━━━━━\u001b[0m\u001b[37m\u001b[0m \u001b[1m92s\u001b[0m 8s/step - AUC: 0.7711 - Precision: 0.7145 - Recall: 0.7688 - accuracy: 0.7347 - loss: 0.5755 - val_AUC: 0.7105 - val_Precision: 0.0000e+00 - val_Recall: 0.0000e+00 - val_accuracy: 0.4375 - val_loss: 0.6762 - learning_rate: 0.0010\n",
      "Epoch 4/50\n",
      "\u001b[1m12/12\u001b[0m \u001b[32m━━━━━━━━━━━━━━━━━━━━\u001b[0m\u001b[37m\u001b[0m \u001b[1m94s\u001b[0m 8s/step - AUC: 0.7696 - Precision: 0.7201 - Recall: 0.6777 - accuracy: 0.7126 - loss: 0.5881 - val_AUC: 0.6956 - val_Precision: 0.0000e+00 - val_Recall: 0.0000e+00 - val_accuracy: 0.4375 - val_loss: 0.6672 - learning_rate: 0.0010\n",
      "Epoch 5/50\n",
      "\u001b[1m12/12\u001b[0m \u001b[32m━━━━━━━━━━━━━━━━━━━━\u001b[0m\u001b[37m\u001b[0m \u001b[1m92s\u001b[0m 8s/step - AUC: 0.7655 - Precision: 0.7298 - Recall: 0.6990 - accuracy: 0.7180 - loss: 0.5934 - val_AUC: 0.7038 - val_Precision: 0.6143 - val_Recall: 0.9556 - val_accuracy: 0.6375 - val_loss: 0.6931 - learning_rate: 5.0000e-04\n",
      "Epoch 6/50\n",
      "\u001b[1m12/12\u001b[0m \u001b[32m━━━━━━━━━━━━━━━━━━━━\u001b[0m\u001b[37m\u001b[0m \u001b[1m92s\u001b[0m 8s/step - AUC: 0.7745 - Precision: 0.6866 - Recall: 0.7447 - accuracy: 0.7116 - loss: 0.5797 - val_AUC: 0.6905 - val_Precision: 0.5946 - val_Recall: 0.9778 - val_accuracy: 0.6125 - val_loss: 0.7185 - learning_rate: 5.0000e-04\n",
      "Fold 5/10\n",
      "Training fold shape: (720, 224, 224, 3)\n",
      "Validation fold shape: (80, 224, 224, 3)\n",
      "Epoch 1/50\n",
      "\u001b[1m12/12\u001b[0m \u001b[32m━━━━━━━━━━━━━━━━━━━━\u001b[0m\u001b[37m\u001b[0m \u001b[1m106s\u001b[0m 8s/step - AUC: 0.6226 - Precision: 0.5747 - Recall: 0.7019 - accuracy: 0.5976 - loss: 0.8270 - val_AUC: 0.7834 - val_Precision: 0.6346 - val_Recall: 0.8250 - val_accuracy: 0.6750 - val_loss: 0.6679 - learning_rate: 0.0010\n",
      "Epoch 2/50\n",
      "\u001b[1m12/12\u001b[0m \u001b[32m━━━━━━━━━━━━━━━━━━━━\u001b[0m\u001b[37m\u001b[0m \u001b[1m92s\u001b[0m 8s/step - AUC: 0.7361 - Precision: 0.6966 - Recall: 0.7618 - accuracy: 0.7191 - loss: 0.6228 - val_AUC: 0.7569 - val_Precision: 0.6364 - val_Recall: 0.8750 - val_accuracy: 0.6875 - val_loss: 0.6179 - learning_rate: 0.0010\n",
      "Epoch 3/50\n",
      "\u001b[1m12/12\u001b[0m \u001b[32m━━━━━━━━━━━━━━━━━━━━\u001b[0m\u001b[37m\u001b[0m \u001b[1m94s\u001b[0m 8s/step - AUC: 0.7461 - Precision: 0.6805 - Recall: 0.7143 - accuracy: 0.6948 - loss: 0.6040 - val_AUC: 0.7644 - val_Precision: 0.6471 - val_Recall: 0.8250 - val_accuracy: 0.6875 - val_loss: 0.6156 - learning_rate: 0.0010\n",
      "Epoch 4/50\n",
      "\u001b[1m12/12\u001b[0m \u001b[32m━━━━━━━━━━━━━━━━━━━━\u001b[0m\u001b[37m\u001b[0m \u001b[1m96s\u001b[0m 8s/step - AUC: 0.7664 - Precision: 0.6912 - Recall: 0.7625 - accuracy: 0.7204 - loss: 0.5740 - val_AUC: 0.7584 - val_Precision: 0.6471 - val_Recall: 0.8250 - val_accuracy: 0.6875 - val_loss: 0.6191 - learning_rate: 0.0010\n",
      "Epoch 5/50\n",
      "\u001b[1m12/12\u001b[0m \u001b[32m━━━━━━━━━━━━━━━━━━━━\u001b[0m\u001b[37m\u001b[0m \u001b[1m92s\u001b[0m 8s/step - AUC: 0.7642 - Precision: 0.7162 - Recall: 0.8073 - accuracy: 0.7395 - loss: 0.5740 - val_AUC: 0.7656 - val_Precision: 0.5738 - val_Recall: 0.8750 - val_accuracy: 0.6125 - val_loss: 0.6399 - learning_rate: 0.0010\n",
      "Epoch 6/50\n",
      "\u001b[1m12/12\u001b[0m \u001b[32m━━━━━━━━━━━━━━━━━━━━\u001b[0m\u001b[37m\u001b[0m \u001b[1m91s\u001b[0m 7s/step - AUC: 0.7714 - Precision: 0.7073 - Recall: 0.8212 - accuracy: 0.7448 - loss: 0.5727 - val_AUC: 0.7691 - val_Precision: 0.5205 - val_Recall: 0.9500 - val_accuracy: 0.5375 - val_loss: 0.8315 - learning_rate: 0.0010\n",
      "Epoch 7/50\n",
      "\u001b[1m12/12\u001b[0m \u001b[32m━━━━━━━━━━━━━━━━━━━━\u001b[0m\u001b[37m\u001b[0m \u001b[1m92s\u001b[0m 8s/step - AUC: 0.8062 - Precision: 0.7239 - Recall: 0.7995 - accuracy: 0.7434 - loss: 0.5423 - val_AUC: 0.7781 - val_Precision: 0.5714 - val_Recall: 0.9000 - val_accuracy: 0.6125 - val_loss: 0.6991 - learning_rate: 5.0000e-04\n",
      "Epoch 8/50\n",
      "\u001b[1m12/12\u001b[0m \u001b[32m━━━━━━━━━━━━━━━━━━━━\u001b[0m\u001b[37m\u001b[0m \u001b[1m91s\u001b[0m 7s/step - AUC: 0.7557 - Precision: 0.6789 - Recall: 0.8008 - accuracy: 0.7228 - loss: 0.5757 - val_AUC: 0.7762 - val_Precision: 0.6140 - val_Recall: 0.8750 - val_accuracy: 0.6625 - val_loss: 0.6405 - learning_rate: 5.0000e-04\n",
      "Fold 6/10\n",
      "Training fold shape: (720, 224, 224, 3)\n",
      "Validation fold shape: (80, 224, 224, 3)\n",
      "Epoch 1/50\n",
      "\u001b[1m12/12\u001b[0m \u001b[32m━━━━━━━━━━━━━━━━━━━━\u001b[0m\u001b[37m\u001b[0m \u001b[1m102s\u001b[0m 8s/step - AUC: 0.6569 - Precision: 0.6475 - Recall: 0.6735 - accuracy: 0.6399 - loss: 0.7779 - val_AUC: 0.7441 - val_Precision: 0.0000e+00 - val_Recall: 0.0000e+00 - val_accuracy: 0.5000 - val_loss: 0.8765 - learning_rate: 0.0010\n",
      "Epoch 2/50\n",
      "\u001b[1m12/12\u001b[0m \u001b[32m━━━━━━━━━━━━━━━━━━━━\u001b[0m\u001b[37m\u001b[0m \u001b[1m92s\u001b[0m 8s/step - AUC: 0.7477 - Precision: 0.6860 - Recall: 0.7770 - accuracy: 0.7131 - loss: 0.5927 - val_AUC: 0.6541 - val_Precision: 0.0000e+00 - val_Recall: 0.0000e+00 - val_accuracy: 0.5000 - val_loss: 0.9323 - learning_rate: 0.0010\n",
      "Epoch 3/50\n",
      "\u001b[1m12/12\u001b[0m \u001b[32m━━━━━━━━━━━━━━━━━━━━\u001b[0m\u001b[37m\u001b[0m \u001b[1m89s\u001b[0m 7s/step - AUC: 0.7148 - Precision: 0.6750 - Recall: 0.6106 - accuracy: 0.6703 - loss: 0.6513 - val_AUC: 0.6616 - val_Precision: 0.5500 - val_Recall: 0.8250 - val_accuracy: 0.5750 - val_loss: 0.7729 - learning_rate: 0.0010\n",
      "Epoch 4/50\n",
      "\u001b[1m12/12\u001b[0m \u001b[32m━━━━━━━━━━━━━━━━━━━━\u001b[0m\u001b[37m\u001b[0m \u001b[1m89s\u001b[0m 7s/step - AUC: 0.7828 - Precision: 0.7167 - Recall: 0.7957 - accuracy: 0.7473 - loss: 0.5738 - val_AUC: 0.6656 - val_Precision: 0.5147 - val_Recall: 0.8750 - val_accuracy: 0.5250 - val_loss: 0.7315 - learning_rate: 0.0010\n",
      "Epoch 5/50\n",
      "\u001b[1m12/12\u001b[0m \u001b[32m━━━━━━━━━━━━━━━━━━━━\u001b[0m\u001b[37m\u001b[0m \u001b[1m91s\u001b[0m 8s/step - AUC: 0.7579 - Precision: 0.7046 - Recall: 0.8171 - accuracy: 0.7377 - loss: 0.5842 - val_AUC: 0.6469 - val_Precision: 0.5072 - val_Recall: 0.8750 - val_accuracy: 0.5125 - val_loss: 0.9004 - learning_rate: 0.0010\n",
      "Epoch 6/50\n",
      "\u001b[1m12/12\u001b[0m \u001b[32m━━━━━━━━━━━━━━━━━━━━\u001b[0m\u001b[37m\u001b[0m \u001b[1m91s\u001b[0m 8s/step - AUC: 0.7544 - Precision: 0.6979 - Recall: 0.8091 - accuracy: 0.7285 - loss: 0.6041 - val_AUC: 0.5844 - val_Precision: 0.4861 - val_Recall: 0.8750 - val_accuracy: 0.4750 - val_loss: 0.7949 - learning_rate: 0.0010\n",
      "Epoch 7/50\n",
      "\u001b[1m12/12\u001b[0m \u001b[32m━━━━━━━━━━━━━━━━━━━━\u001b[0m\u001b[37m\u001b[0m \u001b[1m90s\u001b[0m 8s/step - AUC: 0.7511 - Precision: 0.7203 - Recall: 0.6623 - accuracy: 0.6967 - loss: 0.6245 - val_AUC: 0.6566 - val_Precision: 0.4865 - val_Recall: 0.9000 - val_accuracy: 0.4750 - val_loss: 0.8610 - learning_rate: 0.0010\n",
      "Epoch 8/50\n",
      "\u001b[1m12/12\u001b[0m \u001b[32m━━━━━━━━━━━━━━━━━━━━\u001b[0m\u001b[37m\u001b[0m \u001b[1m93s\u001b[0m 8s/step - AUC: 0.7791 - Precision: 0.6964 - Recall: 0.8136 - accuracy: 0.7410 - loss: 0.5560 - val_AUC: 0.6466 - val_Precision: 0.4935 - val_Recall: 0.9500 - val_accuracy: 0.4875 - val_loss: 0.9494 - learning_rate: 5.0000e-04\n",
      "Epoch 9/50\n",
      "\u001b[1m12/12\u001b[0m \u001b[32m━━━━━━━━━━━━━━━━━━━━\u001b[0m\u001b[37m\u001b[0m \u001b[1m93s\u001b[0m 8s/step - AUC: 0.7821 - Precision: 0.7366 - Recall: 0.8447 - accuracy: 0.7662 - loss: 0.5646 - val_AUC: 0.6522 - val_Precision: 0.4865 - val_Recall: 0.9000 - val_accuracy: 0.4750 - val_loss: 0.7476 - learning_rate: 5.0000e-04\n",
      "Fold 7/10\n",
      "Training fold shape: (720, 224, 224, 3)\n",
      "Validation fold shape: (80, 224, 224, 3)\n",
      "Epoch 1/50\n",
      "\u001b[1m12/12\u001b[0m \u001b[32m━━━━━━━━━━━━━━━━━━━━\u001b[0m\u001b[37m\u001b[0m \u001b[1m103s\u001b[0m 8s/step - AUC: 0.6619 - Precision: 0.6475 - Recall: 0.5320 - accuracy: 0.6381 - loss: 0.7749 - val_AUC: 0.8296 - val_Precision: 0.6458 - val_Recall: 0.9118 - val_accuracy: 0.7500 - val_loss: 0.5740 - learning_rate: 0.0010\n",
      "Epoch 2/50\n",
      "\u001b[1m12/12\u001b[0m \u001b[32m━━━━━━━━━━━━━━━━━━━━\u001b[0m\u001b[37m\u001b[0m \u001b[1m95s\u001b[0m 8s/step - AUC: 0.6978 - Precision: 0.6907 - Recall: 0.6894 - accuracy: 0.6840 - loss: 0.6680 - val_AUC: 0.8248 - val_Precision: 0.0000e+00 - val_Recall: 0.0000e+00 - val_accuracy: 0.5750 - val_loss: 0.6049 - learning_rate: 0.0010\n",
      "Epoch 3/50\n",
      "\u001b[1m12/12\u001b[0m \u001b[32m━━━━━━━━━━━━━━━━━━━━\u001b[0m\u001b[37m\u001b[0m \u001b[1m92s\u001b[0m 8s/step - AUC: 0.7430 - Precision: 0.7053 - Recall: 0.7297 - accuracy: 0.7176 - loss: 0.6220 - val_AUC: 0.8101 - val_Precision: 0.6458 - val_Recall: 0.9118 - val_accuracy: 0.7500 - val_loss: 0.5794 - learning_rate: 0.0010\n",
      "Epoch 4/50\n",
      "\u001b[1m12/12\u001b[0m \u001b[32m━━━━━━━━━━━━━━━━━━━━\u001b[0m\u001b[37m\u001b[0m \u001b[1m94s\u001b[0m 8s/step - AUC: 0.7942 - Precision: 0.7609 - Recall: 0.8207 - accuracy: 0.7668 - loss: 0.5486 - val_AUC: 0.8207 - val_Precision: 0.0000e+00 - val_Recall: 0.0000e+00 - val_accuracy: 0.5750 - val_loss: 0.5892 - learning_rate: 0.0010\n",
      "Epoch 5/50\n",
      "\u001b[1m12/12\u001b[0m \u001b[32m━━━━━━━━━━━━━━━━━━━━\u001b[0m\u001b[37m\u001b[0m \u001b[1m92s\u001b[0m 8s/step - AUC: 0.6785 - Precision: 0.6715 - Recall: 0.5036 - accuracy: 0.6355 - loss: 0.6970 - val_AUC: 0.8357 - val_Precision: 0.0000e+00 - val_Recall: 0.0000e+00 - val_accuracy: 0.5750 - val_loss: 0.5707 - learning_rate: 5.0000e-04\n",
      "Epoch 6/50\n",
      "\u001b[1m12/12\u001b[0m \u001b[32m━━━━━━━━━━━━━━━━━━━━\u001b[0m\u001b[37m\u001b[0m \u001b[1m94s\u001b[0m 8s/step - AUC: 0.7531 - Precision: 0.7083 - Recall: 0.8324 - accuracy: 0.7487 - loss: 0.5700 - val_AUC: 0.8386 - val_Precision: 0.7209 - val_Recall: 0.9118 - val_accuracy: 0.8125 - val_loss: 0.5732 - learning_rate: 5.0000e-04\n",
      "Epoch 7/50\n",
      "\u001b[1m12/12\u001b[0m \u001b[32m━━━━━━━━━━━━━━━━━━━━\u001b[0m\u001b[37m\u001b[0m \u001b[1m93s\u001b[0m 8s/step - AUC: 0.7731 - Precision: 0.7186 - Recall: 0.7759 - accuracy: 0.7403 - loss: 0.5650 - val_AUC: 0.8283 - val_Precision: 0.6739 - val_Recall: 0.9118 - val_accuracy: 0.7750 - val_loss: 0.5425 - learning_rate: 5.0000e-04\n",
      "Epoch 8/50\n",
      "\u001b[1m12/12\u001b[0m \u001b[32m━━━━━━━━━━━━━━━━━━━━\u001b[0m\u001b[37m\u001b[0m \u001b[1m92s\u001b[0m 8s/step - AUC: 0.7822 - Precision: 0.7087 - Recall: 0.8003 - accuracy: 0.7429 - loss: 0.5457 - val_AUC: 0.8286 - val_Precision: 0.6275 - val_Recall: 0.9412 - val_accuracy: 0.7375 - val_loss: 0.5808 - learning_rate: 5.0000e-04\n",
      "Epoch 9/50\n",
      "\u001b[1m12/12\u001b[0m \u001b[32m━━━━━━━━━━━━━━━━━━━━\u001b[0m\u001b[37m\u001b[0m \u001b[1m92s\u001b[0m 8s/step - AUC: 0.7824 - Precision: 0.7101 - Recall: 0.8179 - accuracy: 0.7543 - loss: 0.5420 - val_AUC: 0.8203 - val_Precision: 0.5424 - val_Recall: 0.9412 - val_accuracy: 0.6375 - val_loss: 0.6494 - learning_rate: 5.0000e-04\n",
      "Epoch 10/50\n",
      "\u001b[1m12/12\u001b[0m \u001b[32m━━━━━━━━━━━━━━━━━━━━\u001b[0m\u001b[37m\u001b[0m \u001b[1m98s\u001b[0m 8s/step - AUC: 0.8056 - Precision: 0.7250 - Recall: 0.8698 - accuracy: 0.7731 - loss: 0.5234 - val_AUC: 0.8347 - val_Precision: 0.6458 - val_Recall: 0.9118 - val_accuracy: 0.7500 - val_loss: 0.5299 - learning_rate: 5.0000e-04\n",
      "Epoch 11/50\n",
      "\u001b[1m12/12\u001b[0m \u001b[32m━━━━━━━━━━━━━━━━━━━━\u001b[0m\u001b[37m\u001b[0m \u001b[1m97s\u001b[0m 8s/step - AUC: 0.8221 - Precision: 0.7502 - Recall: 0.8454 - accuracy: 0.7787 - loss: 0.5087 - val_AUC: 0.7689 - val_Precision: 0.5333 - val_Recall: 0.9412 - val_accuracy: 0.6250 - val_loss: 0.6472 - learning_rate: 5.0000e-04\n",
      "Epoch 12/50\n",
      "\u001b[1m12/12\u001b[0m \u001b[32m━━━━━━━━━━━━━━━━━━━━\u001b[0m\u001b[37m\u001b[0m \u001b[1m94s\u001b[0m 8s/step - AUC: 0.7609 - Precision: 0.6882 - Recall: 0.7166 - accuracy: 0.6986 - loss: 0.5813 - val_AUC: 0.8165 - val_Precision: 0.5714 - val_Recall: 0.9412 - val_accuracy: 0.6750 - val_loss: 0.6244 - learning_rate: 5.0000e-04\n",
      "Epoch 13/50\n",
      "\u001b[1m12/12\u001b[0m \u001b[32m━━━━━━━━━━━━━━━━━━━━\u001b[0m\u001b[37m\u001b[0m \u001b[1m95s\u001b[0m 8s/step - AUC: 0.7818 - Precision: 0.7285 - Recall: 0.7952 - accuracy: 0.7500 - loss: 0.5458 - val_AUC: 0.8245 - val_Precision: 0.5926 - val_Recall: 0.9412 - val_accuracy: 0.7000 - val_loss: 0.6202 - learning_rate: 5.0000e-04\n",
      "Epoch 14/50\n",
      "\u001b[1m12/12\u001b[0m \u001b[32m━━━━━━━━━━━━━━━━━━━━\u001b[0m\u001b[37m\u001b[0m \u001b[1m95s\u001b[0m 8s/step - AUC: 0.7537 - Precision: 0.7239 - Recall: 0.7885 - accuracy: 0.7362 - loss: 0.5723 - val_AUC: 0.8194 - val_Precision: 0.5246 - val_Recall: 0.9412 - val_accuracy: 0.6125 - val_loss: 0.6881 - learning_rate: 2.5000e-04\n",
      "Epoch 15/50\n",
      "\u001b[1m12/12\u001b[0m \u001b[32m━━━━━━━━━━━━━━━━━━━━\u001b[0m\u001b[37m\u001b[0m \u001b[1m95s\u001b[0m 8s/step - AUC: 0.7854 - Precision: 0.7148 - Recall: 0.8363 - accuracy: 0.7523 - loss: 0.5308 - val_AUC: 0.8191 - val_Precision: 0.5246 - val_Recall: 0.9412 - val_accuracy: 0.6125 - val_loss: 0.6862 - learning_rate: 2.5000e-04\n",
      "Fold 8/10\n",
      "Training fold shape: (720, 224, 224, 3)\n",
      "Validation fold shape: (80, 224, 224, 3)\n",
      "Epoch 1/50\n",
      "\u001b[1m12/12\u001b[0m \u001b[32m━━━━━━━━━━━━━━━━━━━━\u001b[0m\u001b[37m\u001b[0m \u001b[1m106s\u001b[0m 8s/step - AUC: 0.6007 - Precision: 0.5511 - Recall: 0.5173 - accuracy: 0.5800 - loss: 0.7799 - val_AUC: 0.8097 - val_Precision: 0.6667 - val_Recall: 0.9500 - val_accuracy: 0.7375 - val_loss: 0.5513 - learning_rate: 0.0010\n",
      "Epoch 2/50\n",
      "\u001b[1m12/12\u001b[0m \u001b[32m━━━━━━━━━━━━━━━━━━━━\u001b[0m\u001b[37m\u001b[0m \u001b[1m93s\u001b[0m 8s/step - AUC: 0.7562 - Precision: 0.6613 - Recall: 0.7582 - accuracy: 0.6942 - loss: 0.6875 - val_AUC: 0.4438 - val_Precision: 0.0000e+00 - val_Recall: 0.0000e+00 - val_accuracy: 0.5000 - val_loss: 1.0946 - learning_rate: 0.0010\n",
      "Epoch 3/50\n",
      "\u001b[1m12/12\u001b[0m \u001b[32m━━━━━━━━━━━━━━━━━━━━\u001b[0m\u001b[37m\u001b[0m \u001b[1m95s\u001b[0m 8s/step - AUC: 0.6528 - Precision: 0.6150 - Recall: 0.4859 - accuracy: 0.6252 - loss: 0.7785 - val_AUC: 0.7747 - val_Precision: 0.6441 - val_Recall: 0.9500 - val_accuracy: 0.7125 - val_loss: 0.5965 - learning_rate: 0.0010\n",
      "Epoch 4/50\n",
      "\u001b[1m12/12\u001b[0m \u001b[32m━━━━━━━━━━━━━━━━━━━━\u001b[0m\u001b[37m\u001b[0m \u001b[1m93s\u001b[0m 8s/step - AUC: 0.7200 - Precision: 0.7021 - Recall: 0.7532 - accuracy: 0.7117 - loss: 0.6206 - val_AUC: 0.7600 - val_Precision: 0.0000e+00 - val_Recall: 0.0000e+00 - val_accuracy: 0.5000 - val_loss: 0.8803 - learning_rate: 0.0010\n",
      "Epoch 5/50\n",
      "\u001b[1m12/12\u001b[0m \u001b[32m━━━━━━━━━━━━━━━━━━━━\u001b[0m\u001b[37m\u001b[0m \u001b[1m93s\u001b[0m 8s/step - AUC: 0.7596 - Precision: 0.6866 - Recall: 0.5098 - accuracy: 0.6698 - loss: 0.6073 - val_AUC: 0.7916 - val_Precision: 0.0000e+00 - val_Recall: 0.0000e+00 - val_accuracy: 0.5000 - val_loss: 0.6246 - learning_rate: 5.0000e-04\n",
      "Epoch 6/50\n",
      "\u001b[1m12/12\u001b[0m \u001b[32m━━━━━━━━━━━━━━━━━━━━\u001b[0m\u001b[37m\u001b[0m \u001b[1m93s\u001b[0m 8s/step - AUC: 0.7651 - Precision: 0.6853 - Recall: 0.7240 - accuracy: 0.7165 - loss: 0.5740 - val_AUC: 0.8037 - val_Precision: 0.6441 - val_Recall: 0.9500 - val_accuracy: 0.7125 - val_loss: 0.5875 - learning_rate: 5.0000e-04\n",
      "Fold 9/10\n",
      "Training fold shape: (720, 224, 224, 3)\n",
      "Validation fold shape: (80, 224, 224, 3)\n",
      "Epoch 1/50\n",
      "\u001b[1m12/12\u001b[0m \u001b[32m━━━━━━━━━━━━━━━━━━━━\u001b[0m\u001b[37m\u001b[0m \u001b[1m104s\u001b[0m 8s/step - AUC: 0.6790 - Precision: 0.6303 - Recall: 0.6269 - accuracy: 0.6170 - loss: 0.7237 - val_AUC: 0.6767 - val_Precision: 0.0000e+00 - val_Recall: 0.0000e+00 - val_accuracy: 0.5125 - val_loss: 0.8135 - learning_rate: 0.0010\n",
      "Epoch 2/50\n",
      "\u001b[1m12/12\u001b[0m \u001b[32m━━━━━━━━━━━━━━━━━━━━\u001b[0m\u001b[37m\u001b[0m \u001b[1m94s\u001b[0m 8s/step - AUC: 0.7038 - Precision: 0.7347 - Recall: 0.5873 - accuracy: 0.6579 - loss: 0.6607 - val_AUC: 0.6811 - val_Precision: 0.6600 - val_Recall: 0.8462 - val_accuracy: 0.7125 - val_loss: 0.8053 - learning_rate: 0.0010\n",
      "Epoch 3/50\n",
      "\u001b[1m12/12\u001b[0m \u001b[32m━━━━━━━━━━━━━━━━━━━━\u001b[0m\u001b[37m\u001b[0m \u001b[1m97s\u001b[0m 8s/step - AUC: 0.7598 - Precision: 0.7178 - Recall: 0.7190 - accuracy: 0.7233 - loss: 0.6063 - val_AUC: 0.6970 - val_Precision: 0.5397 - val_Recall: 0.8718 - val_accuracy: 0.5750 - val_loss: 0.9528 - learning_rate: 0.0010\n",
      "Epoch 4/50\n",
      "\u001b[1m12/12\u001b[0m \u001b[32m━━━━━━━━━━━━━━━━━━━━\u001b[0m\u001b[37m\u001b[0m \u001b[1m97s\u001b[0m 8s/step - AUC: 0.7681 - Precision: 0.6915 - Recall: 0.8001 - accuracy: 0.7285 - loss: 0.6051 - val_AUC: 0.7142 - val_Precision: 0.0000e+00 - val_Recall: 0.0000e+00 - val_accuracy: 0.5125 - val_loss: 0.6897 - learning_rate: 0.0010\n",
      "Epoch 5/50\n",
      "\u001b[1m12/12\u001b[0m \u001b[32m━━━━━━━━━━━━━━━━━━━━\u001b[0m\u001b[37m\u001b[0m \u001b[1m94s\u001b[0m 8s/step - AUC: 0.7742 - Precision: 0.7418 - Recall: 0.6090 - accuracy: 0.6874 - loss: 0.5994 - val_AUC: 0.6907 - val_Precision: 0.5397 - val_Recall: 0.8718 - val_accuracy: 0.5750 - val_loss: 0.7434 - learning_rate: 0.0010\n",
      "Epoch 6/50\n",
      "\u001b[1m12/12\u001b[0m \u001b[32m━━━━━━━━━━━━━━━━━━━━\u001b[0m\u001b[37m\u001b[0m \u001b[1m93s\u001b[0m 8s/step - AUC: 0.7766 - Precision: 0.7063 - Recall: 0.8007 - accuracy: 0.7444 - loss: 0.5579 - val_AUC: 0.7020 - val_Precision: 0.5231 - val_Recall: 0.8718 - val_accuracy: 0.5500 - val_loss: 0.7306 - learning_rate: 0.0010\n",
      "Epoch 7/50\n",
      "\u001b[1m12/12\u001b[0m \u001b[32m━━━━━━━━━━━━━━━━━━━━\u001b[0m\u001b[37m\u001b[0m \u001b[1m95s\u001b[0m 8s/step - AUC: 0.7623 - Precision: 0.6933 - Recall: 0.8508 - accuracy: 0.7450 - loss: 0.5562 - val_AUC: 0.7020 - val_Precision: 0.5441 - val_Recall: 0.9487 - val_accuracy: 0.5875 - val_loss: 0.9676 - learning_rate: 0.0010\n",
      "Epoch 8/50\n",
      "\u001b[1m12/12\u001b[0m \u001b[32m━━━━━━━━━━━━━━━━━━━━\u001b[0m\u001b[37m\u001b[0m \u001b[1m94s\u001b[0m 8s/step - AUC: 0.7793 - Precision: 0.7067 - Recall: 0.8332 - accuracy: 0.7515 - loss: 0.5684 - val_AUC: 0.6707 - val_Precision: 0.5441 - val_Recall: 0.9487 - val_accuracy: 0.5875 - val_loss: 0.8971 - learning_rate: 5.0000e-04\n",
      "Epoch 9/50\n",
      "\u001b[1m12/12\u001b[0m \u001b[32m━━━━━━━━━━━━━━━━━━━━\u001b[0m\u001b[37m\u001b[0m \u001b[1m95s\u001b[0m 8s/step - AUC: 0.7647 - Precision: 0.6772 - Recall: 0.8381 - accuracy: 0.7428 - loss: 0.5766 - val_AUC: 0.6920 - val_Precision: 0.5441 - val_Recall: 0.9487 - val_accuracy: 0.5875 - val_loss: 0.9025 - learning_rate: 5.0000e-04\n",
      "Fold 10/10\n",
      "Training fold shape: (720, 224, 224, 3)\n",
      "Validation fold shape: (80, 224, 224, 3)\n",
      "Epoch 1/50\n",
      "\u001b[1m12/12\u001b[0m \u001b[32m━━━━━━━━━━━━━━━━━━━━\u001b[0m\u001b[37m\u001b[0m \u001b[1m104s\u001b[0m 8s/step - AUC: 0.6050 - Precision: 0.5535 - Recall: 0.5800 - accuracy: 0.5696 - loss: 0.7750 - val_AUC: 0.7782 - val_Precision: 0.7843 - val_Recall: 0.8511 - val_accuracy: 0.7750 - val_loss: 0.5599 - learning_rate: 0.0010\n",
      "Epoch 2/50\n",
      "\u001b[1m12/12\u001b[0m \u001b[32m━━━━━━━━━━━━━━━━━━━━\u001b[0m\u001b[37m\u001b[0m \u001b[1m95s\u001b[0m 8s/step - AUC: 0.7206 - Precision: 0.6393 - Recall: 0.6860 - accuracy: 0.6772 - loss: 0.6345 - val_AUC: 0.7898 - val_Precision: 0.6471 - val_Recall: 0.9362 - val_accuracy: 0.6625 - val_loss: 0.6226 - learning_rate: 0.0010\n",
      "Epoch 3/50\n",
      "\u001b[1m12/12\u001b[0m \u001b[32m━━━━━━━━━━━━━━━━━━━━\u001b[0m\u001b[37m\u001b[0m \u001b[1m95s\u001b[0m 8s/step - AUC: 0.7630 - Precision: 0.7114 - Recall: 0.8207 - accuracy: 0.7460 - loss: 0.5886 - val_AUC: 0.7811 - val_Precision: 0.6164 - val_Recall: 0.9574 - val_accuracy: 0.6250 - val_loss: 0.6090 - learning_rate: 0.0010\n",
      "Epoch 4/50\n",
      "\u001b[1m12/12\u001b[0m \u001b[32m━━━━━━━━━━━━━━━━━━━━\u001b[0m\u001b[37m\u001b[0m \u001b[1m93s\u001b[0m 8s/step - AUC: 0.7819 - Precision: 0.6900 - Recall: 0.8027 - accuracy: 0.7264 - loss: 0.5666 - val_AUC: 0.7695 - val_Precision: 0.5000 - val_Recall: 0.0213 - val_accuracy: 0.4125 - val_loss: 0.6680 - learning_rate: 0.0010\n",
      "Epoch 5/50\n",
      "\u001b[1m12/12\u001b[0m \u001b[32m━━━━━━━━━━━━━━━━━━━━\u001b[0m\u001b[37m\u001b[0m \u001b[1m93s\u001b[0m 8s/step - AUC: 0.7733 - Precision: 0.7038 - Recall: 0.7582 - accuracy: 0.7184 - loss: 0.5744 - val_AUC: 0.7756 - val_Precision: 0.6833 - val_Recall: 0.8723 - val_accuracy: 0.6875 - val_loss: 0.5911 - learning_rate: 5.0000e-04\n",
      "Epoch 6/50\n",
      "\u001b[1m12/12\u001b[0m \u001b[32m━━━━━━━━━━━━━━━━━━━━\u001b[0m\u001b[37m\u001b[0m \u001b[1m92s\u001b[0m 8s/step - AUC: 0.7940 - Precision: 0.7157 - Recall: 0.8440 - accuracy: 0.7562 - loss: 0.5342 - val_AUC: 0.7840 - val_Precision: 0.6721 - val_Recall: 0.8723 - val_accuracy: 0.6750 - val_loss: 0.5969 - learning_rate: 5.0000e-04\n",
      "\n",
      "=== Starting 15-fold cross-validation ===\n",
      "Fold 1/15\n",
      "Training fold shape: (746, 224, 224, 3)\n",
      "Validation fold shape: (54, 224, 224, 3)\n",
      "Epoch 1/50\n",
      "\u001b[1m12/12\u001b[0m \u001b[32m━━━━━━━━━━━━━━━━━━━━\u001b[0m\u001b[37m\u001b[0m \u001b[1m102s\u001b[0m 8s/step - AUC: 0.5976 - Precision: 0.5872 - Recall: 0.6913 - accuracy: 0.6003 - loss: 0.8289 - val_AUC: 0.7315 - val_Precision: 0.0000e+00 - val_Recall: 0.0000e+00 - val_accuracy: 0.5185 - val_loss: 0.6191 - learning_rate: 0.0010\n",
      "Epoch 2/50\n",
      "\u001b[1m12/12\u001b[0m \u001b[32m━━━━━━━━━━━━━━━━━━━━\u001b[0m\u001b[37m\u001b[0m \u001b[1m92s\u001b[0m 8s/step - AUC: 0.7502 - Precision: 0.6922 - Recall: 0.7471 - accuracy: 0.7082 - loss: 0.5993 - val_AUC: 0.7630 - val_Precision: 0.5714 - val_Recall: 0.9231 - val_accuracy: 0.6296 - val_loss: 0.7216 - learning_rate: 0.0010\n",
      "Epoch 3/50\n",
      "\u001b[1m12/12\u001b[0m \u001b[32m━━━━━━━━━━━━━━━━━━━━\u001b[0m\u001b[37m\u001b[0m \u001b[1m92s\u001b[0m 8s/step - AUC: 0.7341 - Precision: 0.6949 - Recall: 0.7078 - accuracy: 0.6945 - loss: 0.6457 - val_AUC: 0.7692 - val_Precision: 0.6316 - val_Recall: 0.9231 - val_accuracy: 0.7037 - val_loss: 0.5655 - learning_rate: 0.0010\n",
      "Epoch 4/50\n",
      "\u001b[1m12/12\u001b[0m \u001b[32m━━━━━━━━━━━━━━━━━━━━\u001b[0m\u001b[37m\u001b[0m \u001b[1m94s\u001b[0m 8s/step - AUC: 0.7711 - Precision: 0.6858 - Recall: 0.7921 - accuracy: 0.7342 - loss: 0.5713 - val_AUC: 0.7335 - val_Precision: 0.6486 - val_Recall: 0.9231 - val_accuracy: 0.7222 - val_loss: 0.5843 - learning_rate: 0.0010\n",
      "Epoch 5/50\n",
      "\u001b[1m12/12\u001b[0m \u001b[32m━━━━━━━━━━━━━━━━━━━━\u001b[0m\u001b[37m\u001b[0m \u001b[1m96s\u001b[0m 8s/step - AUC: 0.7486 - Precision: 0.6957 - Recall: 0.8224 - accuracy: 0.7359 - loss: 0.5910 - val_AUC: 0.7342 - val_Precision: 0.5814 - val_Recall: 0.9615 - val_accuracy: 0.6481 - val_loss: 0.6014 - learning_rate: 0.0010\n",
      "Epoch 6/50\n",
      "\u001b[1m12/12\u001b[0m \u001b[32m━━━━━━━━━━━━━━━━━━━━\u001b[0m\u001b[37m\u001b[0m \u001b[1m94s\u001b[0m 8s/step - AUC: 0.7962 - Precision: 0.7396 - Recall: 0.8255 - accuracy: 0.7729 - loss: 0.5352 - val_AUC: 0.7122 - val_Precision: 0.0000e+00 - val_Recall: 0.0000e+00 - val_accuracy: 0.5185 - val_loss: 0.6477 - learning_rate: 0.0010\n",
      "Epoch 7/50\n",
      "\u001b[1m12/12\u001b[0m \u001b[32m━━━━━━━━━━━━━━━━━━━━\u001b[0m\u001b[37m\u001b[0m \u001b[1m95s\u001b[0m 8s/step - AUC: 0.7774 - Precision: 0.7282 - Recall: 0.6843 - accuracy: 0.7252 - loss: 0.5733 - val_AUC: 0.7692 - val_Precision: 0.5714 - val_Recall: 0.9231 - val_accuracy: 0.6296 - val_loss: 0.5962 - learning_rate: 5.0000e-04\n",
      "Epoch 8/50\n",
      "\u001b[1m12/12\u001b[0m \u001b[32m━━━━━━━━━━━━━━━━━━━━\u001b[0m\u001b[37m\u001b[0m \u001b[1m94s\u001b[0m 8s/step - AUC: 0.8068 - Precision: 0.7279 - Recall: 0.8236 - accuracy: 0.7641 - loss: 0.5162 - val_AUC: 0.7665 - val_Precision: 0.5652 - val_Recall: 1.0000 - val_accuracy: 0.6296 - val_loss: 0.6544 - learning_rate: 5.0000e-04\n",
      "Fold 2/15\n",
      "Training fold shape: (746, 224, 224, 3)\n",
      "Validation fold shape: (54, 224, 224, 3)\n",
      "Epoch 1/50\n",
      "\u001b[1m12/12\u001b[0m \u001b[32m━━━━━━━━━━━━━━━━━━━━\u001b[0m\u001b[37m\u001b[0m \u001b[1m106s\u001b[0m 8s/step - AUC: 0.6630 - Precision: 0.6441 - Recall: 0.5386 - accuracy: 0.6338 - loss: 0.7831 - val_AUC: 0.7802 - val_Precision: 0.7097 - val_Recall: 0.7857 - val_accuracy: 0.7222 - val_loss: 0.5949 - learning_rate: 0.0010\n",
      "Epoch 2/50\n",
      "\u001b[1m12/12\u001b[0m \u001b[32m━━━━━━━━━━━━━━━━━━━━\u001b[0m\u001b[37m\u001b[0m \u001b[1m95s\u001b[0m 8s/step - AUC: 0.7324 - Precision: 0.6673 - Recall: 0.7782 - accuracy: 0.7003 - loss: 0.6256 - val_AUC: 0.7212 - val_Precision: 0.7097 - val_Recall: 0.7857 - val_accuracy: 0.7222 - val_loss: 0.6359 - learning_rate: 0.0010\n",
      "Epoch 3/50\n",
      "\u001b[1m12/12\u001b[0m \u001b[32m━━━━━━━━━━━━━━━━━━━━\u001b[0m\u001b[37m\u001b[0m \u001b[1m93s\u001b[0m 8s/step - AUC: 0.7717 - Precision: 0.7164 - Recall: 0.7183 - accuracy: 0.7207 - loss: 0.5877 - val_AUC: 0.5982 - val_Precision: 0.6216 - val_Recall: 0.8214 - val_accuracy: 0.6481 - val_loss: 0.7026 - learning_rate: 0.0010\n",
      "Epoch 4/50\n",
      "\u001b[1m12/12\u001b[0m \u001b[32m━━━━━━━━━━━━━━━━━━━━\u001b[0m\u001b[37m\u001b[0m \u001b[1m95s\u001b[0m 8s/step - AUC: 0.7873 - Precision: 0.7277 - Recall: 0.7356 - accuracy: 0.7334 - loss: 0.5638 - val_AUC: 0.7191 - val_Precision: 0.5208 - val_Recall: 0.8929 - val_accuracy: 0.5185 - val_loss: 0.9311 - learning_rate: 0.0010\n",
      "Epoch 5/50\n",
      "\u001b[1m12/12\u001b[0m \u001b[32m━━━━━━━━━━━━━━━━━━━━\u001b[0m\u001b[37m\u001b[0m \u001b[1m96s\u001b[0m 8s/step - AUC: 0.7792 - Precision: 0.7027 - Recall: 0.8373 - accuracy: 0.7480 - loss: 0.5887 - val_AUC: 0.7466 - val_Precision: 0.5581 - val_Recall: 0.8571 - val_accuracy: 0.5741 - val_loss: 0.7003 - learning_rate: 5.0000e-04\n",
      "Epoch 6/50\n",
      "\u001b[1m12/12\u001b[0m \u001b[32m━━━━━━━━━━━━━━━━━━━━\u001b[0m\u001b[37m\u001b[0m \u001b[1m94s\u001b[0m 8s/step - AUC: 0.7836 - Precision: 0.7054 - Recall: 0.7386 - accuracy: 0.7222 - loss: 0.5569 - val_AUC: 0.7115 - val_Precision: 0.6316 - val_Recall: 0.8571 - val_accuracy: 0.6667 - val_loss: 0.6862 - learning_rate: 5.0000e-04\n",
      "Fold 3/15\n",
      "Training fold shape: (746, 224, 224, 3)\n",
      "Validation fold shape: (54, 224, 224, 3)\n",
      "Epoch 1/50\n",
      "\u001b[1m12/12\u001b[0m \u001b[32m━━━━━━━━━━━━━━━━━━━━\u001b[0m\u001b[37m\u001b[0m \u001b[1m104s\u001b[0m 8s/step - AUC: 0.6224 - Precision: 0.5815 - Recall: 0.5165 - accuracy: 0.5857 - loss: 0.8209 - val_AUC: 0.8444 - val_Precision: 0.0000e+00 - val_Recall: 0.0000e+00 - val_accuracy: 0.5556 - val_loss: 0.5421 - learning_rate: 0.0010\n",
      "Epoch 2/50\n",
      "\u001b[1m12/12\u001b[0m \u001b[32m━━━━━━━━━━━━━━━━━━━━\u001b[0m\u001b[37m\u001b[0m \u001b[1m97s\u001b[0m 8s/step - AUC: 0.7694 - Precision: 0.7591 - Recall: 0.5910 - accuracy: 0.6929 - loss: 0.6184 - val_AUC: 0.8187 - val_Precision: 0.0000e+00 - val_Recall: 0.0000e+00 - val_accuracy: 0.5556 - val_loss: 0.6462 - learning_rate: 0.0010\n",
      "Epoch 3/50\n",
      "\u001b[1m12/12\u001b[0m \u001b[32m━━━━━━━━━━━━━━━━━━━━\u001b[0m\u001b[37m\u001b[0m \u001b[1m95s\u001b[0m 8s/step - AUC: 0.7613 - Precision: 0.7441 - Recall: 0.6600 - accuracy: 0.7036 - loss: 0.6101 - val_AUC: 0.8250 - val_Precision: 0.6970 - val_Recall: 0.9583 - val_accuracy: 0.7963 - val_loss: 0.5432 - learning_rate: 0.0010\n",
      "Epoch 4/50\n",
      "\u001b[1m12/12\u001b[0m \u001b[32m━━━━━━━━━━━━━━━━━━━━\u001b[0m\u001b[37m\u001b[0m \u001b[1m95s\u001b[0m 8s/step - AUC: 0.7778 - Precision: 0.7502 - Recall: 0.8015 - accuracy: 0.7674 - loss: 0.5633 - val_AUC: 0.8424 - val_Precision: 0.6216 - val_Recall: 0.9583 - val_accuracy: 0.7222 - val_loss: 0.5246 - learning_rate: 0.0010\n",
      "Epoch 5/50\n",
      "\u001b[1m12/12\u001b[0m \u001b[32m━━━━━━━━━━━━━━━━━━━━\u001b[0m\u001b[37m\u001b[0m \u001b[1m96s\u001b[0m 8s/step - AUC: 0.7754 - Precision: 0.7424 - Recall: 0.7780 - accuracy: 0.7453 - loss: 0.5689 - val_AUC: 0.8278 - val_Precision: 0.6053 - val_Recall: 0.9583 - val_accuracy: 0.7037 - val_loss: 0.6076 - learning_rate: 0.0010\n",
      "Epoch 6/50\n",
      "\u001b[1m12/12\u001b[0m \u001b[32m━━━━━━━━━━━━━━━━━━━━\u001b[0m\u001b[37m\u001b[0m \u001b[1m95s\u001b[0m 8s/step - AUC: 0.7936 - Precision: 0.7564 - Recall: 0.7953 - accuracy: 0.7597 - loss: 0.5559 - val_AUC: 0.8146 - val_Precision: 0.6053 - val_Recall: 0.9583 - val_accuracy: 0.7037 - val_loss: 0.5976 - learning_rate: 0.0010\n",
      "Epoch 7/50\n",
      "\u001b[1m12/12\u001b[0m \u001b[32m━━━━━━━━━━━━━━━━━━━━\u001b[0m\u001b[37m\u001b[0m \u001b[1m94s\u001b[0m 8s/step - AUC: 0.7511 - Precision: 0.7242 - Recall: 0.7463 - accuracy: 0.7271 - loss: 0.5985 - val_AUC: 0.8153 - val_Precision: 0.6053 - val_Recall: 0.9583 - val_accuracy: 0.7037 - val_loss: 0.5915 - learning_rate: 0.0010\n",
      "Epoch 8/50\n",
      "\u001b[1m12/12\u001b[0m \u001b[32m━━━━━━━━━━━━━━━━━━━━\u001b[0m\u001b[37m\u001b[0m \u001b[1m97s\u001b[0m 8s/step - AUC: 0.8048 - Precision: 0.7315 - Recall: 0.7549 - accuracy: 0.7442 - loss: 0.5378 - val_AUC: 0.7847 - val_Precision: 0.0000e+00 - val_Recall: 0.0000e+00 - val_accuracy: 0.5556 - val_loss: 0.6014 - learning_rate: 5.0000e-04\n",
      "Epoch 9/50\n",
      "\u001b[1m12/12\u001b[0m \u001b[32m━━━━━━━━━━━━━━━━━━━━\u001b[0m\u001b[37m\u001b[0m \u001b[1m95s\u001b[0m 8s/step - AUC: 0.7677 - Precision: 0.7246 - Recall: 0.6608 - accuracy: 0.6972 - loss: 0.5835 - val_AUC: 0.7847 - val_Precision: 0.5455 - val_Recall: 1.0000 - val_accuracy: 0.6296 - val_loss: 0.6667 - learning_rate: 5.0000e-04\n",
      "Fold 4/15\n",
      "Training fold shape: (746, 224, 224, 3)\n",
      "Validation fold shape: (54, 224, 224, 3)\n",
      "Epoch 1/50\n",
      "\u001b[1m12/12\u001b[0m \u001b[32m━━━━━━━━━━━━━━━━━━━━\u001b[0m\u001b[37m\u001b[0m \u001b[1m104s\u001b[0m 8s/step - AUC: 0.6418 - Precision: 0.5941 - Recall: 0.6476 - accuracy: 0.6032 - loss: 0.7901 - val_AUC: 0.7053 - val_Precision: 0.5122 - val_Recall: 0.9545 - val_accuracy: 0.6111 - val_loss: 0.6355 - learning_rate: 0.0010\n",
      "Epoch 2/50\n",
      "\u001b[1m12/12\u001b[0m \u001b[32m━━━━━━━━━━━━━━━━━━━━\u001b[0m\u001b[37m\u001b[0m \u001b[1m99s\u001b[0m 8s/step - AUC: 0.7701 - Precision: 0.7281 - Recall: 0.7579 - accuracy: 0.7360 - loss: 0.5855 - val_AUC: 0.7891 - val_Precision: 0.5122 - val_Recall: 0.9545 - val_accuracy: 0.6111 - val_loss: 0.6373 - learning_rate: 0.0010\n",
      "Epoch 3/50\n",
      "\u001b[1m12/12\u001b[0m \u001b[32m━━━━━━━━━━━━━━━━━━━━\u001b[0m\u001b[37m\u001b[0m \u001b[1m96s\u001b[0m 8s/step - AUC: 0.7314 - Precision: 0.7014 - Recall: 0.7128 - accuracy: 0.7047 - loss: 0.6279 - val_AUC: 0.5824 - val_Precision: 0.4314 - val_Recall: 1.0000 - val_accuracy: 0.4630 - val_loss: 0.8316 - learning_rate: 0.0010\n",
      "Epoch 4/50\n",
      "\u001b[1m12/12\u001b[0m \u001b[32m━━━━━━━━━━━━━━━━━━━━\u001b[0m\u001b[37m\u001b[0m \u001b[1m93s\u001b[0m 8s/step - AUC: 0.7839 - Precision: 0.7549 - Recall: 0.8558 - accuracy: 0.7821 - loss: 0.5379 - val_AUC: 0.7067 - val_Precision: 0.4400 - val_Recall: 1.0000 - val_accuracy: 0.4815 - val_loss: 0.7985 - learning_rate: 0.0010\n",
      "Epoch 5/50\n",
      "\u001b[1m12/12\u001b[0m \u001b[32m━━━━━━━━━━━━━━━━━━━━\u001b[0m\u001b[37m\u001b[0m \u001b[1m94s\u001b[0m 8s/step - AUC: 0.8078 - Precision: 0.7720 - Recall: 0.8123 - accuracy: 0.7814 - loss: 0.5243 - val_AUC: 0.6790 - val_Precision: 0.4314 - val_Recall: 1.0000 - val_accuracy: 0.4630 - val_loss: 0.7028 - learning_rate: 5.0000e-04\n",
      "Epoch 6/50\n",
      "\u001b[1m12/12\u001b[0m \u001b[32m━━━━━━━━━━━━━━━━━━━━\u001b[0m\u001b[37m\u001b[0m \u001b[1m93s\u001b[0m 8s/step - AUC: 0.7685 - Precision: 0.7435 - Recall: 0.7731 - accuracy: 0.7492 - loss: 0.5740 - val_AUC: 0.6179 - val_Precision: 0.4151 - val_Recall: 1.0000 - val_accuracy: 0.4259 - val_loss: 0.7735 - learning_rate: 5.0000e-04\n",
      "Fold 5/15\n",
      "Training fold shape: (746, 224, 224, 3)\n",
      "Validation fold shape: (54, 224, 224, 3)\n",
      "Epoch 1/50\n",
      "\u001b[1m12/12\u001b[0m \u001b[32m━━━━━━━━━━━━━━━━━━━━\u001b[0m\u001b[37m\u001b[0m \u001b[1m104s\u001b[0m 8s/step - AUC: 0.6636 - Precision: 0.6464 - Recall: 0.5513 - accuracy: 0.6420 - loss: 0.7378 - val_AUC: 0.7775 - val_Precision: 0.6875 - val_Recall: 0.8462 - val_accuracy: 0.7407 - val_loss: 0.5773 - learning_rate: 0.0010\n",
      "Epoch 2/50\n",
      "\u001b[1m12/12\u001b[0m \u001b[32m━━━━━━━━━━━━━━━━━━━━\u001b[0m\u001b[37m\u001b[0m \u001b[1m93s\u001b[0m 8s/step - AUC: 0.7634 - Precision: 0.6883 - Recall: 0.7989 - accuracy: 0.7226 - loss: 0.6076 - val_AUC: 0.7617 - val_Precision: 0.6875 - val_Recall: 0.8462 - val_accuracy: 0.7407 - val_loss: 0.5682 - learning_rate: 0.0010\n",
      "Epoch 3/50\n",
      "\u001b[1m12/12\u001b[0m \u001b[32m━━━━━━━━━━━━━━━━━━━━\u001b[0m\u001b[37m\u001b[0m \u001b[1m94s\u001b[0m 8s/step - AUC: 0.7525 - Precision: 0.7107 - Recall: 0.7930 - accuracy: 0.7372 - loss: 0.5880 - val_AUC: 0.7788 - val_Precision: 0.6765 - val_Recall: 0.8846 - val_accuracy: 0.7407 - val_loss: 0.5737 - learning_rate: 0.0010\n",
      "Epoch 4/50\n",
      "\u001b[1m12/12\u001b[0m \u001b[32m━━━━━━━━━━━━━━━━━━━━\u001b[0m\u001b[37m\u001b[0m \u001b[1m92s\u001b[0m 8s/step - AUC: 0.7523 - Precision: 0.6987 - Recall: 0.7401 - accuracy: 0.7162 - loss: 0.5891 - val_AUC: 0.7363 - val_Precision: 0.6316 - val_Recall: 0.9231 - val_accuracy: 0.7037 - val_loss: 0.6159 - learning_rate: 0.0010\n",
      "Epoch 5/50\n",
      "\u001b[1m12/12\u001b[0m \u001b[32m━━━━━━━━━━━━━━━━━━━━\u001b[0m\u001b[37m\u001b[0m \u001b[1m93s\u001b[0m 8s/step - AUC: 0.7542 - Precision: 0.7073 - Recall: 0.7677 - accuracy: 0.7163 - loss: 0.6034 - val_AUC: 0.7630 - val_Precision: 0.6875 - val_Recall: 0.8462 - val_accuracy: 0.7407 - val_loss: 0.5874 - learning_rate: 0.0010\n",
      "Epoch 6/50\n",
      "\u001b[1m12/12\u001b[0m \u001b[32m━━━━━━━━━━━━━━━━━━━━\u001b[0m\u001b[37m\u001b[0m \u001b[1m92s\u001b[0m 8s/step - AUC: 0.7561 - Precision: 0.7274 - Recall: 0.7170 - accuracy: 0.7240 - loss: 0.5930 - val_AUC: 0.7864 - val_Precision: 0.6667 - val_Recall: 0.8462 - val_accuracy: 0.7222 - val_loss: 0.5606 - learning_rate: 5.0000e-04\n",
      "Epoch 7/50\n",
      "\u001b[1m12/12\u001b[0m \u001b[32m━━━━━━━━━━━━━━━━━━━━\u001b[0m\u001b[37m\u001b[0m \u001b[1m96s\u001b[0m 8s/step - AUC: 0.7687 - Precision: 0.7105 - Recall: 0.8305 - accuracy: 0.7512 - loss: 0.5641 - val_AUC: 0.7555 - val_Precision: 0.6875 - val_Recall: 0.8462 - val_accuracy: 0.7407 - val_loss: 0.5602 - learning_rate: 5.0000e-04\n",
      "Epoch 8/50\n",
      "\u001b[1m12/12\u001b[0m \u001b[32m━━━━━━━━━━━━━━━━━━━━\u001b[0m\u001b[37m\u001b[0m \u001b[1m92s\u001b[0m 8s/step - AUC: 0.7981 - Precision: 0.7203 - Recall: 0.8329 - accuracy: 0.7622 - loss: 0.5320 - val_AUC: 0.7617 - val_Precision: 0.6875 - val_Recall: 0.8462 - val_accuracy: 0.7407 - val_loss: 0.5571 - learning_rate: 5.0000e-04\n",
      "Epoch 9/50\n",
      "\u001b[1m12/12\u001b[0m \u001b[32m━━━━━━━━━━━━━━━━━━━━\u001b[0m\u001b[37m\u001b[0m \u001b[1m92s\u001b[0m 8s/step - AUC: 0.7620 - Precision: 0.7239 - Recall: 0.8089 - accuracy: 0.7418 - loss: 0.5837 - val_AUC: 0.7775 - val_Precision: 0.6875 - val_Recall: 0.8462 - val_accuracy: 0.7407 - val_loss: 0.5579 - learning_rate: 5.0000e-04\n",
      "Epoch 10/50\n",
      "\u001b[1m12/12\u001b[0m \u001b[32m━━━━━━━━━━━━━━━━━━━━\u001b[0m\u001b[37m\u001b[0m \u001b[1m93s\u001b[0m 8s/step - AUC: 0.7908 - Precision: 0.7519 - Recall: 0.8388 - accuracy: 0.7798 - loss: 0.5404 - val_AUC: 0.7802 - val_Precision: 0.6875 - val_Recall: 0.8462 - val_accuracy: 0.7407 - val_loss: 0.5550 - learning_rate: 5.0000e-04\n",
      "Epoch 11/50\n",
      "\u001b[1m12/12\u001b[0m \u001b[32m━━━━━━━━━━━━━━━━━━━━\u001b[0m\u001b[37m\u001b[0m \u001b[1m92s\u001b[0m 8s/step - AUC: 0.8062 - Precision: 0.7659 - Recall: 0.7969 - accuracy: 0.7803 - loss: 0.5337 - val_AUC: 0.7782 - val_Precision: 0.6667 - val_Recall: 0.8462 - val_accuracy: 0.7222 - val_loss: 0.5587 - learning_rate: 5.0000e-04\n",
      "Epoch 12/50\n",
      "\u001b[1m12/12\u001b[0m \u001b[32m━━━━━━━━━━━━━━━━━━━━\u001b[0m\u001b[37m\u001b[0m \u001b[1m91s\u001b[0m 7s/step - AUC: 0.7895 - Precision: 0.7497 - Recall: 0.8413 - accuracy: 0.7675 - loss: 0.5414 - val_AUC: 0.7864 - val_Precision: 0.6875 - val_Recall: 0.8462 - val_accuracy: 0.7407 - val_loss: 0.6006 - learning_rate: 5.0000e-04\n",
      "Epoch 13/50\n",
      "\u001b[1m12/12\u001b[0m \u001b[32m━━━━━━━━━━━━━━━━━━━━\u001b[0m\u001b[37m\u001b[0m \u001b[1m90s\u001b[0m 8s/step - AUC: 0.7833 - Precision: 0.7414 - Recall: 0.6579 - accuracy: 0.7131 - loss: 0.5749 - val_AUC: 0.7912 - val_Precision: 0.6875 - val_Recall: 0.8462 - val_accuracy: 0.7407 - val_loss: 0.5715 - learning_rate: 5.0000e-04\n",
      "Epoch 14/50\n",
      "\u001b[1m12/12\u001b[0m \u001b[32m━━━━━━━━━━━━━━━━━━━━\u001b[0m\u001b[37m\u001b[0m \u001b[1m95s\u001b[0m 8s/step - AUC: 0.7710 - Precision: 0.6918 - Recall: 0.7508 - accuracy: 0.7238 - loss: 0.5649 - val_AUC: 0.7912 - val_Precision: 0.6875 - val_Recall: 0.8462 - val_accuracy: 0.7407 - val_loss: 0.5900 - learning_rate: 2.5000e-04\n",
      "Epoch 15/50\n",
      "\u001b[1m12/12\u001b[0m \u001b[32m━━━━━━━━━━━━━━━━━━━━\u001b[0m\u001b[37m\u001b[0m \u001b[1m92s\u001b[0m 8s/step - AUC: 0.7847 - Precision: 0.7047 - Recall: 0.8149 - accuracy: 0.7397 - loss: 0.5601 - val_AUC: 0.7699 - val_Precision: 0.6875 - val_Recall: 0.8462 - val_accuracy: 0.7407 - val_loss: 0.5873 - learning_rate: 2.5000e-04\n",
      "Fold 6/15\n",
      "Training fold shape: (747, 224, 224, 3)\n",
      "Validation fold shape: (53, 224, 224, 3)\n",
      "Epoch 1/50\n",
      "\u001b[1m12/12\u001b[0m \u001b[32m━━━━━━━━━━━━━━━━━━━━\u001b[0m\u001b[37m\u001b[0m \u001b[1m105s\u001b[0m 8s/step - AUC: 0.7109 - Precision: 0.7006 - Recall: 0.7113 - accuracy: 0.7007 - loss: 0.7193 - val_AUC: 0.7119 - val_Precision: 0.0000e+00 - val_Recall: 0.0000e+00 - val_accuracy: 0.4151 - val_loss: 0.6683 - learning_rate: 0.0010\n",
      "Epoch 2/50\n",
      "\u001b[1m12/12\u001b[0m \u001b[32m━━━━━━━━━━━━━━━━━━━━\u001b[0m\u001b[37m\u001b[0m \u001b[1m97s\u001b[0m 8s/step - AUC: 0.7350 - Precision: 0.7197 - Recall: 0.7086 - accuracy: 0.7068 - loss: 0.6301 - val_AUC: 0.6782 - val_Precision: 0.0000e+00 - val_Recall: 0.0000e+00 - val_accuracy: 0.4151 - val_loss: 0.6662 - learning_rate: 0.0010\n",
      "Epoch 3/50\n",
      "\u001b[1m12/12\u001b[0m \u001b[32m━━━━━━━━━━━━━━━━━━━━\u001b[0m\u001b[37m\u001b[0m \u001b[1m93s\u001b[0m 8s/step - AUC: 0.7731 - Precision: 0.7336 - Recall: 0.7512 - accuracy: 0.7346 - loss: 0.5852 - val_AUC: 0.7654 - val_Precision: 0.0000e+00 - val_Recall: 0.0000e+00 - val_accuracy: 0.4151 - val_loss: 0.6540 - learning_rate: 0.0010\n",
      "Epoch 4/50\n",
      "\u001b[1m12/12\u001b[0m \u001b[32m━━━━━━━━━━━━━━━━━━━━\u001b[0m\u001b[37m\u001b[0m \u001b[1m93s\u001b[0m 8s/step - AUC: 0.7502 - Precision: 0.7139 - Recall: 0.7055 - accuracy: 0.7163 - loss: 0.5998 - val_AUC: 0.7309 - val_Precision: 0.7073 - val_Recall: 0.9355 - val_accuracy: 0.7358 - val_loss: 0.5927 - learning_rate: 0.0010\n",
      "Epoch 5/50\n",
      "\u001b[1m12/12\u001b[0m \u001b[32m━━━━━━━━━━━━━━━━━━━━\u001b[0m\u001b[37m\u001b[0m \u001b[1m94s\u001b[0m 8s/step - AUC: 0.8096 - Precision: 0.7470 - Recall: 0.8225 - accuracy: 0.7770 - loss: 0.5224 - val_AUC: 0.7595 - val_Precision: 0.7179 - val_Recall: 0.9032 - val_accuracy: 0.7358 - val_loss: 0.6406 - learning_rate: 0.0010\n",
      "Epoch 6/50\n",
      "\u001b[1m12/12\u001b[0m \u001b[32m━━━━━━━━━━━━━━━━━━━━\u001b[0m\u001b[37m\u001b[0m \u001b[1m94s\u001b[0m 8s/step - AUC: 0.7733 - Precision: 0.7161 - Recall: 0.7971 - accuracy: 0.7465 - loss: 0.5640 - val_AUC: 0.7471 - val_Precision: 0.6829 - val_Recall: 0.9032 - val_accuracy: 0.6981 - val_loss: 0.6083 - learning_rate: 0.0010\n",
      "Epoch 7/50\n",
      "\u001b[1m12/12\u001b[0m \u001b[32m━━━━━━━━━━━━━━━━━━━━\u001b[0m\u001b[37m\u001b[0m \u001b[1m94s\u001b[0m 8s/step - AUC: 0.7702 - Precision: 0.6752 - Recall: 0.6736 - accuracy: 0.7016 - loss: 0.5743 - val_AUC: 0.6943 - val_Precision: 0.5849 - val_Recall: 1.0000 - val_accuracy: 0.5849 - val_loss: 0.6849 - learning_rate: 0.0010\n",
      "Epoch 8/50\n",
      "\u001b[1m12/12\u001b[0m \u001b[32m━━━━━━━━━━━━━━━━━━━━\u001b[0m\u001b[37m\u001b[0m \u001b[1m93s\u001b[0m 8s/step - AUC: 0.7723 - Precision: 0.7302 - Recall: 0.8285 - accuracy: 0.7636 - loss: 0.5516 - val_AUC: 0.6972 - val_Precision: 0.5849 - val_Recall: 1.0000 - val_accuracy: 0.5849 - val_loss: 0.6464 - learning_rate: 5.0000e-04\n",
      "Epoch 9/50\n",
      "\u001b[1m12/12\u001b[0m \u001b[32m━━━━━━━━━━━━━━━━━━━━\u001b[0m\u001b[37m\u001b[0m \u001b[1m93s\u001b[0m 8s/step - AUC: 0.7718 - Precision: 0.7164 - Recall: 0.8284 - accuracy: 0.7548 - loss: 0.5637 - val_AUC: 0.7001 - val_Precision: 0.5962 - val_Recall: 1.0000 - val_accuracy: 0.6038 - val_loss: 0.6370 - learning_rate: 5.0000e-04\n",
      "Fold 7/15\n",
      "Training fold shape: (747, 224, 224, 3)\n",
      "Validation fold shape: (53, 224, 224, 3)\n",
      "Epoch 1/50\n",
      "\u001b[1m12/12\u001b[0m \u001b[32m━━━━━━━━━━━━━━━━━━━━\u001b[0m\u001b[37m\u001b[0m \u001b[1m106s\u001b[0m 8s/step - AUC: 0.6426 - Precision: 0.6163 - Recall: 0.5783 - accuracy: 0.6201 - loss: 0.8333 - val_AUC: 0.7906 - val_Precision: 0.0000e+00 - val_Recall: 0.0000e+00 - val_accuracy: 0.4906 - val_loss: 0.7167 - learning_rate: 0.0010\n",
      "Epoch 2/50\n",
      "\u001b[1m12/12\u001b[0m \u001b[32m━━━━━━━━━━━━━━━━━━━━\u001b[0m\u001b[37m\u001b[0m \u001b[1m93s\u001b[0m 8s/step - AUC: 0.7630 - Precision: 0.7269 - Recall: 0.7775 - accuracy: 0.7383 - loss: 0.5992 - val_AUC: 0.7756 - val_Precision: 0.7586 - val_Recall: 0.8148 - val_accuracy: 0.7736 - val_loss: 0.5944 - learning_rate: 0.0010\n",
      "Epoch 3/50\n",
      "\u001b[1m12/12\u001b[0m \u001b[32m━━━━━━━━━━━━━━━━━━━━\u001b[0m\u001b[37m\u001b[0m \u001b[1m94s\u001b[0m 8s/step - AUC: 0.7456 - Precision: 0.7011 - Recall: 0.7559 - accuracy: 0.7130 - loss: 0.6106 - val_AUC: 0.7956 - val_Precision: 0.6667 - val_Recall: 0.8148 - val_accuracy: 0.6981 - val_loss: 0.5988 - learning_rate: 0.0010\n",
      "Epoch 4/50\n",
      "\u001b[1m12/12\u001b[0m \u001b[32m━━━━━━━━━━━━━━━━━━━━\u001b[0m\u001b[37m\u001b[0m \u001b[1m93s\u001b[0m 8s/step - AUC: 0.7752 - Precision: 0.7322 - Recall: 0.7817 - accuracy: 0.7462 - loss: 0.5662 - val_AUC: 0.7984 - val_Precision: 0.6154 - val_Recall: 0.8889 - val_accuracy: 0.6604 - val_loss: 0.6910 - learning_rate: 0.0010\n",
      "Epoch 5/50\n",
      "\u001b[1m12/12\u001b[0m \u001b[32m━━━━━━━━━━━━━━━━━━━━\u001b[0m\u001b[37m\u001b[0m \u001b[1m93s\u001b[0m 8s/step - AUC: 0.7417 - Precision: 0.7025 - Recall: 0.7075 - accuracy: 0.7061 - loss: 0.6279 - val_AUC: 0.7806 - val_Precision: 0.5319 - val_Recall: 0.9259 - val_accuracy: 0.5472 - val_loss: 0.7280 - learning_rate: 0.0010\n",
      "Epoch 6/50\n",
      "\u001b[1m12/12\u001b[0m \u001b[32m━━━━━━━━━━━━━━━━━━━━\u001b[0m\u001b[37m\u001b[0m \u001b[1m93s\u001b[0m 8s/step - AUC: 0.7841 - Precision: 0.7043 - Recall: 0.7922 - accuracy: 0.7306 - loss: 0.5579 - val_AUC: 0.8084 - val_Precision: 0.5094 - val_Recall: 1.0000 - val_accuracy: 0.5094 - val_loss: 0.6724 - learning_rate: 5.0000e-04\n",
      "Epoch 7/50\n",
      "\u001b[1m12/12\u001b[0m \u001b[32m━━━━━━━━━━━━━━━━━━━━\u001b[0m\u001b[37m\u001b[0m \u001b[1m94s\u001b[0m 8s/step - AUC: 0.7553 - Precision: 0.6881 - Recall: 0.7874 - accuracy: 0.7187 - loss: 0.5746 - val_AUC: 0.7806 - val_Precision: 0.5400 - val_Recall: 1.0000 - val_accuracy: 0.5660 - val_loss: 0.7310 - learning_rate: 5.0000e-04\n",
      "Fold 8/15\n",
      "Training fold shape: (747, 224, 224, 3)\n",
      "Validation fold shape: (53, 224, 224, 3)\n",
      "Epoch 1/50\n",
      "\u001b[1m12/12\u001b[0m \u001b[32m━━━━━━━━━━━━━━━━━━━━\u001b[0m\u001b[37m\u001b[0m \u001b[1m104s\u001b[0m 8s/step - AUC: 0.5884 - Precision: 0.6175 - Recall: 0.5192 - accuracy: 0.6304 - loss: 0.8222 - val_AUC: 0.6994 - val_Precision: 0.6000 - val_Recall: 0.8077 - val_accuracy: 0.6415 - val_loss: 0.7797 - learning_rate: 0.0010\n",
      "Epoch 2/50\n",
      "\u001b[1m12/12\u001b[0m \u001b[32m━━━━━━━━━━━━━━━━━━━━\u001b[0m\u001b[37m\u001b[0m \u001b[1m92s\u001b[0m 8s/step - AUC: 0.7438 - Precision: 0.6793 - Recall: 0.7291 - accuracy: 0.7086 - loss: 0.6056 - val_AUC: 0.7051 - val_Precision: 0.6000 - val_Recall: 0.8077 - val_accuracy: 0.6415 - val_loss: 0.6900 - learning_rate: 0.0010\n",
      "Epoch 3/50\n",
      "\u001b[1m12/12\u001b[0m \u001b[32m━━━━━━━━━━━━━━━━━━━━\u001b[0m\u001b[37m\u001b[0m \u001b[1m94s\u001b[0m 8s/step - AUC: 0.7543 - Precision: 0.6718 - Recall: 0.7273 - accuracy: 0.7127 - loss: 0.5879 - val_AUC: 0.6595 - val_Precision: 0.5526 - val_Recall: 0.8077 - val_accuracy: 0.5849 - val_loss: 0.8743 - learning_rate: 0.0010\n",
      "Epoch 4/50\n",
      "\u001b[1m12/12\u001b[0m \u001b[32m━━━━━━━━━━━━━━━━━━━━\u001b[0m\u001b[37m\u001b[0m \u001b[1m94s\u001b[0m 8s/step - AUC: 0.7756 - Precision: 0.6933 - Recall: 0.7996 - accuracy: 0.7259 - loss: 0.5717 - val_AUC: 0.6432 - val_Precision: 0.5122 - val_Recall: 0.8077 - val_accuracy: 0.5283 - val_loss: 0.7467 - learning_rate: 0.0010\n",
      "Epoch 5/50\n",
      "\u001b[1m12/12\u001b[0m \u001b[32m━━━━━━━━━━━━━━━━━━━━\u001b[0m\u001b[37m\u001b[0m \u001b[1m92s\u001b[0m 8s/step - AUC: 0.7954 - Precision: 0.7635 - Recall: 0.8106 - accuracy: 0.7743 - loss: 0.5594 - val_AUC: 0.4152 - val_Precision: 0.4800 - val_Recall: 0.9231 - val_accuracy: 0.4717 - val_loss: 0.8121 - learning_rate: 0.0010\n",
      "Epoch 6/50\n",
      "\u001b[1m12/12\u001b[0m \u001b[32m━━━━━━━━━━━━━━━━━━━━\u001b[0m\u001b[37m\u001b[0m \u001b[1m94s\u001b[0m 8s/step - AUC: 0.7756 - Precision: 0.6986 - Recall: 0.8188 - accuracy: 0.7349 - loss: 0.5534 - val_AUC: 0.6204 - val_Precision: 0.4800 - val_Recall: 0.9231 - val_accuracy: 0.4717 - val_loss: 0.9062 - learning_rate: 5.0000e-04\n",
      "Epoch 7/50\n",
      "\u001b[1m12/12\u001b[0m \u001b[32m━━━━━━━━━━━━━━━━━━━━\u001b[0m\u001b[37m\u001b[0m \u001b[1m93s\u001b[0m 8s/step - AUC: 0.7665 - Precision: 0.7346 - Recall: 0.8597 - accuracy: 0.7723 - loss: 0.5492 - val_AUC: 0.5805 - val_Precision: 0.4808 - val_Recall: 0.9615 - val_accuracy: 0.4717 - val_loss: 0.9885 - learning_rate: 5.0000e-04\n",
      "Fold 9/15\n",
      "Training fold shape: (747, 224, 224, 3)\n",
      "Validation fold shape: (53, 224, 224, 3)\n",
      "Epoch 1/50\n",
      "\u001b[1m12/12\u001b[0m \u001b[32m━━━━━━━━━━━━━━━━━━━━\u001b[0m\u001b[37m\u001b[0m \u001b[1m104s\u001b[0m 8s/step - AUC: 0.6197 - Precision: 0.5627 - Recall: 0.4594 - accuracy: 0.5766 - loss: 0.8040 - val_AUC: 0.3184 - val_Precision: 0.2353 - val_Recall: 0.1538 - val_accuracy: 0.3396 - val_loss: 0.8837 - learning_rate: 0.0010\n",
      "Epoch 2/50\n",
      "\u001b[1m12/12\u001b[0m \u001b[32m━━━━━━━━━━━━━━━━━━━━\u001b[0m\u001b[37m\u001b[0m \u001b[1m94s\u001b[0m 8s/step - AUC: 0.7399 - Precision: 0.6991 - Recall: 0.7643 - accuracy: 0.7110 - loss: 0.6231 - val_AUC: 0.6275 - val_Precision: 0.0000e+00 - val_Recall: 0.0000e+00 - val_accuracy: 0.5094 - val_loss: 0.7100 - learning_rate: 0.0010\n",
      "Epoch 3/50\n",
      "\u001b[1m12/12\u001b[0m \u001b[32m━━━━━━━━━━━━━━━━━━━━\u001b[0m\u001b[37m\u001b[0m \u001b[1m93s\u001b[0m 8s/step - AUC: 0.7231 - Precision: 0.6720 - Recall: 0.6754 - accuracy: 0.6877 - loss: 0.6385 - val_AUC: 0.7350 - val_Precision: 0.6111 - val_Recall: 0.8462 - val_accuracy: 0.6604 - val_loss: 0.7115 - learning_rate: 0.0010\n",
      "Epoch 4/50\n",
      "\u001b[1m12/12\u001b[0m \u001b[32m━━━━━━━━━━━━━━━━━━━━\u001b[0m\u001b[37m\u001b[0m \u001b[1m93s\u001b[0m 8s/step - AUC: 0.7348 - Precision: 0.6954 - Recall: 0.7469 - accuracy: 0.7084 - loss: 0.6484 - val_AUC: 0.7607 - val_Precision: 0.0000e+00 - val_Recall: 0.0000e+00 - val_accuracy: 0.5094 - val_loss: 0.6794 - learning_rate: 0.0010\n",
      "Epoch 5/50\n",
      "\u001b[1m12/12\u001b[0m \u001b[32m━━━━━━━━━━━━━━━━━━━━\u001b[0m\u001b[37m\u001b[0m \u001b[1m93s\u001b[0m 8s/step - AUC: 0.7517 - Precision: 0.7112 - Recall: 0.7167 - accuracy: 0.7042 - loss: 0.6051 - val_AUC: 0.7329 - val_Precision: 0.0000e+00 - val_Recall: 0.0000e+00 - val_accuracy: 0.5094 - val_loss: 0.6934 - learning_rate: 0.0010\n",
      "Epoch 6/50\n",
      "\u001b[1m12/12\u001b[0m \u001b[32m━━━━━━━━━━━━━━━━━━━━\u001b[0m\u001b[37m\u001b[0m \u001b[1m94s\u001b[0m 8s/step - AUC: 0.7440 - Precision: 0.6858 - Recall: 0.7839 - accuracy: 0.7169 - loss: 0.6020 - val_AUC: 0.7536 - val_Precision: 0.0000e+00 - val_Recall: 0.0000e+00 - val_accuracy: 0.5094 - val_loss: 0.7842 - learning_rate: 0.0010\n",
      "Epoch 7/50\n",
      "\u001b[1m12/12\u001b[0m \u001b[32m━━━━━━━━━━━━━━━━━━━━\u001b[0m\u001b[37m\u001b[0m \u001b[1m93s\u001b[0m 8s/step - AUC: 0.7762 - Precision: 0.7486 - Recall: 0.6943 - accuracy: 0.7201 - loss: 0.5870 - val_AUC: 0.7151 - val_Precision: 0.5098 - val_Recall: 1.0000 - val_accuracy: 0.5283 - val_loss: 0.7862 - learning_rate: 0.0010\n",
      "Epoch 8/50\n",
      "\u001b[1m12/12\u001b[0m \u001b[32m━━━━━━━━━━━━━━━━━━━━\u001b[0m\u001b[37m\u001b[0m \u001b[1m93s\u001b[0m 8s/step - AUC: 0.8061 - Precision: 0.7264 - Recall: 0.8838 - accuracy: 0.7770 - loss: 0.5209 - val_AUC: 0.7379 - val_Precision: 0.6897 - val_Recall: 0.7692 - val_accuracy: 0.7170 - val_loss: 0.6315 - learning_rate: 5.0000e-04\n",
      "Epoch 9/50\n",
      "\u001b[1m12/12\u001b[0m \u001b[32m━━━━━━━━━━━━━━━━━━━━\u001b[0m\u001b[37m\u001b[0m \u001b[1m94s\u001b[0m 8s/step - AUC: 0.7648 - Precision: 0.6825 - Recall: 0.7808 - accuracy: 0.7311 - loss: 0.5491 - val_AUC: 0.7472 - val_Precision: 0.5000 - val_Recall: 1.0000 - val_accuracy: 0.5094 - val_loss: 0.8180 - learning_rate: 5.0000e-04\n",
      "Epoch 10/50\n",
      "\u001b[1m12/12\u001b[0m \u001b[32m━━━━━━━━━━━━━━━━━━━━\u001b[0m\u001b[37m\u001b[0m \u001b[1m92s\u001b[0m 8s/step - AUC: 0.7831 - Precision: 0.7112 - Recall: 0.8573 - accuracy: 0.7557 - loss: 0.5617 - val_AUC: 0.7322 - val_Precision: 0.4906 - val_Recall: 1.0000 - val_accuracy: 0.4906 - val_loss: 0.7333 - learning_rate: 5.0000e-04\n",
      "Epoch 11/50\n",
      "\u001b[1m12/12\u001b[0m \u001b[32m━━━━━━━━━━━━━━━━━━━━\u001b[0m\u001b[37m\u001b[0m \u001b[1m93s\u001b[0m 8s/step - AUC: 0.7972 - Precision: 0.7219 - Recall: 0.8737 - accuracy: 0.7678 - loss: 0.5144 - val_AUC: 0.7130 - val_Precision: 0.5000 - val_Recall: 1.0000 - val_accuracy: 0.5094 - val_loss: 0.6773 - learning_rate: 5.0000e-04\n",
      "Epoch 12/50\n",
      "\u001b[1m12/12\u001b[0m \u001b[32m━━━━━━━━━━━━━━━━━━━━\u001b[0m\u001b[37m\u001b[0m \u001b[1m94s\u001b[0m 8s/step - AUC: 0.7889 - Precision: 0.6929 - Recall: 0.8351 - accuracy: 0.7425 - loss: 0.5270 - val_AUC: 0.7179 - val_Precision: 0.4906 - val_Recall: 1.0000 - val_accuracy: 0.4906 - val_loss: 0.7897 - learning_rate: 2.5000e-04\n",
      "Epoch 13/50\n",
      "\u001b[1m12/12\u001b[0m \u001b[32m━━━━━━━━━━━━━━━━━━━━\u001b[0m\u001b[37m\u001b[0m \u001b[1m91s\u001b[0m 7s/step - AUC: 0.8042 - Precision: 0.7044 - Recall: 0.8715 - accuracy: 0.7656 - loss: 0.5124 - val_AUC: 0.7358 - val_Precision: 0.4906 - val_Recall: 1.0000 - val_accuracy: 0.4906 - val_loss: 0.7573 - learning_rate: 2.5000e-04\n",
      "Fold 10/15\n",
      "Training fold shape: (747, 224, 224, 3)\n",
      "Validation fold shape: (53, 224, 224, 3)\n",
      "Epoch 1/50\n",
      "\u001b[1m12/12\u001b[0m \u001b[32m━━━━━━━━━━━━━━━━━━━━\u001b[0m\u001b[37m\u001b[0m \u001b[1m102s\u001b[0m 8s/step - AUC: 0.6176 - Precision: 0.5666 - Recall: 0.5230 - accuracy: 0.5701 - loss: 0.7697 - val_AUC: 0.8386 - val_Precision: 0.7188 - val_Recall: 0.9200 - val_accuracy: 0.7925 - val_loss: 0.4580 - learning_rate: 0.0010\n",
      "Epoch 2/50\n",
      "\u001b[1m12/12\u001b[0m \u001b[32m━━━━━━━━━━━━━━━━━━━━\u001b[0m\u001b[37m\u001b[0m \u001b[1m95s\u001b[0m 8s/step - AUC: 0.7738 - Precision: 0.7252 - Recall: 0.8005 - accuracy: 0.7531 - loss: 0.5651 - val_AUC: 0.8529 - val_Precision: 0.7667 - val_Recall: 0.9200 - val_accuracy: 0.8302 - val_loss: 0.5789 - learning_rate: 0.0010\n",
      "Epoch 3/50\n",
      "\u001b[1m12/12\u001b[0m \u001b[32m━━━━━━━━━━━━━━━━━━━━\u001b[0m\u001b[37m\u001b[0m \u001b[1m93s\u001b[0m 8s/step - AUC: 0.7320 - Precision: 0.7039 - Recall: 0.6873 - accuracy: 0.7057 - loss: 0.6287 - val_AUC: 0.8593 - val_Precision: 0.6857 - val_Recall: 0.9600 - val_accuracy: 0.7736 - val_loss: 0.5141 - learning_rate: 0.0010\n",
      "Epoch 4/50\n",
      "\u001b[1m12/12\u001b[0m \u001b[32m━━━━━━━━━━━━━━━━━━━━\u001b[0m\u001b[37m\u001b[0m \u001b[1m94s\u001b[0m 8s/step - AUC: 0.7665 - Precision: 0.7212 - Recall: 0.7433 - accuracy: 0.7355 - loss: 0.5760 - val_AUC: 0.8364 - val_Precision: 0.6000 - val_Recall: 0.9600 - val_accuracy: 0.6792 - val_loss: 0.6228 - learning_rate: 0.0010\n",
      "Epoch 5/50\n",
      "\u001b[1m12/12\u001b[0m \u001b[32m━━━━━━━━━━━━━━━━━━━━\u001b[0m\u001b[37m\u001b[0m \u001b[1m95s\u001b[0m 8s/step - AUC: 0.7090 - Precision: 0.6582 - Recall: 0.6776 - accuracy: 0.6780 - loss: 0.6896 - val_AUC: 0.8307 - val_Precision: 0.5854 - val_Recall: 0.9600 - val_accuracy: 0.6604 - val_loss: 0.6265 - learning_rate: 5.0000e-04\n",
      "Epoch 6/50\n",
      "\u001b[1m12/12\u001b[0m \u001b[32m━━━━━━━━━━━━━━━━━━━━\u001b[0m\u001b[37m\u001b[0m \u001b[1m98s\u001b[0m 8s/step - AUC: 0.7528 - Precision: 0.7014 - Recall: 0.7793 - accuracy: 0.7253 - loss: 0.5970 - val_AUC: 0.8357 - val_Precision: 0.6154 - val_Recall: 0.9600 - val_accuracy: 0.6981 - val_loss: 0.5571 - learning_rate: 5.0000e-04\n",
      "Fold 11/15\n",
      "Training fold shape: (747, 224, 224, 3)\n",
      "Validation fold shape: (53, 224, 224, 3)\n",
      "Epoch 1/50\n",
      "\u001b[1m12/12\u001b[0m \u001b[32m━━━━━━━━━━━━━━━━━━━━\u001b[0m\u001b[37m\u001b[0m \u001b[1m106s\u001b[0m 8s/step - AUC: 0.6523 - Precision: 0.6186 - Recall: 0.4970 - accuracy: 0.6240 - loss: 0.7253 - val_AUC: 0.7764 - val_Precision: 0.7188 - val_Recall: 0.8214 - val_accuracy: 0.7358 - val_loss: 0.6008 - learning_rate: 0.0010\n",
      "Epoch 2/50\n",
      "\u001b[1m12/12\u001b[0m \u001b[32m━━━━━━━━━━━━━━━━━━━━\u001b[0m\u001b[37m\u001b[0m \u001b[1m96s\u001b[0m 8s/step - AUC: 0.7384 - Precision: 0.6890 - Recall: 0.6692 - accuracy: 0.6794 - loss: 0.6308 - val_AUC: 0.4007 - val_Precision: 0.0000e+00 - val_Recall: 0.0000e+00 - val_accuracy: 0.4717 - val_loss: 0.7983 - learning_rate: 0.0010\n",
      "Epoch 3/50\n",
      "\u001b[1m12/12\u001b[0m \u001b[32m━━━━━━━━━━━━━━━━━━━━\u001b[0m\u001b[37m\u001b[0m \u001b[1m97s\u001b[0m 8s/step - AUC: 0.7360 - Precision: 0.7029 - Recall: 0.7439 - accuracy: 0.7219 - loss: 0.6170 - val_AUC: 0.6721 - val_Precision: 0.6585 - val_Recall: 0.9643 - val_accuracy: 0.7170 - val_loss: 0.6638 - learning_rate: 0.0010\n",
      "Epoch 4/50\n",
      "\u001b[1m12/12\u001b[0m \u001b[32m━━━━━━━━━━━━━━━━━━━━\u001b[0m\u001b[37m\u001b[0m \u001b[1m94s\u001b[0m 8s/step - AUC: 0.7470 - Precision: 0.6905 - Recall: 0.7723 - accuracy: 0.7199 - loss: 0.5988 - val_AUC: 0.5536 - val_Precision: 0.0000e+00 - val_Recall: 0.0000e+00 - val_accuracy: 0.4717 - val_loss: 0.7464 - learning_rate: 0.0010\n",
      "Epoch 5/50\n",
      "\u001b[1m12/12\u001b[0m \u001b[32m━━━━━━━━━━━━━━━━━━━━\u001b[0m\u001b[37m\u001b[0m \u001b[1m94s\u001b[0m 8s/step - AUC: 0.7305 - Precision: 0.6718 - Recall: 0.6724 - accuracy: 0.6816 - loss: 0.6143 - val_AUC: 0.7229 - val_Precision: 0.5283 - val_Recall: 1.0000 - val_accuracy: 0.5283 - val_loss: 0.6907 - learning_rate: 5.0000e-04\n",
      "Epoch 6/50\n",
      "\u001b[1m12/12\u001b[0m \u001b[32m━━━━━━━━━━━━━━━━━━━━\u001b[0m\u001b[37m\u001b[0m \u001b[1m95s\u001b[0m 8s/step - AUC: 0.7632 - Precision: 0.7081 - Recall: 0.8450 - accuracy: 0.7464 - loss: 0.5679 - val_AUC: 0.5814 - val_Precision: 0.0000e+00 - val_Recall: 0.0000e+00 - val_accuracy: 0.4151 - val_loss: 0.7802 - learning_rate: 5.0000e-04\n",
      "Fold 12/15\n",
      "Training fold shape: (747, 224, 224, 3)\n",
      "Validation fold shape: (53, 224, 224, 3)\n",
      "Epoch 1/50\n",
      "\u001b[1m12/12\u001b[0m \u001b[32m━━━━━━━━━━━━━━━━━━━━\u001b[0m\u001b[37m\u001b[0m \u001b[1m105s\u001b[0m 8s/step - AUC: 0.6456 - Precision: 0.6115 - Recall: 0.6705 - accuracy: 0.6056 - loss: 0.7848 - val_AUC: 0.8237 - val_Precision: 0.5882 - val_Recall: 0.9524 - val_accuracy: 0.7170 - val_loss: 0.5510 - learning_rate: 0.0010\n",
      "Epoch 2/50\n",
      "\u001b[1m12/12\u001b[0m \u001b[32m━━━━━━━━━━━━━━━━━━━━\u001b[0m\u001b[37m\u001b[0m \u001b[1m94s\u001b[0m 8s/step - AUC: 0.7589 - Precision: 0.6945 - Recall: 0.6453 - accuracy: 0.6773 - loss: 0.5912 - val_AUC: 0.8013 - val_Precision: 0.5714 - val_Recall: 0.9524 - val_accuracy: 0.6981 - val_loss: 0.5545 - learning_rate: 0.0010\n",
      "Epoch 3/50\n",
      "\u001b[1m12/12\u001b[0m \u001b[32m━━━━━━━━━━━━━━━━━━━━\u001b[0m\u001b[37m\u001b[0m \u001b[1m95s\u001b[0m 8s/step - AUC: 0.7555 - Precision: 0.7196 - Recall: 0.8095 - accuracy: 0.7328 - loss: 0.5899 - val_AUC: 0.7879 - val_Precision: 0.5405 - val_Recall: 0.9524 - val_accuracy: 0.6604 - val_loss: 0.5972 - learning_rate: 0.0010\n",
      "Epoch 4/50\n",
      "\u001b[1m12/12\u001b[0m \u001b[32m━━━━━━━━━━━━━━━━━━━━\u001b[0m\u001b[37m\u001b[0m \u001b[1m93s\u001b[0m 8s/step - AUC: 0.7639 - Precision: 0.7300 - Recall: 0.7123 - accuracy: 0.7112 - loss: 0.6032 - val_AUC: 0.7753 - val_Precision: 0.4762 - val_Recall: 0.9524 - val_accuracy: 0.5660 - val_loss: 0.7167 - learning_rate: 0.0010\n",
      "Epoch 5/50\n",
      "\u001b[1m12/12\u001b[0m \u001b[32m━━━━━━━━━━━━━━━━━━━━\u001b[0m\u001b[37m\u001b[0m \u001b[1m94s\u001b[0m 8s/step - AUC: 0.7688 - Precision: 0.7014 - Recall: 0.8115 - accuracy: 0.7403 - loss: 0.5676 - val_AUC: 0.7932 - val_Precision: 0.4348 - val_Recall: 0.9524 - val_accuracy: 0.4906 - val_loss: 0.8341 - learning_rate: 5.0000e-04\n",
      "Epoch 6/50\n",
      "\u001b[1m12/12\u001b[0m \u001b[32m━━━━━━━━━━━━━━━━━━━━\u001b[0m\u001b[37m\u001b[0m \u001b[1m95s\u001b[0m 8s/step - AUC: 0.7808 - Precision: 0.7320 - Recall: 0.8651 - accuracy: 0.7798 - loss: 0.5382 - val_AUC: 0.7932 - val_Precision: 0.4082 - val_Recall: 0.9524 - val_accuracy: 0.4340 - val_loss: 0.8643 - learning_rate: 5.0000e-04\n",
      "Fold 13/15\n",
      "Training fold shape: (747, 224, 224, 3)\n",
      "Validation fold shape: (53, 224, 224, 3)\n",
      "Epoch 1/50\n",
      "\u001b[1m12/12\u001b[0m \u001b[32m━━━━━━━━━━━━━━━━━━━━\u001b[0m\u001b[37m\u001b[0m \u001b[1m104s\u001b[0m 8s/step - AUC: 0.6805 - Precision: 0.6347 - Recall: 0.6764 - accuracy: 0.6405 - loss: 0.7885 - val_AUC: 0.5151 - val_Precision: 0.0000e+00 - val_Recall: 0.0000e+00 - val_accuracy: 0.5472 - val_loss: 1.0760 - learning_rate: 0.0010\n",
      "Epoch 2/50\n",
      "\u001b[1m12/12\u001b[0m \u001b[32m━━━━━━━━━━━━━━━━━━━━\u001b[0m\u001b[37m\u001b[0m \u001b[1m95s\u001b[0m 8s/step - AUC: 0.6967 - Precision: 0.6730 - Recall: 0.6094 - accuracy: 0.6552 - loss: 0.7270 - val_AUC: 0.6365 - val_Precision: 0.5556 - val_Recall: 0.8333 - val_accuracy: 0.6226 - val_loss: 0.6672 - learning_rate: 0.0010\n",
      "Epoch 3/50\n",
      "\u001b[1m12/12\u001b[0m \u001b[32m━━━━━━━━━━━━━━━━━━━━\u001b[0m\u001b[37m\u001b[0m \u001b[1m93s\u001b[0m 8s/step - AUC: 0.7781 - Precision: 0.7319 - Recall: 0.8451 - accuracy: 0.7642 - loss: 0.5602 - val_AUC: 0.6803 - val_Precision: 0.5714 - val_Recall: 0.8333 - val_accuracy: 0.6415 - val_loss: 0.6454 - learning_rate: 0.0010\n",
      "Epoch 4/50\n",
      "\u001b[1m12/12\u001b[0m \u001b[32m━━━━━━━━━━━━━━━━━━━━\u001b[0m\u001b[37m\u001b[0m \u001b[1m94s\u001b[0m 8s/step - AUC: 0.7708 - Precision: 0.7300 - Recall: 0.7461 - accuracy: 0.7387 - loss: 0.5893 - val_AUC: 0.6853 - val_Precision: 0.5882 - val_Recall: 0.8333 - val_accuracy: 0.6604 - val_loss: 0.6466 - learning_rate: 0.0010\n",
      "Epoch 5/50\n",
      "\u001b[1m12/12\u001b[0m \u001b[32m━━━━━━━━━━━━━━━━━━━━\u001b[0m\u001b[37m\u001b[0m \u001b[1m95s\u001b[0m 8s/step - AUC: 0.7714 - Precision: 0.7213 - Recall: 0.7833 - accuracy: 0.7341 - loss: 0.5726 - val_AUC: 0.7091 - val_Precision: 0.5714 - val_Recall: 0.8333 - val_accuracy: 0.6415 - val_loss: 0.6642 - learning_rate: 0.0010\n",
      "Epoch 6/50\n",
      "\u001b[1m12/12\u001b[0m \u001b[32m━━━━━━━━━━━━━━━━━━━━\u001b[0m\u001b[37m\u001b[0m \u001b[1m94s\u001b[0m 8s/step - AUC: 0.7924 - Precision: 0.7391 - Recall: 0.7791 - accuracy: 0.7540 - loss: 0.5592 - val_AUC: 0.6983 - val_Precision: 0.5116 - val_Recall: 0.9167 - val_accuracy: 0.5660 - val_loss: 0.6726 - learning_rate: 0.0010\n",
      "Epoch 7/50\n",
      "\u001b[1m12/12\u001b[0m \u001b[32m━━━━━━━━━━━━━━━━━━━━\u001b[0m\u001b[37m\u001b[0m \u001b[1m96s\u001b[0m 8s/step - AUC: 0.7837 - Precision: 0.7229 - Recall: 0.8093 - accuracy: 0.7546 - loss: 0.5553 - val_AUC: 0.6710 - val_Precision: 0.5122 - val_Recall: 0.8750 - val_accuracy: 0.5660 - val_loss: 0.6655 - learning_rate: 5.0000e-04\n",
      "Epoch 8/50\n",
      "\u001b[1m12/12\u001b[0m \u001b[32m━━━━━━━━━━━━━━━━━━━━\u001b[0m\u001b[37m\u001b[0m \u001b[1m94s\u001b[0m 8s/step - AUC: 0.7937 - Precision: 0.7387 - Recall: 0.8082 - accuracy: 0.7509 - loss: 0.5439 - val_AUC: 0.6983 - val_Precision: 0.5122 - val_Recall: 0.8750 - val_accuracy: 0.5660 - val_loss: 0.6841 - learning_rate: 5.0000e-04\n",
      "Fold 14/15\n",
      "Training fold shape: (747, 224, 224, 3)\n",
      "Validation fold shape: (53, 224, 224, 3)\n",
      "Epoch 1/50\n",
      "\u001b[1m12/12\u001b[0m \u001b[32m━━━━━━━━━━━━━━━━━━━━\u001b[0m\u001b[37m\u001b[0m \u001b[1m106s\u001b[0m 8s/step - AUC: 0.6493 - Precision: 0.5821 - Recall: 0.6552 - accuracy: 0.6255 - loss: 0.7666 - val_AUC: 0.7028 - val_Precision: 0.7778 - val_Recall: 0.8235 - val_accuracy: 0.7358 - val_loss: 0.6887 - learning_rate: 0.0010\n",
      "Epoch 2/50\n",
      "\u001b[1m12/12\u001b[0m \u001b[32m━━━━━━━━━━━━━━━━━━━━\u001b[0m\u001b[37m\u001b[0m \u001b[1m96s\u001b[0m 8s/step - AUC: 0.7736 - Precision: 0.6955 - Recall: 0.7786 - accuracy: 0.7325 - loss: 0.5799 - val_AUC: 0.7276 - val_Precision: 0.7778 - val_Recall: 0.8235 - val_accuracy: 0.7358 - val_loss: 0.6211 - learning_rate: 0.0010\n",
      "Epoch 3/50\n",
      "\u001b[1m12/12\u001b[0m \u001b[32m━━━━━━━━━━━━━━━━━━━━\u001b[0m\u001b[37m\u001b[0m \u001b[1m93s\u001b[0m 8s/step - AUC: 0.7628 - Precision: 0.6870 - Recall: 0.7197 - accuracy: 0.7092 - loss: 0.5796 - val_AUC: 0.7020 - val_Precision: 0.7000 - val_Recall: 0.8235 - val_accuracy: 0.6604 - val_loss: 0.7263 - learning_rate: 0.0010\n",
      "Epoch 4/50\n",
      "\u001b[1m12/12\u001b[0m \u001b[32m━━━━━━━━━━━━━━━━━━━━\u001b[0m\u001b[37m\u001b[0m \u001b[1m94s\u001b[0m 8s/step - AUC: 0.7372 - Precision: 0.6631 - Recall: 0.7620 - accuracy: 0.7035 - loss: 0.6393 - val_AUC: 0.6772 - val_Precision: 0.7000 - val_Recall: 0.8235 - val_accuracy: 0.6604 - val_loss: 0.6810 - learning_rate: 0.0010\n",
      "Epoch 5/50\n",
      "\u001b[1m12/12\u001b[0m \u001b[32m━━━━━━━━━━━━━━━━━━━━\u001b[0m\u001b[37m\u001b[0m \u001b[1m94s\u001b[0m 8s/step - AUC: 0.7395 - Precision: 0.7221 - Recall: 0.7277 - accuracy: 0.7229 - loss: 0.6291 - val_AUC: 0.7036 - val_Precision: 0.7368 - val_Recall: 0.8235 - val_accuracy: 0.6981 - val_loss: 0.6354 - learning_rate: 0.0010\n",
      "Epoch 6/50\n",
      "\u001b[1m12/12\u001b[0m \u001b[32m━━━━━━━━━━━━━━━━━━━━\u001b[0m\u001b[37m\u001b[0m \u001b[1m93s\u001b[0m 8s/step - AUC: 0.7529 - Precision: 0.6905 - Recall: 0.8009 - accuracy: 0.7294 - loss: 0.5922 - val_AUC: 0.7067 - val_Precision: 0.7568 - val_Recall: 0.8235 - val_accuracy: 0.7170 - val_loss: 0.6108 - learning_rate: 5.0000e-04\n",
      "Epoch 7/50\n",
      "\u001b[1m12/12\u001b[0m \u001b[32m━━━━━━━━━━━━━━━━━━━━\u001b[0m\u001b[37m\u001b[0m \u001b[1m94s\u001b[0m 8s/step - AUC: 0.7864 - Precision: 0.7507 - Recall: 0.8086 - accuracy: 0.7635 - loss: 0.5432 - val_AUC: 0.7059 - val_Precision: 0.7368 - val_Recall: 0.8235 - val_accuracy: 0.6981 - val_loss: 0.6393 - learning_rate: 5.0000e-04\n",
      "Epoch 8/50\n",
      "\u001b[1m12/12\u001b[0m \u001b[32m━━━━━━━━━━━━━━━━━━━━\u001b[0m\u001b[37m\u001b[0m \u001b[1m94s\u001b[0m 8s/step - AUC: 0.7886 - Precision: 0.7182 - Recall: 0.8468 - accuracy: 0.7635 - loss: 0.5367 - val_AUC: 0.7051 - val_Precision: 0.7000 - val_Recall: 0.8235 - val_accuracy: 0.6604 - val_loss: 0.6159 - learning_rate: 5.0000e-04\n",
      "Epoch 9/50\n",
      "\u001b[1m12/12\u001b[0m \u001b[32m━━━━━━━━━━━━━━━━━━━━\u001b[0m\u001b[37m\u001b[0m \u001b[1m94s\u001b[0m 8s/step - AUC: 0.7680 - Precision: 0.7256 - Recall: 0.8214 - accuracy: 0.7606 - loss: 0.5528 - val_AUC: 0.7074 - val_Precision: 0.7000 - val_Recall: 0.8235 - val_accuracy: 0.6604 - val_loss: 0.6457 - learning_rate: 5.0000e-04\n",
      "Epoch 10/50\n",
      "\u001b[1m12/12\u001b[0m \u001b[32m━━━━━━━━━━━━━━━━━━━━\u001b[0m\u001b[37m\u001b[0m \u001b[1m94s\u001b[0m 8s/step - AUC: 0.7849 - Precision: 0.7167 - Recall: 0.8739 - accuracy: 0.7660 - loss: 0.5404 - val_AUC: 0.7051 - val_Precision: 0.7368 - val_Recall: 0.8235 - val_accuracy: 0.6981 - val_loss: 0.6398 - learning_rate: 2.5000e-04\n",
      "Epoch 11/50\n",
      "\u001b[1m12/12\u001b[0m \u001b[32m━━━━━━━━━━━━━━━━━━━━\u001b[0m\u001b[37m\u001b[0m \u001b[1m93s\u001b[0m 8s/step - AUC: 0.7723 - Precision: 0.7107 - Recall: 0.8515 - accuracy: 0.7600 - loss: 0.5434 - val_AUC: 0.7221 - val_Precision: 0.7368 - val_Recall: 0.8235 - val_accuracy: 0.6981 - val_loss: 0.6129 - learning_rate: 2.5000e-04\n",
      "Fold 15/15\n",
      "Training fold shape: (747, 224, 224, 3)\n",
      "Validation fold shape: (53, 224, 224, 3)\n",
      "Epoch 1/50\n",
      "\u001b[1m12/12\u001b[0m \u001b[32m━━━━━━━━━━━━━━━━━━━━\u001b[0m\u001b[37m\u001b[0m \u001b[1m102s\u001b[0m 8s/step - AUC: 0.6568 - Precision: 0.6511 - Recall: 0.5310 - accuracy: 0.6140 - loss: 0.7152 - val_AUC: 0.7629 - val_Precision: 0.0000e+00 - val_Recall: 0.0000e+00 - val_accuracy: 0.4717 - val_loss: 0.7740 - learning_rate: 0.0010\n",
      "Epoch 2/50\n",
      "\u001b[1m12/12\u001b[0m \u001b[32m━━━━━━━━━━━━━━━━━━━━\u001b[0m\u001b[37m\u001b[0m \u001b[1m94s\u001b[0m 8s/step - AUC: 0.7174 - Precision: 0.6802 - Recall: 0.6256 - accuracy: 0.6688 - loss: 0.6461 - val_AUC: 0.8057 - val_Precision: 0.7241 - val_Recall: 0.7500 - val_accuracy: 0.7170 - val_loss: 0.5950 - learning_rate: 0.0010\n",
      "Epoch 3/50\n",
      "\u001b[1m12/12\u001b[0m \u001b[32m━━━━━━━━━━━━━━━━━━━━\u001b[0m\u001b[37m\u001b[0m \u001b[1m93s\u001b[0m 8s/step - AUC: 0.7575 - Precision: 0.6891 - Recall: 0.7930 - accuracy: 0.7242 - loss: 0.5978 - val_AUC: 0.8064 - val_Precision: 0.5870 - val_Recall: 0.9643 - val_accuracy: 0.6226 - val_loss: 0.6495 - learning_rate: 0.0010\n",
      "Epoch 4/50\n",
      "\u001b[1m12/12\u001b[0m \u001b[32m━━━━━━━━━━━━━━━━━━━━\u001b[0m\u001b[37m\u001b[0m \u001b[1m93s\u001b[0m 8s/step - AUC: 0.7678 - Precision: 0.7164 - Recall: 0.7878 - accuracy: 0.7324 - loss: 0.5855 - val_AUC: 0.8336 - val_Precision: 0.0000e+00 - val_Recall: 0.0000e+00 - val_accuracy: 0.4717 - val_loss: 1.1003 - learning_rate: 0.0010\n",
      "Epoch 5/50\n",
      "\u001b[1m12/12\u001b[0m \u001b[32m━━━━━━━━━━━━━━━━━━━━\u001b[0m\u001b[37m\u001b[0m \u001b[1m95s\u001b[0m 8s/step - AUC: 0.7671 - Precision: 0.7303 - Recall: 0.6770 - accuracy: 0.7116 - loss: 0.5948 - val_AUC: 0.8200 - val_Precision: 0.7576 - val_Recall: 0.8929 - val_accuracy: 0.7925 - val_loss: 0.6240 - learning_rate: 0.0010\n",
      "Epoch 6/50\n",
      "\u001b[1m12/12\u001b[0m \u001b[32m━━━━━━━━━━━━━━━━━━━━\u001b[0m\u001b[37m\u001b[0m \u001b[1m94s\u001b[0m 8s/step - AUC: 0.7589 - Precision: 0.6890 - Recall: 0.7972 - accuracy: 0.7257 - loss: 0.5841 - val_AUC: 0.8107 - val_Precision: 0.7812 - val_Recall: 0.8929 - val_accuracy: 0.8113 - val_loss: 0.6128 - learning_rate: 5.0000e-04\n",
      "Epoch 7/50\n",
      "\u001b[1m12/12\u001b[0m \u001b[32m━━━━━━━━━━━━━━━━━━━━\u001b[0m\u001b[37m\u001b[0m \u001b[1m94s\u001b[0m 8s/step - AUC: 0.7942 - Precision: 0.7184 - Recall: 0.8263 - accuracy: 0.7579 - loss: 0.5330 - val_AUC: 0.8050 - val_Precision: 0.7429 - val_Recall: 0.9286 - val_accuracy: 0.7925 - val_loss: 0.5731 - learning_rate: 5.0000e-04\n",
      "Epoch 8/50\n",
      "\u001b[1m12/12\u001b[0m \u001b[32m━━━━━━━━━━━━━━━━━━━━\u001b[0m\u001b[37m\u001b[0m \u001b[1m93s\u001b[0m 8s/step - AUC: 0.7597 - Precision: 0.6943 - Recall: 0.8718 - accuracy: 0.7475 - loss: 0.5614 - val_AUC: 0.8200 - val_Precision: 0.6341 - val_Recall: 0.9286 - val_accuracy: 0.6792 - val_loss: 0.6170 - learning_rate: 5.0000e-04\n",
      "Epoch 9/50\n",
      "\u001b[1m12/12\u001b[0m \u001b[32m━━━━━━━━━━━━━━━━━━━━\u001b[0m\u001b[37m\u001b[0m \u001b[1m95s\u001b[0m 8s/step - AUC: 0.7584 - Precision: 0.6839 - Recall: 0.8603 - accuracy: 0.7381 - loss: 0.5613 - val_AUC: 0.7929 - val_Precision: 0.6842 - val_Recall: 0.9286 - val_accuracy: 0.7358 - val_loss: 0.5677 - learning_rate: 5.0000e-04\n",
      "Epoch 10/50\n",
      "\u001b[1m12/12\u001b[0m \u001b[32m━━━━━━━━━━━━━━━━━━━━\u001b[0m\u001b[37m\u001b[0m \u001b[1m93s\u001b[0m 8s/step - AUC: 0.7946 - Precision: 0.7309 - Recall: 0.8632 - accuracy: 0.7750 - loss: 0.5242 - val_AUC: 0.7879 - val_Precision: 0.6500 - val_Recall: 0.9286 - val_accuracy: 0.6981 - val_loss: 0.5936 - learning_rate: 5.0000e-04\n",
      "Epoch 11/50\n",
      "\u001b[1m12/12\u001b[0m \u001b[32m━━━━━━━━━━━━━━━━━━━━\u001b[0m\u001b[37m\u001b[0m \u001b[1m92s\u001b[0m 8s/step - AUC: 0.7747 - Precision: 0.6743 - Recall: 0.8634 - accuracy: 0.7445 - loss: 0.5534 - val_AUC: 0.8064 - val_Precision: 0.7429 - val_Recall: 0.9286 - val_accuracy: 0.7925 - val_loss: 0.5578 - learning_rate: 5.0000e-04\n",
      "Epoch 12/50\n",
      "\u001b[1m12/12\u001b[0m \u001b[32m━━━━━━━━━━━━━━━━━━━━\u001b[0m\u001b[37m\u001b[0m \u001b[1m94s\u001b[0m 8s/step - AUC: 0.7847 - Precision: 0.7141 - Recall: 0.8415 - accuracy: 0.7536 - loss: 0.5403 - val_AUC: 0.8379 - val_Precision: 0.7027 - val_Recall: 0.9286 - val_accuracy: 0.7547 - val_loss: 0.5556 - learning_rate: 5.0000e-04\n",
      "Epoch 13/50\n",
      "\u001b[1m12/12\u001b[0m \u001b[32m━━━━━━━━━━━━━━━━━━━━\u001b[0m\u001b[37m\u001b[0m \u001b[1m93s\u001b[0m 8s/step - AUC: 0.8234 - Precision: 0.7117 - Recall: 0.8247 - accuracy: 0.7573 - loss: 0.5101 - val_AUC: 0.7800 - val_Precision: 0.6842 - val_Recall: 0.9286 - val_accuracy: 0.7358 - val_loss: 0.5793 - learning_rate: 5.0000e-04\n",
      "Epoch 14/50\n",
      "\u001b[1m12/12\u001b[0m \u001b[32m━━━━━━━━━━━━━━━━━━━━\u001b[0m\u001b[37m\u001b[0m \u001b[1m93s\u001b[0m 8s/step - AUC: 0.8067 - Precision: 0.7229 - Recall: 0.8308 - accuracy: 0.7646 - loss: 0.5139 - val_AUC: 0.7929 - val_Precision: 0.6585 - val_Recall: 0.9643 - val_accuracy: 0.7170 - val_loss: 0.5998 - learning_rate: 5.0000e-04\n",
      "Epoch 15/50\n",
      "\u001b[1m12/12\u001b[0m \u001b[32m━━━━━━━━━━━━━━━━━━━━\u001b[0m\u001b[37m\u001b[0m \u001b[1m93s\u001b[0m 8s/step - AUC: 0.7801 - Precision: 0.7040 - Recall: 0.8690 - accuracy: 0.7528 - loss: 0.5261 - val_AUC: 0.8257 - val_Precision: 0.6429 - val_Recall: 0.9643 - val_accuracy: 0.6981 - val_loss: 0.6035 - learning_rate: 5.0000e-04\n",
      "Epoch 16/50\n",
      "\u001b[1m12/12\u001b[0m \u001b[32m━━━━━━━━━━━━━━━━━━━━\u001b[0m\u001b[37m\u001b[0m \u001b[1m92s\u001b[0m 8s/step - AUC: 0.7994 - Precision: 0.7030 - Recall: 0.8614 - accuracy: 0.7561 - loss: 0.5128 - val_AUC: 0.8264 - val_Precision: 0.7429 - val_Recall: 0.9286 - val_accuracy: 0.7925 - val_loss: 0.5612 - learning_rate: 2.5000e-04\n",
      "Epoch 17/50\n",
      "\u001b[1m12/12\u001b[0m \u001b[32m━━━━━━━━━━━━━━━━━━━━\u001b[0m\u001b[37m\u001b[0m \u001b[1m94s\u001b[0m 8s/step - AUC: 0.7968 - Precision: 0.6985 - Recall: 0.8675 - accuracy: 0.7620 - loss: 0.5080 - val_AUC: 0.8286 - val_Precision: 0.6222 - val_Recall: 1.0000 - val_accuracy: 0.6792 - val_loss: 0.6127 - learning_rate: 2.5000e-04\n",
      "\n",
      "=== Starting 20-fold cross-validation ===\n",
      "Fold 1/20\n",
      "Training fold shape: (760, 224, 224, 3)\n",
      "Validation fold shape: (40, 224, 224, 3)\n",
      "Epoch 1/50\n",
      "\u001b[1m12/12\u001b[0m \u001b[32m━━━━━━━━━━━━━━━━━━━━\u001b[0m\u001b[37m\u001b[0m \u001b[1m106s\u001b[0m 8s/step - AUC: 0.6300 - Precision: 0.5959 - Recall: 0.7080 - accuracy: 0.6102 - loss: 0.8303 - val_AUC: 0.8188 - val_Precision: 0.6250 - val_Recall: 1.0000 - val_accuracy: 0.7000 - val_loss: 0.6104 - learning_rate: 0.0010\n",
      "Epoch 2/50\n",
      "\u001b[1m12/12\u001b[0m \u001b[32m━━━━━━━━━━━━━━━━━━━━\u001b[0m\u001b[37m\u001b[0m \u001b[1m94s\u001b[0m 8s/step - AUC: 0.7626 - Precision: 0.7093 - Recall: 0.7105 - accuracy: 0.7108 - loss: 0.5947 - val_AUC: 0.7950 - val_Precision: 0.6452 - val_Recall: 1.0000 - val_accuracy: 0.7250 - val_loss: 0.6322 - learning_rate: 0.0010\n",
      "Epoch 3/50\n",
      "\u001b[1m12/12\u001b[0m \u001b[32m━━━━━━━━━━━━━━━━━━━━\u001b[0m\u001b[37m\u001b[0m \u001b[1m93s\u001b[0m 8s/step - AUC: 0.7629 - Precision: 0.7235 - Recall: 0.7468 - accuracy: 0.7428 - loss: 0.5882 - val_AUC: 0.7950 - val_Precision: 0.5556 - val_Recall: 1.0000 - val_accuracy: 0.6000 - val_loss: 0.6629 - learning_rate: 0.0010\n",
      "Epoch 4/50\n",
      "\u001b[1m12/12\u001b[0m \u001b[32m━━━━━━━━━━━━━━━━━━━━\u001b[0m\u001b[37m\u001b[0m \u001b[1m98s\u001b[0m 8s/step - AUC: 0.7787 - Precision: 0.7152 - Recall: 0.8004 - accuracy: 0.7374 - loss: 0.5639 - val_AUC: 0.7875 - val_Precision: 0.5263 - val_Recall: 1.0000 - val_accuracy: 0.5500 - val_loss: 0.7339 - learning_rate: 0.0010\n",
      "Epoch 5/50\n",
      "\u001b[1m12/12\u001b[0m \u001b[32m━━━━━━━━━━━━━━━━━━━━\u001b[0m\u001b[37m\u001b[0m \u001b[1m94s\u001b[0m 8s/step - AUC: 0.7315 - Precision: 0.7209 - Recall: 0.8105 - accuracy: 0.7386 - loss: 0.6003 - val_AUC: 0.7688 - val_Precision: 0.5000 - val_Recall: 1.0000 - val_accuracy: 0.5000 - val_loss: 0.8193 - learning_rate: 5.0000e-04\n",
      "Epoch 6/50\n",
      "\u001b[1m12/12\u001b[0m \u001b[32m━━━━━━━━━━━━━━━━━━━━\u001b[0m\u001b[37m\u001b[0m \u001b[1m95s\u001b[0m 8s/step - AUC: 0.7872 - Precision: 0.7174 - Recall: 0.8381 - accuracy: 0.7607 - loss: 0.5378 - val_AUC: 0.7212 - val_Precision: 0.5000 - val_Recall: 1.0000 - val_accuracy: 0.5000 - val_loss: 0.9367 - learning_rate: 5.0000e-04\n",
      "Fold 2/20\n",
      "Training fold shape: (760, 224, 224, 3)\n",
      "Validation fold shape: (40, 224, 224, 3)\n",
      "Epoch 1/50\n",
      "\u001b[1m12/12\u001b[0m \u001b[32m━━━━━━━━━━━━━━━━━━━━\u001b[0m\u001b[37m\u001b[0m \u001b[1m107s\u001b[0m 8s/step - AUC: 0.6705 - Precision: 0.6172 - Recall: 0.6437 - accuracy: 0.6323 - loss: 0.7763 - val_AUC: 0.7694 - val_Precision: 0.0000e+00 - val_Recall: 0.0000e+00 - val_accuracy: 0.5250 - val_loss: 0.6747 - learning_rate: 0.0010\n",
      "Epoch 2/50\n",
      "\u001b[1m12/12\u001b[0m \u001b[32m━━━━━━━━━━━━━━━━━━━━\u001b[0m\u001b[37m\u001b[0m \u001b[1m95s\u001b[0m 8s/step - AUC: 0.7300 - Precision: 0.6678 - Recall: 0.6466 - accuracy: 0.6799 - loss: 0.6513 - val_AUC: 0.7406 - val_Precision: 0.6957 - val_Recall: 0.8421 - val_accuracy: 0.7500 - val_loss: 0.5999 - learning_rate: 0.0010\n",
      "Epoch 3/50\n",
      "\u001b[1m12/12\u001b[0m \u001b[32m━━━━━━━━━━━━━━━━━━━━\u001b[0m\u001b[37m\u001b[0m \u001b[1m94s\u001b[0m 8s/step - AUC: 0.7194 - Precision: 0.6585 - Recall: 0.6479 - accuracy: 0.6692 - loss: 0.6413 - val_AUC: 0.8195 - val_Precision: 0.7143 - val_Recall: 0.7895 - val_accuracy: 0.7500 - val_loss: 0.5980 - learning_rate: 0.0010\n",
      "Epoch 4/50\n",
      "\u001b[1m12/12\u001b[0m \u001b[32m━━━━━━━━━━━━━━━━━━━━\u001b[0m\u001b[37m\u001b[0m \u001b[1m94s\u001b[0m 8s/step - AUC: 0.7459 - Precision: 0.7194 - Recall: 0.8551 - accuracy: 0.7577 - loss: 0.5789 - val_AUC: 0.6842 - val_Precision: 0.5714 - val_Recall: 0.8421 - val_accuracy: 0.6250 - val_loss: 0.6196 - learning_rate: 0.0010\n",
      "Epoch 5/50\n",
      "\u001b[1m12/12\u001b[0m \u001b[32m━━━━━━━━━━━━━━━━━━━━\u001b[0m\u001b[37m\u001b[0m \u001b[1m94s\u001b[0m 8s/step - AUC: 0.7263 - Precision: 0.6933 - Recall: 0.8254 - accuracy: 0.7276 - loss: 0.5991 - val_AUC: 0.4937 - val_Precision: 0.5862 - val_Recall: 0.8947 - val_accuracy: 0.6500 - val_loss: 0.6852 - learning_rate: 0.0010\n",
      "Epoch 6/50\n",
      "\u001b[1m12/12\u001b[0m \u001b[32m━━━━━━━━━━━━━━━━━━━━\u001b[0m\u001b[37m\u001b[0m \u001b[1m94s\u001b[0m 8s/step - AUC: 0.7513 - Precision: 0.6964 - Recall: 0.8255 - accuracy: 0.7348 - loss: 0.5796 - val_AUC: 0.4612 - val_Precision: 0.5152 - val_Recall: 0.8947 - val_accuracy: 0.5500 - val_loss: 0.7348 - learning_rate: 0.0010\n",
      "Epoch 7/50\n",
      "\u001b[1m12/12\u001b[0m \u001b[32m━━━━━━━━━━━━━━━━━━━━\u001b[0m\u001b[37m\u001b[0m \u001b[1m93s\u001b[0m 8s/step - AUC: 0.7756 - Precision: 0.7183 - Recall: 0.8401 - accuracy: 0.7549 - loss: 0.5521 - val_AUC: 0.4035 - val_Precision: 0.5484 - val_Recall: 0.8947 - val_accuracy: 0.6000 - val_loss: 0.7364 - learning_rate: 5.0000e-04\n",
      "Epoch 8/50\n",
      "\u001b[1m12/12\u001b[0m \u001b[32m━━━━━━━━━━━━━━━━━━━━\u001b[0m\u001b[37m\u001b[0m \u001b[1m95s\u001b[0m 8s/step - AUC: 0.8066 - Precision: 0.7152 - Recall: 0.8745 - accuracy: 0.7647 - loss: 0.5261 - val_AUC: 0.4311 - val_Precision: 0.5152 - val_Recall: 0.8947 - val_accuracy: 0.5500 - val_loss: 0.7444 - learning_rate: 5.0000e-04\n",
      "Fold 3/20\n",
      "Training fold shape: (760, 224, 224, 3)\n",
      "Validation fold shape: (40, 224, 224, 3)\n",
      "Epoch 1/50\n",
      "\u001b[1m12/12\u001b[0m \u001b[32m━━━━━━━━━━━━━━━━━━━━\u001b[0m\u001b[37m\u001b[0m \u001b[1m104s\u001b[0m 8s/step - AUC: 0.6624 - Precision: 0.6679 - Recall: 0.6512 - accuracy: 0.6420 - loss: 0.7662 - val_AUC: 0.6892 - val_Precision: 0.0000e+00 - val_Recall: 0.0000e+00 - val_accuracy: 0.5000 - val_loss: 0.6565 - learning_rate: 0.0010\n",
      "Epoch 2/50\n",
      "\u001b[1m12/12\u001b[0m \u001b[32m━━━━━━━━━━━━━━━━━━━━\u001b[0m\u001b[37m\u001b[0m \u001b[1m95s\u001b[0m 8s/step - AUC: 0.7442 - Precision: 0.6791 - Recall: 0.7265 - accuracy: 0.7067 - loss: 0.6067 - val_AUC: 0.6441 - val_Precision: 0.5312 - val_Recall: 0.8947 - val_accuracy: 0.5750 - val_loss: 0.6915 - learning_rate: 0.0010\n",
      "Epoch 3/50\n",
      "\u001b[1m12/12\u001b[0m \u001b[32m━━━━━━━━━━━━━━━━━━━━\u001b[0m\u001b[37m\u001b[0m \u001b[1m95s\u001b[0m 8s/step - AUC: 0.7378 - Precision: 0.7144 - Recall: 0.7273 - accuracy: 0.7089 - loss: 0.6712 - val_AUC: 0.7043 - val_Precision: 0.4737 - val_Recall: 0.9474 - val_accuracy: 0.4750 - val_loss: 0.7534 - learning_rate: 0.0010\n",
      "Epoch 4/50\n",
      "\u001b[1m12/12\u001b[0m \u001b[32m━━━━━━━━━━━━━━━━━━━━\u001b[0m\u001b[37m\u001b[0m \u001b[1m95s\u001b[0m 8s/step - AUC: 0.7739 - Precision: 0.7125 - Recall: 0.7933 - accuracy: 0.7487 - loss: 0.5677 - val_AUC: 0.7469 - val_Precision: 0.4750 - val_Recall: 1.0000 - val_accuracy: 0.4750 - val_loss: 0.8182 - learning_rate: 0.0010\n",
      "Epoch 5/50\n",
      "\u001b[1m12/12\u001b[0m \u001b[32m━━━━━━━━━━━━━━━━━━━━\u001b[0m\u001b[37m\u001b[0m \u001b[1m94s\u001b[0m 8s/step - AUC: 0.7848 - Precision: 0.7289 - Recall: 0.8336 - accuracy: 0.7639 - loss: 0.5485 - val_AUC: 0.7143 - val_Precision: 0.4750 - val_Recall: 1.0000 - val_accuracy: 0.4750 - val_loss: 0.8978 - learning_rate: 5.0000e-04\n",
      "Epoch 6/50\n",
      "\u001b[1m12/12\u001b[0m \u001b[32m━━━━━━━━━━━━━━━━━━━━\u001b[0m\u001b[37m\u001b[0m \u001b[1m95s\u001b[0m 8s/step - AUC: 0.7635 - Precision: 0.7011 - Recall: 0.8308 - accuracy: 0.7482 - loss: 0.5739 - val_AUC: 0.6880 - val_Precision: 0.4750 - val_Recall: 1.0000 - val_accuracy: 0.4750 - val_loss: 0.7563 - learning_rate: 5.0000e-04\n",
      "Fold 4/20\n",
      "Training fold shape: (760, 224, 224, 3)\n",
      "Validation fold shape: (40, 224, 224, 3)\n",
      "Epoch 1/50\n",
      "\u001b[1m12/12\u001b[0m \u001b[32m━━━━━━━━━━━━━━━━━━━━\u001b[0m\u001b[37m\u001b[0m \u001b[1m107s\u001b[0m 8s/step - AUC: 0.6371 - Precision: 0.5687 - Recall: 0.6310 - accuracy: 0.5862 - loss: 0.7428 - val_AUC: 0.8471 - val_Precision: 0.0000e+00 - val_Recall: 0.0000e+00 - val_accuracy: 0.5250 - val_loss: 0.5894 - learning_rate: 0.0010\n",
      "Epoch 2/50\n",
      "\u001b[1m12/12\u001b[0m \u001b[32m━━━━━━━━━━━━━━━━━━━━\u001b[0m\u001b[37m\u001b[0m \u001b[1m92s\u001b[0m 8s/step - AUC: 0.7176 - Precision: 0.6630 - Recall: 0.6359 - accuracy: 0.6791 - loss: 0.6820 - val_AUC: 0.8183 - val_Precision: 0.6000 - val_Recall: 0.9474 - val_accuracy: 0.6750 - val_loss: 0.5671 - learning_rate: 0.0010\n",
      "Epoch 3/50\n",
      "\u001b[1m12/12\u001b[0m \u001b[32m━━━━━━━━━━━━━━━━━━━━\u001b[0m\u001b[37m\u001b[0m \u001b[1m92s\u001b[0m 8s/step - AUC: 0.7603 - Precision: 0.7364 - Recall: 0.7667 - accuracy: 0.7394 - loss: 0.5911 - val_AUC: 0.8070 - val_Precision: 0.6000 - val_Recall: 0.9474 - val_accuracy: 0.6750 - val_loss: 0.5755 - learning_rate: 0.0010\n",
      "Epoch 4/50\n",
      "\u001b[1m12/12\u001b[0m \u001b[32m━━━━━━━━━━━━━━━━━━━━\u001b[0m\u001b[37m\u001b[0m \u001b[1m98s\u001b[0m 8s/step - AUC: 0.7668 - Precision: 0.7085 - Recall: 0.6703 - accuracy: 0.7158 - loss: 0.5879 - val_AUC: 0.7757 - val_Precision: 0.5429 - val_Recall: 1.0000 - val_accuracy: 0.6000 - val_loss: 0.7199 - learning_rate: 0.0010\n",
      "Epoch 5/50\n",
      "\u001b[1m12/12\u001b[0m \u001b[32m━━━━━━━━━━━━━━━━━━━━\u001b[0m\u001b[37m\u001b[0m \u001b[1m94s\u001b[0m 8s/step - AUC: 0.7785 - Precision: 0.7429 - Recall: 0.8500 - accuracy: 0.7693 - loss: 0.5658 - val_AUC: 0.8095 - val_Precision: 0.5806 - val_Recall: 0.9474 - val_accuracy: 0.6500 - val_loss: 0.5953 - learning_rate: 0.0010\n",
      "Epoch 6/50\n",
      "\u001b[1m12/12\u001b[0m \u001b[32m━━━━━━━━━━━━━━━━━━━━\u001b[0m\u001b[37m\u001b[0m \u001b[1m95s\u001b[0m 8s/step - AUC: 0.7755 - Precision: 0.7167 - Recall: 0.8357 - accuracy: 0.7564 - loss: 0.5505 - val_AUC: 0.7644 - val_Precision: 0.5429 - val_Recall: 1.0000 - val_accuracy: 0.6000 - val_loss: 0.8136 - learning_rate: 5.0000e-04\n",
      "Epoch 7/50\n",
      "\u001b[1m12/12\u001b[0m \u001b[32m━━━━━━━━━━━━━━━━━━━━\u001b[0m\u001b[37m\u001b[0m \u001b[1m93s\u001b[0m 8s/step - AUC: 0.7777 - Precision: 0.7139 - Recall: 0.8435 - accuracy: 0.7541 - loss: 0.5588 - val_AUC: 0.7644 - val_Precision: 0.5429 - val_Recall: 1.0000 - val_accuracy: 0.6000 - val_loss: 0.7175 - learning_rate: 5.0000e-04\n",
      "Fold 5/20\n",
      "Training fold shape: (760, 224, 224, 3)\n",
      "Validation fold shape: (40, 224, 224, 3)\n",
      "Epoch 1/50\n",
      "\u001b[1m12/12\u001b[0m \u001b[32m━━━━━━━━━━━━━━━━━━━━\u001b[0m\u001b[37m\u001b[0m \u001b[1m106s\u001b[0m 8s/step - AUC: 0.7061 - Precision: 0.6505 - Recall: 0.6017 - accuracy: 0.6520 - loss: 0.7000 - val_AUC: 0.7033 - val_Precision: 0.0000e+00 - val_Recall: 0.0000e+00 - val_accuracy: 0.5750 - val_loss: 0.6495 - learning_rate: 0.0010\n",
      "Epoch 2/50\n",
      "\u001b[1m12/12\u001b[0m \u001b[32m━━━━━━━━━━━━━━━━━━━━\u001b[0m\u001b[37m\u001b[0m \u001b[1m97s\u001b[0m 8s/step - AUC: 0.7558 - Precision: 0.6994 - Recall: 0.7162 - accuracy: 0.7083 - loss: 0.6424 - val_AUC: 0.4706 - val_Precision: 0.0000e+00 - val_Recall: 0.0000e+00 - val_accuracy: 0.5750 - val_loss: 0.9346 - learning_rate: 0.0010\n",
      "Epoch 3/50\n",
      "\u001b[1m12/12\u001b[0m \u001b[32m━━━━━━━━━━━━━━━━━━━━\u001b[0m\u001b[37m\u001b[0m \u001b[1m95s\u001b[0m 8s/step - AUC: 0.7367 - Precision: 0.6737 - Recall: 0.7035 - accuracy: 0.7089 - loss: 0.6070 - val_AUC: 0.7379 - val_Precision: 0.0000e+00 - val_Recall: 0.0000e+00 - val_accuracy: 0.5750 - val_loss: 0.6573 - learning_rate: 0.0010\n",
      "Epoch 4/50\n",
      "\u001b[1m12/12\u001b[0m \u001b[32m━━━━━━━━━━━━━━━━━━━━\u001b[0m\u001b[37m\u001b[0m \u001b[1m94s\u001b[0m 8s/step - AUC: 0.7458 - Precision: 0.6883 - Recall: 0.7245 - accuracy: 0.7074 - loss: 0.6082 - val_AUC: 0.6995 - val_Precision: 0.0000e+00 - val_Recall: 0.0000e+00 - val_accuracy: 0.5750 - val_loss: 0.6335 - learning_rate: 0.0010\n",
      "Epoch 5/50\n",
      "\u001b[1m12/12\u001b[0m \u001b[32m━━━━━━━━━━━━━━━━━━━━\u001b[0m\u001b[37m\u001b[0m \u001b[1m94s\u001b[0m 8s/step - AUC: 0.7844 - Precision: 0.7176 - Recall: 0.8300 - accuracy: 0.7668 - loss: 0.5557 - val_AUC: 0.7110 - val_Precision: 0.4359 - val_Recall: 1.0000 - val_accuracy: 0.4500 - val_loss: 0.7757 - learning_rate: 0.0010\n",
      "Epoch 6/50\n",
      "\u001b[1m12/12\u001b[0m \u001b[32m━━━━━━━━━━━━━━━━━━━━\u001b[0m\u001b[37m\u001b[0m \u001b[1m95s\u001b[0m 8s/step - AUC: 0.7933 - Precision: 0.7456 - Recall: 0.7938 - accuracy: 0.7498 - loss: 0.5477 - val_AUC: 0.5486 - val_Precision: 0.5000 - val_Recall: 0.9412 - val_accuracy: 0.5750 - val_loss: 0.6513 - learning_rate: 0.0010\n",
      "Epoch 7/50\n",
      "\u001b[1m12/12\u001b[0m \u001b[32m━━━━━━━━━━━━━━━━━━━━\u001b[0m\u001b[37m\u001b[0m \u001b[1m95s\u001b[0m 8s/step - AUC: 0.7846 - Precision: 0.7185 - Recall: 0.8117 - accuracy: 0.7479 - loss: 0.5447 - val_AUC: 0.6803 - val_Precision: 0.5172 - val_Recall: 0.8824 - val_accuracy: 0.6000 - val_loss: 0.6438 - learning_rate: 0.0010\n",
      "Epoch 8/50\n",
      "\u001b[1m12/12\u001b[0m \u001b[32m━━━━━━━━━━━━━━━━━━━━\u001b[0m\u001b[37m\u001b[0m \u001b[1m93s\u001b[0m 8s/step - AUC: 0.7871 - Precision: 0.7110 - Recall: 0.7852 - accuracy: 0.7300 - loss: 0.5496 - val_AUC: 0.6816 - val_Precision: 0.5185 - val_Recall: 0.8235 - val_accuracy: 0.6000 - val_loss: 0.6458 - learning_rate: 5.0000e-04\n",
      "Epoch 9/50\n",
      "\u001b[1m12/12\u001b[0m \u001b[32m━━━━━━━━━━━━━━━━━━━━\u001b[0m\u001b[37m\u001b[0m \u001b[1m96s\u001b[0m 8s/step - AUC: 0.8105 - Precision: 0.7517 - Recall: 0.8366 - accuracy: 0.7727 - loss: 0.5254 - val_AUC: 0.6829 - val_Precision: 0.5161 - val_Recall: 0.9412 - val_accuracy: 0.6000 - val_loss: 0.6749 - learning_rate: 5.0000e-04\n",
      "Fold 6/20\n",
      "Training fold shape: (760, 224, 224, 3)\n",
      "Validation fold shape: (40, 224, 224, 3)\n",
      "Epoch 1/50\n",
      "\u001b[1m12/12\u001b[0m \u001b[32m━━━━━━━━━━━━━━━━━━━━\u001b[0m\u001b[37m\u001b[0m \u001b[1m110s\u001b[0m 8s/step - AUC: 0.6045 - Precision: 0.6043 - Recall: 0.6270 - accuracy: 0.5997 - loss: 0.7832 - val_AUC: 0.9348 - val_Precision: 0.0000e+00 - val_Recall: 0.0000e+00 - val_accuracy: 0.5750 - val_loss: 0.7998 - learning_rate: 0.0010\n",
      "Epoch 2/50\n",
      "\u001b[1m12/12\u001b[0m \u001b[32m━━━━━━━━━━━━━━━━━━━━\u001b[0m\u001b[37m\u001b[0m \u001b[1m95s\u001b[0m 8s/step - AUC: 0.6972 - Precision: 0.6482 - Recall: 0.6829 - accuracy: 0.6715 - loss: 0.6517 - val_AUC: 0.8990 - val_Precision: 0.0000e+00 - val_Recall: 0.0000e+00 - val_accuracy: 0.5750 - val_loss: 0.5456 - learning_rate: 0.0010\n",
      "Epoch 3/50\n",
      "\u001b[1m12/12\u001b[0m \u001b[32m━━━━━━━━━━━━━━━━━━━━\u001b[0m\u001b[37m\u001b[0m \u001b[1m95s\u001b[0m 8s/step - AUC: 0.7588 - Precision: 0.7395 - Recall: 0.7253 - accuracy: 0.7420 - loss: 0.6051 - val_AUC: 0.9284 - val_Precision: 0.0000e+00 - val_Recall: 0.0000e+00 - val_accuracy: 0.5750 - val_loss: 0.6052 - learning_rate: 0.0010\n",
      "Epoch 4/50\n",
      "\u001b[1m12/12\u001b[0m \u001b[32m━━━━━━━━━━━━━━━━━━━━\u001b[0m\u001b[37m\u001b[0m \u001b[1m97s\u001b[0m 8s/step - AUC: 0.7609 - Precision: 0.7388 - Recall: 0.6983 - accuracy: 0.7310 - loss: 0.5937 - val_AUC: 0.9105 - val_Precision: 0.6667 - val_Recall: 0.9412 - val_accuracy: 0.7750 - val_loss: 0.5486 - learning_rate: 0.0010\n",
      "Epoch 5/50\n",
      "\u001b[1m12/12\u001b[0m \u001b[32m━━━━━━━━━━━━━━━━━━━━\u001b[0m\u001b[37m\u001b[0m \u001b[1m95s\u001b[0m 8s/step - AUC: 0.7545 - Precision: 0.7025 - Recall: 0.7578 - accuracy: 0.7205 - loss: 0.5929 - val_AUC: 0.9054 - val_Precision: 0.5926 - val_Recall: 0.9412 - val_accuracy: 0.7000 - val_loss: 0.6304 - learning_rate: 0.0010\n",
      "Epoch 6/50\n",
      "\u001b[1m12/12\u001b[0m \u001b[32m━━━━━━━━━━━━━━━━━━━━\u001b[0m\u001b[37m\u001b[0m \u001b[1m97s\u001b[0m 8s/step - AUC: 0.7672 - Precision: 0.7273 - Recall: 0.8198 - accuracy: 0.7557 - loss: 0.5813 - val_AUC: 0.8849 - val_Precision: 0.5161 - val_Recall: 0.9412 - val_accuracy: 0.6000 - val_loss: 0.6514 - learning_rate: 5.0000e-04\n",
      "Epoch 7/50\n",
      "\u001b[1m12/12\u001b[0m \u001b[32m━━━━━━━━━━━━━━━━━━━━\u001b[0m\u001b[37m\u001b[0m \u001b[1m96s\u001b[0m 8s/step - AUC: 0.7703 - Precision: 0.7134 - Recall: 0.8183 - accuracy: 0.7396 - loss: 0.5661 - val_AUC: 0.8887 - val_Precision: 0.5000 - val_Recall: 0.9412 - val_accuracy: 0.5750 - val_loss: 0.6731 - learning_rate: 5.0000e-04\n",
      "Fold 7/20\n",
      "Training fold shape: (760, 224, 224, 3)\n",
      "Validation fold shape: (40, 224, 224, 3)\n",
      "Epoch 1/50\n",
      "\u001b[1m12/12\u001b[0m \u001b[32m━━━━━━━━━━━━━━━━━━━━\u001b[0m\u001b[37m\u001b[0m \u001b[1m105s\u001b[0m 8s/step - AUC: 0.6811 - Precision: 0.6503 - Recall: 0.6331 - accuracy: 0.6354 - loss: 0.7620 - val_AUC: 0.6780 - val_Precision: 0.6667 - val_Recall: 0.8182 - val_accuracy: 0.6750 - val_loss: 0.6630 - learning_rate: 0.0010\n",
      "Epoch 2/50\n",
      "\u001b[1m12/12\u001b[0m \u001b[32m━━━━━━━━━━━━━━━━━━━━\u001b[0m\u001b[37m\u001b[0m \u001b[1m93s\u001b[0m 8s/step - AUC: 0.7408 - Precision: 0.6765 - Recall: 0.6508 - accuracy: 0.6760 - loss: 0.6522 - val_AUC: 0.6843 - val_Precision: 0.6429 - val_Recall: 0.8182 - val_accuracy: 0.6500 - val_loss: 0.7591 - learning_rate: 0.0010\n",
      "Epoch 3/50\n",
      "\u001b[1m12/12\u001b[0m \u001b[32m━━━━━━━━━━━━━━━━━━━━\u001b[0m\u001b[37m\u001b[0m \u001b[1m97s\u001b[0m 8s/step - AUC: 0.7520 - Precision: 0.7070 - Recall: 0.8037 - accuracy: 0.7378 - loss: 0.5942 - val_AUC: 0.7096 - val_Precision: 0.6429 - val_Recall: 0.8182 - val_accuracy: 0.6500 - val_loss: 0.7529 - learning_rate: 0.0010\n",
      "Epoch 4/50\n",
      "\u001b[1m12/12\u001b[0m \u001b[32m━━━━━━━━━━━━━━━━━━━━\u001b[0m\u001b[37m\u001b[0m \u001b[1m95s\u001b[0m 8s/step - AUC: 0.7759 - Precision: 0.7046 - Recall: 0.8107 - accuracy: 0.7478 - loss: 0.5698 - val_AUC: 0.7109 - val_Precision: 0.6429 - val_Recall: 0.8182 - val_accuracy: 0.6500 - val_loss: 0.7317 - learning_rate: 0.0010\n",
      "Epoch 5/50\n",
      "\u001b[1m12/12\u001b[0m \u001b[32m━━━━━━━━━━━━━━━━━━━━\u001b[0m\u001b[37m\u001b[0m \u001b[1m98s\u001b[0m 8s/step - AUC: 0.7699 - Precision: 0.7439 - Recall: 0.8324 - accuracy: 0.7687 - loss: 0.5763 - val_AUC: 0.7109 - val_Precision: 0.6552 - val_Recall: 0.8636 - val_accuracy: 0.6750 - val_loss: 0.6432 - learning_rate: 5.0000e-04\n",
      "Epoch 6/50\n",
      "\u001b[1m12/12\u001b[0m \u001b[32m━━━━━━━━━━━━━━━━━━━━\u001b[0m\u001b[37m\u001b[0m \u001b[1m94s\u001b[0m 8s/step - AUC: 0.7602 - Precision: 0.7443 - Recall: 0.7757 - accuracy: 0.7464 - loss: 0.5781 - val_AUC: 0.6919 - val_Precision: 0.6250 - val_Recall: 0.9091 - val_accuracy: 0.6500 - val_loss: 0.6403 - learning_rate: 5.0000e-04\n",
      "Epoch 7/50\n",
      "\u001b[1m12/12\u001b[0m \u001b[32m━━━━━━━━━━━━━━━━━━━━\u001b[0m\u001b[37m\u001b[0m \u001b[1m95s\u001b[0m 8s/step - AUC: 0.7575 - Precision: 0.6960 - Recall: 0.8168 - accuracy: 0.7492 - loss: 0.5714 - val_AUC: 0.7184 - val_Precision: 0.6452 - val_Recall: 0.9091 - val_accuracy: 0.6750 - val_loss: 0.6489 - learning_rate: 5.0000e-04\n",
      "Epoch 8/50\n",
      "\u001b[1m12/12\u001b[0m \u001b[32m━━━━━━━━━━━━━━━━━━━━\u001b[0m\u001b[37m\u001b[0m \u001b[1m94s\u001b[0m 8s/step - AUC: 0.7927 - Precision: 0.7253 - Recall: 0.7066 - accuracy: 0.7227 - loss: 0.5515 - val_AUC: 0.6894 - val_Precision: 0.6061 - val_Recall: 0.9091 - val_accuracy: 0.6250 - val_loss: 0.6495 - learning_rate: 5.0000e-04\n",
      "Epoch 9/50\n",
      "\u001b[1m12/12\u001b[0m \u001b[32m━━━━━━━━━━━━━━━━━━━━\u001b[0m\u001b[37m\u001b[0m \u001b[1m96s\u001b[0m 8s/step - AUC: 0.8160 - Precision: 0.7356 - Recall: 0.8338 - accuracy: 0.7692 - loss: 0.5150 - val_AUC: 0.7096 - val_Precision: 0.6452 - val_Recall: 0.9091 - val_accuracy: 0.6750 - val_loss: 0.6373 - learning_rate: 5.0000e-04\n",
      "Epoch 10/50\n",
      "\u001b[1m12/12\u001b[0m \u001b[32m━━━━━━━━━━━━━━━━━━━━\u001b[0m\u001b[37m\u001b[0m \u001b[1m96s\u001b[0m 8s/step - AUC: 0.8017 - Precision: 0.7162 - Recall: 0.8654 - accuracy: 0.7762 - loss: 0.5173 - val_AUC: 0.6641 - val_Precision: 0.6061 - val_Recall: 0.9091 - val_accuracy: 0.6250 - val_loss: 0.7218 - learning_rate: 5.0000e-04\n",
      "Epoch 11/50\n",
      "\u001b[1m12/12\u001b[0m \u001b[32m━━━━━━━━━━━━━━━━━━━━\u001b[0m\u001b[37m\u001b[0m \u001b[1m95s\u001b[0m 8s/step - AUC: 0.8085 - Precision: 0.7283 - Recall: 0.8386 - accuracy: 0.7699 - loss: 0.5250 - val_AUC: 0.7071 - val_Precision: 0.6061 - val_Recall: 0.9091 - val_accuracy: 0.6250 - val_loss: 0.7284 - learning_rate: 5.0000e-04\n",
      "Epoch 12/50\n",
      "\u001b[1m12/12\u001b[0m \u001b[32m━━━━━━━━━━━━━━━━━━━━\u001b[0m\u001b[37m\u001b[0m \u001b[1m95s\u001b[0m 8s/step - AUC: 0.7789 - Precision: 0.7088 - Recall: 0.8424 - accuracy: 0.7565 - loss: 0.5579 - val_AUC: 0.7146 - val_Precision: 0.6061 - val_Recall: 0.9091 - val_accuracy: 0.6250 - val_loss: 0.7130 - learning_rate: 5.0000e-04\n",
      "Epoch 13/50\n",
      "\u001b[1m12/12\u001b[0m \u001b[32m━━━━━━━━━━━━━━━━━━━━\u001b[0m\u001b[37m\u001b[0m \u001b[1m95s\u001b[0m 8s/step - AUC: 0.7958 - Precision: 0.7099 - Recall: 0.8349 - accuracy: 0.7698 - loss: 0.5270 - val_AUC: 0.6843 - val_Precision: 0.6061 - val_Recall: 0.9091 - val_accuracy: 0.6250 - val_loss: 0.6856 - learning_rate: 2.5000e-04\n",
      "Epoch 14/50\n",
      "\u001b[1m12/12\u001b[0m \u001b[32m━━━━━━━━━━━━━━━━━━━━\u001b[0m\u001b[37m\u001b[0m \u001b[1m98s\u001b[0m 8s/step - AUC: 0.7982 - Precision: 0.7114 - Recall: 0.8685 - accuracy: 0.7676 - loss: 0.5212 - val_AUC: 0.6856 - val_Precision: 0.6250 - val_Recall: 0.9091 - val_accuracy: 0.6500 - val_loss: 0.7315 - learning_rate: 2.5000e-04\n",
      "Fold 8/20\n",
      "Training fold shape: (760, 224, 224, 3)\n",
      "Validation fold shape: (40, 224, 224, 3)\n",
      "Epoch 1/50\n",
      "\u001b[1m12/12\u001b[0m \u001b[32m━━━━━━━━━━━━━━━━━━━━\u001b[0m\u001b[37m\u001b[0m \u001b[1m111s\u001b[0m 9s/step - AUC: 0.6700 - Precision: 0.5981 - Recall: 0.6031 - accuracy: 0.6118 - loss: 0.8116 - val_AUC: 0.7084 - val_Precision: 0.7097 - val_Recall: 0.9565 - val_accuracy: 0.7500 - val_loss: 0.5824 - learning_rate: 0.0010\n",
      "Epoch 2/50\n",
      "\u001b[1m12/12\u001b[0m \u001b[32m━━━━━━━━━━━━━━━━━━━━\u001b[0m\u001b[37m\u001b[0m \u001b[1m97s\u001b[0m 8s/step - AUC: 0.7457 - Precision: 0.6942 - Recall: 0.7024 - accuracy: 0.6952 - loss: 0.6557 - val_AUC: 0.6995 - val_Precision: 0.7097 - val_Recall: 0.9565 - val_accuracy: 0.7500 - val_loss: 0.6127 - learning_rate: 0.0010\n",
      "Epoch 3/50\n",
      "\u001b[1m12/12\u001b[0m \u001b[32m━━━━━━━━━━━━━━━━━━━━\u001b[0m\u001b[37m\u001b[0m \u001b[1m96s\u001b[0m 8s/step - AUC: 0.7656 - Precision: 0.7011 - Recall: 0.7162 - accuracy: 0.7167 - loss: 0.6033 - val_AUC: 0.6995 - val_Precision: 0.6111 - val_Recall: 0.9565 - val_accuracy: 0.6250 - val_loss: 0.6270 - learning_rate: 0.0010\n",
      "Epoch 4/50\n",
      "\u001b[1m12/12\u001b[0m \u001b[32m━━━━━━━━━━━━━━━━━━━━\u001b[0m\u001b[37m\u001b[0m \u001b[1m97s\u001b[0m 8s/step - AUC: 0.7658 - Precision: 0.6930 - Recall: 0.8106 - accuracy: 0.7421 - loss: 0.5788 - val_AUC: 0.7199 - val_Precision: 0.6389 - val_Recall: 1.0000 - val_accuracy: 0.6750 - val_loss: 0.6389 - learning_rate: 0.0010\n",
      "Epoch 5/50\n",
      "\u001b[1m12/12\u001b[0m \u001b[32m━━━━━━━━━━━━━━━━━━━━\u001b[0m\u001b[37m\u001b[0m \u001b[1m97s\u001b[0m 8s/step - AUC: 0.7894 - Precision: 0.7275 - Recall: 0.8174 - accuracy: 0.7593 - loss: 0.5512 - val_AUC: 0.6854 - val_Precision: 0.5897 - val_Recall: 1.0000 - val_accuracy: 0.6000 - val_loss: 0.6627 - learning_rate: 5.0000e-04\n",
      "Epoch 6/50\n",
      "\u001b[1m12/12\u001b[0m \u001b[32m━━━━━━━━━━━━━━━━━━━━\u001b[0m\u001b[37m\u001b[0m \u001b[1m102s\u001b[0m 8s/step - AUC: 0.7595 - Precision: 0.7099 - Recall: 0.8169 - accuracy: 0.7478 - loss: 0.5783 - val_AUC: 0.7506 - val_Precision: 0.5750 - val_Recall: 1.0000 - val_accuracy: 0.5750 - val_loss: 0.7127 - learning_rate: 5.0000e-04\n",
      "Fold 9/20\n",
      "Training fold shape: (760, 224, 224, 3)\n",
      "Validation fold shape: (40, 224, 224, 3)\n",
      "Epoch 1/50\n",
      "\u001b[1m12/12\u001b[0m \u001b[32m━━━━━━━━━━━━━━━━━━━━\u001b[0m\u001b[37m\u001b[0m \u001b[1m113s\u001b[0m 9s/step - AUC: 0.6949 - Precision: 0.6638 - Recall: 0.5275 - accuracy: 0.6360 - loss: 0.7076 - val_AUC: 0.7870 - val_Precision: 0.7826 - val_Recall: 0.8571 - val_accuracy: 0.8000 - val_loss: 0.6124 - learning_rate: 0.0010\n",
      "Epoch 2/50\n",
      "\u001b[1m12/12\u001b[0m \u001b[32m━━━━━━━━━━━━━━━━━━━━\u001b[0m\u001b[37m\u001b[0m \u001b[1m100s\u001b[0m 8s/step - AUC: 0.7116 - Precision: 0.6641 - Recall: 0.6806 - accuracy: 0.6719 - loss: 0.6509 - val_AUC: 0.8195 - val_Precision: 0.6552 - val_Recall: 0.9048 - val_accuracy: 0.7000 - val_loss: 0.5894 - learning_rate: 0.0010\n",
      "Epoch 3/50\n",
      "\u001b[1m12/12\u001b[0m \u001b[32m━━━━━━━━━━━━━━━━━━━━\u001b[0m\u001b[37m\u001b[0m \u001b[1m101s\u001b[0m 8s/step - AUC: 0.7115 - Precision: 0.6763 - Recall: 0.6963 - accuracy: 0.6818 - loss: 0.6784 - val_AUC: 0.7769 - val_Precision: 0.0000e+00 - val_Recall: 0.0000e+00 - val_accuracy: 0.4750 - val_loss: 0.6310 - learning_rate: 0.0010\n",
      "Epoch 4/50\n",
      "\u001b[1m12/12\u001b[0m \u001b[32m━━━━━━━━━━━━━━━━━━━━\u001b[0m\u001b[37m\u001b[0m \u001b[1m96s\u001b[0m 8s/step - AUC: 0.7439 - Precision: 0.7053 - Recall: 0.7872 - accuracy: 0.7199 - loss: 0.6112 - val_AUC: 0.8258 - val_Precision: 0.7200 - val_Recall: 0.8571 - val_accuracy: 0.7500 - val_loss: 0.5606 - learning_rate: 0.0010\n",
      "Epoch 5/50\n",
      "\u001b[1m12/12\u001b[0m \u001b[32m━━━━━━━━━━━━━━━━━━━━\u001b[0m\u001b[37m\u001b[0m \u001b[1m98s\u001b[0m 8s/step - AUC: 0.7647 - Precision: 0.6940 - Recall: 0.7200 - accuracy: 0.7071 - loss: 0.5793 - val_AUC: 0.8133 - val_Precision: 0.7826 - val_Recall: 0.8571 - val_accuracy: 0.8000 - val_loss: 0.6022 - learning_rate: 0.0010\n",
      "Epoch 6/50\n",
      "\u001b[1m12/12\u001b[0m \u001b[32m━━━━━━━━━━━━━━━━━━━━\u001b[0m\u001b[37m\u001b[0m \u001b[1m101s\u001b[0m 8s/step - AUC: 0.7584 - Precision: 0.6957 - Recall: 0.7652 - accuracy: 0.7265 - loss: 0.5747 - val_AUC: 0.7945 - val_Precision: 0.6923 - val_Recall: 0.8571 - val_accuracy: 0.7250 - val_loss: 0.5616 - learning_rate: 0.0010\n",
      "Epoch 7/50\n",
      "\u001b[1m12/12\u001b[0m \u001b[32m━━━━━━━━━━━━━━━━━━━━\u001b[0m\u001b[37m\u001b[0m \u001b[1m97s\u001b[0m 8s/step - AUC: 0.7747 - Precision: 0.7112 - Recall: 0.8473 - accuracy: 0.7537 - loss: 0.5617 - val_AUC: 0.8083 - val_Precision: 0.6923 - val_Recall: 0.8571 - val_accuracy: 0.7250 - val_loss: 0.5486 - learning_rate: 0.0010\n",
      "Epoch 8/50\n",
      "\u001b[1m12/12\u001b[0m \u001b[32m━━━━━━━━━━━━━━━━━━━━\u001b[0m\u001b[37m\u001b[0m \u001b[1m98s\u001b[0m 8s/step - AUC: 0.7523 - Precision: 0.7170 - Recall: 0.7893 - accuracy: 0.7318 - loss: 0.5793 - val_AUC: 0.8095 - val_Precision: 0.6667 - val_Recall: 0.9524 - val_accuracy: 0.7250 - val_loss: 0.5970 - learning_rate: 0.0010\n",
      "Epoch 9/50\n",
      "\u001b[1m12/12\u001b[0m \u001b[32m━━━━━━━━━━━━━━━━━━━━\u001b[0m\u001b[37m\u001b[0m \u001b[1m98s\u001b[0m 8s/step - AUC: 0.7850 - Precision: 0.7228 - Recall: 0.7901 - accuracy: 0.7368 - loss: 0.5599 - val_AUC: 0.8095 - val_Precision: 0.6667 - val_Recall: 0.8571 - val_accuracy: 0.7000 - val_loss: 0.5608 - learning_rate: 0.0010\n",
      "Epoch 10/50\n",
      "\u001b[1m12/12\u001b[0m \u001b[32m━━━━━━━━━━━━━━━━━━━━\u001b[0m\u001b[37m\u001b[0m \u001b[1m97s\u001b[0m 8s/step - AUC: 0.7550 - Precision: 0.6829 - Recall: 0.6925 - accuracy: 0.6984 - loss: 0.5905 - val_AUC: 0.8095 - val_Precision: 0.6923 - val_Recall: 0.8571 - val_accuracy: 0.7250 - val_loss: 0.5509 - learning_rate: 0.0010\n",
      "Epoch 11/50\n",
      "\u001b[1m12/12\u001b[0m \u001b[32m━━━━━━━━━━━━━━━━━━━━\u001b[0m\u001b[37m\u001b[0m \u001b[1m96s\u001b[0m 8s/step - AUC: 0.7400 - Precision: 0.6955 - Recall: 0.8089 - accuracy: 0.7250 - loss: 0.6177 - val_AUC: 0.8070 - val_Precision: 0.6923 - val_Recall: 0.8571 - val_accuracy: 0.7250 - val_loss: 0.5453 - learning_rate: 5.0000e-04\n",
      "Epoch 12/50\n",
      "\u001b[1m12/12\u001b[0m \u001b[32m━━━━━━━━━━━━━━━━━━━━\u001b[0m\u001b[37m\u001b[0m \u001b[1m97s\u001b[0m 8s/step - AUC: 0.8072 - Precision: 0.7297 - Recall: 0.8479 - accuracy: 0.7618 - loss: 0.5195 - val_AUC: 0.8070 - val_Precision: 0.6923 - val_Recall: 0.8571 - val_accuracy: 0.7250 - val_loss: 0.5533 - learning_rate: 5.0000e-04\n",
      "Epoch 13/50\n",
      "\u001b[1m12/12\u001b[0m \u001b[32m━━━━━━━━━━━━━━━━━━━━\u001b[0m\u001b[37m\u001b[0m \u001b[1m99s\u001b[0m 8s/step - AUC: 0.8069 - Precision: 0.7254 - Recall: 0.8376 - accuracy: 0.7763 - loss: 0.5076 - val_AUC: 0.8095 - val_Precision: 0.6923 - val_Recall: 0.8571 - val_accuracy: 0.7250 - val_loss: 0.5432 - learning_rate: 5.0000e-04\n",
      "Epoch 14/50\n",
      "\u001b[1m12/12\u001b[0m \u001b[32m━━━━━━━━━━━━━━━━━━━━\u001b[0m\u001b[37m\u001b[0m \u001b[1m96s\u001b[0m 8s/step - AUC: 0.8073 - Precision: 0.7204 - Recall: 0.8671 - accuracy: 0.7769 - loss: 0.4930 - val_AUC: 0.8058 - val_Precision: 0.6923 - val_Recall: 0.8571 - val_accuracy: 0.7250 - val_loss: 0.5255 - learning_rate: 5.0000e-04\n",
      "Epoch 15/50\n",
      "\u001b[1m12/12\u001b[0m \u001b[32m━━━━━━━━━━━━━━━━━━━━\u001b[0m\u001b[37m\u001b[0m \u001b[1m96s\u001b[0m 8s/step - AUC: 0.8154 - Precision: 0.7188 - Recall: 0.8993 - accuracy: 0.7853 - loss: 0.4882 - val_AUC: 0.8033 - val_Precision: 0.6667 - val_Recall: 0.8571 - val_accuracy: 0.7000 - val_loss: 0.5692 - learning_rate: 5.0000e-04\n",
      "Epoch 16/50\n",
      "\u001b[1m12/12\u001b[0m \u001b[32m━━━━━━━━━━━━━━━━━━━━\u001b[0m\u001b[37m\u001b[0m \u001b[1m100s\u001b[0m 8s/step - AUC: 0.8401 - Precision: 0.7277 - Recall: 0.9222 - accuracy: 0.7915 - loss: 0.4839 - val_AUC: 0.8070 - val_Precision: 0.7500 - val_Recall: 0.8571 - val_accuracy: 0.7750 - val_loss: 0.5350 - learning_rate: 5.0000e-04\n",
      "Epoch 17/50\n",
      "\u001b[1m12/12\u001b[0m \u001b[32m━━━━━━━━━━━━━━━━━━━━\u001b[0m\u001b[37m\u001b[0m \u001b[1m96s\u001b[0m 8s/step - AUC: 0.8158 - Precision: 0.7191 - Recall: 0.9055 - accuracy: 0.7862 - loss: 0.4873 - val_AUC: 0.8120 - val_Precision: 0.7826 - val_Recall: 0.8571 - val_accuracy: 0.8000 - val_loss: 0.5546 - learning_rate: 5.0000e-04\n",
      "Epoch 18/50\n",
      "\u001b[1m12/12\u001b[0m \u001b[32m━━━━━━━━━━━━━━━━━━━━\u001b[0m\u001b[37m\u001b[0m \u001b[1m100s\u001b[0m 8s/step - AUC: 0.8412 - Precision: 0.7486 - Recall: 0.9326 - accuracy: 0.8120 - loss: 0.4506 - val_AUC: 0.8033 - val_Precision: 0.7826 - val_Recall: 0.8571 - val_accuracy: 0.8000 - val_loss: 0.5133 - learning_rate: 2.5000e-04\n",
      "Epoch 19/50\n",
      "\u001b[1m12/12\u001b[0m \u001b[32m━━━━━━━━━━━━━━━━━━━━\u001b[0m\u001b[37m\u001b[0m \u001b[1m98s\u001b[0m 8s/step - AUC: 0.8509 - Precision: 0.7528 - Recall: 0.9395 - accuracy: 0.8188 - loss: 0.4277 - val_AUC: 0.8095 - val_Precision: 0.7826 - val_Recall: 0.8571 - val_accuracy: 0.8000 - val_loss: 0.4962 - learning_rate: 2.5000e-04\n",
      "Epoch 20/50\n",
      "\u001b[1m12/12\u001b[0m \u001b[32m━━━━━━━━━━━━━━━━━━━━\u001b[0m\u001b[37m\u001b[0m \u001b[1m97s\u001b[0m 8s/step - AUC: 0.8438 - Precision: 0.7565 - Recall: 0.9332 - accuracy: 0.8181 - loss: 0.4242 - val_AUC: 0.8183 - val_Precision: 0.7826 - val_Recall: 0.8571 - val_accuracy: 0.8000 - val_loss: 0.4987 - learning_rate: 2.5000e-04\n",
      "Epoch 21/50\n",
      "\u001b[1m12/12\u001b[0m \u001b[32m━━━━━━━━━━━━━━━━━━━━\u001b[0m\u001b[37m\u001b[0m \u001b[1m97s\u001b[0m 8s/step - AUC: 0.8334 - Precision: 0.7428 - Recall: 0.9398 - accuracy: 0.8091 - loss: 0.4287 - val_AUC: 0.8321 - val_Precision: 0.7826 - val_Recall: 0.8571 - val_accuracy: 0.8000 - val_loss: 0.5282 - learning_rate: 2.5000e-04\n",
      "Epoch 22/50\n",
      "\u001b[1m12/12\u001b[0m \u001b[32m━━━━━━━━━━━━━━━━━━━━\u001b[0m\u001b[37m\u001b[0m \u001b[1m100s\u001b[0m 8s/step - AUC: 0.8395 - Precision: 0.7501 - Recall: 0.9258 - accuracy: 0.8060 - loss: 0.4335 - val_AUC: 0.8371 - val_Precision: 0.7826 - val_Recall: 0.8571 - val_accuracy: 0.8000 - val_loss: 0.4908 - learning_rate: 2.5000e-04\n",
      "Epoch 23/50\n",
      "\u001b[1m12/12\u001b[0m \u001b[32m━━━━━━━━━━━━━━━━━━━━\u001b[0m\u001b[37m\u001b[0m \u001b[1m97s\u001b[0m 8s/step - AUC: 0.8503 - Precision: 0.7282 - Recall: 0.9646 - accuracy: 0.8085 - loss: 0.4209 - val_AUC: 0.8158 - val_Precision: 0.7826 - val_Recall: 0.8571 - val_accuracy: 0.8000 - val_loss: 0.5313 - learning_rate: 2.5000e-04\n",
      "Epoch 24/50\n",
      "\u001b[1m12/12\u001b[0m \u001b[32m━━━━━━━━━━━━━━━━━━━━\u001b[0m\u001b[37m\u001b[0m \u001b[1m96s\u001b[0m 8s/step - AUC: 0.8253 - Precision: 0.7323 - Recall: 0.9607 - accuracy: 0.8071 - loss: 0.4377 - val_AUC: 0.8233 - val_Precision: 0.7826 - val_Recall: 0.8571 - val_accuracy: 0.8000 - val_loss: 0.5842 - learning_rate: 2.5000e-04\n",
      "Epoch 25/50\n",
      "\u001b[1m12/12\u001b[0m \u001b[32m━━━━━━━━━━━━━━━━━━━━\u001b[0m\u001b[37m\u001b[0m \u001b[1m96s\u001b[0m 8s/step - AUC: 0.8846 - Precision: 0.7618 - Recall: 0.9472 - accuracy: 0.8291 - loss: 0.3687 - val_AUC: 0.8246 - val_Precision: 0.7826 - val_Recall: 0.8571 - val_accuracy: 0.8000 - val_loss: 0.6277 - learning_rate: 2.5000e-04\n",
      "Epoch 26/50\n",
      "\u001b[1m12/12\u001b[0m \u001b[32m━━━━━━━━━━━━━━━━━━━━\u001b[0m\u001b[37m\u001b[0m \u001b[1m98s\u001b[0m 8s/step - AUC: 0.8790 - Precision: 0.7171 - Recall: 0.9565 - accuracy: 0.8034 - loss: 0.3893 - val_AUC: 0.8346 - val_Precision: 0.7826 - val_Recall: 0.8571 - val_accuracy: 0.8000 - val_loss: 0.6487 - learning_rate: 1.2500e-04\n",
      "Epoch 27/50\n",
      "\u001b[1m12/12\u001b[0m \u001b[32m━━━━━━━━━━━━━━━━━━━━\u001b[0m\u001b[37m\u001b[0m \u001b[1m98s\u001b[0m 8s/step - AUC: 0.8964 - Precision: 0.7715 - Recall: 0.9795 - accuracy: 0.8459 - loss: 0.3523 - val_AUC: 0.7995 - val_Precision: 0.7826 - val_Recall: 0.8571 - val_accuracy: 0.8000 - val_loss: 0.7391 - learning_rate: 1.2500e-04\n",
      "Fold 10/20\n",
      "Training fold shape: (760, 224, 224, 3)\n",
      "Validation fold shape: (40, 224, 224, 3)\n",
      "Epoch 1/50\n",
      "\u001b[1m12/12\u001b[0m \u001b[32m━━━━━━━━━━━━━━━━━━━━\u001b[0m\u001b[37m\u001b[0m \u001b[1m106s\u001b[0m 8s/step - AUC: 0.6758 - Precision: 0.6114 - Recall: 0.5494 - accuracy: 0.6008 - loss: 0.6952 - val_AUC: 0.8045 - val_Precision: 0.0000e+00 - val_Recall: 0.0000e+00 - val_accuracy: 0.5250 - val_loss: 0.7924 - learning_rate: 0.0010\n",
      "Epoch 2/50\n",
      "\u001b[1m12/12\u001b[0m \u001b[32m━━━━━━━━━━━━━━━━━━━━\u001b[0m\u001b[37m\u001b[0m \u001b[1m97s\u001b[0m 8s/step - AUC: 0.7509 - Precision: 0.6869 - Recall: 0.7418 - accuracy: 0.7041 - loss: 0.6083 - val_AUC: 0.7932 - val_Precision: 0.0000e+00 - val_Recall: 0.0000e+00 - val_accuracy: 0.5250 - val_loss: 0.6912 - learning_rate: 0.0010\n",
      "Epoch 3/50\n",
      "\u001b[1m12/12\u001b[0m \u001b[32m━━━━━━━━━━━━━━━━━━━━\u001b[0m\u001b[37m\u001b[0m \u001b[1m96s\u001b[0m 8s/step - AUC: 0.7352 - Precision: 0.6865 - Recall: 0.7790 - accuracy: 0.7127 - loss: 0.6107 - val_AUC: 0.8033 - val_Precision: 0.0000e+00 - val_Recall: 0.0000e+00 - val_accuracy: 0.5250 - val_loss: 0.7665 - learning_rate: 0.0010\n",
      "Epoch 4/50\n",
      "\u001b[1m12/12\u001b[0m \u001b[32m━━━━━━━━━━━━━━━━━━━━\u001b[0m\u001b[37m\u001b[0m \u001b[1m99s\u001b[0m 8s/step - AUC: 0.7598 - Precision: 0.7131 - Recall: 0.7970 - accuracy: 0.7359 - loss: 0.5870 - val_AUC: 0.7444 - val_Precision: 0.4848 - val_Recall: 0.8421 - val_accuracy: 0.5000 - val_loss: 0.7968 - learning_rate: 0.0010\n",
      "Epoch 5/50\n",
      "\u001b[1m12/12\u001b[0m \u001b[32m━━━━━━━━━━━━━━━━━━━━\u001b[0m\u001b[37m\u001b[0m \u001b[1m96s\u001b[0m 8s/step - AUC: 0.7549 - Precision: 0.6952 - Recall: 0.7735 - accuracy: 0.7219 - loss: 0.6046 - val_AUC: 0.7243 - val_Precision: 0.5769 - val_Recall: 0.7895 - val_accuracy: 0.6250 - val_loss: 0.6937 - learning_rate: 0.0010\n",
      "Epoch 6/50\n",
      "\u001b[1m12/12\u001b[0m \u001b[32m━━━━━━━━━━━━━━━━━━━━\u001b[0m\u001b[37m\u001b[0m \u001b[1m98s\u001b[0m 8s/step - AUC: 0.7378 - Precision: 0.6911 - Recall: 0.8102 - accuracy: 0.7305 - loss: 0.5765 - val_AUC: 0.6892 - val_Precision: 0.5161 - val_Recall: 0.8421 - val_accuracy: 0.5500 - val_loss: 0.8288 - learning_rate: 5.0000e-04\n",
      "Epoch 7/50\n",
      "\u001b[1m12/12\u001b[0m \u001b[32m━━━━━━━━━━━━━━━━━━━━\u001b[0m\u001b[37m\u001b[0m \u001b[1m98s\u001b[0m 8s/step - AUC: 0.7718 - Precision: 0.7168 - Recall: 0.8123 - accuracy: 0.7411 - loss: 0.5616 - val_AUC: 0.6855 - val_Precision: 0.4848 - val_Recall: 0.8421 - val_accuracy: 0.5000 - val_loss: 0.8308 - learning_rate: 5.0000e-04\n",
      "Fold 11/20\n",
      "Training fold shape: (760, 224, 224, 3)\n",
      "Validation fold shape: (40, 224, 224, 3)\n",
      "Epoch 1/50\n",
      "\u001b[1m12/12\u001b[0m \u001b[32m━━━━━━━━━━━━━━━━━━━━\u001b[0m\u001b[37m\u001b[0m \u001b[1m109s\u001b[0m 8s/step - AUC: 0.6043 - Precision: 0.5738 - Recall: 0.5052 - accuracy: 0.5799 - loss: 0.8227 - val_AUC: 0.6301 - val_Precision: 0.0000e+00 - val_Recall: 0.0000e+00 - val_accuracy: 0.5500 - val_loss: 0.6731 - learning_rate: 0.0010\n",
      "Epoch 2/50\n",
      "\u001b[1m12/12\u001b[0m \u001b[32m━━━━━━━━━━━━━━━━━━━━\u001b[0m\u001b[37m\u001b[0m \u001b[1m93s\u001b[0m 8s/step - AUC: 0.7716 - Precision: 0.6855 - Recall: 0.7254 - accuracy: 0.7170 - loss: 0.5837 - val_AUC: 0.6250 - val_Precision: 0.4167 - val_Recall: 0.8333 - val_accuracy: 0.4000 - val_loss: 0.9757 - learning_rate: 0.0010\n",
      "Epoch 3/50\n",
      "\u001b[1m12/12\u001b[0m \u001b[32m━━━━━━━━━━━━━━━━━━━━\u001b[0m\u001b[37m\u001b[0m \u001b[1m95s\u001b[0m 8s/step - AUC: 0.7482 - Precision: 0.6988 - Recall: 0.7513 - accuracy: 0.7323 - loss: 0.5965 - val_AUC: 0.5871 - val_Precision: 0.4324 - val_Recall: 0.8889 - val_accuracy: 0.4250 - val_loss: 1.5192 - learning_rate: 0.0010\n",
      "Epoch 4/50\n",
      "\u001b[1m12/12\u001b[0m \u001b[32m━━━━━━━━━━━━━━━━━━━━\u001b[0m\u001b[37m\u001b[0m \u001b[1m95s\u001b[0m 8s/step - AUC: 0.7394 - Precision: 0.6788 - Recall: 0.7003 - accuracy: 0.6914 - loss: 0.6351 - val_AUC: 0.5833 - val_Precision: 0.4167 - val_Recall: 0.8333 - val_accuracy: 0.4000 - val_loss: 0.8776 - learning_rate: 0.0010\n",
      "Epoch 5/50\n",
      "\u001b[1m12/12\u001b[0m \u001b[32m━━━━━━━━━━━━━━━━━━━━\u001b[0m\u001b[37m\u001b[0m \u001b[1m95s\u001b[0m 8s/step - AUC: 0.7818 - Precision: 0.7217 - Recall: 0.7361 - accuracy: 0.7323 - loss: 0.5629 - val_AUC: 0.6503 - val_Precision: 0.4324 - val_Recall: 0.8889 - val_accuracy: 0.4250 - val_loss: 0.7679 - learning_rate: 5.0000e-04\n",
      "Epoch 6/50\n",
      "\u001b[1m12/12\u001b[0m \u001b[32m━━━━━━━━━━━━━━━━━━━━\u001b[0m\u001b[37m\u001b[0m \u001b[1m97s\u001b[0m 8s/step - AUC: 0.7733 - Precision: 0.6757 - Recall: 0.6907 - accuracy: 0.7044 - loss: 0.5644 - val_AUC: 0.5707 - val_Precision: 0.4324 - val_Recall: 0.8889 - val_accuracy: 0.4250 - val_loss: 0.8753 - learning_rate: 5.0000e-04\n",
      "Fold 12/20\n",
      "Training fold shape: (760, 224, 224, 3)\n",
      "Validation fold shape: (40, 224, 224, 3)\n",
      "Epoch 1/50\n",
      "\u001b[1m12/12\u001b[0m \u001b[32m━━━━━━━━━━━━━━━━━━━━\u001b[0m\u001b[37m\u001b[0m \u001b[1m106s\u001b[0m 8s/step - AUC: 0.6722 - Precision: 0.6688 - Recall: 0.6403 - accuracy: 0.6588 - loss: 0.7750 - val_AUC: 0.7513 - val_Precision: 0.0000e+00 - val_Recall: 0.0000e+00 - val_accuracy: 0.4500 - val_loss: 0.8329 - learning_rate: 0.0010\n",
      "Epoch 2/50\n",
      "\u001b[1m12/12\u001b[0m \u001b[32m━━━━━━━━━━━━━━━━━━━━\u001b[0m\u001b[37m\u001b[0m \u001b[1m98s\u001b[0m 8s/step - AUC: 0.7299 - Precision: 0.6867 - Recall: 0.6166 - accuracy: 0.6714 - loss: 0.6593 - val_AUC: 0.7462 - val_Precision: 0.8095 - val_Recall: 0.7727 - val_accuracy: 0.7750 - val_loss: 0.6705 - learning_rate: 0.0010\n",
      "Epoch 3/50\n",
      "\u001b[1m12/12\u001b[0m \u001b[32m━━━━━━━━━━━━━━━━━━━━\u001b[0m\u001b[37m\u001b[0m \u001b[1m100s\u001b[0m 8s/step - AUC: 0.7509 - Precision: 0.6829 - Recall: 0.7165 - accuracy: 0.6991 - loss: 0.6052 - val_AUC: 0.7285 - val_Precision: 0.7391 - val_Recall: 0.7727 - val_accuracy: 0.7250 - val_loss: 0.6716 - learning_rate: 0.0010\n",
      "Epoch 4/50\n",
      "\u001b[1m12/12\u001b[0m \u001b[32m━━━━━━━━━━━━━━━━━━━━\u001b[0m\u001b[37m\u001b[0m \u001b[1m94s\u001b[0m 8s/step - AUC: 0.7449 - Precision: 0.7138 - Recall: 0.7015 - accuracy: 0.7093 - loss: 0.6083 - val_AUC: 0.7159 - val_Precision: 0.5938 - val_Recall: 0.8636 - val_accuracy: 0.6000 - val_loss: 0.6838 - learning_rate: 0.0010\n",
      "Epoch 5/50\n",
      "\u001b[1m12/12\u001b[0m \u001b[32m━━━━━━━━━━━━━━━━━━━━\u001b[0m\u001b[37m\u001b[0m \u001b[1m94s\u001b[0m 8s/step - AUC: 0.7640 - Precision: 0.7001 - Recall: 0.8170 - accuracy: 0.7399 - loss: 0.5729 - val_AUC: 0.7412 - val_Precision: 0.5938 - val_Recall: 0.8636 - val_accuracy: 0.6000 - val_loss: 0.6545 - learning_rate: 0.0010\n",
      "Epoch 6/50\n",
      "\u001b[1m12/12\u001b[0m \u001b[32m━━━━━━━━━━━━━━━━━━━━\u001b[0m\u001b[37m\u001b[0m \u001b[1m93s\u001b[0m 8s/step - AUC: 0.7787 - Precision: 0.7532 - Recall: 0.7774 - accuracy: 0.7548 - loss: 0.5694 - val_AUC: 0.7399 - val_Precision: 0.5714 - val_Recall: 0.9091 - val_accuracy: 0.5750 - val_loss: 0.6635 - learning_rate: 0.0010\n",
      "Epoch 7/50\n",
      "\u001b[1m12/12\u001b[0m \u001b[32m━━━━━━━━━━━━━━━━━━━━\u001b[0m\u001b[37m\u001b[0m \u001b[1m93s\u001b[0m 8s/step - AUC: 0.7631 - Precision: 0.7261 - Recall: 0.8327 - accuracy: 0.7610 - loss: 0.5513 - val_AUC: 0.7386 - val_Precision: 0.5526 - val_Recall: 0.9545 - val_accuracy: 0.5500 - val_loss: 0.7275 - learning_rate: 0.0010\n",
      "Epoch 8/50\n",
      "\u001b[1m12/12\u001b[0m \u001b[32m━━━━━━━━━━━━━━━━━━━━\u001b[0m\u001b[37m\u001b[0m \u001b[1m99s\u001b[0m 8s/step - AUC: 0.7886 - Precision: 0.7384 - Recall: 0.8175 - accuracy: 0.7647 - loss: 0.5381 - val_AUC: 0.7424 - val_Precision: 0.5938 - val_Recall: 0.8636 - val_accuracy: 0.6000 - val_loss: 0.6530 - learning_rate: 0.0010\n",
      "Epoch 9/50\n",
      "\u001b[1m12/12\u001b[0m \u001b[32m━━━━━━━━━━━━━━━━━━━━\u001b[0m\u001b[37m\u001b[0m \u001b[1m97s\u001b[0m 8s/step - AUC: 0.7993 - Precision: 0.6992 - Recall: 0.7949 - accuracy: 0.7475 - loss: 0.5384 - val_AUC: 0.6995 - val_Precision: 0.5641 - val_Recall: 1.0000 - val_accuracy: 0.5750 - val_loss: 0.8250 - learning_rate: 0.0010\n",
      "Epoch 10/50\n",
      "\u001b[1m12/12\u001b[0m \u001b[32m━━━━━━━━━━━━━━━━━━━━\u001b[0m\u001b[37m\u001b[0m \u001b[1m96s\u001b[0m 8s/step - AUC: 0.7844 - Precision: 0.7063 - Recall: 0.8192 - accuracy: 0.7436 - loss: 0.5596 - val_AUC: 0.7197 - val_Precision: 0.5500 - val_Recall: 1.0000 - val_accuracy: 0.5500 - val_loss: 0.8236 - learning_rate: 0.0010\n",
      "Epoch 11/50\n",
      "\u001b[1m12/12\u001b[0m \u001b[32m━━━━━━━━━━━━━━━━━━━━\u001b[0m\u001b[37m\u001b[0m \u001b[1m96s\u001b[0m 8s/step - AUC: 0.7570 - Precision: 0.7028 - Recall: 0.8712 - accuracy: 0.7582 - loss: 0.5722 - val_AUC: 0.7399 - val_Precision: 0.6667 - val_Recall: 0.8182 - val_accuracy: 0.6750 - val_loss: 0.6563 - learning_rate: 0.0010\n",
      "Epoch 12/50\n",
      "\u001b[1m12/12\u001b[0m \u001b[32m━━━━━━━━━━━━━━━━━━━━\u001b[0m\u001b[37m\u001b[0m \u001b[1m98s\u001b[0m 8s/step - AUC: 0.8216 - Precision: 0.7540 - Recall: 0.8681 - accuracy: 0.7924 - loss: 0.4859 - val_AUC: 0.7374 - val_Precision: 0.6000 - val_Recall: 0.8182 - val_accuracy: 0.6000 - val_loss: 0.6564 - learning_rate: 5.0000e-04\n",
      "Epoch 13/50\n",
      "\u001b[1m12/12\u001b[0m \u001b[32m━━━━━━━━━━━━━━━━━━━━\u001b[0m\u001b[37m\u001b[0m \u001b[1m96s\u001b[0m 8s/step - AUC: 0.8193 - Precision: 0.7284 - Recall: 0.8566 - accuracy: 0.7753 - loss: 0.4955 - val_AUC: 0.7361 - val_Precision: 0.6667 - val_Recall: 0.8182 - val_accuracy: 0.6750 - val_loss: 0.6511 - learning_rate: 5.0000e-04\n",
      "Epoch 14/50\n",
      "\u001b[1m12/12\u001b[0m \u001b[32m━━━━━━━━━━━━━━━━━━━━\u001b[0m\u001b[37m\u001b[0m \u001b[1m98s\u001b[0m 8s/step - AUC: 0.8377 - Precision: 0.7326 - Recall: 0.8468 - accuracy: 0.7721 - loss: 0.4842 - val_AUC: 0.7386 - val_Precision: 0.6000 - val_Recall: 0.8182 - val_accuracy: 0.6000 - val_loss: 0.6606 - learning_rate: 5.0000e-04\n",
      "Epoch 15/50\n",
      "\u001b[1m12/12\u001b[0m \u001b[32m━━━━━━━━━━━━━━━━━━━━\u001b[0m\u001b[37m\u001b[0m \u001b[1m99s\u001b[0m 8s/step - AUC: 0.8327 - Precision: 0.7490 - Recall: 0.8831 - accuracy: 0.7875 - loss: 0.4705 - val_AUC: 0.7348 - val_Precision: 0.6667 - val_Recall: 0.8182 - val_accuracy: 0.6750 - val_loss: 0.6533 - learning_rate: 5.0000e-04\n",
      "Epoch 16/50\n",
      "\u001b[1m12/12\u001b[0m \u001b[32m━━━━━━━━━━━━━━━━━━━━\u001b[0m\u001b[37m\u001b[0m \u001b[1m96s\u001b[0m 8s/step - AUC: 0.8289 - Precision: 0.7277 - Recall: 0.7666 - accuracy: 0.7456 - loss: 0.4836 - val_AUC: 0.7551 - val_Precision: 0.5500 - val_Recall: 1.0000 - val_accuracy: 0.5500 - val_loss: 0.6816 - learning_rate: 5.0000e-04\n",
      "Epoch 17/50\n",
      "\u001b[1m12/12\u001b[0m \u001b[32m━━━━━━━━━━━━━━━━━━━━\u001b[0m\u001b[37m\u001b[0m \u001b[1m97s\u001b[0m 8s/step - AUC: 0.8610 - Precision: 0.7472 - Recall: 0.8914 - accuracy: 0.7998 - loss: 0.4376 - val_AUC: 0.7740 - val_Precision: 0.5500 - val_Recall: 1.0000 - val_accuracy: 0.5500 - val_loss: 0.7030 - learning_rate: 2.5000e-04\n",
      "Epoch 18/50\n",
      "\u001b[1m12/12\u001b[0m \u001b[32m━━━━━━━━━━━━━━━━━━━━\u001b[0m\u001b[37m\u001b[0m \u001b[1m98s\u001b[0m 8s/step - AUC: 0.8501 - Precision: 0.7451 - Recall: 0.8692 - accuracy: 0.7924 - loss: 0.4424 - val_AUC: 0.7664 - val_Precision: 0.5500 - val_Recall: 1.0000 - val_accuracy: 0.5500 - val_loss: 0.7358 - learning_rate: 2.5000e-04\n",
      "Fold 13/20\n",
      "Training fold shape: (760, 224, 224, 3)\n",
      "Validation fold shape: (40, 224, 224, 3)\n",
      "Epoch 1/50\n",
      "\u001b[1m12/12\u001b[0m \u001b[32m━━━━━━━━━━━━━━━━━━━━\u001b[0m\u001b[37m\u001b[0m \u001b[1m108s\u001b[0m 8s/step - AUC: 0.6407 - Precision: 0.5902 - Recall: 0.5467 - accuracy: 0.6026 - loss: 0.7387 - val_AUC: 0.8725 - val_Precision: 0.0000e+00 - val_Recall: 0.0000e+00 - val_accuracy: 0.5500 - val_loss: 0.8296 - learning_rate: 0.0010\n",
      "Epoch 2/50\n",
      "\u001b[1m12/12\u001b[0m \u001b[32m━━━━━━━━━━━━━━━━━━━━\u001b[0m\u001b[37m\u001b[0m \u001b[1m99s\u001b[0m 8s/step - AUC: 0.7117 - Precision: 0.6424 - Recall: 0.5938 - accuracy: 0.6577 - loss: 0.6413 - val_AUC: 0.9040 - val_Precision: 0.7727 - val_Recall: 0.9444 - val_accuracy: 0.8500 - val_loss: 0.4855 - learning_rate: 0.0010\n",
      "Epoch 3/50\n",
      "\u001b[1m12/12\u001b[0m \u001b[32m━━━━━━━━━━━━━━━━━━━━\u001b[0m\u001b[37m\u001b[0m \u001b[1m99s\u001b[0m 8s/step - AUC: 0.7591 - Precision: 0.6814 - Recall: 0.7491 - accuracy: 0.7119 - loss: 0.6183 - val_AUC: 0.8851 - val_Precision: 0.0000e+00 - val_Recall: 0.0000e+00 - val_accuracy: 0.5500 - val_loss: 1.2469 - learning_rate: 0.0010\n",
      "Epoch 4/50\n",
      "\u001b[1m12/12\u001b[0m \u001b[32m━━━━━━━━━━━━━━━━━━━━\u001b[0m\u001b[37m\u001b[0m \u001b[1m95s\u001b[0m 8s/step - AUC: 0.7416 - Precision: 0.6898 - Recall: 0.7184 - accuracy: 0.7041 - loss: 0.6020 - val_AUC: 0.8939 - val_Precision: 0.0000e+00 - val_Recall: 0.0000e+00 - val_accuracy: 0.5500 - val_loss: 0.7379 - learning_rate: 0.0010\n",
      "Epoch 5/50\n",
      "\u001b[1m12/12\u001b[0m \u001b[32m━━━━━━━━━━━━━━━━━━━━\u001b[0m\u001b[37m\u001b[0m \u001b[1m97s\u001b[0m 8s/step - AUC: 0.7690 - Precision: 0.7190 - Recall: 0.7837 - accuracy: 0.7349 - loss: 0.5719 - val_AUC: 0.8813 - val_Precision: 0.0000e+00 - val_Recall: 0.0000e+00 - val_accuracy: 0.5500 - val_loss: 0.5848 - learning_rate: 0.0010\n",
      "Epoch 6/50\n",
      "\u001b[1m12/12\u001b[0m \u001b[32m━━━━━━━━━━━━━━━━━━━━\u001b[0m\u001b[37m\u001b[0m \u001b[1m96s\u001b[0m 8s/step - AUC: 0.7532 - Precision: 0.7074 - Recall: 0.7757 - accuracy: 0.7281 - loss: 0.5831 - val_AUC: 0.8775 - val_Precision: 0.0000e+00 - val_Recall: 0.0000e+00 - val_accuracy: 0.5500 - val_loss: 0.6277 - learning_rate: 5.0000e-04\n",
      "Epoch 7/50\n",
      "\u001b[1m12/12\u001b[0m \u001b[32m━━━━━━━━━━━━━━━━━━━━\u001b[0m\u001b[37m\u001b[0m \u001b[1m97s\u001b[0m 8s/step - AUC: 0.7673 - Precision: 0.7093 - Recall: 0.8263 - accuracy: 0.7446 - loss: 0.5652 - val_AUC: 0.8725 - val_Precision: 0.0000e+00 - val_Recall: 0.0000e+00 - val_accuracy: 0.5500 - val_loss: 0.7697 - learning_rate: 5.0000e-04\n",
      "Fold 14/20\n",
      "Training fold shape: (760, 224, 224, 3)\n",
      "Validation fold shape: (40, 224, 224, 3)\n",
      "Epoch 1/50\n",
      "\u001b[1m12/12\u001b[0m \u001b[32m━━━━━━━━━━━━━━━━━━━━\u001b[0m\u001b[37m\u001b[0m \u001b[1m107s\u001b[0m 8s/step - AUC: 0.6437 - Precision: 0.6258 - Recall: 0.6370 - accuracy: 0.6214 - loss: 0.8197 - val_AUC: 0.8112 - val_Precision: 0.6500 - val_Recall: 0.8125 - val_accuracy: 0.7500 - val_loss: 0.5624 - learning_rate: 0.0010\n",
      "Epoch 2/50\n",
      "\u001b[1m12/12\u001b[0m \u001b[32m━━━━━━━━━━━━━━━━━━━━\u001b[0m\u001b[37m\u001b[0m \u001b[1m100s\u001b[0m 8s/step - AUC: 0.7276 - Precision: 0.6831 - Recall: 0.6969 - accuracy: 0.6870 - loss: 0.6492 - val_AUC: 0.7708 - val_Precision: 0.0000e+00 - val_Recall: 0.0000e+00 - val_accuracy: 0.6000 - val_loss: 0.5456 - learning_rate: 0.0010\n",
      "Epoch 3/50\n",
      "\u001b[1m12/12\u001b[0m \u001b[32m━━━━━━━━━━━━━━━━━━━━\u001b[0m\u001b[37m\u001b[0m \u001b[1m137s\u001b[0m 8s/step - AUC: 0.7601 - Precision: 0.6783 - Recall: 0.7228 - accuracy: 0.6978 - loss: 0.5905 - val_AUC: 0.7786 - val_Precision: 0.5556 - val_Recall: 0.9375 - val_accuracy: 0.6750 - val_loss: 0.8200 - learning_rate: 0.0010\n",
      "Epoch 4/50\n",
      "\u001b[1m12/12\u001b[0m \u001b[32m━━━━━━━━━━━━━━━━━━━━\u001b[0m\u001b[37m\u001b[0m \u001b[1m96s\u001b[0m 8s/step - AUC: 0.7519 - Precision: 0.6935 - Recall: 0.7789 - accuracy: 0.7223 - loss: 0.6288 - val_AUC: 0.7982 - val_Precision: 0.5357 - val_Recall: 0.9375 - val_accuracy: 0.6500 - val_loss: 0.6568 - learning_rate: 0.0010\n",
      "Epoch 5/50\n",
      "\u001b[1m12/12\u001b[0m \u001b[32m━━━━━━━━━━━━━━━━━━━━\u001b[0m\u001b[37m\u001b[0m \u001b[1m97s\u001b[0m 8s/step - AUC: 0.7697 - Precision: 0.7218 - Recall: 0.8330 - accuracy: 0.7501 - loss: 0.5635 - val_AUC: 0.7565 - val_Precision: 0.5000 - val_Recall: 0.9375 - val_accuracy: 0.6000 - val_loss: 0.7136 - learning_rate: 0.0010\n",
      "Epoch 6/50\n",
      "\u001b[1m12/12\u001b[0m \u001b[32m━━━━━━━━━━━━━━━━━━━━\u001b[0m\u001b[37m\u001b[0m \u001b[1m97s\u001b[0m 8s/step - AUC: 0.7728 - Precision: 0.7176 - Recall: 0.8561 - accuracy: 0.7607 - loss: 0.5564 - val_AUC: 0.7812 - val_Precision: 0.5000 - val_Recall: 0.9375 - val_accuracy: 0.6000 - val_loss: 0.6562 - learning_rate: 5.0000e-04\n",
      "Epoch 7/50\n",
      "\u001b[1m12/12\u001b[0m \u001b[32m━━━━━━━━━━━━━━━━━━━━\u001b[0m\u001b[37m\u001b[0m \u001b[1m98s\u001b[0m 8s/step - AUC: 0.7915 - Precision: 0.7122 - Recall: 0.7293 - accuracy: 0.7342 - loss: 0.5450 - val_AUC: 0.7773 - val_Precision: 0.5357 - val_Recall: 0.9375 - val_accuracy: 0.6500 - val_loss: 0.7229 - learning_rate: 5.0000e-04\n",
      "Fold 15/20\n",
      "Training fold shape: (760, 224, 224, 3)\n",
      "Validation fold shape: (40, 224, 224, 3)\n",
      "Epoch 1/50\n",
      "\u001b[1m12/12\u001b[0m \u001b[32m━━━━━━━━━━━━━━━━━━━━\u001b[0m\u001b[37m\u001b[0m \u001b[1m109s\u001b[0m 8s/step - AUC: 0.6756 - Precision: 0.6051 - Recall: 0.7284 - accuracy: 0.6317 - loss: 0.8064 - val_AUC: 0.7680 - val_Precision: 0.8000 - val_Recall: 0.9600 - val_accuracy: 0.8250 - val_loss: 0.4870 - learning_rate: 0.0010\n",
      "Epoch 2/50\n",
      "\u001b[1m12/12\u001b[0m \u001b[32m━━━━━━━━━━━━━━━━━━━━\u001b[0m\u001b[37m\u001b[0m \u001b[1m96s\u001b[0m 8s/step - AUC: 0.7458 - Precision: 0.6809 - Recall: 0.7314 - accuracy: 0.7088 - loss: 0.6176 - val_AUC: 0.7880 - val_Precision: 0.0000e+00 - val_Recall: 0.0000e+00 - val_accuracy: 0.3750 - val_loss: 0.7677 - learning_rate: 0.0010\n",
      "Epoch 3/50\n",
      "\u001b[1m12/12\u001b[0m \u001b[32m━━━━━━━━━━━━━━━━━━━━\u001b[0m\u001b[37m\u001b[0m \u001b[1m98s\u001b[0m 8s/step - AUC: 0.7744 - Precision: 0.6969 - Recall: 0.6278 - accuracy: 0.7026 - loss: 0.6002 - val_AUC: 0.8213 - val_Precision: 0.8000 - val_Recall: 0.9600 - val_accuracy: 0.8250 - val_loss: 0.5918 - learning_rate: 0.0010\n",
      "Epoch 4/50\n",
      "\u001b[1m12/12\u001b[0m \u001b[32m━━━━━━━━━━━━━━━━━━━━\u001b[0m\u001b[37m\u001b[0m \u001b[1m101s\u001b[0m 8s/step - AUC: 0.7134 - Precision: 0.6811 - Recall: 0.6086 - accuracy: 0.6711 - loss: 0.6305 - val_AUC: 0.7880 - val_Precision: 0.8000 - val_Recall: 0.9600 - val_accuracy: 0.8250 - val_loss: 0.5652 - learning_rate: 0.0010\n",
      "Epoch 5/50\n",
      "\u001b[1m12/12\u001b[0m \u001b[32m━━━━━━━━━━━━━━━━━━━━\u001b[0m\u001b[37m\u001b[0m \u001b[1m99s\u001b[0m 8s/step - AUC: 0.7463 - Precision: 0.6891 - Recall: 0.6870 - accuracy: 0.7011 - loss: 0.6185 - val_AUC: 0.7813 - val_Precision: 0.6667 - val_Recall: 0.9600 - val_accuracy: 0.6750 - val_loss: 0.5690 - learning_rate: 5.0000e-04\n",
      "Epoch 6/50\n",
      "\u001b[1m12/12\u001b[0m \u001b[32m━━━━━━━━━━━━━━━━━━━━\u001b[0m\u001b[37m\u001b[0m \u001b[1m99s\u001b[0m 8s/step - AUC: 0.7772 - Precision: 0.7168 - Recall: 0.7994 - accuracy: 0.7444 - loss: 0.5684 - val_AUC: 0.8080 - val_Precision: 0.6757 - val_Recall: 1.0000 - val_accuracy: 0.7000 - val_loss: 0.5881 - learning_rate: 5.0000e-04\n",
      "Fold 16/20\n",
      "Training fold shape: (760, 224, 224, 3)\n",
      "Validation fold shape: (40, 224, 224, 3)\n",
      "Epoch 1/50\n",
      "\u001b[1m12/12\u001b[0m \u001b[32m━━━━━━━━━━━━━━━━━━━━\u001b[0m\u001b[37m\u001b[0m \u001b[1m106s\u001b[0m 8s/step - AUC: 0.5901 - Precision: 0.5535 - Recall: 0.4992 - accuracy: 0.5612 - loss: 0.8257 - val_AUC: 0.7147 - val_Precision: 0.4828 - val_Recall: 0.9333 - val_accuracy: 0.6000 - val_loss: 0.7053 - learning_rate: 0.0010\n",
      "Epoch 2/50\n",
      "\u001b[1m12/12\u001b[0m \u001b[32m━━━━━━━━━━━━━━━━━━━━\u001b[0m\u001b[37m\u001b[0m \u001b[1m94s\u001b[0m 8s/step - AUC: 0.7671 - Precision: 0.7511 - Recall: 0.7583 - accuracy: 0.7400 - loss: 0.6014 - val_AUC: 0.7293 - val_Precision: 0.4828 - val_Recall: 0.9333 - val_accuracy: 0.6000 - val_loss: 0.6476 - learning_rate: 0.0010\n",
      "Epoch 3/50\n",
      "\u001b[1m12/12\u001b[0m \u001b[32m━━━━━━━━━━━━━━━━━━━━\u001b[0m\u001b[37m\u001b[0m \u001b[1m94s\u001b[0m 8s/step - AUC: 0.7743 - Precision: 0.7278 - Recall: 0.8444 - accuracy: 0.7677 - loss: 0.5546 - val_AUC: 0.6960 - val_Precision: 0.4000 - val_Recall: 0.9333 - val_accuracy: 0.4500 - val_loss: 0.9313 - learning_rate: 0.0010\n",
      "Epoch 4/50\n",
      "\u001b[1m12/12\u001b[0m \u001b[32m━━━━━━━━━━━━━━━━━━━━\u001b[0m\u001b[37m\u001b[0m \u001b[1m98s\u001b[0m 8s/step - AUC: 0.7535 - Precision: 0.7160 - Recall: 0.8058 - accuracy: 0.7425 - loss: 0.5900 - val_AUC: 0.6960 - val_Precision: 0.4000 - val_Recall: 0.9333 - val_accuracy: 0.4500 - val_loss: 0.9201 - learning_rate: 0.0010\n",
      "Epoch 5/50\n",
      "\u001b[1m12/12\u001b[0m \u001b[32m━━━━━━━━━━━━━━━━━━━━\u001b[0m\u001b[37m\u001b[0m \u001b[1m98s\u001b[0m 8s/step - AUC: 0.7534 - Precision: 0.7290 - Recall: 0.7805 - accuracy: 0.7296 - loss: 0.5849 - val_AUC: 0.7907 - val_Precision: 0.3889 - val_Recall: 0.9333 - val_accuracy: 0.4250 - val_loss: 0.9881 - learning_rate: 0.0010\n",
      "Epoch 6/50\n",
      "\u001b[1m12/12\u001b[0m \u001b[32m━━━━━━━━━━━━━━━━━━━━\u001b[0m\u001b[37m\u001b[0m \u001b[1m98s\u001b[0m 8s/step - AUC: 0.7794 - Precision: 0.7434 - Recall: 0.8034 - accuracy: 0.7584 - loss: 0.5586 - val_AUC: 0.7720 - val_Precision: 0.3750 - val_Recall: 1.0000 - val_accuracy: 0.3750 - val_loss: 0.9289 - learning_rate: 5.0000e-04\n",
      "Epoch 7/50\n",
      "\u001b[1m12/12\u001b[0m \u001b[32m━━━━━━━━━━━━━━━━━━━━\u001b[0m\u001b[37m\u001b[0m \u001b[1m93s\u001b[0m 8s/step - AUC: 0.7699 - Precision: 0.7004 - Recall: 0.8455 - accuracy: 0.7472 - loss: 0.5614 - val_AUC: 0.6960 - val_Precision: 0.3750 - val_Recall: 1.0000 - val_accuracy: 0.3750 - val_loss: 1.0616 - learning_rate: 5.0000e-04\n",
      "Fold 17/20\n",
      "Training fold shape: (760, 224, 224, 3)\n",
      "Validation fold shape: (40, 224, 224, 3)\n",
      "Epoch 1/50\n",
      "\u001b[1m12/12\u001b[0m \u001b[32m━━━━━━━━━━━━━━━━━━━━\u001b[0m\u001b[37m\u001b[0m \u001b[1m108s\u001b[0m 8s/step - AUC: 0.6653 - Precision: 0.6123 - Recall: 0.5126 - accuracy: 0.6261 - loss: 0.7273 - val_AUC: 0.7406 - val_Precision: 0.5926 - val_Recall: 0.8421 - val_accuracy: 0.6500 - val_loss: 0.6456 - learning_rate: 0.0010\n",
      "Epoch 2/50\n",
      "\u001b[1m12/12\u001b[0m \u001b[32m━━━━━━━━━━━━━━━━━━━━\u001b[0m\u001b[37m\u001b[0m \u001b[1m93s\u001b[0m 8s/step - AUC: 0.7394 - Precision: 0.6730 - Recall: 0.7326 - accuracy: 0.7028 - loss: 0.6051 - val_AUC: 0.5514 - val_Precision: 0.0000e+00 - val_Recall: 0.0000e+00 - val_accuracy: 0.5250 - val_loss: 0.9283 - learning_rate: 0.0010\n",
      "Epoch 3/50\n",
      "\u001b[1m12/12\u001b[0m \u001b[32m━━━━━━━━━━━━━━━━━━━━\u001b[0m\u001b[37m\u001b[0m \u001b[1m94s\u001b[0m 8s/step - AUC: 0.7560 - Precision: 0.7316 - Recall: 0.6449 - accuracy: 0.6988 - loss: 0.6073 - val_AUC: 0.7118 - val_Precision: 0.4750 - val_Recall: 1.0000 - val_accuracy: 0.4750 - val_loss: 0.7969 - learning_rate: 0.0010\n",
      "Epoch 4/50\n",
      "\u001b[1m12/12\u001b[0m \u001b[32m━━━━━━━━━━━━━━━━━━━━\u001b[0m\u001b[37m\u001b[0m \u001b[1m98s\u001b[0m 8s/step - AUC: 0.7883 - Precision: 0.7185 - Recall: 0.8072 - accuracy: 0.7508 - loss: 0.5518 - val_AUC: 0.7118 - val_Precision: 0.4750 - val_Recall: 1.0000 - val_accuracy: 0.4750 - val_loss: 0.8977 - learning_rate: 0.0010\n",
      "Epoch 5/50\n",
      "\u001b[1m12/12\u001b[0m \u001b[32m━━━━━━━━━━━━━━━━━━━━\u001b[0m\u001b[37m\u001b[0m \u001b[1m98s\u001b[0m 8s/step - AUC: 0.7732 - Precision: 0.7050 - Recall: 0.7914 - accuracy: 0.7344 - loss: 0.5695 - val_AUC: 0.6717 - val_Precision: 0.4750 - val_Recall: 1.0000 - val_accuracy: 0.4750 - val_loss: 1.0010 - learning_rate: 5.0000e-04\n",
      "Epoch 6/50\n",
      "\u001b[1m12/12\u001b[0m \u001b[32m━━━━━━━━━━━━━━━━━━━━\u001b[0m\u001b[37m\u001b[0m \u001b[1m101s\u001b[0m 8s/step - AUC: 0.7463 - Precision: 0.6925 - Recall: 0.7792 - accuracy: 0.7195 - loss: 0.5985 - val_AUC: 0.6729 - val_Precision: 0.4750 - val_Recall: 1.0000 - val_accuracy: 0.4750 - val_loss: 1.0219 - learning_rate: 5.0000e-04\n",
      "Fold 18/20\n",
      "Training fold shape: (760, 224, 224, 3)\n",
      "Validation fold shape: (40, 224, 224, 3)\n",
      "Epoch 1/50\n",
      "\u001b[1m12/12\u001b[0m \u001b[32m━━━━━━━━━━━━━━━━━━━━\u001b[0m\u001b[37m\u001b[0m \u001b[1m108s\u001b[0m 8s/step - AUC: 0.6307 - Precision: 0.5892 - Recall: 0.6235 - accuracy: 0.6041 - loss: 0.8465 - val_AUC: 0.7275 - val_Precision: 0.0000e+00 - val_Recall: 0.0000e+00 - val_accuracy: 0.5000 - val_loss: 0.7692 - learning_rate: 0.0010\n",
      "Epoch 2/50\n",
      "\u001b[1m12/12\u001b[0m \u001b[32m━━━━━━━━━━━━━━━━━━━━\u001b[0m\u001b[37m\u001b[0m \u001b[1m100s\u001b[0m 8s/step - AUC: 0.7395 - Precision: 0.6863 - Recall: 0.5357 - accuracy: 0.6667 - loss: 0.6469 - val_AUC: 0.7063 - val_Precision: 0.0000e+00 - val_Recall: 0.0000e+00 - val_accuracy: 0.5000 - val_loss: 0.8104 - learning_rate: 0.0010\n",
      "Epoch 3/50\n",
      "\u001b[1m12/12\u001b[0m \u001b[32m━━━━━━━━━━━━━━━━━━━━\u001b[0m\u001b[37m\u001b[0m \u001b[1m98s\u001b[0m 8s/step - AUC: 0.7396 - Precision: 0.7175 - Recall: 0.6233 - accuracy: 0.6847 - loss: 0.6091 - val_AUC: 0.6950 - val_Precision: 0.6071 - val_Recall: 0.8500 - val_accuracy: 0.6500 - val_loss: 0.6835 - learning_rate: 0.0010\n",
      "Epoch 4/50\n",
      "\u001b[1m12/12\u001b[0m \u001b[32m━━━━━━━━━━━━━━━━━━━━\u001b[0m\u001b[37m\u001b[0m \u001b[1m102s\u001b[0m 8s/step - AUC: 0.7611 - Precision: 0.6818 - Recall: 0.6736 - accuracy: 0.6976 - loss: 0.6246 - val_AUC: 0.6938 - val_Precision: 0.5484 - val_Recall: 0.8500 - val_accuracy: 0.5750 - val_loss: 0.6819 - learning_rate: 0.0010\n",
      "Epoch 5/50\n",
      "\u001b[1m12/12\u001b[0m \u001b[32m━━━━━━━━━━━━━━━━━━━━\u001b[0m\u001b[37m\u001b[0m \u001b[1m102s\u001b[0m 8s/step - AUC: 0.7884 - Precision: 0.7154 - Recall: 0.7855 - accuracy: 0.7449 - loss: 0.5670 - val_AUC: 0.7038 - val_Precision: 0.5667 - val_Recall: 0.8500 - val_accuracy: 0.6000 - val_loss: 0.7003 - learning_rate: 0.0010\n",
      "Epoch 6/50\n",
      "\u001b[1m12/12\u001b[0m \u001b[32m━━━━━━━━━━━━━━━━━━━━\u001b[0m\u001b[37m\u001b[0m \u001b[1m96s\u001b[0m 8s/step - AUC: 0.7743 - Precision: 0.7227 - Recall: 0.7969 - accuracy: 0.7473 - loss: 0.5705 - val_AUC: 0.6925 - val_Precision: 0.5312 - val_Recall: 0.8500 - val_accuracy: 0.5500 - val_loss: 0.7989 - learning_rate: 0.0010\n",
      "Epoch 7/50\n",
      "\u001b[1m12/12\u001b[0m \u001b[32m━━━━━━━━━━━━━━━━━━━━\u001b[0m\u001b[37m\u001b[0m \u001b[1m98s\u001b[0m 8s/step - AUC: 0.7816 - Precision: 0.7251 - Recall: 0.8037 - accuracy: 0.7530 - loss: 0.5556 - val_AUC: 0.6925 - val_Precision: 0.5312 - val_Recall: 0.8500 - val_accuracy: 0.5500 - val_loss: 0.7447 - learning_rate: 0.0010\n",
      "Epoch 8/50\n",
      "\u001b[1m12/12\u001b[0m \u001b[32m━━━━━━━━━━━━━━━━━━━━\u001b[0m\u001b[37m\u001b[0m \u001b[1m100s\u001b[0m 8s/step - AUC: 0.8003 - Precision: 0.7256 - Recall: 0.8197 - accuracy: 0.7608 - loss: 0.5372 - val_AUC: 0.6750 - val_Precision: 0.4865 - val_Recall: 0.9000 - val_accuracy: 0.4750 - val_loss: 0.9056 - learning_rate: 5.0000e-04\n",
      "Epoch 9/50\n",
      "\u001b[1m12/12\u001b[0m \u001b[32m━━━━━━━━━━━━━━━━━━━━\u001b[0m\u001b[37m\u001b[0m \u001b[1m97s\u001b[0m 8s/step - AUC: 0.8081 - Precision: 0.7321 - Recall: 0.8754 - accuracy: 0.7755 - loss: 0.5181 - val_AUC: 0.6513 - val_Precision: 0.5000 - val_Recall: 0.9500 - val_accuracy: 0.5000 - val_loss: 0.8412 - learning_rate: 5.0000e-04\n",
      "Fold 19/20\n",
      "Training fold shape: (760, 224, 224, 3)\n",
      "Validation fold shape: (40, 224, 224, 3)\n",
      "Epoch 1/50\n",
      "\u001b[1m12/12\u001b[0m \u001b[32m━━━━━━━━━━━━━━━━━━━━\u001b[0m\u001b[37m\u001b[0m \u001b[1m111s\u001b[0m 8s/step - AUC: 0.6444 - Precision: 0.5844 - Recall: 0.5622 - accuracy: 0.6054 - loss: 0.7513 - val_AUC: 0.8103 - val_Precision: 0.0000e+00 - val_Recall: 0.0000e+00 - val_accuracy: 0.2750 - val_loss: 1.0489 - learning_rate: 0.0010\n",
      "Epoch 2/50\n",
      "\u001b[1m12/12\u001b[0m \u001b[32m━━━━━━━━━━━━━━━━━━━━\u001b[0m\u001b[37m\u001b[0m \u001b[1m97s\u001b[0m 8s/step - AUC: 0.7372 - Precision: 0.6971 - Recall: 0.5597 - accuracy: 0.6772 - loss: 0.6334 - val_AUC: 0.7962 - val_Precision: 0.8621 - val_Recall: 0.8621 - val_accuracy: 0.8000 - val_loss: 0.6173 - learning_rate: 0.0010\n",
      "Epoch 3/50\n",
      "\u001b[1m12/12\u001b[0m \u001b[32m━━━━━━━━━━━━━━━━━━━━\u001b[0m\u001b[37m\u001b[0m \u001b[1m94s\u001b[0m 8s/step - AUC: 0.7298 - Precision: 0.6746 - Recall: 0.7382 - accuracy: 0.7081 - loss: 0.6084 - val_AUC: 0.8009 - val_Precision: 0.8125 - val_Recall: 0.8966 - val_accuracy: 0.7750 - val_loss: 0.4986 - learning_rate: 0.0010\n",
      "Epoch 4/50\n",
      "\u001b[1m12/12\u001b[0m \u001b[32m━━━━━━━━━━━━━━━━━━━━\u001b[0m\u001b[37m\u001b[0m \u001b[1m95s\u001b[0m 8s/step - AUC: 0.7863 - Precision: 0.7188 - Recall: 0.8248 - accuracy: 0.7540 - loss: 0.5455 - val_AUC: 0.7978 - val_Precision: 0.8333 - val_Recall: 0.8621 - val_accuracy: 0.7750 - val_loss: 0.5153 - learning_rate: 0.0010\n",
      "Epoch 5/50\n",
      "\u001b[1m12/12\u001b[0m \u001b[32m━━━━━━━━━━━━━━━━━━━━\u001b[0m\u001b[37m\u001b[0m \u001b[1m99s\u001b[0m 8s/step - AUC: 0.7893 - Precision: 0.7335 - Recall: 0.8240 - accuracy: 0.7736 - loss: 0.5394 - val_AUC: 0.7947 - val_Precision: 0.7568 - val_Recall: 0.9655 - val_accuracy: 0.7500 - val_loss: 0.5638 - learning_rate: 0.0010\n",
      "Epoch 6/50\n",
      "\u001b[1m12/12\u001b[0m \u001b[32m━━━━━━━━━━━━━━━━━━━━\u001b[0m\u001b[37m\u001b[0m \u001b[1m100s\u001b[0m 8s/step - AUC: 0.7452 - Precision: 0.6946 - Recall: 0.7096 - accuracy: 0.7080 - loss: 0.6008 - val_AUC: 0.7821 - val_Precision: 0.8000 - val_Recall: 0.9655 - val_accuracy: 0.8000 - val_loss: 0.5129 - learning_rate: 0.0010\n",
      "Epoch 7/50\n",
      "\u001b[1m12/12\u001b[0m \u001b[32m━━━━━━━━━━━━━━━━━━━━\u001b[0m\u001b[37m\u001b[0m \u001b[1m102s\u001b[0m 8s/step - AUC: 0.7722 - Precision: 0.7257 - Recall: 0.7379 - accuracy: 0.7318 - loss: 0.5718 - val_AUC: 0.7947 - val_Precision: 0.7368 - val_Recall: 0.9655 - val_accuracy: 0.7250 - val_loss: 0.5130 - learning_rate: 5.0000e-04\n",
      "Epoch 8/50\n",
      "\u001b[1m12/12\u001b[0m \u001b[32m━━━━━━━━━━━━━━━━━━━━\u001b[0m\u001b[37m\u001b[0m \u001b[1m101s\u001b[0m 8s/step - AUC: 0.8058 - Precision: 0.7337 - Recall: 0.7991 - accuracy: 0.7659 - loss: 0.5263 - val_AUC: 0.7994 - val_Precision: 0.7250 - val_Recall: 1.0000 - val_accuracy: 0.7250 - val_loss: 0.5556 - learning_rate: 5.0000e-04\n",
      "Fold 20/20\n",
      "Training fold shape: (760, 224, 224, 3)\n",
      "Validation fold shape: (40, 224, 224, 3)\n",
      "Epoch 1/50\n",
      "\u001b[1m12/12\u001b[0m \u001b[32m━━━━━━━━━━━━━━━━━━━━\u001b[0m\u001b[37m\u001b[0m \u001b[1m111s\u001b[0m 8s/step - AUC: 0.6618 - Precision: 0.6020 - Recall: 0.5549 - accuracy: 0.5998 - loss: 0.7066 - val_AUC: 0.7904 - val_Precision: 0.0000e+00 - val_Recall: 0.0000e+00 - val_accuracy: 0.5500 - val_loss: 0.6198 - learning_rate: 0.0010\n",
      "Epoch 2/50\n",
      "\u001b[1m12/12\u001b[0m \u001b[32m━━━━━━━━━━━━━━━━━━━━\u001b[0m\u001b[37m\u001b[0m \u001b[1m98s\u001b[0m 8s/step - AUC: 0.7429 - Precision: 0.7199 - Recall: 0.7088 - accuracy: 0.7028 - loss: 0.6297 - val_AUC: 0.8182 - val_Precision: 0.0000e+00 - val_Recall: 0.0000e+00 - val_accuracy: 0.5500 - val_loss: 0.6780 - learning_rate: 0.0010\n",
      "Epoch 3/50\n",
      "\u001b[1m12/12\u001b[0m \u001b[32m━━━━━━━━━━━━━━━━━━━━\u001b[0m\u001b[37m\u001b[0m \u001b[1m99s\u001b[0m 8s/step - AUC: 0.7304 - Precision: 0.7532 - Recall: 0.5666 - accuracy: 0.6825 - loss: 0.6565 - val_AUC: 0.7929 - val_Precision: 0.6818 - val_Recall: 0.8333 - val_accuracy: 0.7500 - val_loss: 0.5572 - learning_rate: 0.0010\n",
      "Epoch 4/50\n",
      "\u001b[1m12/12\u001b[0m \u001b[32m━━━━━━━━━━━━━━━━━━━━\u001b[0m\u001b[37m\u001b[0m \u001b[1m98s\u001b[0m 8s/step - AUC: 0.7475 - Precision: 0.6917 - Recall: 0.6336 - accuracy: 0.6866 - loss: 0.6372 - val_AUC: 0.7917 - val_Precision: 0.5926 - val_Recall: 0.8889 - val_accuracy: 0.6750 - val_loss: 0.6179 - learning_rate: 0.0010\n",
      "Epoch 5/50\n",
      "\u001b[1m12/12\u001b[0m \u001b[32m━━━━━━━━━━━━━━━━━━━━\u001b[0m\u001b[37m\u001b[0m \u001b[1m97s\u001b[0m 8s/step - AUC: 0.7599 - Precision: 0.7045 - Recall: 0.6829 - accuracy: 0.6954 - loss: 0.5974 - val_AUC: 0.7828 - val_Precision: 0.5714 - val_Recall: 0.8889 - val_accuracy: 0.6500 - val_loss: 0.6654 - learning_rate: 0.0010\n",
      "Epoch 6/50\n",
      "\u001b[1m12/12\u001b[0m \u001b[32m━━━━━━━━━━━━━━━━━━━━\u001b[0m\u001b[37m\u001b[0m \u001b[1m101s\u001b[0m 8s/step - AUC: 0.7732 - Precision: 0.7136 - Recall: 0.7714 - accuracy: 0.7466 - loss: 0.5691 - val_AUC: 0.7702 - val_Precision: 0.5926 - val_Recall: 0.8889 - val_accuracy: 0.6750 - val_loss: 0.6099 - learning_rate: 0.0010\n",
      "Epoch 7/50\n",
      "\u001b[1m12/12\u001b[0m \u001b[32m━━━━━━━━━━━━━━━━━━━━\u001b[0m\u001b[37m\u001b[0m \u001b[1m98s\u001b[0m 8s/step - AUC: 0.8010 - Precision: 0.7511 - Recall: 0.8284 - accuracy: 0.7747 - loss: 0.5273 - val_AUC: 0.7702 - val_Precision: 0.5926 - val_Recall: 0.8889 - val_accuracy: 0.6750 - val_loss: 0.6344 - learning_rate: 5.0000e-04\n",
      "Epoch 8/50\n",
      "\u001b[1m12/12\u001b[0m \u001b[32m━━━━━━━━━━━━━━━━━━━━\u001b[0m\u001b[37m\u001b[0m \u001b[1m98s\u001b[0m 8s/step - AUC: 0.7745 - Precision: 0.7354 - Recall: 0.8472 - accuracy: 0.7627 - loss: 0.5461 - val_AUC: 0.7740 - val_Precision: 0.5152 - val_Recall: 0.9444 - val_accuracy: 0.5750 - val_loss: 0.6860 - learning_rate: 5.0000e-04\n",
      "CoAtNet training completed and metrics saved to optimized_coatnet_metrics.csv\n",
      "\n",
      "Summary of training results:\n",
      "\n",
      "5-fold CV results:\n",
      "Average Test Accuracy: 0.6910\n",
      "Average F1 Score: 0.6270\n",
      "Average AUC-ROC: 0.7798\n",
      "Average Training Time: 801.76 seconds\n",
      "Average Epochs Run: 9.2\n",
      "\n",
      "10-fold CV results:\n",
      "Average Test Accuracy: 0.7135\n",
      "Average F1 Score: 0.7032\n",
      "Average AUC-ROC: 0.7765\n",
      "Average Training Time: 793.88 seconds\n",
      "Average Epochs Run: 8.4\n",
      "\n",
      "15-fold CV results:\n",
      "Average Test Accuracy: 0.7480\n",
      "Average F1 Score: 0.7819\n",
      "Average AUC-ROC: 0.7832\n",
      "Average Training Time: 849.48 seconds\n",
      "Average Epochs Run: 8.9\n",
      "\n",
      "20-fold CV results:\n",
      "Average Test Accuracy: 0.6452\n",
      "Average F1 Score: 0.5374\n",
      "Average AUC-ROC: 0.7671\n",
      "Average Training Time: 878.56 seconds\n",
      "Average Epochs Run: 8.9\n"
     ]
    }
   ],
   "source": [
    "import tensorflow as tf\n",
    "from tensorflow import keras\n",
    "from tensorflow.keras import layers\n",
    "import numpy as np\n",
    "import pandas as pd\n",
    "from sklearn.model_selection import KFold\n",
    "from sklearn.metrics import (\n",
    "    f1_score, confusion_matrix, log_loss, matthews_corrcoef, \n",
    "    balanced_accuracy_score, cohen_kappa_score\n",
    ")\n",
    "import time\n",
    "import gc\n",
    "import os\n",
    "\n",
    "# Enable memory growth to prevent GPU memory allocation issues\n",
    "physical_devices = tf.config.list_physical_devices('GPU')\n",
    "if physical_devices:\n",
    "    for device in physical_devices:\n",
    "        tf.config.experimental.set_memory_growth(device, True)\n",
    "    print(\"GPU memory growth enabled\")\n",
    "\n",
    "# Simplified Squeeze-and-Excitation block\n",
    "class SE(layers.Layer):\n",
    "    def __init__(self, channels, ratio=16, **kwargs):\n",
    "        super().__init__(**kwargs)\n",
    "        self.channels = channels\n",
    "        self.ratio = ratio\n",
    "        self.squeeze = layers.GlobalAveragePooling2D()\n",
    "        self.excitation = keras.Sequential([\n",
    "            layers.Dense(max(channels // ratio, 8), activation='relu'),\n",
    "            layers.Dense(channels, activation='sigmoid'),\n",
    "            layers.Reshape((1, 1, channels))\n",
    "        ])\n",
    "        \n",
    "    def call(self, inputs):\n",
    "        x = self.squeeze(inputs)\n",
    "        x = self.excitation(x)\n",
    "        return inputs * x\n",
    "\n",
    "# Optimized MBConv block\n",
    "class MBConv(layers.Layer):\n",
    "    def __init__(self, out_channels, stride, expand_ratio, **kwargs):\n",
    "        super().__init__(**kwargs)\n",
    "        self.out_channels = out_channels\n",
    "        self.stride = stride\n",
    "        self.expand_ratio = expand_ratio\n",
    "        \n",
    "    def build(self, input_shape):\n",
    "        in_channels = input_shape[-1]\n",
    "        hidden_dim = int(in_channels * self.expand_ratio)\n",
    "        \n",
    "        self.expand = None\n",
    "        if self.expand_ratio != 1:\n",
    "            self.expand = keras.Sequential([\n",
    "                layers.Conv2D(hidden_dim, 1, padding='same', use_bias=False),\n",
    "                layers.BatchNormalization(),\n",
    "                layers.Activation('swish')\n",
    "            ])\n",
    "            \n",
    "        self.depthwise = keras.Sequential([\n",
    "            layers.DepthwiseConv2D(3, self.stride, padding='same', use_bias=False),\n",
    "            layers.BatchNormalization(),\n",
    "            layers.Activation('swish')\n",
    "        ])\n",
    "        \n",
    "        self.se = SE(hidden_dim)\n",
    "        \n",
    "        self.project = keras.Sequential([\n",
    "            layers.Conv2D(self.out_channels, 1, padding='same', use_bias=False),\n",
    "            layers.BatchNormalization()\n",
    "        ])\n",
    "        \n",
    "        self.shortcut = input_shape[-1] == self.out_channels and self.stride == 1\n",
    "        \n",
    "    def call(self, inputs):\n",
    "        x = inputs\n",
    "        if self.expand is not None:\n",
    "            x = self.expand(x)\n",
    "        x = self.depthwise(x)\n",
    "        x = self.se(x)\n",
    "        x = self.project(x)\n",
    "        \n",
    "        if self.shortcut:\n",
    "            return inputs + x\n",
    "        return x\n",
    "\n",
    "# More efficient transformer implementation\n",
    "class TransformerBlock(layers.Layer):\n",
    "    def __init__(self, dim, num_heads, mlp_ratio=4, **kwargs):\n",
    "        super().__init__(**kwargs)\n",
    "        self.dim = dim\n",
    "        self.num_heads = num_heads\n",
    "        self.mlp_ratio = mlp_ratio\n",
    "        self.norm1 = layers.LayerNormalization(epsilon=1e-6)\n",
    "        self.attn = layers.MultiHeadAttention(\n",
    "            num_heads=num_heads, \n",
    "            key_dim=dim // num_heads\n",
    "        )\n",
    "        self.norm2 = layers.LayerNormalization(epsilon=1e-6)\n",
    "        self.mlp = keras.Sequential([\n",
    "            layers.Dense(int(dim * mlp_ratio), activation='gelu'),\n",
    "            layers.Dropout(0.1),  # Add dropout for regularization\n",
    "            layers.Dense(dim)\n",
    "        ])\n",
    "        self.dropout = layers.Dropout(0.1)\n",
    "        \n",
    "    def call(self, inputs, training=False):\n",
    "        # Apply layer normalization before attention (pre-norm formulation)\n",
    "        x1 = self.norm1(inputs)\n",
    "        \n",
    "        # Reshape for multi-head attention if needed\n",
    "        batch_size = tf.shape(inputs)[0]\n",
    "        height = tf.shape(inputs)[1]\n",
    "        width = tf.shape(inputs)[2]\n",
    "        \n",
    "        # Reshape to sequence format for attention\n",
    "        x1_flat = tf.reshape(x1, [batch_size, height * width, self.dim])\n",
    "        \n",
    "        # Apply attention\n",
    "        attention_output = self.attn(x1_flat, x1_flat)\n",
    "        attention_output = self.dropout(attention_output, training=training)\n",
    "        \n",
    "        # Reshape back to spatial format\n",
    "        attention_output = tf.reshape(attention_output, [batch_size, height, width, self.dim])\n",
    "        \n",
    "        # First residual connection\n",
    "        x2 = inputs + attention_output\n",
    "        \n",
    "        # Second normalization\n",
    "        x3 = self.norm2(x2)\n",
    "        \n",
    "        # MLP block\n",
    "        mlp_output = self.mlp(x3)\n",
    "        mlp_output = self.dropout(mlp_output, training=training)\n",
    "        \n",
    "        # Second residual connection\n",
    "        return x2 + mlp_output\n",
    "\n",
    "# Create optimized CoAtNet model with reduced complexity\n",
    "def create_coatnet_model(input_shape=(28, 28, 3), num_classes=1):\n",
    "    # Reduced dimensions for faster training\n",
    "    dims = [16, 32, 64, 128]  # Significantly reduced from original\n",
    "    num_blocks = [1, 1, 2, 2]  # Reduced number of blocks\n",
    "    \n",
    "    inputs = layers.Input(shape=input_shape)\n",
    "    \n",
    "    # Stage 0: Stem\n",
    "    x = layers.Conv2D(dims[0], 3, 2, padding='same')(inputs)\n",
    "    x = layers.BatchNormalization()(x)\n",
    "    x = layers.Activation('swish')(x)\n",
    "    \n",
    "    # Stage 1: MBConv\n",
    "    for _ in range(num_blocks[0]):\n",
    "        x = MBConv(dims[0], stride=1, expand_ratio=2)(x)  # Reduced expand ratio\n",
    "    \n",
    "    # Stage 2: MBConv + Transformer\n",
    "    x = MBConv(dims[1], stride=2, expand_ratio=2)(x)\n",
    "    for _ in range(num_blocks[1] - 1):\n",
    "        x = TransformerBlock(dims[1], num_heads=4)(x)  # Reduced heads\n",
    "    \n",
    "    # Stage 3: Transformer\n",
    "    x = layers.Conv2D(dims[2], 1, 2)(x)\n",
    "    for _ in range(num_blocks[2]):\n",
    "        x = TransformerBlock(dims[2], num_heads=4)(x)\n",
    "    \n",
    "    # Stage 4: Transformer\n",
    "    x = layers.Conv2D(dims[3], 1, 2)(x)\n",
    "    for _ in range(num_blocks[3]):\n",
    "        x = TransformerBlock(dims[3], num_heads=8)(x)\n",
    "    \n",
    "    # Head\n",
    "    x = layers.GlobalAveragePooling2D()(x)\n",
    "    x = layers.Dense(256, activation='relu')(x)  # Reduced from 512\n",
    "    x = layers.Dropout(0.3)(x)  # Increased dropout for better regularization\n",
    "    \n",
    "    # Output layer\n",
    "    if num_classes == 1:\n",
    "        outputs = layers.Dense(1, activation='sigmoid')(x)\n",
    "    else:\n",
    "        outputs = layers.Dense(num_classes, activation='softmax')(x)\n",
    "    \n",
    "    return keras.Model(inputs=inputs, outputs=outputs)\n",
    "\n",
    "# Function to calculate additional metrics\n",
    "def calculate_additional_metrics(y_true, y_pred, y_pred_proba=None):\n",
    "    tn, fp, fn, tp = confusion_matrix(y_true, y_pred).ravel()\n",
    "    \n",
    "    # Calculate metrics\n",
    "    specificity = tn / (tn + fp) if (tn + fp) > 0 else 0\n",
    "    mcc = matthews_corrcoef(y_true, y_pred)\n",
    "    balanced_acc = balanced_accuracy_score(y_true, y_pred)\n",
    "    kappa = cohen_kappa_score(y_true, y_pred)\n",
    "    \n",
    "    # Geometric mean\n",
    "    sensitivity = tp / (tp + fn) if (tp + fn) > 0 else 0\n",
    "    g_mean = np.sqrt(sensitivity * specificity) if (sensitivity * specificity) > 0 else 0\n",
    "    \n",
    "    # Youden's J statistic\n",
    "    youdens_j = sensitivity + specificity - 1\n",
    "    \n",
    "    # Log loss (if probabilities provided)\n",
    "    if y_pred_proba is not None:\n",
    "        log_loss_value = log_loss(y_true, y_pred_proba)\n",
    "    else:\n",
    "        log_loss_value = None\n",
    "    \n",
    "    return {\n",
    "        'Specificity': specificity,\n",
    "        'MCC': mcc,\n",
    "        'Log_Loss': log_loss_value,\n",
    "        'G_Mean': g_mean,\n",
    "        'Youdens_J': youdens_j,\n",
    "        'Balanced_Accuracy': balanced_acc,\n",
    "        'Cohens_Kappa': kappa\n",
    "    }\n",
    "\n",
    "# Main training function\n",
    "def train_coatnet(X_train_full, y_train_full, X_test, y_test, k_folds=[5, 10], epochs=50):\n",
    "    # Create metrics dataframe to store all results\n",
    "    all_metrics = []\n",
    "    \n",
    "    # Define callbacks for training\n",
    "    callbacks = [\n",
    "        keras.callbacks.EarlyStopping(\n",
    "            monitor='val_loss',\n",
    "            patience=5,\n",
    "            restore_best_weights=True,\n",
    "            min_delta=0.001\n",
    "        ),\n",
    "        keras.callbacks.ReduceLROnPlateau(\n",
    "            monitor='val_loss',\n",
    "            factor=0.5,\n",
    "            patience=3,\n",
    "            min_lr=1e-6\n",
    "        )\n",
    "    ]\n",
    "    \n",
    "    # Process each K-fold setting\n",
    "    for k in k_folds:\n",
    "        print(f\"\\n=== Starting {k}-fold cross-validation ===\")\n",
    "        \n",
    "        # Initialize K-fold cross-validation\n",
    "        kf = KFold(n_splits=k, shuffle=True, random_state=42)\n",
    "        \n",
    "        # Store metrics for each fold\n",
    "        fold_metrics = []\n",
    "        \n",
    "        # Run K-fold cross-validation\n",
    "        for fold, (train_idx, val_idx) in enumerate(kf.split(X_train_full)):\n",
    "            print(f'Fold {fold + 1}/{k}')\n",
    "            \n",
    "            # Split data\n",
    "            X_train_fold = X_train_full[train_idx]\n",
    "            y_train_fold = y_train_full[train_idx]\n",
    "            X_val_fold = X_train_full[val_idx]\n",
    "            y_val_fold = y_train_full[val_idx]\n",
    "            \n",
    "            print(f\"Training fold shape: {X_train_fold.shape}\")\n",
    "            print(f\"Validation fold shape: {X_val_fold.shape}\")\n",
    "            \n",
    "            # Create and compile model\n",
    "            model = create_coatnet_model(input_shape=X_train_full.shape[1:])\n",
    "            \n",
    "            # Use mixed precision for faster training\n",
    "            if physical_devices:\n",
    "                optimizer = keras.mixed_precision.LossScaleOptimizer(\n",
    "                    keras.optimizers.Adam(learning_rate=1e-3)\n",
    "                )\n",
    "            else:\n",
    "                optimizer = keras.optimizers.Adam(learning_rate=1e-3)\n",
    "                \n",
    "            model.compile(\n",
    "                optimizer=optimizer,\n",
    "                loss='binary_crossentropy',\n",
    "                metrics=['accuracy', 'Precision', 'Recall', 'AUC']\n",
    "            )\n",
    "            \n",
    "            # Train model\n",
    "            start_time = time.time()\n",
    "            history = model.fit(\n",
    "                X_train_fold, \n",
    "                y_train_fold,\n",
    "                validation_data=(X_val_fold, y_val_fold),\n",
    "                epochs=epochs,\n",
    "                batch_size=64,  # Larger batch size for faster training\n",
    "                callbacks=callbacks,\n",
    "                verbose=1\n",
    "            )\n",
    "            training_time = time.time() - start_time\n",
    "            \n",
    "            # Evaluate model\n",
    "            test_results = model.evaluate(X_test, y_test, verbose=0)\n",
    "            y_pred_proba = model.predict(X_test, verbose=0)\n",
    "            y_pred_binary = (y_pred_proba > 0.5).astype(int)\n",
    "            \n",
    "            # Calculate confusion matrix metrics\n",
    "            tn, fp, fn, tp = confusion_matrix(y_test, y_pred_binary).ravel()\n",
    "            \n",
    "            # Calculate additional metrics\n",
    "            additional_metrics = calculate_additional_metrics(\n",
    "                y_test, y_pred_binary, y_pred_proba\n",
    "            )\n",
    "            \n",
    "            # Store metrics\n",
    "            metrics = {\n",
    "                'Fold': fold + 1,\n",
    "                'K': k,\n",
    "                'Test_Accuracy': test_results[1],\n",
    "                'Train_Accuracy': history.history['accuracy'][-1],\n",
    "                'Precision': test_results[2],\n",
    "                'Recall': test_results[3],\n",
    "                'AUC_ROC': test_results[4],\n",
    "                'F1_Score': f1_score(y_test, y_pred_binary),\n",
    "                'Training_Loss': history.history['loss'][-1],\n",
    "                'Testing_Loss': test_results[0],\n",
    "                'Time_Taken': training_time,\n",
    "                'TP': tp,\n",
    "                'TN': tn,\n",
    "                'FP': fp,\n",
    "                'FN': fn,\n",
    "                'Epochs_Run': len(history.history['loss']),\n",
    "                **additional_metrics\n",
    "            }\n",
    "            \n",
    "            fold_metrics.append(metrics)\n",
    "            \n",
    "            # Clear memory\n",
    "            del model\n",
    "            del history\n",
    "            keras.backend.clear_session()\n",
    "            gc.collect()\n",
    "        \n",
    "        # Add to all metrics\n",
    "        all_metrics.extend(fold_metrics)\n",
    "    \n",
    "    # Convert to DataFrame and save\n",
    "    metrics_df = pd.DataFrame(all_metrics)\n",
    "    metrics_df.to_csv('outputresults/optimized_coatnet_metrics111.csv', index=False)\n",
    "    print(\"CoAtNet training completed and metrics saved to optimized_coatnet_metrics.csv\")\n",
    "    \n",
    "    return metrics_df\n",
    "\n",
    "# Main execution\n",
    "if __name__ == \"__main__\":\n",
    "    # Check if data exists (assuming X_train_full, y_train_full, X_test, y_test)\n",
    "    # You need to make sure these variables are defined before running\n",
    "    \n",
    "    # Convert data to correct format\n",
    "    if len(X_train_full.shape) == 3:  # If grayscale images\n",
    "        # Add channel dimension and repeat to make it 3 channels\n",
    "        X_train_full = np.expand_dims(X_train_full, axis=-1)\n",
    "        X_test = np.expand_dims(X_test, axis=-1)\n",
    "        \n",
    "        # Use np.tile to get correct shape\n",
    "        X_train_full = np.tile(X_train_full, (1, 1, 1, 3))\n",
    "        X_test = np.tile(X_test, (1, 1, 1, 3))\n",
    "    \n",
    "    print(\"Training data shape:\", X_train_full.shape)\n",
    "    print(\"Test data shape:\", X_test.shape)\n",
    "    \n",
    "    # Run training with both 5-fold and 10-fold CV\n",
    "    metrics_df = train_coatnet(\n",
    "        X_train_full, \n",
    "        y_train_full, \n",
    "        X_test, \n",
    "        y_test, \n",
    "        k_folds=[5, 10,15,20],\n",
    "        epochs=50\n",
    "    )\n",
    "    \n",
    "    # Print summary of results\n",
    "    print(\"\\nSummary of training results:\")\n",
    "    \n",
    "    # Group by K and calculate mean metrics\n",
    "    for k in [5, 10,15,20]:\n",
    "        k_metrics = metrics_df[metrics_df['K'] == k]\n",
    "        print(f\"\\n{k}-fold CV results:\")\n",
    "        print(f\"Average Test Accuracy: {k_metrics['Test_Accuracy'].mean():.4f}\")\n",
    "        print(f\"Average F1 Score: {k_metrics['F1_Score'].mean():.4f}\")\n",
    "        print(f\"Average AUC-ROC: {k_metrics['AUC_ROC'].mean():.4f}\")\n",
    "        print(f\"Average Training Time: {k_metrics['Time_Taken'].mean():.2f} seconds\")\n",
    "        print(f\"Average Epochs Run: {k_metrics['Epochs_Run'].mean():.1f}\")"
   ]
  },
  {
   "cell_type": "code",
   "execution_count": null,
   "id": "d4f6f08a-e638-4361-b3dd-9aeb9f8e773d",
   "metadata": {},
   "outputs": [],
   "source": []
  },
  {
   "cell_type": "code",
   "execution_count": null,
   "id": "e4e43c2c-96a6-4ec2-9e36-65c926c3bd4d",
   "metadata": {},
   "outputs": [],
   "source": []
  }
 ],
 "metadata": {
  "kernelspec": {
   "display_name": "Python [conda env:base] *",
   "language": "python",
   "name": "conda-base-py"
  },
  "language_info": {
   "codemirror_mode": {
    "name": "ipython",
    "version": 3
   },
   "file_extension": ".py",
   "mimetype": "text/x-python",
   "name": "python",
   "nbconvert_exporter": "python",
   "pygments_lexer": "ipython3",
   "version": "3.12.7"
  }
 },
 "nbformat": 4,
 "nbformat_minor": 5
}
